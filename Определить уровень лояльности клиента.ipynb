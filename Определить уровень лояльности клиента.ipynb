{
 "cells": [
  {
   "cell_type": "markdown",
   "metadata": {},
   "source": [
    "# Определить уровень лояльности клиента"
   ]
  },
  {
   "cell_type": "markdown",
   "metadata": {},
   "source": [
    "Заказчик исследования — большая телекоммуникационная компания, которая оказывает услуги на территории всего СНГ. Перед компанией стоит задача определить текущий уровень потребительской лояльности, или NPS (от англ. Net Promoter Score), среди клиентов из России.\n",
    "Чтобы определить уровень лояльности, клиентам задавали классический вопрос: «Оцените по шкале от 1 до 10 вероятность того, что вы порекомендуете компанию друзьям и знакомым».\n",
    "Компания провела опрос, необходимо подготовить дашборд с его итогами.\n",
    "\n",
    "Для оценки определили три группы:\n",
    "9-10 баллов — «cторонники» (англ. promoters);\n",
    "7-8 баллов — «нейтралы» (англ. passives);\n",
    "0-6 баллов — «критики» (англ. detractors).\n",
    "Итоговое значение NPS нужно расчитать по формуле: % «сторонников» - % «критиков»."
   ]
  },
  {
   "cell_type": "markdown",
   "metadata": {},
   "source": [
    "<a id='content'></a>\n",
    "**Оглавление**\n",
    "\n",
    "**[Загрузка данных и подготовка их к анализу](#part_1)**\n",
    "* [Импорт библиотек, загрузка данных](#part_1.1)\n",
    "* [Проверка данных](#part_1.2)\n",
    "\n",
    "**[Вывод](#part_2)**\n",
    "\n",
    "**Презентация**\n",
    "* Презентация в pdf формате: <>"
   ]
  },
  {
   "cell_type": "markdown",
   "metadata": {},
   "source": [
    "<a id='part_1'></a>\n",
    "## Загрузка данных и подготовка их к анализу"
   ]
  },
  {
   "cell_type": "markdown",
   "metadata": {},
   "source": [
    "<a id='part_1.1'></a>\n",
    "**Импорт библиотек, загрузка данных**  \n",
    "[*Назад к оглавлению*](#content)"
   ]
  },
  {
   "cell_type": "code",
   "execution_count": 1,
   "metadata": {
    "tags": [
     "aa81075c-062f-4de0-b5fe-14c73dc7468e"
    ]
   },
   "outputs": [],
   "source": [
    "#Импортируем библиотеки\n",
    "import pandas as pd\n",
    "import numpy as np\n",
    "\n",
    "from sqlalchemy import create_engine"
   ]
  },
  {
   "cell_type": "code",
   "execution_count": 2,
   "metadata": {},
   "outputs": [],
   "source": [
    "#Подключаемся к БД\n",
    "path_to_db = '/datasets/telecomm_csi.db'\n",
    "engine = create_engine(f'sqlite:///{path_to_db}', echo = False)"
   ]
  },
  {
   "cell_type": "code",
   "execution_count": 3,
   "metadata": {},
   "outputs": [],
   "source": [
    "#Запрос SQL\n",
    "query = \"\"\"\n",
    "SELECT user.user_id,\n",
    "        user.lt_day,\n",
    "        user.age,\n",
    "        user.gender_segment,\n",
    "        user.os_name,\n",
    "        user.cpe_type_name,\n",
    "        location.country,\n",
    "        location.city,\n",
    "        age_segment.title as age_segment,\n",
    "        traffic_segment.title as traffic_segment,\n",
    "        lifetime_segment.title as lifetime_segment,\n",
    "        user.nps_score \n",
    "FROM user\n",
    "LEFT JOIN location ON user.location_id=location.location_id\n",
    "LEFT JOIN age_segment ON user.age_gr_id=age_segment.age_gr_id\n",
    "LEFT JOIN traffic_segment ON user.tr_gr_id=traffic_segment.tr_gr_id\n",
    "LEFT JOIN lifetime_segment ON user.lt_gr_id=lifetime_segment.lt_gr_id;\n",
    "\"\"\""
   ]
  },
  {
   "cell_type": "code",
   "execution_count": 4,
   "metadata": {
    "scrolled": false
   },
   "outputs": [
    {
     "data": {
      "text/html": [
       "<div>\n",
       "<style scoped>\n",
       "    .dataframe tbody tr th:only-of-type {\n",
       "        vertical-align: middle;\n",
       "    }\n",
       "\n",
       "    .dataframe tbody tr th {\n",
       "        vertical-align: top;\n",
       "    }\n",
       "\n",
       "    .dataframe thead th {\n",
       "        text-align: right;\n",
       "    }\n",
       "</style>\n",
       "<table border=\"1\" class=\"dataframe\">\n",
       "  <thead>\n",
       "    <tr style=\"text-align: right;\">\n",
       "      <th></th>\n",
       "      <th>user_id</th>\n",
       "      <th>lt_day</th>\n",
       "      <th>age</th>\n",
       "      <th>gender_segment</th>\n",
       "      <th>os_name</th>\n",
       "      <th>cpe_type_name</th>\n",
       "      <th>country</th>\n",
       "      <th>city</th>\n",
       "      <th>age_segment</th>\n",
       "      <th>traffic_segment</th>\n",
       "      <th>lifetime_segment</th>\n",
       "      <th>nps_score</th>\n",
       "    </tr>\n",
       "  </thead>\n",
       "  <tbody>\n",
       "    <tr>\n",
       "      <td>0</td>\n",
       "      <td>A001A2</td>\n",
       "      <td>2320</td>\n",
       "      <td>45.0</td>\n",
       "      <td>1.0</td>\n",
       "      <td>ANDROID</td>\n",
       "      <td>SMARTPHONE</td>\n",
       "      <td>Россия</td>\n",
       "      <td>Уфа</td>\n",
       "      <td>05 45-54</td>\n",
       "      <td>04 1-5</td>\n",
       "      <td>08 36+</td>\n",
       "      <td>10</td>\n",
       "    </tr>\n",
       "    <tr>\n",
       "      <td>1</td>\n",
       "      <td>A001WF</td>\n",
       "      <td>2344</td>\n",
       "      <td>53.0</td>\n",
       "      <td>0.0</td>\n",
       "      <td>ANDROID</td>\n",
       "      <td>SMARTPHONE</td>\n",
       "      <td>Россия</td>\n",
       "      <td>Киров</td>\n",
       "      <td>05 45-54</td>\n",
       "      <td>04 1-5</td>\n",
       "      <td>08 36+</td>\n",
       "      <td>10</td>\n",
       "    </tr>\n",
       "    <tr>\n",
       "      <td>2</td>\n",
       "      <td>A003Q7</td>\n",
       "      <td>467</td>\n",
       "      <td>57.0</td>\n",
       "      <td>0.0</td>\n",
       "      <td>ANDROID</td>\n",
       "      <td>SMARTPHONE</td>\n",
       "      <td>Россия</td>\n",
       "      <td>Москва</td>\n",
       "      <td>06 55-64</td>\n",
       "      <td>08 20-25</td>\n",
       "      <td>06 13-24</td>\n",
       "      <td>10</td>\n",
       "    </tr>\n",
       "  </tbody>\n",
       "</table>\n",
       "</div>"
      ],
      "text/plain": [
       "  user_id  lt_day   age  gender_segment  os_name cpe_type_name country  \\\n",
       "0  A001A2    2320  45.0             1.0  ANDROID    SMARTPHONE  Россия   \n",
       "1  A001WF    2344  53.0             0.0  ANDROID    SMARTPHONE  Россия   \n",
       "2  A003Q7     467  57.0             0.0  ANDROID    SMARTPHONE  Россия   \n",
       "\n",
       "     city age_segment traffic_segment lifetime_segment  nps_score  \n",
       "0     Уфа    05 45-54          04 1-5           08 36+         10  \n",
       "1   Киров    05 45-54          04 1-5           08 36+         10  \n",
       "2  Москва    06 55-64        08 20-25         06 13-24         10  "
      ]
     },
     "execution_count": 4,
     "metadata": {},
     "output_type": "execute_result"
    }
   ],
   "source": [
    "#Сохрнаим выгрузку в переменную и посмотрим на таблицу\n",
    "df = pd.read_sql(query, engine)\n",
    "df.head(3)"
   ]
  },
  {
   "cell_type": "markdown",
   "metadata": {},
   "source": [
    "<a id='part_1.2'></a>\n",
    "**Проверка данных**  \n",
    "[*Назад к оглавлению*](#content)"
   ]
  },
  {
   "cell_type": "code",
   "execution_count": 5,
   "metadata": {
    "scrolled": true
   },
   "outputs": [
    {
     "name": "stdout",
     "output_type": "stream",
     "text": [
      "<class 'pandas.core.frame.DataFrame'>\n",
      "RangeIndex: 502493 entries, 0 to 502492\n",
      "Data columns (total 12 columns):\n",
      "user_id             502493 non-null object\n",
      "lt_day              502493 non-null int64\n",
      "age                 501939 non-null float64\n",
      "gender_segment      501192 non-null float64\n",
      "os_name             502493 non-null object\n",
      "cpe_type_name       502493 non-null object\n",
      "country             502493 non-null object\n",
      "city                502493 non-null object\n",
      "age_segment         502493 non-null object\n",
      "traffic_segment     502493 non-null object\n",
      "lifetime_segment    502493 non-null object\n",
      "nps_score           502493 non-null int64\n",
      "dtypes: float64(2), int64(2), object(8)\n",
      "memory usage: 46.0+ MB\n"
     ]
    }
   ],
   "source": [
    "#посмотрим общую информацию по таблице\n",
    "df.info()"
   ]
  },
  {
   "cell_type": "code",
   "execution_count": 6,
   "metadata": {},
   "outputs": [
    {
     "data": {
      "text/plain": [
       "0.003691593713743276"
      ]
     },
     "execution_count": 6,
     "metadata": {},
     "output_type": "execute_result"
    }
   ],
   "source": [
    "#посчитаем кол-во незаполненных данных\n",
    "(df['gender_segment'].isna().sum() + df['age'].isna().sum()) / df['user_id'].count()"
   ]
  },
  {
   "cell_type": "markdown",
   "metadata": {},
   "source": [
    "В двух солбцах есть незаполненные ячейки. Так как строк мало удалим их"
   ]
  },
  {
   "cell_type": "code",
   "execution_count": 7,
   "metadata": {
    "scrolled": true
   },
   "outputs": [],
   "source": [
    "#удалим строки с незаполненными данными\n",
    "df.dropna(subset=['gender_segment'], inplace=True)\n",
    "df.dropna(subset=['age'], inplace=True)"
   ]
  },
  {
   "cell_type": "code",
   "execution_count": 8,
   "metadata": {},
   "outputs": [
    {
     "data": {
      "text/plain": [
       "0"
      ]
     },
     "execution_count": 8,
     "metadata": {},
     "output_type": "execute_result"
    }
   ],
   "source": [
    "#проверим дубликаты\n",
    "df.duplicated().sum()"
   ]
  },
  {
   "cell_type": "code",
   "execution_count": 9,
   "metadata": {},
   "outputs": [
    {
     "data": {
      "text/plain": [
       "0"
      ]
     },
     "execution_count": 9,
     "metadata": {},
     "output_type": "execute_result"
    }
   ],
   "source": [
    "#проверим дубликаты по идентификатору клиента\n",
    "df['user_id'].duplicated().sum()"
   ]
  },
  {
   "cell_type": "code",
   "execution_count": 10,
   "metadata": {},
   "outputs": [],
   "source": [
    "#функция категоризации \n",
    "def is_new(x):\n",
    "    if x < 365:\n",
    "        return 'new'\n",
    "    return 'old'\n",
    "\n",
    "def nps_group(y):\n",
    "    if y <= 6:\n",
    "        return 'detractors'\n",
    "    if y <= 8:\n",
    "        return 'passives'\n",
    "    return 'promoters'\n",
    "\n",
    "def gender(z):\n",
    "    if z == 1:\n",
    "        return 'женщина'\n",
    "    return 'мужчина'"
   ]
  },
  {
   "cell_type": "code",
   "execution_count": 11,
   "metadata": {
    "scrolled": false
   },
   "outputs": [
    {
     "data": {
      "text/html": [
       "<div>\n",
       "<style scoped>\n",
       "    .dataframe tbody tr th:only-of-type {\n",
       "        vertical-align: middle;\n",
       "    }\n",
       "\n",
       "    .dataframe tbody tr th {\n",
       "        vertical-align: top;\n",
       "    }\n",
       "\n",
       "    .dataframe thead th {\n",
       "        text-align: right;\n",
       "    }\n",
       "</style>\n",
       "<table border=\"1\" class=\"dataframe\">\n",
       "  <thead>\n",
       "    <tr style=\"text-align: right;\">\n",
       "      <th></th>\n",
       "      <th>user_id</th>\n",
       "      <th>lt_day</th>\n",
       "      <th>age</th>\n",
       "      <th>gender_segment</th>\n",
       "      <th>os_name</th>\n",
       "      <th>cpe_type_name</th>\n",
       "      <th>country</th>\n",
       "      <th>city</th>\n",
       "      <th>age_segment</th>\n",
       "      <th>traffic_segment</th>\n",
       "      <th>lifetime_segment</th>\n",
       "      <th>nps_score</th>\n",
       "      <th>is_new</th>\n",
       "      <th>nps_group</th>\n",
       "    </tr>\n",
       "  </thead>\n",
       "  <tbody>\n",
       "    <tr>\n",
       "      <td>0</td>\n",
       "      <td>A001A2</td>\n",
       "      <td>2320</td>\n",
       "      <td>45.0</td>\n",
       "      <td>женщина</td>\n",
       "      <td>ANDROID</td>\n",
       "      <td>SMARTPHONE</td>\n",
       "      <td>Россия</td>\n",
       "      <td>Уфа</td>\n",
       "      <td>05 45-54</td>\n",
       "      <td>04 1-5</td>\n",
       "      <td>08 36+</td>\n",
       "      <td>10</td>\n",
       "      <td>old</td>\n",
       "      <td>promoters</td>\n",
       "    </tr>\n",
       "    <tr>\n",
       "      <td>1</td>\n",
       "      <td>A001WF</td>\n",
       "      <td>2344</td>\n",
       "      <td>53.0</td>\n",
       "      <td>мужчина</td>\n",
       "      <td>ANDROID</td>\n",
       "      <td>SMARTPHONE</td>\n",
       "      <td>Россия</td>\n",
       "      <td>Киров</td>\n",
       "      <td>05 45-54</td>\n",
       "      <td>04 1-5</td>\n",
       "      <td>08 36+</td>\n",
       "      <td>10</td>\n",
       "      <td>old</td>\n",
       "      <td>promoters</td>\n",
       "    </tr>\n",
       "    <tr>\n",
       "      <td>2</td>\n",
       "      <td>A003Q7</td>\n",
       "      <td>467</td>\n",
       "      <td>57.0</td>\n",
       "      <td>мужчина</td>\n",
       "      <td>ANDROID</td>\n",
       "      <td>SMARTPHONE</td>\n",
       "      <td>Россия</td>\n",
       "      <td>Москва</td>\n",
       "      <td>06 55-64</td>\n",
       "      <td>08 20-25</td>\n",
       "      <td>06 13-24</td>\n",
       "      <td>10</td>\n",
       "      <td>old</td>\n",
       "      <td>promoters</td>\n",
       "    </tr>\n",
       "  </tbody>\n",
       "</table>\n",
       "</div>"
      ],
      "text/plain": [
       "  user_id  lt_day   age gender_segment  os_name cpe_type_name country    city  \\\n",
       "0  A001A2    2320  45.0        женщина  ANDROID    SMARTPHONE  Россия     Уфа   \n",
       "1  A001WF    2344  53.0        мужчина  ANDROID    SMARTPHONE  Россия   Киров   \n",
       "2  A003Q7     467  57.0        мужчина  ANDROID    SMARTPHONE  Россия  Москва   \n",
       "\n",
       "  age_segment traffic_segment lifetime_segment  nps_score is_new  nps_group  \n",
       "0    05 45-54          04 1-5           08 36+         10    old  promoters  \n",
       "1    05 45-54          04 1-5           08 36+         10    old  promoters  \n",
       "2    06 55-64        08 20-25         06 13-24         10    old  promoters  "
      ]
     },
     "execution_count": 11,
     "metadata": {},
     "output_type": "execute_result"
    }
   ],
   "source": [
    "#зальем датсет через apply и функцию\n",
    "df['is_new'] = df['lt_day'].apply(is_new)\n",
    "df['nps_group'] = df['nps_score'].apply(nps_group)\n",
    "df['gender_segment'] = df['gender_segment'].apply(gender)\n",
    "df.head(3)"
   ]
  },
  {
   "cell_type": "code",
   "execution_count": 12,
   "metadata": {
    "scrolled": false
   },
   "outputs": [
    {
     "data": {
      "text/html": [
       "<div>\n",
       "<style scoped>\n",
       "    .dataframe tbody tr th:only-of-type {\n",
       "        vertical-align: middle;\n",
       "    }\n",
       "\n",
       "    .dataframe tbody tr th {\n",
       "        vertical-align: top;\n",
       "    }\n",
       "\n",
       "    .dataframe thead th {\n",
       "        text-align: right;\n",
       "    }\n",
       "</style>\n",
       "<table border=\"1\" class=\"dataframe\">\n",
       "  <thead>\n",
       "    <tr style=\"text-align: right;\">\n",
       "      <th></th>\n",
       "      <th>user_id</th>\n",
       "      <th>lt_day</th>\n",
       "      <th>age</th>\n",
       "      <th>gender_segment</th>\n",
       "      <th>os_name</th>\n",
       "      <th>cpe_type_name</th>\n",
       "      <th>country</th>\n",
       "      <th>city</th>\n",
       "      <th>age_segment</th>\n",
       "      <th>traffic_segment</th>\n",
       "      <th>lifetime_segment</th>\n",
       "      <th>nps_score</th>\n",
       "      <th>is_new</th>\n",
       "      <th>nps_group</th>\n",
       "    </tr>\n",
       "  </thead>\n",
       "  <tbody>\n",
       "    <tr>\n",
       "      <td>0</td>\n",
       "      <td>A001A2</td>\n",
       "      <td>2320</td>\n",
       "      <td>45.0</td>\n",
       "      <td>женщина</td>\n",
       "      <td>ANDROID</td>\n",
       "      <td>SMARTPHONE</td>\n",
       "      <td>Россия</td>\n",
       "      <td>Уфа</td>\n",
       "      <td>45-54</td>\n",
       "      <td>1-5</td>\n",
       "      <td>36+</td>\n",
       "      <td>10</td>\n",
       "      <td>old</td>\n",
       "      <td>promoters</td>\n",
       "    </tr>\n",
       "    <tr>\n",
       "      <td>1</td>\n",
       "      <td>A001WF</td>\n",
       "      <td>2344</td>\n",
       "      <td>53.0</td>\n",
       "      <td>мужчина</td>\n",
       "      <td>ANDROID</td>\n",
       "      <td>SMARTPHONE</td>\n",
       "      <td>Россия</td>\n",
       "      <td>Киров</td>\n",
       "      <td>45-54</td>\n",
       "      <td>1-5</td>\n",
       "      <td>36+</td>\n",
       "      <td>10</td>\n",
       "      <td>old</td>\n",
       "      <td>promoters</td>\n",
       "    </tr>\n",
       "    <tr>\n",
       "      <td>2</td>\n",
       "      <td>A003Q7</td>\n",
       "      <td>467</td>\n",
       "      <td>57.0</td>\n",
       "      <td>мужчина</td>\n",
       "      <td>ANDROID</td>\n",
       "      <td>SMARTPHONE</td>\n",
       "      <td>Россия</td>\n",
       "      <td>Москва</td>\n",
       "      <td>55-64</td>\n",
       "      <td>20-25</td>\n",
       "      <td>13-24</td>\n",
       "      <td>10</td>\n",
       "      <td>old</td>\n",
       "      <td>promoters</td>\n",
       "    </tr>\n",
       "  </tbody>\n",
       "</table>\n",
       "</div>"
      ],
      "text/plain": [
       "  user_id  lt_day   age gender_segment  os_name cpe_type_name country    city  \\\n",
       "0  A001A2    2320  45.0        женщина  ANDROID    SMARTPHONE  Россия     Уфа   \n",
       "1  A001WF    2344  53.0        мужчина  ANDROID    SMARTPHONE  Россия   Киров   \n",
       "2  A003Q7     467  57.0        мужчина  ANDROID    SMARTPHONE  Россия  Москва   \n",
       "\n",
       "  age_segment traffic_segment lifetime_segment  nps_score is_new  nps_group  \n",
       "0       45-54             1-5              36+         10    old  promoters  \n",
       "1       45-54             1-5              36+         10    old  promoters  \n",
       "2       55-64           20-25            13-24         10    old  promoters  "
      ]
     },
     "execution_count": 12,
     "metadata": {},
     "output_type": "execute_result"
    }
   ],
   "source": [
    "df['age_segment'] = df['age_segment'].str.split().str[1]\n",
    "df['traffic_segment'] = df['traffic_segment'].str.split().str[1]\n",
    "df['lifetime_segment'] = df['lifetime_segment'].str.split().str[1]\n",
    "df.head(3)"
   ]
  },
  {
   "cell_type": "code",
   "execution_count": 13,
   "metadata": {
    "scrolled": false
   },
   "outputs": [
    {
     "name": "stdout",
     "output_type": "stream",
     "text": [
      "<class 'pandas.core.frame.DataFrame'>\n",
      "Int64Index: 501152 entries, 0 to 502492\n",
      "Data columns (total 14 columns):\n",
      "user_id             501152 non-null object\n",
      "lt_day              501152 non-null int64\n",
      "age                 501152 non-null float64\n",
      "gender_segment      501152 non-null object\n",
      "os_name             501152 non-null object\n",
      "cpe_type_name       501152 non-null object\n",
      "country             501152 non-null object\n",
      "city                501152 non-null object\n",
      "age_segment         501152 non-null object\n",
      "traffic_segment     501152 non-null object\n",
      "lifetime_segment    501152 non-null object\n",
      "nps_score           501152 non-null int64\n",
      "is_new              501152 non-null object\n",
      "nps_group           501152 non-null object\n",
      "dtypes: float64(1), int64(2), object(11)\n",
      "memory usage: 57.4+ MB\n"
     ]
    }
   ],
   "source": [
    "#посмотрим общую информацию по таблице\n",
    "df.info()"
   ]
  },
  {
   "cell_type": "markdown",
   "metadata": {},
   "source": [
    "<a id='part_2'></a>\n",
    "## Вывод\n",
    "[*Назад к оглавлению*](#content)"
   ]
  },
  {
   "cell_type": "markdown",
   "metadata": {},
   "source": [
    "В файле 12 столбцов, столбцы содержат данные о:  \n",
    "***user_id*** — Идентификатор клиента;  \n",
    "***lt_day*** — Количество дней «жизни» клиента;  \n",
    "***age*** — Возраст;  \n",
    "***gender_segment*** — Пол;  \n",
    "***os_name*** — Тип операционной системы;  \n",
    "***cpe_type_name*** — Тип устройства;  \n",
    "***country*** — Страна проживания;  \n",
    "***city*** — Город проживания;  \n",
    "***age_segment*** — Возрастной сегмент;  \n",
    "***traffic_segment*** — Сегмент по объёму потребляемого трафика;  \n",
    "***lifetime_segment*** — Сегмент по количеству дней «жизни»;  \n",
    "***nps_score*** — Оценка клиента в NPS-опросе;  \n",
    "\n",
    "Для анализа добавили 2 столбца: \n",
    "***is_new*** — Поле хранит информацию о том, является ли клиент новым (новые клиенты, если количество дней «жизни» составляет не более 365 дней и столбец);  \n",
    "***nps_group*** — Поле хранит информацию о том, к какой группе относится оценка клиента в опросе.  \n",
    "\n",
    "Для удобства преобразовали столбцы ***gender_segment***, ***age_segment***, ***traffic_segment***, ***lifetime_segment***.  \n",
    "Удалили строки с незаполнеными данными."
   ]
  },
  {
   "cell_type": "code",
   "execution_count": 14,
   "metadata": {},
   "outputs": [],
   "source": [
    "#вывод файла\n",
    "df.to_csv('file.csv', index=False, sep=';')"
   ]
  }
 ],
 "metadata": {
  "ExecuteTimeLog": [
   {
    "duration": 752,
    "start_time": "2021-10-03T17:40:52.731Z"
   },
   {
    "duration": 20,
    "start_time": "2021-10-03T17:40:53.486Z"
   },
   {
    "duration": 4,
    "start_time": "2021-10-03T17:41:04.638Z"
   },
   {
    "duration": 461,
    "start_time": "2021-10-03T17:41:04.912Z"
   },
   {
    "duration": 284,
    "start_time": "2021-10-03T17:41:05.376Z"
   },
   {
    "duration": 574,
    "start_time": "2021-10-06T07:55:05.029Z"
   },
   {
    "duration": 6,
    "start_time": "2021-10-06T07:55:05.605Z"
   },
   {
    "duration": 3,
    "start_time": "2021-10-06T07:55:14.685Z"
   },
   {
    "duration": 406,
    "start_time": "2021-10-06T07:55:15.522Z"
   },
   {
    "duration": 67,
    "start_time": "2021-10-06T07:55:15.929Z"
   },
   {
    "duration": 859,
    "start_time": "2021-12-04T13:09:36.257Z"
   },
   {
    "duration": 10,
    "start_time": "2021-12-04T13:09:41.093Z"
   },
   {
    "duration": 3,
    "start_time": "2021-12-04T13:09:52.452Z"
   },
   {
    "duration": 399,
    "start_time": "2021-12-04T13:09:56.003Z"
   },
   {
    "duration": 283,
    "start_time": "2021-12-04T13:10:10.496Z"
   },
   {
    "duration": 4,
    "start_time": "2021-12-04T13:19:04.738Z"
   },
   {
    "duration": 11,
    "start_time": "2021-12-04T13:19:06.356Z"
   },
   {
    "duration": 3,
    "start_time": "2021-12-04T13:19:25.505Z"
   },
   {
    "duration": 389,
    "start_time": "2021-12-04T13:19:27.085Z"
   },
   {
    "duration": 127,
    "start_time": "2021-12-04T13:19:49.626Z"
   },
   {
    "duration": 4,
    "start_time": "2021-12-04T13:19:51.837Z"
   },
   {
    "duration": 3,
    "start_time": "2021-12-04T13:20:01.449Z"
   },
   {
    "duration": 4692,
    "start_time": "2021-12-04T13:20:03.163Z"
   },
   {
    "duration": 952,
    "start_time": "2021-12-04T13:23:52.439Z"
   },
   {
    "duration": 10,
    "start_time": "2021-12-04T13:23:53.393Z"
   },
   {
    "duration": 7,
    "start_time": "2021-12-04T13:23:53.406Z"
   },
   {
    "duration": 4207,
    "start_time": "2021-12-04T13:23:53.416Z"
   },
   {
    "duration": 385,
    "start_time": "2021-12-04T13:23:57.625Z"
   },
   {
    "duration": 380,
    "start_time": "2021-12-04T13:23:58.013Z"
   },
   {
    "duration": 414,
    "start_time": "2021-12-04T13:23:58.396Z"
   },
   {
    "duration": 380,
    "start_time": "2021-12-04T13:23:58.813Z"
   },
   {
    "duration": 102,
    "start_time": "2021-12-04T13:23:59.196Z"
   },
   {
    "duration": 14,
    "start_time": "2021-12-04T13:54:35.483Z"
   },
   {
    "duration": 43,
    "start_time": "2021-12-04T13:55:21.656Z"
   },
   {
    "duration": 56,
    "start_time": "2021-12-04T13:56:12.044Z"
   },
   {
    "duration": 941,
    "start_time": "2021-12-04T13:56:40.157Z"
   },
   {
    "duration": 12,
    "start_time": "2021-12-04T13:56:41.100Z"
   },
   {
    "duration": 4,
    "start_time": "2021-12-04T13:56:41.116Z"
   },
   {
    "duration": 5857,
    "start_time": "2021-12-04T13:56:41.123Z"
   },
   {
    "duration": 66,
    "start_time": "2021-12-04T13:56:46.984Z"
   },
   {
    "duration": 145,
    "start_time": "2021-12-04T13:56:47.071Z"
   },
   {
    "duration": 798,
    "start_time": "2021-12-04T15:57:10.707Z"
   },
   {
    "duration": 10,
    "start_time": "2021-12-04T15:57:11.508Z"
   },
   {
    "duration": 4,
    "start_time": "2021-12-04T15:57:11.522Z"
   },
   {
    "duration": 5320,
    "start_time": "2021-12-04T15:57:11.529Z"
   },
   {
    "duration": 57,
    "start_time": "2021-12-04T15:57:16.851Z"
   },
   {
    "duration": 118,
    "start_time": "2021-12-04T15:57:16.910Z"
   },
   {
    "duration": 284,
    "start_time": "2021-12-04T16:00:38.059Z"
   },
   {
    "duration": 124,
    "start_time": "2021-12-04T16:01:02.241Z"
   },
   {
    "duration": 689,
    "start_time": "2021-12-04T16:01:11.242Z"
   },
   {
    "duration": 113,
    "start_time": "2021-12-04T16:01:26.311Z"
   },
   {
    "duration": 834,
    "start_time": "2021-12-04T16:18:53.770Z"
   },
   {
    "duration": 11,
    "start_time": "2021-12-04T16:18:56.940Z"
   },
   {
    "duration": 4,
    "start_time": "2021-12-04T16:18:59.094Z"
   },
   {
    "duration": 11774,
    "start_time": "2021-12-04T16:19:12.502Z"
   },
   {
    "duration": 382,
    "start_time": "2021-12-04T16:36:08.643Z"
   },
   {
    "duration": 7924,
    "start_time": "2021-12-04T16:36:31.819Z"
   },
   {
    "duration": 266,
    "start_time": "2021-12-04T16:36:39.746Z"
   },
   {
    "duration": 918,
    "start_time": "2021-12-04T16:36:50.665Z"
   },
   {
    "duration": 14,
    "start_time": "2021-12-04T16:36:52.583Z"
   },
   {
    "duration": 8,
    "start_time": "2021-12-04T16:36:56.458Z"
   },
   {
    "duration": 5407,
    "start_time": "2021-12-04T16:36:58.511Z"
   },
   {
    "duration": 58,
    "start_time": "2021-12-04T16:37:03.921Z"
   },
   {
    "duration": 482,
    "start_time": "2021-12-04T16:37:06.954Z"
   },
   {
    "duration": 8237,
    "start_time": "2021-12-04T16:37:27.821Z"
   },
   {
    "duration": 806,
    "start_time": "2021-12-04T16:41:41.723Z"
   },
   {
    "duration": 11,
    "start_time": "2021-12-04T16:41:42.532Z"
   },
   {
    "duration": 21,
    "start_time": "2021-12-04T16:41:42.549Z"
   },
   {
    "duration": 5480,
    "start_time": "2021-12-04T16:41:42.572Z"
   },
   {
    "duration": 62,
    "start_time": "2021-12-04T16:41:48.055Z"
   },
   {
    "duration": 7990,
    "start_time": "2021-12-04T16:41:48.120Z"
   },
   {
    "duration": 12301,
    "start_time": "2021-12-04T16:41:56.114Z"
   },
   {
    "duration": 825,
    "start_time": "2021-12-04T16:53:38.728Z"
   },
   {
    "duration": 16,
    "start_time": "2021-12-04T16:53:39.556Z"
   },
   {
    "duration": 5,
    "start_time": "2021-12-04T16:53:39.578Z"
   },
   {
    "duration": 6820,
    "start_time": "2021-12-04T16:53:39.585Z"
   },
   {
    "duration": 77,
    "start_time": "2021-12-04T16:53:46.408Z"
   },
   {
    "duration": 10309,
    "start_time": "2021-12-04T16:53:46.488Z"
   },
   {
    "duration": 863,
    "start_time": "2021-12-04T17:06:33.432Z"
   },
   {
    "duration": 11,
    "start_time": "2021-12-04T17:06:34.299Z"
   },
   {
    "duration": 4,
    "start_time": "2021-12-04T17:06:34.313Z"
   },
   {
    "duration": 5333,
    "start_time": "2021-12-04T17:06:34.320Z"
   },
   {
    "duration": 54,
    "start_time": "2021-12-04T17:06:39.656Z"
   },
   {
    "duration": 9328,
    "start_time": "2021-12-04T17:06:39.712Z"
   },
   {
    "duration": 4,
    "start_time": "2021-12-04T19:03:29.941Z"
   },
   {
    "duration": 4,
    "start_time": "2021-12-04T19:03:31.269Z"
   },
   {
    "duration": 4,
    "start_time": "2021-12-04T19:03:33.441Z"
   },
   {
    "duration": 756,
    "start_time": "2021-12-04T19:04:04.014Z"
   },
   {
    "duration": 4,
    "start_time": "2021-12-04T19:06:13.856Z"
   },
   {
    "duration": 662,
    "start_time": "2021-12-04T19:06:15.925Z"
   },
   {
    "duration": 3,
    "start_time": "2021-12-04T19:08:34.002Z"
   },
   {
    "duration": 3,
    "start_time": "2021-12-04T19:08:36.367Z"
   },
   {
    "duration": 827,
    "start_time": "2021-12-04T19:08:47.006Z"
   },
   {
    "duration": 12,
    "start_time": "2021-12-04T19:08:48.448Z"
   },
   {
    "duration": 4,
    "start_time": "2021-12-04T19:08:53.654Z"
   },
   {
    "duration": 5233,
    "start_time": "2021-12-04T19:08:55.747Z"
   },
   {
    "duration": 3,
    "start_time": "2021-12-04T19:10:46.129Z"
   },
   {
    "duration": 6482,
    "start_time": "2021-12-04T19:10:47.581Z"
   },
   {
    "duration": 4,
    "start_time": "2021-12-04T19:13:23.372Z"
   },
   {
    "duration": 2265,
    "start_time": "2021-12-04T19:13:25.857Z"
   },
   {
    "duration": 3,
    "start_time": "2021-12-04T19:23:23.967Z"
   },
   {
    "duration": 5005,
    "start_time": "2021-12-04T19:23:25.504Z"
   },
   {
    "duration": 4,
    "start_time": "2021-12-04T19:24:43.049Z"
   },
   {
    "duration": 5007,
    "start_time": "2021-12-04T19:24:44.025Z"
   },
   {
    "duration": 4,
    "start_time": "2021-12-04T19:29:19.927Z"
   },
   {
    "duration": 4951,
    "start_time": "2021-12-04T19:29:21.884Z"
   },
   {
    "duration": 5036,
    "start_time": "2021-12-04T19:45:51.914Z"
   },
   {
    "duration": 834,
    "start_time": "2021-12-04T19:50:40.770Z"
   },
   {
    "duration": 14,
    "start_time": "2021-12-04T19:50:41.608Z"
   },
   {
    "duration": 5,
    "start_time": "2021-12-04T19:50:41.626Z"
   },
   {
    "duration": 5407,
    "start_time": "2021-12-04T19:50:41.633Z"
   },
   {
    "duration": 3,
    "start_time": "2021-12-04T19:50:47.042Z"
   },
   {
    "duration": 365,
    "start_time": "2021-12-04T20:01:05.711Z"
   },
   {
    "duration": 5,
    "start_time": "2021-12-04T20:11:28.606Z"
   },
   {
    "duration": 176,
    "start_time": "2021-12-04T20:11:33.344Z"
   },
   {
    "duration": 161,
    "start_time": "2021-12-04T20:11:50.890Z"
   },
   {
    "duration": 4,
    "start_time": "2021-12-04T20:15:54.849Z"
   },
   {
    "duration": 896,
    "start_time": "2021-12-04T20:16:01.348Z"
   },
   {
    "duration": 10,
    "start_time": "2021-12-04T20:16:02.247Z"
   },
   {
    "duration": 5,
    "start_time": "2021-12-04T20:16:02.269Z"
   },
   {
    "duration": 5341,
    "start_time": "2021-12-04T20:16:02.278Z"
   },
   {
    "duration": 5,
    "start_time": "2021-12-04T20:16:07.621Z"
   },
   {
    "duration": 338,
    "start_time": "2021-12-04T20:16:07.628Z"
   },
   {
    "duration": 2,
    "start_time": "2021-12-04T20:16:07.969Z"
   },
   {
    "duration": 312,
    "start_time": "2021-12-04T20:16:21.148Z"
   },
   {
    "duration": 873,
    "start_time": "2021-12-04T20:20:02.309Z"
   },
   {
    "duration": 12,
    "start_time": "2021-12-04T20:20:03.185Z"
   },
   {
    "duration": 4,
    "start_time": "2021-12-04T20:20:03.200Z"
   },
   {
    "duration": 5769,
    "start_time": "2021-12-04T20:20:03.206Z"
   },
   {
    "duration": 5,
    "start_time": "2021-12-04T20:20:08.978Z"
   },
   {
    "duration": 336,
    "start_time": "2021-12-04T20:20:08.985Z"
   },
   {
    "duration": 2,
    "start_time": "2021-12-04T20:20:09.323Z"
   },
   {
    "duration": 1013,
    "start_time": "2021-12-04T20:27:48.577Z"
   },
   {
    "duration": 375,
    "start_time": "2021-12-04T20:50:47.679Z"
   },
   {
    "duration": 1409,
    "start_time": "2021-12-04T20:52:42.635Z"
   },
   {
    "duration": 1288,
    "start_time": "2021-12-04T20:55:17.416Z"
   },
   {
    "duration": 260,
    "start_time": "2021-12-04T20:55:29.716Z"
   },
   {
    "duration": 319,
    "start_time": "2021-12-04T20:55:40.225Z"
   },
   {
    "duration": 1238,
    "start_time": "2021-12-04T20:58:00.314Z"
   },
   {
    "duration": 4984,
    "start_time": "2021-12-04T20:58:29.528Z"
   },
   {
    "duration": 468,
    "start_time": "2021-12-04T21:00:09.662Z"
   },
   {
    "duration": 940,
    "start_time": "2021-12-04T21:00:44.574Z"
   },
   {
    "duration": 11,
    "start_time": "2021-12-04T21:00:45.516Z"
   },
   {
    "duration": 3,
    "start_time": "2021-12-04T21:00:45.531Z"
   },
   {
    "duration": 5993,
    "start_time": "2021-12-04T21:00:45.537Z"
   },
   {
    "duration": 5,
    "start_time": "2021-12-04T21:00:51.532Z"
   },
   {
    "duration": 415,
    "start_time": "2021-12-04T21:00:51.539Z"
   },
   {
    "duration": 5629,
    "start_time": "2021-12-04T21:00:51.957Z"
   },
   {
    "duration": 1052,
    "start_time": "2021-12-04T21:00:57.589Z"
   },
   {
    "duration": 3,
    "start_time": "2021-12-04T21:00:58.644Z"
   },
   {
    "duration": 853,
    "start_time": "2021-12-04T21:11:15.924Z"
   },
   {
    "duration": 11,
    "start_time": "2021-12-04T21:11:19.702Z"
   },
   {
    "duration": 4,
    "start_time": "2021-12-04T21:11:22.296Z"
   },
   {
    "duration": 6509,
    "start_time": "2021-12-04T21:11:40.723Z"
   },
   {
    "duration": 3,
    "start_time": "2021-12-04T21:19:25.893Z"
   },
   {
    "duration": 5,
    "start_time": "2021-12-04T21:28:46.340Z"
   },
   {
    "duration": 1492,
    "start_time": "2021-12-04T21:35:21.380Z"
   },
   {
    "duration": 327,
    "start_time": "2021-12-04T21:35:59.077Z"
   },
   {
    "duration": 427,
    "start_time": "2021-12-04T21:47:49.206Z"
   },
   {
    "duration": 1012,
    "start_time": "2021-12-04T21:48:09.717Z"
   },
   {
    "duration": 5333,
    "start_time": "2021-12-04T21:48:24.180Z"
   },
   {
    "duration": 798,
    "start_time": "2021-12-04T21:54:24.999Z"
   },
   {
    "duration": 11,
    "start_time": "2021-12-04T21:54:25.800Z"
   },
   {
    "duration": 3,
    "start_time": "2021-12-04T21:54:25.814Z"
   },
   {
    "duration": 5188,
    "start_time": "2021-12-04T21:54:25.819Z"
   },
   {
    "duration": 422,
    "start_time": "2021-12-04T21:54:31.009Z"
   },
   {
    "duration": 1421,
    "start_time": "2021-12-04T21:54:31.433Z"
   },
   {
    "duration": 365,
    "start_time": "2021-12-04T21:54:32.857Z"
   },
   {
    "duration": 6,
    "start_time": "2021-12-04T21:54:33.225Z"
   },
   {
    "duration": 470,
    "start_time": "2021-12-04T21:54:33.234Z"
   },
   {
    "duration": 4838,
    "start_time": "2021-12-04T21:54:33.707Z"
   },
   {
    "duration": 900,
    "start_time": "2021-12-04T21:54:38.548Z"
   },
   {
    "duration": 2,
    "start_time": "2021-12-04T21:54:39.451Z"
   },
   {
    "duration": 852,
    "start_time": "2021-12-04T21:57:47.353Z"
   },
   {
    "duration": 11,
    "start_time": "2021-12-04T21:57:49.488Z"
   },
   {
    "duration": 4,
    "start_time": "2021-12-04T21:57:50.283Z"
   },
   {
    "duration": 5299,
    "start_time": "2021-12-04T21:57:51.160Z"
   },
   {
    "duration": 408,
    "start_time": "2021-12-04T21:57:57.998Z"
   },
   {
    "duration": 8,
    "start_time": "2021-12-04T21:58:30.017Z"
   },
   {
    "duration": 8,
    "start_time": "2021-12-04T21:58:54.624Z"
   },
   {
    "duration": 10,
    "start_time": "2021-12-04T21:59:31.341Z"
   },
   {
    "duration": 1703,
    "start_time": "2021-12-04T22:00:24.057Z"
   },
   {
    "duration": 262,
    "start_time": "2021-12-04T22:00:48.756Z"
   },
   {
    "duration": 475,
    "start_time": "2021-12-04T22:00:56.932Z"
   },
   {
    "duration": 60,
    "start_time": "2021-12-04T22:01:03.580Z"
   },
   {
    "duration": 60,
    "start_time": "2021-12-04T22:01:17.884Z"
   },
   {
    "duration": 190,
    "start_time": "2021-12-04T22:02:08.287Z"
   },
   {
    "duration": 944,
    "start_time": "2021-12-04T22:02:41.583Z"
   },
   {
    "duration": 1485,
    "start_time": "2021-12-04T22:03:09.001Z"
   },
   {
    "duration": 311,
    "start_time": "2021-12-04T22:03:12.983Z"
   },
   {
    "duration": 6,
    "start_time": "2021-12-04T22:03:15.191Z"
   },
   {
    "duration": 428,
    "start_time": "2021-12-04T22:03:15.961Z"
   },
   {
    "duration": 4601,
    "start_time": "2021-12-04T22:03:16.711Z"
   },
   {
    "duration": 978,
    "start_time": "2021-12-04T22:03:23.957Z"
   },
   {
    "duration": 561,
    "start_time": "2021-12-04T22:03:40.996Z"
   },
   {
    "duration": 802,
    "start_time": "2021-12-04T22:07:09.489Z"
   },
   {
    "duration": 10,
    "start_time": "2021-12-04T22:07:10.294Z"
   },
   {
    "duration": 4,
    "start_time": "2021-12-04T22:07:10.311Z"
   },
   {
    "duration": 5270,
    "start_time": "2021-12-04T22:07:10.317Z"
   },
   {
    "duration": 413,
    "start_time": "2021-12-04T22:07:15.589Z"
   },
   {
    "duration": 90,
    "start_time": "2021-12-04T22:07:16.004Z"
   },
   {
    "duration": 455,
    "start_time": "2021-12-04T22:07:16.100Z"
   },
   {
    "duration": 1370,
    "start_time": "2021-12-04T22:07:16.559Z"
   },
   {
    "duration": 336,
    "start_time": "2021-12-04T22:07:17.932Z"
   },
   {
    "duration": 5,
    "start_time": "2021-12-04T22:07:18.271Z"
   },
   {
    "duration": 485,
    "start_time": "2021-12-04T22:07:18.278Z"
   },
   {
    "duration": 4382,
    "start_time": "2021-12-04T22:07:18.768Z"
   },
   {
    "duration": 772,
    "start_time": "2021-12-04T22:07:23.152Z"
   },
   {
    "duration": 7174,
    "start_time": "2021-12-04T22:07:23.926Z"
   },
   {
    "duration": 872,
    "start_time": "2021-12-04T22:08:17.381Z"
   },
   {
    "duration": 18,
    "start_time": "2021-12-04T22:08:18.256Z"
   },
   {
    "duration": 6,
    "start_time": "2021-12-04T22:08:18.278Z"
   },
   {
    "duration": 5597,
    "start_time": "2021-12-04T22:08:18.288Z"
   },
   {
    "duration": 437,
    "start_time": "2021-12-04T22:08:23.887Z"
   },
   {
    "duration": 80,
    "start_time": "2021-12-04T22:08:24.327Z"
   },
   {
    "duration": 533,
    "start_time": "2021-12-04T22:08:24.409Z"
   },
   {
    "duration": 1923,
    "start_time": "2021-12-04T22:08:24.946Z"
   },
   {
    "duration": 462,
    "start_time": "2021-12-04T22:08:26.874Z"
   },
   {
    "duration": 6,
    "start_time": "2021-12-04T22:08:27.338Z"
   },
   {
    "duration": 486,
    "start_time": "2021-12-04T22:08:27.346Z"
   },
   {
    "duration": 4662,
    "start_time": "2021-12-04T22:08:27.835Z"
   },
   {
    "duration": 843,
    "start_time": "2021-12-04T22:08:32.499Z"
   },
   {
    "duration": 8830,
    "start_time": "2021-12-04T22:08:33.345Z"
   },
   {
    "duration": 838,
    "start_time": "2021-12-04T22:18:34.725Z"
   },
   {
    "duration": 14,
    "start_time": "2021-12-04T22:18:35.565Z"
   },
   {
    "duration": 6,
    "start_time": "2021-12-04T22:18:35.582Z"
   },
   {
    "duration": 5681,
    "start_time": "2021-12-04T22:18:35.592Z"
   },
   {
    "duration": 438,
    "start_time": "2021-12-04T22:18:41.276Z"
   },
   {
    "duration": 75,
    "start_time": "2021-12-04T22:18:41.716Z"
   },
   {
    "duration": 488,
    "start_time": "2021-12-04T22:18:41.795Z"
   },
   {
    "duration": 1409,
    "start_time": "2021-12-04T22:18:42.286Z"
   },
   {
    "duration": 342,
    "start_time": "2021-12-04T22:18:43.698Z"
   },
   {
    "duration": 5,
    "start_time": "2021-12-04T22:18:44.043Z"
   },
   {
    "duration": 479,
    "start_time": "2021-12-04T22:18:44.067Z"
   },
   {
    "duration": 4680,
    "start_time": "2021-12-04T22:18:44.548Z"
   },
   {
    "duration": 826,
    "start_time": "2021-12-04T22:18:49.230Z"
   },
   {
    "duration": 7558,
    "start_time": "2021-12-04T22:18:50.059Z"
   },
   {
    "duration": 867,
    "start_time": "2021-12-04T22:24:31.167Z"
   },
   {
    "duration": 10,
    "start_time": "2021-12-04T22:24:32.036Z"
   },
   {
    "duration": 4,
    "start_time": "2021-12-04T22:24:32.049Z"
   },
   {
    "duration": 5343,
    "start_time": "2021-12-04T22:24:32.056Z"
   },
   {
    "duration": 425,
    "start_time": "2021-12-04T22:24:37.401Z"
   },
   {
    "duration": 72,
    "start_time": "2021-12-04T22:24:37.829Z"
   },
   {
    "duration": 451,
    "start_time": "2021-12-04T22:24:37.904Z"
   },
   {
    "duration": 1330,
    "start_time": "2021-12-04T22:24:38.358Z"
   },
   {
    "duration": 331,
    "start_time": "2021-12-04T22:24:39.692Z"
   },
   {
    "duration": 5,
    "start_time": "2021-12-04T22:24:40.025Z"
   },
   {
    "duration": 451,
    "start_time": "2021-12-04T22:24:40.033Z"
   },
   {
    "duration": 4290,
    "start_time": "2021-12-04T22:24:40.487Z"
   },
   {
    "duration": 795,
    "start_time": "2021-12-04T22:24:44.780Z"
   },
   {
    "duration": 7486,
    "start_time": "2021-12-04T22:24:45.578Z"
   },
   {
    "duration": 849,
    "start_time": "2021-12-04T22:30:42.877Z"
   },
   {
    "duration": 10,
    "start_time": "2021-12-04T22:30:43.729Z"
   },
   {
    "duration": 3,
    "start_time": "2021-12-04T22:30:43.743Z"
   },
   {
    "duration": 5600,
    "start_time": "2021-12-04T22:30:43.749Z"
   },
   {
    "duration": 427,
    "start_time": "2021-12-04T22:30:49.352Z"
   },
   {
    "duration": 63,
    "start_time": "2021-12-04T22:30:49.782Z"
   },
   {
    "duration": 488,
    "start_time": "2021-12-04T22:30:49.866Z"
   },
   {
    "duration": 1464,
    "start_time": "2021-12-04T22:30:50.357Z"
   },
   {
    "duration": 344,
    "start_time": "2021-12-04T22:30:51.825Z"
   },
   {
    "duration": 8,
    "start_time": "2021-12-04T22:30:52.173Z"
   },
   {
    "duration": 473,
    "start_time": "2021-12-04T22:30:52.184Z"
   },
   {
    "duration": 5593,
    "start_time": "2021-12-04T22:30:52.668Z"
   },
   {
    "duration": 773,
    "start_time": "2021-12-04T22:30:57.491Z"
   },
   {
    "duration": 773,
    "start_time": "2021-12-04T22:30:57.492Z"
   },
   {
    "duration": 852,
    "start_time": "2021-12-04T22:31:11.388Z"
   },
   {
    "duration": 24,
    "start_time": "2021-12-04T22:31:12.243Z"
   },
   {
    "duration": 5,
    "start_time": "2021-12-04T22:31:12.276Z"
   },
   {
    "duration": 5712,
    "start_time": "2021-12-04T22:31:12.285Z"
   },
   {
    "duration": 446,
    "start_time": "2021-12-04T22:31:18.000Z"
   },
   {
    "duration": 75,
    "start_time": "2021-12-04T22:31:18.449Z"
   },
   {
    "duration": 482,
    "start_time": "2021-12-04T22:31:18.527Z"
   },
   {
    "duration": 1458,
    "start_time": "2021-12-04T22:31:19.011Z"
   },
   {
    "duration": 351,
    "start_time": "2021-12-04T22:31:20.475Z"
   },
   {
    "duration": 21,
    "start_time": "2021-12-04T22:31:20.829Z"
   },
   {
    "duration": 451,
    "start_time": "2021-12-04T22:31:20.853Z"
   },
   {
    "duration": 5176,
    "start_time": "2021-12-04T22:31:21.307Z"
   },
   {
    "duration": 729,
    "start_time": "2021-12-04T22:31:26.486Z"
   },
   {
    "duration": 8567,
    "start_time": "2021-12-04T22:31:27.218Z"
   },
   {
    "duration": 868,
    "start_time": "2021-12-04T22:34:32.605Z"
   },
   {
    "duration": 13,
    "start_time": "2021-12-04T22:34:33.476Z"
   },
   {
    "duration": 5,
    "start_time": "2021-12-04T22:34:33.493Z"
   },
   {
    "duration": 5900,
    "start_time": "2021-12-04T22:34:33.502Z"
   },
   {
    "duration": 431,
    "start_time": "2021-12-04T22:34:39.405Z"
   },
   {
    "duration": 80,
    "start_time": "2021-12-04T22:34:39.839Z"
   },
   {
    "duration": 510,
    "start_time": "2021-12-04T22:34:39.922Z"
   },
   {
    "duration": 1450,
    "start_time": "2021-12-04T22:34:40.435Z"
   },
   {
    "duration": 365,
    "start_time": "2021-12-04T22:34:41.888Z"
   },
   {
    "duration": 13,
    "start_time": "2021-12-04T22:34:42.256Z"
   },
   {
    "duration": 479,
    "start_time": "2021-12-04T22:34:42.271Z"
   },
   {
    "duration": 4455,
    "start_time": "2021-12-04T22:34:42.753Z"
   },
   {
    "duration": 780,
    "start_time": "2021-12-04T22:34:47.210Z"
   },
   {
    "duration": 7557,
    "start_time": "2021-12-04T22:34:47.993Z"
   },
   {
    "duration": 921,
    "start_time": "2021-12-04T22:49:35.659Z"
   },
   {
    "duration": 13,
    "start_time": "2021-12-04T22:49:36.584Z"
   },
   {
    "duration": 14,
    "start_time": "2021-12-04T22:49:36.601Z"
   },
   {
    "duration": 6090,
    "start_time": "2021-12-04T22:49:36.618Z"
   },
   {
    "duration": 471,
    "start_time": "2021-12-04T22:49:42.711Z"
   },
   {
    "duration": 101,
    "start_time": "2021-12-04T22:49:43.185Z"
   },
   {
    "duration": 508,
    "start_time": "2021-12-04T22:49:43.291Z"
   },
   {
    "duration": 1540,
    "start_time": "2021-12-04T22:49:43.801Z"
   },
   {
    "duration": 375,
    "start_time": "2021-12-04T22:49:45.345Z"
   },
   {
    "duration": 8,
    "start_time": "2021-12-04T22:49:45.722Z"
   },
   {
    "duration": 509,
    "start_time": "2021-12-04T22:49:45.733Z"
   },
   {
    "duration": 4762,
    "start_time": "2021-12-04T22:49:46.244Z"
   },
   {
    "duration": 816,
    "start_time": "2021-12-04T22:49:51.011Z"
   },
   {
    "duration": 7911,
    "start_time": "2021-12-04T22:49:51.830Z"
   },
   {
    "duration": 972,
    "start_time": "2021-12-04T22:51:06.237Z"
   },
   {
    "duration": 14,
    "start_time": "2021-12-04T22:51:07.212Z"
   },
   {
    "duration": 8,
    "start_time": "2021-12-04T22:51:07.229Z"
   },
   {
    "duration": 5898,
    "start_time": "2021-12-04T22:51:07.240Z"
   },
   {
    "duration": 462,
    "start_time": "2021-12-04T22:51:13.141Z"
   },
   {
    "duration": 82,
    "start_time": "2021-12-04T22:51:13.606Z"
   },
   {
    "duration": 512,
    "start_time": "2021-12-04T22:51:13.693Z"
   },
   {
    "duration": 1534,
    "start_time": "2021-12-04T22:51:14.209Z"
   },
   {
    "duration": 400,
    "start_time": "2021-12-04T22:51:15.745Z"
   },
   {
    "duration": 27,
    "start_time": "2021-12-04T22:51:16.147Z"
   },
   {
    "duration": 481,
    "start_time": "2021-12-04T22:51:16.178Z"
   },
   {
    "duration": 5043,
    "start_time": "2021-12-04T22:51:16.661Z"
   },
   {
    "duration": 855,
    "start_time": "2021-12-04T22:51:21.706Z"
   },
   {
    "duration": 8820,
    "start_time": "2021-12-04T22:51:22.568Z"
   },
   {
    "duration": 202,
    "start_time": "2021-12-04T22:53:22.519Z"
   },
   {
    "duration": 913,
    "start_time": "2021-12-04T22:53:57.284Z"
   },
   {
    "duration": 11,
    "start_time": "2021-12-04T22:53:58.200Z"
   },
   {
    "duration": 4,
    "start_time": "2021-12-04T22:53:58.215Z"
   },
   {
    "duration": 5862,
    "start_time": "2021-12-04T22:53:58.222Z"
   },
   {
    "duration": 457,
    "start_time": "2021-12-04T22:54:04.092Z"
   },
   {
    "duration": 71,
    "start_time": "2021-12-04T22:54:04.552Z"
   },
   {
    "duration": 514,
    "start_time": "2021-12-04T22:54:04.626Z"
   },
   {
    "duration": 1520,
    "start_time": "2021-12-04T22:54:05.144Z"
   },
   {
    "duration": 379,
    "start_time": "2021-12-04T22:54:06.670Z"
   },
   {
    "duration": 18,
    "start_time": "2021-12-04T22:54:07.051Z"
   },
   {
    "duration": 529,
    "start_time": "2021-12-04T22:54:07.073Z"
   },
   {
    "duration": 4883,
    "start_time": "2021-12-04T22:54:07.605Z"
   },
   {
    "duration": 324,
    "start_time": "2021-12-04T22:54:12.491Z"
   },
   {
    "duration": 809,
    "start_time": "2021-12-04T22:54:12.818Z"
   },
   {
    "duration": 8256,
    "start_time": "2021-12-04T22:54:13.630Z"
   },
   {
    "duration": 900,
    "start_time": "2021-12-04T22:55:29.832Z"
   },
   {
    "duration": 12,
    "start_time": "2021-12-04T22:55:30.734Z"
   },
   {
    "duration": 10,
    "start_time": "2021-12-04T22:55:30.749Z"
   },
   {
    "duration": 6051,
    "start_time": "2021-12-04T22:55:30.768Z"
   },
   {
    "duration": 450,
    "start_time": "2021-12-04T22:55:36.821Z"
   },
   {
    "duration": 66,
    "start_time": "2021-12-04T22:55:37.274Z"
   },
   {
    "duration": 543,
    "start_time": "2021-12-04T22:55:37.343Z"
   },
   {
    "duration": 1591,
    "start_time": "2021-12-04T22:55:37.889Z"
   },
   {
    "duration": 347,
    "start_time": "2021-12-04T22:55:39.484Z"
   },
   {
    "duration": 10,
    "start_time": "2021-12-04T22:55:39.835Z"
   },
   {
    "duration": 546,
    "start_time": "2021-12-04T22:55:39.848Z"
   },
   {
    "duration": 5027,
    "start_time": "2021-12-04T22:55:40.397Z"
   },
   {
    "duration": 862,
    "start_time": "2021-12-04T22:55:45.427Z"
   },
   {
    "duration": 7654,
    "start_time": "2021-12-04T22:55:46.291Z"
   },
   {
    "duration": 602,
    "start_time": "2021-12-05T09:27:18.962Z"
   },
   {
    "duration": 7,
    "start_time": "2021-12-05T09:27:19.565Z"
   },
   {
    "duration": 3,
    "start_time": "2021-12-05T09:27:19.573Z"
   },
   {
    "duration": 3557,
    "start_time": "2021-12-05T09:27:19.577Z"
   },
   {
    "duration": 299,
    "start_time": "2021-12-05T09:27:23.136Z"
   },
   {
    "duration": 51,
    "start_time": "2021-12-05T09:27:23.437Z"
   },
   {
    "duration": 306,
    "start_time": "2021-12-05T09:27:23.490Z"
   },
   {
    "duration": 809,
    "start_time": "2021-12-05T09:27:23.799Z"
   },
   {
    "duration": 232,
    "start_time": "2021-12-05T09:27:24.610Z"
   },
   {
    "duration": 5,
    "start_time": "2021-12-05T09:27:24.844Z"
   },
   {
    "duration": 233,
    "start_time": "2021-12-05T09:27:24.851Z"
   },
   {
    "duration": 2730,
    "start_time": "2021-12-05T09:27:25.088Z"
   },
   {
    "duration": 563,
    "start_time": "2021-12-05T09:27:27.820Z"
   },
   {
    "duration": 4794,
    "start_time": "2021-12-05T09:27:28.385Z"
   }
  ],
  "kernelspec": {
   "display_name": "Python 3",
   "language": "python",
   "name": "python3"
  },
  "language_info": {
   "codemirror_mode": {
    "name": "ipython",
    "version": 3
   },
   "file_extension": ".py",
   "mimetype": "text/x-python",
   "name": "python",
   "nbconvert_exporter": "python",
   "pygments_lexer": "ipython3",
   "version": "3.7.8"
  },
  "toc": {
   "base_numbering": 1,
   "nav_menu": {},
   "number_sections": true,
   "sideBar": true,
   "skip_h1_title": true,
   "title_cell": "Table of Contents",
   "title_sidebar": "Contents",
   "toc_cell": false,
   "toc_position": {},
   "toc_section_display": true,
   "toc_window_display": false
  }
 },
 "nbformat": 4,
 "nbformat_minor": 5
}
