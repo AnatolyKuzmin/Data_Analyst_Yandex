{
 "cells": [
  {
   "cell_type": "markdown",
   "metadata": {
    "id": "sIfNaMOxgFyK"
   },
   "source": [
    "## Исследование данных о российском кинопрокате\n",
    "\n"
   ]
  },
  {
   "cell_type": "markdown",
   "metadata": {
    "id": "3bSlkCsbgFyL"
   },
   "source": [
    "### Шаг 1. Откройте файлы с данными и объедините их в один датафрейм. \n",
    "\n",
    "Объединим данные таким образом, чтобы все объекты из датасета `mkrf_movies` обязательно вошли в получившийся датафрейм. \n"
   ]
  },
  {
   "cell_type": "markdown",
   "metadata": {},
   "source": [
    "Для начала импортируем библиотеки **pandas**, **matplotlib**, **seaborn** и прочитаем файлы с данными:  \n",
    "    **/datasets/mkrf_movies.csv** — данные о прокатных удостоверениях  \n",
    "    **/datasets/mkrf_shows.csv** — данные о прокате в российских кинотеатрах"
   ]
  },
  {
   "cell_type": "code",
   "execution_count": 1,
   "metadata": {
    "scrolled": true
   },
   "outputs": [
    {
     "data": {
      "text/html": [
       "<div>\n",
       "<style scoped>\n",
       "    .dataframe tbody tr th:only-of-type {\n",
       "        vertical-align: middle;\n",
       "    }\n",
       "\n",
       "    .dataframe tbody tr th {\n",
       "        vertical-align: top;\n",
       "    }\n",
       "\n",
       "    .dataframe thead th {\n",
       "        text-align: right;\n",
       "    }\n",
       "</style>\n",
       "<table border=\"1\" class=\"dataframe\">\n",
       "  <thead>\n",
       "    <tr style=\"text-align: right;\">\n",
       "      <th></th>\n",
       "      <th>title</th>\n",
       "      <th>puNumber</th>\n",
       "      <th>show_start_date</th>\n",
       "      <th>type</th>\n",
       "      <th>film_studio</th>\n",
       "      <th>production_country</th>\n",
       "      <th>director</th>\n",
       "      <th>producer</th>\n",
       "      <th>age_restriction</th>\n",
       "      <th>refundable_support</th>\n",
       "      <th>nonrefundable_support</th>\n",
       "      <th>budget</th>\n",
       "      <th>financing_source</th>\n",
       "      <th>ratings</th>\n",
       "      <th>genres</th>\n",
       "    </tr>\n",
       "  </thead>\n",
       "  <tbody>\n",
       "    <tr>\n",
       "      <td>0</td>\n",
       "      <td>Открытый простор</td>\n",
       "      <td>221048915</td>\n",
       "      <td>2015-11-27T12:00:00.000Z</td>\n",
       "      <td>Художественный</td>\n",
       "      <td>Тачстоун Пикчерз, Кобальт Пикчерз, Бикон Пикче...</td>\n",
       "      <td>США</td>\n",
       "      <td>Кевин Костнер</td>\n",
       "      <td>Дэвид Валдес, Кевин Костнер, Джейк Эбертс</td>\n",
       "      <td>«18+» - запрещено для детей</td>\n",
       "      <td>NaN</td>\n",
       "      <td>NaN</td>\n",
       "      <td>NaN</td>\n",
       "      <td>NaN</td>\n",
       "      <td>7.2</td>\n",
       "      <td>боевик,драма,мелодрама</td>\n",
       "    </tr>\n",
       "    <tr>\n",
       "      <td>1</td>\n",
       "      <td>Особо важное задание</td>\n",
       "      <td>111013716</td>\n",
       "      <td>2016-09-13T12:00:00.000Z</td>\n",
       "      <td>Художественный</td>\n",
       "      <td>Киностудия \"Мосфильм\"</td>\n",
       "      <td>СССР</td>\n",
       "      <td>Е.Матвеев</td>\n",
       "      <td>NaN</td>\n",
       "      <td>«6+» - для детей старше 6 лет</td>\n",
       "      <td>NaN</td>\n",
       "      <td>NaN</td>\n",
       "      <td>NaN</td>\n",
       "      <td>NaN</td>\n",
       "      <td>6.6</td>\n",
       "      <td>драма,военный</td>\n",
       "    </tr>\n",
       "    <tr>\n",
       "      <td>2</td>\n",
       "      <td>Особо опасен</td>\n",
       "      <td>221038416</td>\n",
       "      <td>2016-10-10T12:00:00.000Z</td>\n",
       "      <td>Художественный</td>\n",
       "      <td>Юниверсал Пикчерз, Кикстарт Продакшнз, Марк Пл...</td>\n",
       "      <td>США</td>\n",
       "      <td>Тимур Бекмамбетов</td>\n",
       "      <td>Джим Лемли, Джейсон Нетер, Марк Е.Платт, Яйн Смит</td>\n",
       "      <td>«18+» - запрещено для детей</td>\n",
       "      <td>NaN</td>\n",
       "      <td>NaN</td>\n",
       "      <td>NaN</td>\n",
       "      <td>NaN</td>\n",
       "      <td>6.8</td>\n",
       "      <td>фантастика,боевик,триллер</td>\n",
       "    </tr>\n",
       "    <tr>\n",
       "      <td>3</td>\n",
       "      <td>Особо опасен</td>\n",
       "      <td>221026916</td>\n",
       "      <td>2016-06-10T12:00:00.000Z</td>\n",
       "      <td>Художественный</td>\n",
       "      <td>Юниверсал Пикчерз, Кикстарт Продакшнз, Марк Пл...</td>\n",
       "      <td>США</td>\n",
       "      <td>Тимур Бекмамбетов</td>\n",
       "      <td>Джим Лемли, Джейсон Нетер, Марк Е.Платт, Яйн Смит</td>\n",
       "      <td>«18+» - запрещено для детей</td>\n",
       "      <td>NaN</td>\n",
       "      <td>NaN</td>\n",
       "      <td>NaN</td>\n",
       "      <td>NaN</td>\n",
       "      <td>6.8</td>\n",
       "      <td>фантастика,боевик,триллер</td>\n",
       "    </tr>\n",
       "    <tr>\n",
       "      <td>4</td>\n",
       "      <td>Особо опасен</td>\n",
       "      <td>221030815</td>\n",
       "      <td>2015-07-29T12:00:00.000Z</td>\n",
       "      <td>Художественный</td>\n",
       "      <td>Юниверсал Пикчерз, Кикстарт Продакшнз, Марк Пл...</td>\n",
       "      <td>США</td>\n",
       "      <td>Тимур Бекмамбетов</td>\n",
       "      <td>Джим Лемли, Джейсон Нетер, Марк Е.Платт, Яйн Смит</td>\n",
       "      <td>«18+» - запрещено для детей</td>\n",
       "      <td>NaN</td>\n",
       "      <td>NaN</td>\n",
       "      <td>NaN</td>\n",
       "      <td>NaN</td>\n",
       "      <td>6.8</td>\n",
       "      <td>фантастика,боевик,триллер</td>\n",
       "    </tr>\n",
       "  </tbody>\n",
       "</table>\n",
       "</div>"
      ],
      "text/plain": [
       "                  title   puNumber           show_start_date            type  \\\n",
       "0      Открытый простор  221048915  2015-11-27T12:00:00.000Z  Художественный   \n",
       "1  Особо важное задание  111013716  2016-09-13T12:00:00.000Z  Художественный   \n",
       "2          Особо опасен  221038416  2016-10-10T12:00:00.000Z  Художественный   \n",
       "3          Особо опасен  221026916  2016-06-10T12:00:00.000Z  Художественный   \n",
       "4          Особо опасен  221030815  2015-07-29T12:00:00.000Z  Художественный   \n",
       "\n",
       "                                         film_studio production_country  \\\n",
       "0  Тачстоун Пикчерз, Кобальт Пикчерз, Бикон Пикче...                США   \n",
       "1                              Киностудия \"Мосфильм\"               СССР   \n",
       "2  Юниверсал Пикчерз, Кикстарт Продакшнз, Марк Пл...                США   \n",
       "3  Юниверсал Пикчерз, Кикстарт Продакшнз, Марк Пл...                США   \n",
       "4  Юниверсал Пикчерз, Кикстарт Продакшнз, Марк Пл...                США   \n",
       "\n",
       "            director                                           producer  \\\n",
       "0      Кевин Костнер          Дэвид Валдес, Кевин Костнер, Джейк Эбертс   \n",
       "1          Е.Матвеев                                                NaN   \n",
       "2  Тимур Бекмамбетов  Джим Лемли, Джейсон Нетер, Марк Е.Платт, Яйн Смит   \n",
       "3  Тимур Бекмамбетов  Джим Лемли, Джейсон Нетер, Марк Е.Платт, Яйн Смит   \n",
       "4  Тимур Бекмамбетов  Джим Лемли, Джейсон Нетер, Марк Е.Платт, Яйн Смит   \n",
       "\n",
       "                 age_restriction  refundable_support  nonrefundable_support  \\\n",
       "0    «18+» - запрещено для детей                 NaN                    NaN   \n",
       "1  «6+» - для детей старше 6 лет                 NaN                    NaN   \n",
       "2    «18+» - запрещено для детей                 NaN                    NaN   \n",
       "3    «18+» - запрещено для детей                 NaN                    NaN   \n",
       "4    «18+» - запрещено для детей                 NaN                    NaN   \n",
       "\n",
       "   budget financing_source ratings                     genres  \n",
       "0     NaN              NaN     7.2     боевик,драма,мелодрама  \n",
       "1     NaN              NaN     6.6              драма,военный  \n",
       "2     NaN              NaN     6.8  фантастика,боевик,триллер  \n",
       "3     NaN              NaN     6.8  фантастика,боевик,триллер  \n",
       "4     NaN              NaN     6.8  фантастика,боевик,триллер  "
      ]
     },
     "execution_count": 1,
     "metadata": {},
     "output_type": "execute_result"
    }
   ],
   "source": [
    "# импортируем библиотеки\n",
    "import pandas as pd\n",
    "import matplotlib.pyplot as plt\n",
    "import seaborn as sns\n",
    "\n",
    "# прочитаем данные таблиц\n",
    "mkrf_movies = pd.read_csv('/datasets/mkrf_movies.csv')\n",
    "mkrf_shows = pd.read_csv('/datasets/mkrf_shows.csv')\n",
    "\n",
    "# выведим таблицу mkrf_movies\n",
    "mkrf_movies.head()"
   ]
  },
  {
   "cell_type": "code",
   "execution_count": 2,
   "metadata": {
    "scrolled": true
   },
   "outputs": [
    {
     "data": {
      "text/html": [
       "<div>\n",
       "<style scoped>\n",
       "    .dataframe tbody tr th:only-of-type {\n",
       "        vertical-align: middle;\n",
       "    }\n",
       "\n",
       "    .dataframe tbody tr th {\n",
       "        vertical-align: top;\n",
       "    }\n",
       "\n",
       "    .dataframe thead th {\n",
       "        text-align: right;\n",
       "    }\n",
       "</style>\n",
       "<table border=\"1\" class=\"dataframe\">\n",
       "  <thead>\n",
       "    <tr style=\"text-align: right;\">\n",
       "      <th></th>\n",
       "      <th>puNumber</th>\n",
       "      <th>box_office</th>\n",
       "    </tr>\n",
       "  </thead>\n",
       "  <tbody>\n",
       "    <tr>\n",
       "      <td>0</td>\n",
       "      <td>111000113</td>\n",
       "      <td>2.450000e+03</td>\n",
       "    </tr>\n",
       "    <tr>\n",
       "      <td>1</td>\n",
       "      <td>111000115</td>\n",
       "      <td>6.104000e+04</td>\n",
       "    </tr>\n",
       "    <tr>\n",
       "      <td>2</td>\n",
       "      <td>111000116</td>\n",
       "      <td>1.530300e+08</td>\n",
       "    </tr>\n",
       "    <tr>\n",
       "      <td>3</td>\n",
       "      <td>111000117</td>\n",
       "      <td>1.226096e+07</td>\n",
       "    </tr>\n",
       "    <tr>\n",
       "      <td>4</td>\n",
       "      <td>111000118</td>\n",
       "      <td>1.636841e+08</td>\n",
       "    </tr>\n",
       "  </tbody>\n",
       "</table>\n",
       "</div>"
      ],
      "text/plain": [
       "    puNumber    box_office\n",
       "0  111000113  2.450000e+03\n",
       "1  111000115  6.104000e+04\n",
       "2  111000116  1.530300e+08\n",
       "3  111000117  1.226096e+07\n",
       "4  111000118  1.636841e+08"
      ]
     },
     "execution_count": 2,
     "metadata": {},
     "output_type": "execute_result"
    }
   ],
   "source": [
    "# выведим таблицу mkrf_shows\n",
    "mkrf_shows.head()"
   ]
  },
  {
   "cell_type": "code",
   "execution_count": 3,
   "metadata": {},
   "outputs": [
    {
     "name": "stdout",
     "output_type": "stream",
     "text": [
      "<class 'pandas.core.frame.DataFrame'>\n",
      "RangeIndex: 7486 entries, 0 to 7485\n",
      "Data columns (total 15 columns):\n",
      "title                    7486 non-null object\n",
      "puNumber                 7486 non-null object\n",
      "show_start_date          7486 non-null object\n",
      "type                     7486 non-null object\n",
      "film_studio              7468 non-null object\n",
      "production_country       7484 non-null object\n",
      "director                 7477 non-null object\n",
      "producer                 6918 non-null object\n",
      "age_restriction          7486 non-null object\n",
      "refundable_support       332 non-null float64\n",
      "nonrefundable_support    332 non-null float64\n",
      "budget                   332 non-null float64\n",
      "financing_source         332 non-null object\n",
      "ratings                  6519 non-null object\n",
      "genres                   6510 non-null object\n",
      "dtypes: float64(3), object(12)\n",
      "memory usage: 877.4+ KB\n"
     ]
    }
   ],
   "source": [
    "# посмотрим общую информацию\n",
    "mkrf_movies.info()"
   ]
  },
  {
   "cell_type": "code",
   "execution_count": 4,
   "metadata": {},
   "outputs": [
    {
     "name": "stdout",
     "output_type": "stream",
     "text": [
      "<class 'pandas.core.frame.DataFrame'>\n",
      "RangeIndex: 3158 entries, 0 to 3157\n",
      "Data columns (total 2 columns):\n",
      "puNumber      3158 non-null int64\n",
      "box_office    3158 non-null float64\n",
      "dtypes: float64(1), int64(1)\n",
      "memory usage: 49.5 KB\n"
     ]
    }
   ],
   "source": [
    "# посмотрим общую информацию\n",
    "mkrf_shows.info()"
   ]
  },
  {
   "cell_type": "markdown",
   "metadata": {},
   "source": [
    "Объеденим данные двух столбцов.  \n",
    "Перед объединением таблиц, изменим тип столбца `puNumber` в таблице данных ***mkrf_shows*** на <span style=\"color:orange\">*object*</span>"
   ]
  },
  {
   "cell_type": "code",
   "execution_count": 5,
   "metadata": {},
   "outputs": [
    {
     "data": {
      "text/html": [
       "<div>\n",
       "<style scoped>\n",
       "    .dataframe tbody tr th:only-of-type {\n",
       "        vertical-align: middle;\n",
       "    }\n",
       "\n",
       "    .dataframe tbody tr th {\n",
       "        vertical-align: top;\n",
       "    }\n",
       "\n",
       "    .dataframe thead th {\n",
       "        text-align: right;\n",
       "    }\n",
       "</style>\n",
       "<table border=\"1\" class=\"dataframe\">\n",
       "  <thead>\n",
       "    <tr style=\"text-align: right;\">\n",
       "      <th></th>\n",
       "      <th>title</th>\n",
       "      <th>puNumber</th>\n",
       "      <th>show_start_date</th>\n",
       "      <th>type</th>\n",
       "      <th>film_studio</th>\n",
       "      <th>production_country</th>\n",
       "      <th>director</th>\n",
       "      <th>producer</th>\n",
       "      <th>age_restriction</th>\n",
       "      <th>refundable_support</th>\n",
       "      <th>nonrefundable_support</th>\n",
       "      <th>budget</th>\n",
       "      <th>financing_source</th>\n",
       "      <th>ratings</th>\n",
       "      <th>genres</th>\n",
       "    </tr>\n",
       "  </thead>\n",
       "  <tbody>\n",
       "    <tr>\n",
       "      <td>804</td>\n",
       "      <td>Паранормальный Якутск</td>\n",
       "      <td>111004112</td>\n",
       "      <td>2012-08-24T12:00:00.000Z</td>\n",
       "      <td>Художественный</td>\n",
       "      <td>ИП Тимофеев К.П.</td>\n",
       "      <td>Россия</td>\n",
       "      <td>К.Тимофеев</td>\n",
       "      <td>NaN</td>\n",
       "      <td>«16+» - для детей старше 16 лет</td>\n",
       "      <td>NaN</td>\n",
       "      <td>NaN</td>\n",
       "      <td>NaN</td>\n",
       "      <td>NaN</td>\n",
       "      <td>NaN</td>\n",
       "      <td>NaN</td>\n",
       "    </tr>\n",
       "  </tbody>\n",
       "</table>\n",
       "</div>"
      ],
      "text/plain": [
       "                     title    puNumber           show_start_date  \\\n",
       "804  Паранормальный Якутск   111004112  2012-08-24T12:00:00.000Z   \n",
       "\n",
       "               type       film_studio production_country    director producer  \\\n",
       "804  Художественный  ИП Тимофеев К.П.             Россия  К.Тимофеев      NaN   \n",
       "\n",
       "                     age_restriction  refundable_support  \\\n",
       "804  «16+» - для детей старше 16 лет                 NaN   \n",
       "\n",
       "     nonrefundable_support  budget financing_source ratings genres  \n",
       "804                    NaN     NaN              NaN     NaN    NaN  "
      ]
     },
     "metadata": {},
     "output_type": "display_data"
    },
    {
     "data": {
      "text/html": [
       "<div>\n",
       "<style scoped>\n",
       "    .dataframe tbody tr th:only-of-type {\n",
       "        vertical-align: middle;\n",
       "    }\n",
       "\n",
       "    .dataframe tbody tr th {\n",
       "        vertical-align: top;\n",
       "    }\n",
       "\n",
       "    .dataframe thead th {\n",
       "        text-align: right;\n",
       "    }\n",
       "</style>\n",
       "<table border=\"1\" class=\"dataframe\">\n",
       "  <thead>\n",
       "    <tr style=\"text-align: right;\">\n",
       "      <th></th>\n",
       "      <th>puNumber</th>\n",
       "      <th>box_office</th>\n",
       "    </tr>\n",
       "  </thead>\n",
       "  <tbody>\n",
       "  </tbody>\n",
       "</table>\n",
       "</div>"
      ],
      "text/plain": [
       "Empty DataFrame\n",
       "Columns: [puNumber, box_office]\n",
       "Index: []"
      ]
     },
     "execution_count": 5,
     "metadata": {},
     "output_type": "execute_result"
    }
   ],
   "source": [
    "# puNumber 111004112\n",
    "display(mkrf_movies[mkrf_movies['puNumber'].str.contains(' ', na=False)])\n",
    "\n",
    "mkrf_shows[mkrf_shows['puNumber'] == 111004112]"
   ]
  },
  {
   "cell_type": "code",
   "execution_count": 6,
   "metadata": {
    "scrolled": true
   },
   "outputs": [
    {
     "name": "stdout",
     "output_type": "stream",
     "text": [
      "<class 'pandas.core.frame.DataFrame'>\n",
      "Int64Index: 7486 entries, 0 to 7485\n",
      "Data columns (total 16 columns):\n",
      "title                    7486 non-null object\n",
      "puNumber                 7486 non-null object\n",
      "show_start_date          7486 non-null object\n",
      "type                     7486 non-null object\n",
      "film_studio              7468 non-null object\n",
      "production_country       7484 non-null object\n",
      "director                 7477 non-null object\n",
      "producer                 6918 non-null object\n",
      "age_restriction          7486 non-null object\n",
      "refundable_support       332 non-null float64\n",
      "nonrefundable_support    332 non-null float64\n",
      "budget                   332 non-null float64\n",
      "financing_source         332 non-null object\n",
      "ratings                  6519 non-null object\n",
      "genres                   6510 non-null object\n",
      "box_office               3158 non-null float64\n",
      "dtypes: float64(4), object(12)\n",
      "memory usage: 994.2+ KB\n"
     ]
    }
   ],
   "source": [
    "# заменим тип данных\n",
    "mkrf_shows['puNumber'] = mkrf_shows['puNumber'].astype('str')\n",
    "# объединим таблицы и отобразим информацию\n",
    "movies = mkrf_movies.merge(mkrf_shows, on='puNumber', how='left')\n",
    "movies.info()"
   ]
  },
  {
   "cell_type": "markdown",
   "metadata": {},
   "source": [
    "#### Вывод"
   ]
  },
  {
   "cell_type": "markdown",
   "metadata": {},
   "source": [
    "Таблица ***mkrf_movies*** содержит информацию из реестра прокатных удостоверений. У одного фильма может быть несколько прокатных удостоверений.\n",
    "* `title` — название фильма;\n",
    "* `puNumber` — номер прокатного удостоверения;\n",
    "* `show_start_date` — дата премьеры фильма;\n",
    "* `type` — тип фильма;\n",
    "* `film_studio` — студия-производитель;\n",
    "* `production_country` — страна-производитель;\n",
    "* `director` — режиссёр;\n",
    "* `producer` — продюсер;\n",
    "* `age_restriction` — возрастная категория;\n",
    "* `refundable_support` — объём возвратных средств государственной поддержки;\n",
    "* `nonrefundable_support` — объём невозвратных средств государственной поддержки;\n",
    "* `financing_source` — источник государственного финансирования;\n",
    "* `budget` — общий бюджет фильма;\n",
    "* `ratings` — рейтинг фильма на КиноПоиске;\n",
    "* `genres` — жанр фильма.  \n",
    "Столбец budget уже включает в себя полный объём государственной поддержки. Данные в этом столбце указаны только для тех фильмов, которые получили государственную поддержку.\n",
    "\n",
    "Таблица ***mkrf_shows*** содержит сведения о показах фильмов в российских кинотеатрах.\n",
    "* `puNumber` — номер прокатного удостоверения;\n",
    "* `box_office` — сборы в рублях.\n",
    "\n",
    "Объеденим два файла в ***mkrf_movies***. Файл содержит данные по 7486 фильмам из которых описывается по 16 столбцам. Есть пропущеные значения, нужно проверить и принеобходимости отработать. Так же есть дата, которая в формате <span style=\"color:orange\">*object*</span> заменим на <span style=\"color:orange\">*date*</span>\n"
   ]
  },
  {
   "cell_type": "markdown",
   "metadata": {
    "id": "KLDGpPG0gFyM"
   },
   "source": [
    "### Шаг 2. Предобработка данных"
   ]
  },
  {
   "cell_type": "markdown",
   "metadata": {
    "id": "ssWwKXsxgFyO"
   },
   "source": [
    "#### Шаг 2.1. Проверьте типы данных\n",
    "\n",
    "- Проверим типы данных в датафрейме и преобразуем их там, где это необходимо."
   ]
  },
  {
   "cell_type": "markdown",
   "metadata": {},
   "source": [
    "Для дальнешего анализа потребуется чтобы в стобце `show_start_date` — дата премьеры фильма были данные в формате <span style=\"color:orange\">*date*</span>"
   ]
  },
  {
   "cell_type": "code",
   "execution_count": 7,
   "metadata": {
    "id": "kVGSplJOgFyO"
   },
   "outputs": [
    {
     "name": "stdout",
     "output_type": "stream",
     "text": [
      "<class 'pandas.core.frame.DataFrame'>\n",
      "Int64Index: 7486 entries, 0 to 7485\n",
      "Data columns (total 16 columns):\n",
      "title                    7486 non-null object\n",
      "puNumber                 7486 non-null object\n",
      "show_start_date          7486 non-null datetime64[ns, UTC]\n",
      "type                     7486 non-null object\n",
      "film_studio              7468 non-null object\n",
      "production_country       7484 non-null object\n",
      "director                 7477 non-null object\n",
      "producer                 6918 non-null object\n",
      "age_restriction          7486 non-null object\n",
      "refundable_support       332 non-null float64\n",
      "nonrefundable_support    332 non-null float64\n",
      "budget                   332 non-null float64\n",
      "financing_source         332 non-null object\n",
      "ratings                  6519 non-null object\n",
      "genres                   6510 non-null object\n",
      "box_office               3158 non-null float64\n",
      "dtypes: datetime64[ns, UTC](1), float64(4), object(11)\n",
      "memory usage: 994.2+ KB\n"
     ]
    }
   ],
   "source": [
    "# заменим тип данныхи отобразим информацию\n",
    "movies['show_start_date'] = pd.to_datetime(movies['show_start_date'],format='%Y.%m.%dT%H:%M:%S')\n",
    "movies.info()"
   ]
  },
  {
   "cell_type": "markdown",
   "metadata": {
    "id": "i0MOLbF-gFyP"
   },
   "source": [
    "#### Шаг 2.2. Изучите пропуски в датафрейме\n",
    "\n",
    "- Объясним, почему заполнили пропуски определённым образом или почему не стали этого делать."
   ]
  },
  {
   "cell_type": "markdown",
   "metadata": {
    "id": "8MJD_lkngFyP"
   },
   "source": [
    "Не заполненные данные есть в столбцах:\n",
    "`production_country` - страна-производитель;\n",
    "`director` - режиссёр;\n",
    "`producer` - продюсер;\n",
    "`refundable_support` - объём возвратных средств государственной поддержки;\n",
    "`nonrefundable_support` - объём невозвратных средств государственной поддержки;\n",
    "`budget` - общий бюджет фильма;\n",
    "`financing_source` - источник государственного финансирования;\n",
    "`ratings` - рейтинг фильма на КиноПоиске;\n",
    "`genres` - жанр фильма;\n",
    "`box_office` - сборы в рублях.\n",
    "\n",
    "Как вариант заполнить пустые значения заглушкой. Но это никак не повлияет на данные. Пропуски оставим, самостоятельно заполнить мы не можем. "
   ]
  },
  {
   "cell_type": "markdown",
   "metadata": {
    "id": "4c6k1t9ygFyQ"
   },
   "source": [
    "#### Шаг 2.3. Изучите дубликаты в датафрейме\n",
    "- Проверим, есть ли в данных дубликаты. Опишем причины, которые могли повлиять на появление дублей."
   ]
  },
  {
   "cell_type": "code",
   "execution_count": 8,
   "metadata": {
    "id": "aKck8RIdgFyQ"
   },
   "outputs": [
    {
     "data": {
      "text/plain": [
       "0"
      ]
     },
     "execution_count": 8,
     "metadata": {},
     "output_type": "execute_result"
    }
   ],
   "source": [
    "# кол-во явных дублей\n",
    "movies.duplicated().sum()"
   ]
  },
  {
   "cell_type": "markdown",
   "metadata": {},
   "source": [
    "Явных дублей в файле нет. Проверим по названию фильма и по номеру прокатного удостоверения"
   ]
  },
  {
   "cell_type": "code",
   "execution_count": 9,
   "metadata": {},
   "outputs": [
    {
     "data": {
      "text/plain": [
       "День святого Валентина_            5\n",
       "Лузеры                             4\n",
       "Шерлок Холмс                       4\n",
       "Знакомство с Факерами 2.           4\n",
       "Жена путешественника во времени    4\n",
       "Name: title, dtype: int64"
      ]
     },
     "execution_count": 9,
     "metadata": {},
     "output_type": "execute_result"
    }
   ],
   "source": [
    "# посмотрим униакльные значения и их кол-во по названию фильма\n",
    "movies['title'].value_counts().head()"
   ]
  },
  {
   "cell_type": "code",
   "execution_count": 10,
   "metadata": {
    "scrolled": true
   },
   "outputs": [
    {
     "data": {
      "text/html": [
       "<div>\n",
       "<style scoped>\n",
       "    .dataframe tbody tr th:only-of-type {\n",
       "        vertical-align: middle;\n",
       "    }\n",
       "\n",
       "    .dataframe tbody tr th {\n",
       "        vertical-align: top;\n",
       "    }\n",
       "\n",
       "    .dataframe thead th {\n",
       "        text-align: right;\n",
       "    }\n",
       "</style>\n",
       "<table border=\"1\" class=\"dataframe\">\n",
       "  <thead>\n",
       "    <tr style=\"text-align: right;\">\n",
       "      <th></th>\n",
       "      <th>title</th>\n",
       "      <th>puNumber</th>\n",
       "      <th>show_start_date</th>\n",
       "      <th>type</th>\n",
       "      <th>film_studio</th>\n",
       "      <th>production_country</th>\n",
       "      <th>director</th>\n",
       "      <th>producer</th>\n",
       "      <th>age_restriction</th>\n",
       "      <th>refundable_support</th>\n",
       "      <th>nonrefundable_support</th>\n",
       "      <th>budget</th>\n",
       "      <th>financing_source</th>\n",
       "      <th>ratings</th>\n",
       "      <th>genres</th>\n",
       "      <th>box_office</th>\n",
       "    </tr>\n",
       "  </thead>\n",
       "  <tbody>\n",
       "    <tr>\n",
       "      <td>3902</td>\n",
       "      <td>День святого Валентина_</td>\n",
       "      <td>221083810</td>\n",
       "      <td>2010-07-15 12:00:00+00:00</td>\n",
       "      <td>Художественный</td>\n",
       "      <td>Уорнер Бразерс, Нью Лайн Синема, Уэйн Райс, Ка...</td>\n",
       "      <td>США</td>\n",
       "      <td>Гарри Маршалл</td>\n",
       "      <td>Сэмюэл Дж.Браун</td>\n",
       "      <td>«16+» - для детей старше 16 лет</td>\n",
       "      <td>NaN</td>\n",
       "      <td>NaN</td>\n",
       "      <td>NaN</td>\n",
       "      <td>NaN</td>\n",
       "      <td>6.7</td>\n",
       "      <td>мелодрама,комедия</td>\n",
       "      <td>NaN</td>\n",
       "    </tr>\n",
       "    <tr>\n",
       "      <td>3991</td>\n",
       "      <td>День святого Валентина_</td>\n",
       "      <td>221068010</td>\n",
       "      <td>2010-05-14 12:00:00+00:00</td>\n",
       "      <td>Художественный</td>\n",
       "      <td>Уорнер Бразерс, Нью Лайн Синема, Уэйн Райс, Ка...</td>\n",
       "      <td>США</td>\n",
       "      <td>Гарри Маршалл</td>\n",
       "      <td>Сэмюэл Дж.Браун</td>\n",
       "      <td>«16+» - для детей старше 16 лет</td>\n",
       "      <td>NaN</td>\n",
       "      <td>NaN</td>\n",
       "      <td>NaN</td>\n",
       "      <td>NaN</td>\n",
       "      <td>6.7</td>\n",
       "      <td>мелодрама,комедия</td>\n",
       "      <td>NaN</td>\n",
       "    </tr>\n",
       "    <tr>\n",
       "      <td>4070</td>\n",
       "      <td>День святого Валентина_</td>\n",
       "      <td>121002210</td>\n",
       "      <td>2010-02-03 12:00:00+00:00</td>\n",
       "      <td>Художественный</td>\n",
       "      <td>Уорнер Бразерс, Нью Лайн Синема, Уэйн Райс, Ка...</td>\n",
       "      <td>США</td>\n",
       "      <td>Гарри Маршалл</td>\n",
       "      <td>Сэмюэл Дж.Браун</td>\n",
       "      <td>«16+» - для детей старше 16 лет</td>\n",
       "      <td>NaN</td>\n",
       "      <td>NaN</td>\n",
       "      <td>NaN</td>\n",
       "      <td>NaN</td>\n",
       "      <td>6.7</td>\n",
       "      <td>мелодрама,комедия</td>\n",
       "      <td>NaN</td>\n",
       "    </tr>\n",
       "    <tr>\n",
       "      <td>4196</td>\n",
       "      <td>День святого Валентина_</td>\n",
       "      <td>221136210</td>\n",
       "      <td>2010-11-30 12:00:00+00:00</td>\n",
       "      <td>Художественный</td>\n",
       "      <td>Уорнер Бразерс, Нью Лайн Синема, Уэйн Райс, Ка...</td>\n",
       "      <td>США</td>\n",
       "      <td>Гарри Маршалл</td>\n",
       "      <td>Сэмюэл Дж.Браун</td>\n",
       "      <td>«16+» - для детей старше 16 лет</td>\n",
       "      <td>NaN</td>\n",
       "      <td>NaN</td>\n",
       "      <td>NaN</td>\n",
       "      <td>NaN</td>\n",
       "      <td>6.7</td>\n",
       "      <td>мелодрама,комедия</td>\n",
       "      <td>NaN</td>\n",
       "    </tr>\n",
       "    <tr>\n",
       "      <td>5070</td>\n",
       "      <td>День святого Валентина_</td>\n",
       "      <td>221066410</td>\n",
       "      <td>2010-06-01 12:00:00+00:00</td>\n",
       "      <td>Художественный</td>\n",
       "      <td>Уорнер Бразерс, Нью Лайн Синема, Уэйн Райс, Ка...</td>\n",
       "      <td>США</td>\n",
       "      <td>Гарри Маршалл</td>\n",
       "      <td>Сэмюэл Дж.Браун</td>\n",
       "      <td>«16+» - для детей старше 16 лет</td>\n",
       "      <td>NaN</td>\n",
       "      <td>NaN</td>\n",
       "      <td>NaN</td>\n",
       "      <td>NaN</td>\n",
       "      <td>6.7</td>\n",
       "      <td>мелодрама,комедия</td>\n",
       "      <td>NaN</td>\n",
       "    </tr>\n",
       "  </tbody>\n",
       "</table>\n",
       "</div>"
      ],
      "text/plain": [
       "                        title   puNumber           show_start_date  \\\n",
       "3902  День святого Валентина_  221083810 2010-07-15 12:00:00+00:00   \n",
       "3991  День святого Валентина_  221068010 2010-05-14 12:00:00+00:00   \n",
       "4070  День святого Валентина_  121002210 2010-02-03 12:00:00+00:00   \n",
       "4196  День святого Валентина_  221136210 2010-11-30 12:00:00+00:00   \n",
       "5070  День святого Валентина_  221066410 2010-06-01 12:00:00+00:00   \n",
       "\n",
       "                type                                        film_studio  \\\n",
       "3902  Художественный  Уорнер Бразерс, Нью Лайн Синема, Уэйн Райс, Ка...   \n",
       "3991  Художественный  Уорнер Бразерс, Нью Лайн Синема, Уэйн Райс, Ка...   \n",
       "4070  Художественный  Уорнер Бразерс, Нью Лайн Синема, Уэйн Райс, Ка...   \n",
       "4196  Художественный  Уорнер Бразерс, Нью Лайн Синема, Уэйн Райс, Ка...   \n",
       "5070  Художественный  Уорнер Бразерс, Нью Лайн Синема, Уэйн Райс, Ка...   \n",
       "\n",
       "     production_country       director         producer  \\\n",
       "3902                США  Гарри Маршалл  Сэмюэл Дж.Браун   \n",
       "3991                США  Гарри Маршалл  Сэмюэл Дж.Браун   \n",
       "4070                США  Гарри Маршалл  Сэмюэл Дж.Браун   \n",
       "4196                США  Гарри Маршалл  Сэмюэл Дж.Браун   \n",
       "5070                США  Гарри Маршалл  Сэмюэл Дж.Браун   \n",
       "\n",
       "                      age_restriction  refundable_support  \\\n",
       "3902  «16+» - для детей старше 16 лет                 NaN   \n",
       "3991  «16+» - для детей старше 16 лет                 NaN   \n",
       "4070  «16+» - для детей старше 16 лет                 NaN   \n",
       "4196  «16+» - для детей старше 16 лет                 NaN   \n",
       "5070  «16+» - для детей старше 16 лет                 NaN   \n",
       "\n",
       "      nonrefundable_support  budget financing_source ratings  \\\n",
       "3902                    NaN     NaN              NaN     6.7   \n",
       "3991                    NaN     NaN              NaN     6.7   \n",
       "4070                    NaN     NaN              NaN     6.7   \n",
       "4196                    NaN     NaN              NaN     6.7   \n",
       "5070                    NaN     NaN              NaN     6.7   \n",
       "\n",
       "                 genres  box_office  \n",
       "3902  мелодрама,комедия         NaN  \n",
       "3991  мелодрама,комедия         NaN  \n",
       "4070  мелодрама,комедия         NaN  \n",
       "4196  мелодрама,комедия         NaN  \n",
       "5070  мелодрама,комедия         NaN  "
      ]
     },
     "execution_count": 10,
     "metadata": {},
     "output_type": "execute_result"
    }
   ],
   "source": [
    "# посмотрим самую верхнюю строку\n",
    "movies[movies['title'] == 'День святого Валентина_']"
   ]
  },
  {
   "cell_type": "markdown",
   "metadata": {},
   "source": [
    "Из самой таблицы не понятно, одинаковые названия но номера разные. Посетив сайт Министерство культуры Российской Федерации, становится ясно, различия в фильмах связаны с разными правами на использование фильма"
   ]
  },
  {
   "cell_type": "markdown",
   "metadata": {},
   "source": [
    "Проверим есть ли дубликаты по номеру прокатного удостоверения"
   ]
  },
  {
   "cell_type": "code",
   "execution_count": 11,
   "metadata": {
    "scrolled": false
   },
   "outputs": [
    {
     "data": {
      "text/plain": [
       "221154310    2\n",
       "221054410    2\n",
       "111003416    1\n",
       "111010410    1\n",
       "114002915    1\n",
       "Name: puNumber, dtype: int64"
      ]
     },
     "execution_count": 11,
     "metadata": {},
     "output_type": "execute_result"
    }
   ],
   "source": [
    "# посмотрим униакльные значения и их кол-во по номеру\n",
    "movies['puNumber'].value_counts().head()"
   ]
  },
  {
   "cell_type": "markdown",
   "metadata": {},
   "source": [
    "Поторений не много, напечатаем их."
   ]
  },
  {
   "cell_type": "code",
   "execution_count": 12,
   "metadata": {
    "scrolled": true
   },
   "outputs": [
    {
     "data": {
      "text/html": [
       "<div>\n",
       "<style scoped>\n",
       "    .dataframe tbody tr th:only-of-type {\n",
       "        vertical-align: middle;\n",
       "    }\n",
       "\n",
       "    .dataframe tbody tr th {\n",
       "        vertical-align: top;\n",
       "    }\n",
       "\n",
       "    .dataframe thead th {\n",
       "        text-align: right;\n",
       "    }\n",
       "</style>\n",
       "<table border=\"1\" class=\"dataframe\">\n",
       "  <thead>\n",
       "    <tr style=\"text-align: right;\">\n",
       "      <th></th>\n",
       "      <th>title</th>\n",
       "      <th>puNumber</th>\n",
       "      <th>show_start_date</th>\n",
       "      <th>type</th>\n",
       "      <th>film_studio</th>\n",
       "      <th>production_country</th>\n",
       "      <th>director</th>\n",
       "      <th>producer</th>\n",
       "      <th>age_restriction</th>\n",
       "      <th>refundable_support</th>\n",
       "      <th>nonrefundable_support</th>\n",
       "      <th>budget</th>\n",
       "      <th>financing_source</th>\n",
       "      <th>ratings</th>\n",
       "      <th>genres</th>\n",
       "      <th>box_office</th>\n",
       "    </tr>\n",
       "  </thead>\n",
       "  <tbody>\n",
       "    <tr>\n",
       "      <td>5067</td>\n",
       "      <td>Анализируй это!</td>\n",
       "      <td>221054410</td>\n",
       "      <td>2010-05-25 12:00:00+00:00</td>\n",
       "      <td>Художественный</td>\n",
       "      <td>Уорнер Бразерс, Вилладж Роудшоу Филмз ЛТД</td>\n",
       "      <td>США-Австралия</td>\n",
       "      <td>ХЭрольд Рэмис</td>\n",
       "      <td>Джейн Розенталь, Пола Уейнстейн</td>\n",
       "      <td>«16+» - для детей старше 16 лет</td>\n",
       "      <td>NaN</td>\n",
       "      <td>NaN</td>\n",
       "      <td>NaN</td>\n",
       "      <td>NaN</td>\n",
       "      <td>7.4</td>\n",
       "      <td>комедия,криминал</td>\n",
       "      <td>NaN</td>\n",
       "    </tr>\n",
       "    <tr>\n",
       "      <td>5068</td>\n",
       "      <td>Анализируй то!</td>\n",
       "      <td>221054410</td>\n",
       "      <td>2010-05-25 12:00:00+00:00</td>\n",
       "      <td>Художественный</td>\n",
       "      <td>Уорнер Бразерс, Виллидж Роадшоу Пикчерз, Эн-Пи...</td>\n",
       "      <td>США</td>\n",
       "      <td>Гарольд Реймис</td>\n",
       "      <td>Джейн Розенталь, Паул Уэйнстейн</td>\n",
       "      <td>«12+» - для детей старше 12 лет</td>\n",
       "      <td>NaN</td>\n",
       "      <td>NaN</td>\n",
       "      <td>NaN</td>\n",
       "      <td>NaN</td>\n",
       "      <td>6.8</td>\n",
       "      <td>комедия,криминал</td>\n",
       "      <td>NaN</td>\n",
       "    </tr>\n",
       "  </tbody>\n",
       "</table>\n",
       "</div>"
      ],
      "text/plain": [
       "                title   puNumber           show_start_date            type  \\\n",
       "5067  Анализируй это!  221054410 2010-05-25 12:00:00+00:00  Художественный   \n",
       "5068   Анализируй то!  221054410 2010-05-25 12:00:00+00:00  Художественный   \n",
       "\n",
       "                                            film_studio production_country  \\\n",
       "5067          Уорнер Бразерс, Вилладж Роудшоу Филмз ЛТД      США-Австралия   \n",
       "5068  Уорнер Бразерс, Виллидж Роадшоу Пикчерз, Эн-Пи...                США   \n",
       "\n",
       "            director                         producer  \\\n",
       "5067   ХЭрольд Рэмис  Джейн Розенталь, Пола Уейнстейн   \n",
       "5068  Гарольд Реймис  Джейн Розенталь, Паул Уэйнстейн   \n",
       "\n",
       "                      age_restriction  refundable_support  \\\n",
       "5067  «16+» - для детей старше 16 лет                 NaN   \n",
       "5068  «12+» - для детей старше 12 лет                 NaN   \n",
       "\n",
       "      nonrefundable_support  budget financing_source ratings  \\\n",
       "5067                    NaN     NaN              NaN     7.4   \n",
       "5068                    NaN     NaN              NaN     6.8   \n",
       "\n",
       "                genres  box_office  \n",
       "5067  комедия,криминал         NaN  \n",
       "5068  комедия,криминал         NaN  "
      ]
     },
     "execution_count": 12,
     "metadata": {},
     "output_type": "execute_result"
    }
   ],
   "source": [
    "# посмотрим по номеру 221054410\n",
    "movies[movies['puNumber'] == '221054410']"
   ]
  },
  {
   "cell_type": "code",
   "execution_count": 13,
   "metadata": {
    "scrolled": true
   },
   "outputs": [
    {
     "data": {
      "text/html": [
       "<div>\n",
       "<style scoped>\n",
       "    .dataframe tbody tr th:only-of-type {\n",
       "        vertical-align: middle;\n",
       "    }\n",
       "\n",
       "    .dataframe tbody tr th {\n",
       "        vertical-align: top;\n",
       "    }\n",
       "\n",
       "    .dataframe thead th {\n",
       "        text-align: right;\n",
       "    }\n",
       "</style>\n",
       "<table border=\"1\" class=\"dataframe\">\n",
       "  <thead>\n",
       "    <tr style=\"text-align: right;\">\n",
       "      <th></th>\n",
       "      <th>title</th>\n",
       "      <th>puNumber</th>\n",
       "      <th>show_start_date</th>\n",
       "      <th>type</th>\n",
       "      <th>film_studio</th>\n",
       "      <th>production_country</th>\n",
       "      <th>director</th>\n",
       "      <th>producer</th>\n",
       "      <th>age_restriction</th>\n",
       "      <th>refundable_support</th>\n",
       "      <th>nonrefundable_support</th>\n",
       "      <th>budget</th>\n",
       "      <th>financing_source</th>\n",
       "      <th>ratings</th>\n",
       "      <th>genres</th>\n",
       "      <th>box_office</th>\n",
       "    </tr>\n",
       "  </thead>\n",
       "  <tbody>\n",
       "    <tr>\n",
       "      <td>4638</td>\n",
       "      <td>Как жениться и остаться холостым</td>\n",
       "      <td>221154310</td>\n",
       "      <td>2010-12-17 12:00:00+00:00</td>\n",
       "      <td>Художественный</td>\n",
       "      <td>Ше Вам, Скрипт Ассосье, Тэ Фэ 1 Фильм Продюксь...</td>\n",
       "      <td>Франция</td>\n",
       "      <td>Эрик Лартиго</td>\n",
       "      <td>Амандин Било, Алан Шаба</td>\n",
       "      <td>«16+» - для детей старше 16 лет</td>\n",
       "      <td>NaN</td>\n",
       "      <td>NaN</td>\n",
       "      <td>NaN</td>\n",
       "      <td>NaN</td>\n",
       "      <td>7.0</td>\n",
       "      <td>мелодрама,комедия</td>\n",
       "      <td>NaN</td>\n",
       "    </tr>\n",
       "    <tr>\n",
       "      <td>4639</td>\n",
       "      <td>Иоанна - женщина на папском престоле /По роман...</td>\n",
       "      <td>221154310</td>\n",
       "      <td>2010-12-17 12:00:00+00:00</td>\n",
       "      <td>Художественный</td>\n",
       "      <td>Константин Фильм, А Эр Ди Дегето Фильм, Дюне ...</td>\n",
       "      <td>Германия - Великобритания - Италия - Испания</td>\n",
       "      <td>Зенке Вортманн</td>\n",
       "      <td>Оливер Бербен, Дорис Д.Хайнце, Фарук Элтан</td>\n",
       "      <td>«16+» - для детей старше 16 лет</td>\n",
       "      <td>NaN</td>\n",
       "      <td>NaN</td>\n",
       "      <td>NaN</td>\n",
       "      <td>NaN</td>\n",
       "      <td>7.6</td>\n",
       "      <td>драма,мелодрама,история</td>\n",
       "      <td>NaN</td>\n",
       "    </tr>\n",
       "  </tbody>\n",
       "</table>\n",
       "</div>"
      ],
      "text/plain": [
       "                                                  title   puNumber  \\\n",
       "4638                   Как жениться и остаться холостым  221154310   \n",
       "4639  Иоанна - женщина на папском престоле /По роман...  221154310   \n",
       "\n",
       "               show_start_date            type  \\\n",
       "4638 2010-12-17 12:00:00+00:00  Художественный   \n",
       "4639 2010-12-17 12:00:00+00:00  Художественный   \n",
       "\n",
       "                                            film_studio  \\\n",
       "4638  Ше Вам, Скрипт Ассосье, Тэ Фэ 1 Фильм Продюксь...   \n",
       "4639   Константин Фильм, А Эр Ди Дегето Фильм, Дюне ...   \n",
       "\n",
       "                                production_country        director  \\\n",
       "4638                                       Франция    Эрик Лартиго   \n",
       "4639  Германия - Великобритания - Италия - Испания  Зенке Вортманн   \n",
       "\n",
       "                                        producer  \\\n",
       "4638                     Амандин Било, Алан Шаба   \n",
       "4639  Оливер Бербен, Дорис Д.Хайнце, Фарук Элтан   \n",
       "\n",
       "                      age_restriction  refundable_support  \\\n",
       "4638  «16+» - для детей старше 16 лет                 NaN   \n",
       "4639  «16+» - для детей старше 16 лет                 NaN   \n",
       "\n",
       "      nonrefundable_support  budget financing_source ratings  \\\n",
       "4638                    NaN     NaN              NaN     7.0   \n",
       "4639                    NaN     NaN              NaN     7.6   \n",
       "\n",
       "                       genres  box_office  \n",
       "4638        мелодрама,комедия         NaN  \n",
       "4639  драма,мелодрама,история         NaN  "
      ]
     },
     "execution_count": 13,
     "metadata": {},
     "output_type": "execute_result"
    }
   ],
   "source": [
    "# посмотрим по номеру 221154310\n",
    "movies[movies['puNumber'] == '221154310']"
   ]
  },
  {
   "cell_type": "markdown",
   "metadata": {},
   "source": [
    "Просмотрев повторяющиеся, по названию видно, что фильмы разные. Это не дубликаты. Возможно МКРФ выдал один номер на два фильма."
   ]
  },
  {
   "cell_type": "markdown",
   "metadata": {
    "id": "52fOPrEBgFyQ"
   },
   "source": [
    "#### Шаг 2.4. Изучите категориальные значения\n",
    "\n",
    "- Посмотрим, какая общая проблема встречается почти во всех категориальных столбцах;\n",
    "- Исправим проблемные значения в поле `type`.\n"
   ]
  },
  {
   "cell_type": "markdown",
   "metadata": {},
   "source": [
    "Проверим столбцы с категориальными значениями."
   ]
  },
  {
   "cell_type": "code",
   "execution_count": 14,
   "metadata": {
    "scrolled": true
   },
   "outputs": [
    {
     "data": {
      "text/plain": [
       "array(['Художественный', 'Анимационный', 'Прочие', 'Документальный',\n",
       "       'Научно-популярный', ' Художественный', ' Анимационный',\n",
       "       'Музыкально-развлекательный'], dtype=object)"
      ]
     },
     "execution_count": 14,
     "metadata": {},
     "output_type": "execute_result"
    }
   ],
   "source": [
    "# уникальные значения по столбцу type\n",
    "movies['type'].unique()"
   ]
  },
  {
   "cell_type": "markdown",
   "metadata": {},
   "source": [
    "Есть несколько значений, у которых есть пробел в начале строки. Заменим данные, на данные без пробелов."
   ]
  },
  {
   "cell_type": "code",
   "execution_count": 15,
   "metadata": {
    "id": "PnXKIVdFgFyR",
    "scrolled": true
   },
   "outputs": [
    {
     "data": {
      "text/plain": [
       "array(['Художественный', 'Анимационный', 'Прочие', 'Документальный',\n",
       "       'Научно-популярный', 'Музыкально-развлекательный'], dtype=object)"
      ]
     },
     "execution_count": 15,
     "metadata": {},
     "output_type": "execute_result"
    }
   ],
   "source": [
    "# уберем пробел из данных\n",
    "movies['type'] = movies['type'].str.strip()\n",
    "movies['type'].unique()"
   ]
  },
  {
   "cell_type": "code",
   "execution_count": 16,
   "metadata": {
    "scrolled": false
   },
   "outputs": [
    {
     "data": {
      "text/plain": [
       "array(['«18+» - запрещено для детей', '«6+» - для детей старше 6 лет',\n",
       "       '«12+» - для детей старше 12 лет',\n",
       "       '«16+» - для детей старше 16 лет',\n",
       "       '«0+» - для любой зрительской аудитории'], dtype=object)"
      ]
     },
     "execution_count": 16,
     "metadata": {},
     "output_type": "execute_result"
    }
   ],
   "source": [
    "# уникальные значения по столбцу age_restriction\n",
    "movies['age_restriction'].unique()"
   ]
  },
  {
   "cell_type": "markdown",
   "metadata": {},
   "source": [
    "По столбцу `age_restriction` — возрастная категория все верно. Править тут ничего не надо. Для дальнешего анализа упростим, создадим столбец с данными на 18+, 16+, 12+, 6+ и 0+."
   ]
  },
  {
   "cell_type": "code",
   "execution_count": 17,
   "metadata": {},
   "outputs": [],
   "source": [
    "# функция категоризации \n",
    "def age_restriction_group(row):\n",
    "    if row == '«18+» - запрещено для детей':\n",
    "        return '18+'\n",
    "    if row == '«16+» - для детей старше 16 лет':\n",
    "        return '16+'\n",
    "    if row == '«12+» - для детей старше 12 лет':\n",
    "        return '12+'\n",
    "    if row == '«6+» - для детей старше 6 лет':\n",
    "        return '6+'\n",
    "    return '0+'"
   ]
  },
  {
   "cell_type": "code",
   "execution_count": 18,
   "metadata": {},
   "outputs": [
    {
     "data": {
      "text/html": [
       "<div>\n",
       "<style scoped>\n",
       "    .dataframe tbody tr th:only-of-type {\n",
       "        vertical-align: middle;\n",
       "    }\n",
       "\n",
       "    .dataframe tbody tr th {\n",
       "        vertical-align: top;\n",
       "    }\n",
       "\n",
       "    .dataframe thead th {\n",
       "        text-align: right;\n",
       "    }\n",
       "</style>\n",
       "<table border=\"1\" class=\"dataframe\">\n",
       "  <thead>\n",
       "    <tr style=\"text-align: right;\">\n",
       "      <th></th>\n",
       "      <th>title</th>\n",
       "      <th>puNumber</th>\n",
       "      <th>show_start_date</th>\n",
       "      <th>type</th>\n",
       "      <th>film_studio</th>\n",
       "      <th>production_country</th>\n",
       "      <th>director</th>\n",
       "      <th>producer</th>\n",
       "      <th>age_restriction</th>\n",
       "      <th>refundable_support</th>\n",
       "      <th>nonrefundable_support</th>\n",
       "      <th>budget</th>\n",
       "      <th>financing_source</th>\n",
       "      <th>ratings</th>\n",
       "      <th>genres</th>\n",
       "      <th>box_office</th>\n",
       "      <th>age_group</th>\n",
       "    </tr>\n",
       "  </thead>\n",
       "  <tbody>\n",
       "    <tr>\n",
       "      <td>0</td>\n",
       "      <td>Открытый простор</td>\n",
       "      <td>221048915</td>\n",
       "      <td>2015-11-27 12:00:00+00:00</td>\n",
       "      <td>Художественный</td>\n",
       "      <td>Тачстоун Пикчерз, Кобальт Пикчерз, Бикон Пикче...</td>\n",
       "      <td>США</td>\n",
       "      <td>Кевин Костнер</td>\n",
       "      <td>Дэвид Валдес, Кевин Костнер, Джейк Эбертс</td>\n",
       "      <td>«18+» - запрещено для детей</td>\n",
       "      <td>NaN</td>\n",
       "      <td>NaN</td>\n",
       "      <td>NaN</td>\n",
       "      <td>NaN</td>\n",
       "      <td>7.2</td>\n",
       "      <td>боевик,драма,мелодрама</td>\n",
       "      <td>NaN</td>\n",
       "      <td>18+</td>\n",
       "    </tr>\n",
       "    <tr>\n",
       "      <td>1</td>\n",
       "      <td>Особо важное задание</td>\n",
       "      <td>111013716</td>\n",
       "      <td>2016-09-13 12:00:00+00:00</td>\n",
       "      <td>Художественный</td>\n",
       "      <td>Киностудия \"Мосфильм\"</td>\n",
       "      <td>СССР</td>\n",
       "      <td>Е.Матвеев</td>\n",
       "      <td>NaN</td>\n",
       "      <td>«6+» - для детей старше 6 лет</td>\n",
       "      <td>NaN</td>\n",
       "      <td>NaN</td>\n",
       "      <td>NaN</td>\n",
       "      <td>NaN</td>\n",
       "      <td>6.6</td>\n",
       "      <td>драма,военный</td>\n",
       "      <td>NaN</td>\n",
       "      <td>6+</td>\n",
       "    </tr>\n",
       "    <tr>\n",
       "      <td>2</td>\n",
       "      <td>Особо опасен</td>\n",
       "      <td>221038416</td>\n",
       "      <td>2016-10-10 12:00:00+00:00</td>\n",
       "      <td>Художественный</td>\n",
       "      <td>Юниверсал Пикчерз, Кикстарт Продакшнз, Марк Пл...</td>\n",
       "      <td>США</td>\n",
       "      <td>Тимур Бекмамбетов</td>\n",
       "      <td>Джим Лемли, Джейсон Нетер, Марк Е.Платт, Яйн Смит</td>\n",
       "      <td>«18+» - запрещено для детей</td>\n",
       "      <td>NaN</td>\n",
       "      <td>NaN</td>\n",
       "      <td>NaN</td>\n",
       "      <td>NaN</td>\n",
       "      <td>6.8</td>\n",
       "      <td>фантастика,боевик,триллер</td>\n",
       "      <td>NaN</td>\n",
       "      <td>18+</td>\n",
       "    </tr>\n",
       "    <tr>\n",
       "      <td>3</td>\n",
       "      <td>Особо опасен</td>\n",
       "      <td>221026916</td>\n",
       "      <td>2016-06-10 12:00:00+00:00</td>\n",
       "      <td>Художественный</td>\n",
       "      <td>Юниверсал Пикчерз, Кикстарт Продакшнз, Марк Пл...</td>\n",
       "      <td>США</td>\n",
       "      <td>Тимур Бекмамбетов</td>\n",
       "      <td>Джим Лемли, Джейсон Нетер, Марк Е.Платт, Яйн Смит</td>\n",
       "      <td>«18+» - запрещено для детей</td>\n",
       "      <td>NaN</td>\n",
       "      <td>NaN</td>\n",
       "      <td>NaN</td>\n",
       "      <td>NaN</td>\n",
       "      <td>6.8</td>\n",
       "      <td>фантастика,боевик,триллер</td>\n",
       "      <td>NaN</td>\n",
       "      <td>18+</td>\n",
       "    </tr>\n",
       "    <tr>\n",
       "      <td>4</td>\n",
       "      <td>Особо опасен</td>\n",
       "      <td>221030815</td>\n",
       "      <td>2015-07-29 12:00:00+00:00</td>\n",
       "      <td>Художественный</td>\n",
       "      <td>Юниверсал Пикчерз, Кикстарт Продакшнз, Марк Пл...</td>\n",
       "      <td>США</td>\n",
       "      <td>Тимур Бекмамбетов</td>\n",
       "      <td>Джим Лемли, Джейсон Нетер, Марк Е.Платт, Яйн Смит</td>\n",
       "      <td>«18+» - запрещено для детей</td>\n",
       "      <td>NaN</td>\n",
       "      <td>NaN</td>\n",
       "      <td>NaN</td>\n",
       "      <td>NaN</td>\n",
       "      <td>6.8</td>\n",
       "      <td>фантастика,боевик,триллер</td>\n",
       "      <td>NaN</td>\n",
       "      <td>18+</td>\n",
       "    </tr>\n",
       "  </tbody>\n",
       "</table>\n",
       "</div>"
      ],
      "text/plain": [
       "                  title   puNumber           show_start_date            type  \\\n",
       "0      Открытый простор  221048915 2015-11-27 12:00:00+00:00  Художественный   \n",
       "1  Особо важное задание  111013716 2016-09-13 12:00:00+00:00  Художественный   \n",
       "2          Особо опасен  221038416 2016-10-10 12:00:00+00:00  Художественный   \n",
       "3          Особо опасен  221026916 2016-06-10 12:00:00+00:00  Художественный   \n",
       "4          Особо опасен  221030815 2015-07-29 12:00:00+00:00  Художественный   \n",
       "\n",
       "                                         film_studio production_country  \\\n",
       "0  Тачстоун Пикчерз, Кобальт Пикчерз, Бикон Пикче...                США   \n",
       "1                              Киностудия \"Мосфильм\"               СССР   \n",
       "2  Юниверсал Пикчерз, Кикстарт Продакшнз, Марк Пл...                США   \n",
       "3  Юниверсал Пикчерз, Кикстарт Продакшнз, Марк Пл...                США   \n",
       "4  Юниверсал Пикчерз, Кикстарт Продакшнз, Марк Пл...                США   \n",
       "\n",
       "            director                                           producer  \\\n",
       "0      Кевин Костнер          Дэвид Валдес, Кевин Костнер, Джейк Эбертс   \n",
       "1          Е.Матвеев                                                NaN   \n",
       "2  Тимур Бекмамбетов  Джим Лемли, Джейсон Нетер, Марк Е.Платт, Яйн Смит   \n",
       "3  Тимур Бекмамбетов  Джим Лемли, Джейсон Нетер, Марк Е.Платт, Яйн Смит   \n",
       "4  Тимур Бекмамбетов  Джим Лемли, Джейсон Нетер, Марк Е.Платт, Яйн Смит   \n",
       "\n",
       "                 age_restriction  refundable_support  nonrefundable_support  \\\n",
       "0    «18+» - запрещено для детей                 NaN                    NaN   \n",
       "1  «6+» - для детей старше 6 лет                 NaN                    NaN   \n",
       "2    «18+» - запрещено для детей                 NaN                    NaN   \n",
       "3    «18+» - запрещено для детей                 NaN                    NaN   \n",
       "4    «18+» - запрещено для детей                 NaN                    NaN   \n",
       "\n",
       "   budget financing_source ratings                     genres  box_office  \\\n",
       "0     NaN              NaN     7.2     боевик,драма,мелодрама         NaN   \n",
       "1     NaN              NaN     6.6              драма,военный         NaN   \n",
       "2     NaN              NaN     6.8  фантастика,боевик,триллер         NaN   \n",
       "3     NaN              NaN     6.8  фантастика,боевик,триллер         NaN   \n",
       "4     NaN              NaN     6.8  фантастика,боевик,триллер         NaN   \n",
       "\n",
       "  age_group  \n",
       "0       18+  \n",
       "1        6+  \n",
       "2       18+  \n",
       "3       18+  \n",
       "4       18+  "
      ]
     },
     "execution_count": 18,
     "metadata": {},
     "output_type": "execute_result"
    }
   ],
   "source": [
    "# зальем датсет через apply и функцию\n",
    "movies['age_group'] = movies['age_restriction'].apply(age_restriction_group)\n",
    "movies.head()"
   ]
  },
  {
   "cell_type": "markdown",
   "metadata": {},
   "source": [
    "Проверим дагные по столбцу `ratings` - рейтинг фильма на КиноПоиске"
   ]
  },
  {
   "cell_type": "code",
   "execution_count": 19,
   "metadata": {
    "scrolled": true
   },
   "outputs": [
    {
     "data": {
      "text/plain": [
       "array(['7.2', '6.6', '6.8', '7.7', '8.3', '8.0', '7.8', '8.1', '7.1',\n",
       "       '6.0', '7.4', '5.8', '8.7', '6.3', '6.9', '5.0', '4.3', '7.3',\n",
       "       '7.0', '6.4', nan, '8.2', '7.5', '6.7', '7.9', '5.9', '6.2', '5.6',\n",
       "       '6.5', '2.4', '7.6', '6.1', '8.6', '8.5', '8.8', '5.5', '5.1',\n",
       "       '5.7', '5.4', '99%', '4.4', '4.5', '5.3', '4.1', '8.4', '2.6',\n",
       "       '3.8', '4.6', '4.8', '4.0', '3.0', '1.6', '4.2', '5.2', '4.7',\n",
       "       '4.9', '3.9', '2.7', '3.3', '2.9', '28%', '3.7', '1.4', '3.1',\n",
       "       '97%', '3.5', '3.2', '2.8', '1.5', '2.1', '2.5', '9.2', '3.4',\n",
       "       '1.1', '3.6', '83%', '64%', '91%', '94%', '62%', '79%', '90%',\n",
       "       '19%', '88%', '1.0', '89%', '1.3', '1.9', '1.8', '1.2', '1.7',\n",
       "       '9.0', '98%', '8.9', '9.1'], dtype=object)"
      ]
     },
     "execution_count": 19,
     "metadata": {},
     "output_type": "execute_result"
    }
   ],
   "source": [
    "# уникальные значения по столбцу ratings\n",
    "movies['ratings'].unique()"
   ]
  },
  {
   "cell_type": "markdown",
   "metadata": {},
   "source": [
    "Видно, что рейтинг заполнен по разному, есть процетная оценка.\n",
    "Поскольку часть значений содержится в виде процентов, переведем такие значения к общему виду для рейтинга и приведем столбец к типу <span style=\"color:orange\">*float64*</span>"
   ]
  },
  {
   "cell_type": "code",
   "execution_count": 20,
   "metadata": {},
   "outputs": [
    {
     "data": {
      "text/plain": [
       "array([7.2, 6.6, 6.8, 7.7, 8.3, 8. , 7.8, 8.1, 7.1, 6. , 7.4, 5.8, 8.7,\n",
       "       6.3, 6.9, 5. , 4.3, 7.3, 7. , 6.4, nan, 8.2, 7.5, 6.7, 7.9, 5.9,\n",
       "       6.2, 5.6, 6.5, 2.4, 7.6, 6.1, 8.6, 8.5, 8.8, 5.5, 5.1, 5.7, 5.4,\n",
       "       9.9, 4.4, 4.5, 5.3, 4.1, 8.4, 2.6, 3.8, 4.6, 4.8, 4. , 3. , 1.6,\n",
       "       4.2, 5.2, 4.7, 4.9, 3.9, 2.7, 3.3, 2.9, 2.8, 3.7, 1.4, 3.1, 9.7,\n",
       "       3.5, 3.2, 1.5, 2.1, 2.5, 9.2, 3.4, 1.1, 3.6, 9.1, 9.4, 9. , 1.9,\n",
       "       1. , 8.9, 1.3, 1.8, 1.2, 1.7, 9.8])"
      ]
     },
     "execution_count": 20,
     "metadata": {},
     "output_type": "execute_result"
    }
   ],
   "source": [
    "# функция для замены %\n",
    "def remove_percent(rating):\n",
    "# print\n",
    "    if str(rating).endswith('%'):\n",
    "        return float(rating[:-1])/10\n",
    "    else:\n",
    "        return rating\n",
    "\n",
    "# зальем датсет через apply и функцию\n",
    "# заменим тип данных и отобразим информацию\n",
    "movies['ratings'] = movies['ratings'].apply(remove_percent)\n",
    "movies['ratings'] = movies['ratings'].astype('float64')\n",
    "movies['ratings'].unique()"
   ]
  },
  {
   "cell_type": "markdown",
   "metadata": {},
   "source": [
    "Видно, что данные с процентами не относятся к кинопоиску, т.к. на кинопоиске 10 бальная система оценки. Нужно уточнить откуда эти данные, после принять решение удалять их или нет. Сейчас оставим их."
   ]
  },
  {
   "cell_type": "markdown",
   "metadata": {},
   "source": [
    "Скоректировали данные и привели к одному виду по столбцу `type` — тип фильма и `ratings` - рейтинг фильма на КиноПоиске"
   ]
  },
  {
   "cell_type": "markdown",
   "metadata": {
    "id": "XFSN5lrEgFyR"
   },
   "source": [
    "#### Шаг 2.5. Проверьте количественные значения\n",
    "\n",
    "- Проверим, обнаружились ли в таких столбцах подозрительные данные. Как с такими данными лучше поступить?\n"
   ]
  },
  {
   "cell_type": "markdown",
   "metadata": {},
   "source": [
    "Так как столбец `budget` — общий бюджет фильма уже включает в себя полный объём государственной поддержки, он не может быть меньше чем сумма столбцов `refundable_support` — объём возвратных средств государственной поддержки и `nonrefundable_support` — объём невозвратных средств государственной поддержки."
   ]
  },
  {
   "cell_type": "code",
   "execution_count": 21,
   "metadata": {
    "id": "YbzClBxagFyS",
    "scrolled": false
   },
   "outputs": [
    {
     "data": {
      "text/plain": [
       "array(['14+', 'Дуxless 2', 'Воин (2015)', 'Бармен.',\n",
       "       'Савва. Сердце воина', 'Тряпичный союз', 'Срочно выйду замуж',\n",
       "       'Помню - не помню!', 'Любовь с ограничениями', 'Притяжение (2016)',\n",
       "       'Чудо-юдо', 'Мифы', 'Селфи', 'Два хвоста', 'Принцесса и дракон',\n",
       "       'Баба Яга', 'Большое путешествие'], dtype=object)"
      ]
     },
     "execution_count": 21,
     "metadata": {},
     "output_type": "execute_result"
    }
   ],
   "source": [
    "# отобразим список фильмов у которых бюджет меньше чем государственная поддержка\n",
    "movies.query('budget == 0 & (refundable_support != 0 | nonrefundable_support != 0)')['title'].unique()"
   ]
  },
  {
   "cell_type": "code",
   "execution_count": 22,
   "metadata": {},
   "outputs": [
    {
     "data": {
      "text/html": [
       "<div>\n",
       "<style scoped>\n",
       "    .dataframe tbody tr th:only-of-type {\n",
       "        vertical-align: middle;\n",
       "    }\n",
       "\n",
       "    .dataframe tbody tr th {\n",
       "        vertical-align: top;\n",
       "    }\n",
       "\n",
       "    .dataframe thead th {\n",
       "        text-align: right;\n",
       "    }\n",
       "</style>\n",
       "<table border=\"1\" class=\"dataframe\">\n",
       "  <thead>\n",
       "    <tr style=\"text-align: right;\">\n",
       "      <th></th>\n",
       "      <th>title</th>\n",
       "      <th>puNumber</th>\n",
       "      <th>show_start_date</th>\n",
       "      <th>type</th>\n",
       "      <th>film_studio</th>\n",
       "      <th>production_country</th>\n",
       "      <th>director</th>\n",
       "      <th>producer</th>\n",
       "      <th>age_restriction</th>\n",
       "      <th>refundable_support</th>\n",
       "      <th>nonrefundable_support</th>\n",
       "      <th>budget</th>\n",
       "      <th>financing_source</th>\n",
       "      <th>ratings</th>\n",
       "      <th>genres</th>\n",
       "      <th>box_office</th>\n",
       "      <th>age_group</th>\n",
       "      <th>sum_ref_noref</th>\n",
       "    </tr>\n",
       "  </thead>\n",
       "  <tbody>\n",
       "    <tr>\n",
       "      <td>0</td>\n",
       "      <td>Открытый простор</td>\n",
       "      <td>221048915</td>\n",
       "      <td>2015-11-27 12:00:00+00:00</td>\n",
       "      <td>Художественный</td>\n",
       "      <td>Тачстоун Пикчерз, Кобальт Пикчерз, Бикон Пикче...</td>\n",
       "      <td>США</td>\n",
       "      <td>Кевин Костнер</td>\n",
       "      <td>Дэвид Валдес, Кевин Костнер, Джейк Эбертс</td>\n",
       "      <td>«18+» - запрещено для детей</td>\n",
       "      <td>NaN</td>\n",
       "      <td>NaN</td>\n",
       "      <td>NaN</td>\n",
       "      <td>NaN</td>\n",
       "      <td>7.2</td>\n",
       "      <td>боевик,драма,мелодрама</td>\n",
       "      <td>NaN</td>\n",
       "      <td>18+</td>\n",
       "      <td>NaN</td>\n",
       "    </tr>\n",
       "    <tr>\n",
       "      <td>1</td>\n",
       "      <td>Особо важное задание</td>\n",
       "      <td>111013716</td>\n",
       "      <td>2016-09-13 12:00:00+00:00</td>\n",
       "      <td>Художественный</td>\n",
       "      <td>Киностудия \"Мосфильм\"</td>\n",
       "      <td>СССР</td>\n",
       "      <td>Е.Матвеев</td>\n",
       "      <td>NaN</td>\n",
       "      <td>«6+» - для детей старше 6 лет</td>\n",
       "      <td>NaN</td>\n",
       "      <td>NaN</td>\n",
       "      <td>NaN</td>\n",
       "      <td>NaN</td>\n",
       "      <td>6.6</td>\n",
       "      <td>драма,военный</td>\n",
       "      <td>NaN</td>\n",
       "      <td>6+</td>\n",
       "      <td>NaN</td>\n",
       "    </tr>\n",
       "    <tr>\n",
       "      <td>2</td>\n",
       "      <td>Особо опасен</td>\n",
       "      <td>221038416</td>\n",
       "      <td>2016-10-10 12:00:00+00:00</td>\n",
       "      <td>Художественный</td>\n",
       "      <td>Юниверсал Пикчерз, Кикстарт Продакшнз, Марк Пл...</td>\n",
       "      <td>США</td>\n",
       "      <td>Тимур Бекмамбетов</td>\n",
       "      <td>Джим Лемли, Джейсон Нетер, Марк Е.Платт, Яйн Смит</td>\n",
       "      <td>«18+» - запрещено для детей</td>\n",
       "      <td>NaN</td>\n",
       "      <td>NaN</td>\n",
       "      <td>NaN</td>\n",
       "      <td>NaN</td>\n",
       "      <td>6.8</td>\n",
       "      <td>фантастика,боевик,триллер</td>\n",
       "      <td>NaN</td>\n",
       "      <td>18+</td>\n",
       "      <td>NaN</td>\n",
       "    </tr>\n",
       "    <tr>\n",
       "      <td>3</td>\n",
       "      <td>Особо опасен</td>\n",
       "      <td>221026916</td>\n",
       "      <td>2016-06-10 12:00:00+00:00</td>\n",
       "      <td>Художественный</td>\n",
       "      <td>Юниверсал Пикчерз, Кикстарт Продакшнз, Марк Пл...</td>\n",
       "      <td>США</td>\n",
       "      <td>Тимур Бекмамбетов</td>\n",
       "      <td>Джим Лемли, Джейсон Нетер, Марк Е.Платт, Яйн Смит</td>\n",
       "      <td>«18+» - запрещено для детей</td>\n",
       "      <td>NaN</td>\n",
       "      <td>NaN</td>\n",
       "      <td>NaN</td>\n",
       "      <td>NaN</td>\n",
       "      <td>6.8</td>\n",
       "      <td>фантастика,боевик,триллер</td>\n",
       "      <td>NaN</td>\n",
       "      <td>18+</td>\n",
       "      <td>NaN</td>\n",
       "    </tr>\n",
       "    <tr>\n",
       "      <td>4</td>\n",
       "      <td>Особо опасен</td>\n",
       "      <td>221030815</td>\n",
       "      <td>2015-07-29 12:00:00+00:00</td>\n",
       "      <td>Художественный</td>\n",
       "      <td>Юниверсал Пикчерз, Кикстарт Продакшнз, Марк Пл...</td>\n",
       "      <td>США</td>\n",
       "      <td>Тимур Бекмамбетов</td>\n",
       "      <td>Джим Лемли, Джейсон Нетер, Марк Е.Платт, Яйн Смит</td>\n",
       "      <td>«18+» - запрещено для детей</td>\n",
       "      <td>NaN</td>\n",
       "      <td>NaN</td>\n",
       "      <td>NaN</td>\n",
       "      <td>NaN</td>\n",
       "      <td>6.8</td>\n",
       "      <td>фантастика,боевик,триллер</td>\n",
       "      <td>NaN</td>\n",
       "      <td>18+</td>\n",
       "      <td>NaN</td>\n",
       "    </tr>\n",
       "  </tbody>\n",
       "</table>\n",
       "</div>"
      ],
      "text/plain": [
       "                  title   puNumber           show_start_date            type  \\\n",
       "0      Открытый простор  221048915 2015-11-27 12:00:00+00:00  Художественный   \n",
       "1  Особо важное задание  111013716 2016-09-13 12:00:00+00:00  Художественный   \n",
       "2          Особо опасен  221038416 2016-10-10 12:00:00+00:00  Художественный   \n",
       "3          Особо опасен  221026916 2016-06-10 12:00:00+00:00  Художественный   \n",
       "4          Особо опасен  221030815 2015-07-29 12:00:00+00:00  Художественный   \n",
       "\n",
       "                                         film_studio production_country  \\\n",
       "0  Тачстоун Пикчерз, Кобальт Пикчерз, Бикон Пикче...                США   \n",
       "1                              Киностудия \"Мосфильм\"               СССР   \n",
       "2  Юниверсал Пикчерз, Кикстарт Продакшнз, Марк Пл...                США   \n",
       "3  Юниверсал Пикчерз, Кикстарт Продакшнз, Марк Пл...                США   \n",
       "4  Юниверсал Пикчерз, Кикстарт Продакшнз, Марк Пл...                США   \n",
       "\n",
       "            director                                           producer  \\\n",
       "0      Кевин Костнер          Дэвид Валдес, Кевин Костнер, Джейк Эбертс   \n",
       "1          Е.Матвеев                                                NaN   \n",
       "2  Тимур Бекмамбетов  Джим Лемли, Джейсон Нетер, Марк Е.Платт, Яйн Смит   \n",
       "3  Тимур Бекмамбетов  Джим Лемли, Джейсон Нетер, Марк Е.Платт, Яйн Смит   \n",
       "4  Тимур Бекмамбетов  Джим Лемли, Джейсон Нетер, Марк Е.Платт, Яйн Смит   \n",
       "\n",
       "                 age_restriction  refundable_support  nonrefundable_support  \\\n",
       "0    «18+» - запрещено для детей                 NaN                    NaN   \n",
       "1  «6+» - для детей старше 6 лет                 NaN                    NaN   \n",
       "2    «18+» - запрещено для детей                 NaN                    NaN   \n",
       "3    «18+» - запрещено для детей                 NaN                    NaN   \n",
       "4    «18+» - запрещено для детей                 NaN                    NaN   \n",
       "\n",
       "   budget financing_source  ratings                     genres  box_office  \\\n",
       "0     NaN              NaN      7.2     боевик,драма,мелодрама         NaN   \n",
       "1     NaN              NaN      6.6              драма,военный         NaN   \n",
       "2     NaN              NaN      6.8  фантастика,боевик,триллер         NaN   \n",
       "3     NaN              NaN      6.8  фантастика,боевик,триллер         NaN   \n",
       "4     NaN              NaN      6.8  фантастика,боевик,триллер         NaN   \n",
       "\n",
       "  age_group  sum_ref_noref  \n",
       "0       18+            NaN  \n",
       "1        6+            NaN  \n",
       "2       18+            NaN  \n",
       "3       18+            NaN  \n",
       "4       18+            NaN  "
      ]
     },
     "execution_count": 22,
     "metadata": {},
     "output_type": "execute_result"
    }
   ],
   "source": [
    "# добавим столбец для расчета, сумма столбцов refundable_support и nonrefundable_support\n",
    "movies['sum_ref_noref'] = movies['refundable_support'] + movies['nonrefundable_support']\n",
    "movies.head()"
   ]
  },
  {
   "cell_type": "code",
   "execution_count": 23,
   "metadata": {},
   "outputs": [
    {
     "name": "stdout",
     "output_type": "stream",
     "text": [
      "Неверных строк 5.1%\n"
     ]
    }
   ],
   "source": [
    "# расчитаем процент строк с неверно заполненым бюджетом\n",
    "n = 0\n",
    "for index in range(len(movies['budget'])):\n",
    "    m = movies['budget'][index] - movies['sum_ref_noref'][index]\n",
    "    if m < 0:\n",
    "        n += 1\n",
    "n / len(movies[movies['budget'].isnull() == False])\n",
    "print('Неверных строк {:.1%}'.format(n / len(movies[movies['budget'].isnull() == False])))"
   ]
  },
  {
   "cell_type": "markdown",
   "metadata": {},
   "source": [
    "Строк очень мало, 5 процентов, от всех заполненных строк по столбцу бюджет. Можно удалить иили отметить заглушкой"
   ]
  },
  {
   "cell_type": "code",
   "execution_count": 24,
   "metadata": {
    "scrolled": true
   },
   "outputs": [
    {
     "data": {
      "text/plain": [
       "[2053,\n",
       " 2058,\n",
       " 2472,\n",
       " 2532,\n",
       " 2615,\n",
       " 2684,\n",
       " 2788,\n",
       " 2874,\n",
       " 3047,\n",
       " 3565,\n",
       " 3675,\n",
       " 3739,\n",
       " 5673,\n",
       " 5806,\n",
       " 6008,\n",
       " 6323,\n",
       " 6823]"
      ]
     },
     "execution_count": 24,
     "metadata": {},
     "output_type": "execute_result"
    }
   ],
   "source": [
    "# посмотрим какие строки дают ошибку\n",
    "n = []\n",
    "for index in range(len(movies['budget'])):\n",
    "    m = movies['budget'][index] - movies['sum_ref_noref'][index]\n",
    "    if m < 0:\n",
    "        n.append(index)\n",
    "n"
   ]
  },
  {
   "cell_type": "code",
   "execution_count": 25,
   "metadata": {},
   "outputs": [
    {
     "data": {
      "text/html": [
       "<div>\n",
       "<style scoped>\n",
       "    .dataframe tbody tr th:only-of-type {\n",
       "        vertical-align: middle;\n",
       "    }\n",
       "\n",
       "    .dataframe tbody tr th {\n",
       "        vertical-align: top;\n",
       "    }\n",
       "\n",
       "    .dataframe thead th {\n",
       "        text-align: right;\n",
       "    }\n",
       "</style>\n",
       "<table border=\"1\" class=\"dataframe\">\n",
       "  <thead>\n",
       "    <tr style=\"text-align: right;\">\n",
       "      <th></th>\n",
       "      <th>title</th>\n",
       "      <th>puNumber</th>\n",
       "      <th>show_start_date</th>\n",
       "      <th>type</th>\n",
       "      <th>film_studio</th>\n",
       "      <th>production_country</th>\n",
       "      <th>director</th>\n",
       "      <th>producer</th>\n",
       "      <th>age_restriction</th>\n",
       "      <th>refundable_support</th>\n",
       "      <th>nonrefundable_support</th>\n",
       "      <th>budget</th>\n",
       "      <th>financing_source</th>\n",
       "      <th>ratings</th>\n",
       "      <th>genres</th>\n",
       "      <th>box_office</th>\n",
       "      <th>age_group</th>\n",
       "      <th>sum_ref_noref</th>\n",
       "    </tr>\n",
       "  </thead>\n",
       "  <tbody>\n",
       "    <tr>\n",
       "      <td>2053</td>\n",
       "      <td>14+</td>\n",
       "      <td>111023614</td>\n",
       "      <td>2014-12-19 12:00:00+00:00</td>\n",
       "      <td>Художественный</td>\n",
       "      <td>ООО Киностудия  \"Сентябрь\"</td>\n",
       "      <td>Россия</td>\n",
       "      <td>А.Зайцев</td>\n",
       "      <td>О.Гранина, А.Зайцев</td>\n",
       "      <td>«16+» - для детей старше 16 лет</td>\n",
       "      <td>0.0</td>\n",
       "      <td>23000000.0</td>\n",
       "      <td>0.0</td>\n",
       "      <td>Министерство культуры, Фонд кино</td>\n",
       "      <td>6.6</td>\n",
       "      <td>мелодрама</td>\n",
       "      <td>1.023402e+07</td>\n",
       "      <td>16+</td>\n",
       "      <td>23000000.0</td>\n",
       "    </tr>\n",
       "    <tr>\n",
       "      <td>2058</td>\n",
       "      <td>Дуxless 2</td>\n",
       "      <td>111000415</td>\n",
       "      <td>2015-01-26 12:00:00+00:00</td>\n",
       "      <td>Художественный</td>\n",
       "      <td>ООО \"Киностудия \"Слово\", ООО \"Арт Пикчерс Студия\"</td>\n",
       "      <td>Россия</td>\n",
       "      <td>Р.Прыгунов</td>\n",
       "      <td>П.Ануров, Ф.Бондарчук, Д.Рудовский</td>\n",
       "      <td>«16+» - для детей старше 16 лет</td>\n",
       "      <td>0.0</td>\n",
       "      <td>75000000.0</td>\n",
       "      <td>0.0</td>\n",
       "      <td>Фонд кино</td>\n",
       "      <td>6.6</td>\n",
       "      <td>драма</td>\n",
       "      <td>4.461635e+08</td>\n",
       "      <td>16+</td>\n",
       "      <td>75000000.0</td>\n",
       "    </tr>\n",
       "    <tr>\n",
       "      <td>2472</td>\n",
       "      <td>Воин (2015)</td>\n",
       "      <td>111017315</td>\n",
       "      <td>2015-09-28 12:00:00+00:00</td>\n",
       "      <td>Художественный</td>\n",
       "      <td>ООО \"Форпост Продакшн\", ООО \"Арт Пикчерс Студия\"</td>\n",
       "      <td>Россия</td>\n",
       "      <td>А.Андрианов</td>\n",
       "      <td>ООО \"Арт Пикчерс Студия\"</td>\n",
       "      <td>«12+» - для детей старше 12 лет</td>\n",
       "      <td>10000000.0</td>\n",
       "      <td>70000000.0</td>\n",
       "      <td>0.0</td>\n",
       "      <td>Фонд кино</td>\n",
       "      <td>7.8</td>\n",
       "      <td>боевик,драма,криминал</td>\n",
       "      <td>1.965724e+08</td>\n",
       "      <td>12+</td>\n",
       "      <td>80000000.0</td>\n",
       "    </tr>\n",
       "    <tr>\n",
       "      <td>2532</td>\n",
       "      <td>Бармен.</td>\n",
       "      <td>111009615</td>\n",
       "      <td>2015-05-26 12:00:00+00:00</td>\n",
       "      <td>Художественный</td>\n",
       "      <td>АО \"ВайТ Медиа\", ООО \"Арт Пикчерс Студия\"</td>\n",
       "      <td>Россия</td>\n",
       "      <td>Д.Штурманова</td>\n",
       "      <td>Т.Вайнштейн</td>\n",
       "      <td>«16+» - для детей старше 16 лет</td>\n",
       "      <td>20000000.0</td>\n",
       "      <td>0.0</td>\n",
       "      <td>0.0</td>\n",
       "      <td>Фонд кино</td>\n",
       "      <td>6.2</td>\n",
       "      <td>комедия,фэнтези</td>\n",
       "      <td>6.741897e+07</td>\n",
       "      <td>16+</td>\n",
       "      <td>20000000.0</td>\n",
       "    </tr>\n",
       "    <tr>\n",
       "      <td>2615</td>\n",
       "      <td>Савва. Сердце воина</td>\n",
       "      <td>114001715</td>\n",
       "      <td>2015-07-21 12:00:00+00:00</td>\n",
       "      <td>Анимационный</td>\n",
       "      <td>ООО \"Глюкоза Продакшн\", ООО \"Арт Пикчерс Студия\"</td>\n",
       "      <td>Россия</td>\n",
       "      <td>М.Фадеев</td>\n",
       "      <td>А.Чистяков</td>\n",
       "      <td>«6+» - для детей старше 6 лет</td>\n",
       "      <td>60000000.0</td>\n",
       "      <td>100000000.0</td>\n",
       "      <td>0.0</td>\n",
       "      <td>Фонд кино</td>\n",
       "      <td>4.6</td>\n",
       "      <td>мультфильм,приключения,фэнтези</td>\n",
       "      <td>1.844876e+08</td>\n",
       "      <td>6+</td>\n",
       "      <td>160000000.0</td>\n",
       "    </tr>\n",
       "    <tr>\n",
       "      <td>2684</td>\n",
       "      <td>Тряпичный союз</td>\n",
       "      <td>111010215</td>\n",
       "      <td>2015-06-08 12:00:00+00:00</td>\n",
       "      <td>Художественный</td>\n",
       "      <td>ООО \"Кинокомпания \"КОКТЕБЕЛЬ\"</td>\n",
       "      <td>Россия</td>\n",
       "      <td>М.Местецкий</td>\n",
       "      <td>Р.Борисевич, А.Кушаев</td>\n",
       "      <td>«18+» - запрещено для детей</td>\n",
       "      <td>0.0</td>\n",
       "      <td>59000000.0</td>\n",
       "      <td>0.0</td>\n",
       "      <td>Фонд кино</td>\n",
       "      <td>6.3</td>\n",
       "      <td>комедия,драма</td>\n",
       "      <td>1.957739e+06</td>\n",
       "      <td>18+</td>\n",
       "      <td>59000000.0</td>\n",
       "    </tr>\n",
       "    <tr>\n",
       "      <td>2788</td>\n",
       "      <td>Срочно выйду замуж</td>\n",
       "      <td>111017115</td>\n",
       "      <td>2015-09-30 12:00:00+00:00</td>\n",
       "      <td>Художественный</td>\n",
       "      <td>АО \"ВайТ Медиа\", ООО \"Арт Пикчерс Студия\"</td>\n",
       "      <td>Россия</td>\n",
       "      <td>С Чекалов</td>\n",
       "      <td>Ф.Бондарчук, Т.Вайнштейн, Д.Рудовский</td>\n",
       "      <td>«16+» - для детей старше 16 лет</td>\n",
       "      <td>0.0</td>\n",
       "      <td>35000000.0</td>\n",
       "      <td>0.0</td>\n",
       "      <td>Фонд кино</td>\n",
       "      <td>5.1</td>\n",
       "      <td>комедия,мелодрама</td>\n",
       "      <td>7.293778e+07</td>\n",
       "      <td>16+</td>\n",
       "      <td>35000000.0</td>\n",
       "    </tr>\n",
       "    <tr>\n",
       "      <td>2874</td>\n",
       "      <td>Помню - не помню!</td>\n",
       "      <td>111004916</td>\n",
       "      <td>2016-03-01 12:00:00+00:00</td>\n",
       "      <td>Художественный</td>\n",
       "      <td>ООО \"КиноФирма\"</td>\n",
       "      <td>Россия</td>\n",
       "      <td>В.Ровенский</td>\n",
       "      <td>ООО \"КиноФирма\"</td>\n",
       "      <td>«12+» - для детей старше 12 лет</td>\n",
       "      <td>0.0</td>\n",
       "      <td>6000000.0</td>\n",
       "      <td>0.0</td>\n",
       "      <td>Министерство культуры</td>\n",
       "      <td>4.3</td>\n",
       "      <td>комедия</td>\n",
       "      <td>1.536293e+07</td>\n",
       "      <td>12+</td>\n",
       "      <td>6000000.0</td>\n",
       "    </tr>\n",
       "    <tr>\n",
       "      <td>3047</td>\n",
       "      <td>Любовь с ограничениями</td>\n",
       "      <td>111008216</td>\n",
       "      <td>2016-04-29 12:00:00+00:00</td>\n",
       "      <td>Художественный</td>\n",
       "      <td>АО \"ВайТ Медиа\", ООО \"Арт Пикчерс Студия\"</td>\n",
       "      <td>Россия</td>\n",
       "      <td>Д.Тюрин</td>\n",
       "      <td>Ф.Бондарчук, Т.Вайнштейн, Д.Рудовский</td>\n",
       "      <td>«16+» - для детей старше 16 лет</td>\n",
       "      <td>19000000.0</td>\n",
       "      <td>51000000.0</td>\n",
       "      <td>0.0</td>\n",
       "      <td>Фонд кино</td>\n",
       "      <td>6.3</td>\n",
       "      <td>комедия,мелодрама</td>\n",
       "      <td>7.029905e+07</td>\n",
       "      <td>16+</td>\n",
       "      <td>70000000.0</td>\n",
       "    </tr>\n",
       "    <tr>\n",
       "      <td>3565</td>\n",
       "      <td>Притяжение (2016)</td>\n",
       "      <td>111018116</td>\n",
       "      <td>2016-12-16 12:00:00+00:00</td>\n",
       "      <td>Художественный</td>\n",
       "      <td>ООО \"Водород 2011\",  ООО \"Арт Пикчерс Студия\"</td>\n",
       "      <td>Россия</td>\n",
       "      <td>Ф.Бондарчук</td>\n",
       "      <td>ООО \"Арт Пикчерс Студия\"</td>\n",
       "      <td>«12+» - для детей старше 12 лет</td>\n",
       "      <td>0.0</td>\n",
       "      <td>250000000.0</td>\n",
       "      <td>0.0</td>\n",
       "      <td>Фонд кино</td>\n",
       "      <td>5.6</td>\n",
       "      <td>фантастика</td>\n",
       "      <td>1.038321e+09</td>\n",
       "      <td>12+</td>\n",
       "      <td>250000000.0</td>\n",
       "    </tr>\n",
       "    <tr>\n",
       "      <td>3675</td>\n",
       "      <td>Чудо-юдо</td>\n",
       "      <td>114001817</td>\n",
       "      <td>2017-06-27 12:00:00+00:00</td>\n",
       "      <td>Анимационный</td>\n",
       "      <td>ООО \"КиноФирма\"</td>\n",
       "      <td>Россия</td>\n",
       "      <td>А.Лукичев</td>\n",
       "      <td>ООО \"КиноФирма\"</td>\n",
       "      <td>«6+» - для детей старше 6 лет</td>\n",
       "      <td>20000000.0</td>\n",
       "      <td>20000000.0</td>\n",
       "      <td>0.0</td>\n",
       "      <td>Фонд кино</td>\n",
       "      <td>5.2</td>\n",
       "      <td>мультфильм,фэнтези,семейный</td>\n",
       "      <td>5.510801e+07</td>\n",
       "      <td>6+</td>\n",
       "      <td>40000000.0</td>\n",
       "    </tr>\n",
       "    <tr>\n",
       "      <td>3739</td>\n",
       "      <td>Мифы</td>\n",
       "      <td>111004317</td>\n",
       "      <td>2017-06-07 12:00:00+00:00</td>\n",
       "      <td>Художественный</td>\n",
       "      <td>ООО \"ХАЙПФИЛМ\", ООО \"Арт Пикчерс Студия\"</td>\n",
       "      <td>Россия</td>\n",
       "      <td>А.Молочников</td>\n",
       "      <td>Ф.Бондарчук, Д.Рудовский, И.Стюарт, М.Османн, ...</td>\n",
       "      <td>«16+» - для детей старше 16 лет</td>\n",
       "      <td>25000000.0</td>\n",
       "      <td>20000000.0</td>\n",
       "      <td>0.0</td>\n",
       "      <td>Фонд кино</td>\n",
       "      <td>4.8</td>\n",
       "      <td>комедия</td>\n",
       "      <td>5.045195e+07</td>\n",
       "      <td>16+</td>\n",
       "      <td>45000000.0</td>\n",
       "    </tr>\n",
       "    <tr>\n",
       "      <td>5673</td>\n",
       "      <td>Селфи</td>\n",
       "      <td>111012117</td>\n",
       "      <td>2018-02-01 12:00:00+00:00</td>\n",
       "      <td>Художественный</td>\n",
       "      <td>ООО \"Киностудия \"Слово\", ООО \"Арт Пикчерс Студия\"</td>\n",
       "      <td>Россия</td>\n",
       "      <td>Н.Хомерики</td>\n",
       "      <td>П.Ануров, Ф.Бондарчук, Д.Рудовский</td>\n",
       "      <td>«16+» - для детей старше 16 лет</td>\n",
       "      <td>20000000.0</td>\n",
       "      <td>40000000.0</td>\n",
       "      <td>0.0</td>\n",
       "      <td>Фонд кино</td>\n",
       "      <td>5.8</td>\n",
       "      <td>триллер,драма</td>\n",
       "      <td>2.251964e+08</td>\n",
       "      <td>16+</td>\n",
       "      <td>60000000.0</td>\n",
       "    </tr>\n",
       "    <tr>\n",
       "      <td>5806</td>\n",
       "      <td>Два хвоста</td>\n",
       "      <td>114001018</td>\n",
       "      <td>2018-05-31 12:00:00+00:00</td>\n",
       "      <td>Анимационный</td>\n",
       "      <td>ООО \"ЛИЦЕНЗИОННЫЕ БРЕНДЫ\"</td>\n",
       "      <td>Россия</td>\n",
       "      <td>В.Ровенский, Н.Лопато, В.Азеев</td>\n",
       "      <td>ООО \"ЛИЦЕНЗИОННЫЕ БРЕНДЫ\"</td>\n",
       "      <td>«6+» - для детей старше 6 лет</td>\n",
       "      <td>10000000.0</td>\n",
       "      <td>60000000.0</td>\n",
       "      <td>0.0</td>\n",
       "      <td>Фонд кино</td>\n",
       "      <td>5.0</td>\n",
       "      <td>мультфильм,детский</td>\n",
       "      <td>1.065143e+08</td>\n",
       "      <td>6+</td>\n",
       "      <td>70000000.0</td>\n",
       "    </tr>\n",
       "    <tr>\n",
       "      <td>6008</td>\n",
       "      <td>Принцесса и дракон</td>\n",
       "      <td>114003018</td>\n",
       "      <td>2018-08-23 12:00:00+00:00</td>\n",
       "      <td>Анимационный</td>\n",
       "      <td>ООО \"ЛИЦЕНЗИОННЫЕ БРЕНДЫ\"</td>\n",
       "      <td>Россия</td>\n",
       "      <td>М.Нефедова</td>\n",
       "      <td>ООО \"ЛИЦЕНЗИОННЫЕ БРЕНДЫ\"</td>\n",
       "      <td>«6+» - для детей старше 6 лет</td>\n",
       "      <td>40000000.0</td>\n",
       "      <td>40000000.0</td>\n",
       "      <td>0.0</td>\n",
       "      <td>Фонд кино</td>\n",
       "      <td>5.2</td>\n",
       "      <td>мультфильм,фэнтези,детский</td>\n",
       "      <td>8.336633e+07</td>\n",
       "      <td>6+</td>\n",
       "      <td>80000000.0</td>\n",
       "    </tr>\n",
       "    <tr>\n",
       "      <td>6323</td>\n",
       "      <td>Баба Яга</td>\n",
       "      <td>114006518</td>\n",
       "      <td>2018-11-08 12:00:00+00:00</td>\n",
       "      <td>Анимационный</td>\n",
       "      <td>ООО \"Арт Пикчерс Студия\"</td>\n",
       "      <td>Россия</td>\n",
       "      <td>В.Саков</td>\n",
       "      <td>ООО \"Арт Пикчерс Студия\", ООО \"КРИЭЙТИВ АНИМЭЙ...</td>\n",
       "      <td>«6+» - для детей старше 6 лет</td>\n",
       "      <td>0.0</td>\n",
       "      <td>138969465.0</td>\n",
       "      <td>0.0</td>\n",
       "      <td>Фонд кино</td>\n",
       "      <td>NaN</td>\n",
       "      <td>NaN</td>\n",
       "      <td>1.334699e+06</td>\n",
       "      <td>6+</td>\n",
       "      <td>138969465.0</td>\n",
       "    </tr>\n",
       "    <tr>\n",
       "      <td>6823</td>\n",
       "      <td>Большое путешествие</td>\n",
       "      <td>114002419</td>\n",
       "      <td>2019-04-20 12:00:00+00:00</td>\n",
       "      <td>Анимационный</td>\n",
       "      <td>ООО \"ЛИЦЕНЗИОННЫЕ БРЕНДЫ\"</td>\n",
       "      <td>Россия</td>\n",
       "      <td>Н.Лопато, В.Ровенский</td>\n",
       "      <td>ООО \"ЛИЦЕНЗИОННЫЕ БРЕНДЫ\"</td>\n",
       "      <td>«6+» - для детей старше 6 лет</td>\n",
       "      <td>60000000.0</td>\n",
       "      <td>120000000.0</td>\n",
       "      <td>0.0</td>\n",
       "      <td>Фонд кино</td>\n",
       "      <td>6.2</td>\n",
       "      <td>мультфильм,комедия,приключения</td>\n",
       "      <td>1.476068e+08</td>\n",
       "      <td>6+</td>\n",
       "      <td>180000000.0</td>\n",
       "    </tr>\n",
       "  </tbody>\n",
       "</table>\n",
       "</div>"
      ],
      "text/plain": [
       "                       title   puNumber           show_start_date  \\\n",
       "2053                     14+  111023614 2014-12-19 12:00:00+00:00   \n",
       "2058               Дуxless 2  111000415 2015-01-26 12:00:00+00:00   \n",
       "2472             Воин (2015)  111017315 2015-09-28 12:00:00+00:00   \n",
       "2532                 Бармен.  111009615 2015-05-26 12:00:00+00:00   \n",
       "2615     Савва. Сердце воина  114001715 2015-07-21 12:00:00+00:00   \n",
       "2684          Тряпичный союз  111010215 2015-06-08 12:00:00+00:00   \n",
       "2788      Срочно выйду замуж  111017115 2015-09-30 12:00:00+00:00   \n",
       "2874       Помню - не помню!  111004916 2016-03-01 12:00:00+00:00   \n",
       "3047  Любовь с ограничениями  111008216 2016-04-29 12:00:00+00:00   \n",
       "3565       Притяжение (2016)  111018116 2016-12-16 12:00:00+00:00   \n",
       "3675                Чудо-юдо  114001817 2017-06-27 12:00:00+00:00   \n",
       "3739                    Мифы  111004317 2017-06-07 12:00:00+00:00   \n",
       "5673                   Селфи  111012117 2018-02-01 12:00:00+00:00   \n",
       "5806              Два хвоста  114001018 2018-05-31 12:00:00+00:00   \n",
       "6008      Принцесса и дракон  114003018 2018-08-23 12:00:00+00:00   \n",
       "6323                Баба Яга  114006518 2018-11-08 12:00:00+00:00   \n",
       "6823     Большое путешествие  114002419 2019-04-20 12:00:00+00:00   \n",
       "\n",
       "                type                                        film_studio  \\\n",
       "2053  Художественный                         ООО Киностудия  \"Сентябрь\"   \n",
       "2058  Художественный  ООО \"Киностудия \"Слово\", ООО \"Арт Пикчерс Студия\"   \n",
       "2472  Художественный   ООО \"Форпост Продакшн\", ООО \"Арт Пикчерс Студия\"   \n",
       "2532  Художественный          АО \"ВайТ Медиа\", ООО \"Арт Пикчерс Студия\"   \n",
       "2615    Анимационный   ООО \"Глюкоза Продакшн\", ООО \"Арт Пикчерс Студия\"   \n",
       "2684  Художественный                      ООО \"Кинокомпания \"КОКТЕБЕЛЬ\"   \n",
       "2788  Художественный          АО \"ВайТ Медиа\", ООО \"Арт Пикчерс Студия\"   \n",
       "2874  Художественный                                    ООО \"КиноФирма\"   \n",
       "3047  Художественный          АО \"ВайТ Медиа\", ООО \"Арт Пикчерс Студия\"   \n",
       "3565  Художественный      ООО \"Водород 2011\",  ООО \"Арт Пикчерс Студия\"   \n",
       "3675    Анимационный                                    ООО \"КиноФирма\"   \n",
       "3739  Художественный           ООО \"ХАЙПФИЛМ\", ООО \"Арт Пикчерс Студия\"   \n",
       "5673  Художественный  ООО \"Киностудия \"Слово\", ООО \"Арт Пикчерс Студия\"   \n",
       "5806    Анимационный                          ООО \"ЛИЦЕНЗИОННЫЕ БРЕНДЫ\"   \n",
       "6008    Анимационный                          ООО \"ЛИЦЕНЗИОННЫЕ БРЕНДЫ\"   \n",
       "6323    Анимационный                           ООО \"Арт Пикчерс Студия\"   \n",
       "6823    Анимационный                          ООО \"ЛИЦЕНЗИОННЫЕ БРЕНДЫ\"   \n",
       "\n",
       "     production_country                        director  \\\n",
       "2053             Россия                        А.Зайцев   \n",
       "2058             Россия                      Р.Прыгунов   \n",
       "2472             Россия                     А.Андрианов   \n",
       "2532             Россия                    Д.Штурманова   \n",
       "2615             Россия                        М.Фадеев   \n",
       "2684             Россия                     М.Местецкий   \n",
       "2788             Россия                       С Чекалов   \n",
       "2874             Россия                     В.Ровенский   \n",
       "3047             Россия                         Д.Тюрин   \n",
       "3565             Россия                     Ф.Бондарчук   \n",
       "3675             Россия                       А.Лукичев   \n",
       "3739             Россия                    А.Молочников   \n",
       "5673             Россия                      Н.Хомерики   \n",
       "5806             Россия  В.Ровенский, Н.Лопато, В.Азеев   \n",
       "6008             Россия                      М.Нефедова   \n",
       "6323             Россия                         В.Саков   \n",
       "6823             Россия           Н.Лопато, В.Ровенский   \n",
       "\n",
       "                                               producer  \\\n",
       "2053                                О.Гранина, А.Зайцев   \n",
       "2058                 П.Ануров, Ф.Бондарчук, Д.Рудовский   \n",
       "2472                           ООО \"Арт Пикчерс Студия\"   \n",
       "2532                                        Т.Вайнштейн   \n",
       "2615                                         А.Чистяков   \n",
       "2684                              Р.Борисевич, А.Кушаев   \n",
       "2788              Ф.Бондарчук, Т.Вайнштейн, Д.Рудовский   \n",
       "2874                                    ООО \"КиноФирма\"   \n",
       "3047              Ф.Бондарчук, Т.Вайнштейн, Д.Рудовский   \n",
       "3565                           ООО \"Арт Пикчерс Студия\"   \n",
       "3675                                    ООО \"КиноФирма\"   \n",
       "3739  Ф.Бондарчук, Д.Рудовский, И.Стюарт, М.Османн, ...   \n",
       "5673                 П.Ануров, Ф.Бондарчук, Д.Рудовский   \n",
       "5806                          ООО \"ЛИЦЕНЗИОННЫЕ БРЕНДЫ\"   \n",
       "6008                          ООО \"ЛИЦЕНЗИОННЫЕ БРЕНДЫ\"   \n",
       "6323  ООО \"Арт Пикчерс Студия\", ООО \"КРИЭЙТИВ АНИМЭЙ...   \n",
       "6823                          ООО \"ЛИЦЕНЗИОННЫЕ БРЕНДЫ\"   \n",
       "\n",
       "                      age_restriction  refundable_support  \\\n",
       "2053  «16+» - для детей старше 16 лет                 0.0   \n",
       "2058  «16+» - для детей старше 16 лет                 0.0   \n",
       "2472  «12+» - для детей старше 12 лет          10000000.0   \n",
       "2532  «16+» - для детей старше 16 лет          20000000.0   \n",
       "2615    «6+» - для детей старше 6 лет          60000000.0   \n",
       "2684      «18+» - запрещено для детей                 0.0   \n",
       "2788  «16+» - для детей старше 16 лет                 0.0   \n",
       "2874  «12+» - для детей старше 12 лет                 0.0   \n",
       "3047  «16+» - для детей старше 16 лет          19000000.0   \n",
       "3565  «12+» - для детей старше 12 лет                 0.0   \n",
       "3675    «6+» - для детей старше 6 лет          20000000.0   \n",
       "3739  «16+» - для детей старше 16 лет          25000000.0   \n",
       "5673  «16+» - для детей старше 16 лет          20000000.0   \n",
       "5806    «6+» - для детей старше 6 лет          10000000.0   \n",
       "6008    «6+» - для детей старше 6 лет          40000000.0   \n",
       "6323    «6+» - для детей старше 6 лет                 0.0   \n",
       "6823    «6+» - для детей старше 6 лет          60000000.0   \n",
       "\n",
       "      nonrefundable_support  budget                  financing_source  \\\n",
       "2053             23000000.0     0.0  Министерство культуры, Фонд кино   \n",
       "2058             75000000.0     0.0                         Фонд кино   \n",
       "2472             70000000.0     0.0                         Фонд кино   \n",
       "2532                    0.0     0.0                         Фонд кино   \n",
       "2615            100000000.0     0.0                         Фонд кино   \n",
       "2684             59000000.0     0.0                         Фонд кино   \n",
       "2788             35000000.0     0.0                         Фонд кино   \n",
       "2874              6000000.0     0.0             Министерство культуры   \n",
       "3047             51000000.0     0.0                         Фонд кино   \n",
       "3565            250000000.0     0.0                         Фонд кино   \n",
       "3675             20000000.0     0.0                         Фонд кино   \n",
       "3739             20000000.0     0.0                         Фонд кино   \n",
       "5673             40000000.0     0.0                         Фонд кино   \n",
       "5806             60000000.0     0.0                         Фонд кино   \n",
       "6008             40000000.0     0.0                         Фонд кино   \n",
       "6323            138969465.0     0.0                         Фонд кино   \n",
       "6823            120000000.0     0.0                         Фонд кино   \n",
       "\n",
       "      ratings                          genres    box_office age_group  \\\n",
       "2053      6.6                       мелодрама  1.023402e+07       16+   \n",
       "2058      6.6                           драма  4.461635e+08       16+   \n",
       "2472      7.8           боевик,драма,криминал  1.965724e+08       12+   \n",
       "2532      6.2                 комедия,фэнтези  6.741897e+07       16+   \n",
       "2615      4.6  мультфильм,приключения,фэнтези  1.844876e+08        6+   \n",
       "2684      6.3                   комедия,драма  1.957739e+06       18+   \n",
       "2788      5.1               комедия,мелодрама  7.293778e+07       16+   \n",
       "2874      4.3                         комедия  1.536293e+07       12+   \n",
       "3047      6.3               комедия,мелодрама  7.029905e+07       16+   \n",
       "3565      5.6                      фантастика  1.038321e+09       12+   \n",
       "3675      5.2     мультфильм,фэнтези,семейный  5.510801e+07        6+   \n",
       "3739      4.8                         комедия  5.045195e+07       16+   \n",
       "5673      5.8                   триллер,драма  2.251964e+08       16+   \n",
       "5806      5.0              мультфильм,детский  1.065143e+08        6+   \n",
       "6008      5.2      мультфильм,фэнтези,детский  8.336633e+07        6+   \n",
       "6323      NaN                             NaN  1.334699e+06        6+   \n",
       "6823      6.2  мультфильм,комедия,приключения  1.476068e+08        6+   \n",
       "\n",
       "      sum_ref_noref  \n",
       "2053     23000000.0  \n",
       "2058     75000000.0  \n",
       "2472     80000000.0  \n",
       "2532     20000000.0  \n",
       "2615    160000000.0  \n",
       "2684     59000000.0  \n",
       "2788     35000000.0  \n",
       "2874      6000000.0  \n",
       "3047     70000000.0  \n",
       "3565    250000000.0  \n",
       "3675     40000000.0  \n",
       "3739     45000000.0  \n",
       "5673     60000000.0  \n",
       "5806     70000000.0  \n",
       "6008     80000000.0  \n",
       "6323    138969465.0  \n",
       "6823    180000000.0  "
      ]
     },
     "execution_count": 25,
     "metadata": {},
     "output_type": "execute_result"
    }
   ],
   "source": [
    "movies[movies['budget'].notna()][((movies[movies['budget'].notna()]['budget'] - movies[movies['budget'].notna()]['sum_ref_noref']) < 0)]"
   ]
  },
  {
   "cell_type": "markdown",
   "metadata": {},
   "source": [
    "Некорректные данные, это данные с нулевым бюджетом."
   ]
  },
  {
   "cell_type": "markdown",
   "metadata": {},
   "source": [
    "Создадим столбец, чтобы для дальнейшего анализа легко можно было убрать такие строки."
   ]
  },
  {
   "cell_type": "code",
   "execution_count": 26,
   "metadata": {},
   "outputs": [],
   "source": [
    "# Функция категоризации \n",
    "def budget_empty(row):\n",
    "    if row > 0:\n",
    "        return 1\n",
    "    return 0\n",
    "\n",
    "# заливка дата сета через apply и функцию\n",
    "movies['budget_empty'] = movies['budget'].apply(budget_empty) "
   ]
  },
  {
   "cell_type": "markdown",
   "metadata": {},
   "source": [
    "Добавили новый столбец в котором 1 это бюджет заполнен верно, 0 - бюджет не заполнен либо данные не корректны. Предложение добавить проверку, если бюджет минус объём возвратных средств государственной поддержки минус объём невозвратных средств государственной поддержки равен отрицательному значению, выдавать в ошибку."
   ]
  },
  {
   "cell_type": "markdown",
   "metadata": {
    "id": "Eu6oWp2CgFyS"
   },
   "source": [
    "#### Шаг 2.6. Добавьте новые столбцы\n",
    "\n",
    "\n",
    "\n"
   ]
  },
  {
   "cell_type": "markdown",
   "metadata": {
    "id": "7GgW-UpAgFyS"
   },
   "source": [
    "- Создадим столбец с информацией о годе проката. Выделим год из даты премьеры фильма."
   ]
  },
  {
   "cell_type": "code",
   "execution_count": 27,
   "metadata": {
    "id": "I-yd1DkWgFyT"
   },
   "outputs": [
    {
     "data": {
      "text/html": [
       "<div>\n",
       "<style scoped>\n",
       "    .dataframe tbody tr th:only-of-type {\n",
       "        vertical-align: middle;\n",
       "    }\n",
       "\n",
       "    .dataframe tbody tr th {\n",
       "        vertical-align: top;\n",
       "    }\n",
       "\n",
       "    .dataframe thead th {\n",
       "        text-align: right;\n",
       "    }\n",
       "</style>\n",
       "<table border=\"1\" class=\"dataframe\">\n",
       "  <thead>\n",
       "    <tr style=\"text-align: right;\">\n",
       "      <th></th>\n",
       "      <th>title</th>\n",
       "      <th>puNumber</th>\n",
       "      <th>show_start_date</th>\n",
       "      <th>type</th>\n",
       "      <th>film_studio</th>\n",
       "      <th>production_country</th>\n",
       "      <th>director</th>\n",
       "      <th>producer</th>\n",
       "      <th>age_restriction</th>\n",
       "      <th>refundable_support</th>\n",
       "      <th>nonrefundable_support</th>\n",
       "      <th>budget</th>\n",
       "      <th>financing_source</th>\n",
       "      <th>ratings</th>\n",
       "      <th>genres</th>\n",
       "      <th>box_office</th>\n",
       "      <th>age_group</th>\n",
       "      <th>sum_ref_noref</th>\n",
       "      <th>budget_empty</th>\n",
       "      <th>year_name</th>\n",
       "    </tr>\n",
       "  </thead>\n",
       "  <tbody>\n",
       "    <tr>\n",
       "      <td>0</td>\n",
       "      <td>Открытый простор</td>\n",
       "      <td>221048915</td>\n",
       "      <td>2015-11-27 12:00:00+00:00</td>\n",
       "      <td>Художественный</td>\n",
       "      <td>Тачстоун Пикчерз, Кобальт Пикчерз, Бикон Пикче...</td>\n",
       "      <td>США</td>\n",
       "      <td>Кевин Костнер</td>\n",
       "      <td>Дэвид Валдес, Кевин Костнер, Джейк Эбертс</td>\n",
       "      <td>«18+» - запрещено для детей</td>\n",
       "      <td>NaN</td>\n",
       "      <td>NaN</td>\n",
       "      <td>NaN</td>\n",
       "      <td>NaN</td>\n",
       "      <td>7.2</td>\n",
       "      <td>боевик,драма,мелодрама</td>\n",
       "      <td>NaN</td>\n",
       "      <td>18+</td>\n",
       "      <td>NaN</td>\n",
       "      <td>0</td>\n",
       "      <td>2015</td>\n",
       "    </tr>\n",
       "    <tr>\n",
       "      <td>1</td>\n",
       "      <td>Особо важное задание</td>\n",
       "      <td>111013716</td>\n",
       "      <td>2016-09-13 12:00:00+00:00</td>\n",
       "      <td>Художественный</td>\n",
       "      <td>Киностудия \"Мосфильм\"</td>\n",
       "      <td>СССР</td>\n",
       "      <td>Е.Матвеев</td>\n",
       "      <td>NaN</td>\n",
       "      <td>«6+» - для детей старше 6 лет</td>\n",
       "      <td>NaN</td>\n",
       "      <td>NaN</td>\n",
       "      <td>NaN</td>\n",
       "      <td>NaN</td>\n",
       "      <td>6.6</td>\n",
       "      <td>драма,военный</td>\n",
       "      <td>NaN</td>\n",
       "      <td>6+</td>\n",
       "      <td>NaN</td>\n",
       "      <td>0</td>\n",
       "      <td>2016</td>\n",
       "    </tr>\n",
       "    <tr>\n",
       "      <td>2</td>\n",
       "      <td>Особо опасен</td>\n",
       "      <td>221038416</td>\n",
       "      <td>2016-10-10 12:00:00+00:00</td>\n",
       "      <td>Художественный</td>\n",
       "      <td>Юниверсал Пикчерз, Кикстарт Продакшнз, Марк Пл...</td>\n",
       "      <td>США</td>\n",
       "      <td>Тимур Бекмамбетов</td>\n",
       "      <td>Джим Лемли, Джейсон Нетер, Марк Е.Платт, Яйн Смит</td>\n",
       "      <td>«18+» - запрещено для детей</td>\n",
       "      <td>NaN</td>\n",
       "      <td>NaN</td>\n",
       "      <td>NaN</td>\n",
       "      <td>NaN</td>\n",
       "      <td>6.8</td>\n",
       "      <td>фантастика,боевик,триллер</td>\n",
       "      <td>NaN</td>\n",
       "      <td>18+</td>\n",
       "      <td>NaN</td>\n",
       "      <td>0</td>\n",
       "      <td>2016</td>\n",
       "    </tr>\n",
       "    <tr>\n",
       "      <td>3</td>\n",
       "      <td>Особо опасен</td>\n",
       "      <td>221026916</td>\n",
       "      <td>2016-06-10 12:00:00+00:00</td>\n",
       "      <td>Художественный</td>\n",
       "      <td>Юниверсал Пикчерз, Кикстарт Продакшнз, Марк Пл...</td>\n",
       "      <td>США</td>\n",
       "      <td>Тимур Бекмамбетов</td>\n",
       "      <td>Джим Лемли, Джейсон Нетер, Марк Е.Платт, Яйн Смит</td>\n",
       "      <td>«18+» - запрещено для детей</td>\n",
       "      <td>NaN</td>\n",
       "      <td>NaN</td>\n",
       "      <td>NaN</td>\n",
       "      <td>NaN</td>\n",
       "      <td>6.8</td>\n",
       "      <td>фантастика,боевик,триллер</td>\n",
       "      <td>NaN</td>\n",
       "      <td>18+</td>\n",
       "      <td>NaN</td>\n",
       "      <td>0</td>\n",
       "      <td>2016</td>\n",
       "    </tr>\n",
       "    <tr>\n",
       "      <td>4</td>\n",
       "      <td>Особо опасен</td>\n",
       "      <td>221030815</td>\n",
       "      <td>2015-07-29 12:00:00+00:00</td>\n",
       "      <td>Художественный</td>\n",
       "      <td>Юниверсал Пикчерз, Кикстарт Продакшнз, Марк Пл...</td>\n",
       "      <td>США</td>\n",
       "      <td>Тимур Бекмамбетов</td>\n",
       "      <td>Джим Лемли, Джейсон Нетер, Марк Е.Платт, Яйн Смит</td>\n",
       "      <td>«18+» - запрещено для детей</td>\n",
       "      <td>NaN</td>\n",
       "      <td>NaN</td>\n",
       "      <td>NaN</td>\n",
       "      <td>NaN</td>\n",
       "      <td>6.8</td>\n",
       "      <td>фантастика,боевик,триллер</td>\n",
       "      <td>NaN</td>\n",
       "      <td>18+</td>\n",
       "      <td>NaN</td>\n",
       "      <td>0</td>\n",
       "      <td>2015</td>\n",
       "    </tr>\n",
       "  </tbody>\n",
       "</table>\n",
       "</div>"
      ],
      "text/plain": [
       "                  title   puNumber           show_start_date            type  \\\n",
       "0      Открытый простор  221048915 2015-11-27 12:00:00+00:00  Художественный   \n",
       "1  Особо важное задание  111013716 2016-09-13 12:00:00+00:00  Художественный   \n",
       "2          Особо опасен  221038416 2016-10-10 12:00:00+00:00  Художественный   \n",
       "3          Особо опасен  221026916 2016-06-10 12:00:00+00:00  Художественный   \n",
       "4          Особо опасен  221030815 2015-07-29 12:00:00+00:00  Художественный   \n",
       "\n",
       "                                         film_studio production_country  \\\n",
       "0  Тачстоун Пикчерз, Кобальт Пикчерз, Бикон Пикче...                США   \n",
       "1                              Киностудия \"Мосфильм\"               СССР   \n",
       "2  Юниверсал Пикчерз, Кикстарт Продакшнз, Марк Пл...                США   \n",
       "3  Юниверсал Пикчерз, Кикстарт Продакшнз, Марк Пл...                США   \n",
       "4  Юниверсал Пикчерз, Кикстарт Продакшнз, Марк Пл...                США   \n",
       "\n",
       "            director                                           producer  \\\n",
       "0      Кевин Костнер          Дэвид Валдес, Кевин Костнер, Джейк Эбертс   \n",
       "1          Е.Матвеев                                                NaN   \n",
       "2  Тимур Бекмамбетов  Джим Лемли, Джейсон Нетер, Марк Е.Платт, Яйн Смит   \n",
       "3  Тимур Бекмамбетов  Джим Лемли, Джейсон Нетер, Марк Е.Платт, Яйн Смит   \n",
       "4  Тимур Бекмамбетов  Джим Лемли, Джейсон Нетер, Марк Е.Платт, Яйн Смит   \n",
       "\n",
       "                 age_restriction  refundable_support  nonrefundable_support  \\\n",
       "0    «18+» - запрещено для детей                 NaN                    NaN   \n",
       "1  «6+» - для детей старше 6 лет                 NaN                    NaN   \n",
       "2    «18+» - запрещено для детей                 NaN                    NaN   \n",
       "3    «18+» - запрещено для детей                 NaN                    NaN   \n",
       "4    «18+» - запрещено для детей                 NaN                    NaN   \n",
       "\n",
       "   budget financing_source  ratings                     genres  box_office  \\\n",
       "0     NaN              NaN      7.2     боевик,драма,мелодрама         NaN   \n",
       "1     NaN              NaN      6.6              драма,военный         NaN   \n",
       "2     NaN              NaN      6.8  фантастика,боевик,триллер         NaN   \n",
       "3     NaN              NaN      6.8  фантастика,боевик,триллер         NaN   \n",
       "4     NaN              NaN      6.8  фантастика,боевик,триллер         NaN   \n",
       "\n",
       "  age_group  sum_ref_noref  budget_empty  year_name  \n",
       "0       18+            NaN             0       2015  \n",
       "1        6+            NaN             0       2016  \n",
       "2       18+            NaN             0       2016  \n",
       "3       18+            NaN             0       2016  \n",
       "4       18+            NaN             0       2015  "
      ]
     },
     "execution_count": 27,
     "metadata": {},
     "output_type": "execute_result"
    }
   ],
   "source": [
    "# вытяним из столбца show_start_date данные по номеру года\n",
    "movies['year_name'] = movies['show_start_date'].dt.year\n",
    "movies.head()"
   ]
  },
  {
   "cell_type": "markdown",
   "metadata": {
    "id": "nFTDLDYOgFyT"
   },
   "source": [
    "- Создадим два столбца: с именем и фамилией главного режиссёра и основным жанром фильма. В столбцы войдут первые значения из списка режиссёров и жанров соответственно.\n"
   ]
  },
  {
   "cell_type": "code",
   "execution_count": 28,
   "metadata": {
    "id": "LSbRZKbMgFyU"
   },
   "outputs": [],
   "source": [
    "# функция вытаскивает из текста первое значение до запятой\n",
    "def get_first_value(string, sep = ','):\n",
    "    \"\"\"\n",
    "    Функция возвращает первый элемента из строки разделенной с помощью sep\n",
    "    \"\"\"\n",
    "    value_list = string.split(sep=sep)\n",
    "    return value_list[0]"
   ]
  },
  {
   "cell_type": "code",
   "execution_count": 29,
   "metadata": {},
   "outputs": [],
   "source": [
    "# Добавим столбцы\n",
    "movies['basic_director'] = movies[movies['director'].isnull() == False]['director'].apply(get_first_value)\n",
    "movies['basic_genres'] = movies[movies['genres'].isnull() == False]['genres'].apply(get_first_value)"
   ]
  },
  {
   "cell_type": "code",
   "execution_count": 30,
   "metadata": {},
   "outputs": [
    {
     "data": {
      "text/html": [
       "<div>\n",
       "<style scoped>\n",
       "    .dataframe tbody tr th:only-of-type {\n",
       "        vertical-align: middle;\n",
       "    }\n",
       "\n",
       "    .dataframe tbody tr th {\n",
       "        vertical-align: top;\n",
       "    }\n",
       "\n",
       "    .dataframe thead th {\n",
       "        text-align: right;\n",
       "    }\n",
       "</style>\n",
       "<table border=\"1\" class=\"dataframe\">\n",
       "  <thead>\n",
       "    <tr style=\"text-align: right;\">\n",
       "      <th></th>\n",
       "      <th>title</th>\n",
       "      <th>puNumber</th>\n",
       "      <th>show_start_date</th>\n",
       "      <th>type</th>\n",
       "      <th>film_studio</th>\n",
       "      <th>production_country</th>\n",
       "      <th>director</th>\n",
       "      <th>producer</th>\n",
       "      <th>age_restriction</th>\n",
       "      <th>refundable_support</th>\n",
       "      <th>...</th>\n",
       "      <th>financing_source</th>\n",
       "      <th>ratings</th>\n",
       "      <th>genres</th>\n",
       "      <th>box_office</th>\n",
       "      <th>age_group</th>\n",
       "      <th>sum_ref_noref</th>\n",
       "      <th>budget_empty</th>\n",
       "      <th>year_name</th>\n",
       "      <th>basic_director</th>\n",
       "      <th>basic_genres</th>\n",
       "    </tr>\n",
       "  </thead>\n",
       "  <tbody>\n",
       "    <tr>\n",
       "      <td>0</td>\n",
       "      <td>Открытый простор</td>\n",
       "      <td>221048915</td>\n",
       "      <td>2015-11-27 12:00:00+00:00</td>\n",
       "      <td>Художественный</td>\n",
       "      <td>Тачстоун Пикчерз, Кобальт Пикчерз, Бикон Пикче...</td>\n",
       "      <td>США</td>\n",
       "      <td>Кевин Костнер</td>\n",
       "      <td>Дэвид Валдес, Кевин Костнер, Джейк Эбертс</td>\n",
       "      <td>«18+» - запрещено для детей</td>\n",
       "      <td>NaN</td>\n",
       "      <td>...</td>\n",
       "      <td>NaN</td>\n",
       "      <td>7.2</td>\n",
       "      <td>боевик,драма,мелодрама</td>\n",
       "      <td>NaN</td>\n",
       "      <td>18+</td>\n",
       "      <td>NaN</td>\n",
       "      <td>0</td>\n",
       "      <td>2015</td>\n",
       "      <td>Кевин Костнер</td>\n",
       "      <td>боевик</td>\n",
       "    </tr>\n",
       "    <tr>\n",
       "      <td>1</td>\n",
       "      <td>Особо важное задание</td>\n",
       "      <td>111013716</td>\n",
       "      <td>2016-09-13 12:00:00+00:00</td>\n",
       "      <td>Художественный</td>\n",
       "      <td>Киностудия \"Мосфильм\"</td>\n",
       "      <td>СССР</td>\n",
       "      <td>Е.Матвеев</td>\n",
       "      <td>NaN</td>\n",
       "      <td>«6+» - для детей старше 6 лет</td>\n",
       "      <td>NaN</td>\n",
       "      <td>...</td>\n",
       "      <td>NaN</td>\n",
       "      <td>6.6</td>\n",
       "      <td>драма,военный</td>\n",
       "      <td>NaN</td>\n",
       "      <td>6+</td>\n",
       "      <td>NaN</td>\n",
       "      <td>0</td>\n",
       "      <td>2016</td>\n",
       "      <td>Е.Матвеев</td>\n",
       "      <td>драма</td>\n",
       "    </tr>\n",
       "    <tr>\n",
       "      <td>2</td>\n",
       "      <td>Особо опасен</td>\n",
       "      <td>221038416</td>\n",
       "      <td>2016-10-10 12:00:00+00:00</td>\n",
       "      <td>Художественный</td>\n",
       "      <td>Юниверсал Пикчерз, Кикстарт Продакшнз, Марк Пл...</td>\n",
       "      <td>США</td>\n",
       "      <td>Тимур Бекмамбетов</td>\n",
       "      <td>Джим Лемли, Джейсон Нетер, Марк Е.Платт, Яйн Смит</td>\n",
       "      <td>«18+» - запрещено для детей</td>\n",
       "      <td>NaN</td>\n",
       "      <td>...</td>\n",
       "      <td>NaN</td>\n",
       "      <td>6.8</td>\n",
       "      <td>фантастика,боевик,триллер</td>\n",
       "      <td>NaN</td>\n",
       "      <td>18+</td>\n",
       "      <td>NaN</td>\n",
       "      <td>0</td>\n",
       "      <td>2016</td>\n",
       "      <td>Тимур Бекмамбетов</td>\n",
       "      <td>фантастика</td>\n",
       "    </tr>\n",
       "    <tr>\n",
       "      <td>3</td>\n",
       "      <td>Особо опасен</td>\n",
       "      <td>221026916</td>\n",
       "      <td>2016-06-10 12:00:00+00:00</td>\n",
       "      <td>Художественный</td>\n",
       "      <td>Юниверсал Пикчерз, Кикстарт Продакшнз, Марк Пл...</td>\n",
       "      <td>США</td>\n",
       "      <td>Тимур Бекмамбетов</td>\n",
       "      <td>Джим Лемли, Джейсон Нетер, Марк Е.Платт, Яйн Смит</td>\n",
       "      <td>«18+» - запрещено для детей</td>\n",
       "      <td>NaN</td>\n",
       "      <td>...</td>\n",
       "      <td>NaN</td>\n",
       "      <td>6.8</td>\n",
       "      <td>фантастика,боевик,триллер</td>\n",
       "      <td>NaN</td>\n",
       "      <td>18+</td>\n",
       "      <td>NaN</td>\n",
       "      <td>0</td>\n",
       "      <td>2016</td>\n",
       "      <td>Тимур Бекмамбетов</td>\n",
       "      <td>фантастика</td>\n",
       "    </tr>\n",
       "    <tr>\n",
       "      <td>4</td>\n",
       "      <td>Особо опасен</td>\n",
       "      <td>221030815</td>\n",
       "      <td>2015-07-29 12:00:00+00:00</td>\n",
       "      <td>Художественный</td>\n",
       "      <td>Юниверсал Пикчерз, Кикстарт Продакшнз, Марк Пл...</td>\n",
       "      <td>США</td>\n",
       "      <td>Тимур Бекмамбетов</td>\n",
       "      <td>Джим Лемли, Джейсон Нетер, Марк Е.Платт, Яйн Смит</td>\n",
       "      <td>«18+» - запрещено для детей</td>\n",
       "      <td>NaN</td>\n",
       "      <td>...</td>\n",
       "      <td>NaN</td>\n",
       "      <td>6.8</td>\n",
       "      <td>фантастика,боевик,триллер</td>\n",
       "      <td>NaN</td>\n",
       "      <td>18+</td>\n",
       "      <td>NaN</td>\n",
       "      <td>0</td>\n",
       "      <td>2015</td>\n",
       "      <td>Тимур Бекмамбетов</td>\n",
       "      <td>фантастика</td>\n",
       "    </tr>\n",
       "  </tbody>\n",
       "</table>\n",
       "<p>5 rows × 22 columns</p>\n",
       "</div>"
      ],
      "text/plain": [
       "                  title   puNumber           show_start_date            type  \\\n",
       "0      Открытый простор  221048915 2015-11-27 12:00:00+00:00  Художественный   \n",
       "1  Особо важное задание  111013716 2016-09-13 12:00:00+00:00  Художественный   \n",
       "2          Особо опасен  221038416 2016-10-10 12:00:00+00:00  Художественный   \n",
       "3          Особо опасен  221026916 2016-06-10 12:00:00+00:00  Художественный   \n",
       "4          Особо опасен  221030815 2015-07-29 12:00:00+00:00  Художественный   \n",
       "\n",
       "                                         film_studio production_country  \\\n",
       "0  Тачстоун Пикчерз, Кобальт Пикчерз, Бикон Пикче...                США   \n",
       "1                              Киностудия \"Мосфильм\"               СССР   \n",
       "2  Юниверсал Пикчерз, Кикстарт Продакшнз, Марк Пл...                США   \n",
       "3  Юниверсал Пикчерз, Кикстарт Продакшнз, Марк Пл...                США   \n",
       "4  Юниверсал Пикчерз, Кикстарт Продакшнз, Марк Пл...                США   \n",
       "\n",
       "            director                                           producer  \\\n",
       "0      Кевин Костнер          Дэвид Валдес, Кевин Костнер, Джейк Эбертс   \n",
       "1          Е.Матвеев                                                NaN   \n",
       "2  Тимур Бекмамбетов  Джим Лемли, Джейсон Нетер, Марк Е.Платт, Яйн Смит   \n",
       "3  Тимур Бекмамбетов  Джим Лемли, Джейсон Нетер, Марк Е.Платт, Яйн Смит   \n",
       "4  Тимур Бекмамбетов  Джим Лемли, Джейсон Нетер, Марк Е.Платт, Яйн Смит   \n",
       "\n",
       "                 age_restriction  refundable_support  ...  financing_source  \\\n",
       "0    «18+» - запрещено для детей                 NaN  ...               NaN   \n",
       "1  «6+» - для детей старше 6 лет                 NaN  ...               NaN   \n",
       "2    «18+» - запрещено для детей                 NaN  ...               NaN   \n",
       "3    «18+» - запрещено для детей                 NaN  ...               NaN   \n",
       "4    «18+» - запрещено для детей                 NaN  ...               NaN   \n",
       "\n",
       "   ratings                     genres  box_office age_group  sum_ref_noref  \\\n",
       "0      7.2     боевик,драма,мелодрама         NaN       18+            NaN   \n",
       "1      6.6              драма,военный         NaN        6+            NaN   \n",
       "2      6.8  фантастика,боевик,триллер         NaN       18+            NaN   \n",
       "3      6.8  фантастика,боевик,триллер         NaN       18+            NaN   \n",
       "4      6.8  фантастика,боевик,триллер         NaN       18+            NaN   \n",
       "\n",
       "  budget_empty  year_name     basic_director  basic_genres  \n",
       "0            0       2015      Кевин Костнер        боевик  \n",
       "1            0       2016          Е.Матвеев         драма  \n",
       "2            0       2016  Тимур Бекмамбетов    фантастика  \n",
       "3            0       2016  Тимур Бекмамбетов    фантастика  \n",
       "4            0       2015  Тимур Бекмамбетов    фантастика  \n",
       "\n",
       "[5 rows x 22 columns]"
      ]
     },
     "execution_count": 30,
     "metadata": {},
     "output_type": "execute_result"
    }
   ],
   "source": [
    "movies.head()"
   ]
  },
  {
   "cell_type": "markdown",
   "metadata": {
    "id": "1FsCXHwdgFyU"
   },
   "source": [
    "- Посчитаем, какую долю от общего бюджета фильма составляет государственная поддержка."
   ]
  },
  {
   "cell_type": "code",
   "execution_count": 31,
   "metadata": {
    "id": "LV6qFuZLgFyV"
   },
   "outputs": [],
   "source": [
    "# добавили расчет с долей от общего бюджета\n",
    "movies['share_of_total_budget'] = round(movies['sum_ref_noref'] / movies['budget'], 2)"
   ]
  },
  {
   "cell_type": "code",
   "execution_count": 32,
   "metadata": {
    "scrolled": true
   },
   "outputs": [
    {
     "data": {
      "text/html": [
       "<div>\n",
       "<style scoped>\n",
       "    .dataframe tbody tr th:only-of-type {\n",
       "        vertical-align: middle;\n",
       "    }\n",
       "\n",
       "    .dataframe tbody tr th {\n",
       "        vertical-align: top;\n",
       "    }\n",
       "\n",
       "    .dataframe thead th {\n",
       "        text-align: right;\n",
       "    }\n",
       "</style>\n",
       "<table border=\"1\" class=\"dataframe\">\n",
       "  <thead>\n",
       "    <tr style=\"text-align: right;\">\n",
       "      <th></th>\n",
       "      <th>title</th>\n",
       "      <th>puNumber</th>\n",
       "      <th>show_start_date</th>\n",
       "      <th>type</th>\n",
       "      <th>film_studio</th>\n",
       "      <th>production_country</th>\n",
       "      <th>director</th>\n",
       "      <th>producer</th>\n",
       "      <th>age_restriction</th>\n",
       "      <th>refundable_support</th>\n",
       "      <th>...</th>\n",
       "      <th>ratings</th>\n",
       "      <th>genres</th>\n",
       "      <th>box_office</th>\n",
       "      <th>age_group</th>\n",
       "      <th>sum_ref_noref</th>\n",
       "      <th>budget_empty</th>\n",
       "      <th>year_name</th>\n",
       "      <th>basic_director</th>\n",
       "      <th>basic_genres</th>\n",
       "      <th>share_of_total_budget</th>\n",
       "    </tr>\n",
       "  </thead>\n",
       "  <tbody>\n",
       "    <tr>\n",
       "      <td>3385</td>\n",
       "      <td>О любви (2017)</td>\n",
       "      <td>111018816</td>\n",
       "      <td>2016-12-28 12:00:00+00:00</td>\n",
       "      <td>Художественный</td>\n",
       "      <td>ООО \"СТУДИЯ \"2-Б-2\" ИНТЕРТЭЙНМЕНТ\"</td>\n",
       "      <td>Россия</td>\n",
       "      <td>В.Бортко</td>\n",
       "      <td>Н.Бортко</td>\n",
       "      <td>«16+» - для детей старше 16 лет</td>\n",
       "      <td>20000000.0</td>\n",
       "      <td>...</td>\n",
       "      <td>NaN</td>\n",
       "      <td>NaN</td>\n",
       "      <td>11332412.0</td>\n",
       "      <td>16+</td>\n",
       "      <td>55000000.0</td>\n",
       "      <td>1</td>\n",
       "      <td>2016</td>\n",
       "      <td>В.Бортко</td>\n",
       "      <td>NaN</td>\n",
       "      <td>0.78</td>\n",
       "    </tr>\n",
       "  </tbody>\n",
       "</table>\n",
       "<p>1 rows × 23 columns</p>\n",
       "</div>"
      ],
      "text/plain": [
       "               title   puNumber           show_start_date            type  \\\n",
       "3385  О любви (2017)  111018816 2016-12-28 12:00:00+00:00  Художественный   \n",
       "\n",
       "                             film_studio production_country  director  \\\n",
       "3385  ООО \"СТУДИЯ \"2-Б-2\" ИНТЕРТЭЙНМЕНТ\"             Россия  В.Бортко   \n",
       "\n",
       "      producer                  age_restriction  refundable_support  ...  \\\n",
       "3385  Н.Бортко  «16+» - для детей старше 16 лет          20000000.0  ...   \n",
       "\n",
       "      ratings  genres  box_office  age_group sum_ref_noref  budget_empty  \\\n",
       "3385      NaN     NaN  11332412.0        16+    55000000.0             1   \n",
       "\n",
       "     year_name  basic_director  basic_genres  share_of_total_budget  \n",
       "3385      2016        В.Бортко           NaN                   0.78  \n",
       "\n",
       "[1 rows x 23 columns]"
      ]
     },
     "execution_count": 32,
     "metadata": {},
     "output_type": "execute_result"
    }
   ],
   "source": [
    "# посмотрим какой фильм получил больше 70 процентов поддержки от государства\n",
    "movies[movies['budget_empty'] == 1].query('share_of_total_budget > 0.70')"
   ]
  },
  {
   "cell_type": "markdown",
   "metadata": {},
   "source": [
    "Фильм который больше всех получил господдержку \"О любви\", от В.Бортко. 78% от общего бюджета."
   ]
  },
  {
   "cell_type": "markdown",
   "metadata": {},
   "source": [
    "#### Вывод"
   ]
  },
  {
   "cell_type": "markdown",
   "metadata": {},
   "source": [
    "Заменили тип данных по столбцам `show_start_date` — дата премьеры фильма, `ratings` — рейтинг фильма на КиноПоиске.  \n",
    "Проверили файлы на дубли, явных повторяющихся строк нет. Поворения по столбцам `title` — название фильма и `puNumber` — номер прокатного удостоверения обоснованы, оставляем, на анализ они не повлияют.  \n",
    "Пустые значения оставили пустыми, они не потребуются для анализа. Да, и заполнить самостоятельно нет возможности.  \n",
    "Созданы столбцы для `age_group` — краткое обозначение возрастной категории, `sum_ref_noref` — сумма объём средств государственной поддержки, `budget_empty` — столбец обозначение заполненого бюджета, `year_name` — год премьеры фильма, `basic_director` — главный режисер, `basic_genres` — главный жанр, `share_of_total_budge` — доля государственной поддержки от общего бюджета фильма.  \n",
    "Скорректированны данные в столбцах `type` — тип фильма и найдена ошибка в заполнении бюджета. Ошибка в бюджете добавлена в под категорию 0, и учитываться в анализе не будет."
   ]
  },
  {
   "cell_type": "markdown",
   "metadata": {
    "id": "6t4EukPLgFyV"
   },
   "source": [
    "### Шаг 3. Проведите исследовательский анализ данных\n"
   ]
  },
  {
   "cell_type": "markdown",
   "metadata": {
    "id": "vAH8WCzugFyV"
   },
   "source": [
    "- Посмотрим, сколько фильмов выходило в прокат каждый год. Обратим внимание, что данные о прокате в кинотеатрах известны не для всех фильмов. Посчитаем, какую долю составляют фильмы с указанной информацией о прокате в кинотеатрах."
   ]
  },
  {
   "cell_type": "code",
   "execution_count": 33,
   "metadata": {},
   "outputs": [],
   "source": [
    "# создадим отдельный датасет по фильмам выходивших в прокат\n",
    "box_office_movies = movies[movies['box_office'].isnull() == False]"
   ]
  },
  {
   "cell_type": "code",
   "execution_count": 34,
   "metadata": {
    "id": "ABeV47y7gFyW",
    "scrolled": false
   },
   "outputs": [
    {
     "data": {
      "text/html": [
       "<div>\n",
       "<style scoped>\n",
       "    .dataframe tbody tr th:only-of-type {\n",
       "        vertical-align: middle;\n",
       "    }\n",
       "\n",
       "    .dataframe tbody tr th {\n",
       "        vertical-align: top;\n",
       "    }\n",
       "\n",
       "    .dataframe thead th {\n",
       "        text-align: right;\n",
       "    }\n",
       "</style>\n",
       "<table border=\"1\" class=\"dataframe\">\n",
       "  <thead>\n",
       "    <tr style=\"text-align: right;\">\n",
       "      <th></th>\n",
       "      <th>title_x</th>\n",
       "      <th>title_y</th>\n",
       "      <th>share</th>\n",
       "    </tr>\n",
       "    <tr>\n",
       "      <th>year_name</th>\n",
       "      <th></th>\n",
       "      <th></th>\n",
       "      <th></th>\n",
       "    </tr>\n",
       "  </thead>\n",
       "  <tbody>\n",
       "    <tr>\n",
       "      <td>2010</td>\n",
       "      <td>105</td>\n",
       "      <td>985</td>\n",
       "      <td>0.11</td>\n",
       "    </tr>\n",
       "    <tr>\n",
       "      <td>2011</td>\n",
       "      <td>109</td>\n",
       "      <td>622</td>\n",
       "      <td>0.18</td>\n",
       "    </tr>\n",
       "    <tr>\n",
       "      <td>2012</td>\n",
       "      <td>128</td>\n",
       "      <td>593</td>\n",
       "      <td>0.22</td>\n",
       "    </tr>\n",
       "    <tr>\n",
       "      <td>2013</td>\n",
       "      <td>184</td>\n",
       "      <td>630</td>\n",
       "      <td>0.29</td>\n",
       "    </tr>\n",
       "    <tr>\n",
       "      <td>2014</td>\n",
       "      <td>279</td>\n",
       "      <td>807</td>\n",
       "      <td>0.35</td>\n",
       "    </tr>\n",
       "    <tr>\n",
       "      <td>2015</td>\n",
       "      <td>465</td>\n",
       "      <td>705</td>\n",
       "      <td>0.66</td>\n",
       "    </tr>\n",
       "    <tr>\n",
       "      <td>2016</td>\n",
       "      <td>526</td>\n",
       "      <td>818</td>\n",
       "      <td>0.64</td>\n",
       "    </tr>\n",
       "    <tr>\n",
       "      <td>2017</td>\n",
       "      <td>357</td>\n",
       "      <td>505</td>\n",
       "      <td>0.71</td>\n",
       "    </tr>\n",
       "    <tr>\n",
       "      <td>2018</td>\n",
       "      <td>475</td>\n",
       "      <td>891</td>\n",
       "      <td>0.53</td>\n",
       "    </tr>\n",
       "    <tr>\n",
       "      <td>2019</td>\n",
       "      <td>530</td>\n",
       "      <td>930</td>\n",
       "      <td>0.57</td>\n",
       "    </tr>\n",
       "  </tbody>\n",
       "</table>\n",
       "</div>"
      ],
      "text/plain": [
       "           title_x  title_y  share\n",
       "year_name                         \n",
       "2010           105      985   0.11\n",
       "2011           109      622   0.18\n",
       "2012           128      593   0.22\n",
       "2013           184      630   0.29\n",
       "2014           279      807   0.35\n",
       "2015           465      705   0.66\n",
       "2016           526      818   0.64\n",
       "2017           357      505   0.71\n",
       "2018           475      891   0.53\n",
       "2019           530      930   0.57"
      ]
     },
     "execution_count": 34,
     "metadata": {},
     "output_type": "execute_result"
    }
   ],
   "source": [
    "# создадим сводную таблицу\n",
    "box_office_movies_pt = box_office_movies.pivot_table(index='year_name', values='title', aggfunc='count')\n",
    "movies_pt = movies.pivot_table(index='year_name', values='title', aggfunc='count')\n",
    "share = box_office_movies_pt.merge(movies_pt, on='year_name', how='left')\n",
    "share['share'] = round(share['title_x'] / share['title_y'], 2)\n",
    "share"
   ]
  },
  {
   "cell_type": "markdown",
   "metadata": {},
   "source": [
    "Доля, по данной таблице, видно что выросла. С 2010 года росла до 2017 год. Но в 2018 году снизилась на 18%, далее снова виден рост."
   ]
  },
  {
   "cell_type": "markdown",
   "metadata": {},
   "source": [
    "Заметен рост количества фильмов выходивших в прокат до 2016 года. В 2017 году почти на 169 фильмов стало меньше, но после количество стало снова рости."
   ]
  },
  {
   "cell_type": "code",
   "execution_count": 35,
   "metadata": {},
   "outputs": [
    {
     "name": "stdout",
     "output_type": "stream",
     "text": [
      "Фильмы с указанной информацией о прокате в кинотеатрах 42.2%\n"
     ]
    }
   ],
   "source": [
    "# высчитаем долю фильмов выходивших в прокат от всех фильмов\n",
    "len(box_office_movies['title']) / len(movies['title'])\n",
    "print('Фильмы с указанной информацией о прокате в кинотеатрах {:.1%}'.format(len(box_office_movies['title']) / len(movies['title'])))"
   ]
  },
  {
   "cell_type": "markdown",
   "metadata": {},
   "source": [
    "42.2% фильмов вышло в прокат"
   ]
  },
  {
   "cell_type": "markdown",
   "metadata": {
    "id": "BEOdcIrIgFyW"
   },
   "source": [
    "- Изучим, как менялась динамика проката по годам. В каком году сумма сборов была минимальной? А максимальной?"
   ]
  },
  {
   "cell_type": "code",
   "execution_count": 36,
   "metadata": {
    "id": "tfEhofYvgFyX",
    "scrolled": false
   },
   "outputs": [
    {
     "data": {
      "image/png": "[encoded data removed]",
      "text/plain": [
       "<Figure size 432x288 with 1 Axes>"
      ]
     },
     "metadata": {
      "needs_background": "light"
     },
     "output_type": "display_data"
    }
   ],
   "source": [
    "# построим диаграмму\n",
    "sns.distplot(box_office_movies['year_name'], kde=False, bins=10, color='tab:red')\n",
    "plt.xlim(2009, 2020)\n",
    "plt.title('Диаграмма кол-ва фильмов по годам')\n",
    "plt.xlabel('Года')\n",
    "plt.ylabel('Кол-во')\n",
    "plt.show()"
   ]
  },
  {
   "cell_type": "markdown",
   "metadata": {},
   "source": [
    "Минимальные сборы были в с 2010 по 2013 года. Большие показатели расперделились на 2017-2019 года"
   ]
  },
  {
   "cell_type": "code",
   "execution_count": 37,
   "metadata": {},
   "outputs": [
    {
     "data": {
      "text/html": [
       "<div>\n",
       "<style scoped>\n",
       "    .dataframe tbody tr th:only-of-type {\n",
       "        vertical-align: middle;\n",
       "    }\n",
       "\n",
       "    .dataframe tbody tr th {\n",
       "        vertical-align: top;\n",
       "    }\n",
       "\n",
       "    .dataframe thead th {\n",
       "        text-align: right;\n",
       "    }\n",
       "</style>\n",
       "<table border=\"1\" class=\"dataframe\">\n",
       "  <thead>\n",
       "    <tr style=\"text-align: right;\">\n",
       "      <th></th>\n",
       "      <th>box_office</th>\n",
       "    </tr>\n",
       "    <tr>\n",
       "      <th>year_name</th>\n",
       "      <th></th>\n",
       "    </tr>\n",
       "  </thead>\n",
       "  <tbody>\n",
       "    <tr>\n",
       "      <td>2018</td>\n",
       "      <td>4.966840e+10</td>\n",
       "    </tr>\n",
       "    <tr>\n",
       "      <td>2017</td>\n",
       "      <td>4.856371e+10</td>\n",
       "    </tr>\n",
       "    <tr>\n",
       "      <td>2019</td>\n",
       "      <td>4.842571e+10</td>\n",
       "    </tr>\n",
       "    <tr>\n",
       "      <td>2016</td>\n",
       "      <td>4.786630e+10</td>\n",
       "    </tr>\n",
       "    <tr>\n",
       "      <td>2015</td>\n",
       "      <td>3.949737e+10</td>\n",
       "    </tr>\n",
       "    <tr>\n",
       "      <td>2014</td>\n",
       "      <td>7.444952e+09</td>\n",
       "    </tr>\n",
       "    <tr>\n",
       "      <td>2013</td>\n",
       "      <td>2.979971e+07</td>\n",
       "    </tr>\n",
       "    <tr>\n",
       "      <td>2011</td>\n",
       "      <td>1.410276e+07</td>\n",
       "    </tr>\n",
       "    <tr>\n",
       "      <td>2012</td>\n",
       "      <td>6.955423e+06</td>\n",
       "    </tr>\n",
       "    <tr>\n",
       "      <td>2010</td>\n",
       "      <td>2.428654e+06</td>\n",
       "    </tr>\n",
       "  </tbody>\n",
       "</table>\n",
       "</div>"
      ],
      "text/plain": [
       "             box_office\n",
       "year_name              \n",
       "2018       4.966840e+10\n",
       "2017       4.856371e+10\n",
       "2019       4.842571e+10\n",
       "2016       4.786630e+10\n",
       "2015       3.949737e+10\n",
       "2014       7.444952e+09\n",
       "2013       2.979971e+07\n",
       "2011       1.410276e+07\n",
       "2012       6.955423e+06\n",
       "2010       2.428654e+06"
      ]
     },
     "execution_count": 37,
     "metadata": {},
     "output_type": "execute_result"
    }
   ],
   "source": [
    "# сводная таблица по сборам в зависимости от года\n",
    "box_office_movies.pivot_table(index='year_name', values='box_office', aggfunc='sum').sort_values('box_office', ascending=False)"
   ]
  },
  {
   "cell_type": "markdown",
   "metadata": {
    "id": "G-7qS-N-gFyY"
   },
   "source": [
    "- С помощью сводной таблицы посчитаем среднюю и медианную сумму сборов для каждого года."
   ]
  },
  {
   "cell_type": "code",
   "execution_count": 38,
   "metadata": {
    "id": "jmp-rgg9gFyY"
   },
   "outputs": [
    {
     "data": {
      "text/html": [
       "<div>\n",
       "<style scoped>\n",
       "    .dataframe tbody tr th:only-of-type {\n",
       "        vertical-align: middle;\n",
       "    }\n",
       "\n",
       "    .dataframe tbody tr th {\n",
       "        vertical-align: top;\n",
       "    }\n",
       "\n",
       "    .dataframe thead tr th {\n",
       "        text-align: left;\n",
       "    }\n",
       "\n",
       "    .dataframe thead tr:last-of-type th {\n",
       "        text-align: right;\n",
       "    }\n",
       "</style>\n",
       "<table border=\"1\" class=\"dataframe\">\n",
       "  <thead>\n",
       "    <tr>\n",
       "      <th></th>\n",
       "      <th>mean</th>\n",
       "      <th>median</th>\n",
       "    </tr>\n",
       "    <tr>\n",
       "      <th></th>\n",
       "      <th>box_office</th>\n",
       "      <th>box_office</th>\n",
       "    </tr>\n",
       "    <tr>\n",
       "      <th>year_name</th>\n",
       "      <th></th>\n",
       "      <th></th>\n",
       "    </tr>\n",
       "  </thead>\n",
       "  <tbody>\n",
       "    <tr>\n",
       "      <td>2010</td>\n",
       "      <td>2.313004e+04</td>\n",
       "      <td>1700.000</td>\n",
       "    </tr>\n",
       "    <tr>\n",
       "      <td>2011</td>\n",
       "      <td>1.293832e+05</td>\n",
       "      <td>3000.000</td>\n",
       "    </tr>\n",
       "    <tr>\n",
       "      <td>2012</td>\n",
       "      <td>5.433924e+04</td>\n",
       "      <td>5660.000</td>\n",
       "    </tr>\n",
       "    <tr>\n",
       "      <td>2013</td>\n",
       "      <td>1.619549e+05</td>\n",
       "      <td>3522.500</td>\n",
       "    </tr>\n",
       "    <tr>\n",
       "      <td>2014</td>\n",
       "      <td>2.668442e+07</td>\n",
       "      <td>18160.000</td>\n",
       "    </tr>\n",
       "    <tr>\n",
       "      <td>2015</td>\n",
       "      <td>8.494057e+07</td>\n",
       "      <td>4920933.000</td>\n",
       "    </tr>\n",
       "    <tr>\n",
       "      <td>2016</td>\n",
       "      <td>9.100057e+07</td>\n",
       "      <td>3846679.410</td>\n",
       "    </tr>\n",
       "    <tr>\n",
       "      <td>2017</td>\n",
       "      <td>1.360328e+08</td>\n",
       "      <td>9968340.000</td>\n",
       "    </tr>\n",
       "    <tr>\n",
       "      <td>2018</td>\n",
       "      <td>1.045651e+08</td>\n",
       "      <td>8891102.210</td>\n",
       "    </tr>\n",
       "    <tr>\n",
       "      <td>2019</td>\n",
       "      <td>9.136926e+07</td>\n",
       "      <td>4627798.345</td>\n",
       "    </tr>\n",
       "  </tbody>\n",
       "</table>\n",
       "</div>"
      ],
      "text/plain": [
       "                   mean       median\n",
       "             box_office   box_office\n",
       "year_name                           \n",
       "2010       2.313004e+04     1700.000\n",
       "2011       1.293832e+05     3000.000\n",
       "2012       5.433924e+04     5660.000\n",
       "2013       1.619549e+05     3522.500\n",
       "2014       2.668442e+07    18160.000\n",
       "2015       8.494057e+07  4920933.000\n",
       "2016       9.100057e+07  3846679.410\n",
       "2017       1.360328e+08  9968340.000\n",
       "2018       1.045651e+08  8891102.210\n",
       "2019       9.136926e+07  4627798.345"
      ]
     },
     "execution_count": 38,
     "metadata": {},
     "output_type": "execute_result"
    }
   ],
   "source": [
    "# создадим сводную таблицу\n",
    "box_office_movies.pivot_table(index='year_name', values='box_office', aggfunc=['mean', 'median'])"
   ]
  },
  {
   "cell_type": "markdown",
   "metadata": {
    "id": "Ok89WFwJgFyZ"
   },
   "source": [
    "- Определим, влияет ли возрастное ограничение аудитории («6+», «12+», «16+», «18+» и т. д.) на сборы фильма в прокате в период с 2015 по 2019 год? Фильмы с каким возрастным ограничением собрали больше всего денег в прокате? Меняется ли картина в зависимости от года? Если да, предположите, с чем это может быть связано."
   ]
  },
  {
   "cell_type": "code",
   "execution_count": 39,
   "metadata": {
    "scrolled": true
   },
   "outputs": [
    {
     "data": {
      "image/png": "[encoded data removed]",
      "text/plain": [
       "<Figure size 1080x504 with 1 Axes>"
      ]
     },
     "metadata": {
      "needs_background": "light"
     },
     "output_type": "display_data"
    }
   ],
   "source": [
    "# Построим диаграмму\n",
    "(box_office_movies\n",
    "    .query('year_name > 2014')\n",
    "    .pivot_table(index = 'year_name',\n",
    "                  columns = 'age_group',\n",
    "                  values = 'box_office',\n",
    "                  aggfunc = 'sum')\n",
    "    .plot(kind = 'bar', figsize = (15,7))\n",
    ")\n",
    "plt.title('Возростные ограничения по года')\n",
    "plt.xlabel('Год')\n",
    "plt.ylabel('Сборы')\n",
    "plt.show()"
   ]
  },
  {
   "cell_type": "markdown",
   "metadata": {},
   "source": [
    "Фильмы 0+ неинтересные, поэтому никто не ходит\n",
    "18+ не все могут пройти на такие фильмы, поэтому сборы не такие большие\n",
    "6+ хорошие сборы, в основном это семейные фильмы и мультфильмы, поэтому в основном идут взрослые с детьми, поэтому сборы хорошие\n",
    "12+ и 16+ охватывают достаточно большую аудиторию за счёт небольшого возрастного ограничения, а так же сборы выше за счёт сюжета, которому поставили такой рейтинг\n",
    "16+ повыше, потому что туда входит больше платежеспособной аудитории, чем в 12+"
   ]
  },
  {
   "cell_type": "markdown",
   "metadata": {},
   "source": [
    "#### Вывод"
   ]
  },
  {
   "cell_type": "markdown",
   "metadata": {},
   "source": [
    "С каждым годом количество фильмов растет. Хотя не все выходят в прокат, только 42,2% от всех фильмов.  \n",
    "Заметно что растут сборы, в 2014 году был резкий скачек.  \n",
    "В основном людям нравятся фильмы 12+ и 16+ у них больше всего сборов."
   ]
  },
  {
   "cell_type": "markdown",
   "metadata": {
    "id": "l_Kg6Ku4gFya"
   },
   "source": [
    "### Шаг 4. Исследуйте фильмы, которые получили государственную поддержку\n",
    "\n",
    "Проверим, хорошо ли окупаются такие фильмы, какой у них рейтинг."
   ]
  },
  {
   "cell_type": "markdown",
   "metadata": {},
   "source": [
    "- Посмотрим, сколько выделяют средств на поддержку кино. Проверим, хорошо ли окупаются такие фильмы, какой у них рейтинг."
   ]
  },
  {
   "cell_type": "code",
   "execution_count": 40,
   "metadata": {},
   "outputs": [],
   "source": [
    "# создадим отдельный датасет по фильмам получившие государственную поддержку\n",
    "# очистим данные от пропущенных значений\n",
    "financing_source_movies = movies.query('budget_empty == 1 & sum_ref_noref > 0')"
   ]
  },
  {
   "cell_type": "code",
   "execution_count": 41,
   "metadata": {
    "scrolled": true
   },
   "outputs": [
    {
     "data": {
      "image/png": "[encoded data removed]",
      "text/plain": [
       "<Figure size 1080x576 with 1 Axes>"
      ]
     },
     "metadata": {
      "needs_background": "light"
     },
     "output_type": "display_data"
    }
   ],
   "source": [
    "# постороим график где сравним бюджет фильм и его господдержку\n",
    "(financing_source_movies\n",
    "     .sort_values(by='refundable_support',ascending=True)\n",
    "     .groupby('year_name')['budget'].median()\n",
    "     .plot(x='year_name',y='budget',style='o-',grid=True,figsize=(15,8),legend=True)\n",
    ")\n",
    "\n",
    "(financing_source_movies\n",
    "     .groupby('year_name')['box_office'].median()\n",
    "     .plot(x='year_name',y='box_office',style='o-',grid=True,figsize=(15,8),legend=True)\n",
    ")\n",
    "plt.show()"
   ]
  },
  {
   "cell_type": "markdown",
   "metadata": {},
   "source": [
    "По графику видно что по годам фильмы с господдержкой не окупились"
   ]
  },
  {
   "cell_type": "code",
   "execution_count": 42,
   "metadata": {
    "scrolled": false
   },
   "outputs": [
    {
     "data": {
      "image/png": "[encoded data removed]",
      "text/plain": [
       "<Figure size 360x360 with 1 Axes>"
      ]
     },
     "metadata": {
      "needs_background": "light"
     },
     "output_type": "display_data"
    }
   ],
   "source": [
    "# построим диаграмму размаха\n",
    "sns.catplot(x='ratings', kind='box', data=financing_source_movies, palette='husl')\n",
    "plt.show()"
   ]
  },
  {
   "cell_type": "markdown",
   "metadata": {},
   "source": [
    "Рейтинг по таким фильмам не большой, основная масса фильмов с оценкой меньше 6. Посмотрим какие фильмы окупились"
   ]
  },
  {
   "cell_type": "code",
   "execution_count": 43,
   "metadata": {},
   "outputs": [],
   "source": [
    "the_film_paid_off = financing_source_movies.query('box_office - budget > 0')"
   ]
  },
  {
   "cell_type": "code",
   "execution_count": 44,
   "metadata": {
    "scrolled": true
   },
   "outputs": [
    {
     "data": {
      "image/png": "[encoded data removed]",
      "text/plain": [
       "<Figure size 576x504 with 1 Axes>"
      ]
     },
     "metadata": {
      "needs_background": "light"
     },
     "output_type": "display_data"
    }
   ],
   "source": [
    "# Построим диаграмму\n",
    "(the_film_paid_off\n",
    "    .pivot_table(columns = 'age_group',\n",
    "                  values = 'box_office',\n",
    "                  aggfunc = 'sum')\n",
    "    .plot(kind = 'bar', figsize = (8,7))\n",
    ")\n",
    "plt.title('Возростные ограничения по года')\n",
    "plt.ylabel('Сборы')\n",
    "plt.show()"
   ]
  },
  {
   "cell_type": "markdown",
   "metadata": {},
   "source": [
    "Фильмы с огрничением 12+ и 6+ беспорно фавориты."
   ]
  },
  {
   "cell_type": "code",
   "execution_count": 45,
   "metadata": {},
   "outputs": [
    {
     "data": {
      "text/plain": [
       "комедия                            15\n",
       "комедия,мелодрама                   5\n",
       "мультфильм,приключения,семейный     4\n",
       "драма                               4\n",
       "драма,мелодрама                     2\n",
       "Name: genres, dtype: int64"
      ]
     },
     "execution_count": 45,
     "metadata": {},
     "output_type": "execute_result"
    }
   ],
   "source": [
    "# посмотрим список жанров\n",
    "the_film_paid_off['genres'].value_counts().head()"
   ]
  },
  {
   "cell_type": "code",
   "execution_count": 46,
   "metadata": {
    "scrolled": true
   },
   "outputs": [
    {
     "data": {
      "text/plain": [
       "Художественный    58\n",
       "Анимационный       8\n",
       "Name: type, dtype: int64"
      ]
     },
     "execution_count": 46,
     "metadata": {},
     "output_type": "execute_result"
    }
   ],
   "source": [
    "# посмотрим список типов\n",
    "the_film_paid_off['type'].value_counts()"
   ]
  },
  {
   "cell_type": "markdown",
   "metadata": {},
   "source": [
    "По данным видно что лучше окупаются фильмы жанра комедии"
   ]
  },
  {
   "cell_type": "code",
   "execution_count": 47,
   "metadata": {},
   "outputs": [],
   "source": [
    "# посмотрим список жанров не окупившихся фильмов\n",
    "# создадим таблицу\n",
    "the_film_was_stagnant = financing_source_movies.query('box_office - budget < 0')"
   ]
  },
  {
   "cell_type": "code",
   "execution_count": 48,
   "metadata": {
    "scrolled": false
   },
   "outputs": [
    {
     "data": {
      "text/plain": [
       "драма                40\n",
       "комедия              15\n",
       "комедия,мелодрама     9\n",
       "драма,мелодрама       5\n",
       "мультфильм            4\n",
       "Name: genres, dtype: int64"
      ]
     },
     "execution_count": 48,
     "metadata": {},
     "output_type": "execute_result"
    }
   ],
   "source": [
    "the_film_was_stagnant['genres'].value_counts().head()"
   ]
  },
  {
   "cell_type": "markdown",
   "metadata": {},
   "source": [
    "Выходит драма на любителя, мало кто любит грустить."
   ]
  },
  {
   "cell_type": "markdown",
   "metadata": {},
   "source": [
    "#### Вывод"
   ]
  },
  {
   "cell_type": "markdown",
   "metadata": {},
   "source": [
    "Данные показали, что в основном фильмы с поддежкой государства не окупились. Да, и оценка у них не большая. Людям больше нравятся семейные комедии с ограничением 12+ и 6+."
   ]
  },
  {
   "cell_type": "markdown",
   "metadata": {
    "id": "V2gYwMcPgFyd"
   },
   "source": [
    "### Шаг 5. Напишите общий вывод"
   ]
  },
  {
   "cell_type": "markdown",
   "metadata": {
    "id": "AYRg3dzXgFye"
   },
   "source": [
    "Отвечая на вопрос \"насколько такие фильмы,которые получили государственную поддержку, интересны зрителю\".  \n",
    "Да интерес есть, хорошие сборы, в основном это семейные комедии, поэтому в основном идут взрослые с детьми, поэтому сборы хорошие 12+ и 16+ охватывают достаточно большую аудиторию за счёт небольшого возрастного ограничения, а так же сборы выше за счёт сюжета, которому поставили такой рейтинг 16+ повыше, потому что туда входит больше платежеспособной аудитории, чем в 12+.  Не окупившимися оказались в основном драмы и мелодрамы.\n",
    "\n",
    "По технической части хотелось бы чтобы рейтинг, если написано кинопоиск, был дейстивтельно оттуда. У даных в столбце бюджет была бы проверка, что не может быть меньше данных господдержки."
   ]
  }
 ],
 "metadata": {
  "ExecuteTimeLog": [
   {
    "duration": 537,
    "start_time": "2021-07-07T10:12:08.634Z"
   },
   {
    "duration": 206,
    "start_time": "2021-07-07T10:12:30.191Z"
   },
   {
    "duration": 227,
    "start_time": "2021-07-07T10:12:33.078Z"
   },
   {
    "duration": 153,
    "start_time": "2021-07-07T10:13:42.146Z"
   },
   {
    "duration": 233,
    "start_time": "2021-07-07T10:30:09.252Z"
   },
   {
    "duration": 19,
    "start_time": "2021-07-07T10:30:15.577Z"
   },
   {
    "duration": 18,
    "start_time": "2021-07-07T10:30:57.348Z"
   },
   {
    "duration": 19,
    "start_time": "2021-07-07T10:31:17.452Z"
   },
   {
    "duration": 21,
    "start_time": "2021-07-07T10:31:32.227Z"
   },
   {
    "duration": 27,
    "start_time": "2021-07-07T10:32:06.588Z"
   },
   {
    "duration": 23,
    "start_time": "2021-07-07T10:32:43.645Z"
   },
   {
    "duration": 24,
    "start_time": "2021-07-07T10:33:06.948Z"
   },
   {
    "duration": 7,
    "start_time": "2021-07-07T10:33:28.558Z"
   },
   {
    "duration": 23,
    "start_time": "2021-07-07T10:33:43.761Z"
   },
   {
    "duration": 28,
    "start_time": "2021-07-07T10:34:13.466Z"
   },
   {
    "duration": 23,
    "start_time": "2021-07-07T10:35:56.187Z"
   },
   {
    "duration": 6,
    "start_time": "2021-07-07T10:36:48.182Z"
   },
   {
    "duration": 14,
    "start_time": "2021-07-07T10:37:49.641Z"
   },
   {
    "duration": 6,
    "start_time": "2021-07-07T10:38:06.694Z"
   },
   {
    "duration": 6,
    "start_time": "2021-07-07T10:38:13.493Z"
   },
   {
    "duration": 19,
    "start_time": "2021-07-07T10:38:44.056Z"
   },
   {
    "duration": 186,
    "start_time": "2021-07-07T10:48:35.618Z"
   },
   {
    "duration": 24,
    "start_time": "2021-07-07T10:48:51.498Z"
   },
   {
    "duration": 20,
    "start_time": "2021-07-07T10:48:59.415Z"
   },
   {
    "duration": 20,
    "start_time": "2021-07-07T10:53:02.195Z"
   },
   {
    "duration": 188,
    "start_time": "2021-07-07T10:54:40.486Z"
   },
   {
    "duration": 115,
    "start_time": "2021-07-07T10:54:52.552Z"
   },
   {
    "duration": 214,
    "start_time": "2021-07-07T10:54:56.354Z"
   },
   {
    "duration": 47,
    "start_time": "2021-07-07T10:54:58.282Z"
   },
   {
    "duration": 217,
    "start_time": "2021-07-07T10:59:16.075Z"
   },
   {
    "duration": 51,
    "start_time": "2021-07-07T10:59:16.243Z"
   },
   {
    "duration": 578,
    "start_time": "2021-07-07T10:59:18.774Z"
   },
   {
    "duration": 161,
    "start_time": "2021-07-07T10:59:21.238Z"
   },
   {
    "duration": 59,
    "start_time": "2021-07-07T10:59:21.453Z"
   },
   {
    "duration": 3,
    "start_time": "2021-07-07T11:02:10.786Z"
   },
   {
    "duration": 13,
    "start_time": "2021-07-07T11:07:07.722Z"
   },
   {
    "duration": 26,
    "start_time": "2021-07-07T11:07:17.958Z"
   },
   {
    "duration": 22,
    "start_time": "2021-07-07T11:08:17.939Z"
   },
   {
    "duration": 212,
    "start_time": "2021-07-07T11:08:19.665Z"
   },
   {
    "duration": 21,
    "start_time": "2021-07-07T11:08:29.945Z"
   },
   {
    "duration": 31,
    "start_time": "2021-07-07T11:08:38.899Z"
   },
   {
    "duration": 23,
    "start_time": "2021-07-07T11:08:54.527Z"
   },
   {
    "duration": 8,
    "start_time": "2021-07-07T11:18:55.974Z"
   },
   {
    "duration": 7,
    "start_time": "2021-07-07T11:19:03.639Z"
   },
   {
    "duration": 7,
    "start_time": "2021-07-07T11:19:06.444Z"
   },
   {
    "duration": 578,
    "start_time": "2021-07-07T12:09:59.576Z"
   },
   {
    "duration": 195,
    "start_time": "2021-07-07T12:10:00.156Z"
   },
   {
    "duration": 115,
    "start_time": "2021-07-07T12:10:00.353Z"
   },
   {
    "duration": 3,
    "start_time": "2021-07-07T12:10:00.470Z"
   },
   {
    "duration": 32,
    "start_time": "2021-07-07T12:10:00.474Z"
   },
   {
    "duration": 23,
    "start_time": "2021-07-07T12:10:00.508Z"
   },
   {
    "duration": 19,
    "start_time": "2021-07-07T12:10:00.533Z"
   },
   {
    "duration": 44,
    "start_time": "2021-07-07T12:10:00.553Z"
   },
   {
    "duration": 7,
    "start_time": "2021-07-07T12:10:00.600Z"
   },
   {
    "duration": 7,
    "start_time": "2021-07-07T12:19:45.761Z"
   },
   {
    "duration": 21,
    "start_time": "2021-07-07T12:21:35.482Z"
   },
   {
    "duration": 21,
    "start_time": "2021-07-07T12:29:23.569Z"
   },
   {
    "duration": 525,
    "start_time": "2021-07-07T12:29:44.542Z"
   },
   {
    "duration": 214,
    "start_time": "2021-07-07T12:29:45.069Z"
   },
   {
    "duration": 92,
    "start_time": "2021-07-07T12:29:45.285Z"
   },
   {
    "duration": 3,
    "start_time": "2021-07-07T12:29:45.379Z"
   },
   {
    "duration": 28,
    "start_time": "2021-07-07T12:29:45.384Z"
   },
   {
    "duration": 23,
    "start_time": "2021-07-07T12:29:45.413Z"
   },
   {
    "duration": 21,
    "start_time": "2021-07-07T12:29:45.437Z"
   },
   {
    "duration": 41,
    "start_time": "2021-07-07T12:29:45.460Z"
   },
   {
    "duration": 7,
    "start_time": "2021-07-07T12:29:45.502Z"
   },
   {
    "duration": 20,
    "start_time": "2021-07-07T12:29:45.511Z"
   },
   {
    "duration": 12,
    "start_time": "2021-07-07T12:34:02.800Z"
   },
   {
    "duration": 7,
    "start_time": "2021-07-07T12:35:10.479Z"
   },
   {
    "duration": 8,
    "start_time": "2021-07-07T12:35:22.440Z"
   },
   {
    "duration": 6,
    "start_time": "2021-07-07T12:35:35.649Z"
   },
   {
    "duration": 6,
    "start_time": "2021-07-07T12:35:43.107Z"
   },
   {
    "duration": 22,
    "start_time": "2021-07-07T12:38:03.029Z"
   },
   {
    "duration": 10,
    "start_time": "2021-07-07T12:38:06.592Z"
   },
   {
    "duration": 563,
    "start_time": "2021-07-07T12:38:46.493Z"
   },
   {
    "duration": 265,
    "start_time": "2021-07-07T12:38:47.058Z"
   },
   {
    "duration": 94,
    "start_time": "2021-07-07T12:38:47.325Z"
   },
   {
    "duration": 3,
    "start_time": "2021-07-07T12:38:47.422Z"
   },
   {
    "duration": 30,
    "start_time": "2021-07-07T12:38:47.427Z"
   },
   {
    "duration": 16,
    "start_time": "2021-07-07T12:38:53.305Z"
   },
   {
    "duration": 10,
    "start_time": "2021-07-07T12:38:53.499Z"
   },
   {
    "duration": 8,
    "start_time": "2021-07-07T12:39:48.161Z"
   },
   {
    "duration": 27,
    "start_time": "2021-07-07T12:41:17.629Z"
   },
   {
    "duration": 17,
    "start_time": "2021-07-07T12:41:17.867Z"
   },
   {
    "duration": 21,
    "start_time": "2021-07-07T12:41:19.310Z"
   },
   {
    "duration": 7,
    "start_time": "2021-07-07T12:41:19.544Z"
   },
   {
    "duration": 20,
    "start_time": "2021-07-07T12:41:20.504Z"
   },
   {
    "duration": 554,
    "start_time": "2021-07-07T12:56:23.696Z"
   },
   {
    "duration": 200,
    "start_time": "2021-07-07T12:56:25.234Z"
   },
   {
    "duration": 119,
    "start_time": "2021-07-07T12:56:25.480Z"
   },
   {
    "duration": 4,
    "start_time": "2021-07-07T12:56:25.762Z"
   },
   {
    "duration": 26,
    "start_time": "2021-07-07T12:56:27.172Z"
   },
   {
    "duration": 12,
    "start_time": "2021-07-07T12:56:29.051Z"
   },
   {
    "duration": 10,
    "start_time": "2021-07-07T12:56:29.291Z"
   },
   {
    "duration": 8,
    "start_time": "2021-07-07T12:56:29.623Z"
   },
   {
    "duration": 28,
    "start_time": "2021-07-07T12:56:32.137Z"
   },
   {
    "duration": 19,
    "start_time": "2021-07-07T12:56:39.785Z"
   },
   {
    "duration": 20,
    "start_time": "2021-07-07T12:56:44.297Z"
   },
   {
    "duration": 7,
    "start_time": "2021-07-07T12:56:45.392Z"
   },
   {
    "duration": 23,
    "start_time": "2021-07-07T12:56:46.615Z"
   },
   {
    "duration": 4,
    "start_time": "2021-07-07T12:57:06.625Z"
   },
   {
    "duration": 32,
    "start_time": "2021-07-07T12:57:36.690Z"
   },
   {
    "duration": 18,
    "start_time": "2021-07-07T12:58:00.149Z"
   },
   {
    "duration": 15,
    "start_time": "2021-07-07T12:59:16.793Z"
   },
   {
    "duration": 7,
    "start_time": "2021-07-07T13:19:22.624Z"
   },
   {
    "duration": 6,
    "start_time": "2021-07-07T14:17:33.527Z"
   },
   {
    "duration": 9,
    "start_time": "2021-07-07T14:17:48.409Z"
   },
   {
    "duration": 8,
    "start_time": "2021-07-07T14:20:13.060Z"
   },
   {
    "duration": 8,
    "start_time": "2021-07-07T14:20:37.957Z"
   },
   {
    "duration": 8,
    "start_time": "2021-07-07T14:20:47.470Z"
   },
   {
    "duration": 9,
    "start_time": "2021-07-07T14:20:54.503Z"
   },
   {
    "duration": 10,
    "start_time": "2021-07-07T14:28:57.763Z"
   },
   {
    "duration": 3,
    "start_time": "2021-07-07T14:30:23.377Z"
   },
   {
    "duration": 3,
    "start_time": "2021-07-07T14:30:36.489Z"
   },
   {
    "duration": 103,
    "start_time": "2021-07-07T14:30:52.351Z"
   },
   {
    "duration": 8,
    "start_time": "2021-07-07T14:30:54.763Z"
   },
   {
    "duration": 8,
    "start_time": "2021-07-07T14:31:29.301Z"
   },
   {
    "duration": 13,
    "start_time": "2021-07-07T14:31:44.516Z"
   },
   {
    "duration": 7,
    "start_time": "2021-07-07T14:33:10.972Z"
   },
   {
    "duration": 11,
    "start_time": "2021-07-07T14:33:27.780Z"
   },
   {
    "duration": 8,
    "start_time": "2021-07-07T14:34:44.588Z"
   },
   {
    "duration": 57,
    "start_time": "2021-07-07T14:35:59.042Z"
   },
   {
    "duration": 3,
    "start_time": "2021-07-07T14:36:28.168Z"
   },
   {
    "duration": 5,
    "start_time": "2021-07-07T14:36:46.254Z"
   },
   {
    "duration": 4,
    "start_time": "2021-07-07T14:36:52.714Z"
   },
   {
    "duration": 3,
    "start_time": "2021-07-07T14:36:56.612Z"
   },
   {
    "duration": 4,
    "start_time": "2021-07-07T14:36:57.049Z"
   },
   {
    "duration": 3,
    "start_time": "2021-07-07T14:39:21.214Z"
   },
   {
    "duration": 7,
    "start_time": "2021-07-07T14:39:52.406Z"
   },
   {
    "duration": 11,
    "start_time": "2021-07-07T14:39:58.576Z"
   },
   {
    "duration": 9,
    "start_time": "2021-07-07T14:40:26.301Z"
   },
   {
    "duration": 10,
    "start_time": "2021-07-07T14:40:31.704Z"
   },
   {
    "duration": 11,
    "start_time": "2021-07-07T14:40:36.249Z"
   },
   {
    "duration": 10,
    "start_time": "2021-07-07T14:40:39.783Z"
   },
   {
    "duration": 9,
    "start_time": "2021-07-07T14:40:48.558Z"
   },
   {
    "duration": 10,
    "start_time": "2021-07-07T14:40:57.143Z"
   },
   {
    "duration": 9,
    "start_time": "2021-07-07T14:41:06.074Z"
   },
   {
    "duration": 4324,
    "start_time": "2021-07-07T14:41:22.004Z"
   },
   {
    "duration": 11,
    "start_time": "2021-07-07T14:41:33.392Z"
   },
   {
    "duration": 9,
    "start_time": "2021-07-07T14:41:39.288Z"
   },
   {
    "duration": 569,
    "start_time": "2021-07-07T14:42:14.387Z"
   },
   {
    "duration": 197,
    "start_time": "2021-07-07T14:42:14.959Z"
   },
   {
    "duration": 84,
    "start_time": "2021-07-07T14:42:16.052Z"
   },
   {
    "duration": 4,
    "start_time": "2021-07-07T14:42:16.900Z"
   },
   {
    "duration": 27,
    "start_time": "2021-07-07T14:42:19.898Z"
   },
   {
    "duration": 12,
    "start_time": "2021-07-07T14:42:21.577Z"
   },
   {
    "duration": 9,
    "start_time": "2021-07-07T14:42:21.813Z"
   },
   {
    "duration": 9,
    "start_time": "2021-07-07T14:42:22.569Z"
   },
   {
    "duration": 29,
    "start_time": "2021-07-07T14:42:25.837Z"
   },
   {
    "duration": 20,
    "start_time": "2021-07-07T14:42:27.003Z"
   },
   {
    "duration": 21,
    "start_time": "2021-07-07T14:42:28.767Z"
   },
   {
    "duration": 7,
    "start_time": "2021-07-07T14:42:29.838Z"
   },
   {
    "duration": 4,
    "start_time": "2021-07-07T14:43:25.493Z"
   },
   {
    "duration": 7,
    "start_time": "2021-07-07T14:43:26.573Z"
   },
   {
    "duration": 10,
    "start_time": "2021-07-07T14:43:31.639Z"
   },
   {
    "duration": 9,
    "start_time": "2021-07-07T14:43:32.046Z"
   },
   {
    "duration": 10,
    "start_time": "2021-07-07T14:43:33.301Z"
   },
   {
    "duration": 12,
    "start_time": "2021-07-07T14:43:33.658Z"
   },
   {
    "duration": 8,
    "start_time": "2021-07-07T14:43:34.552Z"
   },
   {
    "duration": 9,
    "start_time": "2021-07-07T14:43:35.058Z"
   },
   {
    "duration": 12,
    "start_time": "2021-07-07T14:43:35.914Z"
   },
   {
    "duration": 17,
    "start_time": "2021-07-07T14:45:34.368Z"
   },
   {
    "duration": 512,
    "start_time": "2021-07-07T14:51:58.236Z"
   },
   {
    "duration": 223,
    "start_time": "2021-07-07T14:51:58.750Z"
   },
   {
    "duration": 93,
    "start_time": "2021-07-07T14:51:58.977Z"
   },
   {
    "duration": 4,
    "start_time": "2021-07-07T14:51:59.071Z"
   },
   {
    "duration": 37,
    "start_time": "2021-07-07T14:51:59.077Z"
   },
   {
    "duration": 18,
    "start_time": "2021-07-07T14:51:59.116Z"
   },
   {
    "duration": 10,
    "start_time": "2021-07-07T14:51:59.137Z"
   },
   {
    "duration": 8,
    "start_time": "2021-07-07T14:51:59.149Z"
   },
   {
    "duration": 54,
    "start_time": "2021-07-07T14:51:59.158Z"
   },
   {
    "duration": 18,
    "start_time": "2021-07-07T14:51:59.213Z"
   },
   {
    "duration": 22,
    "start_time": "2021-07-07T14:51:59.232Z"
   },
   {
    "duration": 36,
    "start_time": "2021-07-07T14:51:59.255Z"
   },
   {
    "duration": 7,
    "start_time": "2021-07-07T14:51:59.293Z"
   },
   {
    "duration": 10,
    "start_time": "2021-07-07T14:51:59.302Z"
   },
   {
    "duration": 9,
    "start_time": "2021-07-07T14:51:59.313Z"
   },
   {
    "duration": 11,
    "start_time": "2021-07-07T14:51:59.324Z"
   },
   {
    "duration": 8,
    "start_time": "2021-07-07T14:51:59.337Z"
   },
   {
    "duration": 46,
    "start_time": "2021-07-07T14:51:59.347Z"
   },
   {
    "duration": 22,
    "start_time": "2021-07-07T14:51:59.395Z"
   },
   {
    "duration": 24,
    "start_time": "2021-07-07T14:57:32.911Z"
   },
   {
    "duration": 7,
    "start_time": "2021-07-07T14:58:22.070Z"
   },
   {
    "duration": 4,
    "start_time": "2021-07-07T14:59:11.239Z"
   },
   {
    "duration": 25,
    "start_time": "2021-07-07T15:07:22.208Z"
   },
   {
    "duration": 16,
    "start_time": "2021-07-07T15:08:25.560Z"
   },
   {
    "duration": 15,
    "start_time": "2021-07-07T15:08:40.647Z"
   },
   {
    "duration": 14,
    "start_time": "2021-07-07T15:08:46.669Z"
   },
   {
    "duration": 533,
    "start_time": "2021-07-07T15:18:07.440Z"
   },
   {
    "duration": 173,
    "start_time": "2021-07-07T15:18:07.974Z"
   },
   {
    "duration": 84,
    "start_time": "2021-07-07T15:18:08.149Z"
   },
   {
    "duration": 3,
    "start_time": "2021-07-07T15:18:08.235Z"
   },
   {
    "duration": 30,
    "start_time": "2021-07-07T15:18:08.240Z"
   },
   {
    "duration": 22,
    "start_time": "2021-07-07T15:18:08.272Z"
   },
   {
    "duration": 11,
    "start_time": "2021-07-07T15:18:08.295Z"
   },
   {
    "duration": 11,
    "start_time": "2021-07-07T15:18:08.309Z"
   },
   {
    "duration": 40,
    "start_time": "2021-07-07T15:18:08.322Z"
   },
   {
    "duration": 42,
    "start_time": "2021-07-07T15:18:08.364Z"
   },
   {
    "duration": 22,
    "start_time": "2021-07-07T15:18:08.408Z"
   },
   {
    "duration": 5,
    "start_time": "2021-07-07T15:18:08.432Z"
   },
   {
    "duration": 13,
    "start_time": "2021-07-07T15:18:08.439Z"
   },
   {
    "duration": 9,
    "start_time": "2021-07-07T15:18:08.454Z"
   },
   {
    "duration": 32,
    "start_time": "2021-07-07T15:18:08.465Z"
   },
   {
    "duration": 10,
    "start_time": "2021-07-07T15:18:08.501Z"
   },
   {
    "duration": 7,
    "start_time": "2021-07-07T15:18:08.513Z"
   },
   {
    "duration": 11,
    "start_time": "2021-07-07T15:18:08.521Z"
   },
   {
    "duration": 17,
    "start_time": "2021-07-07T15:18:08.534Z"
   },
   {
    "duration": 44,
    "start_time": "2021-07-07T15:18:08.553Z"
   },
   {
    "duration": 22,
    "start_time": "2021-07-07T15:18:08.599Z"
   },
   {
    "duration": 61,
    "start_time": "2021-07-07T15:18:08.622Z"
   },
   {
    "duration": 7,
    "start_time": "2021-07-07T15:18:39.457Z"
   },
   {
    "duration": 5,
    "start_time": "2021-07-07T16:05:17.020Z"
   },
   {
    "duration": 5,
    "start_time": "2021-07-07T16:51:28.794Z"
   },
   {
    "duration": 546,
    "start_time": "2021-07-07T16:52:26.306Z"
   },
   {
    "duration": 203,
    "start_time": "2021-07-07T16:52:27.523Z"
   },
   {
    "duration": 85,
    "start_time": "2021-07-07T16:52:27.736Z"
   },
   {
    "duration": 4,
    "start_time": "2021-07-07T16:52:27.899Z"
   },
   {
    "duration": 25,
    "start_time": "2021-07-07T16:52:28.674Z"
   },
   {
    "duration": 8,
    "start_time": "2021-07-07T16:52:32.956Z"
   },
   {
    "duration": 18,
    "start_time": "2021-07-07T16:52:35.616Z"
   },
   {
    "duration": 6,
    "start_time": "2021-07-07T16:52:36.913Z"
   },
   {
    "duration": 11,
    "start_time": "2021-07-07T16:52:40.258Z"
   },
   {
    "duration": 10,
    "start_time": "2021-07-07T16:52:46.251Z"
   },
   {
    "duration": 8,
    "start_time": "2021-07-07T16:52:47.182Z"
   },
   {
    "duration": 27,
    "start_time": "2021-07-07T16:53:20.391Z"
   },
   {
    "duration": 20,
    "start_time": "2021-07-07T16:53:22.022Z"
   },
   {
    "duration": 23,
    "start_time": "2021-07-07T16:53:23.690Z"
   },
   {
    "duration": 8,
    "start_time": "2021-07-07T16:53:24.261Z"
   },
   {
    "duration": 4,
    "start_time": "2021-07-07T16:53:38.733Z"
   },
   {
    "duration": 7,
    "start_time": "2021-07-07T16:53:40.445Z"
   },
   {
    "duration": 11,
    "start_time": "2021-07-07T16:53:41.348Z"
   },
   {
    "duration": 13,
    "start_time": "2021-07-07T16:53:45.250Z"
   },
   {
    "duration": 12,
    "start_time": "2021-07-07T16:53:45.467Z"
   },
   {
    "duration": 4,
    "start_time": "2021-07-07T16:55:32.704Z"
   },
   {
    "duration": 12,
    "start_time": "2021-07-07T16:55:49.012Z"
   },
   {
    "duration": 18,
    "start_time": "2021-07-07T16:55:49.547Z"
   },
   {
    "duration": 611,
    "start_time": "2021-07-07T16:58:35.156Z"
   },
   {
    "duration": 200,
    "start_time": "2021-07-07T16:58:35.770Z"
   },
   {
    "duration": 86,
    "start_time": "2021-07-07T16:58:35.972Z"
   },
   {
    "duration": 3,
    "start_time": "2021-07-07T16:58:36.060Z"
   },
   {
    "duration": 27,
    "start_time": "2021-07-07T16:58:36.065Z"
   },
   {
    "duration": 8,
    "start_time": "2021-07-07T16:58:36.094Z"
   },
   {
    "duration": 17,
    "start_time": "2021-07-07T16:58:36.103Z"
   },
   {
    "duration": 5,
    "start_time": "2021-07-07T16:58:36.123Z"
   },
   {
    "duration": 11,
    "start_time": "2021-07-07T16:58:36.130Z"
   },
   {
    "duration": 7,
    "start_time": "2021-07-07T16:58:36.143Z"
   },
   {
    "duration": 37,
    "start_time": "2021-07-07T16:58:36.152Z"
   },
   {
    "duration": 27,
    "start_time": "2021-07-07T16:58:36.191Z"
   },
   {
    "duration": 19,
    "start_time": "2021-07-07T16:58:36.219Z"
   },
   {
    "duration": 49,
    "start_time": "2021-07-07T16:58:36.240Z"
   },
   {
    "duration": 6,
    "start_time": "2021-07-07T16:58:36.291Z"
   },
   {
    "duration": 3,
    "start_time": "2021-07-07T16:58:36.299Z"
   },
   {
    "duration": 13,
    "start_time": "2021-07-07T16:58:36.304Z"
   },
   {
    "duration": 10,
    "start_time": "2021-07-07T16:58:36.319Z"
   },
   {
    "duration": 10,
    "start_time": "2021-07-07T16:58:36.331Z"
   },
   {
    "duration": 44,
    "start_time": "2021-07-07T16:58:36.343Z"
   },
   {
    "duration": 4,
    "start_time": "2021-07-07T16:58:36.388Z"
   },
   {
    "duration": 13,
    "start_time": "2021-07-07T16:58:36.394Z"
   },
   {
    "duration": 16,
    "start_time": "2021-07-07T16:58:36.410Z"
   },
   {
    "duration": 8,
    "start_time": "2021-07-07T17:02:31.629Z"
   },
   {
    "duration": 8,
    "start_time": "2021-07-07T17:02:34.308Z"
   },
   {
    "duration": 6,
    "start_time": "2021-07-07T17:05:13.483Z"
   },
   {
    "duration": 17,
    "start_time": "2021-07-07T17:05:20.606Z"
   },
   {
    "duration": 7,
    "start_time": "2021-07-07T17:05:34.638Z"
   },
   {
    "duration": 3,
    "start_time": "2021-07-07T17:06:31.883Z"
   },
   {
    "duration": 570,
    "start_time": "2021-07-07T17:06:37.165Z"
   },
   {
    "duration": 174,
    "start_time": "2021-07-07T17:06:37.737Z"
   },
   {
    "duration": 47,
    "start_time": "2021-07-07T17:06:37.913Z"
   },
   {
    "duration": 3,
    "start_time": "2021-07-07T17:06:37.962Z"
   },
   {
    "duration": 27,
    "start_time": "2021-07-07T17:06:37.967Z"
   },
   {
    "duration": 7,
    "start_time": "2021-07-07T17:06:37.996Z"
   },
   {
    "duration": 16,
    "start_time": "2021-07-07T17:06:38.005Z"
   },
   {
    "duration": 6,
    "start_time": "2021-07-07T17:06:38.024Z"
   },
   {
    "duration": 12,
    "start_time": "2021-07-07T17:06:38.031Z"
   },
   {
    "duration": 41,
    "start_time": "2021-07-07T17:06:38.045Z"
   },
   {
    "duration": 8,
    "start_time": "2021-07-07T17:06:38.088Z"
   },
   {
    "duration": 26,
    "start_time": "2021-07-07T17:06:38.098Z"
   },
   {
    "duration": 17,
    "start_time": "2021-07-07T17:06:38.126Z"
   },
   {
    "duration": 43,
    "start_time": "2021-07-07T17:06:38.144Z"
   },
   {
    "duration": 6,
    "start_time": "2021-07-07T17:06:38.188Z"
   },
   {
    "duration": 5,
    "start_time": "2021-07-07T17:06:38.195Z"
   },
   {
    "duration": 9,
    "start_time": "2021-07-07T17:06:38.201Z"
   },
   {
    "duration": 12,
    "start_time": "2021-07-07T17:06:38.212Z"
   },
   {
    "duration": 11,
    "start_time": "2021-07-07T17:06:38.226Z"
   },
   {
    "duration": 47,
    "start_time": "2021-07-07T17:06:38.239Z"
   },
   {
    "duration": 4,
    "start_time": "2021-07-07T17:06:38.288Z"
   },
   {
    "duration": 13,
    "start_time": "2021-07-07T17:06:38.293Z"
   },
   {
    "duration": 5,
    "start_time": "2021-07-07T17:06:38.309Z"
   },
   {
    "duration": 18,
    "start_time": "2021-07-07T17:06:38.325Z"
   },
   {
    "duration": 20,
    "start_time": "2021-07-07T17:07:02.805Z"
   },
   {
    "duration": 19,
    "start_time": "2021-07-07T17:07:08.527Z"
   },
   {
    "duration": 19,
    "start_time": "2021-07-07T17:07:12.758Z"
   },
   {
    "duration": 22,
    "start_time": "2021-07-07T17:07:17.497Z"
   },
   {
    "duration": 19,
    "start_time": "2021-07-07T17:07:19.645Z"
   },
   {
    "duration": 10,
    "start_time": "2021-07-07T17:07:34.239Z"
   },
   {
    "duration": 17,
    "start_time": "2021-07-07T17:07:54.144Z"
   },
   {
    "duration": 14,
    "start_time": "2021-07-07T17:08:14.357Z"
   },
   {
    "duration": 616,
    "start_time": "2021-07-07T17:08:45.254Z"
   },
   {
    "duration": 178,
    "start_time": "2021-07-07T17:08:45.872Z"
   },
   {
    "duration": 60,
    "start_time": "2021-07-07T17:08:46.054Z"
   },
   {
    "duration": 3,
    "start_time": "2021-07-07T17:08:46.116Z"
   },
   {
    "duration": 26,
    "start_time": "2021-07-07T17:08:46.121Z"
   },
   {
    "duration": 7,
    "start_time": "2021-07-07T17:08:46.149Z"
   },
   {
    "duration": 17,
    "start_time": "2021-07-07T17:08:46.158Z"
   },
   {
    "duration": 14,
    "start_time": "2021-07-07T17:08:46.176Z"
   },
   {
    "duration": 17,
    "start_time": "2021-07-07T17:08:46.193Z"
   },
   {
    "duration": 9,
    "start_time": "2021-07-07T17:08:46.211Z"
   },
   {
    "duration": 21,
    "start_time": "2021-07-07T17:08:46.221Z"
   },
   {
    "duration": 49,
    "start_time": "2021-07-07T17:08:46.244Z"
   },
   {
    "duration": 24,
    "start_time": "2021-07-07T17:08:46.295Z"
   },
   {
    "duration": 22,
    "start_time": "2021-07-07T17:08:46.321Z"
   },
   {
    "duration": 6,
    "start_time": "2021-07-07T17:08:46.345Z"
   },
   {
    "duration": 5,
    "start_time": "2021-07-07T17:08:46.353Z"
   },
   {
    "duration": 13,
    "start_time": "2021-07-07T17:08:46.386Z"
   },
   {
    "duration": 12,
    "start_time": "2021-07-07T17:08:46.402Z"
   },
   {
    "duration": 10,
    "start_time": "2021-07-07T17:08:46.415Z"
   },
   {
    "duration": 7,
    "start_time": "2021-07-07T17:08:46.427Z"
   },
   {
    "duration": 8,
    "start_time": "2021-07-07T17:08:46.435Z"
   },
   {
    "duration": 68,
    "start_time": "2021-07-07T17:08:46.446Z"
   },
   {
    "duration": 13,
    "start_time": "2021-07-07T17:08:46.516Z"
   },
   {
    "duration": 78,
    "start_time": "2021-07-07T17:08:46.530Z"
   },
   {
    "duration": 40,
    "start_time": "2021-07-07T17:09:08.185Z"
   },
   {
    "duration": 16,
    "start_time": "2021-07-07T17:09:19.324Z"
   },
   {
    "duration": 21,
    "start_time": "2021-07-07T17:09:23.290Z"
   },
   {
    "duration": 13,
    "start_time": "2021-07-07T17:09:54.812Z"
   },
   {
    "duration": 13,
    "start_time": "2021-07-07T17:10:02.039Z"
   },
   {
    "duration": 10,
    "start_time": "2021-07-07T17:10:29.632Z"
   },
   {
    "duration": 13,
    "start_time": "2021-07-07T17:10:52.372Z"
   },
   {
    "duration": 13,
    "start_time": "2021-07-07T17:11:17.270Z"
   },
   {
    "duration": 13,
    "start_time": "2021-07-07T17:14:59.284Z"
   },
   {
    "duration": 547,
    "start_time": "2021-07-07T17:18:52.403Z"
   },
   {
    "duration": 163,
    "start_time": "2021-07-07T17:18:52.952Z"
   },
   {
    "duration": 44,
    "start_time": "2021-07-07T17:18:53.117Z"
   },
   {
    "duration": 3,
    "start_time": "2021-07-07T17:18:53.162Z"
   },
   {
    "duration": 26,
    "start_time": "2021-07-07T17:18:53.167Z"
   },
   {
    "duration": 6,
    "start_time": "2021-07-07T17:18:53.195Z"
   },
   {
    "duration": 15,
    "start_time": "2021-07-07T17:18:53.203Z"
   },
   {
    "duration": 5,
    "start_time": "2021-07-07T17:18:53.220Z"
   },
   {
    "duration": 11,
    "start_time": "2021-07-07T17:18:53.228Z"
   },
   {
    "duration": 9,
    "start_time": "2021-07-07T17:18:53.241Z"
   },
   {
    "duration": 41,
    "start_time": "2021-07-07T17:18:53.252Z"
   },
   {
    "duration": 33,
    "start_time": "2021-07-07T17:18:53.295Z"
   },
   {
    "duration": 19,
    "start_time": "2021-07-07T17:18:53.330Z"
   },
   {
    "duration": 49,
    "start_time": "2021-07-07T17:18:53.350Z"
   },
   {
    "duration": 5,
    "start_time": "2021-07-07T17:18:53.401Z"
   },
   {
    "duration": 5,
    "start_time": "2021-07-07T17:18:53.408Z"
   },
   {
    "duration": 11,
    "start_time": "2021-07-07T17:18:53.414Z"
   },
   {
    "duration": 9,
    "start_time": "2021-07-07T17:18:53.427Z"
   },
   {
    "duration": 10,
    "start_time": "2021-07-07T17:18:53.437Z"
   },
   {
    "duration": 39,
    "start_time": "2021-07-07T17:18:53.448Z"
   },
   {
    "duration": 26,
    "start_time": "2021-07-07T17:18:55.799Z"
   },
   {
    "duration": 598,
    "start_time": "2021-07-07T17:20:17.862Z"
   },
   {
    "duration": 161,
    "start_time": "2021-07-07T17:20:18.462Z"
   },
   {
    "duration": 45,
    "start_time": "2021-07-07T17:20:18.626Z"
   },
   {
    "duration": 4,
    "start_time": "2021-07-07T17:20:18.673Z"
   },
   {
    "duration": 38,
    "start_time": "2021-07-07T17:20:26.877Z"
   },
   {
    "duration": 7,
    "start_time": "2021-07-07T17:20:37.405Z"
   },
   {
    "duration": 19,
    "start_time": "2021-07-07T17:20:51.534Z"
   },
   {
    "duration": 5,
    "start_time": "2021-07-07T17:20:57.228Z"
   },
   {
    "duration": 7,
    "start_time": "2021-07-07T17:21:08.235Z"
   },
   {
    "duration": 19,
    "start_time": "2021-07-07T17:21:42.158Z"
   },
   {
    "duration": 14,
    "start_time": "2021-07-07T17:21:50.225Z"
   },
   {
    "duration": 22,
    "start_time": "2021-07-07T17:22:54.104Z"
   },
   {
    "duration": 5,
    "start_time": "2021-07-07T17:22:56.371Z"
   },
   {
    "duration": 14,
    "start_time": "2021-07-07T17:22:58.316Z"
   },
   {
    "duration": 5,
    "start_time": "2021-07-07T17:22:58.493Z"
   },
   {
    "duration": 35,
    "start_time": "2021-07-07T17:22:59.666Z"
   },
   {
    "duration": 6,
    "start_time": "2021-07-07T17:23:02.410Z"
   },
   {
    "duration": 611,
    "start_time": "2021-07-07T17:24:59.664Z"
   },
   {
    "duration": 178,
    "start_time": "2021-07-07T17:25:01.945Z"
   },
   {
    "duration": 47,
    "start_time": "2021-07-07T17:25:02.125Z"
   },
   {
    "duration": 2,
    "start_time": "2021-07-07T17:25:07.903Z"
   },
   {
    "duration": 254,
    "start_time": "2021-07-07T17:25:08.232Z"
   },
   {
    "duration": 182,
    "start_time": "2021-07-07T17:25:08.671Z"
   },
   {
    "duration": 6,
    "start_time": "2021-07-07T17:25:13.104Z"
   },
   {
    "duration": 36,
    "start_time": "2021-07-07T17:25:13.662Z"
   },
   {
    "duration": 7,
    "start_time": "2021-07-07T17:25:14.528Z"
   },
   {
    "duration": 24,
    "start_time": "2021-07-07T17:25:27.982Z"
   },
   {
    "duration": 3,
    "start_time": "2021-07-07T17:25:48.982Z"
   },
   {
    "duration": 165,
    "start_time": "2021-07-07T17:25:48.987Z"
   },
   {
    "duration": 50,
    "start_time": "2021-07-07T17:25:49.154Z"
   },
   {
    "duration": 4,
    "start_time": "2021-07-07T17:25:49.206Z"
   },
   {
    "duration": 26,
    "start_time": "2021-07-07T17:25:49.212Z"
   },
   {
    "duration": 7,
    "start_time": "2021-07-07T17:25:49.240Z"
   },
   {
    "duration": 16,
    "start_time": "2021-07-07T17:25:49.249Z"
   },
   {
    "duration": 22,
    "start_time": "2021-07-07T17:25:49.266Z"
   },
   {
    "duration": 16,
    "start_time": "2021-07-07T17:25:49.291Z"
   },
   {
    "duration": 9,
    "start_time": "2021-07-07T17:25:49.309Z"
   },
   {
    "duration": 7,
    "start_time": "2021-07-07T17:25:49.319Z"
   },
   {
    "duration": 28,
    "start_time": "2021-07-07T17:25:49.328Z"
   },
   {
    "duration": 44,
    "start_time": "2021-07-07T17:25:49.357Z"
   },
   {
    "duration": 22,
    "start_time": "2021-07-07T17:25:49.403Z"
   },
   {
    "duration": 7,
    "start_time": "2021-07-07T17:25:49.427Z"
   },
   {
    "duration": 3,
    "start_time": "2021-07-07T17:25:49.436Z"
   },
   {
    "duration": 44,
    "start_time": "2021-07-07T17:25:49.441Z"
   },
   {
    "duration": 12,
    "start_time": "2021-07-07T17:25:49.488Z"
   },
   {
    "duration": 13,
    "start_time": "2021-07-07T17:25:49.502Z"
   },
   {
    "duration": 10,
    "start_time": "2021-07-07T17:25:49.516Z"
   },
   {
    "duration": 62,
    "start_time": "2021-07-07T17:25:49.527Z"
   },
   {
    "duration": 26,
    "start_time": "2021-07-07T17:26:51.809Z"
   },
   {
    "duration": 26,
    "start_time": "2021-07-07T17:26:55.759Z"
   },
   {
    "duration": 26,
    "start_time": "2021-07-07T17:27:04.501Z"
   },
   {
    "duration": 25,
    "start_time": "2021-07-07T17:28:24.859Z"
   },
   {
    "duration": 21,
    "start_time": "2021-07-07T17:28:55.250Z"
   },
   {
    "duration": 21,
    "start_time": "2021-07-07T17:28:58.885Z"
   },
   {
    "duration": 7,
    "start_time": "2021-07-07T17:45:40.972Z"
   },
   {
    "duration": 13,
    "start_time": "2021-07-07T17:45:42.529Z"
   },
   {
    "duration": 27,
    "start_time": "2021-07-07T17:45:51.026Z"
   },
   {
    "duration": 518,
    "start_time": "2021-07-07T17:46:15.532Z"
   },
   {
    "duration": 235,
    "start_time": "2021-07-07T17:46:16.053Z"
   },
   {
    "duration": 80,
    "start_time": "2021-07-07T17:46:16.292Z"
   },
   {
    "duration": 5,
    "start_time": "2021-07-07T17:46:16.373Z"
   },
   {
    "duration": 26,
    "start_time": "2021-07-07T17:46:16.380Z"
   },
   {
    "duration": 7,
    "start_time": "2021-07-07T17:46:16.408Z"
   },
   {
    "duration": 16,
    "start_time": "2021-07-07T17:46:16.418Z"
   },
   {
    "duration": 5,
    "start_time": "2021-07-07T17:46:16.436Z"
   },
   {
    "duration": 13,
    "start_time": "2021-07-07T17:46:16.442Z"
   },
   {
    "duration": 35,
    "start_time": "2021-07-07T17:46:16.456Z"
   },
   {
    "duration": 8,
    "start_time": "2021-07-07T17:46:16.493Z"
   },
   {
    "duration": 28,
    "start_time": "2021-07-07T17:46:16.502Z"
   },
   {
    "duration": 17,
    "start_time": "2021-07-07T17:46:16.532Z"
   },
   {
    "duration": 44,
    "start_time": "2021-07-07T17:46:16.551Z"
   },
   {
    "duration": 6,
    "start_time": "2021-07-07T17:46:16.597Z"
   },
   {
    "duration": 4,
    "start_time": "2021-07-07T17:46:16.605Z"
   },
   {
    "duration": 9,
    "start_time": "2021-07-07T17:46:16.610Z"
   },
   {
    "duration": 9,
    "start_time": "2021-07-07T17:46:16.621Z"
   },
   {
    "duration": 10,
    "start_time": "2021-07-07T17:46:16.632Z"
   },
   {
    "duration": 43,
    "start_time": "2021-07-07T17:46:16.644Z"
   },
   {
    "duration": 26,
    "start_time": "2021-07-07T17:46:16.689Z"
   },
   {
    "duration": 19,
    "start_time": "2021-07-07T17:46:16.718Z"
   },
   {
    "duration": 8,
    "start_time": "2021-07-07T17:46:16.738Z"
   },
   {
    "duration": 43,
    "start_time": "2021-07-07T17:46:16.747Z"
   },
   {
    "duration": 19,
    "start_time": "2021-07-07T17:46:16.791Z"
   },
   {
    "duration": 9,
    "start_time": "2021-07-07T17:46:16.812Z"
   },
   {
    "duration": 60,
    "start_time": "2021-07-07T17:46:16.822Z"
   },
   {
    "duration": -8,
    "start_time": "2021-07-07T17:46:16.892Z"
   },
   {
    "duration": 12,
    "start_time": "2021-07-07T17:48:47.707Z"
   },
   {
    "duration": 553,
    "start_time": "2021-07-07T18:10:09.350Z"
   },
   {
    "duration": 230,
    "start_time": "2021-07-07T18:10:09.905Z"
   },
   {
    "duration": 97,
    "start_time": "2021-07-07T18:10:10.137Z"
   },
   {
    "duration": 5,
    "start_time": "2021-07-07T18:10:10.236Z"
   },
   {
    "duration": 29,
    "start_time": "2021-07-07T18:10:10.242Z"
   },
   {
    "duration": 7,
    "start_time": "2021-07-07T18:10:10.272Z"
   },
   {
    "duration": 15,
    "start_time": "2021-07-07T18:10:10.281Z"
   },
   {
    "duration": 4,
    "start_time": "2021-07-07T18:10:10.299Z"
   },
   {
    "duration": 14,
    "start_time": "2021-07-07T18:10:10.305Z"
   },
   {
    "duration": 8,
    "start_time": "2021-07-07T18:10:10.321Z"
   },
   {
    "duration": 8,
    "start_time": "2021-07-07T18:10:10.331Z"
   },
   {
    "duration": 56,
    "start_time": "2021-07-07T18:10:10.341Z"
   },
   {
    "duration": 19,
    "start_time": "2021-07-07T18:10:10.399Z"
   },
   {
    "duration": 23,
    "start_time": "2021-07-07T18:10:10.419Z"
   },
   {
    "duration": 6,
    "start_time": "2021-07-07T18:10:10.444Z"
   },
   {
    "duration": 9,
    "start_time": "2021-07-07T18:10:10.451Z"
   },
   {
    "duration": 30,
    "start_time": "2021-07-07T18:10:10.462Z"
   },
   {
    "duration": 9,
    "start_time": "2021-07-07T18:10:10.494Z"
   },
   {
    "duration": 14,
    "start_time": "2021-07-07T18:10:10.505Z"
   },
   {
    "duration": 7,
    "start_time": "2021-07-07T18:10:10.521Z"
   },
   {
    "duration": 26,
    "start_time": "2021-07-07T18:10:10.530Z"
   },
   {
    "duration": 44,
    "start_time": "2021-07-07T18:10:10.558Z"
   },
   {
    "duration": 7,
    "start_time": "2021-07-07T18:10:10.605Z"
   },
   {
    "duration": 11,
    "start_time": "2021-07-07T18:10:10.614Z"
   },
   {
    "duration": 19,
    "start_time": "2021-07-07T18:10:10.626Z"
   },
   {
    "duration": 44,
    "start_time": "2021-07-07T18:10:10.646Z"
   },
   {
    "duration": 516,
    "start_time": "2021-07-07T18:14:00.826Z"
   },
   {
    "duration": 230,
    "start_time": "2021-07-07T18:14:01.344Z"
   },
   {
    "duration": 105,
    "start_time": "2021-07-07T18:14:01.576Z"
   },
   {
    "duration": 5,
    "start_time": "2021-07-07T18:14:01.683Z"
   },
   {
    "duration": 46,
    "start_time": "2021-07-07T18:14:01.690Z"
   },
   {
    "duration": 7,
    "start_time": "2021-07-07T18:14:01.738Z"
   },
   {
    "duration": 20,
    "start_time": "2021-07-07T18:14:01.747Z"
   },
   {
    "duration": 16,
    "start_time": "2021-07-07T18:14:01.769Z"
   },
   {
    "duration": 14,
    "start_time": "2021-07-07T18:14:01.787Z"
   },
   {
    "duration": 15,
    "start_time": "2021-07-07T18:14:01.803Z"
   },
   {
    "duration": 12,
    "start_time": "2021-07-07T18:14:01.820Z"
   },
   {
    "duration": 35,
    "start_time": "2021-07-07T18:14:01.833Z"
   },
   {
    "duration": 31,
    "start_time": "2021-07-07T18:14:01.869Z"
   },
   {
    "duration": 37,
    "start_time": "2021-07-07T18:14:01.902Z"
   },
   {
    "duration": 8,
    "start_time": "2021-07-07T18:14:01.942Z"
   },
   {
    "duration": 16,
    "start_time": "2021-07-07T18:14:01.952Z"
   },
   {
    "duration": 13,
    "start_time": "2021-07-07T18:14:01.970Z"
   },
   {
    "duration": 32,
    "start_time": "2021-07-07T18:14:01.985Z"
   },
   {
    "duration": 11,
    "start_time": "2021-07-07T18:14:02.019Z"
   },
   {
    "duration": 22,
    "start_time": "2021-07-07T18:14:02.031Z"
   },
   {
    "duration": 27,
    "start_time": "2021-07-07T18:14:02.055Z"
   },
   {
    "duration": 18,
    "start_time": "2021-07-07T18:14:02.084Z"
   },
   {
    "duration": 18,
    "start_time": "2021-07-07T18:14:02.106Z"
   },
   {
    "duration": 11,
    "start_time": "2021-07-07T18:14:02.126Z"
   },
   {
    "duration": 21,
    "start_time": "2021-07-07T18:14:02.138Z"
   },
   {
    "duration": 32,
    "start_time": "2021-07-07T18:14:02.161Z"
   },
   {
    "duration": 28,
    "start_time": "2021-07-07T18:14:44.295Z"
   },
   {
    "duration": 6,
    "start_time": "2021-07-07T18:15:05.834Z"
   },
   {
    "duration": 511,
    "start_time": "2021-07-07T18:15:41.541Z"
   },
   {
    "duration": 183,
    "start_time": "2021-07-07T18:15:42.054Z"
   },
   {
    "duration": 50,
    "start_time": "2021-07-07T18:15:42.239Z"
   },
   {
    "duration": 5,
    "start_time": "2021-07-07T18:15:42.291Z"
   },
   {
    "duration": 48,
    "start_time": "2021-07-07T18:15:42.297Z"
   },
   {
    "duration": 8,
    "start_time": "2021-07-07T18:15:42.346Z"
   },
   {
    "duration": 17,
    "start_time": "2021-07-07T18:15:42.356Z"
   },
   {
    "duration": 15,
    "start_time": "2021-07-07T18:15:42.375Z"
   },
   {
    "duration": 12,
    "start_time": "2021-07-07T18:15:42.392Z"
   },
   {
    "duration": 7,
    "start_time": "2021-07-07T18:15:42.406Z"
   },
   {
    "duration": 7,
    "start_time": "2021-07-07T18:15:42.415Z"
   },
   {
    "duration": 29,
    "start_time": "2021-07-07T18:15:42.423Z"
   },
   {
    "duration": 43,
    "start_time": "2021-07-07T18:15:42.453Z"
   },
   {
    "duration": 18,
    "start_time": "2021-07-07T18:15:42.497Z"
   },
   {
    "duration": 6,
    "start_time": "2021-07-07T18:15:42.516Z"
   },
   {
    "duration": 3,
    "start_time": "2021-07-07T18:15:42.523Z"
   },
   {
    "duration": 18,
    "start_time": "2021-07-07T18:15:42.528Z"
   },
   {
    "duration": 10,
    "start_time": "2021-07-07T18:15:42.547Z"
   },
   {
    "duration": 36,
    "start_time": "2021-07-07T18:15:42.559Z"
   },
   {
    "duration": 8,
    "start_time": "2021-07-07T18:15:42.597Z"
   },
   {
    "duration": 28,
    "start_time": "2021-07-07T18:15:42.606Z"
   },
   {
    "duration": 52,
    "start_time": "2021-07-07T18:15:42.635Z"
   },
   {
    "duration": 7,
    "start_time": "2021-07-07T18:15:42.690Z"
   },
   {
    "duration": 10,
    "start_time": "2021-07-07T18:15:42.699Z"
   },
   {
    "duration": 19,
    "start_time": "2021-07-07T18:15:42.711Z"
   },
   {
    "duration": 9,
    "start_time": "2021-07-07T18:15:42.732Z"
   },
   {
    "duration": 5,
    "start_time": "2021-07-07T18:15:42.743Z"
   },
   {
    "duration": 1450,
    "start_time": "2021-07-07T18:15:51.984Z"
   },
   {
    "duration": 161,
    "start_time": "2021-07-07T18:15:53.435Z"
   },
   {
    "duration": 124,
    "start_time": "2021-07-07T18:15:53.598Z"
   },
   {
    "duration": 5,
    "start_time": "2021-07-07T18:15:53.724Z"
   },
   {
    "duration": 34,
    "start_time": "2021-07-07T18:15:53.730Z"
   },
   {
    "duration": 7,
    "start_time": "2021-07-07T18:15:53.765Z"
   },
   {
    "duration": 15,
    "start_time": "2021-07-07T18:15:53.773Z"
   },
   {
    "duration": 5,
    "start_time": "2021-07-07T18:15:53.791Z"
   },
   {
    "duration": 19,
    "start_time": "2021-07-07T18:15:53.798Z"
   },
   {
    "duration": 9,
    "start_time": "2021-07-07T18:15:53.818Z"
   },
   {
    "duration": 19,
    "start_time": "2021-07-07T18:15:53.828Z"
   },
   {
    "duration": 27,
    "start_time": "2021-07-07T18:15:53.848Z"
   },
   {
    "duration": 16,
    "start_time": "2021-07-07T18:15:53.884Z"
   },
   {
    "duration": 29,
    "start_time": "2021-07-07T18:15:53.901Z"
   },
   {
    "duration": 5,
    "start_time": "2021-07-07T18:15:53.932Z"
   },
   {
    "duration": 15,
    "start_time": "2021-07-07T18:15:53.939Z"
   },
   {
    "duration": 13,
    "start_time": "2021-07-07T18:15:53.956Z"
   },
   {
    "duration": 20,
    "start_time": "2021-07-07T18:15:53.971Z"
   },
   {
    "duration": 14,
    "start_time": "2021-07-07T18:15:53.992Z"
   },
   {
    "duration": 9,
    "start_time": "2021-07-07T18:15:54.009Z"
   },
   {
    "duration": 28,
    "start_time": "2021-07-07T18:15:54.020Z"
   },
   {
    "duration": 50,
    "start_time": "2021-07-07T18:15:54.051Z"
   },
   {
    "duration": 8,
    "start_time": "2021-07-07T18:15:54.105Z"
   },
   {
    "duration": 11,
    "start_time": "2021-07-07T18:15:54.115Z"
   },
   {
    "duration": 20,
    "start_time": "2021-07-07T18:15:54.128Z"
   },
   {
    "duration": 13,
    "start_time": "2021-07-07T18:15:54.184Z"
   },
   {
    "duration": 7,
    "start_time": "2021-07-07T18:15:54.199Z"
   },
   {
    "duration": 7,
    "start_time": "2021-07-07T18:17:08.042Z"
   },
   {
    "duration": 8,
    "start_time": "2021-07-07T18:17:21.008Z"
   },
   {
    "duration": 7,
    "start_time": "2021-07-07T18:17:29.003Z"
   },
   {
    "duration": 8,
    "start_time": "2021-07-07T18:17:32.492Z"
   },
   {
    "duration": 9,
    "start_time": "2021-07-07T18:17:41.758Z"
   },
   {
    "duration": 255,
    "start_time": "2021-07-07T18:20:20.897Z"
   },
   {
    "duration": 173,
    "start_time": "2021-07-07T18:20:26.636Z"
   },
   {
    "duration": 7,
    "start_time": "2021-07-07T18:21:47.164Z"
   },
   {
    "duration": 254,
    "start_time": "2021-07-07T18:23:08.703Z"
   },
   {
    "duration": 21,
    "start_time": "2021-07-07T18:23:22.506Z"
   },
   {
    "duration": 315,
    "start_time": "2021-07-07T18:25:54.801Z"
   },
   {
    "duration": 34,
    "start_time": "2021-07-07T18:26:51.817Z"
   },
   {
    "duration": 327,
    "start_time": "2021-07-07T18:26:56.147Z"
   },
   {
    "duration": 342,
    "start_time": "2021-07-07T18:27:15.887Z"
   },
   {
    "duration": 302,
    "start_time": "2021-07-07T18:28:18.569Z"
   },
   {
    "duration": 226,
    "start_time": "2021-07-07T18:29:20.879Z"
   },
   {
    "duration": 207,
    "start_time": "2021-07-07T18:29:58.114Z"
   },
   {
    "duration": 140,
    "start_time": "2021-07-07T18:32:04.372Z"
   },
   {
    "duration": 158,
    "start_time": "2021-07-07T18:32:32.508Z"
   },
   {
    "duration": 145,
    "start_time": "2021-07-07T18:32:41.365Z"
   },
   {
    "duration": 132,
    "start_time": "2021-07-07T18:32:45.199Z"
   },
   {
    "duration": 11,
    "start_time": "2021-07-07T18:35:24.679Z"
   },
   {
    "duration": 268,
    "start_time": "2021-07-07T18:36:16.145Z"
   },
   {
    "duration": 227,
    "start_time": "2021-07-07T18:37:04.918Z"
   },
   {
    "duration": 3,
    "start_time": "2021-07-07T18:37:33.012Z"
   },
   {
    "duration": 671,
    "start_time": "2021-07-07T18:37:38.295Z"
   },
   {
    "duration": 54,
    "start_time": "2021-07-07T18:37:53.406Z"
   },
   {
    "duration": 631,
    "start_time": "2021-07-07T18:37:56.463Z"
   },
   {
    "duration": 19,
    "start_time": "2021-07-07T18:39:40.535Z"
   },
   {
    "duration": 20,
    "start_time": "2021-07-07T18:40:12.236Z"
   },
   {
    "duration": 633,
    "start_time": "2021-07-07T18:42:00.398Z"
   },
   {
    "duration": 218,
    "start_time": "2021-07-07T18:42:01.033Z"
   },
   {
    "duration": 49,
    "start_time": "2021-07-07T18:42:01.253Z"
   },
   {
    "duration": 5,
    "start_time": "2021-07-07T18:42:01.303Z"
   },
   {
    "duration": 27,
    "start_time": "2021-07-07T18:42:01.310Z"
   },
   {
    "duration": 8,
    "start_time": "2021-07-07T18:42:01.339Z"
   },
   {
    "duration": 20,
    "start_time": "2021-07-07T18:42:01.348Z"
   },
   {
    "duration": 6,
    "start_time": "2021-07-07T18:42:01.386Z"
   },
   {
    "duration": 16,
    "start_time": "2021-07-07T18:42:01.394Z"
   },
   {
    "duration": 9,
    "start_time": "2021-07-07T18:42:01.411Z"
   },
   {
    "duration": 11,
    "start_time": "2021-07-07T18:42:01.421Z"
   },
   {
    "duration": 31,
    "start_time": "2021-07-07T18:42:01.434Z"
   },
   {
    "duration": 18,
    "start_time": "2021-07-07T18:42:01.485Z"
   },
   {
    "duration": 23,
    "start_time": "2021-07-07T18:42:01.505Z"
   },
   {
    "duration": 6,
    "start_time": "2021-07-07T18:42:01.530Z"
   },
   {
    "duration": 10,
    "start_time": "2021-07-07T18:42:01.538Z"
   },
   {
    "duration": 13,
    "start_time": "2021-07-07T18:42:01.550Z"
   },
   {
    "duration": 24,
    "start_time": "2021-07-07T18:42:01.564Z"
   },
   {
    "duration": 20,
    "start_time": "2021-07-07T18:42:01.590Z"
   },
   {
    "duration": 8,
    "start_time": "2021-07-07T18:42:01.611Z"
   },
   {
    "duration": 31,
    "start_time": "2021-07-07T18:42:01.620Z"
   },
   {
    "duration": 39,
    "start_time": "2021-07-07T18:42:01.653Z"
   },
   {
    "duration": 8,
    "start_time": "2021-07-07T18:42:01.696Z"
   },
   {
    "duration": 13,
    "start_time": "2021-07-07T18:42:01.705Z"
   },
   {
    "duration": 20,
    "start_time": "2021-07-07T18:42:01.720Z"
   },
   {
    "duration": 12,
    "start_time": "2021-07-07T18:42:01.741Z"
   },
   {
    "duration": 35,
    "start_time": "2021-07-07T18:42:01.755Z"
   },
   {
    "duration": 14,
    "start_time": "2021-07-07T18:42:01.792Z"
   },
   {
    "duration": 188,
    "start_time": "2021-07-07T18:42:01.808Z"
   },
   {
    "duration": 19,
    "start_time": "2021-07-07T18:42:01.998Z"
   },
   {
    "duration": 175,
    "start_time": "2021-07-07T18:42:02.019Z"
   },
   {
    "duration": 134,
    "start_time": "2021-07-07T18:42:02.196Z"
   },
   {
    "duration": 10,
    "start_time": "2021-07-07T18:42:02.331Z"
   },
   {
    "duration": 19,
    "start_time": "2021-07-07T18:42:02.343Z"
   },
   {
    "duration": 628,
    "start_time": "2021-07-07T18:46:30.701Z"
   },
   {
    "duration": 183,
    "start_time": "2021-07-07T18:46:31.331Z"
   },
   {
    "duration": 48,
    "start_time": "2021-07-07T18:46:31.516Z"
   },
   {
    "duration": 5,
    "start_time": "2021-07-07T18:46:31.566Z"
   },
   {
    "duration": 28,
    "start_time": "2021-07-07T18:46:31.572Z"
   },
   {
    "duration": 8,
    "start_time": "2021-07-07T18:46:31.602Z"
   },
   {
    "duration": 19,
    "start_time": "2021-07-07T18:46:31.611Z"
   },
   {
    "duration": 6,
    "start_time": "2021-07-07T18:46:31.633Z"
   },
   {
    "duration": 17,
    "start_time": "2021-07-07T18:46:31.642Z"
   },
   {
    "duration": 10,
    "start_time": "2021-07-07T18:46:31.684Z"
   },
   {
    "duration": 9,
    "start_time": "2021-07-07T18:46:31.695Z"
   },
   {
    "duration": 28,
    "start_time": "2021-07-07T18:46:31.705Z"
   },
   {
    "duration": 18,
    "start_time": "2021-07-07T18:46:31.735Z"
   },
   {
    "duration": 48,
    "start_time": "2021-07-07T18:46:31.755Z"
   },
   {
    "duration": 6,
    "start_time": "2021-07-07T18:46:31.804Z"
   },
   {
    "duration": 4,
    "start_time": "2021-07-07T18:46:31.812Z"
   },
   {
    "duration": 9,
    "start_time": "2021-07-07T18:46:31.817Z"
   },
   {
    "duration": 10,
    "start_time": "2021-07-07T18:46:31.827Z"
   },
   {
    "duration": 12,
    "start_time": "2021-07-07T18:46:31.838Z"
   },
   {
    "duration": 39,
    "start_time": "2021-07-07T18:46:31.851Z"
   },
   {
    "duration": 24,
    "start_time": "2021-07-07T18:46:31.892Z"
   },
   {
    "duration": 15,
    "start_time": "2021-07-07T18:46:31.918Z"
   },
   {
    "duration": 7,
    "start_time": "2021-07-07T18:46:31.936Z"
   },
   {
    "duration": 8,
    "start_time": "2021-07-07T18:46:31.944Z"
   },
   {
    "duration": 19,
    "start_time": "2021-07-07T18:46:31.984Z"
   },
   {
    "duration": 10,
    "start_time": "2021-07-07T18:46:32.004Z"
   },
   {
    "duration": 5,
    "start_time": "2021-07-07T18:46:32.016Z"
   },
   {
    "duration": 9,
    "start_time": "2021-07-07T18:46:32.023Z"
   },
   {
    "duration": 199,
    "start_time": "2021-07-07T18:46:32.033Z"
   },
   {
    "duration": 19,
    "start_time": "2021-07-07T18:46:32.234Z"
   },
   {
    "duration": 159,
    "start_time": "2021-07-07T18:46:32.255Z"
   },
   {
    "duration": 134,
    "start_time": "2021-07-07T18:46:32.416Z"
   },
   {
    "duration": 10,
    "start_time": "2021-07-07T18:46:32.552Z"
   },
   {
    "duration": 34,
    "start_time": "2021-07-07T18:46:32.563Z"
   },
   {
    "duration": 1039,
    "start_time": "2021-07-08T08:41:09.419Z"
   },
   {
    "duration": 333,
    "start_time": "2021-07-08T08:41:10.459Z"
   },
   {
    "duration": 173,
    "start_time": "2021-07-08T08:41:10.794Z"
   },
   {
    "duration": 5,
    "start_time": "2021-07-08T08:41:10.968Z"
   },
   {
    "duration": 25,
    "start_time": "2021-07-08T08:41:10.975Z"
   },
   {
    "duration": 9,
    "start_time": "2021-07-08T08:41:11.002Z"
   },
   {
    "duration": 18,
    "start_time": "2021-07-08T08:41:11.013Z"
   },
   {
    "duration": 6,
    "start_time": "2021-07-08T08:41:11.033Z"
   },
   {
    "duration": 44,
    "start_time": "2021-07-08T08:41:11.042Z"
   },
   {
    "duration": 10,
    "start_time": "2021-07-08T08:41:11.088Z"
   },
   {
    "duration": 9,
    "start_time": "2021-07-08T08:41:11.100Z"
   },
   {
    "duration": 27,
    "start_time": "2021-07-08T08:41:11.111Z"
   },
   {
    "duration": 46,
    "start_time": "2021-07-08T08:41:11.140Z"
   },
   {
    "duration": 17,
    "start_time": "2021-07-08T08:41:11.187Z"
   },
   {
    "duration": 6,
    "start_time": "2021-07-08T08:41:11.206Z"
   },
   {
    "duration": 5,
    "start_time": "2021-07-08T08:41:11.213Z"
   },
   {
    "duration": 10,
    "start_time": "2021-07-08T08:41:11.219Z"
   },
   {
    "duration": 9,
    "start_time": "2021-07-08T08:41:11.230Z"
   },
   {
    "duration": 45,
    "start_time": "2021-07-08T08:41:11.241Z"
   },
   {
    "duration": 7,
    "start_time": "2021-07-08T08:41:11.287Z"
   },
   {
    "duration": 24,
    "start_time": "2021-07-08T08:41:11.296Z"
   },
   {
    "duration": 16,
    "start_time": "2021-07-08T08:41:11.322Z"
   },
   {
    "duration": 7,
    "start_time": "2021-07-08T08:41:11.341Z"
   },
   {
    "duration": 41,
    "start_time": "2021-07-08T08:41:11.349Z"
   },
   {
    "duration": 17,
    "start_time": "2021-07-08T08:41:11.391Z"
   },
   {
    "duration": 9,
    "start_time": "2021-07-08T08:41:11.410Z"
   },
   {
    "duration": 5,
    "start_time": "2021-07-08T08:41:11.421Z"
   },
   {
    "duration": 6,
    "start_time": "2021-07-08T08:41:11.428Z"
   },
   {
    "duration": 198,
    "start_time": "2021-07-08T08:41:11.435Z"
   },
   {
    "duration": 18,
    "start_time": "2021-07-08T08:41:11.635Z"
   },
   {
    "duration": 155,
    "start_time": "2021-07-08T08:41:11.655Z"
   },
   {
    "duration": 138,
    "start_time": "2021-07-08T08:41:11.811Z"
   },
   {
    "duration": 10,
    "start_time": "2021-07-08T08:41:11.950Z"
   },
   {
    "duration": 29,
    "start_time": "2021-07-08T08:41:11.961Z"
   },
   {
    "duration": 171,
    "start_time": "2021-07-08T08:47:44.522Z"
   },
   {
    "duration": 124,
    "start_time": "2021-07-08T08:47:46.872Z"
   },
   {
    "duration": 191,
    "start_time": "2021-07-08T08:47:58.148Z"
   },
   {
    "duration": 191,
    "start_time": "2021-07-08T08:48:07.412Z"
   },
   {
    "duration": 261,
    "start_time": "2021-07-08T08:48:10.385Z"
   },
   {
    "duration": 255,
    "start_time": "2021-07-08T08:48:14.494Z"
   },
   {
    "duration": 219,
    "start_time": "2021-07-08T08:48:22.752Z"
   },
   {
    "duration": 173,
    "start_time": "2021-07-08T08:49:06.395Z"
   },
   {
    "duration": 180,
    "start_time": "2021-07-08T08:49:21.011Z"
   },
   {
    "duration": 6,
    "start_time": "2021-07-08T08:50:31.697Z"
   },
   {
    "duration": 10,
    "start_time": "2021-07-08T08:50:47.394Z"
   },
   {
    "duration": 11,
    "start_time": "2021-07-08T08:53:49.332Z"
   },
   {
    "duration": 171,
    "start_time": "2021-07-08T08:54:28.408Z"
   },
   {
    "duration": 636,
    "start_time": "2021-07-08T09:02:48.385Z"
   },
   {
    "duration": 227,
    "start_time": "2021-07-08T09:02:49.023Z"
   },
   {
    "duration": 104,
    "start_time": "2021-07-08T09:02:49.252Z"
   },
   {
    "duration": 5,
    "start_time": "2021-07-08T09:02:49.358Z"
   },
   {
    "duration": 27,
    "start_time": "2021-07-08T09:02:49.365Z"
   },
   {
    "duration": 8,
    "start_time": "2021-07-08T09:02:49.394Z"
   },
   {
    "duration": 18,
    "start_time": "2021-07-08T09:02:49.404Z"
   },
   {
    "duration": 6,
    "start_time": "2021-07-08T09:02:49.424Z"
   },
   {
    "duration": 11,
    "start_time": "2021-07-08T09:02:49.433Z"
   },
   {
    "duration": 13,
    "start_time": "2021-07-08T09:02:49.485Z"
   },
   {
    "duration": 9,
    "start_time": "2021-07-08T09:02:49.500Z"
   },
   {
    "duration": 38,
    "start_time": "2021-07-08T09:02:49.511Z"
   },
   {
    "duration": 42,
    "start_time": "2021-07-08T09:02:49.551Z"
   },
   {
    "duration": 21,
    "start_time": "2021-07-08T09:02:49.594Z"
   },
   {
    "duration": 6,
    "start_time": "2021-07-08T09:02:49.616Z"
   },
   {
    "duration": 3,
    "start_time": "2021-07-08T09:02:49.623Z"
   },
   {
    "duration": 9,
    "start_time": "2021-07-08T09:02:49.628Z"
   },
   {
    "duration": 52,
    "start_time": "2021-07-08T09:02:49.638Z"
   },
   {
    "duration": 11,
    "start_time": "2021-07-08T09:02:49.692Z"
   },
   {
    "duration": 8,
    "start_time": "2021-07-08T09:02:49.704Z"
   },
   {
    "duration": 27,
    "start_time": "2021-07-08T09:02:49.713Z"
   },
   {
    "duration": 59,
    "start_time": "2021-07-08T09:02:49.741Z"
   },
   {
    "duration": 8,
    "start_time": "2021-07-08T09:02:49.803Z"
   },
   {
    "duration": 14,
    "start_time": "2021-07-08T09:02:49.813Z"
   },
   {
    "duration": 20,
    "start_time": "2021-07-08T09:02:49.829Z"
   },
   {
    "duration": 44,
    "start_time": "2021-07-08T09:02:49.851Z"
   },
   {
    "duration": 14,
    "start_time": "2021-07-08T09:02:49.896Z"
   },
   {
    "duration": 221,
    "start_time": "2021-07-08T09:02:49.912Z"
   },
   {
    "duration": 6,
    "start_time": "2021-07-08T09:02:50.134Z"
   },
   {
    "duration": 206,
    "start_time": "2021-07-08T09:02:50.142Z"
   },
   {
    "duration": 19,
    "start_time": "2021-07-08T09:02:50.350Z"
   },
   {
    "duration": 21,
    "start_time": "2021-07-08T09:02:50.370Z"
   },
   {
    "duration": 20,
    "start_time": "2021-07-08T09:02:50.393Z"
   },
   {
    "duration": 5,
    "start_time": "2021-07-08T09:02:50.414Z"
   },
   {
    "duration": 5,
    "start_time": "2021-07-08T09:03:34.173Z"
   },
   {
    "duration": 6,
    "start_time": "2021-07-08T09:04:49.062Z"
   },
   {
    "duration": 9,
    "start_time": "2021-07-08T09:04:50.118Z"
   },
   {
    "duration": 14,
    "start_time": "2021-07-08T09:04:58.512Z"
   },
   {
    "duration": 9,
    "start_time": "2021-07-08T09:05:10.988Z"
   },
   {
    "duration": 11,
    "start_time": "2021-07-08T09:05:11.743Z"
   },
   {
    "duration": 7,
    "start_time": "2021-07-08T09:05:25.677Z"
   },
   {
    "duration": 13,
    "start_time": "2021-07-08T09:05:47.189Z"
   },
   {
    "duration": 13,
    "start_time": "2021-07-08T09:05:54.755Z"
   },
   {
    "duration": 4,
    "start_time": "2021-07-08T09:06:29.189Z"
   },
   {
    "duration": 244,
    "start_time": "2021-07-08T09:06:29.195Z"
   },
   {
    "duration": 91,
    "start_time": "2021-07-08T09:06:29.441Z"
   },
   {
    "duration": 4,
    "start_time": "2021-07-08T09:06:29.534Z"
   },
   {
    "duration": 28,
    "start_time": "2021-07-08T09:06:29.540Z"
   },
   {
    "duration": 6,
    "start_time": "2021-07-08T09:06:29.570Z"
   },
   {
    "duration": 18,
    "start_time": "2021-07-08T09:06:29.578Z"
   },
   {
    "duration": 5,
    "start_time": "2021-07-08T09:06:29.597Z"
   },
   {
    "duration": 13,
    "start_time": "2021-07-08T09:06:29.605Z"
   },
   {
    "duration": 8,
    "start_time": "2021-07-08T09:06:29.620Z"
   },
   {
    "duration": 7,
    "start_time": "2021-07-08T09:06:29.630Z"
   },
   {
    "duration": 63,
    "start_time": "2021-07-08T09:06:29.639Z"
   },
   {
    "duration": 17,
    "start_time": "2021-07-08T09:06:29.704Z"
   },
   {
    "duration": 20,
    "start_time": "2021-07-08T09:06:29.723Z"
   },
   {
    "duration": 6,
    "start_time": "2021-07-08T09:06:29.745Z"
   },
   {
    "duration": 3,
    "start_time": "2021-07-08T09:06:29.752Z"
   },
   {
    "duration": 7,
    "start_time": "2021-07-08T09:06:29.785Z"
   },
   {
    "duration": 11,
    "start_time": "2021-07-08T09:06:29.794Z"
   },
   {
    "duration": 15,
    "start_time": "2021-07-08T09:06:29.807Z"
   },
   {
    "duration": 8,
    "start_time": "2021-07-08T09:06:29.823Z"
   },
   {
    "duration": 70,
    "start_time": "2021-07-08T09:06:29.832Z"
   },
   {
    "duration": 17,
    "start_time": "2021-07-08T09:06:29.903Z"
   },
   {
    "duration": 9,
    "start_time": "2021-07-08T09:06:29.921Z"
   },
   {
    "duration": 9,
    "start_time": "2021-07-08T09:06:29.932Z"
   },
   {
    "duration": 57,
    "start_time": "2021-07-08T09:06:29.942Z"
   },
   {
    "duration": 11,
    "start_time": "2021-07-08T09:06:30.001Z"
   },
   {
    "duration": 19,
    "start_time": "2021-07-08T09:06:30.016Z"
   },
   {
    "duration": 217,
    "start_time": "2021-07-08T09:06:30.037Z"
   },
   {
    "duration": 6,
    "start_time": "2021-07-08T09:06:30.255Z"
   },
   {
    "duration": 205,
    "start_time": "2021-07-08T09:06:30.263Z"
   },
   {
    "duration": 27,
    "start_time": "2021-07-08T09:06:30.470Z"
   },
   {
    "duration": 11,
    "start_time": "2021-07-08T09:06:30.500Z"
   },
   {
    "duration": 31,
    "start_time": "2021-07-08T09:06:30.513Z"
   },
   {
    "duration": 18,
    "start_time": "2021-07-08T09:06:30.546Z"
   },
   {
    "duration": 11,
    "start_time": "2021-07-08T09:06:30.566Z"
   },
   {
    "duration": 19,
    "start_time": "2021-07-08T09:06:30.579Z"
   },
   {
    "duration": 20,
    "start_time": "2021-07-08T09:06:49.466Z"
   },
   {
    "duration": 9,
    "start_time": "2021-07-08T09:06:51.994Z"
   },
   {
    "duration": 20,
    "start_time": "2021-07-08T09:06:52.273Z"
   },
   {
    "duration": 246,
    "start_time": "2021-07-08T09:10:21.272Z"
   },
   {
    "duration": 84,
    "start_time": "2021-07-08T09:10:21.436Z"
   },
   {
    "duration": 7,
    "start_time": "2021-07-08T09:10:37.608Z"
   },
   {
    "duration": 189,
    "start_time": "2021-07-08T09:10:38.573Z"
   },
   {
    "duration": 185,
    "start_time": "2021-07-08T09:10:53.181Z"
   },
   {
    "duration": 11,
    "start_time": "2021-07-08T09:10:59.549Z"
   },
   {
    "duration": 42,
    "start_time": "2021-07-08T09:10:59.709Z"
   },
   {
    "duration": 12,
    "start_time": "2021-07-08T09:11:02.857Z"
   },
   {
    "duration": 28,
    "start_time": "2021-07-08T09:11:10.062Z"
   },
   {
    "duration": 249,
    "start_time": "2021-07-08T09:11:37.388Z"
   },
   {
    "duration": 232,
    "start_time": "2021-07-08T09:11:49.485Z"
   },
   {
    "duration": 453,
    "start_time": "2021-07-08T09:12:01.546Z"
   },
   {
    "duration": 440,
    "start_time": "2021-07-08T09:12:12.347Z"
   },
   {
    "duration": 213,
    "start_time": "2021-07-08T09:13:32.196Z"
   },
   {
    "duration": 172,
    "start_time": "2021-07-08T09:14:07.400Z"
   },
   {
    "duration": 185,
    "start_time": "2021-07-08T09:14:14.905Z"
   },
   {
    "duration": 209,
    "start_time": "2021-07-08T09:14:40.109Z"
   },
   {
    "duration": 201,
    "start_time": "2021-07-08T09:14:54.506Z"
   },
   {
    "duration": 622,
    "start_time": "2021-07-08T09:18:14.497Z"
   },
   {
    "duration": 220,
    "start_time": "2021-07-08T09:18:15.121Z"
   },
   {
    "duration": 79,
    "start_time": "2021-07-08T09:18:15.343Z"
   },
   {
    "duration": 4,
    "start_time": "2021-07-08T09:18:15.425Z"
   },
   {
    "duration": 24,
    "start_time": "2021-07-08T09:18:15.431Z"
   },
   {
    "duration": 8,
    "start_time": "2021-07-08T09:18:15.457Z"
   },
   {
    "duration": 16,
    "start_time": "2021-07-08T09:18:15.466Z"
   },
   {
    "duration": 5,
    "start_time": "2021-07-08T09:18:15.484Z"
   },
   {
    "duration": 10,
    "start_time": "2021-07-08T09:18:15.493Z"
   },
   {
    "duration": 8,
    "start_time": "2021-07-08T09:18:15.504Z"
   },
   {
    "duration": 7,
    "start_time": "2021-07-08T09:18:15.513Z"
   },
   {
    "duration": 26,
    "start_time": "2021-07-08T09:18:15.522Z"
   },
   {
    "duration": 49,
    "start_time": "2021-07-08T09:18:15.550Z"
   },
   {
    "duration": 21,
    "start_time": "2021-07-08T09:18:15.601Z"
   },
   {
    "duration": 8,
    "start_time": "2021-07-08T09:18:15.624Z"
   },
   {
    "duration": 3,
    "start_time": "2021-07-08T09:18:15.634Z"
   },
   {
    "duration": 8,
    "start_time": "2021-07-08T09:18:15.639Z"
   },
   {
    "duration": 45,
    "start_time": "2021-07-08T09:18:15.649Z"
   },
   {
    "duration": 13,
    "start_time": "2021-07-08T09:18:15.696Z"
   },
   {
    "duration": 10,
    "start_time": "2021-07-08T09:18:15.711Z"
   },
   {
    "duration": 64,
    "start_time": "2021-07-08T09:18:15.722Z"
   },
   {
    "duration": 19,
    "start_time": "2021-07-08T09:18:15.788Z"
   },
   {
    "duration": 9,
    "start_time": "2021-07-08T09:18:15.809Z"
   },
   {
    "duration": 9,
    "start_time": "2021-07-08T09:18:15.820Z"
   },
   {
    "duration": 18,
    "start_time": "2021-07-08T09:18:15.831Z"
   },
   {
    "duration": 43,
    "start_time": "2021-07-08T09:18:15.851Z"
   },
   {
    "duration": 12,
    "start_time": "2021-07-08T09:18:15.897Z"
   },
   {
    "duration": 219,
    "start_time": "2021-07-08T09:18:15.911Z"
   },
   {
    "duration": 8,
    "start_time": "2021-07-08T09:18:16.132Z"
   },
   {
    "duration": 199,
    "start_time": "2021-07-08T09:18:16.141Z"
   },
   {
    "duration": 18,
    "start_time": "2021-07-08T09:18:16.341Z"
   },
   {
    "duration": 24,
    "start_time": "2021-07-08T09:18:16.361Z"
   },
   {
    "duration": 24,
    "start_time": "2021-07-08T09:18:16.387Z"
   },
   {
    "duration": 211,
    "start_time": "2021-07-08T09:18:16.413Z"
   },
   {
    "duration": 18,
    "start_time": "2021-07-08T09:18:16.626Z"
   },
   {
    "duration": 596,
    "start_time": "2021-07-08T10:06:33.623Z"
   },
   {
    "duration": 181,
    "start_time": "2021-07-08T10:06:34.221Z"
   },
   {
    "duration": 176,
    "start_time": "2021-07-08T10:06:34.635Z"
   },
   {
    "duration": 239,
    "start_time": "2021-07-08T10:06:55.572Z"
   },
   {
    "duration": 6,
    "start_time": "2021-07-08T10:06:57.687Z"
   },
   {
    "duration": 4,
    "start_time": "2021-07-08T10:07:03.956Z"
   },
   {
    "duration": 4,
    "start_time": "2021-07-08T10:07:10.376Z"
   },
   {
    "duration": 4,
    "start_time": "2021-07-08T10:17:19.889Z"
   },
   {
    "duration": 3,
    "start_time": "2021-07-08T10:19:19.407Z"
   },
   {
    "duration": 197,
    "start_time": "2021-07-08T10:19:19.412Z"
   },
   {
    "duration": 127,
    "start_time": "2021-07-08T10:19:19.611Z"
   },
   {
    "duration": 4,
    "start_time": "2021-07-08T10:19:19.740Z"
   },
   {
    "duration": 27,
    "start_time": "2021-07-08T10:19:19.746Z"
   },
   {
    "duration": 7,
    "start_time": "2021-07-08T10:19:19.775Z"
   },
   {
    "duration": 30,
    "start_time": "2021-07-08T10:19:19.784Z"
   },
   {
    "duration": 7,
    "start_time": "2021-07-08T10:19:19.817Z"
   },
   {
    "duration": 26,
    "start_time": "2021-07-08T10:19:19.826Z"
   },
   {
    "duration": 18,
    "start_time": "2021-07-08T10:19:19.854Z"
   },
   {
    "duration": 14,
    "start_time": "2021-07-08T10:19:19.874Z"
   },
   {
    "duration": 48,
    "start_time": "2021-07-08T10:19:19.890Z"
   },
   {
    "duration": 17,
    "start_time": "2021-07-08T10:19:19.940Z"
   },
   {
    "duration": 38,
    "start_time": "2021-07-08T10:19:19.959Z"
   },
   {
    "duration": 8,
    "start_time": "2021-07-08T10:19:19.999Z"
   },
   {
    "duration": 15,
    "start_time": "2021-07-08T10:19:20.009Z"
   },
   {
    "duration": 22,
    "start_time": "2021-07-08T10:19:20.026Z"
   },
   {
    "duration": 10,
    "start_time": "2021-07-08T10:19:20.050Z"
   },
   {
    "duration": 10,
    "start_time": "2021-07-08T10:19:20.062Z"
   },
   {
    "duration": 20,
    "start_time": "2021-07-08T10:19:20.073Z"
   },
   {
    "duration": 29,
    "start_time": "2021-07-08T10:19:20.095Z"
   },
   {
    "duration": 17,
    "start_time": "2021-07-08T10:19:20.126Z"
   },
   {
    "duration": 40,
    "start_time": "2021-07-08T10:19:20.146Z"
   },
   {
    "duration": 15,
    "start_time": "2021-07-08T10:19:20.189Z"
   },
   {
    "duration": 19,
    "start_time": "2021-07-08T10:19:20.206Z"
   },
   {
    "duration": 10,
    "start_time": "2021-07-08T10:19:20.226Z"
   },
   {
    "duration": 11,
    "start_time": "2021-07-08T10:19:20.238Z"
   },
   {
    "duration": 297,
    "start_time": "2021-07-08T10:19:20.250Z"
   },
   {
    "duration": 6,
    "start_time": "2021-07-08T10:19:20.549Z"
   },
   {
    "duration": 191,
    "start_time": "2021-07-08T10:19:20.557Z"
   },
   {
    "duration": 19,
    "start_time": "2021-07-08T10:19:20.750Z"
   },
   {
    "duration": 20,
    "start_time": "2021-07-08T10:19:20.771Z"
   },
   {
    "duration": 15,
    "start_time": "2021-07-08T10:19:20.793Z"
   },
   {
    "duration": 222,
    "start_time": "2021-07-08T10:19:20.809Z"
   },
   {
    "duration": 20,
    "start_time": "2021-07-08T10:19:21.033Z"
   },
   {
    "duration": 27,
    "start_time": "2021-07-08T10:45:04.055Z"
   },
   {
    "duration": 8,
    "start_time": "2021-07-08T10:45:08.478Z"
   },
   {
    "duration": 8,
    "start_time": "2021-07-08T10:45:31.982Z"
   },
   {
    "duration": 10,
    "start_time": "2021-07-08T10:46:01.221Z"
   },
   {
    "duration": 17,
    "start_time": "2021-07-08T10:46:40.011Z"
   },
   {
    "duration": 193,
    "start_time": "2021-07-08T10:48:19.471Z"
   },
   {
    "duration": 225,
    "start_time": "2021-07-08T10:49:26.480Z"
   },
   {
    "duration": 204,
    "start_time": "2021-07-08T10:49:59.992Z"
   },
   {
    "duration": 435,
    "start_time": "2021-07-08T10:50:06.779Z"
   },
   {
    "duration": 199,
    "start_time": "2021-07-08T10:50:14.891Z"
   },
   {
    "duration": 204,
    "start_time": "2021-07-08T10:50:18.501Z"
   },
   {
    "duration": 244,
    "start_time": "2021-07-08T10:50:23.359Z"
   },
   {
    "duration": 192,
    "start_time": "2021-07-08T10:50:29.135Z"
   },
   {
    "duration": 218,
    "start_time": "2021-07-08T10:50:33.092Z"
   },
   {
    "duration": 207,
    "start_time": "2021-07-08T10:52:45.381Z"
   },
   {
    "duration": 5,
    "start_time": "2021-07-08T10:53:34.641Z"
   },
   {
    "duration": 196,
    "start_time": "2021-07-08T10:53:41.478Z"
   },
   {
    "duration": 43,
    "start_time": "2021-07-08T10:53:50.335Z"
   },
   {
    "duration": 32,
    "start_time": "2021-07-08T10:53:55.294Z"
   },
   {
    "duration": 55,
    "start_time": "2021-07-08T10:54:09.675Z"
   },
   {
    "duration": 16,
    "start_time": "2021-07-08T10:54:12.260Z"
   },
   {
    "duration": 15,
    "start_time": "2021-07-08T10:54:49.150Z"
   },
   {
    "duration": 20,
    "start_time": "2021-07-08T10:56:07.596Z"
   },
   {
    "duration": 16,
    "start_time": "2021-07-08T10:58:26.276Z"
   },
   {
    "duration": 22,
    "start_time": "2021-07-08T10:59:00.486Z"
   },
   {
    "duration": 18,
    "start_time": "2021-07-08T11:02:09.653Z"
   },
   {
    "duration": 10,
    "start_time": "2021-07-08T11:03:44.331Z"
   },
   {
    "duration": 10,
    "start_time": "2021-07-08T11:03:54.055Z"
   },
   {
    "duration": 12,
    "start_time": "2021-07-08T11:04:41.967Z"
   },
   {
    "duration": 24,
    "start_time": "2021-07-08T11:07:30.732Z"
   },
   {
    "duration": 6,
    "start_time": "2021-07-08T11:07:37.364Z"
   },
   {
    "duration": 16,
    "start_time": "2021-07-08T11:08:01.819Z"
   },
   {
    "duration": 17,
    "start_time": "2021-07-08T11:09:47.488Z"
   },
   {
    "duration": 246,
    "start_time": "2021-07-08T11:10:00.830Z"
   },
   {
    "duration": 18,
    "start_time": "2021-07-08T11:13:55.195Z"
   },
   {
    "duration": 204,
    "start_time": "2021-07-08T11:14:04.951Z"
   },
   {
    "duration": 19,
    "start_time": "2021-07-08T11:15:10.613Z"
   },
   {
    "duration": 680,
    "start_time": "2021-07-08T11:16:25.793Z"
   },
   {
    "duration": 451,
    "start_time": "2021-07-08T11:16:40.313Z"
   },
   {
    "duration": 469,
    "start_time": "2021-07-08T11:17:21.286Z"
   },
   {
    "duration": 20,
    "start_time": "2021-07-08T11:19:12.554Z"
   },
   {
    "duration": 35,
    "start_time": "2021-07-08T11:20:05.484Z"
   },
   {
    "duration": 53,
    "start_time": "2021-07-08T11:21:40.050Z"
   },
   {
    "duration": 13,
    "start_time": "2021-07-08T11:22:26.059Z"
   },
   {
    "duration": 19,
    "start_time": "2021-07-08T11:22:47.419Z"
   },
   {
    "duration": 25,
    "start_time": "2021-07-08T11:23:19.958Z"
   },
   {
    "duration": 29,
    "start_time": "2021-07-08T11:23:25.415Z"
   },
   {
    "duration": 10,
    "start_time": "2021-07-08T11:24:45.138Z"
   },
   {
    "duration": 19,
    "start_time": "2021-07-08T11:24:54.498Z"
   },
   {
    "duration": 12,
    "start_time": "2021-07-08T11:25:32.225Z"
   },
   {
    "duration": 19,
    "start_time": "2021-07-08T11:25:37.092Z"
   },
   {
    "duration": 17,
    "start_time": "2021-07-08T11:25:58.116Z"
   },
   {
    "duration": 15,
    "start_time": "2021-07-08T11:26:02.258Z"
   },
   {
    "duration": 8,
    "start_time": "2021-07-08T11:26:59.682Z"
   },
   {
    "duration": 184,
    "start_time": "2021-07-08T11:27:21.894Z"
   },
   {
    "duration": 8,
    "start_time": "2021-07-08T11:27:23.824Z"
   },
   {
    "duration": 202,
    "start_time": "2021-07-08T11:27:23.962Z"
   },
   {
    "duration": 360,
    "start_time": "2021-07-08T11:28:33.215Z"
   },
   {
    "duration": 231,
    "start_time": "2021-07-08T11:32:05.542Z"
   },
   {
    "duration": 607,
    "start_time": "2021-07-08T11:36:27.854Z"
   },
   {
    "duration": 241,
    "start_time": "2021-07-08T11:36:28.463Z"
   },
   {
    "duration": 67,
    "start_time": "2021-07-08T11:36:28.709Z"
   },
   {
    "duration": 5,
    "start_time": "2021-07-08T11:36:28.778Z"
   },
   {
    "duration": 32,
    "start_time": "2021-07-08T11:36:28.784Z"
   },
   {
    "duration": 11,
    "start_time": "2021-07-08T11:36:28.819Z"
   },
   {
    "duration": 20,
    "start_time": "2021-07-08T11:36:28.834Z"
   },
   {
    "duration": 36,
    "start_time": "2021-07-08T11:36:28.857Z"
   },
   {
    "duration": 16,
    "start_time": "2021-07-08T11:36:28.895Z"
   },
   {
    "duration": 14,
    "start_time": "2021-07-08T11:36:28.913Z"
   },
   {
    "duration": 9,
    "start_time": "2021-07-08T11:36:28.930Z"
   },
   {
    "duration": 55,
    "start_time": "2021-07-08T11:36:28.941Z"
   },
   {
    "duration": 27,
    "start_time": "2021-07-08T11:36:28.999Z"
   },
   {
    "duration": 30,
    "start_time": "2021-07-08T11:36:29.028Z"
   },
   {
    "duration": 31,
    "start_time": "2021-07-08T11:36:29.060Z"
   },
   {
    "duration": 3,
    "start_time": "2021-07-08T11:36:29.093Z"
   },
   {
    "duration": 12,
    "start_time": "2021-07-08T11:36:29.099Z"
   },
   {
    "duration": 11,
    "start_time": "2021-07-08T11:36:29.112Z"
   },
   {
    "duration": 12,
    "start_time": "2021-07-08T11:36:29.125Z"
   },
   {
    "duration": 9,
    "start_time": "2021-07-08T11:36:29.139Z"
   },
   {
    "duration": 31,
    "start_time": "2021-07-08T11:36:29.191Z"
   },
   {
    "duration": 17,
    "start_time": "2021-07-08T11:36:29.226Z"
   },
   {
    "duration": 7,
    "start_time": "2021-07-08T11:36:29.245Z"
   },
   {
    "duration": 10,
    "start_time": "2021-07-08T11:36:29.254Z"
   },
   {
    "duration": 30,
    "start_time": "2021-07-08T11:36:29.292Z"
   },
   {
    "duration": 11,
    "start_time": "2021-07-08T11:36:29.324Z"
   },
   {
    "duration": 11,
    "start_time": "2021-07-08T11:36:29.337Z"
   },
   {
    "duration": 230,
    "start_time": "2021-07-08T11:36:29.349Z"
   },
   {
    "duration": 13,
    "start_time": "2021-07-08T11:36:29.588Z"
   },
   {
    "duration": 205,
    "start_time": "2021-07-08T11:36:29.603Z"
   },
   {
    "duration": 20,
    "start_time": "2021-07-08T11:36:29.810Z"
   },
   {
    "duration": 9,
    "start_time": "2021-07-08T11:36:29.832Z"
   },
   {
    "duration": 16,
    "start_time": "2021-07-08T11:36:29.843Z"
   },
   {
    "duration": 283,
    "start_time": "2021-07-08T11:36:29.861Z"
   },
   {
    "duration": 50,
    "start_time": "2021-07-08T11:36:30.146Z"
   },
   {
    "duration": 14,
    "start_time": "2021-07-08T11:36:30.198Z"
   },
   {
    "duration": 11,
    "start_time": "2021-07-08T11:36:30.214Z"
   },
   {
    "duration": 245,
    "start_time": "2021-07-08T11:36:30.227Z"
   },
   {
    "duration": 439,
    "start_time": "2021-07-08T11:36:30.474Z"
   },
   {
    "duration": 210,
    "start_time": "2021-07-08T11:36:30.915Z"
   },
   {
    "duration": 15,
    "start_time": "2021-07-08T11:36:31.127Z"
   },
   {
    "duration": 17,
    "start_time": "2021-07-08T11:38:20.451Z"
   },
   {
    "duration": 642,
    "start_time": "2021-07-08T11:46:17.881Z"
   },
   {
    "duration": 210,
    "start_time": "2021-07-08T11:46:18.525Z"
   },
   {
    "duration": 104,
    "start_time": "2021-07-08T11:46:18.741Z"
   },
   {
    "duration": 8,
    "start_time": "2021-07-08T11:46:18.847Z"
   },
   {
    "duration": 25,
    "start_time": "2021-07-08T11:46:18.857Z"
   },
   {
    "duration": 14,
    "start_time": "2021-07-08T11:46:18.884Z"
   },
   {
    "duration": 22,
    "start_time": "2021-07-08T11:46:18.900Z"
   },
   {
    "duration": 5,
    "start_time": "2021-07-08T11:46:18.924Z"
   },
   {
    "duration": 13,
    "start_time": "2021-07-08T11:46:18.931Z"
   },
   {
    "duration": 45,
    "start_time": "2021-07-08T11:46:18.946Z"
   },
   {
    "duration": 12,
    "start_time": "2021-07-08T11:46:18.993Z"
   },
   {
    "duration": 38,
    "start_time": "2021-07-08T11:46:19.006Z"
   },
   {
    "duration": 50,
    "start_time": "2021-07-08T11:46:19.046Z"
   },
   {
    "duration": 29,
    "start_time": "2021-07-08T11:46:19.099Z"
   },
   {
    "duration": 7,
    "start_time": "2021-07-08T11:46:19.130Z"
   },
   {
    "duration": 3,
    "start_time": "2021-07-08T11:46:19.139Z"
   },
   {
    "duration": 11,
    "start_time": "2021-07-08T11:46:19.144Z"
   },
   {
    "duration": 40,
    "start_time": "2021-07-08T11:46:19.157Z"
   },
   {
    "duration": 15,
    "start_time": "2021-07-08T11:46:19.199Z"
   },
   {
    "duration": 10,
    "start_time": "2021-07-08T11:46:19.217Z"
   },
   {
    "duration": 68,
    "start_time": "2021-07-08T11:46:19.230Z"
   },
   {
    "duration": 17,
    "start_time": "2021-07-08T11:46:19.301Z"
   },
   {
    "duration": 7,
    "start_time": "2021-07-08T11:46:19.321Z"
   },
   {
    "duration": 11,
    "start_time": "2021-07-08T11:46:19.330Z"
   },
   {
    "duration": 59,
    "start_time": "2021-07-08T11:46:19.343Z"
   },
   {
    "duration": 17,
    "start_time": "2021-07-08T11:46:19.405Z"
   },
   {
    "duration": 16,
    "start_time": "2021-07-08T11:46:19.424Z"
   },
   {
    "duration": 252,
    "start_time": "2021-07-08T11:46:19.443Z"
   },
   {
    "duration": 9,
    "start_time": "2021-07-08T11:46:19.697Z"
   },
   {
    "duration": 224,
    "start_time": "2021-07-08T11:46:19.708Z"
   },
   {
    "duration": 21,
    "start_time": "2021-07-08T11:46:19.934Z"
   },
   {
    "duration": 9,
    "start_time": "2021-07-08T11:46:19.956Z"
   },
   {
    "duration": 32,
    "start_time": "2021-07-08T11:46:19.967Z"
   },
   {
    "duration": 288,
    "start_time": "2021-07-08T11:46:20.004Z"
   },
   {
    "duration": 23,
    "start_time": "2021-07-08T11:46:20.300Z"
   },
   {
    "duration": 11,
    "start_time": "2021-07-08T11:46:20.325Z"
   },
   {
    "duration": 11,
    "start_time": "2021-07-08T11:46:20.339Z"
   },
   {
    "duration": 259,
    "start_time": "2021-07-08T11:46:20.352Z"
   },
   {
    "duration": 438,
    "start_time": "2021-07-08T11:46:20.613Z"
   },
   {
    "duration": 207,
    "start_time": "2021-07-08T11:46:21.054Z"
   },
   {
    "duration": 27,
    "start_time": "2021-07-08T11:46:21.262Z"
   },
   {
    "duration": 19,
    "start_time": "2021-07-08T11:46:21.291Z"
   },
   {
    "duration": 820,
    "start_time": "2021-07-08T11:49:01.655Z"
   },
   {
    "duration": 372,
    "start_time": "2021-07-08T11:49:02.478Z"
   },
   {
    "duration": 98,
    "start_time": "2021-07-08T11:49:02.853Z"
   },
   {
    "duration": 6,
    "start_time": "2021-07-08T11:49:02.953Z"
   },
   {
    "duration": 39,
    "start_time": "2021-07-08T11:49:02.960Z"
   },
   {
    "duration": 9,
    "start_time": "2021-07-08T11:49:03.003Z"
   },
   {
    "duration": 23,
    "start_time": "2021-07-08T11:49:03.014Z"
   },
   {
    "duration": 6,
    "start_time": "2021-07-08T11:49:03.041Z"
   },
   {
    "duration": 20,
    "start_time": "2021-07-08T11:49:03.049Z"
   },
   {
    "duration": 18,
    "start_time": "2021-07-08T11:49:03.084Z"
   },
   {
    "duration": 14,
    "start_time": "2021-07-08T11:49:03.104Z"
   },
   {
    "duration": 39,
    "start_time": "2021-07-08T11:49:03.119Z"
   },
   {
    "duration": 38,
    "start_time": "2021-07-08T11:49:03.160Z"
   },
   {
    "duration": 26,
    "start_time": "2021-07-08T11:49:03.200Z"
   },
   {
    "duration": 7,
    "start_time": "2021-07-08T11:49:03.227Z"
   },
   {
    "duration": 4,
    "start_time": "2021-07-08T11:49:03.236Z"
   },
   {
    "duration": 15,
    "start_time": "2021-07-08T11:49:03.243Z"
   },
   {
    "duration": 21,
    "start_time": "2021-07-08T11:49:03.285Z"
   },
   {
    "duration": 17,
    "start_time": "2021-07-08T11:49:03.309Z"
   },
   {
    "duration": 10,
    "start_time": "2021-07-08T11:49:03.328Z"
   },
   {
    "duration": 65,
    "start_time": "2021-07-08T11:49:03.340Z"
   },
   {
    "duration": 18,
    "start_time": "2021-07-08T11:49:03.407Z"
   },
   {
    "duration": 8,
    "start_time": "2021-07-08T11:49:03.428Z"
   },
   {
    "duration": 15,
    "start_time": "2021-07-08T11:49:03.438Z"
   },
   {
    "duration": 40,
    "start_time": "2021-07-08T11:49:03.455Z"
   },
   {
    "duration": 12,
    "start_time": "2021-07-08T11:49:03.497Z"
   },
   {
    "duration": 29,
    "start_time": "2021-07-08T11:49:03.511Z"
   },
   {
    "duration": 285,
    "start_time": "2021-07-08T11:49:03.542Z"
   },
   {
    "duration": 8,
    "start_time": "2021-07-08T11:49:03.829Z"
   },
   {
    "duration": 227,
    "start_time": "2021-07-08T11:49:03.838Z"
   },
   {
    "duration": 40,
    "start_time": "2021-07-08T11:49:04.066Z"
   },
   {
    "duration": 10,
    "start_time": "2021-07-08T11:49:04.108Z"
   },
   {
    "duration": 26,
    "start_time": "2021-07-08T11:49:04.121Z"
   },
   {
    "duration": 290,
    "start_time": "2021-07-08T11:49:04.149Z"
   },
   {
    "duration": 26,
    "start_time": "2021-07-08T11:49:04.441Z"
   },
   {
    "duration": 31,
    "start_time": "2021-07-08T11:49:04.470Z"
   },
   {
    "duration": 14,
    "start_time": "2021-07-08T11:49:04.503Z"
   },
   {
    "duration": 259,
    "start_time": "2021-07-08T11:49:04.521Z"
   },
   {
    "duration": 480,
    "start_time": "2021-07-08T11:49:04.782Z"
   },
   {
    "duration": 225,
    "start_time": "2021-07-08T11:49:05.264Z"
   },
   {
    "duration": 22,
    "start_time": "2021-07-08T11:49:05.491Z"
   },
   {
    "duration": 24,
    "start_time": "2021-07-08T11:49:05.515Z"
   },
   {
    "duration": 634,
    "start_time": "2021-07-08T11:52:24.960Z"
   },
   {
    "duration": 199,
    "start_time": "2021-07-08T11:52:25.599Z"
   },
   {
    "duration": 106,
    "start_time": "2021-07-08T11:52:25.803Z"
   },
   {
    "duration": 7,
    "start_time": "2021-07-08T11:52:25.911Z"
   },
   {
    "duration": 29,
    "start_time": "2021-07-08T11:52:25.920Z"
   },
   {
    "duration": 7,
    "start_time": "2021-07-08T11:52:25.951Z"
   },
   {
    "duration": 26,
    "start_time": "2021-07-08T11:52:25.961Z"
   },
   {
    "duration": 11,
    "start_time": "2021-07-08T11:52:25.990Z"
   },
   {
    "duration": 29,
    "start_time": "2021-07-08T11:52:26.005Z"
   },
   {
    "duration": 9,
    "start_time": "2021-07-08T11:52:26.036Z"
   },
   {
    "duration": 8,
    "start_time": "2021-07-08T11:52:26.047Z"
   },
   {
    "duration": 63,
    "start_time": "2021-07-08T11:52:26.057Z"
   },
   {
    "duration": 17,
    "start_time": "2021-07-08T11:52:26.122Z"
   },
   {
    "duration": 43,
    "start_time": "2021-07-08T11:52:26.142Z"
   },
   {
    "duration": 17,
    "start_time": "2021-07-08T11:52:26.187Z"
   },
   {
    "duration": 5,
    "start_time": "2021-07-08T11:52:26.206Z"
   },
   {
    "duration": 12,
    "start_time": "2021-07-08T11:52:26.212Z"
   },
   {
    "duration": 11,
    "start_time": "2021-07-08T11:52:26.226Z"
   },
   {
    "duration": 12,
    "start_time": "2021-07-08T11:52:26.238Z"
   },
   {
    "duration": 38,
    "start_time": "2021-07-08T11:52:26.252Z"
   },
   {
    "duration": 40,
    "start_time": "2021-07-08T11:52:26.292Z"
   },
   {
    "duration": 17,
    "start_time": "2021-07-08T11:52:26.336Z"
   },
   {
    "duration": 39,
    "start_time": "2021-07-08T11:52:26.355Z"
   },
   {
    "duration": 11,
    "start_time": "2021-07-08T11:52:26.395Z"
   },
   {
    "duration": 23,
    "start_time": "2021-07-08T11:52:26.408Z"
   },
   {
    "duration": 12,
    "start_time": "2021-07-08T11:52:26.432Z"
   },
   {
    "duration": 41,
    "start_time": "2021-07-08T11:52:26.446Z"
   },
   {
    "duration": 215,
    "start_time": "2021-07-08T11:52:26.493Z"
   },
   {
    "duration": 8,
    "start_time": "2021-07-08T11:52:26.710Z"
   },
   {
    "duration": 228,
    "start_time": "2021-07-08T11:52:26.720Z"
   },
   {
    "duration": 18,
    "start_time": "2021-07-08T11:52:26.950Z"
   },
   {
    "duration": 35,
    "start_time": "2021-07-08T11:52:26.969Z"
   },
   {
    "duration": 23,
    "start_time": "2021-07-08T11:52:27.006Z"
   },
   {
    "duration": 258,
    "start_time": "2021-07-08T11:52:27.030Z"
   },
   {
    "duration": 24,
    "start_time": "2021-07-08T11:52:27.290Z"
   },
   {
    "duration": 12,
    "start_time": "2021-07-08T11:52:27.316Z"
   },
   {
    "duration": 10,
    "start_time": "2021-07-08T11:52:27.329Z"
   },
   {
    "duration": 298,
    "start_time": "2021-07-08T11:52:27.341Z"
   },
   {
    "duration": 436,
    "start_time": "2021-07-08T11:52:27.641Z"
   },
   {
    "duration": 216,
    "start_time": "2021-07-08T11:52:28.079Z"
   },
   {
    "duration": 20,
    "start_time": "2021-07-08T11:52:28.297Z"
   },
   {
    "duration": 17,
    "start_time": "2021-07-08T11:52:28.319Z"
   },
   {
    "duration": 391,
    "start_time": "2021-09-11T12:36:12.723Z"
   },
   {
    "duration": 3142,
    "start_time": "2021-09-11T12:36:28.870Z"
   },
   {
    "duration": 334,
    "start_time": "2021-09-11T12:36:32.100Z"
   },
   {
    "duration": 103,
    "start_time": "2021-09-11T12:38:11.343Z"
   },
   {
    "duration": 16,
    "start_time": "2021-09-11T12:39:29.808Z"
   },
   {
    "duration": 93,
    "start_time": "2021-09-11T12:40:29.372Z"
   },
   {
    "duration": 169,
    "start_time": "2021-09-11T12:41:39.265Z"
   },
   {
    "duration": 15,
    "start_time": "2021-09-11T12:41:46.606Z"
   },
   {
    "duration": 10,
    "start_time": "2021-09-11T12:41:48.377Z"
   },
   {
    "duration": 8,
    "start_time": "2021-09-11T12:41:50.614Z"
   },
   {
    "duration": 1529,
    "start_time": "2021-09-11T12:44:45.429Z"
   },
   {
    "duration": 17,
    "start_time": "2021-09-11T12:44:46.961Z"
   },
   {
    "duration": 9,
    "start_time": "2021-09-11T12:44:46.985Z"
   },
   {
    "duration": 22,
    "start_time": "2021-09-11T12:44:46.996Z"
   },
   {
    "duration": 1008,
    "start_time": "2021-09-12T15:23:11.780Z"
   },
   {
    "duration": 10,
    "start_time": "2021-09-12T15:23:15.455Z"
   },
   {
    "duration": 9,
    "start_time": "2021-09-12T15:25:23.317Z"
   },
   {
    "duration": 13,
    "start_time": "2021-09-12T15:25:42.870Z"
   },
   {
    "duration": 1116,
    "start_time": "2021-09-12T15:27:09.926Z"
   },
   {
    "duration": 983,
    "start_time": "2021-09-12T15:28:52.946Z"
   },
   {
    "duration": 226,
    "start_time": "2021-09-12T15:29:40.086Z"
   },
   {
    "duration": 9,
    "start_time": "2021-09-12T15:29:49.714Z"
   },
   {
    "duration": 8,
    "start_time": "2021-09-12T15:30:59.413Z"
   },
   {
    "duration": 14,
    "start_time": "2021-09-12T15:31:12.526Z"
   },
   {
    "duration": 1656,
    "start_time": "2021-09-12T15:31:25.816Z"
   },
   {
    "duration": 13,
    "start_time": "2021-09-12T15:31:27.475Z"
   },
   {
    "duration": 20,
    "start_time": "2021-09-12T15:31:27.492Z"
   },
   {
    "duration": 12,
    "start_time": "2021-09-12T15:31:27.515Z"
   },
   {
    "duration": 37,
    "start_time": "2021-09-12T15:31:27.529Z"
   },
   {
    "duration": 31,
    "start_time": "2021-09-12T15:38:24.470Z"
   },
   {
    "duration": 369,
    "start_time": "2021-09-12T15:40:23.029Z"
   },
   {
    "duration": 1059,
    "start_time": "2021-09-12T15:42:18.808Z"
   },
   {
    "duration": 9,
    "start_time": "2021-09-12T15:42:19.870Z"
   },
   {
    "duration": 14,
    "start_time": "2021-09-12T15:42:19.886Z"
   },
   {
    "duration": 8,
    "start_time": "2021-09-12T15:42:19.902Z"
   },
   {
    "duration": 1157,
    "start_time": "2021-09-12T15:42:19.912Z"
   },
   {
    "duration": 62191,
    "start_time": "2021-09-12T15:41:18.881Z"
   },
   {
    "duration": 10,
    "start_time": "2021-09-12T15:44:59.047Z"
   },
   {
    "duration": 294,
    "start_time": "2021-09-12T15:46:47.603Z"
   },
   {
    "duration": 9,
    "start_time": "2021-09-12T15:49:19.099Z"
   },
   {
    "duration": 10,
    "start_time": "2021-09-12T15:49:24.698Z"
   },
   {
    "duration": 971,
    "start_time": "2021-09-12T15:49:32.490Z"
   },
   {
    "duration": 10,
    "start_time": "2021-09-12T15:49:33.463Z"
   },
   {
    "duration": 22,
    "start_time": "2021-09-12T15:49:33.476Z"
   },
   {
    "duration": 7,
    "start_time": "2021-09-12T15:49:33.501Z"
   },
   {
    "duration": 14,
    "start_time": "2021-09-12T15:49:33.510Z"
   },
   {
    "duration": 358,
    "start_time": "2021-09-12T15:49:33.526Z"
   },
   {
    "duration": 12,
    "start_time": "2021-09-12T15:50:31.291Z"
   },
   {
    "duration": 12,
    "start_time": "2021-09-12T15:51:48.064Z"
   },
   {
    "duration": 12,
    "start_time": "2021-09-12T15:51:50.931Z"
   },
   {
    "duration": 11,
    "start_time": "2021-09-12T15:51:56.196Z"
   },
   {
    "duration": 267,
    "start_time": "2021-09-12T15:52:01.630Z"
   },
   {
    "duration": 938,
    "start_time": "2021-09-12T15:52:26.427Z"
   },
   {
    "duration": 10,
    "start_time": "2021-09-12T15:52:30.310Z"
   },
   {
    "duration": 15,
    "start_time": "2021-09-12T15:52:37.725Z"
   },
   {
    "duration": 8,
    "start_time": "2021-09-12T15:52:40.504Z"
   },
   {
    "duration": 417,
    "start_time": "2021-09-12T15:53:06.161Z"
   },
   {
    "duration": 270,
    "start_time": "2021-09-12T15:53:11.529Z"
   },
   {
    "duration": 13,
    "start_time": "2021-09-12T15:53:31.820Z"
   },
   {
    "duration": 12,
    "start_time": "2021-09-12T15:53:53.911Z"
   },
   {
    "duration": 255,
    "start_time": "2021-09-12T15:55:39.300Z"
   },
   {
    "duration": 276,
    "start_time": "2021-09-12T15:56:06.731Z"
   },
   {
    "duration": 37,
    "start_time": "2021-09-12T15:57:17.614Z"
   },
   {
    "duration": 28,
    "start_time": "2021-09-12T15:57:31.440Z"
   },
   {
    "duration": 10,
    "start_time": "2021-09-12T16:04:05.582Z"
   },
   {
    "duration": 10,
    "start_time": "2021-09-12T16:04:19.589Z"
   },
   {
    "duration": 24,
    "start_time": "2021-09-12T16:06:55.276Z"
   },
   {
    "duration": 26,
    "start_time": "2021-09-12T16:09:04.345Z"
   },
   {
    "duration": 273,
    "start_time": "2021-09-12T16:27:59.968Z"
   },
   {
    "duration": 25,
    "start_time": "2021-09-12T16:29:27.262Z"
   },
   {
    "duration": 2141,
    "start_time": "2021-09-12T18:38:00.760Z"
   },
   {
    "duration": 1424,
    "start_time": "2021-09-12T18:38:19.317Z"
   },
   {
    "duration": 11,
    "start_time": "2021-09-12T18:38:20.744Z"
   },
   {
    "duration": 16,
    "start_time": "2021-09-12T18:38:20.758Z"
   },
   {
    "duration": 8,
    "start_time": "2021-09-12T18:38:20.777Z"
   },
   {
    "duration": 12,
    "start_time": "2021-09-12T18:38:20.787Z"
   },
   {
    "duration": 12,
    "start_time": "2021-09-12T18:38:20.802Z"
   },
   {
    "duration": 1601,
    "start_time": "2021-09-12T18:38:20.817Z"
   },
   {
    "duration": 10,
    "start_time": "2021-09-12T18:38:40.130Z"
   },
   {
    "duration": 28,
    "start_time": "2021-09-12T18:38:43.709Z"
   },
   {
    "duration": 17,
    "start_time": "2021-09-12T18:39:26.844Z"
   },
   {
    "duration": 254,
    "start_time": "2021-09-12T18:44:08.519Z"
   },
   {
    "duration": 285,
    "start_time": "2021-09-12T18:44:28.943Z"
   },
   {
    "duration": 295,
    "start_time": "2021-09-12T18:44:37.548Z"
   },
   {
    "duration": 318,
    "start_time": "2021-09-12T18:46:21.012Z"
   },
   {
    "duration": 230,
    "start_time": "2021-09-12T18:46:34.112Z"
   },
   {
    "duration": 9,
    "start_time": "2021-09-12T18:47:14.849Z"
   },
   {
    "duration": 13,
    "start_time": "2021-09-12T18:47:30.635Z"
   },
   {
    "duration": 10,
    "start_time": "2021-09-12T18:48:15.795Z"
   },
   {
    "duration": 11,
    "start_time": "2021-09-12T18:48:18.947Z"
   },
   {
    "duration": 26,
    "start_time": "2021-09-12T18:48:28.916Z"
   },
   {
    "duration": 26,
    "start_time": "2021-09-12T18:52:24.398Z"
   },
   {
    "duration": 12,
    "start_time": "2021-09-12T18:59:59.913Z"
   },
   {
    "duration": 11,
    "start_time": "2021-09-12T19:10:36.593Z"
   },
   {
    "duration": 25,
    "start_time": "2021-09-12T19:10:48.800Z"
   },
   {
    "duration": 28,
    "start_time": "2021-09-12T19:11:24.307Z"
   },
   {
    "duration": 336,
    "start_time": "2021-09-12T19:19:03.270Z"
   },
   {
    "duration": 291,
    "start_time": "2021-09-12T19:19:58.563Z"
   },
   {
    "duration": 28,
    "start_time": "2021-09-12T19:21:01.728Z"
   },
   {
    "duration": 287,
    "start_time": "2021-09-12T19:21:14.209Z"
   },
   {
    "duration": 34,
    "start_time": "2021-09-12T19:22:15.254Z"
   },
   {
    "duration": 298,
    "start_time": "2021-09-12T19:24:01.390Z"
   },
   {
    "duration": 279,
    "start_time": "2021-09-12T19:24:30.531Z"
   },
   {
    "duration": 276,
    "start_time": "2021-09-12T19:24:38.686Z"
   },
   {
    "duration": 29,
    "start_time": "2021-09-12T19:30:32.559Z"
   },
   {
    "duration": 2284,
    "start_time": "2021-09-12T19:31:10.182Z"
   },
   {
    "duration": 24,
    "start_time": "2021-09-12T19:31:19.258Z"
   },
   {
    "duration": 17,
    "start_time": "2021-09-12T19:32:32.334Z"
   },
   {
    "duration": 3281,
    "start_time": "2021-09-12T19:35:36.921Z"
   },
   {
    "duration": 18,
    "start_time": "2021-09-12T19:35:49.691Z"
   },
   {
    "duration": 29,
    "start_time": "2021-09-12T19:53:04.379Z"
   },
   {
    "duration": 8,
    "start_time": "2021-09-12T19:58:05.067Z"
   },
   {
    "duration": 9,
    "start_time": "2021-09-12T19:58:25.767Z"
   },
   {
    "duration": 40,
    "start_time": "2021-09-12T19:59:10.485Z"
   },
   {
    "duration": 43,
    "start_time": "2021-09-12T20:01:27.473Z"
   },
   {
    "duration": 39,
    "start_time": "2021-09-12T20:01:37.880Z"
   },
   {
    "duration": 39,
    "start_time": "2021-09-12T20:02:15.479Z"
   },
   {
    "duration": 41,
    "start_time": "2021-09-12T20:02:32.514Z"
   },
   {
    "duration": 13,
    "start_time": "2021-09-12T20:03:54.252Z"
   },
   {
    "duration": 267,
    "start_time": "2021-09-12T20:04:38.288Z"
   },
   {
    "duration": 13,
    "start_time": "2021-09-12T20:05:48.030Z"
   },
   {
    "duration": 14,
    "start_time": "2021-09-12T20:06:18.670Z"
   },
   {
    "duration": 23,
    "start_time": "2021-09-12T20:06:46.646Z"
   },
   {
    "duration": 16,
    "start_time": "2021-09-12T20:09:24.149Z"
   },
   {
    "duration": 14,
    "start_time": "2021-09-12T20:09:43.592Z"
   },
   {
    "duration": 29,
    "start_time": "2021-09-12T20:10:11.667Z"
   },
   {
    "duration": 13,
    "start_time": "2021-09-12T20:10:46.299Z"
   },
   {
    "duration": 32,
    "start_time": "2021-09-12T20:11:05.049Z"
   },
   {
    "duration": 31,
    "start_time": "2021-09-12T20:33:58.504Z"
   },
   {
    "duration": 32,
    "start_time": "2021-09-12T20:34:36.643Z"
   },
   {
    "duration": 17,
    "start_time": "2021-09-12T20:42:09.115Z"
   },
   {
    "duration": 996,
    "start_time": "2021-09-12T20:43:46.018Z"
   },
   {
    "duration": 10,
    "start_time": "2021-09-12T20:43:47.016Z"
   },
   {
    "duration": 16,
    "start_time": "2021-09-12T20:43:47.033Z"
   },
   {
    "duration": 16,
    "start_time": "2021-09-12T20:43:47.052Z"
   },
   {
    "duration": 14,
    "start_time": "2021-09-12T20:43:47.071Z"
   },
   {
    "duration": 12,
    "start_time": "2021-09-12T20:43:47.088Z"
   },
   {
    "duration": 63,
    "start_time": "2021-09-12T20:43:47.104Z"
   },
   {
    "duration": 21,
    "start_time": "2021-09-12T20:43:47.170Z"
   },
   {
    "duration": 28,
    "start_time": "2021-09-12T20:43:47.194Z"
   },
   {
    "duration": 66,
    "start_time": "2021-09-12T20:43:47.224Z"
   },
   {
    "duration": 42,
    "start_time": "2021-09-12T20:46:30.751Z"
   },
   {
    "duration": 49,
    "start_time": "2021-09-12T20:46:45.981Z"
   },
   {
    "duration": 21,
    "start_time": "2021-09-12T20:47:14.683Z"
   },
   {
    "duration": 1367,
    "start_time": "2021-09-12T20:47:46.933Z"
   },
   {
    "duration": 10,
    "start_time": "2021-09-12T20:47:48.302Z"
   },
   {
    "duration": 17,
    "start_time": "2021-09-12T20:47:48.318Z"
   },
   {
    "duration": 8,
    "start_time": "2021-09-12T20:47:48.337Z"
   },
   {
    "duration": 30,
    "start_time": "2021-09-12T20:47:48.347Z"
   },
   {
    "duration": 18,
    "start_time": "2021-09-12T20:47:48.379Z"
   },
   {
    "duration": 19,
    "start_time": "2021-09-12T20:47:48.402Z"
   },
   {
    "duration": 67,
    "start_time": "2021-09-12T20:47:48.424Z"
   },
   {
    "duration": 24,
    "start_time": "2021-09-12T20:47:48.493Z"
   },
   {
    "duration": 58,
    "start_time": "2021-09-12T20:47:48.520Z"
   },
   {
    "duration": 34,
    "start_time": "2021-09-12T20:47:48.580Z"
   },
   {
    "duration": 14,
    "start_time": "2021-09-12T20:48:21.977Z"
   },
   {
    "duration": 1028,
    "start_time": "2021-09-12T20:52:30.531Z"
   },
   {
    "duration": 10,
    "start_time": "2021-09-12T20:52:31.561Z"
   },
   {
    "duration": 21,
    "start_time": "2021-09-12T20:52:31.577Z"
   },
   {
    "duration": 11,
    "start_time": "2021-09-12T20:52:31.601Z"
   },
   {
    "duration": 28,
    "start_time": "2021-09-12T20:52:31.615Z"
   },
   {
    "duration": 12,
    "start_time": "2021-09-12T20:52:31.668Z"
   },
   {
    "duration": 26,
    "start_time": "2021-09-12T20:52:31.684Z"
   },
   {
    "duration": 19,
    "start_time": "2021-09-12T20:52:31.713Z"
   },
   {
    "duration": 51,
    "start_time": "2021-09-12T20:52:31.735Z"
   },
   {
    "duration": 30,
    "start_time": "2021-09-12T20:52:31.788Z"
   },
   {
    "duration": 60,
    "start_time": "2021-09-12T20:52:31.820Z"
   },
   {
    "duration": 828,
    "start_time": "2021-09-13T09:36:10.622Z"
   },
   {
    "duration": 1007,
    "start_time": "2021-09-13T09:36:20.449Z"
   },
   {
    "duration": 9,
    "start_time": "2021-09-13T09:36:21.459Z"
   },
   {
    "duration": 20,
    "start_time": "2021-09-13T09:36:21.474Z"
   },
   {
    "duration": 28,
    "start_time": "2021-09-13T09:36:21.496Z"
   },
   {
    "duration": 62,
    "start_time": "2021-09-13T09:36:21.527Z"
   },
   {
    "duration": 50,
    "start_time": "2021-09-13T09:36:21.592Z"
   },
   {
    "duration": 26,
    "start_time": "2021-09-13T09:36:21.645Z"
   },
   {
    "duration": 60,
    "start_time": "2021-09-13T09:36:21.677Z"
   },
   {
    "duration": 34,
    "start_time": "2021-09-13T09:36:21.741Z"
   },
   {
    "duration": 94,
    "start_time": "2021-09-13T09:36:21.779Z"
   },
   {
    "duration": 84,
    "start_time": "2021-09-13T09:36:21.877Z"
   },
   {
    "duration": 13,
    "start_time": "2021-09-13T09:39:38.310Z"
   },
   {
    "duration": 20,
    "start_time": "2021-09-13T09:45:40.500Z"
   },
   {
    "duration": 30,
    "start_time": "2021-09-13T09:45:46.270Z"
   },
   {
    "duration": 28,
    "start_time": "2021-09-13T09:52:53.091Z"
   },
   {
    "duration": 1069,
    "start_time": "2021-09-17T12:49:16.141Z"
   },
   {
    "duration": 9,
    "start_time": "2021-09-17T12:49:17.213Z"
   },
   {
    "duration": 27,
    "start_time": "2021-09-17T12:49:17.224Z"
   },
   {
    "duration": 16,
    "start_time": "2021-09-17T12:49:17.254Z"
   },
   {
    "duration": 17,
    "start_time": "2021-09-17T12:49:17.272Z"
   },
   {
    "duration": 36,
    "start_time": "2021-09-17T12:49:17.292Z"
   },
   {
    "duration": 32,
    "start_time": "2021-09-17T12:49:17.331Z"
   },
   {
    "duration": 24,
    "start_time": "2021-09-17T12:49:17.366Z"
   },
   {
    "duration": 27,
    "start_time": "2021-09-17T12:49:17.392Z"
   },
   {
    "duration": 30,
    "start_time": "2021-09-17T12:49:17.421Z"
   },
   {
    "duration": 32,
    "start_time": "2021-09-17T12:49:17.454Z"
   },
   {
    "duration": 14,
    "start_time": "2021-09-17T12:49:17.517Z"
   },
   {
    "duration": 181,
    "start_time": "2021-09-17T12:49:17.533Z"
   },
   {
    "duration": 63256,
    "start_time": "2021-09-17T12:48:14.461Z"
   },
   {
    "duration": 1053,
    "start_time": "2021-09-18T12:10:41.707Z"
   },
   {
    "duration": 9,
    "start_time": "2021-09-18T12:10:42.762Z"
   },
   {
    "duration": 16,
    "start_time": "2021-09-18T12:10:42.774Z"
   },
   {
    "duration": 7,
    "start_time": "2021-09-18T12:10:42.793Z"
   },
   {
    "duration": 22,
    "start_time": "2021-09-18T12:10:42.803Z"
   },
   {
    "duration": 13,
    "start_time": "2021-09-18T12:10:42.828Z"
   },
   {
    "duration": 20,
    "start_time": "2021-09-18T12:10:42.843Z"
   },
   {
    "duration": 16,
    "start_time": "2021-09-18T12:10:42.865Z"
   },
   {
    "duration": 50,
    "start_time": "2021-09-18T12:10:42.884Z"
   },
   {
    "duration": 28,
    "start_time": "2021-09-18T12:10:42.937Z"
   },
   {
    "duration": 59,
    "start_time": "2021-09-18T12:10:42.968Z"
   },
   {
    "duration": 14,
    "start_time": "2021-09-18T12:10:43.029Z"
   },
   {
    "duration": 260,
    "start_time": "2021-09-18T12:10:43.045Z"
   },
   {
    "duration": 63803,
    "start_time": "2021-09-18T12:09:39.505Z"
   },
   {
    "duration": 14,
    "start_time": "2021-09-18T12:12:19.495Z"
   },
   {
    "duration": 26,
    "start_time": "2021-09-18T12:12:59.369Z"
   },
   {
    "duration": 26,
    "start_time": "2021-09-18T12:43:31.945Z"
   },
   {
    "duration": 26,
    "start_time": "2021-09-18T12:43:50.926Z"
   },
   {
    "duration": 27,
    "start_time": "2021-09-18T12:52:55.496Z"
   },
   {
    "duration": 14,
    "start_time": "2021-09-18T12:53:51.798Z"
   },
   {
    "duration": 15,
    "start_time": "2021-09-18T12:53:56.107Z"
   },
   {
    "duration": 25,
    "start_time": "2021-09-18T12:54:12.363Z"
   },
   {
    "duration": 14,
    "start_time": "2021-09-18T12:55:17.104Z"
   },
   {
    "duration": 26,
    "start_time": "2021-09-18T12:55:28.091Z"
   },
   {
    "duration": 26,
    "start_time": "2021-09-18T12:55:54.292Z"
   },
   {
    "duration": 1834,
    "start_time": "2021-09-18T12:56:52.721Z"
   },
   {
    "duration": 2870,
    "start_time": "2021-09-18T12:57:05.955Z"
   },
   {
    "duration": 401,
    "start_time": "2021-09-18T12:57:43.421Z"
   },
   {
    "duration": 2640,
    "start_time": "2021-09-18T12:58:13.828Z"
   },
   {
    "duration": 23,
    "start_time": "2021-09-18T12:58:23.970Z"
   },
   {
    "duration": 25,
    "start_time": "2021-09-18T12:58:30.426Z"
   },
   {
    "duration": 9,
    "start_time": "2021-09-18T13:21:27.804Z"
   },
   {
    "duration": 16,
    "start_time": "2021-09-18T13:23:40.038Z"
   },
   {
    "duration": 12,
    "start_time": "2021-09-18T13:24:06.377Z"
   },
   {
    "duration": 10,
    "start_time": "2021-09-18T13:24:32.903Z"
   },
   {
    "duration": 10,
    "start_time": "2021-09-18T13:24:51.976Z"
   },
   {
    "duration": 13,
    "start_time": "2021-09-18T13:26:00.299Z"
   },
   {
    "duration": 13,
    "start_time": "2021-09-18T13:26:17.497Z"
   },
   {
    "duration": 13,
    "start_time": "2021-09-18T13:26:43.027Z"
   },
   {
    "duration": 9,
    "start_time": "2021-09-18T13:26:55.628Z"
   },
   {
    "duration": 9,
    "start_time": "2021-09-18T13:27:06.105Z"
   },
   {
    "duration": 10,
    "start_time": "2021-09-18T13:27:23.264Z"
   },
   {
    "duration": 11,
    "start_time": "2021-09-18T13:28:01.502Z"
   },
   {
    "duration": 10,
    "start_time": "2021-09-18T13:28:38.147Z"
   },
   {
    "duration": 10,
    "start_time": "2021-09-18T13:28:51.862Z"
   },
   {
    "duration": 9,
    "start_time": "2021-09-18T13:28:58.305Z"
   },
   {
    "duration": 6,
    "start_time": "2021-09-18T13:38:10.695Z"
   },
   {
    "duration": 10,
    "start_time": "2021-09-18T13:38:21.798Z"
   },
   {
    "duration": 6,
    "start_time": "2021-09-18T13:38:29.739Z"
   },
   {
    "duration": 6,
    "start_time": "2021-09-18T13:38:34.973Z"
   },
   {
    "duration": 11,
    "start_time": "2021-09-18T13:42:35.904Z"
   },
   {
    "duration": 25,
    "start_time": "2021-09-18T13:51:06.668Z"
   },
   {
    "duration": 22,
    "start_time": "2021-09-18T13:57:20.494Z"
   },
   {
    "duration": 26,
    "start_time": "2021-09-18T14:00:22.100Z"
   },
   {
    "duration": 15,
    "start_time": "2021-09-18T16:28:59.840Z"
   },
   {
    "duration": 14,
    "start_time": "2021-09-18T16:29:17.272Z"
   },
   {
    "duration": 15,
    "start_time": "2021-09-18T16:29:27.348Z"
   },
   {
    "duration": 122,
    "start_time": "2021-09-18T16:29:34.420Z"
   },
   {
    "duration": 419,
    "start_time": "2021-09-18T16:32:33.378Z"
   },
   {
    "duration": 393,
    "start_time": "2021-09-18T16:32:57.404Z"
   },
   {
    "duration": 1033,
    "start_time": "2021-09-18T16:36:20.469Z"
   },
   {
    "duration": 9,
    "start_time": "2021-09-18T16:36:21.505Z"
   },
   {
    "duration": 14,
    "start_time": "2021-09-18T16:36:21.520Z"
   },
   {
    "duration": 11,
    "start_time": "2021-09-18T16:36:21.537Z"
   },
   {
    "duration": 16,
    "start_time": "2021-09-18T16:36:21.551Z"
   },
   {
    "duration": 19,
    "start_time": "2021-09-18T16:36:21.569Z"
   },
   {
    "duration": 19,
    "start_time": "2021-09-18T16:36:21.617Z"
   },
   {
    "duration": 16,
    "start_time": "2021-09-18T16:36:21.639Z"
   },
   {
    "duration": 20,
    "start_time": "2021-09-18T16:36:21.657Z"
   },
   {
    "duration": 56,
    "start_time": "2021-09-18T16:36:21.680Z"
   },
   {
    "duration": 13,
    "start_time": "2021-09-18T16:36:21.738Z"
   },
   {
    "duration": 27,
    "start_time": "2021-09-18T16:36:21.753Z"
   },
   {
    "duration": 12,
    "start_time": "2021-09-18T16:36:21.818Z"
   },
   {
    "duration": 25,
    "start_time": "2021-09-18T16:36:21.833Z"
   },
   {
    "duration": 55,
    "start_time": "2021-09-18T16:36:21.861Z"
   },
   {
    "duration": 7,
    "start_time": "2021-09-18T16:36:21.918Z"
   },
   {
    "duration": 10,
    "start_time": "2021-09-18T16:36:21.927Z"
   },
   {
    "duration": 9,
    "start_time": "2021-09-18T16:36:21.940Z"
   },
   {
    "duration": 7,
    "start_time": "2021-09-18T16:36:21.951Z"
   },
   {
    "duration": 504,
    "start_time": "2021-09-18T16:36:21.961Z"
   },
   {
    "duration": 63936,
    "start_time": "2021-09-18T16:35:18.532Z"
   },
   {
    "duration": 63932,
    "start_time": "2021-09-18T16:35:18.538Z"
   },
   {
    "duration": 5,
    "start_time": "2021-09-18T17:10:21.401Z"
   },
   {
    "duration": 420,
    "start_time": "2021-09-18T17:18:30.020Z"
   },
   {
    "duration": 395,
    "start_time": "2021-09-18T17:19:37.078Z"
   },
   {
    "duration": 1059,
    "start_time": "2021-09-18T17:20:02.408Z"
   },
   {
    "duration": 445,
    "start_time": "2021-09-18T17:20:33.318Z"
   },
   {
    "duration": 386,
    "start_time": "2021-09-18T17:21:23.865Z"
   },
   {
    "duration": 2854,
    "start_time": "2021-09-18T17:22:06.510Z"
   },
   {
    "duration": 382,
    "start_time": "2021-09-18T17:22:21.894Z"
   },
   {
    "duration": 391,
    "start_time": "2021-09-18T17:22:35.702Z"
   },
   {
    "duration": 4,
    "start_time": "2021-09-18T17:22:51.918Z"
   },
   {
    "duration": 4,
    "start_time": "2021-09-18T17:23:01.598Z"
   },
   {
    "duration": 412,
    "start_time": "2021-09-18T17:25:03.315Z"
   },
   {
    "duration": 443,
    "start_time": "2021-09-18T17:25:57.703Z"
   },
   {
    "duration": 1765,
    "start_time": "2021-09-18T17:27:57.053Z"
   },
   {
    "duration": 507,
    "start_time": "2021-09-18T17:29:00.669Z"
   },
   {
    "duration": 427,
    "start_time": "2021-09-18T17:29:56.210Z"
   },
   {
    "duration": 7,
    "start_time": "2021-09-18T17:31:17.211Z"
   },
   {
    "duration": 375,
    "start_time": "2021-09-18T17:31:23.151Z"
   },
   {
    "duration": 388,
    "start_time": "2021-09-18T17:31:36.464Z"
   },
   {
    "duration": 20,
    "start_time": "2021-09-18T17:32:40.592Z"
   },
   {
    "duration": 397,
    "start_time": "2021-09-18T17:32:54.398Z"
   },
   {
    "duration": 1742,
    "start_time": "2021-09-18T17:42:33.428Z"
   },
   {
    "duration": 10569,
    "start_time": "2021-09-18T17:55:12.568Z"
   },
   {
    "duration": 9618,
    "start_time": "2021-09-18T17:55:23.264Z"
   },
   {
    "duration": 3,
    "start_time": "2021-09-18T17:56:51.735Z"
   },
   {
    "duration": 389,
    "start_time": "2021-09-18T17:57:15.126Z"
   },
   {
    "duration": 381,
    "start_time": "2021-09-18T17:58:47.721Z"
   },
   {
    "duration": 568,
    "start_time": "2021-09-18T18:05:13.969Z"
   },
   {
    "duration": 5,
    "start_time": "2021-09-18T18:06:07.022Z"
   },
   {
    "duration": 5,
    "start_time": "2021-09-18T18:06:22.505Z"
   },
   {
    "duration": 8,
    "start_time": "2021-09-18T18:06:59.897Z"
   },
   {
    "duration": 1312,
    "start_time": "2021-09-18T18:07:05.855Z"
   },
   {
    "duration": 394,
    "start_time": "2021-09-18T18:07:14.536Z"
   },
   {
    "duration": 8,
    "start_time": "2021-09-18T18:07:22.357Z"
   },
   {
    "duration": 9,
    "start_time": "2021-09-18T18:07:26.623Z"
   },
   {
    "duration": 9,
    "start_time": "2021-09-18T18:07:30.520Z"
   },
   {
    "duration": 390,
    "start_time": "2021-09-18T18:07:35.344Z"
   },
   {
    "duration": 810,
    "start_time": "2021-09-18T18:07:40.216Z"
   },
   {
    "duration": 437,
    "start_time": "2021-09-18T18:07:44.628Z"
   },
   {
    "duration": 499,
    "start_time": "2021-09-18T18:07:49.316Z"
   },
   {
    "duration": 433,
    "start_time": "2021-09-18T18:07:54.848Z"
   },
   {
    "duration": 509,
    "start_time": "2021-09-18T18:07:59.375Z"
   },
   {
    "duration": 9,
    "start_time": "2021-09-18T18:08:03.379Z"
   },
   {
    "duration": 6,
    "start_time": "2021-09-18T18:08:30.757Z"
   },
   {
    "duration": 5,
    "start_time": "2021-09-18T18:08:41.081Z"
   },
   {
    "duration": 6,
    "start_time": "2021-09-18T18:08:47.855Z"
   },
   {
    "duration": 5,
    "start_time": "2021-09-18T18:09:00.141Z"
   },
   {
    "duration": 125,
    "start_time": "2021-09-18T18:15:23.835Z"
   },
   {
    "duration": 148,
    "start_time": "2021-09-18T18:15:50.474Z"
   },
   {
    "duration": 145,
    "start_time": "2021-09-18T18:18:53.590Z"
   },
   {
    "duration": 128,
    "start_time": "2021-09-18T18:19:20.383Z"
   },
   {
    "duration": 125,
    "start_time": "2021-09-18T18:19:42.063Z"
   },
   {
    "duration": 147,
    "start_time": "2021-09-18T18:20:13.793Z"
   },
   {
    "duration": 130,
    "start_time": "2021-09-18T18:22:51.572Z"
   },
   {
    "duration": 128,
    "start_time": "2021-09-18T18:23:43.093Z"
   },
   {
    "duration": 138,
    "start_time": "2021-09-18T18:24:09.952Z"
   },
   {
    "duration": 137,
    "start_time": "2021-09-18T18:25:30.479Z"
   },
   {
    "duration": 123,
    "start_time": "2021-09-18T18:25:44.133Z"
   },
   {
    "duration": 141,
    "start_time": "2021-09-18T18:26:39.800Z"
   },
   {
    "duration": 1023,
    "start_time": "2021-09-18T18:26:54.831Z"
   },
   {
    "duration": 10,
    "start_time": "2021-09-18T18:27:00.109Z"
   },
   {
    "duration": 16,
    "start_time": "2021-09-18T18:27:02.125Z"
   },
   {
    "duration": 8,
    "start_time": "2021-09-18T18:27:04.109Z"
   },
   {
    "duration": 12,
    "start_time": "2021-09-18T18:27:06.881Z"
   },
   {
    "duration": 12,
    "start_time": "2021-09-18T18:27:09.367Z"
   },
   {
    "duration": 19,
    "start_time": "2021-09-18T18:27:12.273Z"
   },
   {
    "duration": 17,
    "start_time": "2021-09-18T18:27:15.073Z"
   },
   {
    "duration": 17,
    "start_time": "2021-09-18T18:27:58.966Z"
   },
   {
    "duration": 18,
    "start_time": "2021-09-18T18:28:00.839Z"
   },
   {
    "duration": 23,
    "start_time": "2021-09-18T18:28:07.421Z"
   },
   {
    "duration": 29,
    "start_time": "2021-09-18T18:28:11.627Z"
   },
   {
    "duration": 13,
    "start_time": "2021-09-18T18:28:13.549Z"
   },
   {
    "duration": 13,
    "start_time": "2021-09-18T18:28:20.509Z"
   },
   {
    "duration": 12,
    "start_time": "2021-09-18T18:28:24.006Z"
   },
   {
    "duration": 26,
    "start_time": "2021-09-18T18:28:26.209Z"
   },
   {
    "duration": 13,
    "start_time": "2021-09-18T18:28:30.112Z"
   },
   {
    "duration": 26,
    "start_time": "2021-09-18T18:28:32.450Z"
   },
   {
    "duration": 24,
    "start_time": "2021-09-18T18:28:34.717Z"
   },
   {
    "duration": 7,
    "start_time": "2021-09-18T18:28:37.758Z"
   },
   {
    "duration": 11,
    "start_time": "2021-09-18T18:28:40.205Z"
   },
   {
    "duration": 7,
    "start_time": "2021-09-18T18:28:45.914Z"
   },
   {
    "duration": 7,
    "start_time": "2021-09-18T18:28:48.957Z"
   },
   {
    "duration": 126,
    "start_time": "2021-09-18T18:28:56.709Z"
   },
   {
    "duration": 124,
    "start_time": "2021-09-18T18:29:29.665Z"
   },
   {
    "duration": 7,
    "start_time": "2021-09-18T18:29:45.386Z"
   },
   {
    "duration": 122,
    "start_time": "2021-09-18T18:29:48.142Z"
   },
   {
    "duration": 130,
    "start_time": "2021-09-18T18:30:10.623Z"
   },
   {
    "duration": 7,
    "start_time": "2021-09-18T18:30:47.418Z"
   },
   {
    "duration": 1013,
    "start_time": "2021-09-18T18:30:59.653Z"
   },
   {
    "duration": 484,
    "start_time": "2021-09-18T18:31:05.974Z"
   },
   {
    "duration": 10,
    "start_time": "2021-09-18T18:31:15.285Z"
   },
   {
    "duration": 16,
    "start_time": "2021-09-18T18:31:16.957Z"
   },
   {
    "duration": 8,
    "start_time": "2021-09-18T18:31:20.339Z"
   },
   {
    "duration": 13,
    "start_time": "2021-09-18T18:31:22.641Z"
   },
   {
    "duration": 386,
    "start_time": "2021-09-18T18:31:25.751Z"
   },
   {
    "duration": 18,
    "start_time": "2021-09-18T18:31:28.291Z"
   },
   {
    "duration": 19,
    "start_time": "2021-09-18T18:31:30.363Z"
   },
   {
    "duration": 7,
    "start_time": "2021-09-18T18:31:34.938Z"
   },
   {
    "duration": 7,
    "start_time": "2021-09-18T18:31:37.605Z"
   },
   {
    "duration": 130,
    "start_time": "2021-09-18T18:31:56.561Z"
   },
   {
    "duration": 17,
    "start_time": "2021-09-18T18:32:57.805Z"
   },
   {
    "duration": 6,
    "start_time": "2021-09-18T18:33:02.574Z"
   },
   {
    "duration": 7,
    "start_time": "2021-09-18T18:33:41.813Z"
   },
   {
    "duration": 8,
    "start_time": "2021-09-18T18:33:49.874Z"
   },
   {
    "duration": 8,
    "start_time": "2021-09-18T18:33:56.572Z"
   },
   {
    "duration": 8,
    "start_time": "2021-09-18T18:34:23.093Z"
   },
   {
    "duration": 418,
    "start_time": "2021-09-18T18:35:00.964Z"
   },
   {
    "duration": 151,
    "start_time": "2021-09-18T18:35:24.980Z"
   },
   {
    "duration": 1319,
    "start_time": "2021-09-18T18:35:40.613Z"
   },
   {
    "duration": 1065,
    "start_time": "2021-09-18T18:36:59.853Z"
   },
   {
    "duration": 10,
    "start_time": "2021-09-18T18:37:00.921Z"
   },
   {
    "duration": 24,
    "start_time": "2021-09-18T18:37:00.935Z"
   },
   {
    "duration": 14,
    "start_time": "2021-09-18T18:37:00.963Z"
   },
   {
    "duration": 50,
    "start_time": "2021-09-18T18:37:00.980Z"
   },
   {
    "duration": 27,
    "start_time": "2021-09-18T18:37:01.033Z"
   },
   {
    "duration": 18,
    "start_time": "2021-09-18T18:37:01.062Z"
   },
   {
    "duration": 50,
    "start_time": "2021-09-18T18:37:01.085Z"
   },
   {
    "duration": 44,
    "start_time": "2021-09-18T18:37:01.139Z"
   },
   {
    "duration": 39,
    "start_time": "2021-09-18T18:37:01.186Z"
   },
   {
    "duration": 52,
    "start_time": "2021-09-18T18:37:01.228Z"
   },
   {
    "duration": 38,
    "start_time": "2021-09-18T18:37:01.283Z"
   },
   {
    "duration": 25,
    "start_time": "2021-09-18T18:37:01.324Z"
   },
   {
    "duration": 31,
    "start_time": "2021-09-18T18:37:01.351Z"
   },
   {
    "duration": 35,
    "start_time": "2021-09-18T18:37:01.384Z"
   },
   {
    "duration": 24,
    "start_time": "2021-09-18T18:37:01.422Z"
   },
   {
    "duration": 22,
    "start_time": "2021-09-18T18:37:01.448Z"
   },
   {
    "duration": 18,
    "start_time": "2021-09-18T18:37:01.472Z"
   },
   {
    "duration": 143,
    "start_time": "2021-09-18T18:37:01.492Z"
   },
   {
    "duration": 3,
    "start_time": "2021-09-18T18:37:01.638Z"
   },
   {
    "duration": 50,
    "start_time": "2021-09-18T18:37:01.644Z"
   },
   {
    "duration": 132,
    "start_time": "2021-09-18T18:37:53.877Z"
   },
   {
    "duration": 1529,
    "start_time": "2021-09-18T18:38:00.818Z"
   },
   {
    "duration": 14,
    "start_time": "2021-09-18T18:38:02.350Z"
   },
   {
    "duration": 55,
    "start_time": "2021-09-18T18:38:02.368Z"
   },
   {
    "duration": 13,
    "start_time": "2021-09-18T18:38:02.427Z"
   },
   {
    "duration": 30,
    "start_time": "2021-09-18T18:38:02.443Z"
   },
   {
    "duration": 45,
    "start_time": "2021-09-18T18:38:02.477Z"
   },
   {
    "duration": 28,
    "start_time": "2021-09-18T18:38:02.525Z"
   },
   {
    "duration": 59,
    "start_time": "2021-09-18T18:38:02.558Z"
   },
   {
    "duration": 46,
    "start_time": "2021-09-18T18:38:02.621Z"
   },
   {
    "duration": 13,
    "start_time": "2021-09-18T18:38:02.670Z"
   },
   {
    "duration": 50,
    "start_time": "2021-09-18T18:38:02.685Z"
   },
   {
    "duration": 18,
    "start_time": "2021-09-18T18:38:02.738Z"
   },
   {
    "duration": 30,
    "start_time": "2021-09-18T18:38:02.758Z"
   },
   {
    "duration": 43,
    "start_time": "2021-09-18T18:38:02.790Z"
   },
   {
    "duration": 12,
    "start_time": "2021-09-18T18:38:02.836Z"
   },
   {
    "duration": 45,
    "start_time": "2021-09-18T18:38:02.850Z"
   },
   {
    "duration": 12,
    "start_time": "2021-09-18T18:38:02.898Z"
   },
   {
    "duration": 10,
    "start_time": "2021-09-18T18:38:02.912Z"
   },
   {
    "duration": 140,
    "start_time": "2021-09-18T18:38:02.924Z"
   },
   {
    "duration": 64009,
    "start_time": "2021-09-18T18:36:59.058Z"
   },
   {
    "duration": 64006,
    "start_time": "2021-09-18T18:36:59.063Z"
   },
   {
    "duration": 122,
    "start_time": "2021-09-18T18:38:32.387Z"
   },
   {
    "duration": 238,
    "start_time": "2021-09-18T18:38:35.542Z"
   },
   {
    "duration": 126,
    "start_time": "2021-09-18T18:39:56.842Z"
   },
   {
    "duration": 6,
    "start_time": "2021-09-18T18:42:02.899Z"
   },
   {
    "duration": 114,
    "start_time": "2021-09-18T18:42:12.769Z"
   },
   {
    "duration": 10048,
    "start_time": "2021-09-18T18:42:49.092Z"
   },
   {
    "duration": 6,
    "start_time": "2021-09-18T18:43:01.722Z"
   },
   {
    "duration": 6,
    "start_time": "2021-09-18T18:43:17.010Z"
   },
   {
    "duration": 392,
    "start_time": "2021-09-18T18:43:55.020Z"
   },
   {
    "duration": 7,
    "start_time": "2021-09-18T18:44:13.105Z"
   },
   {
    "duration": 8,
    "start_time": "2021-09-18T18:44:27.695Z"
   },
   {
    "duration": 1011,
    "start_time": "2021-09-18T18:48:45.515Z"
   },
   {
    "duration": 1155,
    "start_time": "2021-09-18T18:49:04.945Z"
   },
   {
    "duration": 382,
    "start_time": "2021-09-18T18:49:12.820Z"
   },
   {
    "duration": 64020,
    "start_time": "2021-09-18T18:48:44.877Z"
   },
   {
    "duration": 7509,
    "start_time": "2021-09-18T18:49:52.680Z"
   },
   {
    "duration": 6,
    "start_time": "2021-09-18T18:51:12.929Z"
   },
   {
    "duration": 8,
    "start_time": "2021-09-18T18:51:23.713Z"
   },
   {
    "duration": 19,
    "start_time": "2021-09-18T18:51:39.408Z"
   },
   {
    "duration": 6,
    "start_time": "2021-09-18T18:51:44.642Z"
   },
   {
    "duration": 116,
    "start_time": "2021-09-18T18:51:48.459Z"
   },
   {
    "duration": 416,
    "start_time": "2021-09-18T18:52:16.783Z"
   },
   {
    "duration": 11,
    "start_time": "2021-09-18T18:52:37.654Z"
   },
   {
    "duration": 384,
    "start_time": "2021-09-18T18:53:20.904Z"
   },
   {
    "duration": 185,
    "start_time": "2021-09-18T18:55:12.992Z"
   },
   {
    "duration": 127,
    "start_time": "2021-09-18T18:56:33.998Z"
   },
   {
    "duration": 15,
    "start_time": "2021-09-18T18:57:20.318Z"
   },
   {
    "duration": 6,
    "start_time": "2021-09-18T18:59:32.603Z"
   },
   {
    "duration": 1030,
    "start_time": "2021-09-18T19:01:16.249Z"
   },
   {
    "duration": 11,
    "start_time": "2021-09-18T19:01:17.283Z"
   },
   {
    "duration": 17,
    "start_time": "2021-09-18T19:01:17.298Z"
   },
   {
    "duration": 8,
    "start_time": "2021-09-18T19:01:17.319Z"
   },
   {
    "duration": 13,
    "start_time": "2021-09-18T19:01:17.330Z"
   },
   {
    "duration": 24,
    "start_time": "2021-09-18T19:01:17.345Z"
   },
   {
    "duration": 44,
    "start_time": "2021-09-18T19:01:17.372Z"
   },
   {
    "duration": 22,
    "start_time": "2021-09-18T19:01:17.419Z"
   },
   {
    "duration": 29,
    "start_time": "2021-09-18T19:01:17.445Z"
   },
   {
    "duration": 40,
    "start_time": "2021-09-18T19:01:17.477Z"
   },
   {
    "duration": 26,
    "start_time": "2021-09-18T19:01:17.520Z"
   },
   {
    "duration": 18,
    "start_time": "2021-09-18T19:01:17.549Z"
   },
   {
    "duration": 49,
    "start_time": "2021-09-18T19:01:17.570Z"
   },
   {
    "duration": 26,
    "start_time": "2021-09-18T19:01:17.622Z"
   },
   {
    "duration": 8,
    "start_time": "2021-09-18T19:01:17.651Z"
   },
   {
    "duration": 12,
    "start_time": "2021-09-18T19:01:17.662Z"
   },
   {
    "duration": 45,
    "start_time": "2021-09-18T19:01:17.676Z"
   },
   {
    "duration": 15,
    "start_time": "2021-09-18T19:01:17.723Z"
   },
   {
    "duration": 210,
    "start_time": "2021-09-18T19:01:17.740Z"
   },
   {
    "duration": 27,
    "start_time": "2021-09-18T19:01:17.952Z"
   },
   {
    "duration": 9,
    "start_time": "2021-09-18T19:04:15.104Z"
   },
   {
    "duration": 490,
    "start_time": "2021-09-18T19:24:48.914Z"
   },
   {
    "duration": 1478,
    "start_time": "2021-09-18T19:25:00.897Z"
   },
   {
    "duration": 11,
    "start_time": "2021-09-18T19:26:24.122Z"
   },
   {
    "duration": 387,
    "start_time": "2021-09-18T19:26:41.772Z"
   },
   {
    "duration": 10,
    "start_time": "2021-09-18T19:26:57.743Z"
   },
   {
    "duration": 1148,
    "start_time": "2021-09-20T07:44:42.072Z"
   },
   {
    "duration": 10,
    "start_time": "2021-09-20T07:44:43.222Z"
   },
   {
    "duration": 22,
    "start_time": "2021-09-20T07:44:43.235Z"
   },
   {
    "duration": 25,
    "start_time": "2021-09-20T07:44:43.259Z"
   },
   {
    "duration": 22,
    "start_time": "2021-09-20T07:44:43.286Z"
   },
   {
    "duration": 20,
    "start_time": "2021-09-20T07:44:43.311Z"
   },
   {
    "duration": 51,
    "start_time": "2021-09-20T07:44:43.333Z"
   },
   {
    "duration": 21,
    "start_time": "2021-09-20T07:44:43.388Z"
   },
   {
    "duration": 29,
    "start_time": "2021-09-20T07:44:43.412Z"
   },
   {
    "duration": 50,
    "start_time": "2021-09-20T07:44:43.443Z"
   },
   {
    "duration": 40,
    "start_time": "2021-09-20T07:44:43.495Z"
   },
   {
    "duration": 18,
    "start_time": "2021-09-20T07:44:43.537Z"
   },
   {
    "duration": 46,
    "start_time": "2021-09-20T07:44:43.559Z"
   },
   {
    "duration": 27,
    "start_time": "2021-09-20T07:44:43.607Z"
   },
   {
    "duration": 47,
    "start_time": "2021-09-20T07:44:43.637Z"
   },
   {
    "duration": 11,
    "start_time": "2021-09-20T07:44:43.686Z"
   },
   {
    "duration": 17,
    "start_time": "2021-09-20T07:44:43.699Z"
   },
   {
    "duration": 8,
    "start_time": "2021-09-20T07:44:43.718Z"
   },
   {
    "duration": 7,
    "start_time": "2021-09-20T07:44:43.728Z"
   },
   {
    "duration": 133,
    "start_time": "2021-09-20T07:44:43.737Z"
   },
   {
    "duration": 10770,
    "start_time": "2021-09-20T07:44:33.102Z"
   },
   {
    "duration": 10751,
    "start_time": "2021-09-20T07:44:33.123Z"
   },
   {
    "duration": 14,
    "start_time": "2021-09-20T07:45:24.387Z"
   },
   {
    "duration": 19,
    "start_time": "2021-09-20T07:45:57.242Z"
   },
   {
    "duration": 12,
    "start_time": "2021-09-20T07:51:52.510Z"
   },
   {
    "duration": 485,
    "start_time": "2021-09-20T07:53:18.448Z"
   },
   {
    "duration": 46,
    "start_time": "2021-09-20T07:53:30.486Z"
   },
   {
    "duration": 43,
    "start_time": "2021-09-20T07:54:03.268Z"
   },
   {
    "duration": 42,
    "start_time": "2021-09-20T07:54:10.334Z"
   },
   {
    "duration": 42,
    "start_time": "2021-09-20T07:54:26.761Z"
   },
   {
    "duration": 387,
    "start_time": "2021-09-20T07:55:31.266Z"
   },
   {
    "duration": 303,
    "start_time": "2021-09-20T07:56:47.171Z"
   },
   {
    "duration": 97,
    "start_time": "2021-09-20T07:57:36.246Z"
   },
   {
    "duration": 24,
    "start_time": "2021-09-20T08:02:50.858Z"
   },
   {
    "duration": 45,
    "start_time": "2021-09-20T08:03:08.638Z"
   },
   {
    "duration": 18,
    "start_time": "2021-09-20T08:03:31.301Z"
   },
   {
    "duration": 17,
    "start_time": "2021-09-20T08:03:48.133Z"
   },
   {
    "duration": 42,
    "start_time": "2021-09-20T08:08:58.088Z"
   },
   {
    "duration": 17,
    "start_time": "2021-09-20T08:23:34.738Z"
   },
   {
    "duration": 273,
    "start_time": "2021-09-20T08:23:57.642Z"
   },
   {
    "duration": 291,
    "start_time": "2021-09-20T08:24:06.515Z"
   },
   {
    "duration": 41,
    "start_time": "2021-09-20T08:25:14.651Z"
   },
   {
    "duration": 178,
    "start_time": "2021-09-20T08:26:58.596Z"
   },
   {
    "duration": 37,
    "start_time": "2021-09-20T08:27:09.590Z"
   },
   {
    "duration": 38,
    "start_time": "2021-09-20T08:30:23.858Z"
   },
   {
    "duration": 298,
    "start_time": "2021-09-20T08:31:52.768Z"
   },
   {
    "duration": 9,
    "start_time": "2021-09-20T08:32:13.714Z"
   },
   {
    "duration": 38,
    "start_time": "2021-09-20T08:32:46.918Z"
   },
   {
    "duration": 148,
    "start_time": "2021-09-20T09:30:42.359Z"
   },
   {
    "duration": 87,
    "start_time": "2021-09-20T09:30:52.378Z"
   },
   {
    "duration": 425,
    "start_time": "2021-09-20T09:31:06.886Z"
   },
   {
    "duration": 43,
    "start_time": "2021-09-20T09:31:45.372Z"
   },
   {
    "duration": 11,
    "start_time": "2021-09-20T09:32:40.924Z"
   },
   {
    "duration": 10,
    "start_time": "2021-09-20T09:33:00.880Z"
   },
   {
    "duration": 40,
    "start_time": "2021-09-20T09:40:01.346Z"
   },
   {
    "duration": 275,
    "start_time": "2021-09-20T09:40:45.489Z"
   },
   {
    "duration": 41,
    "start_time": "2021-09-20T09:40:58.298Z"
   },
   {
    "duration": 13,
    "start_time": "2021-09-20T09:41:54.175Z"
   },
   {
    "duration": 10,
    "start_time": "2021-09-20T09:46:58.814Z"
   },
   {
    "duration": 340,
    "start_time": "2021-09-20T09:47:54.994Z"
   },
   {
    "duration": 6,
    "start_time": "2021-09-20T11:09:18.877Z"
   },
   {
    "duration": 6,
    "start_time": "2021-09-20T11:09:43.288Z"
   },
   {
    "duration": 8,
    "start_time": "2021-09-20T11:09:51.040Z"
   },
   {
    "duration": 41,
    "start_time": "2021-09-20T11:11:00.723Z"
   },
   {
    "duration": 46,
    "start_time": "2021-09-20T11:11:56.302Z"
   },
   {
    "duration": 76,
    "start_time": "2021-09-20T11:12:19.462Z"
   },
   {
    "duration": 19,
    "start_time": "2021-09-20T11:12:31.527Z"
   },
   {
    "duration": 24,
    "start_time": "2021-09-20T11:13:07.375Z"
   },
   {
    "duration": 27,
    "start_time": "2021-09-20T11:14:30.947Z"
   },
   {
    "duration": 7,
    "start_time": "2021-09-20T11:27:54.587Z"
   },
   {
    "duration": 272,
    "start_time": "2021-09-20T11:36:44.784Z"
   },
   {
    "duration": 265,
    "start_time": "2021-09-20T11:37:07.562Z"
   },
   {
    "duration": 9,
    "start_time": "2021-09-20T11:37:27.567Z"
   },
   {
    "duration": 13,
    "start_time": "2021-09-20T11:37:34.691Z"
   },
   {
    "duration": 8,
    "start_time": "2021-09-20T12:19:09.322Z"
   },
   {
    "duration": 47,
    "start_time": "2021-09-20T12:19:38.488Z"
   },
   {
    "duration": 428,
    "start_time": "2021-09-20T12:29:58.441Z"
   },
   {
    "duration": 5784,
    "start_time": "2021-09-20T12:31:04.148Z"
   },
   {
    "duration": 5385,
    "start_time": "2021-09-20T12:33:13.055Z"
   },
   {
    "duration": 353,
    "start_time": "2021-09-20T12:34:09.445Z"
   },
   {
    "duration": 359,
    "start_time": "2021-09-20T12:37:29.503Z"
   },
   {
    "duration": 390,
    "start_time": "2021-09-20T12:38:11.170Z"
   },
   {
    "duration": 353,
    "start_time": "2021-09-20T12:38:31.251Z"
   },
   {
    "duration": 367,
    "start_time": "2021-09-20T12:40:36.983Z"
   },
   {
    "duration": 1035,
    "start_time": "2021-09-20T18:20:38.049Z"
   },
   {
    "duration": 10,
    "start_time": "2021-09-20T18:20:39.087Z"
   },
   {
    "duration": 18,
    "start_time": "2021-09-20T18:20:39.100Z"
   },
   {
    "duration": 8,
    "start_time": "2021-09-20T18:20:39.121Z"
   },
   {
    "duration": 50,
    "start_time": "2021-09-20T18:20:39.132Z"
   },
   {
    "duration": 18,
    "start_time": "2021-09-20T18:20:39.185Z"
   },
   {
    "duration": 17,
    "start_time": "2021-09-20T18:20:39.206Z"
   },
   {
    "duration": 20,
    "start_time": "2021-09-20T18:20:39.226Z"
   },
   {
    "duration": 29,
    "start_time": "2021-09-20T18:20:39.283Z"
   },
   {
    "duration": 13,
    "start_time": "2021-09-20T18:20:39.315Z"
   },
   {
    "duration": 54,
    "start_time": "2021-09-20T18:20:39.330Z"
   },
   {
    "duration": 12,
    "start_time": "2021-09-20T18:20:39.386Z"
   },
   {
    "duration": 24,
    "start_time": "2021-09-20T18:20:39.400Z"
   },
   {
    "duration": 66,
    "start_time": "2021-09-20T18:20:39.428Z"
   },
   {
    "duration": 9,
    "start_time": "2021-09-20T18:20:39.497Z"
   },
   {
    "duration": 14,
    "start_time": "2021-09-20T18:20:39.508Z"
   },
   {
    "duration": 8,
    "start_time": "2021-09-20T18:20:39.525Z"
   },
   {
    "duration": 50,
    "start_time": "2021-09-20T18:20:39.536Z"
   },
   {
    "duration": 21,
    "start_time": "2021-09-20T18:20:39.589Z"
   },
   {
    "duration": 16,
    "start_time": "2021-09-20T18:20:39.612Z"
   },
   {
    "duration": 12,
    "start_time": "2021-09-20T18:20:39.631Z"
   },
   {
    "duration": 428,
    "start_time": "2021-09-20T18:20:39.645Z"
   },
   {
    "duration": 65076,
    "start_time": "2021-09-20T18:19:34.999Z"
   },
   {
    "duration": 65074,
    "start_time": "2021-09-20T18:19:35.002Z"
   },
   {
    "duration": 65076,
    "start_time": "2021-09-20T18:19:35.003Z"
   },
   {
    "duration": 30,
    "start_time": "2021-09-20T18:22:35.805Z"
   },
   {
    "duration": 252,
    "start_time": "2021-09-20T18:24:04.355Z"
   },
   {
    "duration": 262,
    "start_time": "2021-09-20T18:24:14.062Z"
   },
   {
    "duration": 4,
    "start_time": "2021-09-20T18:38:38.107Z"
   },
   {
    "duration": 1314,
    "start_time": "2021-09-20T18:38:41.826Z"
   },
   {
    "duration": 2442,
    "start_time": "2021-09-20T18:41:15.168Z"
   },
   {
    "duration": 8,
    "start_time": "2021-09-20T18:42:00.020Z"
   },
   {
    "duration": 30,
    "start_time": "2021-09-20T18:42:41.883Z"
   },
   {
    "duration": 963,
    "start_time": "2021-09-20T18:44:41.435Z"
   },
   {
    "duration": 10,
    "start_time": "2021-09-20T18:44:42.401Z"
   },
   {
    "duration": 22,
    "start_time": "2021-09-20T18:44:42.414Z"
   },
   {
    "duration": 8,
    "start_time": "2021-09-20T18:44:42.439Z"
   },
   {
    "duration": 39,
    "start_time": "2021-09-20T18:44:42.449Z"
   },
   {
    "duration": 21,
    "start_time": "2021-09-20T18:44:42.491Z"
   },
   {
    "duration": 21,
    "start_time": "2021-09-20T18:44:42.514Z"
   },
   {
    "duration": 47,
    "start_time": "2021-09-20T18:44:42.537Z"
   },
   {
    "duration": 31,
    "start_time": "2021-09-20T18:44:42.588Z"
   },
   {
    "duration": 12,
    "start_time": "2021-09-20T18:44:42.622Z"
   },
   {
    "duration": 56,
    "start_time": "2021-09-20T18:44:42.636Z"
   },
   {
    "duration": 12,
    "start_time": "2021-09-20T18:44:42.694Z"
   },
   {
    "duration": 29,
    "start_time": "2021-09-20T18:44:42.708Z"
   },
   {
    "duration": 58,
    "start_time": "2021-09-20T18:44:42.740Z"
   },
   {
    "duration": 15,
    "start_time": "2021-09-20T18:44:42.800Z"
   },
   {
    "duration": 26,
    "start_time": "2021-09-20T18:44:42.818Z"
   },
   {
    "duration": 9,
    "start_time": "2021-09-20T18:44:42.846Z"
   },
   {
    "duration": 9,
    "start_time": "2021-09-20T18:44:42.858Z"
   },
   {
    "duration": 43,
    "start_time": "2021-09-20T18:44:42.869Z"
   },
   {
    "duration": 13,
    "start_time": "2021-09-20T18:44:42.915Z"
   },
   {
    "duration": 18,
    "start_time": "2021-09-20T18:44:42.930Z"
   },
   {
    "duration": 39,
    "start_time": "2021-09-20T18:44:42.950Z"
   },
   {
    "duration": 13,
    "start_time": "2021-09-20T18:44:42.991Z"
   },
   {
    "duration": 37,
    "start_time": "2021-09-20T18:44:43.006Z"
   },
   {
    "duration": 259,
    "start_time": "2021-09-20T18:44:43.046Z"
   },
   {
    "duration": 28,
    "start_time": "2021-09-20T18:44:43.308Z"
   },
   {
    "duration": 11,
    "start_time": "2021-09-20T18:44:43.340Z"
   },
   {
    "duration": 4,
    "start_time": "2021-09-20T19:03:11.810Z"
   },
   {
    "duration": 1540,
    "start_time": "2021-09-20T19:03:18.397Z"
   },
   {
    "duration": 5,
    "start_time": "2021-09-20T19:05:45.817Z"
   },
   {
    "duration": 34,
    "start_time": "2021-09-20T19:05:48.310Z"
   },
   {
    "duration": 70,
    "start_time": "2021-09-20T19:06:09.264Z"
   },
   {
    "duration": 60,
    "start_time": "2021-09-20T19:06:33.520Z"
   },
   {
    "duration": 269,
    "start_time": "2021-09-20T19:08:44.443Z"
   },
   {
    "duration": 1066,
    "start_time": "2021-09-20T19:09:43.610Z"
   },
   {
    "duration": 10,
    "start_time": "2021-09-20T19:09:44.679Z"
   },
   {
    "duration": 20,
    "start_time": "2021-09-20T19:09:44.693Z"
   },
   {
    "duration": 7,
    "start_time": "2021-09-20T19:09:44.717Z"
   },
   {
    "duration": 65,
    "start_time": "2021-09-20T19:09:44.728Z"
   },
   {
    "duration": 24,
    "start_time": "2021-09-20T19:09:44.806Z"
   },
   {
    "duration": 19,
    "start_time": "2021-09-20T19:09:44.833Z"
   },
   {
    "duration": 39,
    "start_time": "2021-09-20T19:09:44.854Z"
   },
   {
    "duration": 34,
    "start_time": "2021-09-20T19:09:44.899Z"
   },
   {
    "duration": 12,
    "start_time": "2021-09-20T19:09:44.937Z"
   },
   {
    "duration": 86,
    "start_time": "2021-09-20T19:09:44.952Z"
   },
   {
    "duration": 13,
    "start_time": "2021-09-20T19:09:45.040Z"
   },
   {
    "duration": 44,
    "start_time": "2021-09-20T19:09:45.056Z"
   },
   {
    "duration": 26,
    "start_time": "2021-09-20T19:09:45.103Z"
   },
   {
    "duration": 13,
    "start_time": "2021-09-20T19:09:45.131Z"
   },
   {
    "duration": 13,
    "start_time": "2021-09-20T19:09:45.146Z"
   },
   {
    "duration": 17,
    "start_time": "2021-09-20T19:09:45.192Z"
   },
   {
    "duration": 7,
    "start_time": "2021-09-20T19:09:45.212Z"
   },
   {
    "duration": 68,
    "start_time": "2021-09-20T19:09:45.222Z"
   },
   {
    "duration": 16,
    "start_time": "2021-09-20T19:09:45.296Z"
   },
   {
    "duration": 27,
    "start_time": "2021-09-20T19:09:45.315Z"
   },
   {
    "duration": 36,
    "start_time": "2021-09-20T19:09:45.346Z"
   },
   {
    "duration": 34,
    "start_time": "2021-09-20T19:09:45.385Z"
   },
   {
    "duration": 296,
    "start_time": "2021-09-20T19:09:45.421Z"
   },
   {
    "duration": 348,
    "start_time": "2021-09-20T19:09:45.720Z"
   },
   {
    "duration": 13,
    "start_time": "2021-09-20T19:09:46.071Z"
   },
   {
    "duration": 17,
    "start_time": "2021-09-20T19:09:46.090Z"
   },
   {
    "duration": 44,
    "start_time": "2021-09-20T19:09:46.110Z"
   },
   {
    "duration": 19,
    "start_time": "2021-09-20T19:09:46.183Z"
   },
   {
    "duration": 5,
    "start_time": "2021-09-20T19:27:42.962Z"
   },
   {
    "duration": 1484,
    "start_time": "2021-09-20T19:29:53.037Z"
   },
   {
    "duration": 54,
    "start_time": "2021-09-20T19:31:24.067Z"
   },
   {
    "duration": 47,
    "start_time": "2021-09-20T19:31:36.258Z"
   },
   {
    "duration": 1620,
    "start_time": "2021-09-20T19:33:22.203Z"
   },
   {
    "duration": 2402,
    "start_time": "2021-09-20T19:33:43.349Z"
   },
   {
    "duration": 26,
    "start_time": "2021-09-20T19:34:12.659Z"
   },
   {
    "duration": 46,
    "start_time": "2021-09-20T19:34:21.710Z"
   },
   {
    "duration": 67,
    "start_time": "2021-09-20T19:34:40.055Z"
   },
   {
    "duration": 692,
    "start_time": "2021-09-21T09:01:48.875Z"
   },
   {
    "duration": 6,
    "start_time": "2021-09-21T09:01:49.568Z"
   },
   {
    "duration": 10,
    "start_time": "2021-09-21T09:01:49.577Z"
   },
   {
    "duration": 6,
    "start_time": "2021-09-21T09:01:49.588Z"
   },
   {
    "duration": 8,
    "start_time": "2021-09-21T09:01:49.596Z"
   },
   {
    "duration": 13,
    "start_time": "2021-09-21T09:01:49.606Z"
   },
   {
    "duration": 26,
    "start_time": "2021-09-21T09:01:49.621Z"
   },
   {
    "duration": 13,
    "start_time": "2021-09-21T09:01:49.649Z"
   },
   {
    "duration": 17,
    "start_time": "2021-09-21T09:01:49.664Z"
   },
   {
    "duration": 18,
    "start_time": "2021-09-21T09:01:49.682Z"
   },
   {
    "duration": 14,
    "start_time": "2021-09-21T09:01:49.701Z"
   },
   {
    "duration": 33,
    "start_time": "2021-09-21T09:01:49.717Z"
   },
   {
    "duration": 13,
    "start_time": "2021-09-21T09:01:49.752Z"
   },
   {
    "duration": 14,
    "start_time": "2021-09-21T09:01:49.766Z"
   },
   {
    "duration": 5,
    "start_time": "2021-09-21T09:01:49.782Z"
   },
   {
    "duration": 6,
    "start_time": "2021-09-21T09:01:49.789Z"
   },
   {
    "duration": 4,
    "start_time": "2021-09-21T09:01:49.797Z"
   },
   {
    "duration": 3,
    "start_time": "2021-09-21T09:01:49.802Z"
   },
   {
    "duration": 52,
    "start_time": "2021-09-21T09:01:49.806Z"
   },
   {
    "duration": 4,
    "start_time": "2021-09-21T09:01:49.860Z"
   },
   {
    "duration": 21,
    "start_time": "2021-09-21T09:01:49.865Z"
   },
   {
    "duration": 12,
    "start_time": "2021-09-21T09:01:49.888Z"
   },
   {
    "duration": 15,
    "start_time": "2021-09-21T09:01:49.902Z"
   },
   {
    "duration": 143,
    "start_time": "2021-09-21T09:01:49.918Z"
   },
   {
    "duration": 137,
    "start_time": "2021-09-21T09:01:50.063Z"
   },
   {
    "duration": 3,
    "start_time": "2021-09-21T09:01:50.202Z"
   },
   {
    "duration": 8,
    "start_time": "2021-09-21T09:01:50.206Z"
   },
   {
    "duration": 17,
    "start_time": "2021-09-21T09:01:50.215Z"
   },
   {
    "duration": 3,
    "start_time": "2021-09-21T09:01:50.244Z"
   },
   {
    "duration": 23,
    "start_time": "2021-09-21T09:01:50.252Z"
   },
   {
    "duration": 473,
    "start_time": "2021-09-21T09:04:05.728Z"
   },
   {
    "duration": 462,
    "start_time": "2021-09-21T09:04:23.945Z"
   },
   {
    "duration": 137,
    "start_time": "2021-09-21T09:05:02.709Z"
   },
   {
    "duration": 129,
    "start_time": "2021-09-21T09:05:13.366Z"
   },
   {
    "duration": 129,
    "start_time": "2021-09-21T09:05:27.674Z"
   },
   {
    "duration": 96,
    "start_time": "2021-09-21T09:06:19.929Z"
   },
   {
    "duration": 136,
    "start_time": "2021-09-21T09:08:12.384Z"
   },
   {
    "duration": 121,
    "start_time": "2021-09-21T09:08:55.589Z"
   },
   {
    "duration": 128,
    "start_time": "2021-09-21T09:09:10.707Z"
   },
   {
    "duration": 132,
    "start_time": "2021-09-21T09:09:47.873Z"
   },
   {
    "duration": 135,
    "start_time": "2021-09-21T09:10:01.248Z"
   },
   {
    "duration": 132,
    "start_time": "2021-09-21T09:10:23.122Z"
   },
   {
    "duration": 53263,
    "start_time": "2021-09-21T09:18:36.467Z"
   },
   {
    "duration": 4,
    "start_time": "2021-09-21T09:19:59.433Z"
   },
   {
    "duration": 26,
    "start_time": "2021-09-21T09:20:20.747Z"
   },
   {
    "duration": 24,
    "start_time": "2021-09-21T09:20:51.243Z"
   },
   {
    "duration": 23,
    "start_time": "2021-09-21T09:21:00.276Z"
   },
   {
    "duration": 735,
    "start_time": "2021-09-21T09:29:53.230Z"
   },
   {
    "duration": 6,
    "start_time": "2021-09-21T09:29:53.967Z"
   },
   {
    "duration": 32,
    "start_time": "2021-09-21T09:29:53.977Z"
   },
   {
    "duration": 14,
    "start_time": "2021-09-21T09:29:54.010Z"
   },
   {
    "duration": 21,
    "start_time": "2021-09-21T09:29:54.026Z"
   },
   {
    "duration": 27,
    "start_time": "2021-09-21T09:29:54.049Z"
   },
   {
    "duration": 19,
    "start_time": "2021-09-21T09:29:54.078Z"
   },
   {
    "duration": 22,
    "start_time": "2021-09-21T09:29:54.099Z"
   },
   {
    "duration": 30,
    "start_time": "2021-09-21T09:29:54.123Z"
   },
   {
    "duration": 22,
    "start_time": "2021-09-21T09:29:54.155Z"
   },
   {
    "duration": 33,
    "start_time": "2021-09-21T09:29:54.178Z"
   },
   {
    "duration": 15,
    "start_time": "2021-09-21T09:29:54.212Z"
   },
   {
    "duration": 33,
    "start_time": "2021-09-21T09:29:54.229Z"
   },
   {
    "duration": 19,
    "start_time": "2021-09-21T09:29:54.264Z"
   },
   {
    "duration": 4,
    "start_time": "2021-09-21T09:29:54.285Z"
   },
   {
    "duration": 23,
    "start_time": "2021-09-21T09:29:54.290Z"
   },
   {
    "duration": 10,
    "start_time": "2021-09-21T09:29:54.314Z"
   },
   {
    "duration": 12,
    "start_time": "2021-09-21T09:29:54.325Z"
   },
   {
    "duration": 24,
    "start_time": "2021-09-21T09:29:54.338Z"
   },
   {
    "duration": 5,
    "start_time": "2021-09-21T09:29:54.363Z"
   },
   {
    "duration": 31,
    "start_time": "2021-09-21T09:29:54.369Z"
   },
   {
    "duration": 19,
    "start_time": "2021-09-21T09:29:54.403Z"
   },
   {
    "duration": 21,
    "start_time": "2021-09-21T09:29:54.424Z"
   },
   {
    "duration": 135,
    "start_time": "2021-09-21T09:29:54.446Z"
   },
   {
    "duration": 138,
    "start_time": "2021-09-21T09:29:54.583Z"
   },
   {
    "duration": 3,
    "start_time": "2021-09-21T09:29:54.723Z"
   },
   {
    "duration": 16,
    "start_time": "2021-09-21T09:29:54.728Z"
   },
   {
    "duration": 18,
    "start_time": "2021-09-21T09:29:54.746Z"
   },
   {
    "duration": 20,
    "start_time": "2021-09-21T09:29:54.766Z"
   },
   {
    "duration": 33,
    "start_time": "2021-09-21T09:29:54.788Z"
   },
   {
    "duration": 3,
    "start_time": "2021-09-21T09:29:54.822Z"
   },
   {
    "duration": 13,
    "start_time": "2021-09-21T09:29:54.827Z"
   },
   {
    "duration": 4,
    "start_time": "2021-09-21T09:30:03.510Z"
   },
   {
    "duration": 26,
    "start_time": "2021-09-21T09:30:05.940Z"
   },
   {
    "duration": 29,
    "start_time": "2021-09-21T09:48:42.558Z"
   },
   {
    "duration": 25,
    "start_time": "2021-09-21T09:48:52.997Z"
   },
   {
    "duration": 24,
    "start_time": "2021-09-21T09:49:06.420Z"
   },
   {
    "duration": 28,
    "start_time": "2021-09-21T09:50:52.189Z"
   },
   {
    "duration": 350,
    "start_time": "2021-09-21T09:51:56.329Z"
   },
   {
    "duration": 256,
    "start_time": "2021-09-21T09:52:16.074Z"
   },
   {
    "duration": 258,
    "start_time": "2021-09-21T09:52:25.442Z"
   },
   {
    "duration": 6,
    "start_time": "2021-09-21T09:53:18.660Z"
   },
   {
    "duration": 7,
    "start_time": "2021-09-21T09:54:18.290Z"
   },
   {
    "duration": 259,
    "start_time": "2021-09-21T09:57:13.731Z"
   },
   {
    "duration": 8,
    "start_time": "2021-09-21T09:58:09.542Z"
   },
   {
    "duration": 21,
    "start_time": "2021-09-21T09:58:52.196Z"
   },
   {
    "duration": 6,
    "start_time": "2021-09-21T09:59:00.686Z"
   },
   {
    "duration": 9,
    "start_time": "2021-09-21T09:59:27.349Z"
   },
   {
    "duration": 257,
    "start_time": "2021-09-21T09:59:52.910Z"
   },
   {
    "duration": 269,
    "start_time": "2021-09-21T10:01:03.093Z"
   },
   {
    "duration": 344,
    "start_time": "2021-09-21T10:01:26.705Z"
   },
   {
    "duration": 6,
    "start_time": "2021-09-21T10:01:45.908Z"
   },
   {
    "duration": 6,
    "start_time": "2021-09-21T10:01:48.065Z"
   },
   {
    "duration": 55,
    "start_time": "2021-09-21T10:05:20.213Z"
   },
   {
    "duration": 40,
    "start_time": "2021-09-21T10:06:00.032Z"
   },
   {
    "duration": 36,
    "start_time": "2021-09-21T10:07:26.728Z"
   },
   {
    "duration": 14,
    "start_time": "2021-09-21T10:07:37.592Z"
   },
   {
    "duration": 19,
    "start_time": "2021-09-21T10:08:50.935Z"
   },
   {
    "duration": 299,
    "start_time": "2021-09-21T10:09:47.053Z"
   },
   {
    "duration": 15,
    "start_time": "2021-09-21T10:09:56.040Z"
   },
   {
    "duration": 22,
    "start_time": "2021-09-21T10:10:50.841Z"
   },
   {
    "duration": 86,
    "start_time": "2021-09-21T10:22:02.362Z"
   },
   {
    "duration": 264,
    "start_time": "2021-09-21T10:22:37.275Z"
   },
   {
    "duration": 19,
    "start_time": "2021-09-21T10:24:10.173Z"
   },
   {
    "duration": 18,
    "start_time": "2021-09-21T10:24:47.616Z"
   },
   {
    "duration": 20,
    "start_time": "2021-09-21T10:31:13.311Z"
   },
   {
    "duration": 18,
    "start_time": "2021-09-21T10:31:36.082Z"
   },
   {
    "duration": 32,
    "start_time": "2021-09-21T10:41:36.182Z"
   },
   {
    "duration": 44,
    "start_time": "2021-09-21T10:41:44.204Z"
   },
   {
    "duration": 38,
    "start_time": "2021-09-21T10:42:00.320Z"
   },
   {
    "duration": 22,
    "start_time": "2021-09-21T10:42:24.969Z"
   },
   {
    "duration": 34,
    "start_time": "2021-09-21T10:42:52.040Z"
   },
   {
    "duration": 28,
    "start_time": "2021-09-21T10:43:07.104Z"
   },
   {
    "duration": 33,
    "start_time": "2021-09-21T10:45:37.305Z"
   },
   {
    "duration": 22,
    "start_time": "2021-09-21T10:48:23.774Z"
   },
   {
    "duration": 3,
    "start_time": "2021-09-21T10:48:34.946Z"
   },
   {
    "duration": 16,
    "start_time": "2021-09-21T10:48:38.205Z"
   },
   {
    "duration": 21,
    "start_time": "2021-09-21T10:48:48.678Z"
   },
   {
    "duration": 786,
    "start_time": "2021-09-21T10:49:02.789Z"
   },
   {
    "duration": 6,
    "start_time": "2021-09-21T10:49:03.577Z"
   },
   {
    "duration": 12,
    "start_time": "2021-09-21T10:49:03.585Z"
   },
   {
    "duration": 5,
    "start_time": "2021-09-21T10:49:03.599Z"
   },
   {
    "duration": 11,
    "start_time": "2021-09-21T10:49:03.605Z"
   },
   {
    "duration": 14,
    "start_time": "2021-09-21T10:49:03.617Z"
   },
   {
    "duration": 20,
    "start_time": "2021-09-21T10:49:03.632Z"
   },
   {
    "duration": 13,
    "start_time": "2021-09-21T10:49:03.654Z"
   },
   {
    "duration": 17,
    "start_time": "2021-09-21T10:49:03.669Z"
   },
   {
    "duration": 8,
    "start_time": "2021-09-21T10:49:03.688Z"
   },
   {
    "duration": 15,
    "start_time": "2021-09-21T10:49:03.698Z"
   },
   {
    "duration": 36,
    "start_time": "2021-09-21T10:49:03.715Z"
   },
   {
    "duration": 14,
    "start_time": "2021-09-21T10:49:03.753Z"
   },
   {
    "duration": 15,
    "start_time": "2021-09-21T10:49:03.768Z"
   },
   {
    "duration": 8,
    "start_time": "2021-09-21T10:49:03.785Z"
   },
   {
    "duration": 9,
    "start_time": "2021-09-21T10:49:03.794Z"
   },
   {
    "duration": 7,
    "start_time": "2021-09-21T10:49:03.804Z"
   },
   {
    "duration": 3,
    "start_time": "2021-09-21T10:49:03.813Z"
   },
   {
    "duration": 20,
    "start_time": "2021-09-21T10:49:03.844Z"
   },
   {
    "duration": 6,
    "start_time": "2021-09-21T10:49:03.866Z"
   },
   {
    "duration": 11,
    "start_time": "2021-09-21T10:49:03.873Z"
   },
   {
    "duration": 11,
    "start_time": "2021-09-21T10:49:03.886Z"
   },
   {
    "duration": 46,
    "start_time": "2021-09-21T10:49:03.899Z"
   },
   {
    "duration": 144,
    "start_time": "2021-09-21T10:49:03.947Z"
   },
   {
    "duration": 135,
    "start_time": "2021-09-21T10:49:04.093Z"
   },
   {
    "duration": 3,
    "start_time": "2021-09-21T10:49:04.230Z"
   },
   {
    "duration": 15,
    "start_time": "2021-09-21T10:49:04.235Z"
   },
   {
    "duration": 17,
    "start_time": "2021-09-21T10:49:04.251Z"
   },
   {
    "duration": 4,
    "start_time": "2021-09-21T10:49:04.270Z"
   },
   {
    "duration": 24,
    "start_time": "2021-09-21T10:49:04.275Z"
   },
   {
    "duration": 51,
    "start_time": "2021-09-21T10:49:04.300Z"
   },
   {
    "duration": 4,
    "start_time": "2021-09-21T10:49:04.353Z"
   },
   {
    "duration": 21,
    "start_time": "2021-09-21T10:49:04.359Z"
   },
   {
    "duration": 22,
    "start_time": "2021-09-21T10:49:04.382Z"
   },
   {
    "duration": 17,
    "start_time": "2021-09-21T10:49:16.594Z"
   },
   {
    "duration": 16,
    "start_time": "2021-09-21T10:49:25.823Z"
   },
   {
    "duration": 5,
    "start_time": "2021-09-21T10:49:33.050Z"
   },
   {
    "duration": 22,
    "start_time": "2021-09-21T10:49:41.631Z"
   },
   {
    "duration": 765,
    "start_time": "2021-09-21T10:52:21.371Z"
   },
   {
    "duration": 6,
    "start_time": "2021-09-21T10:52:22.138Z"
   },
   {
    "duration": 14,
    "start_time": "2021-09-21T10:52:22.146Z"
   },
   {
    "duration": 5,
    "start_time": "2021-09-21T10:52:22.162Z"
   },
   {
    "duration": 15,
    "start_time": "2021-09-21T10:52:22.168Z"
   },
   {
    "duration": 16,
    "start_time": "2021-09-21T10:52:22.184Z"
   },
   {
    "duration": 12,
    "start_time": "2021-09-21T10:52:22.202Z"
   },
   {
    "duration": 35,
    "start_time": "2021-09-21T10:52:22.216Z"
   },
   {
    "duration": 18,
    "start_time": "2021-09-21T10:52:22.253Z"
   },
   {
    "duration": 9,
    "start_time": "2021-09-21T10:52:22.273Z"
   },
   {
    "duration": 26,
    "start_time": "2021-09-21T10:52:22.284Z"
   },
   {
    "duration": 35,
    "start_time": "2021-09-21T10:52:22.312Z"
   },
   {
    "duration": 14,
    "start_time": "2021-09-21T10:52:22.349Z"
   },
   {
    "duration": 19,
    "start_time": "2021-09-21T10:52:22.364Z"
   },
   {
    "duration": 13,
    "start_time": "2021-09-21T10:52:22.386Z"
   },
   {
    "duration": 10,
    "start_time": "2021-09-21T10:52:22.401Z"
   },
   {
    "duration": 5,
    "start_time": "2021-09-21T10:52:22.412Z"
   },
   {
    "duration": 26,
    "start_time": "2021-09-21T10:52:22.418Z"
   },
   {
    "duration": 24,
    "start_time": "2021-09-21T10:52:22.446Z"
   },
   {
    "duration": 11,
    "start_time": "2021-09-21T10:52:22.472Z"
   },
   {
    "duration": 20,
    "start_time": "2021-09-21T10:52:22.485Z"
   },
   {
    "duration": 20,
    "start_time": "2021-09-21T10:52:22.506Z"
   },
   {
    "duration": 16,
    "start_time": "2021-09-21T10:52:22.529Z"
   },
   {
    "duration": 158,
    "start_time": "2021-09-21T10:52:22.547Z"
   },
   {
    "duration": 227,
    "start_time": "2021-09-21T10:52:22.707Z"
   },
   {
    "duration": 8,
    "start_time": "2021-09-21T10:52:22.936Z"
   },
   {
    "duration": 10,
    "start_time": "2021-09-21T10:52:22.946Z"
   },
   {
    "duration": 20,
    "start_time": "2021-09-21T10:52:22.958Z"
   },
   {
    "duration": 3,
    "start_time": "2021-09-21T10:52:22.980Z"
   },
   {
    "duration": 22,
    "start_time": "2021-09-21T10:52:22.985Z"
   },
   {
    "duration": 39,
    "start_time": "2021-09-21T10:52:23.009Z"
   },
   {
    "duration": 2,
    "start_time": "2021-09-21T10:52:23.049Z"
   },
   {
    "duration": 8,
    "start_time": "2021-09-21T10:52:23.053Z"
   },
   {
    "duration": 56,
    "start_time": "2021-09-21T10:53:10.363Z"
   },
   {
    "duration": 4,
    "start_time": "2021-09-21T10:53:17.828Z"
   },
   {
    "duration": 42,
    "start_time": "2021-09-21T10:53:19.953Z"
   },
   {
    "duration": 16,
    "start_time": "2021-09-21T10:53:39.498Z"
   },
   {
    "duration": 33,
    "start_time": "2021-09-21T10:53:47.635Z"
   },
   {
    "duration": 26,
    "start_time": "2021-09-21T10:54:16.351Z"
   },
   {
    "duration": 22,
    "start_time": "2021-09-21T11:28:50.573Z"
   },
   {
    "duration": 1216,
    "start_time": "2021-09-21T11:32:04.545Z"
   },
   {
    "duration": 6,
    "start_time": "2021-09-21T11:32:05.763Z"
   },
   {
    "duration": 17,
    "start_time": "2021-09-21T11:32:05.771Z"
   },
   {
    "duration": 8,
    "start_time": "2021-09-21T11:32:05.790Z"
   },
   {
    "duration": 8,
    "start_time": "2021-09-21T11:32:05.800Z"
   },
   {
    "duration": 38,
    "start_time": "2021-09-21T11:32:05.809Z"
   },
   {
    "duration": 16,
    "start_time": "2021-09-21T11:32:05.849Z"
   },
   {
    "duration": 14,
    "start_time": "2021-09-21T11:32:05.868Z"
   },
   {
    "duration": 18,
    "start_time": "2021-09-21T11:32:05.884Z"
   },
   {
    "duration": 40,
    "start_time": "2021-09-21T11:32:05.904Z"
   },
   {
    "duration": 21,
    "start_time": "2021-09-21T11:32:05.947Z"
   },
   {
    "duration": 8,
    "start_time": "2021-09-21T11:32:05.970Z"
   },
   {
    "duration": 16,
    "start_time": "2021-09-21T11:32:05.979Z"
   },
   {
    "duration": 13,
    "start_time": "2021-09-21T11:32:05.997Z"
   },
   {
    "duration": 5,
    "start_time": "2021-09-21T11:32:06.012Z"
   },
   {
    "duration": 11,
    "start_time": "2021-09-21T11:32:06.044Z"
   },
   {
    "duration": 5,
    "start_time": "2021-09-21T11:32:06.057Z"
   },
   {
    "duration": 3,
    "start_time": "2021-09-21T11:32:06.065Z"
   },
   {
    "duration": 18,
    "start_time": "2021-09-21T11:32:06.070Z"
   },
   {
    "duration": 3,
    "start_time": "2021-09-21T11:32:06.090Z"
   },
   {
    "duration": 10,
    "start_time": "2021-09-21T11:32:06.095Z"
   },
   {
    "duration": 46,
    "start_time": "2021-09-21T11:32:06.106Z"
   },
   {
    "duration": 16,
    "start_time": "2021-09-21T11:32:06.155Z"
   },
   {
    "duration": 160,
    "start_time": "2021-09-21T11:32:06.172Z"
   },
   {
    "duration": 145,
    "start_time": "2021-09-21T11:32:06.333Z"
   },
   {
    "duration": 3,
    "start_time": "2021-09-21T11:32:06.479Z"
   },
   {
    "duration": 14,
    "start_time": "2021-09-21T11:32:06.483Z"
   },
   {
    "duration": 24,
    "start_time": "2021-09-21T11:32:06.499Z"
   },
   {
    "duration": 2,
    "start_time": "2021-09-21T11:32:06.525Z"
   },
   {
    "duration": 29,
    "start_time": "2021-09-21T11:32:06.529Z"
   },
   {
    "duration": 33,
    "start_time": "2021-09-21T11:32:06.561Z"
   },
   {
    "duration": 5,
    "start_time": "2021-09-21T11:32:06.596Z"
   },
   {
    "duration": 42,
    "start_time": "2021-09-21T11:32:06.603Z"
   },
   {
    "duration": 393,
    "start_time": "2021-09-21T11:32:06.647Z"
   },
   {
    "duration": 217,
    "start_time": "2021-09-21T11:33:22.229Z"
   },
   {
    "duration": 223,
    "start_time": "2021-09-21T11:33:39.900Z"
   },
   {
    "duration": 261,
    "start_time": "2021-09-21T11:33:53.836Z"
   },
   {
    "duration": 169,
    "start_time": "2021-09-21T11:34:04.428Z"
   },
   {
    "duration": 193,
    "start_time": "2021-09-21T11:34:10.078Z"
   },
   {
    "duration": 195,
    "start_time": "2021-09-21T11:34:26.587Z"
   },
   {
    "duration": 304,
    "start_time": "2021-09-21T11:35:02.876Z"
   },
   {
    "duration": 199,
    "start_time": "2021-09-21T11:35:09.497Z"
   },
   {
    "duration": 191,
    "start_time": "2021-09-21T11:35:18.923Z"
   },
   {
    "duration": 253,
    "start_time": "2021-09-21T11:35:29.040Z"
   },
   {
    "duration": 212,
    "start_time": "2021-09-21T11:35:33.223Z"
   },
   {
    "duration": 195,
    "start_time": "2021-09-21T11:35:45.831Z"
   },
   {
    "duration": 199,
    "start_time": "2021-09-21T11:36:06.169Z"
   },
   {
    "duration": 205,
    "start_time": "2021-09-21T11:36:16.425Z"
   },
   {
    "duration": 205,
    "start_time": "2021-09-21T11:36:27.661Z"
   },
   {
    "duration": 164,
    "start_time": "2021-09-21T11:36:31.557Z"
   },
   {
    "duration": 182,
    "start_time": "2021-09-21T11:36:52.469Z"
   },
   {
    "duration": 249,
    "start_time": "2021-09-21T11:38:42.898Z"
   },
   {
    "duration": 174,
    "start_time": "2021-09-21T11:39:12.378Z"
   },
   {
    "duration": 172,
    "start_time": "2021-09-21T11:39:18.091Z"
   },
   {
    "duration": 162,
    "start_time": "2021-09-21T11:39:27.061Z"
   },
   {
    "duration": 178,
    "start_time": "2021-09-21T11:39:31.246Z"
   },
   {
    "duration": 166,
    "start_time": "2021-09-21T11:39:38.099Z"
   },
   {
    "duration": 169,
    "start_time": "2021-09-21T11:40:21.529Z"
   },
   {
    "duration": 65580,
    "start_time": "2021-09-21T11:42:34.460Z"
   },
   {
    "duration": 65579,
    "start_time": "2021-09-21T11:42:34.462Z"
   },
   {
    "duration": 35,
    "start_time": "2021-09-21T11:43:42.365Z"
   },
   {
    "duration": 266,
    "start_time": "2021-09-21T11:44:22.687Z"
   },
   {
    "duration": 9,
    "start_time": "2021-09-21T11:44:39.855Z"
   },
   {
    "duration": 6,
    "start_time": "2021-09-21T11:45:28.939Z"
   },
   {
    "duration": 65581,
    "start_time": "2021-09-21T11:45:58.566Z"
   },
   {
    "duration": 1166,
    "start_time": "2021-09-21T11:47:12.812Z"
   },
   {
    "duration": 6,
    "start_time": "2021-09-21T11:47:13.980Z"
   },
   {
    "duration": 13,
    "start_time": "2021-09-21T11:47:13.988Z"
   },
   {
    "duration": 5,
    "start_time": "2021-09-21T11:47:14.003Z"
   },
   {
    "duration": 9,
    "start_time": "2021-09-21T11:47:14.009Z"
   },
   {
    "duration": 13,
    "start_time": "2021-09-21T11:47:14.020Z"
   },
   {
    "duration": 14,
    "start_time": "2021-09-21T11:47:14.035Z"
   },
   {
    "duration": 18,
    "start_time": "2021-09-21T11:47:14.051Z"
   },
   {
    "duration": 17,
    "start_time": "2021-09-21T11:47:14.071Z"
   },
   {
    "duration": 7,
    "start_time": "2021-09-21T11:47:14.089Z"
   },
   {
    "duration": 15,
    "start_time": "2021-09-21T11:47:14.098Z"
   },
   {
    "duration": 36,
    "start_time": "2021-09-21T11:47:14.114Z"
   },
   {
    "duration": 18,
    "start_time": "2021-09-21T11:47:14.152Z"
   },
   {
    "duration": 15,
    "start_time": "2021-09-21T11:47:14.171Z"
   },
   {
    "duration": 5,
    "start_time": "2021-09-21T11:47:14.188Z"
   },
   {
    "duration": 10,
    "start_time": "2021-09-21T11:47:14.195Z"
   },
   {
    "duration": 4,
    "start_time": "2021-09-21T11:47:14.207Z"
   },
   {
    "duration": 5,
    "start_time": "2021-09-21T11:47:14.213Z"
   },
   {
    "duration": 21,
    "start_time": "2021-09-21T11:47:14.249Z"
   },
   {
    "duration": 3,
    "start_time": "2021-09-21T11:47:14.272Z"
   },
   {
    "duration": 10,
    "start_time": "2021-09-21T11:47:14.277Z"
   },
   {
    "duration": 13,
    "start_time": "2021-09-21T11:47:14.289Z"
   },
   {
    "duration": 15,
    "start_time": "2021-09-21T11:47:14.304Z"
   },
   {
    "duration": 174,
    "start_time": "2021-09-21T11:47:14.320Z"
   },
   {
    "duration": 136,
    "start_time": "2021-09-21T11:47:14.496Z"
   },
   {
    "duration": 10,
    "start_time": "2021-09-21T11:47:14.634Z"
   },
   {
    "duration": 11,
    "start_time": "2021-09-21T11:47:14.649Z"
   },
   {
    "duration": 19,
    "start_time": "2021-09-21T11:47:14.662Z"
   },
   {
    "duration": 3,
    "start_time": "2021-09-21T11:47:14.683Z"
   },
   {
    "duration": 26,
    "start_time": "2021-09-21T11:47:14.687Z"
   },
   {
    "duration": 33,
    "start_time": "2021-09-21T11:47:14.714Z"
   },
   {
    "duration": 6,
    "start_time": "2021-09-21T11:47:14.750Z"
   },
   {
    "duration": 25,
    "start_time": "2021-09-21T11:47:14.758Z"
   },
   {
    "duration": 5,
    "start_time": "2021-09-21T11:47:14.785Z"
   },
   {
    "duration": 185,
    "start_time": "2021-09-21T11:47:14.791Z"
   },
   {
    "duration": 376,
    "start_time": "2021-09-21T12:01:18.414Z"
   },
   {
    "duration": 4,
    "start_time": "2021-09-21T12:01:46.417Z"
   },
   {
    "duration": 83,
    "start_time": "2021-09-21T12:03:09.020Z"
   },
   {
    "duration": 318,
    "start_time": "2021-09-21T12:03:13.616Z"
   },
   {
    "duration": 3,
    "start_time": "2021-09-21T12:03:39.644Z"
   },
   {
    "duration": 3,
    "start_time": "2021-09-21T12:04:09.372Z"
   },
   {
    "duration": 175,
    "start_time": "2021-09-21T12:04:59.133Z"
   },
   {
    "duration": 296,
    "start_time": "2021-09-21T12:06:35.473Z"
   },
   {
    "duration": 28,
    "start_time": "2021-09-21T12:06:59.527Z"
   },
   {
    "duration": 12,
    "start_time": "2021-09-21T12:07:18.483Z"
   },
   {
    "duration": 17,
    "start_time": "2021-09-21T12:07:44.734Z"
   },
   {
    "duration": 19,
    "start_time": "2021-09-21T12:08:05.148Z"
   },
   {
    "duration": 411,
    "start_time": "2021-09-21T12:08:51.619Z"
   },
   {
    "duration": 151,
    "start_time": "2021-09-21T12:08:56.590Z"
   },
   {
    "duration": 12,
    "start_time": "2021-09-21T12:11:01.311Z"
   },
   {
    "duration": 13,
    "start_time": "2021-09-21T12:11:32.156Z"
   },
   {
    "duration": 19,
    "start_time": "2021-09-21T12:13:42.872Z"
   },
   {
    "duration": 15,
    "start_time": "2021-09-21T12:14:44.562Z"
   },
   {
    "duration": 19,
    "start_time": "2021-09-21T12:14:52.994Z"
   },
   {
    "duration": 280,
    "start_time": "2021-09-21T13:28:25.219Z"
   },
   {
    "duration": 45,
    "start_time": "2021-09-21T13:28:45.255Z"
   },
   {
    "duration": 20,
    "start_time": "2021-09-21T13:29:29.119Z"
   },
   {
    "duration": 21,
    "start_time": "2021-09-21T13:38:56.133Z"
   },
   {
    "duration": 21,
    "start_time": "2021-09-21T13:39:09.082Z"
   },
   {
    "duration": 540,
    "start_time": "2021-09-21T13:55:25.044Z"
   },
   {
    "duration": 587,
    "start_time": "2021-09-21T13:56:15.225Z"
   },
   {
    "duration": 535,
    "start_time": "2021-09-21T13:57:06.624Z"
   },
   {
    "duration": 5,
    "start_time": "2021-09-21T13:57:15.908Z"
   },
   {
    "duration": 435,
    "start_time": "2021-09-21T14:00:20.088Z"
   },
   {
    "duration": 566,
    "start_time": "2021-09-21T14:00:36.188Z"
   },
   {
    "duration": 245,
    "start_time": "2021-09-21T14:01:03.534Z"
   },
   {
    "duration": 1262,
    "start_time": "2021-09-21T14:01:31.515Z"
   },
   {
    "duration": 6,
    "start_time": "2021-09-21T14:01:32.779Z"
   },
   {
    "duration": 22,
    "start_time": "2021-09-21T14:01:32.787Z"
   },
   {
    "duration": 22,
    "start_time": "2021-09-21T14:01:32.810Z"
   },
   {
    "duration": 13,
    "start_time": "2021-09-21T14:01:32.834Z"
   },
   {
    "duration": 22,
    "start_time": "2021-09-21T14:01:32.848Z"
   },
   {
    "duration": 38,
    "start_time": "2021-09-21T14:01:32.872Z"
   },
   {
    "duration": 14,
    "start_time": "2021-09-21T14:01:32.913Z"
   },
   {
    "duration": 28,
    "start_time": "2021-09-21T14:01:32.930Z"
   },
   {
    "duration": 13,
    "start_time": "2021-09-21T14:01:32.960Z"
   },
   {
    "duration": 24,
    "start_time": "2021-09-21T14:01:32.975Z"
   },
   {
    "duration": 23,
    "start_time": "2021-09-21T14:01:33.001Z"
   },
   {
    "duration": 24,
    "start_time": "2021-09-21T14:01:33.025Z"
   },
   {
    "duration": 35,
    "start_time": "2021-09-21T14:01:33.051Z"
   },
   {
    "duration": 7,
    "start_time": "2021-09-21T14:01:33.088Z"
   },
   {
    "duration": 28,
    "start_time": "2021-09-21T14:01:33.097Z"
   },
   {
    "duration": 10,
    "start_time": "2021-09-21T14:01:33.126Z"
   },
   {
    "duration": 9,
    "start_time": "2021-09-21T14:01:33.138Z"
   },
   {
    "duration": 28,
    "start_time": "2021-09-21T14:01:33.149Z"
   },
   {
    "duration": 19,
    "start_time": "2021-09-21T14:01:33.179Z"
   },
   {
    "duration": 14,
    "start_time": "2021-09-21T14:01:33.200Z"
   },
   {
    "duration": 23,
    "start_time": "2021-09-21T14:01:33.216Z"
   },
   {
    "duration": 33,
    "start_time": "2021-09-21T14:01:33.242Z"
   },
   {
    "duration": 152,
    "start_time": "2021-09-21T14:01:33.277Z"
   },
   {
    "duration": 158,
    "start_time": "2021-09-21T14:01:33.430Z"
   },
   {
    "duration": 3,
    "start_time": "2021-09-21T14:01:33.589Z"
   },
   {
    "duration": 22,
    "start_time": "2021-09-21T14:01:33.593Z"
   },
   {
    "duration": 21,
    "start_time": "2021-09-21T14:01:33.616Z"
   },
   {
    "duration": 9,
    "start_time": "2021-09-21T14:01:33.638Z"
   },
   {
    "duration": 28,
    "start_time": "2021-09-21T14:01:33.649Z"
   },
   {
    "duration": 32,
    "start_time": "2021-09-21T14:01:33.678Z"
   },
   {
    "duration": 3,
    "start_time": "2021-09-21T14:01:33.712Z"
   },
   {
    "duration": 49,
    "start_time": "2021-09-21T14:01:33.717Z"
   },
   {
    "duration": 5,
    "start_time": "2021-09-21T14:01:33.768Z"
   },
   {
    "duration": 19,
    "start_time": "2021-09-21T14:01:33.774Z"
   },
   {
    "duration": 10,
    "start_time": "2021-09-21T14:01:33.795Z"
   },
   {
    "duration": 190,
    "start_time": "2021-09-21T14:01:33.806Z"
   },
   {
    "duration": 13,
    "start_time": "2021-09-21T14:01:33.997Z"
   },
   {
    "duration": 37,
    "start_time": "2021-09-21T14:01:34.012Z"
   },
   {
    "duration": 6,
    "start_time": "2021-09-21T14:01:34.051Z"
   },
   {
    "duration": 379,
    "start_time": "2021-09-21T14:04:20.595Z"
   },
   {
    "duration": 274,
    "start_time": "2021-09-21T14:04:58.863Z"
   },
   {
    "duration": 36749,
    "start_time": "2021-09-21T14:09:21.577Z"
   },
   {
    "duration": 125,
    "start_time": "2021-09-21T14:10:24.645Z"
   },
   {
    "duration": 31753,
    "start_time": "2021-09-21T14:10:29.332Z"
   },
   {
    "duration": 13,
    "start_time": "2021-09-21T14:12:20.765Z"
   },
   {
    "duration": 27,
    "start_time": "2021-09-21T14:12:33.474Z"
   },
   {
    "duration": 19,
    "start_time": "2021-09-21T14:13:15.563Z"
   },
   {
    "duration": 6850,
    "start_time": "2021-09-21T14:39:17.716Z"
   },
   {
    "duration": 8723,
    "start_time": "2021-09-21T14:39:53.626Z"
   },
   {
    "duration": 7410,
    "start_time": "2021-09-21T14:40:39.964Z"
   },
   {
    "duration": 14,
    "start_time": "2021-09-21T14:42:21.349Z"
   },
   {
    "duration": 381,
    "start_time": "2021-09-21T14:43:13.355Z"
   },
   {
    "duration": 162,
    "start_time": "2021-09-21T14:44:48.361Z"
   },
   {
    "duration": 289,
    "start_time": "2021-09-21T14:45:15.572Z"
   },
   {
    "duration": 267,
    "start_time": "2021-09-21T14:45:36.499Z"
   },
   {
    "duration": 4,
    "start_time": "2021-09-21T14:46:32.039Z"
   },
   {
    "duration": 4,
    "start_time": "2021-09-21T14:46:44.930Z"
   },
   {
    "duration": 9,
    "start_time": "2021-09-21T14:47:05.091Z"
   },
   {
    "duration": 8005,
    "start_time": "2021-09-21T14:54:25.246Z"
   },
   {
    "duration": 271,
    "start_time": "2021-09-21T14:54:43.714Z"
   },
   {
    "duration": 614,
    "start_time": "2021-09-21T14:57:13.475Z"
   },
   {
    "duration": 384,
    "start_time": "2021-09-21T15:01:56.613Z"
   },
   {
    "duration": 329,
    "start_time": "2021-09-21T15:04:40.707Z"
   },
   {
    "duration": 359,
    "start_time": "2021-09-21T15:04:50.473Z"
   },
   {
    "duration": 384,
    "start_time": "2021-09-21T15:05:14.768Z"
   },
   {
    "duration": 425,
    "start_time": "2021-09-21T15:05:22.364Z"
   },
   {
    "duration": 476,
    "start_time": "2021-09-21T15:05:36.886Z"
   },
   {
    "duration": 290,
    "start_time": "2021-09-21T15:05:48.031Z"
   },
   {
    "duration": 490,
    "start_time": "2021-09-21T15:05:54.454Z"
   },
   {
    "duration": 420,
    "start_time": "2021-09-21T15:06:01.376Z"
   },
   {
    "duration": 274,
    "start_time": "2021-09-21T15:06:06.965Z"
   },
   {
    "duration": 346,
    "start_time": "2021-09-21T15:06:13.059Z"
   },
   {
    "duration": 102,
    "start_time": "2021-09-21T16:19:07.809Z"
   },
   {
    "duration": 1267,
    "start_time": "2021-09-21T16:19:17.768Z"
   },
   {
    "duration": 7,
    "start_time": "2021-09-21T16:19:25.074Z"
   },
   {
    "duration": 11,
    "start_time": "2021-09-21T16:19:27.409Z"
   },
   {
    "duration": 6,
    "start_time": "2021-09-21T16:19:33.285Z"
   },
   {
    "duration": 7,
    "start_time": "2021-09-21T16:20:05.493Z"
   },
   {
    "duration": 1223,
    "start_time": "2021-09-21T16:20:19.203Z"
   },
   {
    "duration": 7,
    "start_time": "2021-09-21T16:20:24.976Z"
   },
   {
    "duration": 11,
    "start_time": "2021-09-21T16:20:52.707Z"
   },
   {
    "duration": 5,
    "start_time": "2021-09-21T16:20:54.881Z"
   },
   {
    "duration": 22,
    "start_time": "2021-09-21T16:21:44.518Z"
   },
   {
    "duration": 22,
    "start_time": "2021-09-21T16:24:23.043Z"
   },
   {
    "duration": 20,
    "start_time": "2021-09-21T16:25:01.481Z"
   },
   {
    "duration": 11,
    "start_time": "2021-09-21T16:25:09.168Z"
   },
   {
    "duration": 19,
    "start_time": "2021-09-21T16:26:19.863Z"
   },
   {
    "duration": 21,
    "start_time": "2021-09-21T16:30:43.744Z"
   },
   {
    "duration": 20,
    "start_time": "2021-09-21T16:32:00.029Z"
   },
   {
    "duration": 9,
    "start_time": "2021-09-21T16:34:14.393Z"
   },
   {
    "duration": 14,
    "start_time": "2021-09-21T16:34:16.992Z"
   },
   {
    "duration": 17,
    "start_time": "2021-09-21T16:34:19.276Z"
   },
   {
    "duration": 5,
    "start_time": "2021-09-21T16:36:13.222Z"
   },
   {
    "duration": 4,
    "start_time": "2021-09-21T16:37:20.104Z"
   },
   {
    "duration": 12,
    "start_time": "2021-09-21T16:38:06.741Z"
   },
   {
    "duration": 5,
    "start_time": "2021-09-21T16:38:21.069Z"
   },
   {
    "duration": 3,
    "start_time": "2021-09-21T16:41:19.118Z"
   },
   {
    "duration": 19,
    "start_time": "2021-09-21T16:42:13.629Z"
   },
   {
    "duration": 5,
    "start_time": "2021-09-21T16:43:32.637Z"
   },
   {
    "duration": 11,
    "start_time": "2021-09-21T16:45:12.220Z"
   },
   {
    "duration": 11,
    "start_time": "2021-09-21T16:45:58.110Z"
   },
   {
    "duration": 16,
    "start_time": "2021-09-21T16:48:39.996Z"
   },
   {
    "duration": 18,
    "start_time": "2021-09-21T16:49:07.218Z"
   },
   {
    "duration": 4,
    "start_time": "2021-09-21T16:52:34.427Z"
   },
   {
    "duration": 5,
    "start_time": "2021-09-21T16:52:42.366Z"
   },
   {
    "duration": 24,
    "start_time": "2021-09-21T16:53:55.836Z"
   },
   {
    "duration": 134,
    "start_time": "2021-09-21T16:54:58.514Z"
   },
   {
    "duration": 136,
    "start_time": "2021-09-21T16:56:09.352Z"
   },
   {
    "duration": 7,
    "start_time": "2021-09-21T16:58:31.472Z"
   },
   {
    "duration": 27,
    "start_time": "2021-09-21T16:59:40.047Z"
   },
   {
    "duration": 4,
    "start_time": "2021-09-21T17:00:57.854Z"
   },
   {
    "duration": 19,
    "start_time": "2021-09-21T17:01:00.479Z"
   },
   {
    "duration": 23,
    "start_time": "2021-09-21T17:01:02.378Z"
   },
   {
    "duration": 5,
    "start_time": "2021-09-21T17:01:16.114Z"
   },
   {
    "duration": 25,
    "start_time": "2021-09-21T17:01:18.973Z"
   },
   {
    "duration": 371,
    "start_time": "2021-09-21T19:11:06.848Z"
   },
   {
    "duration": 1760,
    "start_time": "2021-09-21T19:11:19.656Z"
   },
   {
    "duration": 11,
    "start_time": "2021-09-21T19:11:21.420Z"
   },
   {
    "duration": 24,
    "start_time": "2021-09-21T19:11:21.436Z"
   },
   {
    "duration": 10,
    "start_time": "2021-09-21T19:11:21.464Z"
   },
   {
    "duration": 55,
    "start_time": "2021-09-21T19:11:21.477Z"
   },
   {
    "duration": 56,
    "start_time": "2021-09-21T19:11:21.535Z"
   },
   {
    "duration": 42,
    "start_time": "2021-09-21T19:11:21.594Z"
   },
   {
    "duration": 38,
    "start_time": "2021-09-21T19:11:21.639Z"
   },
   {
    "duration": 29,
    "start_time": "2021-09-21T19:11:21.682Z"
   },
   {
    "duration": 18,
    "start_time": "2021-09-21T19:11:21.714Z"
   },
   {
    "duration": 24,
    "start_time": "2021-09-21T19:11:21.762Z"
   },
   {
    "duration": 29,
    "start_time": "2021-09-21T19:11:21.788Z"
   },
   {
    "duration": 15,
    "start_time": "2021-09-21T19:11:21.819Z"
   },
   {
    "duration": 37,
    "start_time": "2021-09-21T19:11:21.836Z"
   },
   {
    "duration": 8,
    "start_time": "2021-09-21T19:11:21.876Z"
   },
   {
    "duration": 6,
    "start_time": "2021-09-21T19:11:21.887Z"
   },
   {
    "duration": 37,
    "start_time": "2021-09-21T19:11:21.895Z"
   },
   {
    "duration": 7,
    "start_time": "2021-09-21T19:11:21.963Z"
   },
   {
    "duration": 23,
    "start_time": "2021-09-21T19:11:21.972Z"
   },
   {
    "duration": 31,
    "start_time": "2021-09-21T19:11:21.997Z"
   },
   {
    "duration": 59,
    "start_time": "2021-09-21T19:11:22.031Z"
   },
   {
    "duration": 263,
    "start_time": "2021-09-21T19:11:22.093Z"
   },
   {
    "duration": 245,
    "start_time": "2021-09-21T19:11:22.362Z"
   },
   {
    "duration": 11,
    "start_time": "2021-09-21T19:11:22.609Z"
   },
   {
    "duration": 50,
    "start_time": "2021-09-21T19:11:22.623Z"
   },
   {
    "duration": 4,
    "start_time": "2021-09-21T19:11:22.676Z"
   },
   {
    "duration": 32,
    "start_time": "2021-09-21T19:11:22.686Z"
   },
   {
    "duration": 63,
    "start_time": "2021-09-21T19:11:22.721Z"
   },
   {
    "duration": 6,
    "start_time": "2021-09-21T19:11:22.786Z"
   },
   {
    "duration": 70,
    "start_time": "2021-09-21T19:11:22.794Z"
   },
   {
    "duration": 7,
    "start_time": "2021-09-21T19:11:22.867Z"
   },
   {
    "duration": 438,
    "start_time": "2021-09-21T19:11:22.877Z"
   },
   {
    "duration": 65980,
    "start_time": "2021-09-21T19:10:17.339Z"
   },
   {
    "duration": 65981,
    "start_time": "2021-09-21T19:10:17.340Z"
   },
   {
    "duration": 65981,
    "start_time": "2021-09-21T19:10:17.342Z"
   },
   {
    "duration": 65981,
    "start_time": "2021-09-21T19:10:17.344Z"
   },
   {
    "duration": 65983,
    "start_time": "2021-09-21T19:10:17.345Z"
   },
   {
    "duration": 19,
    "start_time": "2021-09-21T19:11:32.010Z"
   },
   {
    "duration": 5,
    "start_time": "2021-09-21T19:17:03.293Z"
   },
   {
    "duration": 326,
    "start_time": "2021-09-21T19:20:01.062Z"
   },
   {
    "duration": 22,
    "start_time": "2021-09-21T19:22:18.189Z"
   },
   {
    "duration": 36,
    "start_time": "2021-09-21T19:24:43.782Z"
   },
   {
    "duration": 632,
    "start_time": "2021-09-21T19:29:49.314Z"
   },
   {
    "duration": 575,
    "start_time": "2021-09-21T19:29:57.800Z"
   },
   {
    "duration": 517,
    "start_time": "2021-09-21T19:34:27.655Z"
   },
   {
    "duration": 550,
    "start_time": "2021-09-21T19:41:53.066Z"
   },
   {
    "duration": 524,
    "start_time": "2021-09-21T19:42:02.532Z"
   },
   {
    "duration": 659,
    "start_time": "2021-09-21T19:42:08.962Z"
   },
   {
    "duration": 482,
    "start_time": "2021-09-21T19:42:14.504Z"
   },
   {
    "duration": 613,
    "start_time": "2021-09-21T19:42:23.732Z"
   },
   {
    "duration": 600,
    "start_time": "2021-09-21T19:44:35.425Z"
   },
   {
    "duration": 562,
    "start_time": "2021-09-21T19:44:46.178Z"
   },
   {
    "duration": 595,
    "start_time": "2021-09-21T19:44:54.307Z"
   },
   {
    "duration": 1802,
    "start_time": "2021-09-21T19:54:56.317Z"
   },
   {
    "duration": 11,
    "start_time": "2021-09-21T19:54:58.122Z"
   },
   {
    "duration": 25,
    "start_time": "2021-09-21T19:54:58.136Z"
   },
   {
    "duration": 17,
    "start_time": "2021-09-21T19:54:58.165Z"
   },
   {
    "duration": 45,
    "start_time": "2021-09-21T19:54:58.184Z"
   },
   {
    "duration": 52,
    "start_time": "2021-09-21T19:54:58.232Z"
   },
   {
    "duration": 31,
    "start_time": "2021-09-21T19:54:58.286Z"
   },
   {
    "duration": 14,
    "start_time": "2021-09-21T19:54:58.319Z"
   },
   {
    "duration": 34,
    "start_time": "2021-09-21T19:54:58.362Z"
   },
   {
    "duration": 22,
    "start_time": "2021-09-21T19:54:58.400Z"
   },
   {
    "duration": 53,
    "start_time": "2021-09-21T19:54:58.425Z"
   },
   {
    "duration": 34,
    "start_time": "2021-09-21T19:54:58.481Z"
   },
   {
    "duration": 11,
    "start_time": "2021-09-21T19:54:58.518Z"
   },
   {
    "duration": 37,
    "start_time": "2021-09-21T19:54:58.532Z"
   },
   {
    "duration": 13,
    "start_time": "2021-09-21T19:54:58.572Z"
   },
   {
    "duration": 6,
    "start_time": "2021-09-21T19:54:58.589Z"
   },
   {
    "duration": 33,
    "start_time": "2021-09-21T19:54:58.598Z"
   },
   {
    "duration": 35,
    "start_time": "2021-09-21T19:54:58.634Z"
   },
   {
    "duration": 43,
    "start_time": "2021-09-21T19:54:58.672Z"
   },
   {
    "duration": 26,
    "start_time": "2021-09-21T19:54:58.718Z"
   },
   {
    "duration": 50,
    "start_time": "2021-09-21T19:54:58.747Z"
   },
   {
    "duration": 306,
    "start_time": "2021-09-21T19:54:58.800Z"
   },
   {
    "duration": 285,
    "start_time": "2021-09-21T19:54:59.109Z"
   },
   {
    "duration": 19,
    "start_time": "2021-09-21T19:54:59.396Z"
   },
   {
    "duration": 33,
    "start_time": "2021-09-21T19:54:59.418Z"
   },
   {
    "duration": 10,
    "start_time": "2021-09-21T19:54:59.453Z"
   },
   {
    "duration": 32,
    "start_time": "2021-09-21T19:54:59.468Z"
   },
   {
    "duration": 76,
    "start_time": "2021-09-21T19:54:59.503Z"
   },
   {
    "duration": 7,
    "start_time": "2021-09-21T19:54:59.581Z"
   },
   {
    "duration": 85,
    "start_time": "2021-09-21T19:54:59.591Z"
   },
   {
    "duration": 9,
    "start_time": "2021-09-21T19:54:59.680Z"
   },
   {
    "duration": 27,
    "start_time": "2021-09-21T19:54:59.692Z"
   },
   {
    "duration": 7,
    "start_time": "2021-09-21T19:54:59.722Z"
   },
   {
    "duration": 408,
    "start_time": "2021-09-21T19:54:59.731Z"
   },
   {
    "duration": 39,
    "start_time": "2021-09-21T19:55:00.141Z"
   },
   {
    "duration": 38,
    "start_time": "2021-09-21T19:55:00.183Z"
   },
   {
    "duration": 652,
    "start_time": "2021-09-21T19:55:00.223Z"
   },
   {
    "duration": 87,
    "start_time": "2021-09-21T20:08:46.354Z"
   },
   {
    "duration": 1262,
    "start_time": "2021-09-22T07:53:51.992Z"
   },
   {
    "duration": 7,
    "start_time": "2021-09-22T07:53:53.256Z"
   },
   {
    "duration": 19,
    "start_time": "2021-09-22T07:53:53.267Z"
   },
   {
    "duration": 13,
    "start_time": "2021-09-22T07:53:53.287Z"
   },
   {
    "duration": 43,
    "start_time": "2021-09-22T07:53:53.301Z"
   },
   {
    "duration": 15,
    "start_time": "2021-09-22T07:53:53.346Z"
   },
   {
    "duration": 21,
    "start_time": "2021-09-22T07:53:53.364Z"
   },
   {
    "duration": 9,
    "start_time": "2021-09-22T07:53:53.387Z"
   },
   {
    "duration": 50,
    "start_time": "2021-09-22T07:53:53.397Z"
   },
   {
    "duration": 24,
    "start_time": "2021-09-22T07:53:53.449Z"
   },
   {
    "duration": 32,
    "start_time": "2021-09-22T07:53:53.474Z"
   },
   {
    "duration": 35,
    "start_time": "2021-09-22T07:53:53.508Z"
   },
   {
    "duration": 13,
    "start_time": "2021-09-22T07:53:53.545Z"
   },
   {
    "duration": 12,
    "start_time": "2021-09-22T07:53:53.560Z"
   },
   {
    "duration": 11,
    "start_time": "2021-09-22T07:53:53.574Z"
   },
   {
    "duration": 19,
    "start_time": "2021-09-22T07:53:53.586Z"
   },
   {
    "duration": 22,
    "start_time": "2021-09-22T07:53:53.606Z"
   },
   {
    "duration": 15,
    "start_time": "2021-09-22T07:53:53.630Z"
   },
   {
    "duration": 17,
    "start_time": "2021-09-22T07:53:53.647Z"
   },
   {
    "duration": 13,
    "start_time": "2021-09-22T07:53:53.666Z"
   },
   {
    "duration": 19,
    "start_time": "2021-09-22T07:53:53.681Z"
   },
   {
    "duration": 194,
    "start_time": "2021-09-22T07:53:53.705Z"
   },
   {
    "duration": 163,
    "start_time": "2021-09-22T07:53:53.902Z"
   },
   {
    "duration": 7,
    "start_time": "2021-09-22T07:53:54.068Z"
   },
   {
    "duration": 25,
    "start_time": "2021-09-22T07:53:54.077Z"
   },
   {
    "duration": 3,
    "start_time": "2021-09-22T07:53:54.105Z"
   },
   {
    "duration": 49,
    "start_time": "2021-09-22T07:53:54.110Z"
   },
   {
    "duration": 25,
    "start_time": "2021-09-22T07:53:54.161Z"
   },
   {
    "duration": 5,
    "start_time": "2021-09-22T07:53:54.188Z"
   },
   {
    "duration": 50,
    "start_time": "2021-09-22T07:53:54.195Z"
   },
   {
    "duration": 5,
    "start_time": "2021-09-22T07:53:54.247Z"
   },
   {
    "duration": 21,
    "start_time": "2021-09-22T07:53:54.254Z"
   },
   {
    "duration": 10,
    "start_time": "2021-09-22T07:53:54.277Z"
   },
   {
    "duration": 196,
    "start_time": "2021-09-22T07:53:54.288Z"
   },
   {
    "duration": 15,
    "start_time": "2021-09-22T07:53:54.486Z"
   },
   {
    "duration": 43,
    "start_time": "2021-09-22T07:53:54.502Z"
   },
   {
    "duration": 347,
    "start_time": "2021-09-22T07:53:54.547Z"
   },
   {
    "duration": 21,
    "start_time": "2021-09-22T07:56:42.404Z"
   },
   {
    "duration": 26,
    "start_time": "2021-09-22T07:59:44.981Z"
   },
   {
    "duration": 24,
    "start_time": "2021-09-22T08:00:10.030Z"
   },
   {
    "duration": 23,
    "start_time": "2021-09-22T08:00:13.825Z"
   },
   {
    "duration": 37,
    "start_time": "2021-09-22T08:00:51.110Z"
   },
   {
    "duration": 42,
    "start_time": "2021-09-22T08:01:05.578Z"
   },
   {
    "duration": 16,
    "start_time": "2021-09-22T08:01:26.069Z"
   },
   {
    "duration": 20,
    "start_time": "2021-09-22T08:01:38.105Z"
   },
   {
    "duration": 361,
    "start_time": "2021-09-22T08:01:48.936Z"
   },
   {
    "duration": 18,
    "start_time": "2021-09-22T08:01:58.337Z"
   },
   {
    "duration": 15,
    "start_time": "2021-09-22T08:02:13.800Z"
   },
   {
    "duration": 21,
    "start_time": "2021-09-22T08:02:26.318Z"
   },
   {
    "duration": 133,
    "start_time": "2021-09-22T08:04:12.968Z"
   },
   {
    "duration": 142,
    "start_time": "2021-09-22T08:04:42.437Z"
   },
   {
    "duration": 136,
    "start_time": "2021-09-22T08:05:06.313Z"
   },
   {
    "duration": 127,
    "start_time": "2021-09-22T08:05:24.946Z"
   },
   {
    "duration": 1480,
    "start_time": "2021-09-22T08:10:21.842Z"
   },
   {
    "duration": 445,
    "start_time": "2021-09-22T08:10:46.830Z"
   },
   {
    "duration": 430,
    "start_time": "2021-09-22T08:11:06.809Z"
   },
   {
    "duration": 477,
    "start_time": "2021-09-22T08:11:27.455Z"
   },
   {
    "duration": 2042,
    "start_time": "2021-09-22T08:14:50.958Z"
   },
   {
    "duration": 1966,
    "start_time": "2021-09-22T08:15:14.768Z"
   },
   {
    "duration": 1511,
    "start_time": "2021-09-22T08:15:35.165Z"
   },
   {
    "duration": 638,
    "start_time": "2021-09-22T08:16:23.132Z"
   },
   {
    "duration": 1753,
    "start_time": "2021-09-22T08:16:30.012Z"
   },
   {
    "duration": 507,
    "start_time": "2021-09-22T08:16:45.156Z"
   },
   {
    "duration": 1702,
    "start_time": "2021-09-22T08:16:50.389Z"
   },
   {
    "duration": 1866,
    "start_time": "2021-09-22T08:18:14.676Z"
   },
   {
    "duration": 1943,
    "start_time": "2021-09-22T08:18:24.175Z"
   },
   {
    "duration": 2007,
    "start_time": "2021-09-22T08:19:21.980Z"
   },
   {
    "duration": 2167,
    "start_time": "2021-09-22T08:19:43.405Z"
   },
   {
    "duration": 1840,
    "start_time": "2021-09-22T08:20:07.211Z"
   },
   {
    "duration": 2828,
    "start_time": "2021-09-22T08:20:14.909Z"
   },
   {
    "duration": 293,
    "start_time": "2021-09-22T08:21:43.978Z"
   },
   {
    "duration": 2040,
    "start_time": "2021-09-22T08:22:14.255Z"
   },
   {
    "duration": 1711,
    "start_time": "2021-09-22T08:22:43.121Z"
   },
   {
    "duration": 1751,
    "start_time": "2021-09-22T08:22:57.277Z"
   },
   {
    "duration": 1917,
    "start_time": "2021-09-22T08:23:18.043Z"
   },
   {
    "duration": 295,
    "start_time": "2021-09-22T08:23:26.715Z"
   },
   {
    "duration": 2529,
    "start_time": "2021-09-22T08:23:35.657Z"
   },
   {
    "duration": 35,
    "start_time": "2021-09-22T08:30:17.634Z"
   },
   {
    "duration": 29,
    "start_time": "2021-09-22T08:34:29.031Z"
   },
   {
    "duration": 14,
    "start_time": "2021-09-22T08:34:48.212Z"
   },
   {
    "duration": 14,
    "start_time": "2021-09-22T08:35:14.336Z"
   },
   {
    "duration": 17,
    "start_time": "2021-09-22T08:35:35.322Z"
   },
   {
    "duration": 11,
    "start_time": "2021-09-22T08:36:37.870Z"
   },
   {
    "duration": 6,
    "start_time": "2021-09-22T08:36:51.070Z"
   },
   {
    "duration": 1285,
    "start_time": "2021-09-22T08:37:05.516Z"
   },
   {
    "duration": 28,
    "start_time": "2021-09-22T08:37:51.824Z"
   },
   {
    "duration": 407,
    "start_time": "2021-09-22T08:38:46.053Z"
   },
   {
    "duration": 374,
    "start_time": "2021-09-22T08:39:12.170Z"
   },
   {
    "duration": 679,
    "start_time": "2021-09-22T08:39:59.450Z"
   },
   {
    "duration": 28,
    "start_time": "2021-09-22T08:40:53.844Z"
   },
   {
    "duration": 21,
    "start_time": "2021-09-22T08:41:10.249Z"
   },
   {
    "duration": 24,
    "start_time": "2021-09-22T08:43:20.921Z"
   },
   {
    "duration": 40,
    "start_time": "2021-09-22T08:43:39.583Z"
   },
   {
    "duration": 38,
    "start_time": "2021-09-22T08:43:49.244Z"
   },
   {
    "duration": 27,
    "start_time": "2021-09-22T08:45:55.130Z"
   },
   {
    "duration": 305,
    "start_time": "2021-09-22T08:56:20.859Z"
   },
   {
    "duration": 290,
    "start_time": "2021-09-22T09:06:18.784Z"
   },
   {
    "duration": 386,
    "start_time": "2021-09-22T09:06:53.223Z"
   },
   {
    "duration": 335,
    "start_time": "2021-09-22T09:12:00.044Z"
   },
   {
    "duration": 320,
    "start_time": "2021-09-22T09:13:33.745Z"
   },
   {
    "duration": 22,
    "start_time": "2021-09-22T09:16:24.996Z"
   },
   {
    "duration": 14,
    "start_time": "2021-09-22T09:16:43.883Z"
   },
   {
    "duration": 23,
    "start_time": "2021-09-22T09:17:03.006Z"
   },
   {
    "duration": 1738,
    "start_time": "2021-09-22T09:18:11.066Z"
   },
   {
    "duration": 293,
    "start_time": "2021-09-22T09:19:16.506Z"
   },
   {
    "duration": 266,
    "start_time": "2021-09-22T09:19:53.548Z"
   },
   {
    "duration": 352,
    "start_time": "2021-09-22T09:20:09.760Z"
   },
   {
    "duration": 1370,
    "start_time": "2021-09-22T09:21:56.608Z"
   },
   {
    "duration": 39,
    "start_time": "2021-09-22T09:28:07.548Z"
   },
   {
    "duration": 5,
    "start_time": "2021-09-22T09:31:36.498Z"
   },
   {
    "duration": 40,
    "start_time": "2021-09-22T09:32:29.441Z"
   },
   {
    "duration": 1240,
    "start_time": "2021-09-22T09:32:38.802Z"
   },
   {
    "duration": 7,
    "start_time": "2021-09-22T09:32:40.044Z"
   },
   {
    "duration": 21,
    "start_time": "2021-09-22T09:32:40.053Z"
   },
   {
    "duration": 11,
    "start_time": "2021-09-22T09:32:40.076Z"
   },
   {
    "duration": 26,
    "start_time": "2021-09-22T09:32:40.089Z"
   },
   {
    "duration": 28,
    "start_time": "2021-09-22T09:32:40.117Z"
   },
   {
    "duration": 19,
    "start_time": "2021-09-22T09:32:40.147Z"
   },
   {
    "duration": 8,
    "start_time": "2021-09-22T09:32:40.168Z"
   },
   {
    "duration": 19,
    "start_time": "2021-09-22T09:32:40.179Z"
   },
   {
    "duration": 11,
    "start_time": "2021-09-22T09:32:40.200Z"
   },
   {
    "duration": 40,
    "start_time": "2021-09-22T09:32:40.213Z"
   },
   {
    "duration": 17,
    "start_time": "2021-09-22T09:32:40.254Z"
   },
   {
    "duration": 6,
    "start_time": "2021-09-22T09:32:40.273Z"
   },
   {
    "duration": 10,
    "start_time": "2021-09-22T09:32:40.281Z"
   },
   {
    "duration": 8,
    "start_time": "2021-09-22T09:32:40.292Z"
   },
   {
    "duration": 2,
    "start_time": "2021-09-22T09:32:40.302Z"
   },
   {
    "duration": 51,
    "start_time": "2021-09-22T09:32:40.306Z"
   },
   {
    "duration": 4,
    "start_time": "2021-09-22T09:32:40.359Z"
   },
   {
    "duration": 13,
    "start_time": "2021-09-22T09:32:40.364Z"
   },
   {
    "duration": 11,
    "start_time": "2021-09-22T09:32:40.378Z"
   },
   {
    "duration": 17,
    "start_time": "2021-09-22T09:32:40.391Z"
   },
   {
    "duration": 172,
    "start_time": "2021-09-22T09:32:40.410Z"
   },
   {
    "duration": 148,
    "start_time": "2021-09-22T09:32:40.584Z"
   },
   {
    "duration": 11,
    "start_time": "2021-09-22T09:32:40.734Z"
   },
   {
    "duration": 21,
    "start_time": "2021-09-22T09:32:40.746Z"
   },
   {
    "duration": 2,
    "start_time": "2021-09-22T09:32:40.769Z"
   },
   {
    "duration": 21,
    "start_time": "2021-09-22T09:32:40.774Z"
   },
   {
    "duration": 26,
    "start_time": "2021-09-22T09:32:40.797Z"
   },
   {
    "duration": 4,
    "start_time": "2021-09-22T09:32:40.845Z"
   },
   {
    "duration": 31,
    "start_time": "2021-09-22T09:32:40.850Z"
   },
   {
    "duration": 5,
    "start_time": "2021-09-22T09:32:40.882Z"
   },
   {
    "duration": 13,
    "start_time": "2021-09-22T09:32:40.889Z"
   },
   {
    "duration": 4,
    "start_time": "2021-09-22T09:32:40.904Z"
   },
   {
    "duration": 215,
    "start_time": "2021-09-22T09:32:40.910Z"
   },
   {
    "duration": 22,
    "start_time": "2021-09-22T09:32:41.127Z"
   },
   {
    "duration": 20,
    "start_time": "2021-09-22T09:32:41.151Z"
   },
   {
    "duration": 532,
    "start_time": "2021-09-22T09:32:41.172Z"
   },
   {
    "duration": 21,
    "start_time": "2021-09-22T09:32:41.706Z"
   },
   {
    "duration": 301,
    "start_time": "2021-09-22T09:32:41.729Z"
   },
   {
    "duration": 273,
    "start_time": "2021-09-22T09:32:42.032Z"
   },
   {
    "duration": 1333,
    "start_time": "2021-09-22T09:32:42.306Z"
   },
   {
    "duration": 40,
    "start_time": "2021-09-22T09:32:43.644Z"
   },
   {
    "duration": 1345,
    "start_time": "2021-09-22T09:35:44.918Z"
   },
   {
    "duration": 8,
    "start_time": "2021-09-22T09:35:46.265Z"
   },
   {
    "duration": 21,
    "start_time": "2021-09-22T09:35:46.275Z"
   },
   {
    "duration": 9,
    "start_time": "2021-09-22T09:35:46.298Z"
   },
   {
    "duration": 37,
    "start_time": "2021-09-22T09:35:46.309Z"
   },
   {
    "duration": 16,
    "start_time": "2021-09-22T09:35:46.348Z"
   },
   {
    "duration": 20,
    "start_time": "2021-09-22T09:35:46.366Z"
   },
   {
    "duration": 15,
    "start_time": "2021-09-22T09:35:46.388Z"
   },
   {
    "duration": 45,
    "start_time": "2021-09-22T09:35:46.405Z"
   },
   {
    "duration": 16,
    "start_time": "2021-09-22T09:35:46.452Z"
   },
   {
    "duration": 30,
    "start_time": "2021-09-22T09:35:46.470Z"
   },
   {
    "duration": 33,
    "start_time": "2021-09-22T09:35:46.502Z"
   },
   {
    "duration": 19,
    "start_time": "2021-09-22T09:35:46.537Z"
   },
   {
    "duration": 23,
    "start_time": "2021-09-22T09:35:46.557Z"
   },
   {
    "duration": 5,
    "start_time": "2021-09-22T09:35:46.582Z"
   },
   {
    "duration": 11,
    "start_time": "2021-09-22T09:35:46.589Z"
   },
   {
    "duration": 39,
    "start_time": "2021-09-22T09:35:46.602Z"
   },
   {
    "duration": 6,
    "start_time": "2021-09-22T09:35:46.643Z"
   },
   {
    "duration": 21,
    "start_time": "2021-09-22T09:35:46.651Z"
   },
   {
    "duration": 23,
    "start_time": "2021-09-22T09:35:46.674Z"
   },
   {
    "duration": 18,
    "start_time": "2021-09-22T09:35:46.699Z"
   },
   {
    "duration": 157,
    "start_time": "2021-09-22T09:35:46.719Z"
   },
   {
    "duration": 155,
    "start_time": "2021-09-22T09:35:46.880Z"
   },
   {
    "duration": 12,
    "start_time": "2021-09-22T09:35:47.037Z"
   },
   {
    "duration": 47,
    "start_time": "2021-09-22T09:35:47.050Z"
   },
   {
    "duration": 3,
    "start_time": "2021-09-22T09:35:47.098Z"
   },
   {
    "duration": 39,
    "start_time": "2021-09-22T09:35:47.103Z"
   },
   {
    "duration": 24,
    "start_time": "2021-09-22T09:35:47.144Z"
   },
   {
    "duration": 14,
    "start_time": "2021-09-22T09:35:47.170Z"
   },
   {
    "duration": 42,
    "start_time": "2021-09-22T09:35:47.187Z"
   },
   {
    "duration": 5,
    "start_time": "2021-09-22T09:35:47.231Z"
   },
   {
    "duration": 25,
    "start_time": "2021-09-22T09:35:47.238Z"
   },
   {
    "duration": 13,
    "start_time": "2021-09-22T09:35:47.264Z"
   },
   {
    "duration": 213,
    "start_time": "2021-09-22T09:35:47.279Z"
   },
   {
    "duration": 16,
    "start_time": "2021-09-22T09:35:47.494Z"
   },
   {
    "duration": 43,
    "start_time": "2021-09-22T09:35:47.512Z"
   },
   {
    "duration": 338,
    "start_time": "2021-09-22T09:35:47.558Z"
   },
   {
    "duration": 24,
    "start_time": "2021-09-22T09:35:47.900Z"
   },
   {
    "duration": 334,
    "start_time": "2021-09-22T09:35:47.926Z"
   },
   {
    "duration": 291,
    "start_time": "2021-09-22T09:35:48.261Z"
   },
   {
    "duration": 1564,
    "start_time": "2021-09-22T09:35:48.554Z"
   },
   {
    "duration": 5,
    "start_time": "2021-09-22T09:35:50.120Z"
   },
   {
    "duration": 51,
    "start_time": "2021-09-22T09:35:50.127Z"
   },
   {
    "duration": 427,
    "start_time": "2021-09-22T09:40:37.128Z"
   },
   {
    "duration": 1270,
    "start_time": "2021-09-22T09:41:34.751Z"
   },
   {
    "duration": 6,
    "start_time": "2021-09-22T09:41:36.023Z"
   },
   {
    "duration": 15,
    "start_time": "2021-09-22T09:41:36.031Z"
   },
   {
    "duration": 5,
    "start_time": "2021-09-22T09:41:36.049Z"
   },
   {
    "duration": 29,
    "start_time": "2021-09-22T09:41:36.056Z"
   },
   {
    "duration": 16,
    "start_time": "2021-09-22T09:41:36.087Z"
   },
   {
    "duration": 50,
    "start_time": "2021-09-22T09:41:36.105Z"
   },
   {
    "duration": 9,
    "start_time": "2021-09-22T09:41:36.158Z"
   },
   {
    "duration": 18,
    "start_time": "2021-09-22T09:41:36.170Z"
   },
   {
    "duration": 9,
    "start_time": "2021-09-22T09:41:36.190Z"
   },
   {
    "duration": 43,
    "start_time": "2021-09-22T09:41:36.201Z"
   },
   {
    "duration": 15,
    "start_time": "2021-09-22T09:41:36.247Z"
   },
   {
    "duration": 5,
    "start_time": "2021-09-22T09:41:36.264Z"
   },
   {
    "duration": 7,
    "start_time": "2021-09-22T09:41:36.271Z"
   },
   {
    "duration": 5,
    "start_time": "2021-09-22T09:41:36.280Z"
   },
   {
    "duration": 5,
    "start_time": "2021-09-22T09:41:36.286Z"
   },
   {
    "duration": 56,
    "start_time": "2021-09-22T09:41:36.293Z"
   },
   {
    "duration": 13,
    "start_time": "2021-09-22T09:41:36.351Z"
   },
   {
    "duration": 14,
    "start_time": "2021-09-22T09:41:36.365Z"
   },
   {
    "duration": 15,
    "start_time": "2021-09-22T09:41:36.381Z"
   },
   {
    "duration": 18,
    "start_time": "2021-09-22T09:41:36.398Z"
   },
   {
    "duration": 168,
    "start_time": "2021-09-22T09:41:36.417Z"
   },
   {
    "duration": 148,
    "start_time": "2021-09-22T09:41:36.588Z"
   },
   {
    "duration": 12,
    "start_time": "2021-09-22T09:41:36.739Z"
   },
   {
    "duration": 23,
    "start_time": "2021-09-22T09:41:36.753Z"
   },
   {
    "duration": 3,
    "start_time": "2021-09-22T09:41:36.778Z"
   },
   {
    "duration": 24,
    "start_time": "2021-09-22T09:41:36.784Z"
   },
   {
    "duration": 50,
    "start_time": "2021-09-22T09:41:36.810Z"
   },
   {
    "duration": 4,
    "start_time": "2021-09-22T09:41:36.861Z"
   },
   {
    "duration": 31,
    "start_time": "2021-09-22T09:41:36.867Z"
   },
   {
    "duration": 5,
    "start_time": "2021-09-22T09:41:36.900Z"
   },
   {
    "duration": 39,
    "start_time": "2021-09-22T09:41:36.907Z"
   },
   {
    "duration": 4,
    "start_time": "2021-09-22T09:41:36.947Z"
   },
   {
    "duration": 187,
    "start_time": "2021-09-22T09:41:36.952Z"
   },
   {
    "duration": 14,
    "start_time": "2021-09-22T09:41:37.141Z"
   },
   {
    "duration": 19,
    "start_time": "2021-09-22T09:41:37.157Z"
   },
   {
    "duration": 341,
    "start_time": "2021-09-22T09:41:37.178Z"
   },
   {
    "duration": 363,
    "start_time": "2021-09-22T09:41:37.521Z"
   },
   {
    "duration": 66202,
    "start_time": "2021-09-22T09:40:31.684Z"
   },
   {
    "duration": 66198,
    "start_time": "2021-09-22T09:40:31.689Z"
   },
   {
    "duration": 66197,
    "start_time": "2021-09-22T09:40:31.691Z"
   },
   {
    "duration": 66196,
    "start_time": "2021-09-22T09:40:31.693Z"
   },
   {
    "duration": 66196,
    "start_time": "2021-09-22T09:40:31.694Z"
   },
   {
    "duration": 66196,
    "start_time": "2021-09-22T09:40:31.696Z"
   },
   {
    "duration": 30,
    "start_time": "2021-09-22T09:42:24.662Z"
   },
   {
    "duration": 22,
    "start_time": "2021-09-22T09:42:50.817Z"
   },
   {
    "duration": 120,
    "start_time": "2021-09-22T09:44:20.159Z"
   },
   {
    "duration": 26,
    "start_time": "2021-09-22T09:45:57.005Z"
   },
   {
    "duration": 9,
    "start_time": "2021-09-22T09:46:16.102Z"
   },
   {
    "duration": 307,
    "start_time": "2021-09-22T09:46:30.741Z"
   },
   {
    "duration": 290,
    "start_time": "2021-09-22T09:46:35.838Z"
   },
   {
    "duration": 1650,
    "start_time": "2021-09-22T09:46:41.128Z"
   },
   {
    "duration": 5,
    "start_time": "2021-09-22T09:46:47.792Z"
   },
   {
    "duration": 6002,
    "start_time": "2021-09-22T09:47:29.710Z"
   },
   {
    "duration": 4,
    "start_time": "2021-09-22T09:48:10.383Z"
   },
   {
    "duration": 86,
    "start_time": "2021-09-22T09:49:02.854Z"
   },
   {
    "duration": 4,
    "start_time": "2021-09-22T09:49:22.456Z"
   },
   {
    "duration": 46,
    "start_time": "2021-09-22T09:49:29.587Z"
   },
   {
    "duration": 1227,
    "start_time": "2021-09-22T09:50:08.998Z"
   },
   {
    "duration": 7,
    "start_time": "2021-09-22T09:50:10.227Z"
   },
   {
    "duration": 17,
    "start_time": "2021-09-22T09:50:10.236Z"
   },
   {
    "duration": 17,
    "start_time": "2021-09-22T09:50:10.255Z"
   },
   {
    "duration": 35,
    "start_time": "2021-09-22T09:50:10.274Z"
   },
   {
    "duration": 21,
    "start_time": "2021-09-22T09:50:10.311Z"
   },
   {
    "duration": 24,
    "start_time": "2021-09-22T09:50:10.334Z"
   },
   {
    "duration": 9,
    "start_time": "2021-09-22T09:50:10.360Z"
   },
   {
    "duration": 19,
    "start_time": "2021-09-22T09:50:10.372Z"
   },
   {
    "duration": 12,
    "start_time": "2021-09-22T09:50:10.393Z"
   },
   {
    "duration": 41,
    "start_time": "2021-09-22T09:50:10.407Z"
   },
   {
    "duration": 17,
    "start_time": "2021-09-22T09:50:10.450Z"
   },
   {
    "duration": 9,
    "start_time": "2021-09-22T09:50:10.469Z"
   },
   {
    "duration": 10,
    "start_time": "2021-09-22T09:50:10.479Z"
   },
   {
    "duration": 5,
    "start_time": "2021-09-22T09:50:10.491Z"
   },
   {
    "duration": 9,
    "start_time": "2021-09-22T09:50:10.498Z"
   },
   {
    "duration": 40,
    "start_time": "2021-09-22T09:50:10.509Z"
   },
   {
    "duration": 5,
    "start_time": "2021-09-22T09:50:10.550Z"
   },
   {
    "duration": 15,
    "start_time": "2021-09-22T09:50:10.557Z"
   },
   {
    "duration": 23,
    "start_time": "2021-09-22T09:50:10.574Z"
   },
   {
    "duration": 24,
    "start_time": "2021-09-22T09:50:10.599Z"
   },
   {
    "duration": 157,
    "start_time": "2021-09-22T09:50:10.625Z"
   },
   {
    "duration": 148,
    "start_time": "2021-09-22T09:50:10.784Z"
   },
   {
    "duration": 13,
    "start_time": "2021-09-22T09:50:10.934Z"
   },
   {
    "duration": 47,
    "start_time": "2021-09-22T09:50:10.949Z"
   },
   {
    "duration": 8,
    "start_time": "2021-09-22T09:50:10.998Z"
   },
   {
    "duration": 51,
    "start_time": "2021-09-22T09:50:11.009Z"
   },
   {
    "duration": 27,
    "start_time": "2021-09-22T09:50:11.063Z"
   },
   {
    "duration": 7,
    "start_time": "2021-09-22T09:50:11.091Z"
   },
   {
    "duration": 52,
    "start_time": "2021-09-22T09:50:11.099Z"
   },
   {
    "duration": 7,
    "start_time": "2021-09-22T09:50:11.152Z"
   },
   {
    "duration": 33,
    "start_time": "2021-09-22T09:50:11.161Z"
   },
   {
    "duration": 17,
    "start_time": "2021-09-22T09:50:11.196Z"
   },
   {
    "duration": 203,
    "start_time": "2021-09-22T09:50:11.215Z"
   },
   {
    "duration": 15,
    "start_time": "2021-09-22T09:50:11.420Z"
   },
   {
    "duration": 28,
    "start_time": "2021-09-22T09:50:11.436Z"
   },
   {
    "duration": 343,
    "start_time": "2021-09-22T09:50:11.466Z"
   },
   {
    "duration": 33,
    "start_time": "2021-09-22T09:50:11.811Z"
   },
   {
    "duration": 304,
    "start_time": "2021-09-22T09:50:11.846Z"
   },
   {
    "duration": 264,
    "start_time": "2021-09-22T09:50:12.151Z"
   },
   {
    "duration": 343,
    "start_time": "2021-09-22T09:50:12.417Z"
   },
   {
    "duration": 7,
    "start_time": "2021-09-22T09:56:38.763Z"
   },
   {
    "duration": 312,
    "start_time": "2021-09-22T09:56:44.881Z"
   },
   {
    "duration": 285,
    "start_time": "2021-09-22T09:56:51.376Z"
   },
   {
    "duration": 41,
    "start_time": "2021-09-22T09:59:40.432Z"
   },
   {
    "duration": 6,
    "start_time": "2021-09-22T10:01:19.263Z"
   },
   {
    "duration": 315,
    "start_time": "2021-09-22T10:01:40.100Z"
   },
   {
    "duration": 356,
    "start_time": "2021-09-22T10:02:09.756Z"
   },
   {
    "duration": 303,
    "start_time": "2021-09-22T10:05:46.202Z"
   },
   {
    "duration": 291,
    "start_time": "2021-09-22T10:06:47.960Z"
   },
   {
    "duration": 167,
    "start_time": "2021-09-22T10:06:58.949Z"
   },
   {
    "duration": 282,
    "start_time": "2021-09-22T10:07:04.404Z"
   },
   {
    "duration": 235,
    "start_time": "2021-09-22T10:07:12.872Z"
   },
   {
    "duration": 8,
    "start_time": "2021-09-22T10:09:11.897Z"
   },
   {
    "duration": 7,
    "start_time": "2021-09-22T10:09:41.413Z"
   },
   {
    "duration": 5,
    "start_time": "2021-09-22T10:11:02.275Z"
   },
   {
    "duration": 232,
    "start_time": "2021-09-22T10:11:32.031Z"
   },
   {
    "duration": 7,
    "start_time": "2021-09-22T10:11:44.167Z"
   },
   {
    "duration": 6,
    "start_time": "2021-09-22T10:54:40.364Z"
   },
   {
    "duration": 225,
    "start_time": "2021-09-22T10:55:42.515Z"
   },
   {
    "duration": 6,
    "start_time": "2021-09-22T10:59:07.789Z"
   },
   {
    "duration": 6,
    "start_time": "2021-09-22T10:59:17.037Z"
   },
   {
    "duration": 1291,
    "start_time": "2021-09-22T11:15:03.736Z"
   },
   {
    "duration": 7,
    "start_time": "2021-09-22T11:15:05.029Z"
   },
   {
    "duration": 22,
    "start_time": "2021-09-22T11:15:05.038Z"
   },
   {
    "duration": 6,
    "start_time": "2021-09-22T11:15:05.062Z"
   },
   {
    "duration": 38,
    "start_time": "2021-09-22T11:15:05.070Z"
   },
   {
    "duration": 17,
    "start_time": "2021-09-22T11:15:05.110Z"
   },
   {
    "duration": 24,
    "start_time": "2021-09-22T11:15:05.129Z"
   },
   {
    "duration": 11,
    "start_time": "2021-09-22T11:15:05.155Z"
   },
   {
    "duration": 20,
    "start_time": "2021-09-22T11:15:05.168Z"
   },
   {
    "duration": 11,
    "start_time": "2021-09-22T11:15:05.190Z"
   },
   {
    "duration": 43,
    "start_time": "2021-09-22T11:15:05.203Z"
   },
   {
    "duration": 16,
    "start_time": "2021-09-22T11:15:05.248Z"
   },
   {
    "duration": 22,
    "start_time": "2021-09-22T11:15:05.266Z"
   },
   {
    "duration": 23,
    "start_time": "2021-09-22T11:15:05.290Z"
   },
   {
    "duration": 10,
    "start_time": "2021-09-22T11:15:05.315Z"
   },
   {
    "duration": 13,
    "start_time": "2021-09-22T11:15:05.328Z"
   },
   {
    "duration": 28,
    "start_time": "2021-09-22T11:15:05.343Z"
   },
   {
    "duration": 30,
    "start_time": "2021-09-22T11:15:05.373Z"
   },
   {
    "duration": 13,
    "start_time": "2021-09-22T11:15:05.405Z"
   },
   {
    "duration": 20,
    "start_time": "2021-09-22T11:15:05.420Z"
   },
   {
    "duration": 18,
    "start_time": "2021-09-22T11:15:05.441Z"
   },
   {
    "duration": 166,
    "start_time": "2021-09-22T11:15:05.461Z"
   },
   {
    "duration": 154,
    "start_time": "2021-09-22T11:15:05.632Z"
   },
   {
    "duration": 7,
    "start_time": "2021-09-22T11:15:05.788Z"
   },
   {
    "duration": 28,
    "start_time": "2021-09-22T11:15:05.796Z"
   },
   {
    "duration": 3,
    "start_time": "2021-09-22T11:15:05.826Z"
   },
   {
    "duration": 38,
    "start_time": "2021-09-22T11:15:05.831Z"
   },
   {
    "duration": 24,
    "start_time": "2021-09-22T11:15:05.871Z"
   },
   {
    "duration": 3,
    "start_time": "2021-09-22T11:15:05.897Z"
   },
   {
    "duration": 54,
    "start_time": "2021-09-22T11:15:05.902Z"
   },
   {
    "duration": 5,
    "start_time": "2021-09-22T11:15:05.958Z"
   },
   {
    "duration": 15,
    "start_time": "2021-09-22T11:15:05.965Z"
   },
   {
    "duration": 12,
    "start_time": "2021-09-22T11:15:05.981Z"
   },
   {
    "duration": 211,
    "start_time": "2021-09-22T11:15:05.995Z"
   },
   {
    "duration": 16,
    "start_time": "2021-09-22T11:15:06.208Z"
   },
   {
    "duration": 36,
    "start_time": "2021-09-22T11:15:06.226Z"
   },
   {
    "duration": 355,
    "start_time": "2021-09-22T11:15:06.265Z"
   },
   {
    "duration": 7,
    "start_time": "2021-09-22T11:15:06.623Z"
   },
   {
    "duration": 317,
    "start_time": "2021-09-22T11:15:06.644Z"
   },
   {
    "duration": 263,
    "start_time": "2021-09-22T11:15:06.963Z"
   },
   {
    "duration": 19,
    "start_time": "2021-09-22T11:15:07.227Z"
   },
   {
    "duration": 229,
    "start_time": "2021-09-22T11:15:07.248Z"
   },
   {
    "duration": 6,
    "start_time": "2021-09-22T11:15:07.478Z"
   },
   {
    "duration": 9,
    "start_time": "2021-09-22T11:15:07.486Z"
   },
   {
    "duration": 9,
    "start_time": "2021-09-22T11:15:07.496Z"
   },
   {
    "duration": 9,
    "start_time": "2021-09-22T11:15:07.506Z"
   },
   {
    "duration": 377,
    "start_time": "2021-09-23T07:45:31.250Z"
   },
   {
    "duration": 1743,
    "start_time": "2021-09-23T07:45:35.332Z"
   },
   {
    "duration": 9,
    "start_time": "2021-09-23T07:45:37.078Z"
   },
   {
    "duration": 16,
    "start_time": "2021-09-23T07:45:37.091Z"
   },
   {
    "duration": 9,
    "start_time": "2021-09-23T07:45:37.110Z"
   },
   {
    "duration": 28,
    "start_time": "2021-09-23T07:45:37.121Z"
   },
   {
    "duration": 40,
    "start_time": "2021-09-23T07:45:37.151Z"
   },
   {
    "duration": 47,
    "start_time": "2021-09-23T07:45:37.194Z"
   },
   {
    "duration": 28,
    "start_time": "2021-09-23T07:45:37.245Z"
   },
   {
    "duration": 41,
    "start_time": "2021-09-23T07:45:37.277Z"
   },
   {
    "duration": 35,
    "start_time": "2021-09-23T07:45:37.322Z"
   },
   {
    "duration": 15,
    "start_time": "2021-09-23T07:45:37.360Z"
   },
   {
    "duration": 30,
    "start_time": "2021-09-23T07:45:37.419Z"
   },
   {
    "duration": 25,
    "start_time": "2021-09-23T07:45:37.451Z"
   },
   {
    "duration": 5,
    "start_time": "2021-09-23T07:45:37.478Z"
   },
   {
    "duration": 47,
    "start_time": "2021-09-23T07:45:37.485Z"
   },
   {
    "duration": 12,
    "start_time": "2021-09-23T07:45:37.535Z"
   },
   {
    "duration": 6,
    "start_time": "2021-09-23T07:45:37.550Z"
   },
   {
    "duration": 64,
    "start_time": "2021-09-23T07:45:37.559Z"
   },
   {
    "duration": 9,
    "start_time": "2021-09-23T07:45:37.626Z"
   },
   {
    "duration": 25,
    "start_time": "2021-09-23T07:45:37.638Z"
   },
   {
    "duration": 51,
    "start_time": "2021-09-23T07:45:37.665Z"
   },
   {
    "duration": 33,
    "start_time": "2021-09-23T07:45:37.720Z"
   },
   {
    "duration": 277,
    "start_time": "2021-09-23T07:45:37.758Z"
   },
   {
    "duration": 285,
    "start_time": "2021-09-23T07:45:38.038Z"
   },
   {
    "duration": 11,
    "start_time": "2021-09-23T07:45:38.326Z"
   },
   {
    "duration": 33,
    "start_time": "2021-09-23T07:45:38.340Z"
   },
   {
    "duration": 4,
    "start_time": "2021-09-23T07:45:38.375Z"
   },
   {
    "duration": 32,
    "start_time": "2021-09-23T07:45:38.417Z"
   },
   {
    "duration": 39,
    "start_time": "2021-09-23T07:45:38.452Z"
   },
   {
    "duration": 8,
    "start_time": "2021-09-23T07:45:38.517Z"
   },
   {
    "duration": 41,
    "start_time": "2021-09-23T07:45:38.528Z"
   },
   {
    "duration": 7,
    "start_time": "2021-09-23T07:45:38.572Z"
   },
   {
    "duration": 30,
    "start_time": "2021-09-23T07:45:38.617Z"
   },
   {
    "duration": 8,
    "start_time": "2021-09-23T07:45:38.650Z"
   },
   {
    "duration": 352,
    "start_time": "2021-09-23T07:45:38.660Z"
   },
   {
    "duration": 31,
    "start_time": "2021-09-23T07:45:39.015Z"
   },
   {
    "duration": 67,
    "start_time": "2021-09-23T07:45:39.049Z"
   },
   {
    "duration": 570,
    "start_time": "2021-09-23T07:45:39.120Z"
   },
   {
    "duration": 10,
    "start_time": "2021-09-23T07:45:39.693Z"
   },
   {
    "duration": 576,
    "start_time": "2021-09-23T07:45:39.717Z"
   },
   {
    "duration": 398,
    "start_time": "2021-09-23T07:45:40.295Z"
   },
   {
    "duration": 8,
    "start_time": "2021-09-23T07:45:40.695Z"
   },
   {
    "duration": 423,
    "start_time": "2021-09-23T07:45:40.705Z"
   },
   {
    "duration": 8,
    "start_time": "2021-09-23T07:45:41.132Z"
   },
   {
    "duration": 17,
    "start_time": "2021-09-23T07:45:41.142Z"
   },
   {
    "duration": 10,
    "start_time": "2021-09-23T07:45:41.161Z"
   },
   {
    "duration": 10,
    "start_time": "2021-09-23T07:45:41.173Z"
   },
   {
    "duration": 47,
    "start_time": "2021-09-23T07:46:44.817Z"
   },
   {
    "duration": 12,
    "start_time": "2021-09-23T07:55:56.068Z"
   },
   {
    "duration": 414,
    "start_time": "2021-09-23T07:57:14.519Z"
   },
   {
    "duration": 58,
    "start_time": "2021-09-23T07:57:37.767Z"
   },
   {
    "duration": 105,
    "start_time": "2021-09-23T07:58:57.796Z"
   },
   {
    "duration": 143,
    "start_time": "2021-09-23T08:11:17.885Z"
   },
   {
    "duration": 1267,
    "start_time": "2021-09-23T13:51:44.406Z"
   },
   {
    "duration": 7,
    "start_time": "2021-09-23T13:51:45.676Z"
   },
   {
    "duration": 23,
    "start_time": "2021-09-23T13:51:45.686Z"
   },
   {
    "duration": 19,
    "start_time": "2021-09-23T13:51:45.711Z"
   },
   {
    "duration": 26,
    "start_time": "2021-09-23T13:51:45.732Z"
   },
   {
    "duration": 28,
    "start_time": "2021-09-23T13:51:45.760Z"
   },
   {
    "duration": 13,
    "start_time": "2021-09-23T13:51:45.790Z"
   },
   {
    "duration": 21,
    "start_time": "2021-09-23T13:51:45.806Z"
   },
   {
    "duration": 8,
    "start_time": "2021-09-23T13:51:45.829Z"
   },
   {
    "duration": 20,
    "start_time": "2021-09-23T13:51:45.839Z"
   },
   {
    "duration": 24,
    "start_time": "2021-09-23T13:51:45.861Z"
   },
   {
    "duration": 21,
    "start_time": "2021-09-23T13:51:45.886Z"
   },
   {
    "duration": 31,
    "start_time": "2021-09-23T13:51:45.909Z"
   },
   {
    "duration": 10,
    "start_time": "2021-09-23T13:51:45.941Z"
   },
   {
    "duration": 27,
    "start_time": "2021-09-23T13:51:45.953Z"
   },
   {
    "duration": 31,
    "start_time": "2021-09-23T13:51:45.981Z"
   },
   {
    "duration": 14,
    "start_time": "2021-09-23T13:51:46.013Z"
   },
   {
    "duration": 37,
    "start_time": "2021-09-23T13:51:46.029Z"
   },
   {
    "duration": 11,
    "start_time": "2021-09-23T13:51:46.067Z"
   },
   {
    "duration": 22,
    "start_time": "2021-09-23T13:51:46.080Z"
   },
   {
    "duration": 26,
    "start_time": "2021-09-23T13:51:46.104Z"
   },
   {
    "duration": 25,
    "start_time": "2021-09-23T13:51:46.132Z"
   },
   {
    "duration": 166,
    "start_time": "2021-09-23T13:51:46.160Z"
   },
   {
    "duration": 8,
    "start_time": "2021-09-23T13:51:46.328Z"
   },
   {
    "duration": 161,
    "start_time": "2021-09-23T13:51:46.338Z"
   },
   {
    "duration": 31,
    "start_time": "2021-09-23T13:51:46.501Z"
   },
   {
    "duration": 6,
    "start_time": "2021-09-23T13:51:46.535Z"
   },
   {
    "duration": 42,
    "start_time": "2021-09-23T13:51:46.543Z"
   },
   {
    "duration": 3,
    "start_time": "2021-09-23T13:51:46.586Z"
   },
   {
    "duration": 31,
    "start_time": "2021-09-23T13:51:46.591Z"
   },
   {
    "duration": 32,
    "start_time": "2021-09-23T13:51:46.624Z"
   },
   {
    "duration": 4,
    "start_time": "2021-09-23T13:51:46.658Z"
   },
   {
    "duration": 47,
    "start_time": "2021-09-23T13:51:46.664Z"
   },
   {
    "duration": 4,
    "start_time": "2021-09-23T13:51:46.713Z"
   },
   {
    "duration": 16,
    "start_time": "2021-09-23T13:51:46.719Z"
   },
   {
    "duration": 14,
    "start_time": "2021-09-23T13:51:46.737Z"
   },
   {
    "duration": 188,
    "start_time": "2021-09-23T13:51:46.753Z"
   },
   {
    "duration": 13,
    "start_time": "2021-09-23T13:51:46.943Z"
   },
   {
    "duration": 46,
    "start_time": "2021-09-23T13:51:46.957Z"
   },
   {
    "duration": 322,
    "start_time": "2021-09-23T13:51:47.005Z"
   },
   {
    "duration": 7,
    "start_time": "2021-09-23T13:51:47.329Z"
   },
   {
    "duration": 325,
    "start_time": "2021-09-23T13:51:47.338Z"
   },
   {
    "duration": 273,
    "start_time": "2021-09-23T13:51:47.665Z"
   },
   {
    "duration": 5,
    "start_time": "2021-09-23T13:51:47.940Z"
   },
   {
    "duration": 225,
    "start_time": "2021-09-23T13:51:47.947Z"
   },
   {
    "duration": 6,
    "start_time": "2021-09-23T13:51:48.176Z"
   },
   {
    "duration": 26,
    "start_time": "2021-09-23T13:51:48.183Z"
   },
   {
    "duration": 14,
    "start_time": "2021-09-23T13:51:48.210Z"
   },
   {
    "duration": 30,
    "start_time": "2021-09-23T13:51:48.226Z"
   },
   {
    "duration": 12,
    "start_time": "2021-09-23T15:01:48.783Z"
   },
   {
    "duration": 421,
    "start_time": "2021-09-23T15:16:52.400Z"
   },
   {
    "duration": 422,
    "start_time": "2021-09-23T15:20:06.992Z"
   },
   {
    "duration": 10,
    "start_time": "2021-09-23T15:20:35.025Z"
   },
   {
    "duration": 11,
    "start_time": "2021-09-23T15:20:50.980Z"
   },
   {
    "duration": 13,
    "start_time": "2021-09-23T15:21:02.482Z"
   },
   {
    "duration": 9,
    "start_time": "2021-09-23T15:24:49.643Z"
   },
   {
    "duration": 11,
    "start_time": "2021-09-23T15:24:51.637Z"
   },
   {
    "duration": 14,
    "start_time": "2021-09-23T15:25:56.427Z"
   },
   {
    "duration": 10,
    "start_time": "2021-09-23T15:26:02.633Z"
   },
   {
    "duration": 13,
    "start_time": "2021-09-23T15:26:11.751Z"
   },
   {
    "duration": 181,
    "start_time": "2021-09-23T15:27:21.696Z"
   },
   {
    "duration": 7,
    "start_time": "2021-09-23T15:27:28.581Z"
   },
   {
    "duration": 12,
    "start_time": "2021-09-23T15:27:35.833Z"
   },
   {
    "duration": 11,
    "start_time": "2021-09-23T15:28:42.104Z"
   },
   {
    "duration": 25,
    "start_time": "2021-09-23T15:29:03.267Z"
   },
   {
    "duration": 1439,
    "start_time": "2021-09-23T15:39:04.303Z"
   },
   {
    "duration": 7,
    "start_time": "2021-09-23T15:39:05.744Z"
   },
   {
    "duration": 11,
    "start_time": "2021-09-23T15:39:05.754Z"
   },
   {
    "duration": 5,
    "start_time": "2021-09-23T15:39:05.768Z"
   },
   {
    "duration": 22,
    "start_time": "2021-09-23T15:39:05.776Z"
   },
   {
    "duration": 24,
    "start_time": "2021-09-23T15:39:05.800Z"
   },
   {
    "duration": 15,
    "start_time": "2021-09-23T15:39:05.826Z"
   },
   {
    "duration": 43,
    "start_time": "2021-09-23T15:39:05.844Z"
   },
   {
    "duration": 8,
    "start_time": "2021-09-23T15:39:05.889Z"
   },
   {
    "duration": 19,
    "start_time": "2021-09-23T15:39:05.899Z"
   },
   {
    "duration": 12,
    "start_time": "2021-09-23T15:39:05.920Z"
   },
   {
    "duration": 45,
    "start_time": "2021-09-23T15:39:05.934Z"
   },
   {
    "duration": 19,
    "start_time": "2021-09-23T15:39:05.981Z"
   },
   {
    "duration": 5,
    "start_time": "2021-09-23T15:39:06.002Z"
   },
   {
    "duration": 8,
    "start_time": "2021-09-23T15:39:06.009Z"
   },
   {
    "duration": 5,
    "start_time": "2021-09-23T15:39:06.019Z"
   },
   {
    "duration": 6,
    "start_time": "2021-09-23T15:39:06.026Z"
   },
   {
    "duration": 48,
    "start_time": "2021-09-23T15:39:06.034Z"
   },
   {
    "duration": 5,
    "start_time": "2021-09-23T15:39:06.084Z"
   },
   {
    "duration": 15,
    "start_time": "2021-09-23T15:39:06.091Z"
   },
   {
    "duration": 12,
    "start_time": "2021-09-23T15:39:06.108Z"
   },
   {
    "duration": 18,
    "start_time": "2021-09-23T15:39:06.122Z"
   },
   {
    "duration": 146,
    "start_time": "2021-09-23T15:39:06.176Z"
   },
   {
    "duration": 7,
    "start_time": "2021-09-23T15:39:06.324Z"
   },
   {
    "duration": 149,
    "start_time": "2021-09-23T15:39:06.333Z"
   },
   {
    "duration": 28,
    "start_time": "2021-09-23T15:39:06.484Z"
   },
   {
    "duration": 7,
    "start_time": "2021-09-23T15:39:06.513Z"
   },
   {
    "duration": 28,
    "start_time": "2021-09-23T15:39:06.521Z"
   },
   {
    "duration": 3,
    "start_time": "2021-09-23T15:39:06.551Z"
   },
   {
    "duration": 39,
    "start_time": "2021-09-23T15:39:06.555Z"
   },
   {
    "duration": 23,
    "start_time": "2021-09-23T15:39:06.596Z"
   },
   {
    "duration": 15,
    "start_time": "2021-09-23T15:39:06.621Z"
   },
   {
    "duration": 39,
    "start_time": "2021-09-23T15:39:06.638Z"
   },
   {
    "duration": 5,
    "start_time": "2021-09-23T15:39:06.679Z"
   },
   {
    "duration": 23,
    "start_time": "2021-09-23T15:39:06.686Z"
   },
   {
    "duration": 3,
    "start_time": "2021-09-23T15:39:06.711Z"
   },
   {
    "duration": 196,
    "start_time": "2021-09-23T15:39:06.716Z"
   },
   {
    "duration": 13,
    "start_time": "2021-09-23T15:39:06.914Z"
   },
   {
    "duration": 31,
    "start_time": "2021-09-23T15:39:06.929Z"
   },
   {
    "duration": 335,
    "start_time": "2021-09-23T15:39:06.962Z"
   },
   {
    "duration": 7,
    "start_time": "2021-09-23T15:39:07.299Z"
   },
   {
    "duration": 365,
    "start_time": "2021-09-23T15:39:07.307Z"
   },
   {
    "duration": 269,
    "start_time": "2021-09-23T15:39:07.677Z"
   },
   {
    "duration": 6,
    "start_time": "2021-09-23T15:39:07.947Z"
   },
   {
    "duration": 241,
    "start_time": "2021-09-23T15:39:07.955Z"
   },
   {
    "duration": 8,
    "start_time": "2021-09-23T15:39:08.199Z"
   },
   {
    "duration": 27,
    "start_time": "2021-09-23T15:39:08.208Z"
   },
   {
    "duration": 17,
    "start_time": "2021-09-23T15:39:08.237Z"
   },
   {
    "duration": 13,
    "start_time": "2021-09-23T15:39:08.256Z"
   },
   {
    "duration": 129,
    "start_time": "2021-09-24T10:56:51.027Z"
   },
   {
    "duration": 1728,
    "start_time": "2022-03-14T07:33:12.760Z"
   },
   {
    "duration": 10,
    "start_time": "2022-03-14T07:33:14.490Z"
   },
   {
    "duration": 18,
    "start_time": "2022-03-14T07:33:14.503Z"
   },
   {
    "duration": 7,
    "start_time": "2022-03-14T07:33:14.524Z"
   },
   {
    "duration": 61,
    "start_time": "2022-03-14T07:33:14.534Z"
   },
   {
    "duration": 35,
    "start_time": "2022-03-14T07:33:14.598Z"
   },
   {
    "duration": 46,
    "start_time": "2022-03-14T07:33:14.636Z"
   },
   {
    "duration": 29,
    "start_time": "2022-03-14T07:33:14.686Z"
   },
   {
    "duration": 13,
    "start_time": "2022-03-14T07:33:14.718Z"
   },
   {
    "duration": 57,
    "start_time": "2022-03-14T07:33:14.733Z"
   },
   {
    "duration": 13,
    "start_time": "2022-03-14T07:33:14.793Z"
   },
   {
    "duration": 23,
    "start_time": "2022-03-14T07:33:14.809Z"
   },
   {
    "duration": 58,
    "start_time": "2022-03-14T07:33:14.834Z"
   },
   {
    "duration": 5,
    "start_time": "2022-03-14T07:33:14.894Z"
   },
   {
    "duration": 11,
    "start_time": "2022-03-14T07:33:14.902Z"
   },
   {
    "duration": 9,
    "start_time": "2022-03-14T07:33:14.916Z"
   },
   {
    "duration": 5,
    "start_time": "2022-03-14T07:33:14.927Z"
   },
   {
    "duration": 69,
    "start_time": "2022-03-14T07:33:14.934Z"
   },
   {
    "duration": 7,
    "start_time": "2022-03-14T07:33:15.006Z"
   },
   {
    "duration": 180,
    "start_time": "2022-03-14T07:33:15.015Z"
   },
   {
    "duration": 685,
    "start_time": "2022-03-14T07:33:14.513Z"
   },
   {
    "duration": 685,
    "start_time": "2022-03-14T07:33:14.515Z"
   },
   {
    "duration": 685,
    "start_time": "2022-03-14T07:33:14.516Z"
   },
   {
    "duration": 685,
    "start_time": "2022-03-14T07:33:14.518Z"
   },
   {
    "duration": 685,
    "start_time": "2022-03-14T07:33:14.519Z"
   },
   {
    "duration": 684,
    "start_time": "2022-03-14T07:33:14.521Z"
   },
   {
    "duration": 684,
    "start_time": "2022-03-14T07:33:14.523Z"
   },
   {
    "duration": 685,
    "start_time": "2022-03-14T07:33:14.524Z"
   },
   {
    "duration": 684,
    "start_time": "2022-03-14T07:33:14.526Z"
   },
   {
    "duration": 685,
    "start_time": "2022-03-14T07:33:14.527Z"
   },
   {
    "duration": 684,
    "start_time": "2022-03-14T07:33:14.529Z"
   },
   {
    "duration": 685,
    "start_time": "2022-03-14T07:33:14.530Z"
   },
   {
    "duration": 678,
    "start_time": "2022-03-14T07:33:14.538Z"
   },
   {
    "duration": 679,
    "start_time": "2022-03-14T07:33:14.539Z"
   },
   {
    "duration": 672,
    "start_time": "2022-03-14T07:33:14.547Z"
   },
   {
    "duration": 642,
    "start_time": "2022-03-14T07:33:14.579Z"
   },
   {
    "duration": 638,
    "start_time": "2022-03-14T07:33:14.584Z"
   },
   {
    "duration": 638,
    "start_time": "2022-03-14T07:33:14.586Z"
   },
   {
    "duration": 637,
    "start_time": "2022-03-14T07:33:14.588Z"
   },
   {
    "duration": 638,
    "start_time": "2022-03-14T07:33:14.589Z"
   },
   {
    "duration": 637,
    "start_time": "2022-03-14T07:33:14.591Z"
   },
   {
    "duration": 638,
    "start_time": "2022-03-14T07:33:14.592Z"
   },
   {
    "duration": 637,
    "start_time": "2022-03-14T07:33:14.594Z"
   },
   {
    "duration": 638,
    "start_time": "2022-03-14T07:33:14.595Z"
   },
   {
    "duration": 637,
    "start_time": "2022-03-14T07:33:14.597Z"
   },
   {
    "duration": 638,
    "start_time": "2022-03-14T07:33:14.598Z"
   },
   {
    "duration": 673,
    "start_time": "2022-03-14T07:33:14.600Z"
   },
   {
    "duration": 674,
    "start_time": "2022-03-14T07:33:14.601Z"
   },
   {
    "duration": 16,
    "start_time": "2022-03-14T07:34:11.619Z"
   },
   {
    "duration": 1744,
    "start_time": "2022-03-14T07:34:23.552Z"
   },
   {
    "duration": 10,
    "start_time": "2022-03-14T07:34:25.298Z"
   },
   {
    "duration": 18,
    "start_time": "2022-03-14T07:34:25.311Z"
   },
   {
    "duration": 7,
    "start_time": "2022-03-14T07:34:25.332Z"
   },
   {
    "duration": 64,
    "start_time": "2022-03-14T07:34:25.342Z"
   },
   {
    "duration": 37,
    "start_time": "2022-03-14T07:34:25.409Z"
   },
   {
    "duration": 44,
    "start_time": "2022-03-14T07:34:25.448Z"
   },
   {
    "duration": 29,
    "start_time": "2022-03-14T07:34:25.496Z"
   },
   {
    "duration": 47,
    "start_time": "2022-03-14T07:34:25.528Z"
   },
   {
    "duration": 39,
    "start_time": "2022-03-14T07:34:25.577Z"
   },
   {
    "duration": 32,
    "start_time": "2022-03-14T07:34:25.618Z"
   },
   {
    "duration": 46,
    "start_time": "2022-03-14T07:34:25.653Z"
   },
   {
    "duration": 38,
    "start_time": "2022-03-14T07:34:25.701Z"
   },
   {
    "duration": 12,
    "start_time": "2022-03-14T07:34:25.741Z"
   },
   {
    "duration": 34,
    "start_time": "2022-03-14T07:34:25.755Z"
   },
   {
    "duration": 30,
    "start_time": "2022-03-14T07:34:25.791Z"
   },
   {
    "duration": 29,
    "start_time": "2022-03-14T07:34:25.823Z"
   },
   {
    "duration": 60,
    "start_time": "2022-03-14T07:34:25.854Z"
   },
   {
    "duration": 21,
    "start_time": "2022-03-14T07:34:25.917Z"
   },
   {
    "duration": 23,
    "start_time": "2022-03-14T07:34:25.940Z"
   },
   {
    "duration": 35,
    "start_time": "2022-03-14T07:34:25.966Z"
   },
   {
    "duration": 29,
    "start_time": "2022-03-14T07:34:26.004Z"
   },
   {
    "duration": 270,
    "start_time": "2022-03-14T07:34:26.041Z"
   },
   {
    "duration": 260,
    "start_time": "2022-03-14T07:34:26.315Z"
   },
   {
    "duration": 48,
    "start_time": "2022-03-14T07:34:26.578Z"
   },
   {
    "duration": 27,
    "start_time": "2022-03-14T07:34:26.629Z"
   },
   {
    "duration": 30,
    "start_time": "2022-03-14T07:34:26.673Z"
   },
   {
    "duration": 5,
    "start_time": "2022-03-14T07:34:26.706Z"
   },
   {
    "duration": 40,
    "start_time": "2022-03-14T07:34:26.713Z"
   },
   {
    "duration": 39,
    "start_time": "2022-03-14T07:34:26.774Z"
   },
   {
    "duration": 25,
    "start_time": "2022-03-14T07:34:26.816Z"
   },
   {
    "duration": 69,
    "start_time": "2022-03-14T07:34:26.843Z"
   },
   {
    "duration": 8,
    "start_time": "2022-03-14T07:34:26.914Z"
   },
   {
    "duration": 56,
    "start_time": "2022-03-14T07:34:26.925Z"
   },
   {
    "duration": 5,
    "start_time": "2022-03-14T07:34:26.983Z"
   },
   {
    "duration": 321,
    "start_time": "2022-03-14T07:34:26.991Z"
   },
   {
    "duration": 21,
    "start_time": "2022-03-14T07:34:27.314Z"
   },
   {
    "duration": 58,
    "start_time": "2022-03-14T07:34:27.337Z"
   },
   {
    "duration": 557,
    "start_time": "2022-03-14T07:34:27.398Z"
   },
   {
    "duration": 15,
    "start_time": "2022-03-14T07:34:27.958Z"
   },
   {
    "duration": 522,
    "start_time": "2022-03-14T07:34:27.975Z"
   },
   {
    "duration": 437,
    "start_time": "2022-03-14T07:34:28.499Z"
   },
   {
    "duration": 9,
    "start_time": "2022-03-14T07:34:28.939Z"
   },
   {
    "duration": 386,
    "start_time": "2022-03-14T07:34:28.950Z"
   },
   {
    "duration": 9,
    "start_time": "2022-03-14T07:34:29.338Z"
   },
   {
    "duration": 34,
    "start_time": "2022-03-14T07:34:29.349Z"
   },
   {
    "duration": 19,
    "start_time": "2022-03-14T07:34:29.385Z"
   },
   {
    "duration": 46,
    "start_time": "2022-03-14T07:34:29.406Z"
   }
  ],
  "colab": {
   "name": "DA+. Сборный проект 1. Шаблон (1).ipynb",
   "provenance": []
  },
  "kernelspec": {
   "display_name": "Python 3",
   "language": "python",
   "name": "python3"
  },
  "language_info": {
   "codemirror_mode": {
    "name": "ipython",
    "version": 3
   },
   "file_extension": ".py",
   "mimetype": "text/x-python",
   "name": "python",
   "nbconvert_exporter": "python",
   "pygments_lexer": "ipython3",
   "version": "3.7.8"
  },
  "toc": {
   "base_numbering": 1,
   "nav_menu": {},
   "number_sections": true,
   "sideBar": true,
   "skip_h1_title": true,
   "title_cell": "Table of Contents",
   "title_sidebar": "Contents",
   "toc_cell": false,
   "toc_position": {
    "height": "calc(100% - 180px)",
    "left": "10px",
    "top": "150px",
    "width": "375.391px"
   },
   "toc_section_display": true,
   "toc_window_display": false
  }
 },
 "nbformat": 4,
 "nbformat_minor": 1
}
