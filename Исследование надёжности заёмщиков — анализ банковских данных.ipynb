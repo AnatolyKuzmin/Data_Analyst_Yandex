{
 "cells": [
  {
   "cell_type": "markdown",
   "metadata": {},
   "source": [
    "# Исследование надёжности заёмщиков\n",
    "\n",
    "Заказчик — кредитный отдел банка. Нужно разобраться, влияет ли семейное положение и количество детей клиента на факт погашения кредита в срок. Входные данные от банка — статистика о платёжеспособности клиентов.\n",
    "\n",
    "Результаты исследования будут учтены при построении модели **кредитного скоринга** — специальной системы, которая оценивает способность потенциального заёмщика вернуть кредит банку."
   ]
  },
  {
   "cell_type": "markdown",
   "metadata": {},
   "source": [
    "## Шаг 1. Откройте файл с данными и изучите общую информацию"
   ]
  },
  {
   "cell_type": "markdown",
   "metadata": {},
   "source": [
    "Импорт библиотеки pandas.\n",
    "Вывод первых 10 строк таблицы для изучения данных."
   ]
  },
  {
   "cell_type": "code",
   "execution_count": 1,
   "metadata": {},
   "outputs": [
    {
     "data": {
      "text/html": [
       "<div>\n",
       "<style scoped>\n",
       "    .dataframe tbody tr th:only-of-type {\n",
       "        vertical-align: middle;\n",
       "    }\n",
       "\n",
       "    .dataframe tbody tr th {\n",
       "        vertical-align: top;\n",
       "    }\n",
       "\n",
       "    .dataframe thead th {\n",
       "        text-align: right;\n",
       "    }\n",
       "</style>\n",
       "<table border=\"1\" class=\"dataframe\">\n",
       "  <thead>\n",
       "    <tr style=\"text-align: right;\">\n",
       "      <th></th>\n",
       "      <th>children</th>\n",
       "      <th>days_employed</th>\n",
       "      <th>dob_years</th>\n",
       "      <th>education</th>\n",
       "      <th>education_id</th>\n",
       "      <th>family_status</th>\n",
       "      <th>family_status_id</th>\n",
       "      <th>gender</th>\n",
       "      <th>income_type</th>\n",
       "      <th>debt</th>\n",
       "      <th>total_income</th>\n",
       "      <th>purpose</th>\n",
       "    </tr>\n",
       "  </thead>\n",
       "  <tbody>\n",
       "    <tr>\n",
       "      <td>0</td>\n",
       "      <td>1</td>\n",
       "      <td>-8437.673028</td>\n",
       "      <td>42</td>\n",
       "      <td>высшее</td>\n",
       "      <td>0</td>\n",
       "      <td>женат / замужем</td>\n",
       "      <td>0</td>\n",
       "      <td>F</td>\n",
       "      <td>сотрудник</td>\n",
       "      <td>0</td>\n",
       "      <td>253875.639453</td>\n",
       "      <td>покупка жилья</td>\n",
       "    </tr>\n",
       "    <tr>\n",
       "      <td>1</td>\n",
       "      <td>1</td>\n",
       "      <td>-4024.803754</td>\n",
       "      <td>36</td>\n",
       "      <td>среднее</td>\n",
       "      <td>1</td>\n",
       "      <td>женат / замужем</td>\n",
       "      <td>0</td>\n",
       "      <td>F</td>\n",
       "      <td>сотрудник</td>\n",
       "      <td>0</td>\n",
       "      <td>112080.014102</td>\n",
       "      <td>приобретение автомобиля</td>\n",
       "    </tr>\n",
       "    <tr>\n",
       "      <td>2</td>\n",
       "      <td>0</td>\n",
       "      <td>-5623.422610</td>\n",
       "      <td>33</td>\n",
       "      <td>Среднее</td>\n",
       "      <td>1</td>\n",
       "      <td>женат / замужем</td>\n",
       "      <td>0</td>\n",
       "      <td>M</td>\n",
       "      <td>сотрудник</td>\n",
       "      <td>0</td>\n",
       "      <td>145885.952297</td>\n",
       "      <td>покупка жилья</td>\n",
       "    </tr>\n",
       "    <tr>\n",
       "      <td>3</td>\n",
       "      <td>3</td>\n",
       "      <td>-4124.747207</td>\n",
       "      <td>32</td>\n",
       "      <td>среднее</td>\n",
       "      <td>1</td>\n",
       "      <td>женат / замужем</td>\n",
       "      <td>0</td>\n",
       "      <td>M</td>\n",
       "      <td>сотрудник</td>\n",
       "      <td>0</td>\n",
       "      <td>267628.550329</td>\n",
       "      <td>дополнительное образование</td>\n",
       "    </tr>\n",
       "    <tr>\n",
       "      <td>4</td>\n",
       "      <td>0</td>\n",
       "      <td>340266.072047</td>\n",
       "      <td>53</td>\n",
       "      <td>среднее</td>\n",
       "      <td>1</td>\n",
       "      <td>гражданский брак</td>\n",
       "      <td>1</td>\n",
       "      <td>F</td>\n",
       "      <td>пенсионер</td>\n",
       "      <td>0</td>\n",
       "      <td>158616.077870</td>\n",
       "      <td>сыграть свадьбу</td>\n",
       "    </tr>\n",
       "    <tr>\n",
       "      <td>5</td>\n",
       "      <td>0</td>\n",
       "      <td>-926.185831</td>\n",
       "      <td>27</td>\n",
       "      <td>высшее</td>\n",
       "      <td>0</td>\n",
       "      <td>гражданский брак</td>\n",
       "      <td>1</td>\n",
       "      <td>M</td>\n",
       "      <td>компаньон</td>\n",
       "      <td>0</td>\n",
       "      <td>255763.565419</td>\n",
       "      <td>покупка жилья</td>\n",
       "    </tr>\n",
       "    <tr>\n",
       "      <td>6</td>\n",
       "      <td>0</td>\n",
       "      <td>-2879.202052</td>\n",
       "      <td>43</td>\n",
       "      <td>высшее</td>\n",
       "      <td>0</td>\n",
       "      <td>женат / замужем</td>\n",
       "      <td>0</td>\n",
       "      <td>F</td>\n",
       "      <td>компаньон</td>\n",
       "      <td>0</td>\n",
       "      <td>240525.971920</td>\n",
       "      <td>операции с жильем</td>\n",
       "    </tr>\n",
       "    <tr>\n",
       "      <td>7</td>\n",
       "      <td>0</td>\n",
       "      <td>-152.779569</td>\n",
       "      <td>50</td>\n",
       "      <td>СРЕДНЕЕ</td>\n",
       "      <td>1</td>\n",
       "      <td>женат / замужем</td>\n",
       "      <td>0</td>\n",
       "      <td>M</td>\n",
       "      <td>сотрудник</td>\n",
       "      <td>0</td>\n",
       "      <td>135823.934197</td>\n",
       "      <td>образование</td>\n",
       "    </tr>\n",
       "    <tr>\n",
       "      <td>8</td>\n",
       "      <td>2</td>\n",
       "      <td>-6929.865299</td>\n",
       "      <td>35</td>\n",
       "      <td>ВЫСШЕЕ</td>\n",
       "      <td>0</td>\n",
       "      <td>гражданский брак</td>\n",
       "      <td>1</td>\n",
       "      <td>F</td>\n",
       "      <td>сотрудник</td>\n",
       "      <td>0</td>\n",
       "      <td>95856.832424</td>\n",
       "      <td>на проведение свадьбы</td>\n",
       "    </tr>\n",
       "    <tr>\n",
       "      <td>9</td>\n",
       "      <td>0</td>\n",
       "      <td>-2188.756445</td>\n",
       "      <td>41</td>\n",
       "      <td>среднее</td>\n",
       "      <td>1</td>\n",
       "      <td>женат / замужем</td>\n",
       "      <td>0</td>\n",
       "      <td>M</td>\n",
       "      <td>сотрудник</td>\n",
       "      <td>0</td>\n",
       "      <td>144425.938277</td>\n",
       "      <td>покупка жилья для семьи</td>\n",
       "    </tr>\n",
       "  </tbody>\n",
       "</table>\n",
       "</div>"
      ],
      "text/plain": [
       "   children  days_employed  dob_years education  education_id  \\\n",
       "0         1   -8437.673028         42    высшее             0   \n",
       "1         1   -4024.803754         36   среднее             1   \n",
       "2         0   -5623.422610         33   Среднее             1   \n",
       "3         3   -4124.747207         32   среднее             1   \n",
       "4         0  340266.072047         53   среднее             1   \n",
       "5         0    -926.185831         27    высшее             0   \n",
       "6         0   -2879.202052         43    высшее             0   \n",
       "7         0    -152.779569         50   СРЕДНЕЕ             1   \n",
       "8         2   -6929.865299         35    ВЫСШЕЕ             0   \n",
       "9         0   -2188.756445         41   среднее             1   \n",
       "\n",
       "      family_status  family_status_id gender income_type  debt   total_income  \\\n",
       "0   женат / замужем                 0      F   сотрудник     0  253875.639453   \n",
       "1   женат / замужем                 0      F   сотрудник     0  112080.014102   \n",
       "2   женат / замужем                 0      M   сотрудник     0  145885.952297   \n",
       "3   женат / замужем                 0      M   сотрудник     0  267628.550329   \n",
       "4  гражданский брак                 1      F   пенсионер     0  158616.077870   \n",
       "5  гражданский брак                 1      M   компаньон     0  255763.565419   \n",
       "6   женат / замужем                 0      F   компаньон     0  240525.971920   \n",
       "7   женат / замужем                 0      M   сотрудник     0  135823.934197   \n",
       "8  гражданский брак                 1      F   сотрудник     0   95856.832424   \n",
       "9   женат / замужем                 0      M   сотрудник     0  144425.938277   \n",
       "\n",
       "                      purpose  \n",
       "0               покупка жилья  \n",
       "1     приобретение автомобиля  \n",
       "2               покупка жилья  \n",
       "3  дополнительное образование  \n",
       "4             сыграть свадьбу  \n",
       "5               покупка жилья  \n",
       "6           операции с жильем  \n",
       "7                 образование  \n",
       "8       на проведение свадьбы  \n",
       "9     покупка жилья для семьи  "
      ]
     },
     "execution_count": 1,
     "metadata": {},
     "output_type": "execute_result"
    }
   ],
   "source": [
    "# импорт библиотеки pandas\n",
    "import pandas as pd\n",
    "\n",
    "# чтение файла с данными и сохранение в data\n",
    "data = pd.read_csv('/datasets/data.csv')\n",
    "\n",
    "# получение первых 10 строк таблицы data\n",
    "data.head(10)"
   ]
  },
  {
   "cell_type": "code",
   "execution_count": 2,
   "metadata": {},
   "outputs": [
    {
     "name": "stdout",
     "output_type": "stream",
     "text": [
      "<class 'pandas.core.frame.DataFrame'>\n",
      "RangeIndex: 21525 entries, 0 to 21524\n",
      "Data columns (total 12 columns):\n",
      "children            21525 non-null int64\n",
      "days_employed       19351 non-null float64\n",
      "dob_years           21525 non-null int64\n",
      "education           21525 non-null object\n",
      "education_id        21525 non-null int64\n",
      "family_status       21525 non-null object\n",
      "family_status_id    21525 non-null int64\n",
      "gender              21525 non-null object\n",
      "income_type         21525 non-null object\n",
      "debt                21525 non-null int64\n",
      "total_income        19351 non-null float64\n",
      "purpose             21525 non-null object\n",
      "dtypes: float64(2), int64(5), object(5)\n",
      "memory usage: 2.0+ MB\n"
     ]
    }
   ],
   "source": [
    "# получение общей информации о данных в таблице data\n",
    "data.info()"
   ]
  },
  {
   "cell_type": "markdown",
   "metadata": {},
   "source": [
    "В таблице двенадцать столбцов.\n",
    "\n",
    "Согласно документации к данным:\n",
    "\n",
    "* `children` — количество детей в семье;\n",
    "* `days_employed` — общий трудовой стаж в днях;\n",
    "* `dob_years` — возраст клиента в годах;\n",
    "* `education` — уровень образования клиента;\n",
    "* `education_id` — идентификатор уровня образования;\n",
    "* `family_status` — семейное положение;\n",
    "* `family_status_id` — идентификатор семейного положения;\n",
    "* `gender` — пол клиента;\n",
    "* `income_type` — тип занятости;\n",
    "* `debt` — имел ли задолженность по возврату кредитов;\n",
    "* `total_income` — ежемесячный доход;\n",
    "* `purpose` — цель получения кредита.\n",
    "\n",
    "Количество значений в столбцах `days_employed` и `total_income` равны 19351, но меньше общего количества строк таблицы 21525."
   ]
  },
  {
   "cell_type": "markdown",
   "metadata": {},
   "source": [
    "**Вывод**\n",
    "\n",
    "В каждой строке таблицы — статистика о платёжеспособности клиентов.\n",
    "\n",
    "Предварительно можно утверждать, что, данных достаточно для проверки гипотез. Но встречаются пропуски в данных, в столбцах стаж и доход. Уровень образования заполнен в разных регистрах. Так же в столбце стаж есть отрицательные числа, и завышеные.\n",
    "\n",
    "Перед тем как ответить на вопросы, нужно устранить проблемы в данных."
   ]
  },
  {
   "cell_type": "markdown",
   "metadata": {},
   "source": [
    "## Шаг 2. Предобработка данных"
   ]
  },
  {
   "cell_type": "markdown",
   "metadata": {},
   "source": [
    "### Обработка пропусков"
   ]
  },
  {
   "cell_type": "markdown",
   "metadata": {},
   "source": [
    "Посчитаем сколько в таблице пропущенных значений"
   ]
  },
  {
   "cell_type": "code",
   "execution_count": 3,
   "metadata": {},
   "outputs": [
    {
     "data": {
      "text/plain": [
       "children               0\n",
       "days_employed       2174\n",
       "dob_years              0\n",
       "education              0\n",
       "education_id           0\n",
       "family_status          0\n",
       "family_status_id       0\n",
       "gender                 0\n",
       "income_type            0\n",
       "debt                   0\n",
       "total_income        2174\n",
       "purpose                0\n",
       "dtype: int64"
      ]
     },
     "execution_count": 3,
     "metadata": {},
     "output_type": "execute_result"
    }
   ],
   "source": [
    "# подсчет количества пропусков\n",
    "data.isna().sum()"
   ]
  },
  {
   "cell_type": "markdown",
   "metadata": {},
   "source": [
    "В итоге пропуски только в двух столбцах days_employed(общий трудовой стаж в днях) и total_income(ежемесячный доход). Заменим пустые значения на ноль и снова проверим количество пропущенных значений."
   ]
  },
  {
   "cell_type": "code",
   "execution_count": 4,
   "metadata": {},
   "outputs": [
    {
     "data": {
      "text/plain": [
       "2174"
      ]
     },
     "execution_count": 4,
     "metadata": {},
     "output_type": "execute_result"
    }
   ],
   "source": [
    "# проверка что доход и стаж незаполнены в одних строках\n",
    "data[data['days_employed'].isna() == True]['total_income'].isna().sum()"
   ]
  },
  {
   "cell_type": "code",
   "execution_count": 5,
   "metadata": {},
   "outputs": [
    {
     "data": {
      "text/plain": [
       "array(['пенсионер', 'безработный'], dtype=object)"
      ]
     },
     "execution_count": 5,
     "metadata": {},
     "output_type": "execute_result"
    }
   ],
   "source": [
    "# проверка завышенных показателей\n",
    "data[data['days_employed']/365 > 80]['income_type'].unique()"
   ]
  },
  {
   "cell_type": "code",
   "execution_count": 6,
   "metadata": {},
   "outputs": [
    {
     "data": {
      "text/plain": [
       "array(['сотрудник', 'компаньон', 'госслужащий', 'студент',\n",
       "       'предприниматель', 'в декрете'], dtype=object)"
      ]
     },
     "execution_count": 6,
     "metadata": {},
     "output_type": "execute_result"
    }
   ],
   "source": [
    "# проверка завышенных показателей\n",
    "data[data['days_employed']/365 < 80]['income_type'].unique()"
   ]
  },
  {
   "cell_type": "markdown",
   "metadata": {},
   "source": [
    "Проверка показала, что дни стажа по пенсионерам и безработным завышены. Эти данный будут искажать итоговый вывод. Надо уточнить данные у заказчика."
   ]
  },
  {
   "cell_type": "code",
   "execution_count": 7,
   "metadata": {},
   "outputs": [
    {
     "data": {
      "text/plain": [
       "children            0\n",
       "days_employed       0\n",
       "dob_years           0\n",
       "education           0\n",
       "education_id        0\n",
       "family_status       0\n",
       "family_status_id    0\n",
       "gender              0\n",
       "income_type         0\n",
       "debt                0\n",
       "total_income        0\n",
       "purpose             0\n",
       "dtype: int64"
      ]
     },
     "execution_count": 7,
     "metadata": {},
     "output_type": "execute_result"
    }
   ],
   "source": [
    "# меняем отрицательное значение стажа на положительное\n",
    "def days_employed_abs(index):\n",
    "    if index < 0:\n",
    "        index *= -1\n",
    "        return index\n",
    "    else:\n",
    "        return index\n",
    "data['days_employed'] = data['days_employed'].apply(days_employed_abs)\n",
    "\n",
    "# находим среднее значение по столбцу общий трудовой стаж в днях, без учета пенсионеров и безработных\n",
    "# находим медиану по столбцу ежемесячный доход\n",
    "days_employed_mean = data[data['days_employed']/365 < 80]['days_employed'].mean()\n",
    "total_income_median = data['total_income'].median()\n",
    "\n",
    "# заменим пустые строки\n",
    "data['days_employed'] = data['days_employed'].fillna(days_employed_mean)\n",
    "data['total_income'] = data['total_income'].fillna(total_income_median)\n",
    "\n",
    "# подсчет количества пропусков\n",
    "data.isna().sum()"
   ]
  },
  {
   "cell_type": "markdown",
   "metadata": {},
   "source": [
    "**Вывод**\n",
    "\n",
    "Замена пропущенных значений выполнена, что показывает повторный пересчет пропусков по таблице data. Возможная причина пустых ячеек клиент не указал данные. По стажу замена была выполнена на среднее значение, а так же выполнена замена отрицательных чисел на положительные. В доходе выполнена замена на медианное значение.\n",
    "Есть в таблице данные по пенсионерам и безработным, которые сильно завышены."
   ]
  },
  {
   "cell_type": "markdown",
   "metadata": {},
   "source": [
    "### Замена типа данных"
   ]
  },
  {
   "cell_type": "code",
   "execution_count": 8,
   "metadata": {},
   "outputs": [],
   "source": [
    "# замена вещественных данных на тип целочисленный\n",
    "data['days_employed'] = data['days_employed'].astype('int')\n",
    "data['total_income'] = data['total_income'].astype('int')"
   ]
  },
  {
   "cell_type": "markdown",
   "metadata": {},
   "source": [
    "**Вывод**\n",
    "\n",
    "В столбцах стаж и доход выполнена замена типа данных на целочисленное"
   ]
  },
  {
   "cell_type": "markdown",
   "metadata": {},
   "source": [
    "### Обработка дубликатов"
   ]
  },
  {
   "cell_type": "markdown",
   "metadata": {},
   "source": [
    "Поправим формат в столбце уровень образования, ранее было видно, что регистр разный. Так же проверим как заполнены другие столбцы"
   ]
  },
  {
   "cell_type": "code",
   "execution_count": 9,
   "metadata": {},
   "outputs": [
    {
     "data": {
      "text/plain": [
       "array(['высшее', 'среднее', 'неоконченное высшее', 'начальное',\n",
       "       'ученая степень'], dtype=object)"
      ]
     },
     "execution_count": 9,
     "metadata": {},
     "output_type": "execute_result"
    }
   ],
   "source": [
    "# в столбце уровень образования приведем к нижнему регистру\n",
    "data['education'] = data['education'].str.lower()\n",
    "# проверка формата уровень образования клиента после привидения к нижнему регистру\n",
    "data['education'].unique()"
   ]
  },
  {
   "cell_type": "code",
   "execution_count": 10,
   "metadata": {},
   "outputs": [
    {
     "data": {
      "text/plain": [
       "array(['F', 'M', 'XNA'], dtype=object)"
      ]
     },
     "execution_count": 10,
     "metadata": {},
     "output_type": "execute_result"
    }
   ],
   "source": [
    "# проверка формата\n",
    "data['gender'].unique()"
   ]
  },
  {
   "cell_type": "code",
   "execution_count": 11,
   "metadata": {},
   "outputs": [
    {
     "data": {
      "text/plain": [
       "array(['женат / замужем', 'гражданский брак', 'вдовец / вдова',\n",
       "       'в разводе', 'Не женат / не замужем'], dtype=object)"
      ]
     },
     "execution_count": 11,
     "metadata": {},
     "output_type": "execute_result"
    }
   ],
   "source": [
    "# проверка формата семейное положение\n",
    "data['family_status'].unique()"
   ]
  },
  {
   "cell_type": "code",
   "execution_count": 12,
   "metadata": {},
   "outputs": [
    {
     "data": {
      "text/plain": [
       "array(['сотрудник', 'пенсионер', 'компаньон', 'госслужащий',\n",
       "       'безработный', 'предприниматель', 'студент', 'в декрете'],\n",
       "      dtype=object)"
      ]
     },
     "execution_count": 12,
     "metadata": {},
     "output_type": "execute_result"
    }
   ],
   "source": [
    "# проверка формата тип занятости\n",
    "data['income_type'].unique()"
   ]
  },
  {
   "cell_type": "code",
   "execution_count": 13,
   "metadata": {},
   "outputs": [
    {
     "data": {
      "text/plain": [
       "array(['покупка жилья', 'приобретение автомобиля',\n",
       "       'дополнительное образование', 'сыграть свадьбу',\n",
       "       'операции с жильем', 'образование', 'на проведение свадьбы',\n",
       "       'покупка жилья для семьи', 'покупка недвижимости',\n",
       "       'покупка коммерческой недвижимости', 'покупка жилой недвижимости',\n",
       "       'строительство собственной недвижимости', 'недвижимость',\n",
       "       'строительство недвижимости', 'на покупку подержанного автомобиля',\n",
       "       'на покупку своего автомобиля',\n",
       "       'операции с коммерческой недвижимостью',\n",
       "       'строительство жилой недвижимости', 'жилье',\n",
       "       'операции со своей недвижимостью', 'автомобили',\n",
       "       'заняться образованием', 'сделка с подержанным автомобилем',\n",
       "       'получение образования', 'автомобиль', 'свадьба',\n",
       "       'получение дополнительного образования', 'покупка своего жилья',\n",
       "       'операции с недвижимостью', 'получение высшего образования',\n",
       "       'свой автомобиль', 'сделка с автомобилем',\n",
       "       'профильное образование', 'высшее образование',\n",
       "       'покупка жилья для сдачи', 'на покупку автомобиля', 'ремонт жилью',\n",
       "       'заняться высшим образованием'], dtype=object)"
      ]
     },
     "execution_count": 13,
     "metadata": {},
     "output_type": "execute_result"
    }
   ],
   "source": [
    "# проверка формата цель получения кредита\n",
    "data['purpose'].unique()"
   ]
  },
  {
   "cell_type": "code",
   "execution_count": 14,
   "metadata": {},
   "outputs": [
    {
     "data": {
      "text/plain": [
       "0    14225\n",
       "1     4865\n",
       "2     2055\n",
       "3      330\n",
       "4       41\n",
       "5        9\n",
       "Name: children, dtype: int64"
      ]
     },
     "metadata": {},
     "output_type": "display_data"
    }
   ],
   "source": [
    "# проверка формата количество детей в семье\n",
    "data['children'].value_counts()\n",
    "\n",
    "# в таблице присутствуют данные с отрицательным значением по количеству детей в семье и 20 детей\n",
    "# заменим отрицательное значение -1 на 1, а 20 на медианое значение,т.к. не ясно как возникла ошибка\n",
    "data['children'] = data['children'].replace(-1, 1)\n",
    "children_median = data[data['children'] != 20]['children'].median()\n",
    "data['children'] = data['children'].replace(20, children_median)\n",
    "display(data['children'].value_counts())"
   ]
  },
  {
   "cell_type": "code",
   "execution_count": 15,
   "metadata": {},
   "outputs": [],
   "source": [
    "# методом duplicated() находим строки-дубликаты, у которых полностью совпадают значения в ячейках\n",
    "data.duplicated().sum()\n",
    "# явных вышло 71 строка\n",
    "# удаляем явные дубликаты метод drop_duplicates()\n",
    "data = data.drop_duplicates().reset_index(drop=True)"
   ]
  },
  {
   "cell_type": "markdown",
   "metadata": {},
   "source": [
    "**Вывод**\n",
    "\n",
    "Выявлены явные дубликаты в таблице data, применены методы для их удаления.\n",
    "В столбце образование были выявлены дубликаты из за разного регистра, заменены на нижний регистр. Провели проверку форматов, привели к одному типу с помощью метода str.lower(). Проверили столбцы методом unique() и value_counts(). В столбце пол клиента обнаружено значение 'XNA', из данных не получится выяснить настоящий пол клиента, можно оставить так как пол не учувствует в расчетах. Также скорректирован столбец количество детей в семье, исправлены отрицательные значения и завышенное 20 детей. Завышенное заменено на медианное значение."
   ]
  },
  {
   "cell_type": "markdown",
   "metadata": {},
   "source": [
    "### Лемматизация"
   ]
  },
  {
   "cell_type": "markdown",
   "metadata": {},
   "source": [
    "Раннее при обработке целей кредита было видно, что очень похожи. Для примера \"покупка жилья\", \"операции с жильем\", \"покупка недвижимости\" или \"жилье\" все это связано с недвижимостью, поэтому их можно объеденить одной категорией \"недвижимость\". Таким же способом мы объеденим кредиты на свадьбу, на покупку автомобиля и получение образования."
   ]
  },
  {
   "cell_type": "code",
   "execution_count": null,
   "metadata": {},
   "outputs": [],
   "source": [
    "# Проведем лемматизацию целей кредита\n",
    "from pymystem3 import Mystem\n",
    "m = Mystem() \n",
    "\n",
    "data['purpose_lem'] = 0\n",
    "\n",
    "# фунция, где создаем новый столбец, объединяем в общие цели\n",
    "def lemmatize_data(table):\n",
    "    for line in range(0, len(table['purpose'])):\n",
    "        lemmas = m.lemmatize(table.loc[line, 'purpose'])\n",
    "        if 'жилье' in lemmas or 'недвижимость' in lemmas:\n",
    "            table.loc[line, 'purpose_lem'] = 'недвижимость'\n",
    "        if 'свадьба' in lemmas:\n",
    "            table.loc[line, 'purpose_lem'] = 'свадьба'\n",
    "        if 'автомобиль' in lemmas:\n",
    "            table.loc[line, 'purpose_lem'] = 'автомобиль'\n",
    "        if 'образование' in lemmas:\n",
    "            table.loc[line, 'purpose_lem'] = 'образование'\n",
    "    return table\n",
    "\n",
    "data = lemmatize_data(data)\n",
    "# проверка что нет незаполненых строк\n",
    "data['purpose_lem'].value_counts()"
   ]
  },
  {
   "cell_type": "code",
   "execution_count": null,
   "metadata": {},
   "outputs": [],
   "source": [
    "purposes_keys = {'жилье', 'недвижимость', 'автомобиль', 'образование', 'свадьба'}\n",
    "\n",
    "def get_purpose(data):\n",
    "    \n",
    "    \"\"\"Присваивает строке категорию цели\"\"\"\n",
    "    \n",
    "    intersection = list(purposes_keys & set(m.lemmatize(data['purpose'])))\n",
    "    \n",
    "    if not intersection:\n",
    "        return 'категория не определена'\n",
    "    return intersection[0]\n",
    "\n",
    "df_example = data.head().copy()\n",
    "df_example['new_purpose'] = df_example.apply(get_purpose, axis=1)\n",
    "\n",
    "df_example.apply(get_purpose, axis=1)"
   ]
  },
  {
   "cell_type": "markdown",
   "metadata": {},
   "source": [
    "**Вывод**\n",
    "\n",
    "При проверке формата, было выявлено, что в основном цели кредита можно привести к 4 основным категориям: недвижимость, автомобиль, образование и свадьба. С помощью лемматизации разбили строки на основные категории. В дальнейшем упрости работу для изучения влияния цели кредита на другие метрики."
   ]
  },
  {
   "cell_type": "markdown",
   "metadata": {},
   "source": [
    "### Категоризация данных"
   ]
  },
  {
   "cell_type": "markdown",
   "metadata": {},
   "source": [
    "Выполним катигоризацию по ежемесечному доходу. В дальнешем нам понадобиться это для ответа на вопрос \"Есть ли зависимость между уровнем дохода и возвратом кредита в срок?\"."
   ]
  },
  {
   "cell_type": "code",
   "execution_count": null,
   "metadata": {},
   "outputs": [],
   "source": [
    "# выполним категоризацию и сразу добавим в отдельный столбце\n",
    "data['income_id_category'] = pd.qcut(data['total_income'], 10, labels=False)"
   ]
  },
  {
   "cell_type": "markdown",
   "metadata": {},
   "source": [
    "**Вывод**\n",
    "\n",
    "Разделили уровень дохода на 10 категорий и добавили в новый столбце в таблицу."
   ]
  },
  {
   "cell_type": "markdown",
   "metadata": {},
   "source": [
    "## Шаг 3. Ответьте на вопросы"
   ]
  },
  {
   "cell_type": "markdown",
   "metadata": {},
   "source": [
    "- Есть ли зависимость между наличием детей и возвратом кредита в срок?"
   ]
  },
  {
   "cell_type": "code",
   "execution_count": null,
   "metadata": {},
   "outputs": [],
   "source": [
    "# для расчета зависмости создаем новый объект\n",
    "children_debt = pd.DataFrame()\n",
    "# посчитаем количество строк по количеству детей\n",
    "children_debt['debt_count'] = data.groupby('children')['debt'].count()\n",
    "# посчитаем сумму строк с задолженостями\n",
    "children_debt['debt_sum'] = data.groupby('children')['debt'].sum()\n",
    "# посчитаем конверсию\n",
    "children_debt['debt_ratio'] = children_debt['debt_sum'] / children_debt['debt_count']\n",
    "children_debt.sort_values('debt_ratio', ascending = False)"
   ]
  },
  {
   "cell_type": "code",
   "execution_count": null,
   "metadata": {},
   "outputs": [],
   "source": [
    "children_debt.style.format({'debt_ratio': '{:.2%}'})"
   ]
  },
  {
   "cell_type": "markdown",
   "metadata": {},
   "source": [
    "**Вывод**\n",
    "\n",
    "В таблице видно, бездетные чаще платят в срок. Если у клиента 4 детей количество просроченных платежей выше, но так же видно, что у тех кого 3 детей реже просрачивают чем люди с 1 ребенком. По даным сложно судить зависит наличие детей на возврат кредита в срок или нет."
   ]
  },
  {
   "cell_type": "markdown",
   "metadata": {},
   "source": [
    "- Есть ли зависимость между семейным положением и возвратом кредита в срок?"
   ]
  },
  {
   "cell_type": "code",
   "execution_count": null,
   "metadata": {},
   "outputs": [],
   "source": [
    "# для расчета зависмости создаем новый объект\n",
    "family_status_debt = pd.DataFrame()\n",
    "# посчитаем количество строк в зависимости от семейного положения\n",
    "family_status_debt['debt_count'] = data.groupby('family_status')['debt'].count()\n",
    "# посчитаем сумму строк с задолженостями в зависимости от семейного положения\n",
    "family_status_debt['debt_sum'] = data.groupby('family_status')['debt'].sum()\n",
    "# посчитаем конверсию\n",
    "family_status_debt['debt_ratio'] = family_status_debt['debt_sum'] / family_status_debt['debt_count'] \n",
    "family_status_debt.sort_values('debt_ratio', ascending = False)"
   ]
  },
  {
   "cell_type": "code",
   "execution_count": null,
   "metadata": {},
   "outputs": [],
   "source": [
    "data.groupby('family_status')['debt'].agg(['count', 'sum', 'mean'])"
   ]
  },
  {
   "cell_type": "markdown",
   "metadata": {},
   "source": [
    "**Вывод**\n",
    "\n",
    "Конверсия показала, реже задолженность имеют клиенты в разводе или овдовевшие. А люди не бывавшие в браке наоборот чаще имеют задолженность по возврату кредитов."
   ]
  },
  {
   "cell_type": "markdown",
   "metadata": {},
   "source": [
    "- Есть ли зависимость между уровнем дохода и возвратом кредита в срок?"
   ]
  },
  {
   "cell_type": "code",
   "execution_count": null,
   "metadata": {},
   "outputs": [],
   "source": [
    "# для расчета зависимости категоризируем уровень дохода, больше 1 млн. поставим категорию 10\n",
    "# категории поделим по 100 тыс.\n",
    "# def income_category(index):\n",
    "#    if index >= 1000000:\n",
    "#        return 10\n",
    "#    else:\n",
    "#        index = index // 100000\n",
    "#        return index\n",
    "\n",
    "# применим функцию и вставим в новый столбце\n",
    "# data['income_id_category'] = data['total_income'].apply(income_category)\n",
    "# для расчета зависмости создаем новый объект\n",
    "total_income_debt = pd.DataFrame()\n",
    "# посчитаем количество строк в зависимости от уровня дохода\n",
    "total_income_debt['debt_count'] = data.groupby('income_id_category')['debt'].count()\n",
    "# посчитаем сумму строк с задолженостями в зависимости от уровня дохода\n",
    "total_income_debt['debt_sum'] = data.groupby('income_id_category')['debt'].sum()\n",
    "# посчитаем конверсию\n",
    "total_income_debt['debt_ratio'] = total_income_debt['debt_sum'] / total_income_debt['debt_count']\n",
    "total_income_debt.sort_values('debt_ratio', ascending = False)"
   ]
  },
  {
   "cell_type": "markdown",
   "metadata": {},
   "source": [
    "**Вывод**\n",
    "\n",
    "Как показывают данные в таблице, зависимости между уровнем дохода и возвратом кредита в срок нет."
   ]
  },
  {
   "cell_type": "markdown",
   "metadata": {},
   "source": [
    "- Как разные цели кредита влияют на его возврат в срок?"
   ]
  },
  {
   "cell_type": "code",
   "execution_count": null,
   "metadata": {},
   "outputs": [],
   "source": [
    "# для расчета зависмости создаем новый объект\n",
    "purpose_category_debt = pd.DataFrame()\n",
    "# посчитаем количество строк в зависимости от цели кредита\n",
    "purpose_category_debt['debt_count'] = data.groupby('purpose_lem')['debt'].count()\n",
    "# посчитаем сумму строк с задолженостями в зависимости от цели кредита\n",
    "purpose_category_debt['debt_sum'] = data.groupby('purpose_lem')['debt'].sum()\n",
    "# посчитаем конверсию\n",
    "purpose_category_debt['debt_ratio'] = purpose_category_debt['debt_sum'] / purpose_category_debt['debt_count'] \n",
    "purpose_category_debt.sort_values('debt_ratio', ascending = False)"
   ]
  },
  {
   "cell_type": "markdown",
   "metadata": {},
   "source": [
    "**Вывод**\n",
    "\n",
    "Видим, что реже просрачивают клиенты которые берут кредит на недвижемость и свадьбу. А вот на автомобиль и образование чаще всего просрочка по кредиту."
   ]
  },
  {
   "cell_type": "markdown",
   "metadata": {},
   "source": [
    "## Шаг 4. Общий вывод"
   ]
  },
  {
   "cell_type": "markdown",
   "metadata": {},
   "source": [
    "Для проверки гипотез выполнена работа по удалению пропусков, корректировка разных регистров, замене отрицательных и завышеных значений.  Проведена лемматизация и категоризация некоторых столбцов для ответа на вопросы нашей гипотизы.\n",
    "\n",
    "В итоге после проведения анализа, выяснилось, что у бездетных клиентов реже просрочка по кредиту. Чем больше детей, тем чаще не платят в срок. Реже просрочивают люди берущие кредит на недвижимость и свадьбу. Так же оказалось, что те кто были в браке платят в срок, чем те которые не были.\n",
    "\n",
    "Выходит что идеальный клиент который будет платить вовремя это - бездетный, в браке или был в браке, с целью провести свадьбу или купить недвижимость."
   ]
  }
 ],
 "metadata": {
  "ExecuteTimeLog": [
   {
    "duration": 314,
    "start_time": "2021-08-08T08:01:14.082Z"
   },
   {
    "duration": 879,
    "start_time": "2021-08-08T08:01:27.616Z"
   },
   {
    "duration": 3,
    "start_time": "2021-08-08T08:01:33.700Z"
   },
   {
    "duration": 4,
    "start_time": "2021-08-08T08:03:15.185Z"
   },
   {
    "duration": 3,
    "start_time": "2021-08-08T08:03:17.571Z"
   },
   {
    "duration": 3,
    "start_time": "2021-08-08T08:03:22.905Z"
   },
   {
    "duration": 3,
    "start_time": "2021-08-08T08:03:34.645Z"
   },
   {
    "duration": 758,
    "start_time": "2021-08-08T08:04:19.169Z"
   },
   {
    "duration": 90,
    "start_time": "2021-08-08T08:13:25.926Z"
   },
   {
    "duration": 75,
    "start_time": "2021-08-08T08:17:54.864Z"
   },
   {
    "duration": 76,
    "start_time": "2021-08-08T08:22:06.948Z"
   },
   {
    "duration": 15,
    "start_time": "2021-08-08T08:23:21.154Z"
   },
   {
    "duration": 95,
    "start_time": "2021-08-08T08:32:41.647Z"
   },
   {
    "duration": 869,
    "start_time": "2021-08-08T09:07:19.730Z"
   },
   {
    "duration": 14,
    "start_time": "2021-08-08T09:07:20.602Z"
   },
   {
    "duration": 450,
    "start_time": "2021-08-08T13:10:27.278Z"
   },
   {
    "duration": 349,
    "start_time": "2021-08-08T13:10:54.816Z"
   },
   {
    "duration": 844,
    "start_time": "2021-08-08T13:11:15.656Z"
   },
   {
    "duration": 15,
    "start_time": "2021-08-08T13:11:16.502Z"
   },
   {
    "duration": 9341,
    "start_time": "2021-08-08T13:11:16.521Z"
   },
   {
    "duration": 44491,
    "start_time": "2021-08-08T13:11:45.835Z"
   },
   {
    "duration": 8266,
    "start_time": "2021-08-08T13:12:48.181Z"
   },
   {
    "duration": 29,
    "start_time": "2021-08-08T13:13:13.676Z"
   },
   {
    "duration": 12,
    "start_time": "2021-08-08T13:13:29.135Z"
   },
   {
    "duration": 58,
    "start_time": "2021-08-08T13:30:38.067Z"
   },
   {
    "duration": 353,
    "start_time": "2021-08-08T13:31:00.132Z"
   },
   {
    "duration": 50,
    "start_time": "2021-08-08T13:31:07.929Z"
   },
   {
    "duration": 36,
    "start_time": "2021-08-08T13:31:36.214Z"
   },
   {
    "duration": 119,
    "start_time": "2021-08-08T13:33:50.717Z"
   },
   {
    "duration": 9,
    "start_time": "2021-08-08T13:33:57.139Z"
   },
   {
    "duration": 8,
    "start_time": "2021-08-08T13:34:34.389Z"
   },
   {
    "duration": 33,
    "start_time": "2021-08-08T13:35:12.818Z"
   },
   {
    "duration": 171,
    "start_time": "2021-08-08T13:41:00.878Z"
   },
   {
    "duration": 14,
    "start_time": "2021-08-08T13:44:38.381Z"
   },
   {
    "duration": 823,
    "start_time": "2021-08-08T13:45:29.922Z"
   },
   {
    "duration": 14,
    "start_time": "2021-08-08T13:45:30.748Z"
   },
   {
    "duration": 23,
    "start_time": "2021-08-08T13:45:30.765Z"
   },
   {
    "duration": 23,
    "start_time": "2021-08-08T13:45:30.791Z"
   },
   {
    "duration": 873,
    "start_time": "2021-08-08T13:53:01.208Z"
   },
   {
    "duration": 17,
    "start_time": "2021-08-08T13:53:02.085Z"
   },
   {
    "duration": 22,
    "start_time": "2021-08-08T13:53:02.109Z"
   },
   {
    "duration": 39,
    "start_time": "2021-08-08T13:53:02.134Z"
   },
   {
    "duration": 39,
    "start_time": "2021-08-08T13:53:02.176Z"
   },
   {
    "duration": 431,
    "start_time": "2021-08-08T13:57:41.901Z"
   },
   {
    "duration": 846,
    "start_time": "2021-08-08T13:57:51.833Z"
   },
   {
    "duration": 14,
    "start_time": "2021-08-08T13:57:52.682Z"
   },
   {
    "duration": 12,
    "start_time": "2021-08-08T13:57:52.701Z"
   },
   {
    "duration": 437,
    "start_time": "2021-08-08T13:57:52.715Z"
   },
   {
    "duration": 44532,
    "start_time": "2021-08-08T13:57:08.623Z"
   },
   {
    "duration": 850,
    "start_time": "2021-08-08T13:58:18.662Z"
   },
   {
    "duration": 14,
    "start_time": "2021-08-08T13:58:19.515Z"
   },
   {
    "duration": 15,
    "start_time": "2021-08-08T13:58:19.532Z"
   },
   {
    "duration": 8,
    "start_time": "2021-08-08T13:58:19.549Z"
   },
   {
    "duration": 47,
    "start_time": "2021-08-08T13:58:19.560Z"
   },
   {
    "duration": 798,
    "start_time": "2021-08-08T14:43:18.639Z"
   },
   {
    "duration": 16,
    "start_time": "2021-08-08T14:43:19.440Z"
   },
   {
    "duration": 12,
    "start_time": "2021-08-08T14:43:19.459Z"
   },
   {
    "duration": 8,
    "start_time": "2021-08-08T14:43:19.502Z"
   },
   {
    "duration": 16,
    "start_time": "2021-08-08T14:43:19.513Z"
   },
   {
    "duration": 988,
    "start_time": "2021-08-08T16:20:04.359Z"
   },
   {
    "duration": 16,
    "start_time": "2021-08-08T16:20:05.350Z"
   },
   {
    "duration": 36,
    "start_time": "2021-08-08T16:20:05.369Z"
   },
   {
    "duration": 9,
    "start_time": "2021-08-08T16:20:05.408Z"
   },
   {
    "duration": 19,
    "start_time": "2021-08-08T16:20:05.420Z"
   },
   {
    "duration": 502,
    "start_time": "2021-08-08T17:22:03.763Z"
   },
   {
    "duration": 18,
    "start_time": "2021-08-08T17:22:23.191Z"
   },
   {
    "duration": 10,
    "start_time": "2021-08-08T17:23:12.002Z"
   },
   {
    "duration": 34,
    "start_time": "2021-08-08T17:23:44.455Z"
   },
   {
    "duration": 949,
    "start_time": "2021-08-08T17:29:30.687Z"
   },
   {
    "duration": 15,
    "start_time": "2021-08-08T17:29:31.639Z"
   },
   {
    "duration": 16,
    "start_time": "2021-08-08T17:29:31.656Z"
   },
   {
    "duration": 39,
    "start_time": "2021-08-08T17:29:31.675Z"
   },
   {
    "duration": 17,
    "start_time": "2021-08-08T17:29:31.716Z"
   },
   {
    "duration": 17,
    "start_time": "2021-08-08T17:29:31.736Z"
   },
   {
    "duration": 11,
    "start_time": "2021-08-08T17:29:51.171Z"
   },
   {
    "duration": 831,
    "start_time": "2021-08-08T17:29:56.720Z"
   },
   {
    "duration": 15,
    "start_time": "2021-08-08T17:29:57.553Z"
   },
   {
    "duration": 33,
    "start_time": "2021-08-08T17:29:57.572Z"
   },
   {
    "duration": 9,
    "start_time": "2021-08-08T17:29:57.607Z"
   },
   {
    "duration": 14,
    "start_time": "2021-08-08T17:29:57.619Z"
   },
   {
    "duration": 17,
    "start_time": "2021-08-08T17:29:57.635Z"
   },
   {
    "duration": 831,
    "start_time": "2021-08-08T17:37:32.057Z"
   },
   {
    "duration": 14,
    "start_time": "2021-08-08T17:37:32.891Z"
   },
   {
    "duration": 12,
    "start_time": "2021-08-08T17:37:32.908Z"
   },
   {
    "duration": 11,
    "start_time": "2021-08-08T17:37:32.922Z"
   },
   {
    "duration": 12,
    "start_time": "2021-08-08T17:37:32.936Z"
   },
   {
    "duration": 10,
    "start_time": "2021-08-08T17:37:32.950Z"
   },
   {
    "duration": 19,
    "start_time": "2021-08-08T17:37:33.001Z"
   },
   {
    "duration": 852,
    "start_time": "2021-08-08T17:41:08.979Z"
   },
   {
    "duration": 15,
    "start_time": "2021-08-08T17:41:09.834Z"
   },
   {
    "duration": 12,
    "start_time": "2021-08-08T17:41:09.853Z"
   },
   {
    "duration": 34,
    "start_time": "2021-08-08T17:41:09.868Z"
   },
   {
    "duration": 14,
    "start_time": "2021-08-08T17:41:09.905Z"
   },
   {
    "duration": 11,
    "start_time": "2021-08-08T17:41:09.922Z"
   },
   {
    "duration": 17,
    "start_time": "2021-08-08T17:41:09.935Z"
   },
   {
    "duration": 55,
    "start_time": "2021-08-08T17:46:39.049Z"
   },
   {
    "duration": 22,
    "start_time": "2021-08-08T17:50:45.748Z"
   },
   {
    "duration": 41,
    "start_time": "2021-08-08T17:50:54.832Z"
   },
   {
    "duration": 711,
    "start_time": "2021-08-08T17:51:38.656Z"
   },
   {
    "duration": 44,
    "start_time": "2021-08-08T17:52:22.797Z"
   },
   {
    "duration": 48,
    "start_time": "2021-08-08T17:53:02.775Z"
   },
   {
    "duration": 52,
    "start_time": "2021-08-08T17:57:47.958Z"
   },
   {
    "duration": 30,
    "start_time": "2021-08-08T17:58:09.619Z"
   },
   {
    "duration": 50,
    "start_time": "2021-08-08T17:58:29.729Z"
   },
   {
    "duration": 1038,
    "start_time": "2021-08-08T17:58:57.644Z"
   },
   {
    "duration": 20,
    "start_time": "2021-08-08T17:58:58.686Z"
   },
   {
    "duration": 14,
    "start_time": "2021-08-08T17:58:58.710Z"
   },
   {
    "duration": 9,
    "start_time": "2021-08-08T17:58:58.727Z"
   },
   {
    "duration": 16,
    "start_time": "2021-08-08T17:58:58.739Z"
   },
   {
    "duration": 51,
    "start_time": "2021-08-08T17:58:58.758Z"
   },
   {
    "duration": 51,
    "start_time": "2021-08-08T17:58:58.812Z"
   },
   {
    "duration": 31,
    "start_time": "2021-08-08T18:05:59.305Z"
   },
   {
    "duration": 6,
    "start_time": "2021-08-08T18:06:08.412Z"
   },
   {
    "duration": 6,
    "start_time": "2021-08-08T18:06:12.600Z"
   },
   {
    "duration": 894,
    "start_time": "2021-08-08T18:12:07.475Z"
   },
   {
    "duration": 17,
    "start_time": "2021-08-08T18:12:08.372Z"
   },
   {
    "duration": 12,
    "start_time": "2021-08-08T18:12:08.406Z"
   },
   {
    "duration": 10,
    "start_time": "2021-08-08T18:12:08.421Z"
   },
   {
    "duration": 19,
    "start_time": "2021-08-08T18:12:08.433Z"
   },
   {
    "duration": 47,
    "start_time": "2021-08-08T18:12:08.454Z"
   },
   {
    "duration": 34,
    "start_time": "2021-08-08T18:12:08.505Z"
   },
   {
    "duration": 7,
    "start_time": "2021-08-08T18:12:08.541Z"
   },
   {
    "duration": 31,
    "start_time": "2021-08-08T19:11:42.639Z"
   },
   {
    "duration": 34,
    "start_time": "2021-08-08T19:14:07.913Z"
   },
   {
    "duration": 32,
    "start_time": "2021-08-08T19:14:20.001Z"
   },
   {
    "duration": 24,
    "start_time": "2021-08-08T19:17:12.224Z"
   },
   {
    "duration": 122,
    "start_time": "2021-08-08T19:17:36.803Z"
   },
   {
    "duration": 30,
    "start_time": "2021-08-08T19:18:56.649Z"
   },
   {
    "duration": 23,
    "start_time": "2021-08-08T19:23:58.689Z"
   },
   {
    "duration": 27,
    "start_time": "2021-08-08T19:25:08.613Z"
   },
   {
    "duration": 45,
    "start_time": "2021-08-08T19:25:38.234Z"
   },
   {
    "duration": 45,
    "start_time": "2021-08-08T19:25:59.968Z"
   },
   {
    "duration": 22,
    "start_time": "2021-08-08T19:28:24.558Z"
   },
   {
    "duration": 7,
    "start_time": "2021-08-08T19:29:21.955Z"
   },
   {
    "duration": 10,
    "start_time": "2021-08-08T19:29:25.335Z"
   },
   {
    "duration": 10,
    "start_time": "2021-08-08T19:29:28.231Z"
   },
   {
    "duration": 32,
    "start_time": "2021-08-08T19:29:52.865Z"
   },
   {
    "duration": 18,
    "start_time": "2021-08-08T19:40:35.424Z"
   },
   {
    "duration": 17,
    "start_time": "2021-08-08T19:41:06.975Z"
   },
   {
    "duration": 8,
    "start_time": "2021-08-08T19:46:36.782Z"
   },
   {
    "duration": 8804,
    "start_time": "2021-08-08T19:47:19.808Z"
   },
   {
    "duration": 7,
    "start_time": "2021-08-08T19:48:41.205Z"
   },
   {
    "duration": 904,
    "start_time": "2021-08-08T19:55:55.919Z"
   },
   {
    "duration": 15,
    "start_time": "2021-08-08T19:55:56.825Z"
   },
   {
    "duration": 11,
    "start_time": "2021-08-08T19:55:56.844Z"
   },
   {
    "duration": 46,
    "start_time": "2021-08-08T19:55:56.858Z"
   },
   {
    "duration": 16,
    "start_time": "2021-08-08T19:55:56.907Z"
   },
   {
    "duration": 11,
    "start_time": "2021-08-08T19:55:56.925Z"
   },
   {
    "duration": 62,
    "start_time": "2021-08-08T19:55:56.939Z"
   },
   {
    "duration": 7,
    "start_time": "2021-08-08T19:55:57.004Z"
   },
   {
    "duration": 22,
    "start_time": "2021-08-08T19:55:57.014Z"
   },
   {
    "duration": 8,
    "start_time": "2021-08-08T19:55:57.038Z"
   },
   {
    "duration": 8,
    "start_time": "2021-08-08T19:55:57.049Z"
   },
   {
    "duration": 45,
    "start_time": "2021-08-08T19:55:57.060Z"
   },
   {
    "duration": 8,
    "start_time": "2021-08-08T19:55:57.108Z"
   },
   {
    "duration": 20,
    "start_time": "2021-08-08T19:55:57.118Z"
   },
   {
    "duration": 780,
    "start_time": "2021-08-08T20:03:09.734Z"
   },
   {
    "duration": 14,
    "start_time": "2021-08-08T20:03:10.517Z"
   },
   {
    "duration": 12,
    "start_time": "2021-08-08T20:03:10.534Z"
   },
   {
    "duration": 8,
    "start_time": "2021-08-08T20:03:10.549Z"
   },
   {
    "duration": 42,
    "start_time": "2021-08-08T20:03:10.560Z"
   },
   {
    "duration": 11,
    "start_time": "2021-08-08T20:03:10.605Z"
   },
   {
    "duration": 30,
    "start_time": "2021-08-08T20:03:10.618Z"
   },
   {
    "duration": 5,
    "start_time": "2021-08-08T20:03:10.652Z"
   },
   {
    "duration": 59,
    "start_time": "2021-08-08T20:03:10.659Z"
   },
   {
    "duration": 10,
    "start_time": "2021-08-08T20:03:10.721Z"
   },
   {
    "duration": 9,
    "start_time": "2021-08-08T20:03:10.734Z"
   },
   {
    "duration": 10,
    "start_time": "2021-08-08T20:03:10.745Z"
   },
   {
    "duration": 8,
    "start_time": "2021-08-08T20:03:10.757Z"
   },
   {
    "duration": 19,
    "start_time": "2021-08-08T20:03:10.801Z"
   },
   {
    "duration": 620,
    "start_time": "2021-08-09T18:12:04.077Z"
   },
   {
    "duration": 10,
    "start_time": "2021-08-09T18:12:04.699Z"
   },
   {
    "duration": 9,
    "start_time": "2021-08-09T18:12:04.711Z"
   },
   {
    "duration": 6,
    "start_time": "2021-08-09T18:12:04.721Z"
   },
   {
    "duration": 6,
    "start_time": "2021-08-09T18:12:04.728Z"
   },
   {
    "duration": 7,
    "start_time": "2021-08-09T18:12:04.736Z"
   },
   {
    "duration": 58,
    "start_time": "2021-08-09T18:12:04.744Z"
   },
   {
    "duration": 4,
    "start_time": "2021-08-09T18:12:04.803Z"
   },
   {
    "duration": 17,
    "start_time": "2021-08-09T18:12:04.810Z"
   },
   {
    "duration": 4,
    "start_time": "2021-08-09T18:12:04.828Z"
   },
   {
    "duration": 7,
    "start_time": "2021-08-09T18:12:04.833Z"
   },
   {
    "duration": 4,
    "start_time": "2021-08-09T18:12:04.842Z"
   },
   {
    "duration": 37,
    "start_time": "2021-08-09T18:12:04.848Z"
   },
   {
    "duration": 13,
    "start_time": "2021-08-09T18:12:04.887Z"
   },
   {
    "duration": 19,
    "start_time": "2021-08-09T18:12:04.902Z"
   },
   {
    "duration": 56,
    "start_time": "2021-08-09T18:21:50.571Z"
   },
   {
    "duration": 58,
    "start_time": "2021-08-09T18:22:15.870Z"
   },
   {
    "duration": 396,
    "start_time": "2021-08-09T18:22:27.012Z"
   },
   {
    "duration": 60,
    "start_time": "2021-08-09T18:23:38.155Z"
   },
   {
    "duration": 27574,
    "start_time": "2021-08-09T18:24:01.216Z"
   },
   {
    "duration": 27239,
    "start_time": "2021-08-09T18:24:55.991Z"
   },
   {
    "duration": 27326,
    "start_time": "2021-08-09T18:26:06.483Z"
   },
   {
    "duration": 27392,
    "start_time": "2021-08-09T18:28:58.409Z"
   },
   {
    "duration": 27916,
    "start_time": "2021-08-09T18:29:57.616Z"
   },
   {
    "duration": 553,
    "start_time": "2021-08-09T18:30:59.136Z"
   },
   {
    "duration": 10,
    "start_time": "2021-08-09T18:30:59.691Z"
   },
   {
    "duration": 9,
    "start_time": "2021-08-09T18:30:59.705Z"
   },
   {
    "duration": 6,
    "start_time": "2021-08-09T18:30:59.715Z"
   },
   {
    "duration": 6,
    "start_time": "2021-08-09T18:30:59.723Z"
   },
   {
    "duration": 7,
    "start_time": "2021-08-09T18:30:59.731Z"
   },
   {
    "duration": 57,
    "start_time": "2021-08-09T18:30:59.739Z"
   },
   {
    "duration": 4,
    "start_time": "2021-08-09T18:30:59.799Z"
   },
   {
    "duration": 18,
    "start_time": "2021-08-09T18:30:59.804Z"
   },
   {
    "duration": 4,
    "start_time": "2021-08-09T18:30:59.824Z"
   },
   {
    "duration": 5,
    "start_time": "2021-08-09T18:30:59.829Z"
   },
   {
    "duration": 5,
    "start_time": "2021-08-09T18:30:59.835Z"
   },
   {
    "duration": 6,
    "start_time": "2021-08-09T18:30:59.841Z"
   },
   {
    "duration": 13,
    "start_time": "2021-08-09T18:30:59.885Z"
   },
   {
    "duration": 27357,
    "start_time": "2021-08-09T18:30:59.900Z"
   },
   {
    "duration": 14,
    "start_time": "2021-08-09T19:37:57.640Z"
   },
   {
    "duration": 14,
    "start_time": "2021-08-09T19:46:39.138Z"
   },
   {
    "duration": 15,
    "start_time": "2021-08-09T20:05:47.479Z"
   },
   {
    "duration": 17,
    "start_time": "2021-08-09T20:06:33.860Z"
   },
   {
    "duration": 15,
    "start_time": "2021-08-09T20:09:34.573Z"
   },
   {
    "duration": 68,
    "start_time": "2021-08-09T20:25:53.827Z"
   },
   {
    "duration": 482,
    "start_time": "2021-08-10T19:06:49.648Z"
   },
   {
    "duration": 901,
    "start_time": "2021-08-10T19:07:36.149Z"
   },
   {
    "duration": 16,
    "start_time": "2021-08-10T19:07:37.053Z"
   },
   {
    "duration": 13,
    "start_time": "2021-08-10T19:07:37.084Z"
   },
   {
    "duration": 9,
    "start_time": "2021-08-10T19:07:37.100Z"
   },
   {
    "duration": 16,
    "start_time": "2021-08-10T19:07:37.112Z"
   },
   {
    "duration": 10,
    "start_time": "2021-08-10T19:07:37.130Z"
   },
   {
    "duration": 71,
    "start_time": "2021-08-10T19:07:37.142Z"
   },
   {
    "duration": 7,
    "start_time": "2021-08-10T19:07:37.217Z"
   },
   {
    "duration": 25,
    "start_time": "2021-08-10T19:07:37.226Z"
   },
   {
    "duration": 35,
    "start_time": "2021-08-10T19:07:37.254Z"
   },
   {
    "duration": 10,
    "start_time": "2021-08-10T19:07:37.291Z"
   },
   {
    "duration": 7,
    "start_time": "2021-08-10T19:07:37.303Z"
   },
   {
    "duration": 8,
    "start_time": "2021-08-10T19:07:37.312Z"
   },
   {
    "duration": 18,
    "start_time": "2021-08-10T19:07:37.323Z"
   },
   {
    "duration": 41845,
    "start_time": "2021-08-10T19:07:37.343Z"
   },
   {
    "duration": 21,
    "start_time": "2021-08-10T19:08:19.190Z"
   },
   {
    "duration": 23,
    "start_time": "2021-08-10T19:08:19.213Z"
   },
   {
    "duration": 53,
    "start_time": "2021-08-10T19:08:19.238Z"
   },
   {
    "duration": 460,
    "start_time": "2021-08-10T19:08:19.293Z"
   },
   {
    "duration": 45810,
    "start_time": "2021-08-10T19:07:33.946Z"
   },
   {
    "duration": 49,
    "start_time": "2021-08-10T19:08:56.247Z"
   },
   {
    "duration": 23,
    "start_time": "2021-08-10T19:09:44.181Z"
   },
   {
    "duration": 140,
    "start_time": "2021-08-10T19:10:50.791Z"
   },
   {
    "duration": 23,
    "start_time": "2021-08-10T19:11:04.874Z"
   },
   {
    "duration": 119,
    "start_time": "2021-08-10T19:11:43.110Z"
   },
   {
    "duration": 26,
    "start_time": "2021-08-10T19:11:49.236Z"
   },
   {
    "duration": 447,
    "start_time": "2021-08-10T19:21:03.830Z"
   },
   {
    "duration": 36,
    "start_time": "2021-08-10T19:22:34.488Z"
   },
   {
    "duration": 37,
    "start_time": "2021-08-10T19:26:09.113Z"
   },
   {
    "duration": 36,
    "start_time": "2021-08-10T19:26:28.443Z"
   },
   {
    "duration": 837,
    "start_time": "2021-08-10T19:32:47.617Z"
   },
   {
    "duration": 14,
    "start_time": "2021-08-10T19:32:48.457Z"
   },
   {
    "duration": 12,
    "start_time": "2021-08-10T19:32:48.489Z"
   },
   {
    "duration": 9,
    "start_time": "2021-08-10T19:32:48.504Z"
   },
   {
    "duration": 15,
    "start_time": "2021-08-10T19:32:48.516Z"
   },
   {
    "duration": 54,
    "start_time": "2021-08-10T19:32:48.533Z"
   },
   {
    "duration": 33,
    "start_time": "2021-08-10T19:32:48.591Z"
   },
   {
    "duration": 6,
    "start_time": "2021-08-10T19:32:48.627Z"
   },
   {
    "duration": 53,
    "start_time": "2021-08-10T19:32:48.635Z"
   },
   {
    "duration": 6,
    "start_time": "2021-08-10T19:32:48.690Z"
   },
   {
    "duration": 13,
    "start_time": "2021-08-10T19:32:48.698Z"
   },
   {
    "duration": 7,
    "start_time": "2021-08-10T19:32:48.713Z"
   },
   {
    "duration": 11,
    "start_time": "2021-08-10T19:32:48.722Z"
   },
   {
    "duration": 57,
    "start_time": "2021-08-10T19:32:48.736Z"
   },
   {
    "duration": 41548,
    "start_time": "2021-08-10T19:32:48.795Z"
   },
   {
    "duration": 21,
    "start_time": "2021-08-10T19:33:30.345Z"
   },
   {
    "duration": 33,
    "start_time": "2021-08-10T19:33:30.369Z"
   },
   {
    "duration": 41,
    "start_time": "2021-08-10T19:33:30.405Z"
   },
   {
    "duration": 480,
    "start_time": "2021-08-10T19:33:30.448Z"
   },
   {
    "duration": 45818,
    "start_time": "2021-08-10T19:32:45.113Z"
   },
   {
    "duration": 24,
    "start_time": "2021-08-10T19:45:20.591Z"
   },
   {
    "duration": 859,
    "start_time": "2021-08-10T20:01:41.826Z"
   },
   {
    "duration": 15,
    "start_time": "2021-08-10T20:01:42.687Z"
   },
   {
    "duration": 12,
    "start_time": "2021-08-10T20:01:42.705Z"
   },
   {
    "duration": 12,
    "start_time": "2021-08-10T20:01:42.720Z"
   },
   {
    "duration": 17,
    "start_time": "2021-08-10T20:01:42.735Z"
   },
   {
    "duration": 37,
    "start_time": "2021-08-10T20:01:42.755Z"
   },
   {
    "duration": 32,
    "start_time": "2021-08-10T20:01:42.795Z"
   },
   {
    "duration": 6,
    "start_time": "2021-08-10T20:01:42.830Z"
   },
   {
    "duration": 55,
    "start_time": "2021-08-10T20:01:42.839Z"
   },
   {
    "duration": 11,
    "start_time": "2021-08-10T20:01:42.896Z"
   },
   {
    "duration": 11,
    "start_time": "2021-08-10T20:01:42.910Z"
   },
   {
    "duration": 10,
    "start_time": "2021-08-10T20:01:42.923Z"
   },
   {
    "duration": 7,
    "start_time": "2021-08-10T20:01:42.936Z"
   },
   {
    "duration": 52,
    "start_time": "2021-08-10T20:01:42.946Z"
   },
   {
    "duration": 41244,
    "start_time": "2021-08-10T20:01:43.001Z"
   },
   {
    "duration": 21,
    "start_time": "2021-08-10T20:02:24.248Z"
   },
   {
    "duration": 26,
    "start_time": "2021-08-10T20:02:24.285Z"
   },
   {
    "duration": 41,
    "start_time": "2021-08-10T20:02:24.314Z"
   },
   {
    "duration": 25,
    "start_time": "2021-08-10T20:02:24.386Z"
   },
   {
    "duration": 896,
    "start_time": "2021-08-10T20:04:56.154Z"
   },
   {
    "duration": 16,
    "start_time": "2021-08-10T20:04:57.052Z"
   },
   {
    "duration": 25,
    "start_time": "2021-08-10T20:04:57.071Z"
   },
   {
    "duration": 8,
    "start_time": "2021-08-10T20:04:57.099Z"
   },
   {
    "duration": 17,
    "start_time": "2021-08-10T20:04:57.110Z"
   },
   {
    "duration": 11,
    "start_time": "2021-08-10T20:04:57.129Z"
   },
   {
    "duration": 66,
    "start_time": "2021-08-10T20:04:57.142Z"
   },
   {
    "duration": 6,
    "start_time": "2021-08-10T20:04:57.210Z"
   },
   {
    "duration": 35,
    "start_time": "2021-08-10T20:04:57.220Z"
   },
   {
    "duration": 28,
    "start_time": "2021-08-10T20:04:57.259Z"
   },
   {
    "duration": 12,
    "start_time": "2021-08-10T20:04:57.289Z"
   },
   {
    "duration": 7,
    "start_time": "2021-08-10T20:04:57.303Z"
   },
   {
    "duration": 13,
    "start_time": "2021-08-10T20:04:57.312Z"
   },
   {
    "duration": 19,
    "start_time": "2021-08-10T20:04:57.328Z"
   },
   {
    "duration": 40637,
    "start_time": "2021-08-10T20:04:57.385Z"
   },
   {
    "duration": 22,
    "start_time": "2021-08-10T20:05:38.025Z"
   },
   {
    "duration": 42,
    "start_time": "2021-08-10T20:05:38.050Z"
   },
   {
    "duration": 36,
    "start_time": "2021-08-10T20:05:38.095Z"
   },
   {
    "duration": 19,
    "start_time": "2021-08-10T20:05:38.134Z"
   },
   {
    "duration": 1423,
    "start_time": "2021-08-10T20:58:36.424Z"
   },
   {
    "duration": 10,
    "start_time": "2021-08-10T20:58:37.849Z"
   },
   {
    "duration": 8,
    "start_time": "2021-08-10T20:58:37.861Z"
   },
   {
    "duration": 5,
    "start_time": "2021-08-10T20:58:37.871Z"
   },
   {
    "duration": 8,
    "start_time": "2021-08-10T20:58:37.878Z"
   },
   {
    "duration": 7,
    "start_time": "2021-08-10T20:58:37.887Z"
   },
   {
    "duration": 20,
    "start_time": "2021-08-10T20:58:37.896Z"
   },
   {
    "duration": 4,
    "start_time": "2021-08-10T20:58:37.918Z"
   },
   {
    "duration": 16,
    "start_time": "2021-08-10T20:58:37.924Z"
   },
   {
    "duration": 5,
    "start_time": "2021-08-10T20:58:37.941Z"
   },
   {
    "duration": 38,
    "start_time": "2021-08-10T20:58:37.947Z"
   },
   {
    "duration": 4,
    "start_time": "2021-08-10T20:58:37.987Z"
   },
   {
    "duration": 6,
    "start_time": "2021-08-10T20:58:37.992Z"
   },
   {
    "duration": 13,
    "start_time": "2021-08-10T20:58:38.000Z"
   },
   {
    "duration": 27495,
    "start_time": "2021-08-10T20:58:38.014Z"
   },
   {
    "duration": 14,
    "start_time": "2021-08-10T20:59:05.511Z"
   },
   {
    "duration": 14,
    "start_time": "2021-08-10T20:59:05.527Z"
   },
   {
    "duration": 43,
    "start_time": "2021-08-10T20:59:05.543Z"
   },
   {
    "duration": 14,
    "start_time": "2021-08-10T20:59:05.588Z"
   },
   {
    "duration": 404,
    "start_time": "2021-08-10T21:18:07.086Z"
   },
   {
    "duration": 15,
    "start_time": "2021-08-10T21:19:03.886Z"
   },
   {
    "duration": 247,
    "start_time": "2021-08-12T15:39:25.521Z"
   },
   {
    "duration": 177,
    "start_time": "2021-08-12T15:39:29.578Z"
   },
   {
    "duration": 385,
    "start_time": "2021-08-12T15:39:41.310Z"
   },
   {
    "duration": 168,
    "start_time": "2021-08-12T15:39:46.034Z"
   },
   {
    "duration": 640,
    "start_time": "2021-08-12T15:39:52.507Z"
   },
   {
    "duration": 9,
    "start_time": "2021-08-12T15:39:53.149Z"
   },
   {
    "duration": 9,
    "start_time": "2021-08-12T15:39:53.160Z"
   },
   {
    "duration": 14,
    "start_time": "2021-08-12T15:39:53.170Z"
   },
   {
    "duration": 6,
    "start_time": "2021-08-12T15:39:53.186Z"
   },
   {
    "duration": 6,
    "start_time": "2021-08-12T15:39:53.194Z"
   },
   {
    "duration": 21,
    "start_time": "2021-08-12T15:39:53.202Z"
   },
   {
    "duration": 5,
    "start_time": "2021-08-12T15:39:53.225Z"
   },
   {
    "duration": 20,
    "start_time": "2021-08-12T15:39:53.231Z"
   },
   {
    "duration": 34,
    "start_time": "2021-08-12T15:39:53.252Z"
   },
   {
    "duration": 11,
    "start_time": "2021-08-12T15:39:53.287Z"
   },
   {
    "duration": 11,
    "start_time": "2021-08-12T15:39:53.299Z"
   },
   {
    "duration": 11,
    "start_time": "2021-08-12T15:39:53.312Z"
   },
   {
    "duration": 17,
    "start_time": "2021-08-12T15:39:53.324Z"
   },
   {
    "duration": 28087,
    "start_time": "2021-08-12T15:39:53.342Z"
   },
   {
    "duration": 14,
    "start_time": "2021-08-12T15:40:21.431Z"
   },
   {
    "duration": 356,
    "start_time": "2021-08-12T15:40:21.447Z"
   },
   {
    "duration": 18,
    "start_time": "2021-08-12T15:40:21.805Z"
   },
   {
    "duration": 11,
    "start_time": "2021-08-12T15:40:21.825Z"
   },
   {
    "duration": 24,
    "start_time": "2021-08-12T15:40:21.838Z"
   },
   {
    "duration": 15,
    "start_time": "2021-08-12T15:40:21.885Z"
   },
   {
    "duration": 62,
    "start_time": "2021-08-12T15:49:44.266Z"
   },
   {
    "duration": 63,
    "start_time": "2021-08-12T16:00:04.980Z"
   },
   {
    "duration": 162,
    "start_time": "2021-08-12T16:00:35.315Z"
   },
   {
    "duration": 405,
    "start_time": "2021-08-12T20:06:37.957Z"
   },
   {
    "duration": 861,
    "start_time": "2021-08-12T20:07:14.327Z"
   },
   {
    "duration": 82,
    "start_time": "2021-08-12T20:07:17.939Z"
   },
   {
    "duration": 11,
    "start_time": "2021-08-12T20:07:28.505Z"
   },
   {
    "duration": 14,
    "start_time": "2021-08-12T20:07:30.260Z"
   },
   {
    "duration": 12,
    "start_time": "2021-08-12T20:07:32.167Z"
   },
   {
    "duration": 33,
    "start_time": "2021-08-12T20:07:35.343Z"
   },
   {
    "duration": 7,
    "start_time": "2021-08-12T20:07:39.550Z"
   },
   {
    "duration": 23,
    "start_time": "2021-08-12T20:07:44.757Z"
   },
   {
    "duration": 8,
    "start_time": "2021-08-12T20:07:46.311Z"
   },
   {
    "duration": 8,
    "start_time": "2021-08-12T20:07:48.124Z"
   },
   {
    "duration": 7,
    "start_time": "2021-08-12T20:07:50.926Z"
   },
   {
    "duration": 7,
    "start_time": "2021-08-12T20:07:52.320Z"
   },
   {
    "duration": 21,
    "start_time": "2021-08-12T20:07:54.787Z"
   },
   {
    "duration": 27,
    "start_time": "2021-08-12T20:07:56.840Z"
   },
   {
    "duration": 23,
    "start_time": "2021-08-12T20:08:04.273Z"
   },
   {
    "duration": 42,
    "start_time": "2021-08-12T20:27:59.705Z"
   },
   {
    "duration": 23,
    "start_time": "2021-08-12T20:28:26.734Z"
   },
   {
    "duration": 64,
    "start_time": "2021-08-12T20:32:54.707Z"
   },
   {
    "duration": 61,
    "start_time": "2021-08-12T20:33:09.653Z"
   },
   {
    "duration": 59,
    "start_time": "2021-08-12T20:33:53.344Z"
   },
   {
    "duration": 40,
    "start_time": "2021-08-12T20:34:20.747Z"
   },
   {
    "duration": 895,
    "start_time": "2021-08-12T20:41:02.307Z"
   },
   {
    "duration": 14,
    "start_time": "2021-08-12T20:41:03.205Z"
   },
   {
    "duration": 17,
    "start_time": "2021-08-12T20:41:03.223Z"
   },
   {
    "duration": 9,
    "start_time": "2021-08-12T20:41:03.256Z"
   },
   {
    "duration": 15,
    "start_time": "2021-08-12T20:41:03.268Z"
   },
   {
    "duration": 19,
    "start_time": "2021-08-12T20:41:03.285Z"
   },
   {
    "duration": 72,
    "start_time": "2021-08-12T20:41:03.307Z"
   },
   {
    "duration": 6,
    "start_time": "2021-08-12T20:41:03.382Z"
   },
   {
    "duration": 31,
    "start_time": "2021-08-12T20:41:03.391Z"
   },
   {
    "duration": 33,
    "start_time": "2021-08-12T20:41:03.425Z"
   },
   {
    "duration": 7,
    "start_time": "2021-08-12T20:41:03.460Z"
   },
   {
    "duration": 8,
    "start_time": "2021-08-12T20:41:03.470Z"
   },
   {
    "duration": 14,
    "start_time": "2021-08-12T20:41:03.481Z"
   },
   {
    "duration": 67,
    "start_time": "2021-08-12T20:41:03.498Z"
   },
   {
    "duration": 44,
    "start_time": "2021-08-12T20:41:03.568Z"
   },
   {
    "duration": 44200,
    "start_time": "2021-08-12T20:41:03.614Z"
   },
   {
    "duration": 39,
    "start_time": "2021-08-12T20:41:47.817Z"
   },
   {
    "duration": 754,
    "start_time": "2021-08-12T20:41:47.858Z"
   },
   {
    "duration": 25,
    "start_time": "2021-08-12T20:41:48.614Z"
   },
   {
    "duration": 18,
    "start_time": "2021-08-12T20:41:48.656Z"
   },
   {
    "duration": 38,
    "start_time": "2021-08-12T20:41:48.677Z"
   },
   {
    "duration": 50,
    "start_time": "2021-08-12T20:41:48.718Z"
   },
   {
    "duration": 828,
    "start_time": "2021-08-14T10:17:38.275Z"
   },
   {
    "duration": 14,
    "start_time": "2021-08-14T10:17:39.106Z"
   },
   {
    "duration": 11,
    "start_time": "2021-08-14T10:17:39.122Z"
   },
   {
    "duration": 8,
    "start_time": "2021-08-14T10:17:39.157Z"
   },
   {
    "duration": 25,
    "start_time": "2021-08-14T10:17:39.168Z"
   },
   {
    "duration": 11,
    "start_time": "2021-08-14T10:17:39.196Z"
   },
   {
    "duration": 56,
    "start_time": "2021-08-14T10:17:39.210Z"
   },
   {
    "duration": 6,
    "start_time": "2021-08-14T10:17:39.270Z"
   },
   {
    "duration": 33,
    "start_time": "2021-08-14T10:17:39.279Z"
   },
   {
    "duration": 6,
    "start_time": "2021-08-14T10:17:39.315Z"
   },
   {
    "duration": 34,
    "start_time": "2021-08-14T10:17:39.323Z"
   },
   {
    "duration": 6,
    "start_time": "2021-08-14T10:17:39.360Z"
   },
   {
    "duration": 9,
    "start_time": "2021-08-14T10:17:39.369Z"
   },
   {
    "duration": 20,
    "start_time": "2021-08-14T10:17:39.380Z"
   },
   {
    "duration": 83,
    "start_time": "2021-08-14T10:17:39.402Z"
   },
   {
    "duration": 39762,
    "start_time": "2021-08-14T10:17:39.487Z"
   },
   {
    "duration": 23,
    "start_time": "2021-08-14T10:18:19.252Z"
   },
   {
    "duration": 750,
    "start_time": "2021-08-14T10:18:19.278Z"
   },
   {
    "duration": 34,
    "start_time": "2021-08-14T10:18:20.031Z"
   },
   {
    "duration": 18,
    "start_time": "2021-08-14T10:18:20.067Z"
   },
   {
    "duration": 35,
    "start_time": "2021-08-14T10:18:20.088Z"
   },
   {
    "duration": 50,
    "start_time": "2021-08-14T10:18:20.126Z"
   },
   {
    "duration": 451,
    "start_time": "2021-08-14T10:23:59.015Z"
   },
   {
    "duration": 78,
    "start_time": "2021-08-14T10:25:09.948Z"
   },
   {
    "duration": 361,
    "start_time": "2021-08-14T10:25:27.626Z"
   },
   {
    "duration": 504,
    "start_time": "2021-08-14T10:26:20.963Z"
   },
   {
    "duration": 341,
    "start_time": "2021-08-14T10:26:48.396Z"
   },
   {
    "duration": 363,
    "start_time": "2021-08-14T10:40:12.056Z"
   },
   {
    "duration": 337,
    "start_time": "2021-08-14T11:02:41.530Z"
   },
   {
    "duration": 362,
    "start_time": "2021-08-14T11:04:02.213Z"
   },
   {
    "duration": 371,
    "start_time": "2021-08-14T11:06:21.347Z"
   },
   {
    "duration": 358,
    "start_time": "2021-08-14T11:07:32.401Z"
   },
   {
    "duration": 77,
    "start_time": "2021-08-14T11:07:49.164Z"
   },
   {
    "duration": 15,
    "start_time": "2021-08-14T11:07:57.239Z"
   },
   {
    "duration": 14,
    "start_time": "2021-08-14T11:08:01.366Z"
   },
   {
    "duration": 9,
    "start_time": "2021-08-14T11:08:04.212Z"
   },
   {
    "duration": 9,
    "start_time": "2021-08-14T11:08:06.807Z"
   },
   {
    "duration": 11,
    "start_time": "2021-08-14T11:08:08.651Z"
   },
   {
    "duration": 32,
    "start_time": "2021-08-14T11:08:11.108Z"
   },
   {
    "duration": 6,
    "start_time": "2021-08-14T11:08:22.004Z"
   },
   {
    "duration": 26,
    "start_time": "2021-08-14T11:08:30.994Z"
   },
   {
    "duration": 7,
    "start_time": "2021-08-14T11:08:32.658Z"
   },
   {
    "duration": 8,
    "start_time": "2021-08-14T11:08:34.260Z"
   },
   {
    "duration": 7,
    "start_time": "2021-08-14T11:08:36.728Z"
   },
   {
    "duration": 8,
    "start_time": "2021-08-14T11:08:38.054Z"
   },
   {
    "duration": 19,
    "start_time": "2021-08-14T11:08:41.074Z"
   },
   {
    "duration": 41,
    "start_time": "2021-08-14T11:08:42.979Z"
   },
   {
    "duration": 40282,
    "start_time": "2021-08-14T11:08:46.599Z"
   },
   {
    "duration": 22,
    "start_time": "2021-08-14T11:09:26.884Z"
   },
   {
    "duration": 19,
    "start_time": "2021-08-14T11:09:45.446Z"
   },
   {
    "duration": 8,
    "start_time": "2021-08-14T11:09:48.225Z"
   },
   {
    "duration": 22,
    "start_time": "2021-08-14T11:09:51.568Z"
   },
   {
    "duration": 18,
    "start_time": "2021-08-14T11:09:54.430Z"
   },
   {
    "duration": 377,
    "start_time": "2021-08-14T11:09:59.584Z"
   },
   {
    "duration": 22,
    "start_time": "2021-08-14T11:10:03.786Z"
   },
   {
    "duration": 390,
    "start_time": "2021-08-14T11:33:14.613Z"
   },
   {
    "duration": 13,
    "start_time": "2021-08-14T11:42:17.496Z"
   },
   {
    "duration": 46,
    "start_time": "2021-08-14T11:51:17.573Z"
   },
   {
    "duration": 35,
    "start_time": "2021-08-14T11:52:33.323Z"
   },
   {
    "duration": 931,
    "start_time": "2021-08-14T11:53:26.166Z"
   },
   {
    "duration": 15,
    "start_time": "2021-08-14T11:53:27.099Z"
   },
   {
    "duration": 14,
    "start_time": "2021-08-14T11:53:27.117Z"
   },
   {
    "duration": 9,
    "start_time": "2021-08-14T11:53:27.155Z"
   },
   {
    "duration": 24,
    "start_time": "2021-08-14T11:53:27.168Z"
   },
   {
    "duration": 12,
    "start_time": "2021-08-14T11:53:27.194Z"
   },
   {
    "duration": 66,
    "start_time": "2021-08-14T11:53:27.208Z"
   },
   {
    "duration": 10,
    "start_time": "2021-08-14T11:53:27.278Z"
   },
   {
    "duration": 38,
    "start_time": "2021-08-14T11:53:27.292Z"
   },
   {
    "duration": 24,
    "start_time": "2021-08-14T11:53:27.332Z"
   },
   {
    "duration": 12,
    "start_time": "2021-08-14T11:53:27.358Z"
   },
   {
    "duration": 17,
    "start_time": "2021-08-14T11:53:27.372Z"
   },
   {
    "duration": 25,
    "start_time": "2021-08-14T11:53:27.391Z"
   },
   {
    "duration": 27,
    "start_time": "2021-08-14T11:53:27.419Z"
   },
   {
    "duration": 58,
    "start_time": "2021-08-14T11:53:27.449Z"
   },
   {
    "duration": 40109,
    "start_time": "2021-08-14T11:53:27.509Z"
   },
   {
    "duration": 48,
    "start_time": "2021-08-14T11:54:07.621Z"
   },
   {
    "duration": 22,
    "start_time": "2021-08-14T11:54:07.671Z"
   },
   {
    "duration": 785,
    "start_time": "2021-08-14T11:54:07.696Z"
   },
   {
    "duration": 29,
    "start_time": "2021-08-14T11:54:08.484Z"
   },
   {
    "duration": 41,
    "start_time": "2021-08-14T11:54:08.516Z"
   },
   {
    "duration": 25,
    "start_time": "2021-08-14T11:54:08.560Z"
   },
   {
    "duration": 25,
    "start_time": "2021-08-14T11:54:08.590Z"
   },
   {
    "duration": 15,
    "start_time": "2021-08-14T11:57:57.764Z"
   },
   {
    "duration": 14,
    "start_time": "2021-08-14T11:58:21.781Z"
   },
   {
    "duration": 23,
    "start_time": "2021-08-14T12:00:38.629Z"
   },
   {
    "duration": 23,
    "start_time": "2021-08-14T12:00:50.185Z"
   },
   {
    "duration": 22,
    "start_time": "2021-08-14T12:02:21.800Z"
   },
   {
    "duration": 899,
    "start_time": "2021-08-14T12:02:43.765Z"
   },
   {
    "duration": 14,
    "start_time": "2021-08-14T12:02:44.667Z"
   },
   {
    "duration": 11,
    "start_time": "2021-08-14T12:02:44.685Z"
   },
   {
    "duration": 8,
    "start_time": "2021-08-14T12:02:44.699Z"
   },
   {
    "duration": 10,
    "start_time": "2021-08-14T12:02:44.710Z"
   },
   {
    "duration": 13,
    "start_time": "2021-08-14T12:02:44.757Z"
   },
   {
    "duration": 35,
    "start_time": "2021-08-14T12:02:44.773Z"
   },
   {
    "duration": 44,
    "start_time": "2021-08-14T12:02:44.811Z"
   },
   {
    "duration": 22,
    "start_time": "2021-08-14T12:02:44.859Z"
   },
   {
    "duration": 7,
    "start_time": "2021-08-14T12:02:44.884Z"
   },
   {
    "duration": 7,
    "start_time": "2021-08-14T12:02:44.894Z"
   },
   {
    "duration": 14,
    "start_time": "2021-08-14T12:02:44.903Z"
   },
   {
    "duration": 42,
    "start_time": "2021-08-14T12:02:44.920Z"
   },
   {
    "duration": 23,
    "start_time": "2021-08-14T12:02:44.964Z"
   },
   {
    "duration": 74,
    "start_time": "2021-08-14T12:02:44.989Z"
   },
   {
    "duration": 40041,
    "start_time": "2021-08-14T12:02:45.065Z"
   },
   {
    "duration": 27,
    "start_time": "2021-08-14T12:03:25.109Z"
   },
   {
    "duration": 32,
    "start_time": "2021-08-14T12:03:25.139Z"
   },
   {
    "duration": 761,
    "start_time": "2021-08-14T12:03:25.173Z"
   },
   {
    "duration": 35,
    "start_time": "2021-08-14T12:03:25.937Z"
   },
   {
    "duration": 19,
    "start_time": "2021-08-14T12:03:25.975Z"
   },
   {
    "duration": 23,
    "start_time": "2021-08-14T12:03:25.997Z"
   },
   {
    "duration": 25,
    "start_time": "2021-08-14T12:03:26.056Z"
   },
   {
    "duration": 9,
    "start_time": "2021-08-14T15:33:56.323Z"
   },
   {
    "duration": 821,
    "start_time": "2021-08-14T16:09:54.093Z"
   },
   {
    "duration": 14,
    "start_time": "2021-08-14T16:09:54.917Z"
   },
   {
    "duration": 23,
    "start_time": "2021-08-14T16:09:54.934Z"
   },
   {
    "duration": 8,
    "start_time": "2021-08-14T16:09:54.959Z"
   },
   {
    "duration": 13,
    "start_time": "2021-08-14T16:09:54.970Z"
   },
   {
    "duration": 11,
    "start_time": "2021-08-14T16:09:54.985Z"
   },
   {
    "duration": 71,
    "start_time": "2021-08-14T16:09:54.998Z"
   },
   {
    "duration": 6,
    "start_time": "2021-08-14T16:09:55.073Z"
   },
   {
    "duration": 24,
    "start_time": "2021-08-14T16:09:55.082Z"
   },
   {
    "duration": 5,
    "start_time": "2021-08-14T16:09:55.108Z"
   },
   {
    "duration": 9,
    "start_time": "2021-08-14T16:09:55.116Z"
   },
   {
    "duration": 6,
    "start_time": "2021-08-14T16:09:55.157Z"
   },
   {
    "duration": 10,
    "start_time": "2021-08-14T16:09:55.165Z"
   },
   {
    "duration": 19,
    "start_time": "2021-08-14T16:09:55.178Z"
   },
   {
    "duration": 74,
    "start_time": "2021-08-14T16:09:55.199Z"
   },
   {
    "duration": 119,
    "start_time": "2021-08-14T16:09:55.275Z"
   },
   {
    "duration": 48456,
    "start_time": "2021-08-14T16:09:06.940Z"
   },
   {
    "duration": 48451,
    "start_time": "2021-08-14T16:09:06.946Z"
   },
   {
    "duration": 48449,
    "start_time": "2021-08-14T16:09:06.949Z"
   },
   {
    "duration": 48449,
    "start_time": "2021-08-14T16:09:06.951Z"
   },
   {
    "duration": 48448,
    "start_time": "2021-08-14T16:09:06.953Z"
   },
   {
    "duration": 48447,
    "start_time": "2021-08-14T16:09:06.955Z"
   },
   {
    "duration": 48448,
    "start_time": "2021-08-14T16:09:06.956Z"
   },
   {
    "duration": 823,
    "start_time": "2021-08-14T16:13:03.803Z"
   },
   {
    "duration": 16,
    "start_time": "2021-08-14T16:13:04.630Z"
   },
   {
    "duration": 14,
    "start_time": "2021-08-14T16:13:04.658Z"
   },
   {
    "duration": 18,
    "start_time": "2021-08-14T16:13:04.676Z"
   },
   {
    "duration": 19,
    "start_time": "2021-08-14T16:13:04.697Z"
   },
   {
    "duration": 10,
    "start_time": "2021-08-14T16:13:04.718Z"
   },
   {
    "duration": 58,
    "start_time": "2021-08-14T16:13:04.730Z"
   },
   {
    "duration": 6,
    "start_time": "2021-08-14T16:13:04.791Z"
   },
   {
    "duration": 32,
    "start_time": "2021-08-14T16:13:04.799Z"
   },
   {
    "duration": 24,
    "start_time": "2021-08-14T16:13:04.834Z"
   },
   {
    "duration": 14,
    "start_time": "2021-08-14T16:13:04.860Z"
   },
   {
    "duration": 9,
    "start_time": "2021-08-14T16:13:04.876Z"
   },
   {
    "duration": 17,
    "start_time": "2021-08-14T16:13:04.887Z"
   },
   {
    "duration": 29,
    "start_time": "2021-08-14T16:13:04.907Z"
   },
   {
    "duration": 56,
    "start_time": "2021-08-14T16:13:04.938Z"
   },
   {
    "duration": 115,
    "start_time": "2021-08-14T16:13:04.996Z"
   },
   {
    "duration": 48472,
    "start_time": "2021-08-14T16:12:16.642Z"
   },
   {
    "duration": 48471,
    "start_time": "2021-08-14T16:12:16.644Z"
   },
   {
    "duration": 48470,
    "start_time": "2021-08-14T16:12:16.646Z"
   },
   {
    "duration": 48471,
    "start_time": "2021-08-14T16:12:16.647Z"
   },
   {
    "duration": 48469,
    "start_time": "2021-08-14T16:12:16.650Z"
   },
   {
    "duration": 48469,
    "start_time": "2021-08-14T16:12:16.651Z"
   },
   {
    "duration": 48468,
    "start_time": "2021-08-14T16:12:16.653Z"
   },
   {
    "duration": 10,
    "start_time": "2021-08-14T16:13:47.070Z"
   },
   {
    "duration": 40323,
    "start_time": "2021-08-14T16:16:57.772Z"
   },
   {
    "duration": 892,
    "start_time": "2021-08-14T16:18:11.896Z"
   },
   {
    "duration": 15,
    "start_time": "2021-08-14T16:18:12.790Z"
   },
   {
    "duration": 12,
    "start_time": "2021-08-14T16:18:12.808Z"
   },
   {
    "duration": 39,
    "start_time": "2021-08-14T16:18:12.823Z"
   },
   {
    "duration": 16,
    "start_time": "2021-08-14T16:18:12.864Z"
   },
   {
    "duration": 11,
    "start_time": "2021-08-14T16:18:12.882Z"
   },
   {
    "duration": 62,
    "start_time": "2021-08-14T16:18:12.896Z"
   },
   {
    "duration": 6,
    "start_time": "2021-08-14T16:18:12.962Z"
   },
   {
    "duration": 27,
    "start_time": "2021-08-14T16:18:12.971Z"
   },
   {
    "duration": 16,
    "start_time": "2021-08-14T16:18:13.000Z"
   },
   {
    "duration": 13,
    "start_time": "2021-08-14T16:18:13.018Z"
   },
   {
    "duration": 27,
    "start_time": "2021-08-14T16:18:13.033Z"
   },
   {
    "duration": 19,
    "start_time": "2021-08-14T16:18:13.062Z"
   },
   {
    "duration": 23,
    "start_time": "2021-08-14T16:18:13.083Z"
   },
   {
    "duration": 61,
    "start_time": "2021-08-14T16:18:13.108Z"
   },
   {
    "duration": 39966,
    "start_time": "2021-08-14T16:18:13.172Z"
   },
   {
    "duration": 17,
    "start_time": "2021-08-14T16:18:53.141Z"
   },
   {
    "duration": 27,
    "start_time": "2021-08-14T16:18:53.160Z"
   },
   {
    "duration": 861,
    "start_time": "2021-08-14T16:18:53.190Z"
   },
   {
    "duration": 26,
    "start_time": "2021-08-14T16:18:54.053Z"
   },
   {
    "duration": 18,
    "start_time": "2021-08-14T16:18:54.081Z"
   },
   {
    "duration": 20,
    "start_time": "2021-08-14T16:18:54.101Z"
   },
   {
    "duration": 50,
    "start_time": "2021-08-14T16:18:54.125Z"
   },
   {
    "duration": 870,
    "start_time": "2021-08-14T22:06:53.780Z"
   },
   {
    "duration": 14,
    "start_time": "2021-08-14T22:06:54.653Z"
   },
   {
    "duration": 12,
    "start_time": "2021-08-14T22:06:54.670Z"
   },
   {
    "duration": 9,
    "start_time": "2021-08-14T22:06:54.685Z"
   },
   {
    "duration": 10,
    "start_time": "2021-08-14T22:06:54.696Z"
   },
   {
    "duration": 10,
    "start_time": "2021-08-14T22:06:54.708Z"
   },
   {
    "duration": 77,
    "start_time": "2021-08-14T22:06:54.721Z"
   },
   {
    "duration": 6,
    "start_time": "2021-08-14T22:06:54.801Z"
   },
   {
    "duration": 25,
    "start_time": "2021-08-14T22:06:54.810Z"
   },
   {
    "duration": 32,
    "start_time": "2021-08-14T22:06:54.837Z"
   },
   {
    "duration": 7,
    "start_time": "2021-08-14T22:06:54.871Z"
   },
   {
    "duration": 8,
    "start_time": "2021-08-14T22:06:54.880Z"
   },
   {
    "duration": 9,
    "start_time": "2021-08-14T22:06:54.890Z"
   },
   {
    "duration": 68,
    "start_time": "2021-08-14T22:06:54.902Z"
   },
   {
    "duration": 41,
    "start_time": "2021-08-14T22:06:54.973Z"
   },
   {
    "duration": 40331,
    "start_time": "2021-08-14T22:06:55.017Z"
   },
   {
    "duration": 26,
    "start_time": "2021-08-14T22:07:35.351Z"
   },
   {
    "duration": 9,
    "start_time": "2021-08-14T22:07:35.379Z"
   },
   {
    "duration": 25,
    "start_time": "2021-08-14T22:07:35.390Z"
   },
   {
    "duration": 1160,
    "start_time": "2021-08-14T22:07:35.418Z"
   },
   {
    "duration": 26,
    "start_time": "2021-08-14T22:07:36.581Z"
   },
   {
    "duration": 18,
    "start_time": "2021-08-14T22:07:36.609Z"
   },
   {
    "duration": 50,
    "start_time": "2021-08-14T22:07:36.631Z"
   },
   {
    "duration": 22,
    "start_time": "2021-08-14T22:07:36.684Z"
   },
   {
    "duration": 908,
    "start_time": "2022-03-13T17:40:39.186Z"
   },
   {
    "duration": 14,
    "start_time": "2022-03-13T17:40:40.097Z"
   },
   {
    "duration": 12,
    "start_time": "2022-03-13T17:40:40.114Z"
   },
   {
    "duration": 11,
    "start_time": "2022-03-13T17:40:40.128Z"
   },
   {
    "duration": 13,
    "start_time": "2022-03-13T17:40:40.141Z"
   },
   {
    "duration": 39,
    "start_time": "2022-03-13T17:40:40.156Z"
   },
   {
    "duration": 38,
    "start_time": "2022-03-13T17:40:40.198Z"
   },
   {
    "duration": 6,
    "start_time": "2022-03-13T17:40:40.239Z"
   },
   {
    "duration": 50,
    "start_time": "2022-03-13T17:40:40.248Z"
   },
   {
    "duration": 9,
    "start_time": "2022-03-13T17:40:40.300Z"
   },
   {
    "duration": 8,
    "start_time": "2022-03-13T17:40:40.312Z"
   },
   {
    "duration": 8,
    "start_time": "2022-03-13T17:40:40.323Z"
   },
   {
    "duration": 57,
    "start_time": "2022-03-13T17:40:40.334Z"
   },
   {
    "duration": 23,
    "start_time": "2022-03-13T17:40:40.394Z"
   },
   {
    "duration": 67,
    "start_time": "2022-03-13T17:40:40.420Z"
   }
  ],
  "kernelspec": {
   "display_name": "Python 3",
   "language": "python",
   "name": "python3"
  },
  "language_info": {
   "codemirror_mode": {
    "name": "ipython",
    "version": 3
   },
   "file_extension": ".py",
   "mimetype": "text/x-python",
   "name": "python",
   "nbconvert_exporter": "python",
   "pygments_lexer": "ipython3",
   "version": "3.7.8"
  },
  "toc": {
   "base_numbering": 1,
   "nav_menu": {},
   "number_sections": true,
   "sideBar": true,
   "skip_h1_title": true,
   "title_cell": "Table of Contents",
   "title_sidebar": "Contents",
   "toc_cell": false,
   "toc_position": {
    "height": "calc(100% - 180px)",
    "left": "10px",
    "top": "150px",
    "width": "165px"
   },
   "toc_section_display": true,
   "toc_window_display": false
  }
 },
 "nbformat": 4,
 "nbformat_minor": 2
}
