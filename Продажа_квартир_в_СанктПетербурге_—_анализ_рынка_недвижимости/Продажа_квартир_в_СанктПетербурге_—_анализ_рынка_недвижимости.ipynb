{
 "cells": [
  {
   "cell_type": "markdown",
   "metadata": {
    "toc": true
   },
   "source": [
    "<h1>Содержание<span class=\"tocSkip\"></span></h1>\n",
    "<div class=\"toc\"><ul class=\"toc-item\"><li><span><a href=\"#Изучение-данных-из-файла\" data-toc-modified-id=\"Изучение-данных-из-файла-1\"><span class=\"toc-item-num\">1&nbsp;&nbsp;</span>Изучение данных из файла</a></span><ul class=\"toc-item\"><li><span><a href=\"#Вывод\" data-toc-modified-id=\"Вывод-1.1\"><span class=\"toc-item-num\">1.1&nbsp;&nbsp;</span>Вывод</a></span></li></ul></li><li><span><a href=\"#Предобработка-данных\" data-toc-modified-id=\"Предобработка-данных-2\"><span class=\"toc-item-num\">2&nbsp;&nbsp;</span>Предобработка данных</a></span><ul class=\"toc-item\"><li><span><a href=\"#Вывод\" data-toc-modified-id=\"Вывод-2.1\"><span class=\"toc-item-num\">2.1&nbsp;&nbsp;</span>Вывод</a></span></li></ul></li><li><span><a href=\"#Расчёты-и-добавление-результатов-в-таблицу\" data-toc-modified-id=\"Расчёты-и-добавление-результатов-в-таблицу-3\"><span class=\"toc-item-num\">3&nbsp;&nbsp;</span>Расчёты и добавление результатов в таблицу</a></span><ul class=\"toc-item\"><li><span><a href=\"#Вывод\" data-toc-modified-id=\"Вывод-3.1\"><span class=\"toc-item-num\">3.1&nbsp;&nbsp;</span>Вывод</a></span></li></ul></li><li><span><a href=\"#Исследовательский-анализ-данных\" data-toc-modified-id=\"Исследовательский-анализ-данных-4\"><span class=\"toc-item-num\">4&nbsp;&nbsp;</span>Исследовательский анализ данных</a></span><ul class=\"toc-item\"><li><span><a href=\"#Число-комнат\" data-toc-modified-id=\"Число-комнат-4.1\"><span class=\"toc-item-num\">4.1&nbsp;&nbsp;</span>Число комнат</a></span></li><li><span><a href=\"#Цена\" data-toc-modified-id=\"Цена-4.2\"><span class=\"toc-item-num\">4.2&nbsp;&nbsp;</span>Цена</a></span></li><li><span><a href=\"#Высота-потолков\" data-toc-modified-id=\"Высота-потолков-4.3\"><span class=\"toc-item-num\">4.3&nbsp;&nbsp;</span>Высота потолков</a></span></li><li><span><a href=\"#Срок-продажи-квартиры\" data-toc-modified-id=\"Срок-продажи-квартиры-4.4\"><span class=\"toc-item-num\">4.4&nbsp;&nbsp;</span>Срок продажи квартиры</a></span></li><li><span><a href=\"#Факторы-влияющие-на-стоимость-квартиры\" data-toc-modified-id=\"Факторы-влияющие-на-стоимость-квартиры-4.5\"><span class=\"toc-item-num\">4.5&nbsp;&nbsp;</span>Факторы влияющие на стоимость квартиры</a></span></li><li><span><a href=\"#Населенных-пунктов-с-наибольшим-числом-объявлений\" data-toc-modified-id=\"Населенных-пунктов-с-наибольшим-числом-объявлений-4.6\"><span class=\"toc-item-num\">4.6&nbsp;&nbsp;</span>Населенных пунктов с наибольшим числом объявлений</a></span></li><li><span><a href=\"#Исследование-параметров-объектов-из-центра-Санкт-Петербурга\" data-toc-modified-id=\"Исследование-параметров-объектов-из-центра-Санкт-Петербурга-4.7\"><span class=\"toc-item-num\">4.7&nbsp;&nbsp;</span>Исследование параметров объектов из центра Санкт-Петербурга</a></span></li><li><span><a href=\"#Вывод\" data-toc-modified-id=\"Вывод-4.8\"><span class=\"toc-item-num\">4.8&nbsp;&nbsp;</span>Вывод</a></span></li></ul></li><li><span><a href=\"#Общий-вывод\" data-toc-modified-id=\"Общий-вывод-5\"><span class=\"toc-item-num\">5&nbsp;&nbsp;</span>Общий вывод</a></span></li><li><span><a href=\"#Чек-лист-готовности-проекта\" data-toc-modified-id=\"Чек-лист-готовности-проекта-6\"><span class=\"toc-item-num\">6&nbsp;&nbsp;</span>Чек-лист готовности проекта</a></span></li></ul></div>"
   ]
  },
  {
   "cell_type": "markdown",
   "metadata": {},
   "source": [
    "# Исследование объявлений о продаже квартир\n",
    "\n",
    "В вашем распоряжении данные сервиса Яндекс.Недвижимость — архив объявлений о продаже квартир в Санкт-Петербурге и соседних населённых пунктах за несколько лет. Нужно научиться определять рыночную стоимость объектов недвижимости. Ваша задача — установить параметры. Это позволит построить автоматизированную систему: она отследит аномалии и мошенническую деятельность. \n",
    "\n",
    "По каждой квартире на продажу доступны два вида данных. Первые вписаны пользователем, вторые получены автоматически на основе картографических данных. Например, расстояние до центра, аэропорта, ближайшего парка и водоёма. "
   ]
  },
  {
   "cell_type": "markdown",
   "metadata": {},
   "source": [
    "## Изучение данных из файла"
   ]
  },
  {
   "cell_type": "code",
   "execution_count": 1,
   "metadata": {},
   "outputs": [
    {
     "data": {
      "text/html": [
       "<div>\n",
       "<style scoped>\n",
       "    .dataframe tbody tr th:only-of-type {\n",
       "        vertical-align: middle;\n",
       "    }\n",
       "\n",
       "    .dataframe tbody tr th {\n",
       "        vertical-align: top;\n",
       "    }\n",
       "\n",
       "    .dataframe thead th {\n",
       "        text-align: right;\n",
       "    }\n",
       "</style>\n",
       "<table border=\"1\" class=\"dataframe\">\n",
       "  <thead>\n",
       "    <tr style=\"text-align: right;\">\n",
       "      <th></th>\n",
       "      <th>total_images</th>\n",
       "      <th>last_price</th>\n",
       "      <th>total_area</th>\n",
       "      <th>first_day_exposition</th>\n",
       "      <th>rooms</th>\n",
       "      <th>ceiling_height</th>\n",
       "      <th>floors_total</th>\n",
       "      <th>living_area</th>\n",
       "      <th>floor</th>\n",
       "      <th>is_apartment</th>\n",
       "      <th>studio</th>\n",
       "      <th>open_plan</th>\n",
       "      <th>kitchen_area</th>\n",
       "      <th>balcony</th>\n",
       "      <th>locality_name</th>\n",
       "      <th>airports_nearest</th>\n",
       "      <th>cityCenters_nearest</th>\n",
       "      <th>parks_around3000</th>\n",
       "      <th>parks_nearest</th>\n",
       "      <th>ponds_around3000</th>\n",
       "      <th>ponds_nearest</th>\n",
       "      <th>days_exposition</th>\n",
       "    </tr>\n",
       "  </thead>\n",
       "  <tbody>\n",
       "    <tr>\n",
       "      <td>0</td>\n",
       "      <td>20</td>\n",
       "      <td>13000000.0</td>\n",
       "      <td>108.0</td>\n",
       "      <td>2019-03-07T00:00:00</td>\n",
       "      <td>3</td>\n",
       "      <td>2.70</td>\n",
       "      <td>16.0</td>\n",
       "      <td>51.0</td>\n",
       "      <td>8</td>\n",
       "      <td>NaN</td>\n",
       "      <td>False</td>\n",
       "      <td>False</td>\n",
       "      <td>25.0</td>\n",
       "      <td>NaN</td>\n",
       "      <td>Санкт-Петербург</td>\n",
       "      <td>18863.0</td>\n",
       "      <td>16028.0</td>\n",
       "      <td>1.0</td>\n",
       "      <td>482.0</td>\n",
       "      <td>2.0</td>\n",
       "      <td>755.0</td>\n",
       "      <td>NaN</td>\n",
       "    </tr>\n",
       "    <tr>\n",
       "      <td>1</td>\n",
       "      <td>7</td>\n",
       "      <td>3350000.0</td>\n",
       "      <td>40.4</td>\n",
       "      <td>2018-12-04T00:00:00</td>\n",
       "      <td>1</td>\n",
       "      <td>NaN</td>\n",
       "      <td>11.0</td>\n",
       "      <td>18.6</td>\n",
       "      <td>1</td>\n",
       "      <td>NaN</td>\n",
       "      <td>False</td>\n",
       "      <td>False</td>\n",
       "      <td>11.0</td>\n",
       "      <td>2.0</td>\n",
       "      <td>посёлок Шушары</td>\n",
       "      <td>12817.0</td>\n",
       "      <td>18603.0</td>\n",
       "      <td>0.0</td>\n",
       "      <td>NaN</td>\n",
       "      <td>0.0</td>\n",
       "      <td>NaN</td>\n",
       "      <td>81.0</td>\n",
       "    </tr>\n",
       "    <tr>\n",
       "      <td>2</td>\n",
       "      <td>10</td>\n",
       "      <td>5196000.0</td>\n",
       "      <td>56.0</td>\n",
       "      <td>2015-08-20T00:00:00</td>\n",
       "      <td>2</td>\n",
       "      <td>NaN</td>\n",
       "      <td>5.0</td>\n",
       "      <td>34.3</td>\n",
       "      <td>4</td>\n",
       "      <td>NaN</td>\n",
       "      <td>False</td>\n",
       "      <td>False</td>\n",
       "      <td>8.3</td>\n",
       "      <td>0.0</td>\n",
       "      <td>Санкт-Петербург</td>\n",
       "      <td>21741.0</td>\n",
       "      <td>13933.0</td>\n",
       "      <td>1.0</td>\n",
       "      <td>90.0</td>\n",
       "      <td>2.0</td>\n",
       "      <td>574.0</td>\n",
       "      <td>558.0</td>\n",
       "    </tr>\n",
       "    <tr>\n",
       "      <td>3</td>\n",
       "      <td>0</td>\n",
       "      <td>64900000.0</td>\n",
       "      <td>159.0</td>\n",
       "      <td>2015-07-24T00:00:00</td>\n",
       "      <td>3</td>\n",
       "      <td>NaN</td>\n",
       "      <td>14.0</td>\n",
       "      <td>NaN</td>\n",
       "      <td>9</td>\n",
       "      <td>NaN</td>\n",
       "      <td>False</td>\n",
       "      <td>False</td>\n",
       "      <td>NaN</td>\n",
       "      <td>0.0</td>\n",
       "      <td>Санкт-Петербург</td>\n",
       "      <td>28098.0</td>\n",
       "      <td>6800.0</td>\n",
       "      <td>2.0</td>\n",
       "      <td>84.0</td>\n",
       "      <td>3.0</td>\n",
       "      <td>234.0</td>\n",
       "      <td>424.0</td>\n",
       "    </tr>\n",
       "    <tr>\n",
       "      <td>4</td>\n",
       "      <td>2</td>\n",
       "      <td>10000000.0</td>\n",
       "      <td>100.0</td>\n",
       "      <td>2018-06-19T00:00:00</td>\n",
       "      <td>2</td>\n",
       "      <td>3.03</td>\n",
       "      <td>14.0</td>\n",
       "      <td>32.0</td>\n",
       "      <td>13</td>\n",
       "      <td>NaN</td>\n",
       "      <td>False</td>\n",
       "      <td>False</td>\n",
       "      <td>41.0</td>\n",
       "      <td>NaN</td>\n",
       "      <td>Санкт-Петербург</td>\n",
       "      <td>31856.0</td>\n",
       "      <td>8098.0</td>\n",
       "      <td>2.0</td>\n",
       "      <td>112.0</td>\n",
       "      <td>1.0</td>\n",
       "      <td>48.0</td>\n",
       "      <td>121.0</td>\n",
       "    </tr>\n",
       "  </tbody>\n",
       "</table>\n",
       "</div>"
      ],
      "text/plain": [
       "   total_images  last_price  total_area first_day_exposition  rooms  \\\n",
       "0            20  13000000.0       108.0  2019-03-07T00:00:00      3   \n",
       "1             7   3350000.0        40.4  2018-12-04T00:00:00      1   \n",
       "2            10   5196000.0        56.0  2015-08-20T00:00:00      2   \n",
       "3             0  64900000.0       159.0  2015-07-24T00:00:00      3   \n",
       "4             2  10000000.0       100.0  2018-06-19T00:00:00      2   \n",
       "\n",
       "   ceiling_height  floors_total  living_area  floor is_apartment  studio  \\\n",
       "0            2.70          16.0         51.0      8          NaN   False   \n",
       "1             NaN          11.0         18.6      1          NaN   False   \n",
       "2             NaN           5.0         34.3      4          NaN   False   \n",
       "3             NaN          14.0          NaN      9          NaN   False   \n",
       "4            3.03          14.0         32.0     13          NaN   False   \n",
       "\n",
       "   open_plan  kitchen_area  balcony    locality_name  airports_nearest  \\\n",
       "0      False          25.0      NaN  Санкт-Петербург           18863.0   \n",
       "1      False          11.0      2.0   посёлок Шушары           12817.0   \n",
       "2      False           8.3      0.0  Санкт-Петербург           21741.0   \n",
       "3      False           NaN      0.0  Санкт-Петербург           28098.0   \n",
       "4      False          41.0      NaN  Санкт-Петербург           31856.0   \n",
       "\n",
       "   cityCenters_nearest  parks_around3000  parks_nearest  ponds_around3000  \\\n",
       "0              16028.0               1.0          482.0               2.0   \n",
       "1              18603.0               0.0            NaN               0.0   \n",
       "2              13933.0               1.0           90.0               2.0   \n",
       "3               6800.0               2.0           84.0               3.0   \n",
       "4               8098.0               2.0          112.0               1.0   \n",
       "\n",
       "   ponds_nearest  days_exposition  \n",
       "0          755.0              NaN  \n",
       "1            NaN             81.0  \n",
       "2          574.0            558.0  \n",
       "3          234.0            424.0  \n",
       "4           48.0            121.0  "
      ]
     },
     "execution_count": 1,
     "metadata": {},
     "output_type": "execute_result"
    }
   ],
   "source": [
    "import pandas as pd\n",
    "re_data = pd.read_csv('/datasets/real_estate_data.csv', sep='\\t')\n",
    "pd.set_option('display.max_columns', 22) #для отображения всех столбцов таблицы\n",
    "re_data.head()"
   ]
  },
  {
   "cell_type": "code",
   "execution_count": 2,
   "metadata": {},
   "outputs": [
    {
     "name": "stdout",
     "output_type": "stream",
     "text": [
      "<class 'pandas.core.frame.DataFrame'>\n",
      "RangeIndex: 23699 entries, 0 to 23698\n",
      "Data columns (total 22 columns):\n",
      "total_images            23699 non-null int64\n",
      "last_price              23699 non-null float64\n",
      "total_area              23699 non-null float64\n",
      "first_day_exposition    23699 non-null object\n",
      "rooms                   23699 non-null int64\n",
      "ceiling_height          14504 non-null float64\n",
      "floors_total            23613 non-null float64\n",
      "living_area             21796 non-null float64\n",
      "floor                   23699 non-null int64\n",
      "is_apartment            2775 non-null object\n",
      "studio                  23699 non-null bool\n",
      "open_plan               23699 non-null bool\n",
      "kitchen_area            21421 non-null float64\n",
      "balcony                 12180 non-null float64\n",
      "locality_name           23650 non-null object\n",
      "airports_nearest        18157 non-null float64\n",
      "cityCenters_nearest     18180 non-null float64\n",
      "parks_around3000        18181 non-null float64\n",
      "parks_nearest           8079 non-null float64\n",
      "ponds_around3000        18181 non-null float64\n",
      "ponds_nearest           9110 non-null float64\n",
      "days_exposition         20518 non-null float64\n",
      "dtypes: bool(2), float64(14), int64(3), object(3)\n",
      "memory usage: 3.7+ MB\n"
     ]
    }
   ],
   "source": [
    "re_data.info()"
   ]
  },
  {
   "cell_type": "markdown",
   "metadata": {},
   "source": [
    "### Вывод"
   ]
  },
  {
   "cell_type": "markdown",
   "metadata": {},
   "source": [
    "В файле 22 столбца, столбцы содержат данные о:  \n",
    "***total_images*** — число фотографий квартиры в объявлении;  \n",
    "***last_price*** — цена на момент снятия с публикации;  \n",
    "**total_area*** — площадь квартиры в квадратных метрах (м²);  \n",
    "***first_day_exposition*** — дата публикации;  \n",
    "***rooms*** — число комнат;  \n",
    "***ceiling_height*** — высота потолков (м);  \n",
    "***floors_total*** — всего этажей в доме;  \n",
    "***living_area*** — жилая площадь в квадратных метрах(м²);  \n",
    "***floor*** — этаж;  \n",
    "***is_apartment*** — апартаменты (булев тип);  \n",
    "***studio*** — квартира-студия (булев тип);  \n",
    "***open_plan*** — свободная планировка (булев тип);  \n",
    "***kitchen_area*** — площадь кухни в квадратных метрах (м²);  \n",
    "***balcony*** — число балконов;  \n",
    "***locality_name*** — название населённого пункта;  \n",
    "***airports_nearest*** — расстояние до ближайшего аэропорта в метрах (м);  \n",
    "***cityCenters_nearest*** — расстояние до центра города (м);  \n",
    "***parks_around3000*** — число парков в радиусе 3 км;  \n",
    "***parks_nearest*** — расстояние до ближайшего парка (м);  \n",
    "***ponds_around3000*** — число водоёмов в радиусе 3 км;  \n",
    "***ponds_nearest*** — расстояние до ближайшего водоёма (м);  \n",
    "***days_exposition*** — сколько дней было размещено объявление (от публикации до снятия).\n",
    "\n",
    "У некоторых столбцов нужно сменить тип данных - *first_day_exposition* -> <span style=\"color:orange\">data</span>, *floors_total* -> <span style=\"color:orange\">int</span>, *is_apartment* -> <span style=\"color:orange\">bool</span>, *balcony* -> int, *parks_around3000* -> <span style=\"color:orange\">int</span>, *ponds_around3000* -> <span style=\"color:orange\">int</span>, *days_exposition* -> <span style=\"color:orange\">int</span>.\n",
    "\n",
    "Строк 23699 описывающие недвижимость. Есть пропущенные значения, которые необходимо отработать. "
   ]
  },
  {
   "cell_type": "markdown",
   "metadata": {},
   "source": [
    "## Предобработка данных"
   ]
  },
  {
   "cell_type": "markdown",
   "metadata": {},
   "source": [
    "Обработаем столбцы в которых отсутствуют данные\n",
    "- locality_name           23650 non-null object\n",
    "- floors_total            23613 non-null float64\n",
    "- living_area             21796 non-null float64\n",
    "- kitchen_area            21421 non-null float64\n",
    "- days_exposition         20518 non-null float64\n",
    "- parks_around3000        18181 non-null float64\n",
    "- ponds_around3000        18181 non-null float64\n",
    "- cityCenters_nearest     18180 non-null float64\n",
    "- airports_nearest        18157 non-null float64\n",
    "- ceiling_height          14504 non-null float64\n",
    "- balcony                 12180 non-null float64\n",
    "- ponds_nearest           9110 non-null float64\n",
    "- parks_nearest           8079 non-null float64\n",
    "- is_apartment            2775 non-null object"
   ]
  },
  {
   "cell_type": "markdown",
   "metadata": {},
   "source": [
    "**Название населенного пункта** (locality_name) - в связи с тем, что пропущенных значений мало и установить месторасположение недвижимости не удастся, строки удалены. Поле должно быть обязательно для заполнения"
   ]
  },
  {
   "cell_type": "code",
   "execution_count": 3,
   "metadata": {},
   "outputs": [
    {
     "data": {
      "text/plain": [
       "49"
      ]
     },
     "execution_count": 3,
     "metadata": {},
     "output_type": "execute_result"
    }
   ],
   "source": [
    "# посчитаем кол-во незаполненных данных по населенным пунктам\n",
    "re_data['locality_name'].isna().sum()"
   ]
  },
  {
   "cell_type": "code",
   "execution_count": 4,
   "metadata": {},
   "outputs": [
    {
     "data": {
      "text/plain": [
       "0"
      ]
     },
     "execution_count": 4,
     "metadata": {},
     "output_type": "execute_result"
    }
   ],
   "source": [
    "# удалим строки с незаполненными данными по населенному пункту\n",
    "# посчитаем кол-во незаполненных данных по населенным пунктам\n",
    "re_data.dropna(subset=['locality_name'], inplace=True)\n",
    "re_data['locality_name'].isna().sum()"
   ]
  },
  {
   "cell_type": "markdown",
   "metadata": {},
   "source": [
    "**Всего этажей в доме** (floors_total) - пропущеные значения удалены,т.к. заменить их не предоставляется возможным. Как и название населеного пункта можно поставить как обязательное поля для заполнения."
   ]
  },
  {
   "cell_type": "code",
   "execution_count": 5,
   "metadata": {},
   "outputs": [
    {
     "data": {
      "text/plain": [
       "85"
      ]
     },
     "execution_count": 5,
     "metadata": {},
     "output_type": "execute_result"
    }
   ],
   "source": [
    "# посчитаем кол-во незаполненных данных по этажности\n",
    "re_data['floors_total'].isna().sum()"
   ]
  },
  {
   "cell_type": "code",
   "execution_count": 6,
   "metadata": {},
   "outputs": [
    {
     "data": {
      "text/plain": [
       "0"
      ]
     },
     "execution_count": 6,
     "metadata": {},
     "output_type": "execute_result"
    }
   ],
   "source": [
    "# удалим строки с незаполненными данными по этажности\n",
    "# заменим тип данных на int\n",
    "# посчитаем кол-во незаполненных данных по этажности\n",
    "re_data.dropna(subset=['floors_total'], inplace=True)\n",
    "re_data['floors_total'] = re_data['floors_total'].astype('int64')\n",
    "re_data['floors_total'].isna().sum()"
   ]
  },
  {
   "cell_type": "markdown",
   "metadata": {},
   "source": [
    "**Жилая площадь в квадратных метрах(м²)** (living_area) - пропущенные данные были заполнены на основе расчета, стоимость недвижимости деленная на стоимость 1 кв метра в населенном пункте. Для этого была найдена медиана стоимости 1 кв м для каждого населенного пункта."
   ]
  },
  {
   "cell_type": "code",
   "execution_count": 7,
   "metadata": {},
   "outputs": [
    {
     "data": {
      "text/html": [
       "<div>\n",
       "<style scoped>\n",
       "    .dataframe tbody tr th:only-of-type {\n",
       "        vertical-align: middle;\n",
       "    }\n",
       "\n",
       "    .dataframe tbody tr th {\n",
       "        vertical-align: top;\n",
       "    }\n",
       "\n",
       "    .dataframe thead th {\n",
       "        text-align: right;\n",
       "    }\n",
       "</style>\n",
       "<table border=\"1\" class=\"dataframe\">\n",
       "  <thead>\n",
       "    <tr style=\"text-align: right;\">\n",
       "      <th></th>\n",
       "      <th>total_images</th>\n",
       "      <th>last_price</th>\n",
       "      <th>total_area</th>\n",
       "      <th>first_day_exposition</th>\n",
       "      <th>rooms</th>\n",
       "      <th>ceiling_height</th>\n",
       "      <th>floors_total</th>\n",
       "      <th>living_area</th>\n",
       "      <th>floor</th>\n",
       "      <th>is_apartment</th>\n",
       "      <th>studio</th>\n",
       "      <th>...</th>\n",
       "      <th>kitchen_area</th>\n",
       "      <th>balcony</th>\n",
       "      <th>locality_name</th>\n",
       "      <th>airports_nearest</th>\n",
       "      <th>cityCenters_nearest</th>\n",
       "      <th>parks_around3000</th>\n",
       "      <th>parks_nearest</th>\n",
       "      <th>ponds_around3000</th>\n",
       "      <th>ponds_nearest</th>\n",
       "      <th>days_exposition</th>\n",
       "      <th>last_price_m2</th>\n",
       "    </tr>\n",
       "  </thead>\n",
       "  <tbody>\n",
       "    <tr>\n",
       "      <td>0</td>\n",
       "      <td>20</td>\n",
       "      <td>13000000.0</td>\n",
       "      <td>108.0</td>\n",
       "      <td>2019-03-07T00:00:00</td>\n",
       "      <td>3</td>\n",
       "      <td>2.70</td>\n",
       "      <td>16</td>\n",
       "      <td>51.0</td>\n",
       "      <td>8</td>\n",
       "      <td>NaN</td>\n",
       "      <td>False</td>\n",
       "      <td>...</td>\n",
       "      <td>25.0</td>\n",
       "      <td>NaN</td>\n",
       "      <td>Санкт-Петербург</td>\n",
       "      <td>18863.0</td>\n",
       "      <td>16028.0</td>\n",
       "      <td>1.0</td>\n",
       "      <td>482.0</td>\n",
       "      <td>2.0</td>\n",
       "      <td>755.0</td>\n",
       "      <td>NaN</td>\n",
       "      <td>254901.960784</td>\n",
       "    </tr>\n",
       "    <tr>\n",
       "      <td>1</td>\n",
       "      <td>7</td>\n",
       "      <td>3350000.0</td>\n",
       "      <td>40.4</td>\n",
       "      <td>2018-12-04T00:00:00</td>\n",
       "      <td>1</td>\n",
       "      <td>NaN</td>\n",
       "      <td>11</td>\n",
       "      <td>18.6</td>\n",
       "      <td>1</td>\n",
       "      <td>NaN</td>\n",
       "      <td>False</td>\n",
       "      <td>...</td>\n",
       "      <td>11.0</td>\n",
       "      <td>2.0</td>\n",
       "      <td>посёлок Шушары</td>\n",
       "      <td>12817.0</td>\n",
       "      <td>18603.0</td>\n",
       "      <td>0.0</td>\n",
       "      <td>NaN</td>\n",
       "      <td>0.0</td>\n",
       "      <td>NaN</td>\n",
       "      <td>81.0</td>\n",
       "      <td>180107.526882</td>\n",
       "    </tr>\n",
       "    <tr>\n",
       "      <td>2</td>\n",
       "      <td>10</td>\n",
       "      <td>5196000.0</td>\n",
       "      <td>56.0</td>\n",
       "      <td>2015-08-20T00:00:00</td>\n",
       "      <td>2</td>\n",
       "      <td>NaN</td>\n",
       "      <td>5</td>\n",
       "      <td>34.3</td>\n",
       "      <td>4</td>\n",
       "      <td>NaN</td>\n",
       "      <td>False</td>\n",
       "      <td>...</td>\n",
       "      <td>8.3</td>\n",
       "      <td>0.0</td>\n",
       "      <td>Санкт-Петербург</td>\n",
       "      <td>21741.0</td>\n",
       "      <td>13933.0</td>\n",
       "      <td>1.0</td>\n",
       "      <td>90.0</td>\n",
       "      <td>2.0</td>\n",
       "      <td>574.0</td>\n",
       "      <td>558.0</td>\n",
       "      <td>151486.880466</td>\n",
       "    </tr>\n",
       "    <tr>\n",
       "      <td>3</td>\n",
       "      <td>0</td>\n",
       "      <td>64900000.0</td>\n",
       "      <td>159.0</td>\n",
       "      <td>2015-07-24T00:00:00</td>\n",
       "      <td>3</td>\n",
       "      <td>NaN</td>\n",
       "      <td>14</td>\n",
       "      <td>NaN</td>\n",
       "      <td>9</td>\n",
       "      <td>NaN</td>\n",
       "      <td>False</td>\n",
       "      <td>...</td>\n",
       "      <td>NaN</td>\n",
       "      <td>0.0</td>\n",
       "      <td>Санкт-Петербург</td>\n",
       "      <td>28098.0</td>\n",
       "      <td>6800.0</td>\n",
       "      <td>2.0</td>\n",
       "      <td>84.0</td>\n",
       "      <td>3.0</td>\n",
       "      <td>234.0</td>\n",
       "      <td>424.0</td>\n",
       "      <td>NaN</td>\n",
       "    </tr>\n",
       "    <tr>\n",
       "      <td>4</td>\n",
       "      <td>2</td>\n",
       "      <td>10000000.0</td>\n",
       "      <td>100.0</td>\n",
       "      <td>2018-06-19T00:00:00</td>\n",
       "      <td>2</td>\n",
       "      <td>3.03</td>\n",
       "      <td>14</td>\n",
       "      <td>32.0</td>\n",
       "      <td>13</td>\n",
       "      <td>NaN</td>\n",
       "      <td>False</td>\n",
       "      <td>...</td>\n",
       "      <td>41.0</td>\n",
       "      <td>NaN</td>\n",
       "      <td>Санкт-Петербург</td>\n",
       "      <td>31856.0</td>\n",
       "      <td>8098.0</td>\n",
       "      <td>2.0</td>\n",
       "      <td>112.0</td>\n",
       "      <td>1.0</td>\n",
       "      <td>48.0</td>\n",
       "      <td>121.0</td>\n",
       "      <td>312500.000000</td>\n",
       "    </tr>\n",
       "  </tbody>\n",
       "</table>\n",
       "<p>5 rows × 23 columns</p>\n",
       "</div>"
      ],
      "text/plain": [
       "   total_images  last_price  total_area first_day_exposition  rooms  \\\n",
       "0            20  13000000.0       108.0  2019-03-07T00:00:00      3   \n",
       "1             7   3350000.0        40.4  2018-12-04T00:00:00      1   \n",
       "2            10   5196000.0        56.0  2015-08-20T00:00:00      2   \n",
       "3             0  64900000.0       159.0  2015-07-24T00:00:00      3   \n",
       "4             2  10000000.0       100.0  2018-06-19T00:00:00      2   \n",
       "\n",
       "   ceiling_height  floors_total  living_area  floor is_apartment  studio  ...  \\\n",
       "0            2.70            16         51.0      8          NaN   False  ...   \n",
       "1             NaN            11         18.6      1          NaN   False  ...   \n",
       "2             NaN             5         34.3      4          NaN   False  ...   \n",
       "3             NaN            14          NaN      9          NaN   False  ...   \n",
       "4            3.03            14         32.0     13          NaN   False  ...   \n",
       "\n",
       "   kitchen_area  balcony    locality_name airports_nearest  \\\n",
       "0          25.0      NaN  Санкт-Петербург          18863.0   \n",
       "1          11.0      2.0   посёлок Шушары          12817.0   \n",
       "2           8.3      0.0  Санкт-Петербург          21741.0   \n",
       "3           NaN      0.0  Санкт-Петербург          28098.0   \n",
       "4          41.0      NaN  Санкт-Петербург          31856.0   \n",
       "\n",
       "   cityCenters_nearest  parks_around3000  parks_nearest  ponds_around3000  \\\n",
       "0              16028.0               1.0          482.0               2.0   \n",
       "1              18603.0               0.0            NaN               0.0   \n",
       "2              13933.0               1.0           90.0               2.0   \n",
       "3               6800.0               2.0           84.0               3.0   \n",
       "4               8098.0               2.0          112.0               1.0   \n",
       "\n",
       "   ponds_nearest  days_exposition  last_price_m2  \n",
       "0          755.0              NaN  254901.960784  \n",
       "1            NaN             81.0  180107.526882  \n",
       "2          574.0            558.0  151486.880466  \n",
       "3          234.0            424.0            NaN  \n",
       "4           48.0            121.0  312500.000000  \n",
       "\n",
       "[5 rows x 23 columns]"
      ]
     },
     "execution_count": 7,
     "metadata": {},
     "output_type": "execute_result"
    }
   ],
   "source": [
    "# Добавляем новый столбец, расчет стоимости 1 кв м\n",
    "re_data['last_price_m2']=re_data['last_price']/re_data['living_area']\n",
    "re_data.head()"
   ]
  },
  {
   "cell_type": "code",
   "execution_count": 8,
   "metadata": {
    "scrolled": true
   },
   "outputs": [
    {
     "data": {
      "text/plain": [
       "locality_name\n",
       "деревня Малая Романовка    14808.362369\n",
       "деревня Старополье         14851.485149\n",
       "деревня Выскатка           18856.907895\n",
       "поселок Тёсово-4           20833.333333\n",
       "поселок Совхозный          22600.000000\n",
       "Name: last_price_m2, dtype: float64"
      ]
     },
     "execution_count": 8,
     "metadata": {},
     "output_type": "execute_result"
    }
   ],
   "source": [
    "# сделаем группировку по населенному пункту\n",
    "# выведим группировку\n",
    "group_price_m2 = re_data.groupby('locality_name')['last_price_m2'].transform('mean')\n",
    "re_data.groupby('locality_name')['last_price_m2'].mean().sort_values().head()"
   ]
  },
  {
   "cell_type": "code",
   "execution_count": 9,
   "metadata": {},
   "outputs": [
    {
     "data": {
      "text/plain": [
       "17"
      ]
     },
     "execution_count": 9,
     "metadata": {},
     "output_type": "execute_result"
    }
   ],
   "source": [
    "group_price_m2.isna().sum()"
   ]
  },
  {
   "cell_type": "code",
   "execution_count": 10,
   "metadata": {},
   "outputs": [
    {
     "data": {
      "text/plain": [
       "0"
      ]
     },
     "execution_count": 10,
     "metadata": {},
     "output_type": "execute_result"
    }
   ],
   "source": [
    "# заполним медианной пропуски расчетом по населенным пунктам за 1 кв м\n",
    "# оставшие незаполненые строки удалим\n",
    "# посчитаем кол-во незаполненных\n",
    "re_data['last_price_m2'].fillna(group_price_m2, inplace=True)\n",
    "re_data.dropna(subset=['last_price_m2'],inplace=True)\n",
    "re_data['last_price_m2'].isna().sum()"
   ]
  },
  {
   "cell_type": "code",
   "execution_count": 11,
   "metadata": {},
   "outputs": [
    {
     "data": {
      "text/plain": [
       "1848"
      ]
     },
     "execution_count": 11,
     "metadata": {},
     "output_type": "execute_result"
    }
   ],
   "source": [
    "# посчитаем кол-во незаполненных данных по столбцу жилой площади в кв м\n",
    "re_data['living_area'].isna().sum()"
   ]
  },
  {
   "cell_type": "code",
   "execution_count": 12,
   "metadata": {},
   "outputs": [
    {
     "data": {
      "text/plain": [
       "0"
      ]
     },
     "execution_count": 12,
     "metadata": {},
     "output_type": "execute_result"
    }
   ],
   "source": [
    "# заполним пропуски посчитав через сумму деленую на стоимость 1 кв м\n",
    "# посчитаем кол-во незаполненных\n",
    "re_data['living_area'].fillna(re_data['last_price'] / re_data['last_price_m2'],inplace=True)\n",
    "re_data['living_area'].isna().sum()"
   ]
  },
  {
   "cell_type": "markdown",
   "metadata": {},
   "source": [
    "**Площадь кухни в квадратных метрах (м²)** (kitchen_area) - известно, что в студиях нет отдельной кухни, поэтому можно заполнить нулем. Остальные пропущенные данный заполним медианной"
   ]
  },
  {
   "cell_type": "code",
   "execution_count": 13,
   "metadata": {},
   "outputs": [
    {
     "data": {
      "text/plain": [
       "0"
      ]
     },
     "execution_count": 13,
     "metadata": {},
     "output_type": "execute_result"
    }
   ],
   "source": [
    "# в студиях нет кухни, поэтому заполним нулем\n",
    "re_data.loc[re_data['studio'] == True, 'kitchen_area'] = 0\n",
    "\n",
    "# заменим оставшиеся пропуски на медианные значения\n",
    "re_data.loc[re_data['kitchen_area'].isna(), 'kitchen_area'] = re_data['kitchen_area'].describe()[5]\n",
    "\n",
    "# посчитаем кол-во незаполненных данных\n",
    "re_data['kitchen_area'].isna().sum()"
   ]
  },
  {
   "cell_type": "markdown",
   "metadata": {},
   "source": [
    "**Сколько дней было размещено объявление (от публикации до снятия)** (days_exposition) - все пропуски в данных заменили на медианные значения."
   ]
  },
  {
   "cell_type": "code",
   "execution_count": 14,
   "metadata": {},
   "outputs": [
    {
     "data": {
      "text/plain": [
       "0"
      ]
     },
     "execution_count": 14,
     "metadata": {},
     "output_type": "execute_result"
    }
   ],
   "source": [
    "# заменим пропуски на медианные значения\n",
    "# посчитаем кол-во незаполненных данных\n",
    "re_data.loc[re_data['days_exposition'].isna(), 'days_exposition'] = re_data['days_exposition'].describe()[5]\n",
    "re_data['days_exposition'] = re_data['days_exposition'].astype('int64')\n",
    "re_data['days_exposition'].isna().sum()"
   ]
  },
  {
   "cell_type": "markdown",
   "metadata": {},
   "source": [
    "**Число парков в радиусе 3 км** (parks_around3000) - все пропуски в данных заменили на среднее значение."
   ]
  },
  {
   "cell_type": "code",
   "execution_count": 15,
   "metadata": {},
   "outputs": [
    {
     "data": {
      "text/plain": [
       "0"
      ]
     },
     "execution_count": 15,
     "metadata": {},
     "output_type": "execute_result"
    }
   ],
   "source": [
    "# заменим пропуски на среднее значение\n",
    "# посчитаем кол-во незаполненных данных\n",
    "re_data.loc[re_data['parks_around3000'].isna(), 'parks_around3000'] = re_data['parks_around3000'].describe()[1]\n",
    "re_data['parks_around3000'] = re_data['parks_around3000'].astype('int64')\n",
    "re_data['parks_around3000'].isna().sum()"
   ]
  },
  {
   "cell_type": "markdown",
   "metadata": {},
   "source": [
    "**Число водоёмов в радиусе 3 км** (ponds_around3000) - все пропуски в данных заменили на среднее значение."
   ]
  },
  {
   "cell_type": "code",
   "execution_count": 16,
   "metadata": {},
   "outputs": [
    {
     "data": {
      "text/plain": [
       "0"
      ]
     },
     "execution_count": 16,
     "metadata": {},
     "output_type": "execute_result"
    }
   ],
   "source": [
    "# заменим пропуски на среднее значение\n",
    "# посчитаем кол-во незаполненных данных\n",
    "re_data.loc[re_data['ponds_around3000'].isna(), 'ponds_around3000'] = re_data['ponds_around3000'].describe()[1]\n",
    "re_data['ponds_around3000'] = re_data['ponds_around3000'].astype('int64')\n",
    "re_data['ponds_around3000'].isna().sum()"
   ]
  },
  {
   "cell_type": "markdown",
   "metadata": {},
   "source": [
    "**Расстояние до центра города (м)** (cityCenters_nearest) - пропущенные данные были заполнены на основе среднего растояния до центра в зависимости от района расположения недвижимости."
   ]
  },
  {
   "cell_type": "code",
   "execution_count": 17,
   "metadata": {
    "scrolled": true
   },
   "outputs": [
    {
     "data": {
      "text/plain": [
       "0"
      ]
     },
     "execution_count": 17,
     "metadata": {},
     "output_type": "execute_result"
    }
   ],
   "source": [
    "# сгруппируем данные по районам и расстояние до центра города\n",
    "# заполним пропуски расстояния до центра по среднемму значению расстояния в зависимости от района\n",
    "# посчитаем кол-во незаполненных данных\n",
    "re_data['cityCenters_nearest'].fillna(re_data.groupby('locality_name')['cityCenters_nearest'].transform('mean'),inplace=True)\n",
    "re_data['cityCenters_nearest'] = re_data['cityCenters_nearest'].fillna(re_data['cityCenters_nearest'].mean())\n",
    "re_data['cityCenters_nearest'].isnull().sum()"
   ]
  },
  {
   "cell_type": "markdown",
   "metadata": {},
   "source": [
    "**Расстояние до ближайшего аэропорта в метрах (м)** (airports_nearest) - все пропуски в данных заменили на среднее значение."
   ]
  },
  {
   "cell_type": "code",
   "execution_count": 18,
   "metadata": {},
   "outputs": [
    {
     "data": {
      "text/plain": [
       "0"
      ]
     },
     "execution_count": 18,
     "metadata": {},
     "output_type": "execute_result"
    }
   ],
   "source": [
    "# заменим пропуски на среднее значение\n",
    "# посчитаем кол-во незаполненных данных\n",
    "re_data.loc[re_data['airports_nearest'].isna(), 'airports_nearest'] = re_data['airports_nearest'].describe()[1]\n",
    "re_data['airports_nearest'].isna().sum()"
   ]
  },
  {
   "cell_type": "markdown",
   "metadata": {},
   "source": [
    "**Высота потолков** (ceiling_height) - пустые данные заполнены, сделали замена на медиану для зданий известной этажности и на общую медиану, где этажность не указана."
   ]
  },
  {
   "cell_type": "code",
   "execution_count": 19,
   "metadata": {},
   "outputs": [
    {
     "data": {
      "text/html": [
       "<div>\n",
       "<style scoped>\n",
       "    .dataframe tbody tr th:only-of-type {\n",
       "        vertical-align: middle;\n",
       "    }\n",
       "\n",
       "    .dataframe tbody tr th {\n",
       "        vertical-align: top;\n",
       "    }\n",
       "\n",
       "    .dataframe thead th {\n",
       "        text-align: right;\n",
       "    }\n",
       "</style>\n",
       "<table border=\"1\" class=\"dataframe\">\n",
       "  <thead>\n",
       "    <tr style=\"text-align: right;\">\n",
       "      <th></th>\n",
       "      <th>median</th>\n",
       "      <th>count</th>\n",
       "    </tr>\n",
       "    <tr>\n",
       "      <th>floors_total</th>\n",
       "      <th></th>\n",
       "      <th></th>\n",
       "    </tr>\n",
       "  </thead>\n",
       "  <tbody>\n",
       "    <tr>\n",
       "      <td>1</td>\n",
       "      <td>2.90</td>\n",
       "      <td>9</td>\n",
       "    </tr>\n",
       "    <tr>\n",
       "      <td>2</td>\n",
       "      <td>2.70</td>\n",
       "      <td>211</td>\n",
       "    </tr>\n",
       "    <tr>\n",
       "      <td>3</td>\n",
       "      <td>2.80</td>\n",
       "      <td>399</td>\n",
       "    </tr>\n",
       "    <tr>\n",
       "      <td>4</td>\n",
       "      <td>3.00</td>\n",
       "      <td>787</td>\n",
       "    </tr>\n",
       "    <tr>\n",
       "      <td>5</td>\n",
       "      <td>2.55</td>\n",
       "      <td>3661</td>\n",
       "    </tr>\n",
       "  </tbody>\n",
       "</table>\n",
       "</div>"
      ],
      "text/plain": [
       "              median  count\n",
       "floors_total               \n",
       "1               2.90      9\n",
       "2               2.70    211\n",
       "3               2.80    399\n",
       "4               3.00    787\n",
       "5               2.55   3661"
      ]
     },
     "execution_count": 19,
     "metadata": {},
     "output_type": "execute_result"
    }
   ],
   "source": [
    "# переименуем столбцы\n",
    "# выведем на экран таблицу\n",
    "ceiling_height_medians = re_data.pivot_table(index='floors_total', values='ceiling_height', aggfunc=['median', 'count'])\n",
    "ceiling_height_medians.columns = ['median', 'count']\n",
    "ceiling_height_medians.head()"
   ]
  },
  {
   "cell_type": "code",
   "execution_count": 20,
   "metadata": {},
   "outputs": [
    {
     "data": {
      "text/plain": [
       "0"
      ]
     },
     "execution_count": 20,
     "metadata": {},
     "output_type": "execute_result"
    }
   ],
   "source": [
    "# медианы из сводной таблицы вставим на места пропущенных значений высоты потолков для дома соответствующей этажности\n",
    "for floor in ceiling_height_medians.index:\n",
    "    re_data.loc[(re_data['ceiling_height'].isna()) &\n",
    "                (re_data['floors_total'] == floor),\n",
    "                'ceiling_height'] = ceiling_height_medians.loc[floor, 'median']\n",
    "    \n",
    "# заменим значение высоты потолков на общую медиану по остальным\n",
    "re_data.loc[re_data['ceiling_height'].isna(), 'ceiling_height'] = re_data['ceiling_height'].describe()[5]\n",
    "\n",
    "# посчитаем кол-во незаполненных данных\n",
    "re_data['ceiling_height'].isna().sum()"
   ]
  },
  {
   "cell_type": "markdown",
   "metadata": {},
   "source": [
    "**Число балконов** (balcony) - предполагается, что отсутствие данных по  балконам свидетельствует о том, что число их равно нулю"
   ]
  },
  {
   "cell_type": "code",
   "execution_count": 21,
   "metadata": {},
   "outputs": [
    {
     "data": {
      "text/plain": [
       "0"
      ]
     },
     "execution_count": 21,
     "metadata": {},
     "output_type": "execute_result"
    }
   ],
   "source": [
    "# отсутствие данных это скорее всего балкона нет\n",
    "# посчитаем кол-во незаполненных данных\n",
    "re_data['balcony'] = re_data['balcony'].fillna(0)\n",
    "re_data['balcony'] = re_data['balcony'].astype('int64')\n",
    "re_data['balcony'].isna().sum()"
   ]
  },
  {
   "cell_type": "markdown",
   "metadata": {},
   "source": [
    "**Расстояние до ближайшего водоёма (м)** (ponds_nearest) - все пропуски в данных заменили на среднее значение."
   ]
  },
  {
   "cell_type": "code",
   "execution_count": 22,
   "metadata": {},
   "outputs": [
    {
     "data": {
      "text/plain": [
       "0"
      ]
     },
     "execution_count": 22,
     "metadata": {},
     "output_type": "execute_result"
    }
   ],
   "source": [
    "# заменим пропуски на среднее значение\n",
    "# посчитаем кол-во незаполненных данных\n",
    "re_data.loc[re_data['ponds_nearest'].isna(), 'ponds_nearest'] = re_data['ponds_nearest'].describe()[5]\n",
    "re_data['ponds_nearest'].isna().sum()"
   ]
  },
  {
   "cell_type": "markdown",
   "metadata": {},
   "source": [
    "**Расстояние до ближайшего парка (м)** (parks_nearest) - все пропуски в данных заменили на среднее значение."
   ]
  },
  {
   "cell_type": "code",
   "execution_count": 23,
   "metadata": {},
   "outputs": [
    {
     "data": {
      "text/plain": [
       "0"
      ]
     },
     "execution_count": 23,
     "metadata": {},
     "output_type": "execute_result"
    }
   ],
   "source": [
    "# заменим пропуски на среднее значение\n",
    "# посчитаем кол-во незаполненных данных\n",
    "re_data.loc[re_data['parks_nearest'].isna(), 'parks_nearest'] = re_data['parks_nearest'].describe()[5]\n",
    "re_data['parks_nearest'].isna().sum()"
   ]
  },
  {
   "cell_type": "markdown",
   "metadata": {},
   "source": [
    "**Апартаменты (булев тип)** (is_apartment) - пустые данные заменим на ноль, что бдует означает что это не аппартаменты"
   ]
  },
  {
   "cell_type": "code",
   "execution_count": 24,
   "metadata": {},
   "outputs": [
    {
     "data": {
      "text/plain": [
       "0"
      ]
     },
     "execution_count": 24,
     "metadata": {},
     "output_type": "execute_result"
    }
   ],
   "source": [
    "# заменим тип данных на bool\n",
    "# заменим пропуски на ноль\n",
    "# посчитаем кол-во незаполненных данных\n",
    "re_data['is_apartment'] = re_data['is_apartment'].astype('bool')\n",
    "re_data['is_apartment'] = re_data['is_apartment'].fillna(0) #заполняем 0-не аппартамент\n",
    "re_data['is_apartment'].isnull().sum()"
   ]
  },
  {
   "cell_type": "code",
   "execution_count": 25,
   "metadata": {},
   "outputs": [
    {
     "data": {
      "text/plain": [
       "0   2019-03-07\n",
       "1   2018-12-04\n",
       "Name: first_day_exposition, dtype: datetime64[ns]"
      ]
     },
     "execution_count": 25,
     "metadata": {},
     "output_type": "execute_result"
    }
   ],
   "source": [
    "# заменим тип данных по дате публикаци\n",
    "re_data['first_day_exposition'] = pd.to_datetime(re_data['first_day_exposition'], format='%Y-%m-%dT%H:%M:%S')\n",
    "re_data['first_day_exposition'].head(2)"
   ]
  },
  {
   "cell_type": "code",
   "execution_count": 26,
   "metadata": {},
   "outputs": [
    {
     "name": "stdout",
     "output_type": "stream",
     "text": [
      "<class 'pandas.core.frame.DataFrame'>\n",
      "Int64Index: 23548 entries, 0 to 23698\n",
      "Data columns (total 23 columns):\n",
      "total_images            23548 non-null int64\n",
      "last_price              23548 non-null float64\n",
      "total_area              23548 non-null float64\n",
      "first_day_exposition    23548 non-null datetime64[ns]\n",
      "rooms                   23548 non-null int64\n",
      "ceiling_height          23548 non-null float64\n",
      "floors_total            23548 non-null int64\n",
      "living_area             23548 non-null float64\n",
      "floor                   23548 non-null int64\n",
      "is_apartment            23548 non-null bool\n",
      "studio                  23548 non-null bool\n",
      "open_plan               23548 non-null bool\n",
      "kitchen_area            23548 non-null float64\n",
      "balcony                 23548 non-null int64\n",
      "locality_name           23548 non-null object\n",
      "airports_nearest        23548 non-null float64\n",
      "cityCenters_nearest     23548 non-null float64\n",
      "parks_around3000        23548 non-null int64\n",
      "parks_nearest           23548 non-null float64\n",
      "ponds_around3000        23548 non-null int64\n",
      "ponds_nearest           23548 non-null float64\n",
      "days_exposition         23548 non-null int64\n",
      "last_price_m2           23548 non-null float64\n",
      "dtypes: bool(3), datetime64[ns](1), float64(10), int64(8), object(1)\n",
      "memory usage: 3.8+ MB\n"
     ]
    }
   ],
   "source": [
    "re_data.info()"
   ]
  },
  {
   "cell_type": "markdown",
   "metadata": {},
   "source": [
    "### Вывод"
   ]
  },
  {
   "cell_type": "markdown",
   "metadata": {},
   "source": [
    "Заменны тип данных по части столбцам. После обработки данных осталось 23548 строк.\n",
    "\n",
    "***Название населенного пункта*** и ***Всего этажей в доме*** пропущеных значений мало, и так как установить данные нет возможности, строки с пропущенными значениями удалены. ***Жилая площадь в квадратных метрах(м²)*** на основе расчета, стоимость недвижимости деленная на стоимость 1 кв метра в населенном пункте. Для этого была найдена медиана стоимости 1 кв м для каждого населенного пункта. ***Площадь кухни в квадратных метрах (м²)*** в студиях нет отдельной кухни, поэтому можно заполнить нулем. Остальные пропущенные данный заполним медианной. ***Сколько дней было размещено объявление (от публикации до снятия)*** все пропуски в данных заменили на медианные значения. ***Число парков в радиусе 3 км (parks_around3000)***, ***Число водоёмов в радиусе 3 км (ponds_around3000)***, ***Расстояние до ближайшего водоёма (м)***, ***Расстояние до ближайшего парка (м)*** и ***Расстояние до ближайшего аэропорта в метрах (м)*** все пропуски в данных заменили на среднее значение. ***Расстояние до центра города (м)*** пропущенные данные были заполнены на основе среднего растояния до центра в зависимости от района расположения недвижимости. ***Высота потолков*** пустые данные заполнены, сделали замена на медиану для зданий известной этажности и на общую медиану, где этажность не указана. ***Число балконов*** предполагается, что отсутствие данных по балконам свидетельствует о том, что число их равно нулю."
   ]
  },
  {
   "cell_type": "markdown",
   "metadata": {},
   "source": [
    "## Расчёты и добавление результатов в таблицу"
   ]
  },
  {
   "cell_type": "markdown",
   "metadata": {},
   "source": [
    "цену квадратного метра;\n",
    "день недели, месяц и год публикации объявления;\n",
    "этаж квартиры; варианты — первый, последний, другой;\n",
    "соотношение жилой и общей площади, а также отношение площади кухни к общей."
   ]
  },
  {
   "cell_type": "markdown",
   "metadata": {},
   "source": [
    "**Добавление столбца \"Цена квадратного метра\"**"
   ]
  },
  {
   "cell_type": "code",
   "execution_count": 27,
   "metadata": {},
   "outputs": [],
   "source": [
    "# добавим столбец с ценой за квадратный метр\n",
    "re_data['price_per_square_meter'] = round(re_data['last_price'] / re_data['total_area'], 1)"
   ]
  },
  {
   "cell_type": "markdown",
   "metadata": {},
   "source": [
    "**Добавление столбца \"День недели\", \"Месяц\" и \"Год\" публикации объявления**"
   ]
  },
  {
   "cell_type": "code",
   "execution_count": 28,
   "metadata": {},
   "outputs": [],
   "source": [
    "# создадим столбцы с данными неделя, месяц, год\n",
    "re_data['weekday'] = re_data['first_day_exposition'].dt.weekday\n",
    "re_data['month'] = re_data['first_day_exposition'].dt.month\n",
    "re_data['year'] = re_data['first_day_exposition'].dt.year"
   ]
  },
  {
   "cell_type": "markdown",
   "metadata": {},
   "source": [
    "**Добавление столбца по данным \"Первый\", \"Последний\" и \"Другой\" этаж квартиры**"
   ]
  },
  {
   "cell_type": "code",
   "execution_count": 29,
   "metadata": {},
   "outputs": [],
   "source": [
    "# создадим столбец и заполним данными по категориям первый, послдений и другой\n",
    "re_data.loc[re_data['floor'] == 1, 'floor_position'] = 'первый'\n",
    "re_data.loc[re_data['floor'] == re_data['floors_total'], 'floor_position'] = 'последний'\n",
    "re_data.loc[re_data['floor_position'].isna(), 'floor_position'] = 'другой'"
   ]
  },
  {
   "cell_type": "markdown",
   "metadata": {},
   "source": [
    "**Добавление столбца \"Соотношение жилой и общей площади\" и \"Отношение площади кухни к общей\"**"
   ]
  },
  {
   "cell_type": "code",
   "execution_count": 30,
   "metadata": {},
   "outputs": [],
   "source": [
    "# создадм столбец отношений площадей\n",
    "re_data['living_area_ratio'] = round(re_data['living_area'] / re_data['total_area'], 3)\n",
    "re_data['kitchen_area_ratio'] = round(re_data['kitchen_area'] / re_data['total_area'], 3)"
   ]
  },
  {
   "cell_type": "code",
   "execution_count": 31,
   "metadata": {},
   "outputs": [
    {
     "data": {
      "text/html": [
       "<div>\n",
       "<style scoped>\n",
       "    .dataframe tbody tr th:only-of-type {\n",
       "        vertical-align: middle;\n",
       "    }\n",
       "\n",
       "    .dataframe tbody tr th {\n",
       "        vertical-align: top;\n",
       "    }\n",
       "\n",
       "    .dataframe thead th {\n",
       "        text-align: right;\n",
       "    }\n",
       "</style>\n",
       "<table border=\"1\" class=\"dataframe\">\n",
       "  <thead>\n",
       "    <tr style=\"text-align: right;\">\n",
       "      <th></th>\n",
       "      <th>total_images</th>\n",
       "      <th>last_price</th>\n",
       "      <th>total_area</th>\n",
       "      <th>first_day_exposition</th>\n",
       "      <th>rooms</th>\n",
       "      <th>ceiling_height</th>\n",
       "      <th>floors_total</th>\n",
       "      <th>living_area</th>\n",
       "      <th>floor</th>\n",
       "      <th>is_apartment</th>\n",
       "      <th>studio</th>\n",
       "      <th>...</th>\n",
       "      <th>ponds_around3000</th>\n",
       "      <th>ponds_nearest</th>\n",
       "      <th>days_exposition</th>\n",
       "      <th>last_price_m2</th>\n",
       "      <th>price_per_square_meter</th>\n",
       "      <th>weekday</th>\n",
       "      <th>month</th>\n",
       "      <th>year</th>\n",
       "      <th>floor_position</th>\n",
       "      <th>living_area_ratio</th>\n",
       "      <th>kitchen_area_ratio</th>\n",
       "    </tr>\n",
       "  </thead>\n",
       "  <tbody>\n",
       "    <tr>\n",
       "      <td>0</td>\n",
       "      <td>20</td>\n",
       "      <td>13000000.0</td>\n",
       "      <td>108.0</td>\n",
       "      <td>2019-03-07</td>\n",
       "      <td>3</td>\n",
       "      <td>2.70</td>\n",
       "      <td>16</td>\n",
       "      <td>51.000000</td>\n",
       "      <td>8</td>\n",
       "      <td>True</td>\n",
       "      <td>False</td>\n",
       "      <td>...</td>\n",
       "      <td>2</td>\n",
       "      <td>755.0</td>\n",
       "      <td>95</td>\n",
       "      <td>254901.960784</td>\n",
       "      <td>120370.4</td>\n",
       "      <td>3</td>\n",
       "      <td>3</td>\n",
       "      <td>2019</td>\n",
       "      <td>другой</td>\n",
       "      <td>0.472</td>\n",
       "      <td>0.231</td>\n",
       "    </tr>\n",
       "    <tr>\n",
       "      <td>1</td>\n",
       "      <td>7</td>\n",
       "      <td>3350000.0</td>\n",
       "      <td>40.4</td>\n",
       "      <td>2018-12-04</td>\n",
       "      <td>1</td>\n",
       "      <td>2.75</td>\n",
       "      <td>11</td>\n",
       "      <td>18.600000</td>\n",
       "      <td>1</td>\n",
       "      <td>True</td>\n",
       "      <td>False</td>\n",
       "      <td>...</td>\n",
       "      <td>0</td>\n",
       "      <td>503.0</td>\n",
       "      <td>81</td>\n",
       "      <td>180107.526882</td>\n",
       "      <td>82920.8</td>\n",
       "      <td>1</td>\n",
       "      <td>12</td>\n",
       "      <td>2018</td>\n",
       "      <td>первый</td>\n",
       "      <td>0.460</td>\n",
       "      <td>0.272</td>\n",
       "    </tr>\n",
       "    <tr>\n",
       "      <td>2</td>\n",
       "      <td>10</td>\n",
       "      <td>5196000.0</td>\n",
       "      <td>56.0</td>\n",
       "      <td>2015-08-20</td>\n",
       "      <td>2</td>\n",
       "      <td>2.55</td>\n",
       "      <td>5</td>\n",
       "      <td>34.300000</td>\n",
       "      <td>4</td>\n",
       "      <td>True</td>\n",
       "      <td>False</td>\n",
       "      <td>...</td>\n",
       "      <td>2</td>\n",
       "      <td>574.0</td>\n",
       "      <td>558</td>\n",
       "      <td>151486.880466</td>\n",
       "      <td>92785.7</td>\n",
       "      <td>3</td>\n",
       "      <td>8</td>\n",
       "      <td>2015</td>\n",
       "      <td>другой</td>\n",
       "      <td>0.612</td>\n",
       "      <td>0.148</td>\n",
       "    </tr>\n",
       "    <tr>\n",
       "      <td>3</td>\n",
       "      <td>0</td>\n",
       "      <td>64900000.0</td>\n",
       "      <td>159.0</td>\n",
       "      <td>2015-07-24</td>\n",
       "      <td>3</td>\n",
       "      <td>2.60</td>\n",
       "      <td>14</td>\n",
       "      <td>301.883277</td>\n",
       "      <td>9</td>\n",
       "      <td>True</td>\n",
       "      <td>False</td>\n",
       "      <td>...</td>\n",
       "      <td>3</td>\n",
       "      <td>234.0</td>\n",
       "      <td>424</td>\n",
       "      <td>214983.753514</td>\n",
       "      <td>408176.1</td>\n",
       "      <td>4</td>\n",
       "      <td>7</td>\n",
       "      <td>2015</td>\n",
       "      <td>другой</td>\n",
       "      <td>1.899</td>\n",
       "      <td>0.057</td>\n",
       "    </tr>\n",
       "    <tr>\n",
       "      <td>4</td>\n",
       "      <td>2</td>\n",
       "      <td>10000000.0</td>\n",
       "      <td>100.0</td>\n",
       "      <td>2018-06-19</td>\n",
       "      <td>2</td>\n",
       "      <td>3.03</td>\n",
       "      <td>14</td>\n",
       "      <td>32.000000</td>\n",
       "      <td>13</td>\n",
       "      <td>True</td>\n",
       "      <td>False</td>\n",
       "      <td>...</td>\n",
       "      <td>1</td>\n",
       "      <td>48.0</td>\n",
       "      <td>121</td>\n",
       "      <td>312500.000000</td>\n",
       "      <td>100000.0</td>\n",
       "      <td>1</td>\n",
       "      <td>6</td>\n",
       "      <td>2018</td>\n",
       "      <td>другой</td>\n",
       "      <td>0.320</td>\n",
       "      <td>0.410</td>\n",
       "    </tr>\n",
       "  </tbody>\n",
       "</table>\n",
       "<p>5 rows × 30 columns</p>\n",
       "</div>"
      ],
      "text/plain": [
       "   total_images  last_price  total_area first_day_exposition  rooms  \\\n",
       "0            20  13000000.0       108.0           2019-03-07      3   \n",
       "1             7   3350000.0        40.4           2018-12-04      1   \n",
       "2            10   5196000.0        56.0           2015-08-20      2   \n",
       "3             0  64900000.0       159.0           2015-07-24      3   \n",
       "4             2  10000000.0       100.0           2018-06-19      2   \n",
       "\n",
       "   ceiling_height  floors_total  living_area  floor  is_apartment  studio  \\\n",
       "0            2.70            16    51.000000      8          True   False   \n",
       "1            2.75            11    18.600000      1          True   False   \n",
       "2            2.55             5    34.300000      4          True   False   \n",
       "3            2.60            14   301.883277      9          True   False   \n",
       "4            3.03            14    32.000000     13          True   False   \n",
       "\n",
       "   ...  ponds_around3000  ponds_nearest  days_exposition  last_price_m2  \\\n",
       "0  ...                 2          755.0               95  254901.960784   \n",
       "1  ...                 0          503.0               81  180107.526882   \n",
       "2  ...                 2          574.0              558  151486.880466   \n",
       "3  ...                 3          234.0              424  214983.753514   \n",
       "4  ...                 1           48.0              121  312500.000000   \n",
       "\n",
       "   price_per_square_meter  weekday  month  year  floor_position  \\\n",
       "0                120370.4        3      3  2019          другой   \n",
       "1                 82920.8        1     12  2018          первый   \n",
       "2                 92785.7        3      8  2015          другой   \n",
       "3                408176.1        4      7  2015          другой   \n",
       "4                100000.0        1      6  2018          другой   \n",
       "\n",
       "   living_area_ratio  kitchen_area_ratio  \n",
       "0              0.472               0.231  \n",
       "1              0.460               0.272  \n",
       "2              0.612               0.148  \n",
       "3              1.899               0.057  \n",
       "4              0.320               0.410  \n",
       "\n",
       "[5 rows x 30 columns]"
      ]
     },
     "execution_count": 31,
     "metadata": {},
     "output_type": "execute_result"
    }
   ],
   "source": [
    "re_data.head()"
   ]
  },
  {
   "cell_type": "markdown",
   "metadata": {},
   "source": [
    "### Вывод"
   ]
  },
  {
   "cell_type": "markdown",
   "metadata": {},
   "source": [
    "Добавили столбцы ***Цена за квадратный метр***, ***День недели***, ***Месяц***, и ***Год***, ***Позиция этажа***, ***Соотношение жилой и общей площади*** и ***Отношение площади кухни к общей***"
   ]
  },
  {
   "cell_type": "markdown",
   "metadata": {},
   "source": [
    "## Исследовательский анализ данных"
   ]
  },
  {
   "cell_type": "code",
   "execution_count": 32,
   "metadata": {},
   "outputs": [],
   "source": [
    "import matplotlib.pyplot as plt"
   ]
  },
  {
   "cell_type": "markdown",
   "metadata": {},
   "source": [
    "### Число комнат"
   ]
  },
  {
   "cell_type": "code",
   "execution_count": 33,
   "metadata": {
    "scrolled": true
   },
   "outputs": [
    {
     "data": {
      "image/png": "[encoded data removed]",
      "text/plain": [
       "<Figure size 432x288 with 1 Axes>"
      ]
     },
     "metadata": {
      "needs_background": "light"
     },
     "output_type": "display_data"
    }
   ],
   "source": [
    "re_data['rooms'].hist(bins=10,range=(0,7))\n",
    "plt.xlabel('Количество комнат, шт');"
   ]
  },
  {
   "cell_type": "markdown",
   "metadata": {},
   "source": [
    "Видно, что чаще берут 1 комнатные и 2 комнатные квартиры"
   ]
  },
  {
   "cell_type": "markdown",
   "metadata": {},
   "source": [
    "### Цена"
   ]
  },
  {
   "cell_type": "code",
   "execution_count": 34,
   "metadata": {},
   "outputs": [
    {
     "data": {
      "image/png": "[encoded data removed]",
      "text/plain": [
       "<Figure size 432x288 with 1 Axes>"
      ]
     },
     "metadata": {
      "needs_background": "light"
     },
     "output_type": "display_data"
    }
   ],
   "source": [
    "re_data['last_price'].hist(bins=100,range=(0,30000000))\n",
    "plt.xlabel('Цена на момент снятия с публикации');"
   ]
  },
  {
   "cell_type": "markdown",
   "metadata": {},
   "source": [
    "Гистограмма показывает, что недвижимость чаще покупается за 3-4 млн. руб "
   ]
  },
  {
   "cell_type": "markdown",
   "metadata": {},
   "source": [
    "### Высота потолков"
   ]
  },
  {
   "cell_type": "code",
   "execution_count": 35,
   "metadata": {
    "scrolled": true
   },
   "outputs": [
    {
     "data": {
      "image/png": "[encoded data removed]",
      "text/plain": [
       "<Figure size 432x288 with 1 Axes>"
      ]
     },
     "metadata": {
      "needs_background": "light"
     },
     "output_type": "display_data"
    }
   ],
   "source": [
    "re_data['ceiling_height'].hist(bins=100,range=(2.3, 4))\n",
    "plt.xlabel('Высота потолков');"
   ]
  },
  {
   "cell_type": "markdown",
   "metadata": {},
   "source": [
    "Основные покупки выходят на квартиры с потолками от 2,5 до 2,75 м"
   ]
  },
  {
   "cell_type": "markdown",
   "metadata": {},
   "source": [
    "### Срок продажи квартиры"
   ]
  },
  {
   "cell_type": "code",
   "execution_count": 36,
   "metadata": {},
   "outputs": [
    {
     "data": {
      "image/png": "[encoded data removed]",
      "text/plain": [
       "<Figure size 432x288 with 1 Axes>"
      ]
     },
     "metadata": {
      "needs_background": "light"
     },
     "output_type": "display_data"
    }
   ],
   "source": [
    "re_data['days_exposition'].hist(bins=30,range=(0,500))\n",
    "plt.xlabel('Количество дней');"
   ]
  },
  {
   "cell_type": "code",
   "execution_count": 37,
   "metadata": {
    "scrolled": true
   },
   "outputs": [
    {
     "data": {
      "text/plain": [
       "count    23548.000000\n",
       "mean       169.218915\n",
       "std        206.463108\n",
       "min          1.000000\n",
       "25%         45.000000\n",
       "50%         95.000000\n",
       "75%        198.000000\n",
       "max       1580.000000\n",
       "Name: days_exposition, dtype: float64"
      ]
     },
     "execution_count": 37,
     "metadata": {},
     "output_type": "execute_result"
    }
   ],
   "source": [
    "re_data['days_exposition'].describe()"
   ]
  },
  {
   "cell_type": "code",
   "execution_count": 38,
   "metadata": {},
   "outputs": [
    {
     "data": {
      "image/png": "[encoded data removed]",
      "text/plain": [
       "<Figure size 432x288 with 1 Axes>"
      ]
     },
     "metadata": {
      "needs_background": "light"
     },
     "output_type": "display_data"
    }
   ],
   "source": [
    "plt.ylim(0,500)\n",
    "re_data.boxplot(column='days_exposition') \n",
    "plt.show()"
   ]
  },
  {
   "cell_type": "markdown",
   "metadata": {},
   "source": [
    "Исследуя гистограмму продаж и диаграмму размаха можно видеть, что среднее время продажи квартиры 95 дней. Большая часть значений лежит за диапазоном 420 дней (1.5 межквартального размаха, добавленного к третьему квартилю). Это выглядит правдоподобным. Самыми быстрыми продажами можно назвать продажу в один день. Самой долгой продажей (если не брать во внимание выбросы, которые лежат за 1.5 межквартального размаха, добавленного в третьей квартилии)-427 дней."
   ]
  },
  {
   "cell_type": "code",
   "execution_count": 39,
   "metadata": {},
   "outputs": [],
   "source": [
    "# урали выбросы находящиеся за 1.5 межквартальным интервалом, добавленного к Q3\n",
    "current_days_exposition_date = re_data.query('days_exposition < 420')"
   ]
  },
  {
   "cell_type": "code",
   "execution_count": 40,
   "metadata": {},
   "outputs": [
    {
     "data": {
      "image/png": "[encoded data removed]",
      "text/plain": [
       "<Figure size 432x288 with 1 Axes>"
      ]
     },
     "metadata": {
      "needs_background": "light"
     },
     "output_type": "display_data"
    }
   ],
   "source": [
    "current_days_exposition_date['days_exposition'].hist(bins=100, range=(0,500))\n",
    "plt.xlabel('Количество дней');"
   ]
  },
  {
   "cell_type": "markdown",
   "metadata": {},
   "source": [
    "Убрали выбросы находящиеся за 1.5 межквартальным интервалом, добавленного к Q3. Всего наблюдается 4 пика. Самый большой пик- 95 дней, есть еще пики 50 дней, 70 дней и 10 дней. Сказать, что это артифакты, вполне это возможно. Большая часть выбросов лежит за диапазоном 420 дней и они стремяться к 0. Их можно убрать."
   ]
  },
  {
   "cell_type": "code",
   "execution_count": 41,
   "metadata": {},
   "outputs": [
    {
     "data": {
      "text/plain": [
       "count    2.113800e+04\n",
       "mean     6.376823e+06\n",
       "std      1.079836e+07\n",
       "min      1.219000e+04\n",
       "25%      3.400000e+06\n",
       "50%      4.600000e+06\n",
       "75%      6.650000e+06\n",
       "max      7.630000e+08\n",
       "Name: last_price, dtype: float64"
      ]
     },
     "execution_count": 41,
     "metadata": {},
     "output_type": "execute_result"
    }
   ],
   "source": [
    "current_days_exposition_date['last_price'].describe()"
   ]
  },
  {
   "cell_type": "markdown",
   "metadata": {},
   "source": [
    "### Факторы влияющие на стоимость квартиры"
   ]
  },
  {
   "cell_type": "code",
   "execution_count": 42,
   "metadata": {
    "scrolled": true
   },
   "outputs": [
    {
     "data": {
      "image/png": "[encoded data removed]",
      "text/plain": [
       "<Figure size 432x288 with 1 Axes>"
      ]
     },
     "metadata": {
      "needs_background": "light"
     },
     "output_type": "display_data"
    }
   ],
   "source": [
    "### Срок продажи квартирыplt.ylim(100000, 15000000)\n",
    "current_days_exposition_date.boxplot(column='last_price')\n",
    "plt.show()"
   ]
  },
  {
   "cell_type": "markdown",
   "metadata": {},
   "source": [
    "Диограмма размаха показывает, что в выбросах есть недвижимость свыше 11 млн. руб.\n",
    "Вполне возможно, такие квартиры существуют. Можно убрать значения начиная с 1.5 межквартального интервала Q3 = 11 х 10^6, правее все стремится к нулю."
   ]
  },
  {
   "cell_type": "code",
   "execution_count": 43,
   "metadata": {},
   "outputs": [],
   "source": [
    "# сделаем выборку и уберм выбросы квартир свыше 11 млн. руб\n",
    "current_days_exposition_date = current_days_exposition_date.query('last_price<11*10**6')"
   ]
  },
  {
   "cell_type": "code",
   "execution_count": 44,
   "metadata": {
    "scrolled": true
   },
   "outputs": [
    {
     "data": {
      "text/plain": [
       "<matplotlib.axes._subplots.AxesSubplot at 0x7f6d076d3b50>"
      ]
     },
     "execution_count": 44,
     "metadata": {},
     "output_type": "execute_result"
    },
    {
     "data": {
      "image/png": "[encoded data removed]",
      "text/plain": [
       "<Figure size 2160x360 with 1 Axes>"
      ]
     },
     "metadata": {
      "needs_background": "light"
     },
     "output_type": "display_data"
    }
   ],
   "source": [
    "(current_days_exposition_date\n",
    "    .sort_values(by='last_price', ascending=True)\n",
    "    .plot(x='last_price', y='total_area', style='o', grid=True, figsize=(30,5))\n",
    ")"
   ]
  },
  {
   "cell_type": "code",
   "execution_count": 45,
   "metadata": {},
   "outputs": [
    {
     "data": {
      "text/plain": [
       "0.6773174025929337"
      ]
     },
     "execution_count": 45,
     "metadata": {},
     "output_type": "execute_result"
    }
   ],
   "source": [
    "current_days_exposition_date['last_price'].corr(current_days_exposition_date['total_area'])"
   ]
  },
  {
   "cell_type": "markdown",
   "metadata": {},
   "source": [
    "Положительная корреляция. При увеличении площади, увеличивается стоимость квартиры. Стоимость квартиры коррелирует с площадью на коэфф Пирсона 0.67. Велечины сильно зависят друг от друга"
   ]
  },
  {
   "cell_type": "code",
   "execution_count": 46,
   "metadata": {
    "scrolled": true
   },
   "outputs": [
    {
     "data": {
      "image/png": "[encoded data removed]",
      "text/plain": [
       "<Figure size 1080x576 with 1 Axes>"
      ]
     },
     "metadata": {
      "needs_background": "light"
     },
     "output_type": "display_data"
    }
   ],
   "source": [
    "(current_days_exposition_date\n",
    "     .groupby('rooms')['last_price'].median()\n",
    "     .plot(x='rooms', y='last_price', style='o-', grid=True, figsize=(15,8), alpha=1)\n",
    ")\n",
    "plt.xlabel('Количество комнат')\n",
    "plt.ylabel('Цена');"
   ]
  },
  {
   "cell_type": "markdown",
   "metadata": {},
   "source": [
    "График показывает, что при увеливчении количества комнат, увеличивается и стоимость. С количеством комнат 7, она ниже, возможо спрос на такие квартиры не большой, либо мало данных по таки квартирам."
   ]
  },
  {
   "cell_type": "code",
   "execution_count": 47,
   "metadata": {},
   "outputs": [
    {
     "data": {
      "text/plain": [
       "0.43819823667811564"
      ]
     },
     "execution_count": 47,
     "metadata": {},
     "output_type": "execute_result"
    }
   ],
   "source": [
    "current_days_exposition_date['last_price'].corr(current_days_exposition_date[\"rooms\"])"
   ]
  },
  {
   "cell_type": "markdown",
   "metadata": {},
   "source": [
    "Коэф Пирсона 0.43. Положительная корреляция цены и кол-ва комнат"
   ]
  },
  {
   "cell_type": "code",
   "execution_count": 48,
   "metadata": {},
   "outputs": [
    {
     "data": {
      "image/png": "[encoded data removed]",
      "text/plain": [
       "<Figure size 432x288 with 1 Axes>"
      ]
     },
     "metadata": {
      "needs_background": "light"
     },
     "output_type": "display_data"
    }
   ],
   "source": [
    "(current_days_exposition_date\n",
    "    .groupby('floor_position')['last_price'].median()\n",
    "    .plot(x='floor_position', y='last_price', kind='bar')\n",
    ");"
   ]
  },
  {
   "cell_type": "code",
   "execution_count": 49,
   "metadata": {},
   "outputs": [
    {
     "data": {
      "text/plain": [
       "0.14266652359498527"
      ]
     },
     "execution_count": 49,
     "metadata": {},
     "output_type": "execute_result"
    }
   ],
   "source": [
    "current_days_exposition_date['floor'].corr(current_days_exposition_date['last_price'])"
   ]
  },
  {
   "cell_type": "markdown",
   "metadata": {},
   "source": [
    "Цена почти не зависит от этажа. Видно, что цена за первый этаж немного ниже. Этот вывод подтверждает коэффицент Пирсона = 0.14 положительный"
   ]
  },
  {
   "cell_type": "code",
   "execution_count": 50,
   "metadata": {},
   "outputs": [
    {
     "data": {
      "image/png": "[encoded data removed]",
      "text/plain": [
       "<Figure size 432x288 with 1 Axes>"
      ]
     },
     "metadata": {
      "needs_background": "light"
     },
     "output_type": "display_data"
    }
   ],
   "source": [
    "(current_days_exposition_date\n",
    "     .sort_values(by='cityCenters_nearest', ascending=True)\n",
    "     .plot(x='cityCenters_nearest', y='last_price', style='o', alpha=0.3)\n",
    ");"
   ]
  },
  {
   "cell_type": "code",
   "execution_count": 51,
   "metadata": {},
   "outputs": [
    {
     "data": {
      "text/plain": [
       "-0.23416242172950122"
      ]
     },
     "execution_count": 51,
     "metadata": {},
     "output_type": "execute_result"
    }
   ],
   "source": [
    "current_days_exposition_date['cityCenters_nearest'].corr(current_days_exposition_date['last_price'])"
   ]
  },
  {
   "cell_type": "markdown",
   "metadata": {},
   "source": [
    "Плотной цвета на графике показывает, что при увеличении расстояния, стоимость уменьшается не сильно. Об этом говорить и коэф Пирсона 0,23"
   ]
  },
  {
   "cell_type": "code",
   "execution_count": 52,
   "metadata": {},
   "outputs": [
    {
     "data": {
      "image/png": "[encoded data removed]",
      "text/plain": [
       "<Figure size 432x288 with 1 Axes>"
      ]
     },
     "metadata": {
      "needs_background": "light"
     },
     "output_type": "display_data"
    }
   ],
   "source": [
    "(current_days_exposition_date\n",
    "     .groupby('weekday')['last_price'].count()\n",
    "     .plot(x='weekday', y='last_price', kind='bar')\n",
    ");"
   ]
  },
  {
   "cell_type": "markdown",
   "metadata": {},
   "source": [
    "Сразу видно будни рабочие дни, так как основная продажа на них. В выходные конечно тоже есть, но в два раза меньше."
   ]
  },
  {
   "cell_type": "code",
   "execution_count": 53,
   "metadata": {},
   "outputs": [
    {
     "data": {
      "image/png": "[encoded data removed]",
      "text/plain": [
       "<Figure size 432x288 with 1 Axes>"
      ]
     },
     "metadata": {
      "needs_background": "light"
     },
     "output_type": "display_data"
    }
   ],
   "source": [
    "(current_days_exposition_date\n",
    "     .groupby('month')['last_price'].count()\n",
    "     .plot(x='month', y='last_price', kind='bar')\n",
    ");"
   ]
  },
  {
   "cell_type": "markdown",
   "metadata": {},
   "source": [
    "Из гистограммы видно, что объявления меньше всего закрываются в месяцы перед НГ в декабре и после НГ в январе. Много выходных и люди тратят деньги на подарки и отдых. В мае низко тоже из-зи праздников."
   ]
  },
  {
   "cell_type": "code",
   "execution_count": 54,
   "metadata": {},
   "outputs": [
    {
     "data": {
      "text/plain": [
       "<matplotlib.axes._subplots.AxesSubplot at 0x7f6d076ba810>"
      ]
     },
     "execution_count": 54,
     "metadata": {},
     "output_type": "execute_result"
    },
    {
     "data": {
      "image/png": "[encoded data removed]",
      "text/plain": [
       "<Figure size 432x288 with 1 Axes>"
      ]
     },
     "metadata": {
      "needs_background": "light"
     },
     "output_type": "display_data"
    }
   ],
   "source": [
    "(current_days_exposition_date\n",
    "     .groupby('year')['last_price'].count()\n",
    "     .plot(x='year', y='last_price', kind='bar')\n",
    ")"
   ]
  },
  {
   "cell_type": "markdown",
   "metadata": {},
   "source": [
    "В 2017 и 2018 годах было больше всего покупок квартир"
   ]
  },
  {
   "cell_type": "markdown",
   "metadata": {},
   "source": [
    "### Населенных пунктов с наибольшим числом объявлений"
   ]
  },
  {
   "cell_type": "code",
   "execution_count": 55,
   "metadata": {},
   "outputs": [
    {
     "data": {
      "text/html": [
       "<div>\n",
       "<style scoped>\n",
       "    .dataframe tbody tr th:only-of-type {\n",
       "        vertical-align: middle;\n",
       "    }\n",
       "\n",
       "    .dataframe tbody tr th {\n",
       "        vertical-align: top;\n",
       "    }\n",
       "\n",
       "    .dataframe thead th {\n",
       "        text-align: right;\n",
       "    }\n",
       "</style>\n",
       "<table border=\"1\" class=\"dataframe\">\n",
       "  <thead>\n",
       "    <tr style=\"text-align: right;\">\n",
       "      <th></th>\n",
       "      <th>count</th>\n",
       "      <th>median</th>\n",
       "    </tr>\n",
       "    <tr>\n",
       "      <th>locality_name</th>\n",
       "      <th></th>\n",
       "      <th></th>\n",
       "    </tr>\n",
       "  </thead>\n",
       "  <tbody>\n",
       "    <tr>\n",
       "      <td>Санкт-Петербург</td>\n",
       "      <td>12128</td>\n",
       "      <td>101785.70</td>\n",
       "    </tr>\n",
       "    <tr>\n",
       "      <td>посёлок Мурино</td>\n",
       "      <td>477</td>\n",
       "      <td>86042.60</td>\n",
       "    </tr>\n",
       "    <tr>\n",
       "      <td>посёлок Шушары</td>\n",
       "      <td>404</td>\n",
       "      <td>76986.15</td>\n",
       "    </tr>\n",
       "    <tr>\n",
       "      <td>Всеволожск</td>\n",
       "      <td>351</td>\n",
       "      <td>65789.50</td>\n",
       "    </tr>\n",
       "    <tr>\n",
       "      <td>Колпино</td>\n",
       "      <td>314</td>\n",
       "      <td>74349.65</td>\n",
       "    </tr>\n",
       "    <tr>\n",
       "      <td>Пушкин</td>\n",
       "      <td>305</td>\n",
       "      <td>98214.30</td>\n",
       "    </tr>\n",
       "    <tr>\n",
       "      <td>посёлок Парголово</td>\n",
       "      <td>300</td>\n",
       "      <td>91289.20</td>\n",
       "    </tr>\n",
       "    <tr>\n",
       "      <td>Гатчина</td>\n",
       "      <td>272</td>\n",
       "      <td>67746.30</td>\n",
       "    </tr>\n",
       "    <tr>\n",
       "      <td>деревня Кудрово</td>\n",
       "      <td>262</td>\n",
       "      <td>92044.85</td>\n",
       "    </tr>\n",
       "    <tr>\n",
       "      <td>Выборг</td>\n",
       "      <td>212</td>\n",
       "      <td>58133.20</td>\n",
       "    </tr>\n",
       "  </tbody>\n",
       "</table>\n",
       "</div>"
      ],
      "text/plain": [
       "                   count     median\n",
       "locality_name                      \n",
       "Санкт-Петербург    12128  101785.70\n",
       "посёлок Мурино       477   86042.60\n",
       "посёлок Шушары       404   76986.15\n",
       "Всеволожск           351   65789.50\n",
       "Колпино              314   74349.65\n",
       "Пушкин               305   98214.30\n",
       "посёлок Парголово    300   91289.20\n",
       "Гатчина              272   67746.30\n",
       "деревня Кудрово      262   92044.85\n",
       "Выборг               212   58133.20"
      ]
     },
     "execution_count": 55,
     "metadata": {},
     "output_type": "execute_result"
    }
   ],
   "source": [
    "raiting_of_location = current_days_exposition_date.pivot_table(\n",
    "    index='locality_name', values='price_per_square_meter', aggfunc=('count','median'))\n",
    "\n",
    "raiting_of_location.sort_values(by='count', ascending=False).head(10)"
   ]
  },
  {
   "cell_type": "markdown",
   "metadata": {},
   "source": [
    "Рейтинг 10 регионов с самым большом количеством объявлений и их средней стоимостью за 1 квадратный метр. В Санкт-Петербурге больше всего объявлений и самая большая стоимость 1 квадратный метр. Но это и не удивительно. Далее за ни следует Мурино и Шушары. Замыкает 10-ку Выборг. Интересно было бы узнать как сейчас на 2021 год.\n"
   ]
  },
  {
   "cell_type": "markdown",
   "metadata": {},
   "source": [
    "### Исследование параметров объектов из центра Санкт-Петербурга"
   ]
  },
  {
   "cell_type": "code",
   "execution_count": 56,
   "metadata": {},
   "outputs": [],
   "source": [
    "current_days_exposition_date['cityCenters_nearest_in_km'] = current_days_exposition_date['cityCenters_nearest'] / 1000\n",
    "current_days_exposition_date['cost_of_km'] = current_days_exposition_date['last_price'] / current_days_exposition_date['cityCenters_nearest_in_km']\n",
    "current_days_exposition_date['cost_of_km'] = current_days_exposition_date['cost_of_km'].astype('int64')"
   ]
  },
  {
   "cell_type": "markdown",
   "metadata": {},
   "source": [
    "Добавим в таблицу столбец с расстоянием до центра в км. Посчитаем стоимость 1 кв м для всех объектов."
   ]
  },
  {
   "cell_type": "code",
   "execution_count": 57,
   "metadata": {
    "scrolled": true
   },
   "outputs": [
    {
     "data": {
      "text/html": [
       "<div>\n",
       "<style scoped>\n",
       "    .dataframe tbody tr th:only-of-type {\n",
       "        vertical-align: middle;\n",
       "    }\n",
       "\n",
       "    .dataframe tbody tr th {\n",
       "        vertical-align: top;\n",
       "    }\n",
       "\n",
       "    .dataframe thead th {\n",
       "        text-align: right;\n",
       "    }\n",
       "</style>\n",
       "<table border=\"1\" class=\"dataframe\">\n",
       "  <thead>\n",
       "    <tr style=\"text-align: right;\">\n",
       "      <th></th>\n",
       "      <th>total_images</th>\n",
       "      <th>last_price</th>\n",
       "      <th>total_area</th>\n",
       "      <th>first_day_exposition</th>\n",
       "      <th>rooms</th>\n",
       "      <th>ceiling_height</th>\n",
       "      <th>floors_total</th>\n",
       "      <th>living_area</th>\n",
       "      <th>floor</th>\n",
       "      <th>is_apartment</th>\n",
       "      <th>studio</th>\n",
       "      <th>...</th>\n",
       "      <th>days_exposition</th>\n",
       "      <th>last_price_m2</th>\n",
       "      <th>price_per_square_meter</th>\n",
       "      <th>weekday</th>\n",
       "      <th>month</th>\n",
       "      <th>year</th>\n",
       "      <th>floor_position</th>\n",
       "      <th>living_area_ratio</th>\n",
       "      <th>kitchen_area_ratio</th>\n",
       "      <th>cityCenters_nearest_in_km</th>\n",
       "      <th>cost_of_km</th>\n",
       "    </tr>\n",
       "  </thead>\n",
       "  <tbody>\n",
       "    <tr>\n",
       "      <td>4</td>\n",
       "      <td>2</td>\n",
       "      <td>10000000.0</td>\n",
       "      <td>100.0</td>\n",
       "      <td>2018-06-19</td>\n",
       "      <td>2</td>\n",
       "      <td>3.03</td>\n",
       "      <td>14</td>\n",
       "      <td>32.000000</td>\n",
       "      <td>13</td>\n",
       "      <td>True</td>\n",
       "      <td>False</td>\n",
       "      <td>...</td>\n",
       "      <td>121</td>\n",
       "      <td>312500.000000</td>\n",
       "      <td>100000.0</td>\n",
       "      <td>1</td>\n",
       "      <td>6</td>\n",
       "      <td>2018</td>\n",
       "      <td>другой</td>\n",
       "      <td>0.320</td>\n",
       "      <td>0.410</td>\n",
       "      <td>8.098</td>\n",
       "      <td>1234872</td>\n",
       "    </tr>\n",
       "    <tr>\n",
       "      <td>7</td>\n",
       "      <td>5</td>\n",
       "      <td>7915000.0</td>\n",
       "      <td>71.6</td>\n",
       "      <td>2019-04-18</td>\n",
       "      <td>2</td>\n",
       "      <td>2.75</td>\n",
       "      <td>24</td>\n",
       "      <td>36.816736</td>\n",
       "      <td>22</td>\n",
       "      <td>True</td>\n",
       "      <td>False</td>\n",
       "      <td>...</td>\n",
       "      <td>95</td>\n",
       "      <td>214983.753514</td>\n",
       "      <td>110544.7</td>\n",
       "      <td>3</td>\n",
       "      <td>4</td>\n",
       "      <td>2019</td>\n",
       "      <td>другой</td>\n",
       "      <td>0.514</td>\n",
       "      <td>0.264</td>\n",
       "      <td>11.634</td>\n",
       "      <td>680333</td>\n",
       "    </tr>\n",
       "    <tr>\n",
       "      <td>9</td>\n",
       "      <td>18</td>\n",
       "      <td>5400000.0</td>\n",
       "      <td>61.0</td>\n",
       "      <td>2017-02-26</td>\n",
       "      <td>3</td>\n",
       "      <td>2.50</td>\n",
       "      <td>9</td>\n",
       "      <td>43.600000</td>\n",
       "      <td>7</td>\n",
       "      <td>True</td>\n",
       "      <td>False</td>\n",
       "      <td>...</td>\n",
       "      <td>289</td>\n",
       "      <td>123853.211009</td>\n",
       "      <td>88524.6</td>\n",
       "      <td>6</td>\n",
       "      <td>2</td>\n",
       "      <td>2017</td>\n",
       "      <td>другой</td>\n",
       "      <td>0.715</td>\n",
       "      <td>0.107</td>\n",
       "      <td>15.008</td>\n",
       "      <td>359808</td>\n",
       "    </tr>\n",
       "    <tr>\n",
       "      <td>10</td>\n",
       "      <td>5</td>\n",
       "      <td>5050000.0</td>\n",
       "      <td>39.6</td>\n",
       "      <td>2017-11-16</td>\n",
       "      <td>1</td>\n",
       "      <td>2.67</td>\n",
       "      <td>12</td>\n",
       "      <td>20.300000</td>\n",
       "      <td>3</td>\n",
       "      <td>True</td>\n",
       "      <td>False</td>\n",
       "      <td>...</td>\n",
       "      <td>137</td>\n",
       "      <td>248768.472906</td>\n",
       "      <td>127525.3</td>\n",
       "      <td>3</td>\n",
       "      <td>11</td>\n",
       "      <td>2017</td>\n",
       "      <td>другой</td>\n",
       "      <td>0.513</td>\n",
       "      <td>0.215</td>\n",
       "      <td>13.878</td>\n",
       "      <td>363885</td>\n",
       "    </tr>\n",
       "    <tr>\n",
       "      <td>15</td>\n",
       "      <td>16</td>\n",
       "      <td>4650000.0</td>\n",
       "      <td>39.0</td>\n",
       "      <td>2017-11-18</td>\n",
       "      <td>1</td>\n",
       "      <td>2.60</td>\n",
       "      <td>14</td>\n",
       "      <td>20.500000</td>\n",
       "      <td>5</td>\n",
       "      <td>True</td>\n",
       "      <td>False</td>\n",
       "      <td>...</td>\n",
       "      <td>19</td>\n",
       "      <td>226829.268293</td>\n",
       "      <td>119230.8</td>\n",
       "      <td>5</td>\n",
       "      <td>11</td>\n",
       "      <td>2017</td>\n",
       "      <td>другой</td>\n",
       "      <td>0.526</td>\n",
       "      <td>0.195</td>\n",
       "      <td>14.259</td>\n",
       "      <td>326109</td>\n",
       "    </tr>\n",
       "  </tbody>\n",
       "</table>\n",
       "<p>5 rows × 32 columns</p>\n",
       "</div>"
      ],
      "text/plain": [
       "    total_images  last_price  total_area first_day_exposition  rooms  \\\n",
       "4              2  10000000.0       100.0           2018-06-19      2   \n",
       "7              5   7915000.0        71.6           2019-04-18      2   \n",
       "9             18   5400000.0        61.0           2017-02-26      3   \n",
       "10             5   5050000.0        39.6           2017-11-16      1   \n",
       "15            16   4650000.0        39.0           2017-11-18      1   \n",
       "\n",
       "    ceiling_height  floors_total  living_area  floor  is_apartment  studio  \\\n",
       "4             3.03            14    32.000000     13          True   False   \n",
       "7             2.75            24    36.816736     22          True   False   \n",
       "9             2.50             9    43.600000      7          True   False   \n",
       "10            2.67            12    20.300000      3          True   False   \n",
       "15            2.60            14    20.500000      5          True   False   \n",
       "\n",
       "    ...  days_exposition  last_price_m2  price_per_square_meter weekday  \\\n",
       "4   ...              121  312500.000000                100000.0       1   \n",
       "7   ...               95  214983.753514                110544.7       3   \n",
       "9   ...              289  123853.211009                 88524.6       6   \n",
       "10  ...              137  248768.472906                127525.3       3   \n",
       "15  ...               19  226829.268293                119230.8       5   \n",
       "\n",
       "    month  year  floor_position  living_area_ratio  kitchen_area_ratio  \\\n",
       "4       6  2018          другой              0.320               0.410   \n",
       "7       4  2019          другой              0.514               0.264   \n",
       "9       2  2017          другой              0.715               0.107   \n",
       "10     11  2017          другой              0.513               0.215   \n",
       "15     11  2017          другой              0.526               0.195   \n",
       "\n",
       "    cityCenters_nearest_in_km  cost_of_km  \n",
       "4                       8.098     1234872  \n",
       "7                      11.634      680333  \n",
       "9                      15.008      359808  \n",
       "10                     13.878      363885  \n",
       "15                     14.259      326109  \n",
       "\n",
       "[5 rows x 32 columns]"
      ]
     },
     "execution_count": 57,
     "metadata": {},
     "output_type": "execute_result"
    }
   ],
   "source": [
    "spb_region = current_days_exposition_date.query('locality_name == \"Санкт-Петербург\"')\n",
    "spb_region.head()"
   ]
  },
  {
   "cell_type": "code",
   "execution_count": 58,
   "metadata": {},
   "outputs": [
    {
     "data": {
      "image/png": "[encoded data removed]",
      "text/plain": [
       "<Figure size 1080x360 with 1 Axes>"
      ]
     },
     "metadata": {
      "needs_background": "light"
     },
     "output_type": "display_data"
    }
   ],
   "source": [
    "(spb_region\n",
    "     .sort_values(by='cityCenters_nearest_in_km', ascending=True)\n",
    "     .plot(x='cityCenters_nearest_in_km', y='cost_of_km', style='-', figsize=(15,5))\n",
    ");"
   ]
  },
  {
   "cell_type": "markdown",
   "metadata": {},
   "source": [
    "График зависимости цены 1 кв м от расстояния в регионе. Видно, что после 5 км от центра цена почти не меняется и идет плотной линией."
   ]
  },
  {
   "cell_type": "code",
   "execution_count": 59,
   "metadata": {},
   "outputs": [
    {
     "data": {
      "text/plain": [
       "1004"
      ]
     },
     "execution_count": 59,
     "metadata": {},
     "output_type": "execute_result"
    }
   ],
   "source": [
    "spb_region = spb_region.query('cityCenters_nearest_in_km < 5')\n",
    "len(spb_region)"
   ]
  },
  {
   "cell_type": "markdown",
   "metadata": {},
   "source": [
    "1004 объявлений квартир находящихся в центре"
   ]
  },
  {
   "cell_type": "code",
   "execution_count": 60,
   "metadata": {
    "scrolled": true
   },
   "outputs": [
    {
     "data": {
      "text/html": [
       "<div>\n",
       "<style scoped>\n",
       "    .dataframe tbody tr th:only-of-type {\n",
       "        vertical-align: middle;\n",
       "    }\n",
       "\n",
       "    .dataframe tbody tr th {\n",
       "        vertical-align: top;\n",
       "    }\n",
       "\n",
       "    .dataframe thead th {\n",
       "        text-align: right;\n",
       "    }\n",
       "</style>\n",
       "<table border=\"1\" class=\"dataframe\">\n",
       "  <thead>\n",
       "    <tr style=\"text-align: right;\">\n",
       "      <th></th>\n",
       "      <th>total_images</th>\n",
       "      <th>last_price</th>\n",
       "      <th>total_area</th>\n",
       "      <th>first_day_exposition</th>\n",
       "      <th>rooms</th>\n",
       "      <th>ceiling_height</th>\n",
       "      <th>floors_total</th>\n",
       "      <th>living_area</th>\n",
       "      <th>floor</th>\n",
       "      <th>is_apartment</th>\n",
       "      <th>studio</th>\n",
       "      <th>...</th>\n",
       "      <th>days_exposition</th>\n",
       "      <th>last_price_m2</th>\n",
       "      <th>price_per_square_meter</th>\n",
       "      <th>weekday</th>\n",
       "      <th>month</th>\n",
       "      <th>year</th>\n",
       "      <th>floor_position</th>\n",
       "      <th>living_area_ratio</th>\n",
       "      <th>kitchen_area_ratio</th>\n",
       "      <th>cityCenters_nearest_in_km</th>\n",
       "      <th>cost_of_km</th>\n",
       "    </tr>\n",
       "  </thead>\n",
       "  <tbody>\n",
       "    <tr>\n",
       "      <td>8614</td>\n",
       "      <td>7</td>\n",
       "      <td>10990000.0</td>\n",
       "      <td>100.0</td>\n",
       "      <td>2015-12-16</td>\n",
       "      <td>3</td>\n",
       "      <td>3.90</td>\n",
       "      <td>5</td>\n",
       "      <td>37.800000</td>\n",
       "      <td>3</td>\n",
       "      <td>True</td>\n",
       "      <td>False</td>\n",
       "      <td>...</td>\n",
       "      <td>265</td>\n",
       "      <td>290740.740741</td>\n",
       "      <td>109900.0</td>\n",
       "      <td>2</td>\n",
       "      <td>12</td>\n",
       "      <td>2015</td>\n",
       "      <td>другой</td>\n",
       "      <td>0.378</td>\n",
       "      <td>0.116</td>\n",
       "      <td>0.215</td>\n",
       "      <td>51116279</td>\n",
       "    </tr>\n",
       "    <tr>\n",
       "      <td>1934</td>\n",
       "      <td>18</td>\n",
       "      <td>9590000.0</td>\n",
       "      <td>108.0</td>\n",
       "      <td>2017-05-23</td>\n",
       "      <td>2</td>\n",
       "      <td>3.30</td>\n",
       "      <td>5</td>\n",
       "      <td>59.000000</td>\n",
       "      <td>2</td>\n",
       "      <td>False</td>\n",
       "      <td>False</td>\n",
       "      <td>...</td>\n",
       "      <td>69</td>\n",
       "      <td>162542.372881</td>\n",
       "      <td>88796.3</td>\n",
       "      <td>1</td>\n",
       "      <td>5</td>\n",
       "      <td>2017</td>\n",
       "      <td>другой</td>\n",
       "      <td>0.546</td>\n",
       "      <td>0.102</td>\n",
       "      <td>0.287</td>\n",
       "      <td>33414634</td>\n",
       "    </tr>\n",
       "    <tr>\n",
       "      <td>1182</td>\n",
       "      <td>1</td>\n",
       "      <td>5800000.0</td>\n",
       "      <td>33.6</td>\n",
       "      <td>2016-03-10</td>\n",
       "      <td>1</td>\n",
       "      <td>3.70</td>\n",
       "      <td>7</td>\n",
       "      <td>22.800000</td>\n",
       "      <td>4</td>\n",
       "      <td>False</td>\n",
       "      <td>False</td>\n",
       "      <td>...</td>\n",
       "      <td>167</td>\n",
       "      <td>254385.964912</td>\n",
       "      <td>172619.0</td>\n",
       "      <td>3</td>\n",
       "      <td>3</td>\n",
       "      <td>2016</td>\n",
       "      <td>другой</td>\n",
       "      <td>0.679</td>\n",
       "      <td>0.196</td>\n",
       "      <td>0.208</td>\n",
       "      <td>27884615</td>\n",
       "    </tr>\n",
       "    <tr>\n",
       "      <td>22036</td>\n",
       "      <td>3</td>\n",
       "      <td>7200000.0</td>\n",
       "      <td>72.0</td>\n",
       "      <td>2017-12-21</td>\n",
       "      <td>2</td>\n",
       "      <td>3.07</td>\n",
       "      <td>3</td>\n",
       "      <td>44.900000</td>\n",
       "      <td>2</td>\n",
       "      <td>True</td>\n",
       "      <td>False</td>\n",
       "      <td>...</td>\n",
       "      <td>89</td>\n",
       "      <td>160356.347439</td>\n",
       "      <td>100000.0</td>\n",
       "      <td>3</td>\n",
       "      <td>12</td>\n",
       "      <td>2017</td>\n",
       "      <td>другой</td>\n",
       "      <td>0.624</td>\n",
       "      <td>0.171</td>\n",
       "      <td>0.329</td>\n",
       "      <td>21884498</td>\n",
       "    </tr>\n",
       "    <tr>\n",
       "      <td>9488</td>\n",
       "      <td>3</td>\n",
       "      <td>8000000.0</td>\n",
       "      <td>106.0</td>\n",
       "      <td>2018-07-26</td>\n",
       "      <td>3</td>\n",
       "      <td>3.40</td>\n",
       "      <td>4</td>\n",
       "      <td>37.212114</td>\n",
       "      <td>1</td>\n",
       "      <td>True</td>\n",
       "      <td>False</td>\n",
       "      <td>...</td>\n",
       "      <td>60</td>\n",
       "      <td>214983.753514</td>\n",
       "      <td>75471.7</td>\n",
       "      <td>3</td>\n",
       "      <td>7</td>\n",
       "      <td>2018</td>\n",
       "      <td>первый</td>\n",
       "      <td>0.351</td>\n",
       "      <td>0.085</td>\n",
       "      <td>0.410</td>\n",
       "      <td>19512195</td>\n",
       "    </tr>\n",
       "    <tr>\n",
       "      <td>5747</td>\n",
       "      <td>3</td>\n",
       "      <td>9500000.0</td>\n",
       "      <td>81.0</td>\n",
       "      <td>2016-05-17</td>\n",
       "      <td>2</td>\n",
       "      <td>3.00</td>\n",
       "      <td>4</td>\n",
       "      <td>41.000000</td>\n",
       "      <td>2</td>\n",
       "      <td>True</td>\n",
       "      <td>False</td>\n",
       "      <td>...</td>\n",
       "      <td>159</td>\n",
       "      <td>231707.317073</td>\n",
       "      <td>117284.0</td>\n",
       "      <td>1</td>\n",
       "      <td>5</td>\n",
       "      <td>2016</td>\n",
       "      <td>другой</td>\n",
       "      <td>0.506</td>\n",
       "      <td>0.198</td>\n",
       "      <td>0.515</td>\n",
       "      <td>18446601</td>\n",
       "    </tr>\n",
       "    <tr>\n",
       "      <td>2609</td>\n",
       "      <td>20</td>\n",
       "      <td>7200000.0</td>\n",
       "      <td>80.0</td>\n",
       "      <td>2017-08-24</td>\n",
       "      <td>3</td>\n",
       "      <td>2.80</td>\n",
       "      <td>4</td>\n",
       "      <td>43.000000</td>\n",
       "      <td>1</td>\n",
       "      <td>True</td>\n",
       "      <td>False</td>\n",
       "      <td>...</td>\n",
       "      <td>11</td>\n",
       "      <td>167441.860465</td>\n",
       "      <td>90000.0</td>\n",
       "      <td>3</td>\n",
       "      <td>8</td>\n",
       "      <td>2017</td>\n",
       "      <td>первый</td>\n",
       "      <td>0.538</td>\n",
       "      <td>0.100</td>\n",
       "      <td>0.399</td>\n",
       "      <td>18045112</td>\n",
       "    </tr>\n",
       "    <tr>\n",
       "      <td>8416</td>\n",
       "      <td>18</td>\n",
       "      <td>9555000.0</td>\n",
       "      <td>65.0</td>\n",
       "      <td>2018-12-10</td>\n",
       "      <td>3</td>\n",
       "      <td>3.30</td>\n",
       "      <td>4</td>\n",
       "      <td>43.900000</td>\n",
       "      <td>2</td>\n",
       "      <td>True</td>\n",
       "      <td>False</td>\n",
       "      <td>...</td>\n",
       "      <td>95</td>\n",
       "      <td>217653.758542</td>\n",
       "      <td>147000.0</td>\n",
       "      <td>0</td>\n",
       "      <td>12</td>\n",
       "      <td>2018</td>\n",
       "      <td>другой</td>\n",
       "      <td>0.675</td>\n",
       "      <td>0.092</td>\n",
       "      <td>0.552</td>\n",
       "      <td>17309782</td>\n",
       "    </tr>\n",
       "    <tr>\n",
       "      <td>12252</td>\n",
       "      <td>8</td>\n",
       "      <td>10900000.0</td>\n",
       "      <td>109.7</td>\n",
       "      <td>2016-03-24</td>\n",
       "      <td>4</td>\n",
       "      <td>3.17</td>\n",
       "      <td>6</td>\n",
       "      <td>71.900000</td>\n",
       "      <td>3</td>\n",
       "      <td>False</td>\n",
       "      <td>False</td>\n",
       "      <td>...</td>\n",
       "      <td>320</td>\n",
       "      <td>151599.443672</td>\n",
       "      <td>99361.9</td>\n",
       "      <td>3</td>\n",
       "      <td>3</td>\n",
       "      <td>2016</td>\n",
       "      <td>другой</td>\n",
       "      <td>0.655</td>\n",
       "      <td>0.114</td>\n",
       "      <td>0.730</td>\n",
       "      <td>14931506</td>\n",
       "    </tr>\n",
       "    <tr>\n",
       "      <td>3800</td>\n",
       "      <td>12</td>\n",
       "      <td>6900000.0</td>\n",
       "      <td>47.6</td>\n",
       "      <td>2015-07-22</td>\n",
       "      <td>2</td>\n",
       "      <td>2.55</td>\n",
       "      <td>5</td>\n",
       "      <td>28.200000</td>\n",
       "      <td>5</td>\n",
       "      <td>True</td>\n",
       "      <td>False</td>\n",
       "      <td>...</td>\n",
       "      <td>398</td>\n",
       "      <td>244680.851064</td>\n",
       "      <td>144958.0</td>\n",
       "      <td>2</td>\n",
       "      <td>7</td>\n",
       "      <td>2015</td>\n",
       "      <td>последний</td>\n",
       "      <td>0.592</td>\n",
       "      <td>0.172</td>\n",
       "      <td>0.472</td>\n",
       "      <td>14618644</td>\n",
       "    </tr>\n",
       "  </tbody>\n",
       "</table>\n",
       "<p>10 rows × 32 columns</p>\n",
       "</div>"
      ],
      "text/plain": [
       "       total_images  last_price  total_area first_day_exposition  rooms  \\\n",
       "8614              7  10990000.0       100.0           2015-12-16      3   \n",
       "1934             18   9590000.0       108.0           2017-05-23      2   \n",
       "1182              1   5800000.0        33.6           2016-03-10      1   \n",
       "22036             3   7200000.0        72.0           2017-12-21      2   \n",
       "9488              3   8000000.0       106.0           2018-07-26      3   \n",
       "5747              3   9500000.0        81.0           2016-05-17      2   \n",
       "2609             20   7200000.0        80.0           2017-08-24      3   \n",
       "8416             18   9555000.0        65.0           2018-12-10      3   \n",
       "12252             8  10900000.0       109.7           2016-03-24      4   \n",
       "3800             12   6900000.0        47.6           2015-07-22      2   \n",
       "\n",
       "       ceiling_height  floors_total  living_area  floor  is_apartment  studio  \\\n",
       "8614             3.90             5    37.800000      3          True   False   \n",
       "1934             3.30             5    59.000000      2         False   False   \n",
       "1182             3.70             7    22.800000      4         False   False   \n",
       "22036            3.07             3    44.900000      2          True   False   \n",
       "9488             3.40             4    37.212114      1          True   False   \n",
       "5747             3.00             4    41.000000      2          True   False   \n",
       "2609             2.80             4    43.000000      1          True   False   \n",
       "8416             3.30             4    43.900000      2          True   False   \n",
       "12252            3.17             6    71.900000      3         False   False   \n",
       "3800             2.55             5    28.200000      5          True   False   \n",
       "\n",
       "       ...  days_exposition  last_price_m2  price_per_square_meter weekday  \\\n",
       "8614   ...              265  290740.740741                109900.0       2   \n",
       "1934   ...               69  162542.372881                 88796.3       1   \n",
       "1182   ...              167  254385.964912                172619.0       3   \n",
       "22036  ...               89  160356.347439                100000.0       3   \n",
       "9488   ...               60  214983.753514                 75471.7       3   \n",
       "5747   ...              159  231707.317073                117284.0       1   \n",
       "2609   ...               11  167441.860465                 90000.0       3   \n",
       "8416   ...               95  217653.758542                147000.0       0   \n",
       "12252  ...              320  151599.443672                 99361.9       3   \n",
       "3800   ...              398  244680.851064                144958.0       2   \n",
       "\n",
       "       month  year  floor_position  living_area_ratio  kitchen_area_ratio  \\\n",
       "8614      12  2015          другой              0.378               0.116   \n",
       "1934       5  2017          другой              0.546               0.102   \n",
       "1182       3  2016          другой              0.679               0.196   \n",
       "22036     12  2017          другой              0.624               0.171   \n",
       "9488       7  2018          первый              0.351               0.085   \n",
       "5747       5  2016          другой              0.506               0.198   \n",
       "2609       8  2017          первый              0.538               0.100   \n",
       "8416      12  2018          другой              0.675               0.092   \n",
       "12252      3  2016          другой              0.655               0.114   \n",
       "3800       7  2015       последний              0.592               0.172   \n",
       "\n",
       "       cityCenters_nearest_in_km  cost_of_km  \n",
       "8614                       0.215    51116279  \n",
       "1934                       0.287    33414634  \n",
       "1182                       0.208    27884615  \n",
       "22036                      0.329    21884498  \n",
       "9488                       0.410    19512195  \n",
       "5747                       0.515    18446601  \n",
       "2609                       0.399    18045112  \n",
       "8416                       0.552    17309782  \n",
       "12252                      0.730    14931506  \n",
       "3800                       0.472    14618644  \n",
       "\n",
       "[10 rows x 32 columns]"
      ]
     },
     "execution_count": 60,
     "metadata": {},
     "output_type": "execute_result"
    }
   ],
   "source": [
    "spb_region.sort_values(by='cost_of_km', ascending=False).head(10)"
   ]
  },
  {
   "cell_type": "markdown",
   "metadata": {},
   "source": [
    "Cамые высокие стоимости за квадратный метр квартиры в регионе"
   ]
  },
  {
   "cell_type": "code",
   "execution_count": 61,
   "metadata": {},
   "outputs": [
    {
     "data": {
      "text/html": [
       "<div>\n",
       "<style scoped>\n",
       "    .dataframe tbody tr th:only-of-type {\n",
       "        vertical-align: middle;\n",
       "    }\n",
       "\n",
       "    .dataframe tbody tr th {\n",
       "        vertical-align: top;\n",
       "    }\n",
       "\n",
       "    .dataframe thead th {\n",
       "        text-align: right;\n",
       "    }\n",
       "</style>\n",
       "<table border=\"1\" class=\"dataframe\">\n",
       "  <thead>\n",
       "    <tr style=\"text-align: right;\">\n",
       "      <th></th>\n",
       "      <th>total_images</th>\n",
       "      <th>last_price</th>\n",
       "      <th>total_area</th>\n",
       "      <th>first_day_exposition</th>\n",
       "      <th>rooms</th>\n",
       "      <th>ceiling_height</th>\n",
       "      <th>floors_total</th>\n",
       "      <th>living_area</th>\n",
       "      <th>floor</th>\n",
       "      <th>is_apartment</th>\n",
       "      <th>studio</th>\n",
       "      <th>...</th>\n",
       "      <th>days_exposition</th>\n",
       "      <th>last_price_m2</th>\n",
       "      <th>price_per_square_meter</th>\n",
       "      <th>weekday</th>\n",
       "      <th>month</th>\n",
       "      <th>year</th>\n",
       "      <th>floor_position</th>\n",
       "      <th>living_area_ratio</th>\n",
       "      <th>kitchen_area_ratio</th>\n",
       "      <th>cityCenters_nearest_in_km</th>\n",
       "      <th>cost_of_km</th>\n",
       "    </tr>\n",
       "  </thead>\n",
       "  <tbody>\n",
       "    <tr>\n",
       "      <td>24</td>\n",
       "      <td>8</td>\n",
       "      <td>6500000.0</td>\n",
       "      <td>97.2</td>\n",
       "      <td>2015-10-31</td>\n",
       "      <td>2</td>\n",
       "      <td>2.80</td>\n",
       "      <td>3</td>\n",
       "      <td>46.5</td>\n",
       "      <td>1</td>\n",
       "      <td>True</td>\n",
       "      <td>False</td>\n",
       "      <td>...</td>\n",
       "      <td>265</td>\n",
       "      <td>139784.946237</td>\n",
       "      <td>66872.4</td>\n",
       "      <td>5</td>\n",
       "      <td>10</td>\n",
       "      <td>2015</td>\n",
       "      <td>первый</td>\n",
       "      <td>0.478</td>\n",
       "      <td>0.202</td>\n",
       "      <td>2.336</td>\n",
       "      <td>2782534</td>\n",
       "    </tr>\n",
       "    <tr>\n",
       "      <td>99</td>\n",
       "      <td>32</td>\n",
       "      <td>9600000.0</td>\n",
       "      <td>90.0</td>\n",
       "      <td>2017-09-26</td>\n",
       "      <td>4</td>\n",
       "      <td>2.55</td>\n",
       "      <td>5</td>\n",
       "      <td>67.0</td>\n",
       "      <td>2</td>\n",
       "      <td>True</td>\n",
       "      <td>False</td>\n",
       "      <td>...</td>\n",
       "      <td>104</td>\n",
       "      <td>143283.582090</td>\n",
       "      <td>106666.7</td>\n",
       "      <td>1</td>\n",
       "      <td>9</td>\n",
       "      <td>2017</td>\n",
       "      <td>другой</td>\n",
       "      <td>0.744</td>\n",
       "      <td>0.089</td>\n",
       "      <td>2.818</td>\n",
       "      <td>3406671</td>\n",
       "    </tr>\n",
       "    <tr>\n",
       "      <td>136</td>\n",
       "      <td>16</td>\n",
       "      <td>6500000.0</td>\n",
       "      <td>51.8</td>\n",
       "      <td>2018-08-01</td>\n",
       "      <td>2</td>\n",
       "      <td>3.45</td>\n",
       "      <td>6</td>\n",
       "      <td>25.6</td>\n",
       "      <td>2</td>\n",
       "      <td>True</td>\n",
       "      <td>False</td>\n",
       "      <td>...</td>\n",
       "      <td>163</td>\n",
       "      <td>253906.250000</td>\n",
       "      <td>125482.6</td>\n",
       "      <td>2</td>\n",
       "      <td>8</td>\n",
       "      <td>2018</td>\n",
       "      <td>другой</td>\n",
       "      <td>0.494</td>\n",
       "      <td>0.141</td>\n",
       "      <td>3.618</td>\n",
       "      <td>1796572</td>\n",
       "    </tr>\n",
       "    <tr>\n",
       "      <td>138</td>\n",
       "      <td>8</td>\n",
       "      <td>4800000.0</td>\n",
       "      <td>40.0</td>\n",
       "      <td>2017-11-18</td>\n",
       "      <td>2</td>\n",
       "      <td>2.80</td>\n",
       "      <td>3</td>\n",
       "      <td>29.0</td>\n",
       "      <td>2</td>\n",
       "      <td>True</td>\n",
       "      <td>False</td>\n",
       "      <td>...</td>\n",
       "      <td>80</td>\n",
       "      <td>165517.241379</td>\n",
       "      <td>120000.0</td>\n",
       "      <td>5</td>\n",
       "      <td>11</td>\n",
       "      <td>2017</td>\n",
       "      <td>другой</td>\n",
       "      <td>0.725</td>\n",
       "      <td>0.150</td>\n",
       "      <td>2.913</td>\n",
       "      <td>1647785</td>\n",
       "    </tr>\n",
       "    <tr>\n",
       "      <td>154</td>\n",
       "      <td>1</td>\n",
       "      <td>8200000.0</td>\n",
       "      <td>80.0</td>\n",
       "      <td>2018-11-06</td>\n",
       "      <td>3</td>\n",
       "      <td>4.15</td>\n",
       "      <td>3</td>\n",
       "      <td>44.2</td>\n",
       "      <td>2</td>\n",
       "      <td>True</td>\n",
       "      <td>False</td>\n",
       "      <td>...</td>\n",
       "      <td>38</td>\n",
       "      <td>185520.361991</td>\n",
       "      <td>102500.0</td>\n",
       "      <td>1</td>\n",
       "      <td>11</td>\n",
       "      <td>2018</td>\n",
       "      <td>другой</td>\n",
       "      <td>0.552</td>\n",
       "      <td>0.152</td>\n",
       "      <td>3.167</td>\n",
       "      <td>2589201</td>\n",
       "    </tr>\n",
       "  </tbody>\n",
       "</table>\n",
       "<p>5 rows × 32 columns</p>\n",
       "</div>"
      ],
      "text/plain": [
       "     total_images  last_price  total_area first_day_exposition  rooms  \\\n",
       "24              8   6500000.0        97.2           2015-10-31      2   \n",
       "99             32   9600000.0        90.0           2017-09-26      4   \n",
       "136            16   6500000.0        51.8           2018-08-01      2   \n",
       "138             8   4800000.0        40.0           2017-11-18      2   \n",
       "154             1   8200000.0        80.0           2018-11-06      3   \n",
       "\n",
       "     ceiling_height  floors_total  living_area  floor  is_apartment  studio  \\\n",
       "24             2.80             3         46.5      1          True   False   \n",
       "99             2.55             5         67.0      2          True   False   \n",
       "136            3.45             6         25.6      2          True   False   \n",
       "138            2.80             3         29.0      2          True   False   \n",
       "154            4.15             3         44.2      2          True   False   \n",
       "\n",
       "     ...  days_exposition  last_price_m2  price_per_square_meter weekday  \\\n",
       "24   ...              265  139784.946237                 66872.4       5   \n",
       "99   ...              104  143283.582090                106666.7       1   \n",
       "136  ...              163  253906.250000                125482.6       2   \n",
       "138  ...               80  165517.241379                120000.0       5   \n",
       "154  ...               38  185520.361991                102500.0       1   \n",
       "\n",
       "     month  year  floor_position  living_area_ratio  kitchen_area_ratio  \\\n",
       "24      10  2015          первый              0.478               0.202   \n",
       "99       9  2017          другой              0.744               0.089   \n",
       "136      8  2018          другой              0.494               0.141   \n",
       "138     11  2017          другой              0.725               0.150   \n",
       "154     11  2018          другой              0.552               0.152   \n",
       "\n",
       "     cityCenters_nearest_in_km  cost_of_km  \n",
       "24                       2.336     2782534  \n",
       "99                       2.818     3406671  \n",
       "136                      3.618     1796572  \n",
       "138                      2.913     1647785  \n",
       "154                      3.167     2589201  \n",
       "\n",
       "[5 rows x 32 columns]"
      ]
     },
     "execution_count": 61,
     "metadata": {},
     "output_type": "execute_result"
    }
   ],
   "source": [
    "top = current_days_exposition_date.query('cityCenters_nearest_in_km < 5 and locality_name == \"Санкт-Петербург\"')\n",
    "top.head()"
   ]
  },
  {
   "cell_type": "markdown",
   "metadata": {},
   "source": [
    "Рассмотрим квартиры в центре"
   ]
  },
  {
   "cell_type": "code",
   "execution_count": 62,
   "metadata": {},
   "outputs": [
    {
     "data": {
      "image/png": "[encoded data removed]",
      "text/plain": [
       "<Figure size 432x288 with 1 Axes>"
      ]
     },
     "metadata": {
      "needs_background": "light"
     },
     "output_type": "display_data"
    }
   ],
   "source": [
    "top['last_price'].hist(bins=30)\n",
    "plt.xlabel('Цена');"
   ]
  },
  {
   "cell_type": "markdown",
   "metadata": {},
   "source": [
    "На графике видно, что больше всего квартир за 7 млн руб "
   ]
  },
  {
   "cell_type": "code",
   "execution_count": 63,
   "metadata": {},
   "outputs": [
    {
     "data": {
      "image/png": "[encoded data removed]",
      "text/plain": [
       "<Figure size 432x288 with 1 Axes>"
      ]
     },
     "metadata": {
      "needs_background": "light"
     },
     "output_type": "display_data"
    }
   ],
   "source": [
    "top['total_area'].hist(bins=30)\n",
    "plt.xlabel('Площадь');"
   ]
  },
  {
   "cell_type": "markdown",
   "metadata": {},
   "source": [
    "В основном площадь квартир от 60 до 70 кв метров"
   ]
  },
  {
   "cell_type": "code",
   "execution_count": 64,
   "metadata": {},
   "outputs": [
    {
     "data": {
      "image/png": "[encoded data removed]",
      "text/plain": [
       "<Figure size 432x288 with 1 Axes>"
      ]
     },
     "metadata": {
      "needs_background": "light"
     },
     "output_type": "display_data"
    }
   ],
   "source": [
    "top['rooms'].hist(bins=10)\n",
    "plt.xlabel('Количество комнат');"
   ]
  },
  {
   "cell_type": "markdown",
   "metadata": {},
   "source": [
    "Больше всего двухкомнатных квартир"
   ]
  },
  {
   "cell_type": "code",
   "execution_count": 65,
   "metadata": {},
   "outputs": [
    {
     "data": {
      "image/png": "[encoded data removed]",
      "text/plain": [
       "<Figure size 432x288 with 1 Axes>"
      ]
     },
     "metadata": {
      "needs_background": "light"
     },
     "output_type": "display_data"
    }
   ],
   "source": [
    "top['ceiling_height'].hist(bins=30, range=(2,5))\n",
    "plt.xlabel('Высота потолков');"
   ]
  },
  {
   "cell_type": "markdown",
   "metadata": {},
   "source": [
    "Большая часть квартир с потолками высотой 3 метра. Очень похоже на центр Санкт-Петербурга"
   ]
  },
  {
   "cell_type": "code",
   "execution_count": 66,
   "metadata": {},
   "outputs": [
    {
     "data": {
      "image/png": "[encoded data removed]",
      "text/plain": [
       "<Figure size 1080x576 with 1 Axes>"
      ]
     },
     "metadata": {
      "needs_background": "light"
     },
     "output_type": "display_data"
    }
   ],
   "source": [
    "(top\n",
    "     .sort_values(by='last_price',ascending=True)\n",
    "     .groupby('rooms')['last_price'].median()\n",
    "     .plot(x='rooms', y='last_price', style='o-', grid=True, figsize=(15,8), legend=True)\n",
    ")\n",
    "\n",
    "(current_days_exposition_date\n",
    "     .groupby('rooms')['last_price'].median()\n",
    "     .plot(x='rooms', y='last_price', style='o-', grid=True, figsize=(15,8), legend=True)\n",
    ")\n",
    "plt.show()"
   ]
  },
  {
   "cell_type": "markdown",
   "metadata": {},
   "source": [
    "На графике видно, что с увеличением комнат увеличивается стоимость. График квартир в центре сдвинут вверх отностительно всех квартир, тк в центре квартиры дороже. Самые дорогие 5 комнатные квартиры"
   ]
  },
  {
   "cell_type": "code",
   "execution_count": 67,
   "metadata": {},
   "outputs": [
    {
     "data": {
      "image/png": "[encoded data removed]",
      "text/plain": [
       "<Figure size 432x288 with 1 Axes>"
      ]
     },
     "metadata": {
      "needs_background": "light"
     },
     "output_type": "display_data"
    }
   ],
   "source": [
    "(top\n",
    "    .groupby('floor_position')['last_price'].median()\n",
    "    .plot(x='floor_position', y='last_price', style='o-', legend=True)\n",
    ")\n",
    "\n",
    "(current_days_exposition_date\n",
    "    .groupby('floor_position')['last_price'].median()\n",
    "    .plot(x='floor_position', y='last_price', style='o-', legend=True)\n",
    ")\n",
    "plt.show()"
   ]
  },
  {
   "cell_type": "markdown",
   "metadata": {},
   "source": [
    "Квартиры на первом этаже и на последенем берут реже чем на других этажах"
   ]
  },
  {
   "cell_type": "code",
   "execution_count": 68,
   "metadata": {},
   "outputs": [
    {
     "data": {
      "image/png": "[encoded data removed]",
      "text/plain": [
       "<Figure size 432x288 with 1 Axes>"
      ]
     },
     "metadata": {
      "needs_background": "light"
     },
     "output_type": "display_data"
    },
    {
     "data": {
      "image/png": "[encoded data removed]",
      "text/plain": [
       "<Figure size 432x288 with 1 Axes>"
      ]
     },
     "metadata": {
      "needs_background": "light"
     },
     "output_type": "display_data"
    }
   ],
   "source": [
    "(top\n",
    "     .sort_values(by='cityCenters_nearest',ascending=True)\n",
    "     .plot(x='cityCenters_nearest', y='last_price', style='o', alpha=0.3)\n",
    ")\n",
    "\n",
    "(current_days_exposition_date\n",
    "     .sort_values(by='cityCenters_nearest',ascending=True)\n",
    "     .plot(x='cityCenters_nearest', y='last_price', style='o', alpha=0.3)\n",
    ")\n",
    "plt.show()"
   ]
  },
  {
   "cell_type": "markdown",
   "metadata": {},
   "source": [
    "По верхней гистограмме видно, что больше всего квартир на расстоянии 4-5км и стоят они от 6-8 млн. руб"
   ]
  },
  {
   "cell_type": "code",
   "execution_count": 69,
   "metadata": {},
   "outputs": [
    {
     "data": {
      "image/png": "[encoded data removed]",
      "text/plain": [
       "<Figure size 432x288 with 1 Axes>"
      ]
     },
     "metadata": {
      "needs_background": "light"
     },
     "output_type": "display_data"
    }
   ],
   "source": [
    "(top\n",
    "     .groupby('weekday')['last_price'].count()\n",
    "     .plot(x='weekday', y='last_price', style='o', legend=True)\n",
    ")\n",
    "\n",
    "(current_days_exposition_date\n",
    "     .groupby('weekday')['last_price'].count()\n",
    "     .plot(x='weekday', y='last_price', style='o', legend=True)\n",
    ")\n",
    "plt.show()"
   ]
  },
  {
   "cell_type": "markdown",
   "metadata": {},
   "source": [
    "В течении недели квартиры продаются примерно одинаково. В субботу и в воскресенье сильно меньше."
   ]
  },
  {
   "cell_type": "code",
   "execution_count": 70,
   "metadata": {},
   "outputs": [
    {
     "data": {
      "image/png": "[encoded data removed]",
      "text/plain": [
       "<Figure size 432x288 with 1 Axes>"
      ]
     },
     "metadata": {
      "needs_background": "light"
     },
     "output_type": "display_data"
    }
   ],
   "source": [
    "(top\n",
    "     .groupby('month')['last_price'].count()\n",
    "     .plot(x='month', y='last_price', style='-', legend=True)\n",
    ")\n",
    "\n",
    "(current_days_exposition_date\n",
    "     .groupby('month')['last_price'].count()\n",
    "     .plot(x='month', y='last_price', style='-', legend=True)\n",
    ")\n",
    "plt.show()"
   ]
  },
  {
   "cell_type": "markdown",
   "metadata": {},
   "source": [
    "В течении года квартиры в центре продаются примерно одинаково."
   ]
  },
  {
   "cell_type": "code",
   "execution_count": 71,
   "metadata": {},
   "outputs": [
    {
     "data": {
      "image/png": "[encoded data removed]",
      "text/plain": [
       "<Figure size 432x288 with 1 Axes>"
      ]
     },
     "metadata": {
      "needs_background": "light"
     },
     "output_type": "display_data"
    }
   ],
   "source": [
    "(top\n",
    "     .groupby('year')['last_price'].count()\n",
    "     .plot(x='year', y='last_price', style='-', legend=True)\n",
    ")\n",
    "\n",
    "(current_days_exposition_date\n",
    "     .groupby('year')['last_price'].count()\n",
    "     .plot(x='year', y='last_price', style='-', legend=True)\n",
    ")\n",
    "plt.show()"
   ]
  },
  {
   "cell_type": "markdown",
   "metadata": {},
   "source": [
    "По графику можно сказать, что в 2018 году был подъем продаж. В целом квартиры c центре не сделали основные продажи в тот год."
   ]
  },
  {
   "cell_type": "markdown",
   "metadata": {},
   "source": [
    "### Вывод"
   ]
  },
  {
   "cell_type": "markdown",
   "metadata": {},
   "source": [
    "Зависимость стоимости квартиры от числа комнат в центре Санкт-Петербурга сильнее: здесь больше платежеспособного спроса на 5-комнатные квартиры, что приводит к прямо пропорциональной зависимости цены от числа комнат. Другими словами, 5-комнатные квартиры в центре Санкт-Петербурга, как правило, будут продаваться дороже, чем 4-комнатные.\n",
    "Кроме того, в центре города наблюдается явно выраженная зависимость от этажа квартиры: квартира на последнем этаже в среднем будет стоить дороже, чем на первом. Это не наблюдается в явном виде в окрестностях центра.\n",
    "Чем дальше от центра города, тем в среднем квартира будет стоить дешевле: в среднем разница в стоимости между первым и восьмым километром от центра может достигать 2 млн руб.\n",
    "Странным образом квартиры, объявления о продаже которых публиковались по воскресеньям, продавались в среднем по более высокой цене. То же верно и для объявлений, опубликованных в начале весны и начале осени (в марте и сентябре соответственно) в период 2015-2019 гг.: в среднем такие квартиры продавались дороже.\n",
    "\n",
    "Как правило, продажа недвижимости занимала 3 месяца (95 дней). При этом четверть всех объектов недвижимости была продана в течение 45 дней с момента публикации. Если объект был продан в течение месяца, то необходимо проверить данную сделку на предмет мошенничества. Такая проверка особенна критична, если срок сделки не превышает двух недель. Кроме того, если объект был продан только после 420 дней с момента публикации, это говорит об аномально долгой продаже.\n",
    "Тривиально, наиболее сильная корреляция наблюдается между площадью квартиры и ее стоимостью (коэфф. корреляции 0,68).\n",
    "Стоимость квартиры также напрямую зависит от числа комнат: чем их больше, тем квартира дороже. Но это верно, пока число комнат не превышает четырех: 5- или 6-комнатные квартиры могут быть проданы дешевле 4-комнатных, и вызвано это скорее всего отсутствием спроса.\n",
    "Квартиры на первом или последнем этаже обычно продаются по более низкой цене, чем квартиры на других этажах.\n",
    "День недели и месяц публикации объявления не играют значимой роли на стоимость, по которой объект недвижимости будет продан.\n",
    "Из представленных 10 населенных пунктов с наибольшим числом объявлений лидеры по средней цене квадратного метра: Санкт-Петербург, посёлок Мурино, посёлок Шушары. Однако в среднем дешевле всего квадратные метры в Выборге."
   ]
  },
  {
   "cell_type": "markdown",
   "metadata": {},
   "source": [
    "## Общий вывод"
   ]
  },
  {
   "cell_type": "markdown",
   "metadata": {},
   "source": [
    "Если обобщить все данные, то можно сделать вывод, что больше всего квартир продается в будние дни,1-3 комнатные квартиры, на любом, кроме первого и последнего этажа, с высотой потолка 2,6 м за цену около 3-4 млн. руб. Увидели, что цена кв. зависет от этажа, района, от высоты потолка и от кол-ва комнат. Корреляция этих параметров в центре похоже и для всех квартир.\n",
    "\n",
    "Для определения рыночной стоимости объектов недвижимости важны следующие параметры:\n",
    "- общая площадь квартиры\n",
    "- расстояние до центра города\n",
    "- число комнат и этаж квартиры (чем ближе к центру, тем эти факторы весомее)\n",
    "- срок продажи квартиры (слишком быстрая продажа — до 1 месяца (особенно аномальные сроки меньше 2-х недель), слишком долгая - - продажа — более 420 дней).\n",
    "- кроме того, необходимо ввести ограничения на ввод данных о высоте потолков: допущено множество ручных ошибок (27 м вместо 2,7 м, потолки менее 2 м и т.д.)."
   ]
  }
 ],
 "metadata": {
  "ExecuteTimeLog": [
   {
    "duration": 788,
    "start_time": "2021-09-02T18:55:58.209Z"
   },
   {
    "duration": 118,
    "start_time": "2021-09-02T18:59:55.521Z"
   },
   {
    "duration": 117,
    "start_time": "2021-09-02T19:00:38.738Z"
   },
   {
    "duration": 123,
    "start_time": "2021-09-02T19:00:49.132Z"
   },
   {
    "duration": 123,
    "start_time": "2021-09-02T19:01:01.507Z"
   },
   {
    "duration": 1919,
    "start_time": "2021-09-02T19:01:47.139Z"
   },
   {
    "duration": 350,
    "start_time": "2021-09-02T19:01:58.014Z"
   },
   {
    "duration": 123,
    "start_time": "2021-09-02T19:02:13.036Z"
   },
   {
    "duration": 115,
    "start_time": "2021-09-02T19:07:25.230Z"
   },
   {
    "duration": 117,
    "start_time": "2021-09-02T19:07:48.619Z"
   },
   {
    "duration": 102,
    "start_time": "2021-09-02T19:07:57.535Z"
   },
   {
    "duration": 116,
    "start_time": "2021-09-02T19:08:06.067Z"
   },
   {
    "duration": 108,
    "start_time": "2021-09-02T19:10:09.242Z"
   },
   {
    "duration": 15,
    "start_time": "2021-09-02T19:10:35.884Z"
   },
   {
    "duration": 716,
    "start_time": "2021-09-02T20:03:20.833Z"
   },
   {
    "duration": 58309,
    "start_time": "2021-09-02T20:02:23.242Z"
   },
   {
    "duration": 350,
    "start_time": "2021-09-02T20:04:01.084Z"
   },
   {
    "duration": 912,
    "start_time": "2021-09-02T20:04:21.270Z"
   },
   {
    "duration": 16,
    "start_time": "2021-09-02T20:04:22.185Z"
   },
   {
    "duration": 120,
    "start_time": "2021-09-02T20:10:00.022Z"
   },
   {
    "duration": 120,
    "start_time": "2021-09-02T20:10:12.340Z"
   },
   {
    "duration": 425,
    "start_time": "2021-09-02T20:10:27.279Z"
   },
   {
    "duration": 101,
    "start_time": "2021-09-02T20:10:39.482Z"
   },
   {
    "duration": 119,
    "start_time": "2021-09-02T20:10:46.069Z"
   },
   {
    "duration": 150,
    "start_time": "2021-09-02T20:10:55.381Z"
   },
   {
    "duration": 127,
    "start_time": "2021-09-02T20:11:15.955Z"
   },
   {
    "duration": 882,
    "start_time": "2021-09-02T20:11:50.064Z"
   },
   {
    "duration": 29,
    "start_time": "2021-09-02T20:11:50.948Z"
   },
   {
    "duration": 464,
    "start_time": "2021-09-04T10:53:07.618Z"
   },
   {
    "duration": 959,
    "start_time": "2021-09-04T10:53:24.174Z"
   },
   {
    "duration": 15,
    "start_time": "2021-09-04T10:53:29.186Z"
   },
   {
    "duration": 104,
    "start_time": "2021-09-04T10:53:32.502Z"
   },
   {
    "duration": 15,
    "start_time": "2021-09-04T10:55:49.951Z"
   },
   {
    "duration": 9,
    "start_time": "2021-09-04T11:05:13.907Z"
   },
   {
    "duration": 135,
    "start_time": "2021-09-04T11:06:47.571Z"
   },
   {
    "duration": 8,
    "start_time": "2021-09-04T11:06:53.455Z"
   },
   {
    "duration": 7,
    "start_time": "2021-09-04T11:07:12.537Z"
   },
   {
    "duration": 16,
    "start_time": "2021-09-04T11:36:04.140Z"
   },
   {
    "duration": 21,
    "start_time": "2021-09-04T11:56:32.082Z"
   },
   {
    "duration": 17,
    "start_time": "2021-09-04T11:56:53.698Z"
   },
   {
    "duration": 12,
    "start_time": "2021-09-04T11:59:57.747Z"
   },
   {
    "duration": 458,
    "start_time": "2021-09-04T12:03:33.626Z"
   },
   {
    "duration": 403,
    "start_time": "2021-09-04T12:04:32.209Z"
   },
   {
    "duration": 116,
    "start_time": "2021-09-04T12:07:56.977Z"
   },
   {
    "duration": 15,
    "start_time": "2021-09-04T12:08:00.877Z"
   },
   {
    "duration": 10,
    "start_time": "2021-09-04T12:08:08.728Z"
   },
   {
    "duration": 17,
    "start_time": "2021-09-04T12:08:15.239Z"
   },
   {
    "duration": 19,
    "start_time": "2021-09-04T12:08:18.561Z"
   },
   {
    "duration": 400,
    "start_time": "2021-09-04T12:08:36.251Z"
   },
   {
    "duration": 307,
    "start_time": "2021-09-04T12:30:21.034Z"
   },
   {
    "duration": 312,
    "start_time": "2021-09-04T12:30:29.626Z"
   },
   {
    "duration": 412,
    "start_time": "2021-09-04T12:30:56.307Z"
   },
   {
    "duration": 30,
    "start_time": "2021-09-04T12:44:00.042Z"
   },
   {
    "duration": 293,
    "start_time": "2021-09-04T12:44:05.669Z"
   },
   {
    "duration": 695,
    "start_time": "2021-09-04T12:47:38.667Z"
   },
   {
    "duration": 655,
    "start_time": "2021-09-04T12:48:17.407Z"
   },
   {
    "duration": 1282,
    "start_time": "2021-09-04T12:48:36.702Z"
   },
   {
    "duration": 405,
    "start_time": "2021-09-04T12:49:25.889Z"
   },
   {
    "duration": 33,
    "start_time": "2021-09-04T12:50:02.806Z"
   },
   {
    "duration": 383,
    "start_time": "2021-09-04T12:50:57.262Z"
   },
   {
    "duration": 399,
    "start_time": "2021-09-04T12:52:22.728Z"
   },
   {
    "duration": 383,
    "start_time": "2021-09-04T12:52:55.969Z"
   },
   {
    "duration": 865,
    "start_time": "2021-09-04T12:53:31.960Z"
   },
   {
    "duration": 18,
    "start_time": "2021-09-04T12:53:32.828Z"
   },
   {
    "duration": 8,
    "start_time": "2021-09-04T12:53:32.850Z"
   },
   {
    "duration": 18,
    "start_time": "2021-09-04T12:53:32.862Z"
   },
   {
    "duration": 35,
    "start_time": "2021-09-04T12:53:32.917Z"
   },
   {
    "duration": 443,
    "start_time": "2021-09-04T12:53:32.955Z"
   },
   {
    "duration": 383,
    "start_time": "2021-09-04T12:54:23.397Z"
   },
   {
    "duration": 6,
    "start_time": "2021-09-04T13:07:15.144Z"
   },
   {
    "duration": 7,
    "start_time": "2021-09-04T13:07:58.891Z"
   },
   {
    "duration": 6,
    "start_time": "2021-09-04T13:08:12.894Z"
   },
   {
    "duration": 6,
    "start_time": "2021-09-04T13:12:10.700Z"
   },
   {
    "duration": 19,
    "start_time": "2021-09-04T13:25:49.847Z"
   },
   {
    "duration": 18,
    "start_time": "2021-09-04T13:36:17.020Z"
   },
   {
    "duration": 17,
    "start_time": "2021-09-04T13:36:54.113Z"
   },
   {
    "duration": 640,
    "start_time": "2021-09-04T14:28:29.221Z"
   },
   {
    "duration": 406,
    "start_time": "2021-09-04T14:28:37.802Z"
   },
   {
    "duration": 49,
    "start_time": "2021-09-04T14:28:55.701Z"
   },
   {
    "duration": 28,
    "start_time": "2021-09-04T14:31:43.344Z"
   },
   {
    "duration": 18,
    "start_time": "2021-09-04T14:32:15.187Z"
   },
   {
    "duration": 19,
    "start_time": "2021-09-04T14:32:38.013Z"
   },
   {
    "duration": 18,
    "start_time": "2021-09-04T14:32:52.929Z"
   },
   {
    "duration": 18,
    "start_time": "2021-09-04T14:38:32.715Z"
   },
   {
    "duration": 7,
    "start_time": "2021-09-04T14:39:21.731Z"
   },
   {
    "duration": 9553,
    "start_time": "2021-09-04T14:39:47.247Z"
   },
   {
    "duration": 10623,
    "start_time": "2021-09-04T14:40:10.245Z"
   },
   {
    "duration": 5,
    "start_time": "2021-09-04T14:40:47.960Z"
   },
   {
    "duration": 381,
    "start_time": "2021-09-04T14:41:16.407Z"
   },
   {
    "duration": 6,
    "start_time": "2021-09-04T14:41:22.991Z"
   },
   {
    "duration": 934,
    "start_time": "2021-09-04T14:45:25.496Z"
   },
   {
    "duration": 16,
    "start_time": "2021-09-04T14:45:29.267Z"
   },
   {
    "duration": 7,
    "start_time": "2021-09-04T14:45:37.537Z"
   },
   {
    "duration": 17,
    "start_time": "2021-09-04T14:45:40.589Z"
   },
   {
    "duration": 6,
    "start_time": "2021-09-04T14:45:43.544Z"
   },
   {
    "duration": 18,
    "start_time": "2021-09-04T14:45:47.218Z"
   },
   {
    "duration": 48,
    "start_time": "2021-09-04T14:46:00.514Z"
   },
   {
    "duration": 7,
    "start_time": "2021-09-04T14:46:20.873Z"
   },
   {
    "duration": 23,
    "start_time": "2021-09-04T14:46:28.040Z"
   },
   {
    "duration": 6,
    "start_time": "2021-09-04T14:46:33.585Z"
   },
   {
    "duration": 5,
    "start_time": "2021-09-04T14:46:37.403Z"
   },
   {
    "duration": 7,
    "start_time": "2021-09-04T14:46:42.037Z"
   },
   {
    "duration": 470,
    "start_time": "2021-09-04T14:49:17.553Z"
   },
   {
    "duration": 14,
    "start_time": "2021-09-04T14:49:32.508Z"
   },
   {
    "duration": 6,
    "start_time": "2021-09-04T14:50:59.471Z"
   },
   {
    "duration": 406,
    "start_time": "2021-09-04T14:51:47.525Z"
   },
   {
    "duration": 9,
    "start_time": "2021-09-04T14:51:58.442Z"
   },
   {
    "duration": 334,
    "start_time": "2021-09-05T09:36:51.302Z"
   },
   {
    "duration": 754,
    "start_time": "2021-09-05T09:37:02.821Z"
   },
   {
    "duration": 13,
    "start_time": "2021-09-05T09:37:06.239Z"
   },
   {
    "duration": 6,
    "start_time": "2021-09-05T09:37:11.939Z"
   },
   {
    "duration": 13,
    "start_time": "2021-09-05T09:37:14.418Z"
   },
   {
    "duration": 5,
    "start_time": "2021-09-05T09:37:17.471Z"
   },
   {
    "duration": 44,
    "start_time": "2021-09-05T09:37:20.556Z"
   },
   {
    "duration": 33,
    "start_time": "2021-09-05T09:37:23.052Z"
   },
   {
    "duration": 19,
    "start_time": "2021-09-05T09:37:26.296Z"
   },
   {
    "duration": 7,
    "start_time": "2021-09-05T09:37:29.289Z"
   },
   {
    "duration": 13,
    "start_time": "2021-09-05T09:37:31.866Z"
   },
   {
    "duration": 6,
    "start_time": "2021-09-05T09:37:34.466Z"
   },
   {
    "duration": 9,
    "start_time": "2021-09-05T09:37:37.015Z"
   },
   {
    "duration": 303,
    "start_time": "2021-09-05T09:37:41.946Z"
   },
   {
    "duration": 595,
    "start_time": "2021-09-05T09:39:05.564Z"
   },
   {
    "duration": 58886,
    "start_time": "2021-09-05T09:39:54.668Z"
   },
   {
    "duration": 87649,
    "start_time": "2021-09-05T09:41:45.780Z"
   },
   {
    "duration": 9,
    "start_time": "2021-09-05T09:48:50.072Z"
   },
   {
    "duration": 12,
    "start_time": "2021-09-05T09:53:24.403Z"
   },
   {
    "duration": 11,
    "start_time": "2021-09-05T09:59:56.020Z"
   },
   {
    "duration": 290,
    "start_time": "2021-09-05T10:04:52.326Z"
   },
   {
    "duration": 15,
    "start_time": "2021-09-05T10:05:07.086Z"
   },
   {
    "duration": 10,
    "start_time": "2021-09-05T10:05:37.198Z"
   },
   {
    "duration": 10,
    "start_time": "2021-09-05T10:05:46.257Z"
   },
   {
    "duration": 15,
    "start_time": "2021-09-05T10:08:27.923Z"
   },
   {
    "duration": 11,
    "start_time": "2021-09-05T10:08:34.466Z"
   },
   {
    "duration": 9,
    "start_time": "2021-09-05T10:13:48.390Z"
   },
   {
    "duration": 9,
    "start_time": "2021-09-05T10:15:06.068Z"
   },
   {
    "duration": 9,
    "start_time": "2021-09-05T10:15:12.420Z"
   },
   {
    "duration": 11,
    "start_time": "2021-09-05T10:15:37.126Z"
   },
   {
    "duration": 11,
    "start_time": "2021-09-05T10:17:20.024Z"
   },
   {
    "duration": 11,
    "start_time": "2021-09-05T10:31:39.963Z"
   },
   {
    "duration": 9,
    "start_time": "2021-09-05T10:47:06.993Z"
   },
   {
    "duration": 728,
    "start_time": "2021-09-05T10:48:22.340Z"
   },
   {
    "duration": 12,
    "start_time": "2021-09-05T10:48:23.070Z"
   },
   {
    "duration": 9,
    "start_time": "2021-09-05T10:48:23.084Z"
   },
   {
    "duration": 23,
    "start_time": "2021-09-05T10:48:23.096Z"
   },
   {
    "duration": 22,
    "start_time": "2021-09-05T10:48:23.121Z"
   },
   {
    "duration": 14,
    "start_time": "2021-09-05T10:48:23.145Z"
   },
   {
    "duration": 28,
    "start_time": "2021-09-05T10:48:23.161Z"
   },
   {
    "duration": 18,
    "start_time": "2021-09-05T10:48:23.191Z"
   },
   {
    "duration": 31,
    "start_time": "2021-09-05T10:48:23.212Z"
   },
   {
    "duration": 14,
    "start_time": "2021-09-05T10:48:23.246Z"
   },
   {
    "duration": 14,
    "start_time": "2021-09-05T10:48:23.262Z"
   },
   {
    "duration": 27,
    "start_time": "2021-09-05T10:48:23.278Z"
   },
   {
    "duration": 30,
    "start_time": "2021-09-05T10:48:23.308Z"
   },
   {
    "duration": 27,
    "start_time": "2021-09-05T10:48:23.340Z"
   },
   {
    "duration": 15,
    "start_time": "2021-09-05T10:48:23.369Z"
   },
   {
    "duration": 17,
    "start_time": "2021-09-05T10:48:23.386Z"
   },
   {
    "duration": 16,
    "start_time": "2021-09-05T10:48:23.405Z"
   },
   {
    "duration": 30,
    "start_time": "2021-09-05T10:48:23.423Z"
   },
   {
    "duration": 24,
    "start_time": "2021-09-05T10:48:23.455Z"
   },
   {
    "duration": 295,
    "start_time": "2021-09-05T10:48:23.481Z"
   },
   {
    "duration": 29,
    "start_time": "2021-09-05T11:30:49.112Z"
   },
   {
    "duration": 22,
    "start_time": "2021-09-05T11:33:53.578Z"
   },
   {
    "duration": 393,
    "start_time": "2021-09-05T11:36:40.521Z"
   },
   {
    "duration": 256,
    "start_time": "2021-09-05T11:37:41.261Z"
   },
   {
    "duration": 257,
    "start_time": "2021-09-05T11:41:02.962Z"
   },
   {
    "duration": 30,
    "start_time": "2021-09-05T11:49:23.758Z"
   },
   {
    "duration": 398,
    "start_time": "2021-09-05T11:51:07.146Z"
   },
   {
    "duration": 120,
    "start_time": "2021-09-05T11:58:15.669Z"
   },
   {
    "duration": 799,
    "start_time": "2021-09-05T11:58:27.415Z"
   },
   {
    "duration": 13,
    "start_time": "2021-09-05T11:58:28.216Z"
   },
   {
    "duration": 6,
    "start_time": "2021-09-05T11:58:28.240Z"
   },
   {
    "duration": 23,
    "start_time": "2021-09-05T11:58:28.249Z"
   },
   {
    "duration": 7,
    "start_time": "2021-09-05T11:58:28.274Z"
   },
   {
    "duration": 16,
    "start_time": "2021-09-05T11:58:28.284Z"
   },
   {
    "duration": 63,
    "start_time": "2021-09-05T11:58:28.302Z"
   },
   {
    "duration": 20,
    "start_time": "2021-09-05T11:58:28.366Z"
   },
   {
    "duration": 5,
    "start_time": "2021-09-05T11:58:28.389Z"
   },
   {
    "duration": 13,
    "start_time": "2021-09-05T11:58:28.396Z"
   },
   {
    "duration": 5,
    "start_time": "2021-09-05T11:58:28.441Z"
   },
   {
    "duration": 16,
    "start_time": "2021-09-05T11:58:28.448Z"
   },
   {
    "duration": 18,
    "start_time": "2021-09-05T11:58:28.466Z"
   },
   {
    "duration": 12,
    "start_time": "2021-09-05T11:58:28.486Z"
   },
   {
    "duration": 45,
    "start_time": "2021-09-05T11:58:28.500Z"
   },
   {
    "duration": 12,
    "start_time": "2021-09-05T11:58:28.547Z"
   },
   {
    "duration": 13,
    "start_time": "2021-09-05T11:58:28.561Z"
   },
   {
    "duration": 13,
    "start_time": "2021-09-05T11:58:28.576Z"
   },
   {
    "duration": 61,
    "start_time": "2021-09-05T11:58:28.591Z"
   },
   {
    "duration": 97,
    "start_time": "2021-09-05T11:58:28.654Z"
   },
   {
    "duration": 293,
    "start_time": "2021-09-05T11:59:12.510Z"
   },
   {
    "duration": 277,
    "start_time": "2021-09-05T12:00:35.330Z"
   },
   {
    "duration": 275,
    "start_time": "2021-09-05T12:01:31.908Z"
   },
   {
    "duration": 887,
    "start_time": "2021-09-05T12:02:18.062Z"
   },
   {
    "duration": 18,
    "start_time": "2021-09-05T12:02:18.952Z"
   },
   {
    "duration": 22,
    "start_time": "2021-09-05T12:02:18.973Z"
   },
   {
    "duration": 24,
    "start_time": "2021-09-05T12:02:18.998Z"
   },
   {
    "duration": 21,
    "start_time": "2021-09-05T12:02:19.025Z"
   },
   {
    "duration": 37,
    "start_time": "2021-09-05T12:02:19.049Z"
   },
   {
    "duration": 52,
    "start_time": "2021-09-05T12:02:19.088Z"
   },
   {
    "duration": 19,
    "start_time": "2021-09-05T12:02:19.143Z"
   },
   {
    "duration": 6,
    "start_time": "2021-09-05T12:02:19.165Z"
   },
   {
    "duration": 22,
    "start_time": "2021-09-05T12:02:19.173Z"
   },
   {
    "duration": 13,
    "start_time": "2021-09-05T12:02:19.198Z"
   },
   {
    "duration": 31,
    "start_time": "2021-09-05T12:02:19.214Z"
   },
   {
    "duration": 27,
    "start_time": "2021-09-05T12:02:19.247Z"
   },
   {
    "duration": 27,
    "start_time": "2021-09-05T12:02:19.277Z"
   },
   {
    "duration": 17,
    "start_time": "2021-09-05T12:02:19.307Z"
   },
   {
    "duration": 19,
    "start_time": "2021-09-05T12:02:19.342Z"
   },
   {
    "duration": 18,
    "start_time": "2021-09-05T12:02:19.364Z"
   },
   {
    "duration": 22,
    "start_time": "2021-09-05T12:02:19.384Z"
   },
   {
    "duration": 40,
    "start_time": "2021-09-05T12:02:19.408Z"
   },
   {
    "duration": 99,
    "start_time": "2021-09-05T12:02:19.450Z"
   },
   {
    "duration": 81,
    "start_time": "2021-09-05T12:02:31.300Z"
   },
   {
    "duration": 95,
    "start_time": "2021-09-05T12:03:53.320Z"
   },
   {
    "duration": 98,
    "start_time": "2021-09-05T12:04:04.883Z"
   },
   {
    "duration": 23,
    "start_time": "2021-09-05T12:04:54.510Z"
   },
   {
    "duration": 26,
    "start_time": "2021-09-05T12:05:26.590Z"
   },
   {
    "duration": 280,
    "start_time": "2021-09-05T12:12:04.383Z"
   },
   {
    "duration": 24,
    "start_time": "2021-09-05T12:12:23.037Z"
   },
   {
    "duration": 21,
    "start_time": "2021-09-05T12:12:34.783Z"
   },
   {
    "duration": 746,
    "start_time": "2021-09-05T12:16:22.864Z"
   },
   {
    "duration": 12,
    "start_time": "2021-09-05T12:16:23.614Z"
   },
   {
    "duration": 15,
    "start_time": "2021-09-05T12:16:23.629Z"
   },
   {
    "duration": 17,
    "start_time": "2021-09-05T12:16:23.646Z"
   },
   {
    "duration": 15,
    "start_time": "2021-09-05T12:16:23.665Z"
   },
   {
    "duration": 32,
    "start_time": "2021-09-05T12:16:23.682Z"
   },
   {
    "duration": 42,
    "start_time": "2021-09-05T12:16:23.716Z"
   },
   {
    "duration": 20,
    "start_time": "2021-09-05T12:16:23.761Z"
   },
   {
    "duration": 5,
    "start_time": "2021-09-05T12:16:23.785Z"
   },
   {
    "duration": 20,
    "start_time": "2021-09-05T12:16:23.793Z"
   },
   {
    "duration": 6,
    "start_time": "2021-09-05T12:16:23.841Z"
   },
   {
    "duration": 19,
    "start_time": "2021-09-05T12:16:23.849Z"
   },
   {
    "duration": 29,
    "start_time": "2021-09-05T12:16:23.871Z"
   },
   {
    "duration": 14,
    "start_time": "2021-09-05T12:16:23.902Z"
   },
   {
    "duration": 31,
    "start_time": "2021-09-05T12:16:23.918Z"
   },
   {
    "duration": 14,
    "start_time": "2021-09-05T12:16:23.952Z"
   },
   {
    "duration": 12,
    "start_time": "2021-09-05T12:16:23.968Z"
   },
   {
    "duration": 15,
    "start_time": "2021-09-05T12:16:23.982Z"
   },
   {
    "duration": 61,
    "start_time": "2021-09-05T12:16:23.999Z"
   },
   {
    "duration": 101,
    "start_time": "2021-09-05T12:16:24.062Z"
   },
   {
    "duration": 338,
    "start_time": "2021-09-05T12:16:24.165Z"
   },
   {
    "duration": 24,
    "start_time": "2021-09-05T12:16:34.553Z"
   },
   {
    "duration": 23,
    "start_time": "2021-09-05T12:16:42.853Z"
   },
   {
    "duration": 11,
    "start_time": "2021-09-05T12:18:16.030Z"
   },
   {
    "duration": 12,
    "start_time": "2021-09-05T12:19:41.006Z"
   },
   {
    "duration": 17,
    "start_time": "2021-09-05T12:21:09.005Z"
   },
   {
    "duration": 8,
    "start_time": "2021-09-05T12:21:27.725Z"
   },
   {
    "duration": 9,
    "start_time": "2021-09-05T12:36:00.746Z"
   },
   {
    "duration": 10,
    "start_time": "2021-09-05T12:38:37.168Z"
   },
   {
    "duration": 16,
    "start_time": "2021-09-05T12:39:28.120Z"
   },
   {
    "duration": 15,
    "start_time": "2021-09-05T12:39:41.135Z"
   },
   {
    "duration": 10,
    "start_time": "2021-09-05T12:42:21.239Z"
   },
   {
    "duration": 662,
    "start_time": "2021-09-05T12:43:39.073Z"
   },
   {
    "duration": 11,
    "start_time": "2021-09-05T12:43:39.737Z"
   },
   {
    "duration": 10,
    "start_time": "2021-09-05T12:43:39.751Z"
   },
   {
    "duration": 24,
    "start_time": "2021-09-05T12:43:39.762Z"
   },
   {
    "duration": 12,
    "start_time": "2021-09-05T12:43:39.788Z"
   },
   {
    "duration": 36,
    "start_time": "2021-09-05T12:43:39.802Z"
   },
   {
    "duration": 47,
    "start_time": "2021-09-05T12:43:39.840Z"
   },
   {
    "duration": 16,
    "start_time": "2021-09-05T12:43:39.890Z"
   },
   {
    "duration": 8,
    "start_time": "2021-09-05T12:43:39.908Z"
   },
   {
    "duration": 25,
    "start_time": "2021-09-05T12:43:39.918Z"
   },
   {
    "duration": 23,
    "start_time": "2021-09-05T12:43:39.945Z"
   },
   {
    "duration": 26,
    "start_time": "2021-09-05T12:43:39.970Z"
   },
   {
    "duration": 38,
    "start_time": "2021-09-05T12:43:39.997Z"
   },
   {
    "duration": 23,
    "start_time": "2021-09-05T12:43:40.037Z"
   },
   {
    "duration": 28,
    "start_time": "2021-09-05T12:43:40.061Z"
   },
   {
    "duration": 21,
    "start_time": "2021-09-05T12:43:40.091Z"
   },
   {
    "duration": 24,
    "start_time": "2021-09-05T12:43:40.114Z"
   },
   {
    "duration": 19,
    "start_time": "2021-09-05T12:43:40.140Z"
   },
   {
    "duration": 36,
    "start_time": "2021-09-05T12:43:40.161Z"
   },
   {
    "duration": 84,
    "start_time": "2021-09-05T12:43:40.199Z"
   },
   {
    "duration": 7,
    "start_time": "2021-09-05T12:43:40.285Z"
   },
   {
    "duration": 25,
    "start_time": "2021-09-05T12:43:40.293Z"
   },
   {
    "duration": 40,
    "start_time": "2021-09-05T12:43:40.320Z"
   },
   {
    "duration": 16,
    "start_time": "2021-09-05T12:43:40.362Z"
   },
   {
    "duration": 10,
    "start_time": "2021-09-05T13:09:45.572Z"
   },
   {
    "duration": 331,
    "start_time": "2021-09-05T13:13:44.594Z"
   },
   {
    "duration": 8,
    "start_time": "2021-09-05T13:14:29.154Z"
   },
   {
    "duration": 7,
    "start_time": "2021-09-05T13:15:47.499Z"
   },
   {
    "duration": 95,
    "start_time": "2021-09-05T13:16:17.877Z"
   },
   {
    "duration": 24,
    "start_time": "2021-09-05T13:16:38.753Z"
   },
   {
    "duration": 8,
    "start_time": "2021-09-05T13:16:57.964Z"
   },
   {
    "duration": 13,
    "start_time": "2021-09-05T13:19:29.102Z"
   },
   {
    "duration": 14,
    "start_time": "2021-09-05T13:19:43.110Z"
   },
   {
    "duration": 882,
    "start_time": "2021-09-05T13:20:18.397Z"
   },
   {
    "duration": 12,
    "start_time": "2021-09-05T13:20:19.282Z"
   },
   {
    "duration": 6,
    "start_time": "2021-09-05T13:20:19.297Z"
   },
   {
    "duration": 16,
    "start_time": "2021-09-05T13:20:19.305Z"
   },
   {
    "duration": 22,
    "start_time": "2021-09-05T13:20:19.322Z"
   },
   {
    "duration": 18,
    "start_time": "2021-09-05T13:20:19.346Z"
   },
   {
    "duration": 26,
    "start_time": "2021-09-05T13:20:19.366Z"
   },
   {
    "duration": 46,
    "start_time": "2021-09-05T13:20:19.394Z"
   },
   {
    "duration": 4,
    "start_time": "2021-09-05T13:20:19.443Z"
   },
   {
    "duration": 11,
    "start_time": "2021-09-05T13:20:19.448Z"
   },
   {
    "duration": 4,
    "start_time": "2021-09-05T13:20:19.461Z"
   },
   {
    "duration": 9,
    "start_time": "2021-09-05T13:20:19.466Z"
   },
   {
    "duration": 12,
    "start_time": "2021-09-05T13:20:19.476Z"
   },
   {
    "duration": 12,
    "start_time": "2021-09-05T13:20:19.490Z"
   },
   {
    "duration": 46,
    "start_time": "2021-09-05T13:20:19.504Z"
   },
   {
    "duration": 13,
    "start_time": "2021-09-05T13:20:19.552Z"
   },
   {
    "duration": 12,
    "start_time": "2021-09-05T13:20:19.567Z"
   },
   {
    "duration": 11,
    "start_time": "2021-09-05T13:20:19.581Z"
   },
   {
    "duration": 57,
    "start_time": "2021-09-05T13:20:19.594Z"
   },
   {
    "duration": 76,
    "start_time": "2021-09-05T13:20:19.653Z"
   },
   {
    "duration": 7,
    "start_time": "2021-09-05T13:20:19.741Z"
   },
   {
    "duration": 14,
    "start_time": "2021-09-05T13:20:19.750Z"
   },
   {
    "duration": 10,
    "start_time": "2021-09-05T13:20:19.767Z"
   },
   {
    "duration": 7,
    "start_time": "2021-09-05T13:20:19.779Z"
   },
   {
    "duration": 20,
    "start_time": "2021-09-05T13:20:19.787Z"
   },
   {
    "duration": 35,
    "start_time": "2021-09-05T13:20:19.809Z"
   },
   {
    "duration": 8,
    "start_time": "2021-09-05T13:34:56.094Z"
   },
   {
    "duration": 706,
    "start_time": "2021-09-05T14:43:22.720Z"
   },
   {
    "duration": 12,
    "start_time": "2021-09-05T14:43:23.428Z"
   },
   {
    "duration": 5,
    "start_time": "2021-09-05T14:43:23.443Z"
   },
   {
    "duration": 15,
    "start_time": "2021-09-05T14:43:23.451Z"
   },
   {
    "duration": 5,
    "start_time": "2021-09-05T14:43:23.468Z"
   },
   {
    "duration": 15,
    "start_time": "2021-09-05T14:43:23.475Z"
   },
   {
    "duration": 59,
    "start_time": "2021-09-05T14:43:23.492Z"
   },
   {
    "duration": 18,
    "start_time": "2021-09-05T14:43:23.553Z"
   },
   {
    "duration": 4,
    "start_time": "2021-09-05T14:43:23.575Z"
   },
   {
    "duration": 13,
    "start_time": "2021-09-05T14:43:23.581Z"
   },
   {
    "duration": 6,
    "start_time": "2021-09-05T14:43:23.596Z"
   },
   {
    "duration": 41,
    "start_time": "2021-09-05T14:43:23.604Z"
   },
   {
    "duration": 14,
    "start_time": "2021-09-05T14:43:23.647Z"
   },
   {
    "duration": 12,
    "start_time": "2021-09-05T14:43:23.663Z"
   },
   {
    "duration": 15,
    "start_time": "2021-09-05T14:43:23.677Z"
   },
   {
    "duration": 55,
    "start_time": "2021-09-05T14:43:23.694Z"
   },
   {
    "duration": 12,
    "start_time": "2021-09-05T14:43:23.751Z"
   },
   {
    "duration": 11,
    "start_time": "2021-09-05T14:43:23.765Z"
   },
   {
    "duration": 19,
    "start_time": "2021-09-05T14:43:23.778Z"
   },
   {
    "duration": 108,
    "start_time": "2021-09-05T14:43:23.799Z"
   },
   {
    "duration": 7,
    "start_time": "2021-09-05T14:43:23.909Z"
   },
   {
    "duration": 26,
    "start_time": "2021-09-05T14:43:23.917Z"
   },
   {
    "duration": 13,
    "start_time": "2021-09-05T14:43:23.945Z"
   },
   {
    "duration": 8,
    "start_time": "2021-09-05T14:43:23.960Z"
   },
   {
    "duration": 17,
    "start_time": "2021-09-05T14:43:23.969Z"
   },
   {
    "duration": 10,
    "start_time": "2021-09-05T14:43:23.987Z"
   },
   {
    "duration": 327,
    "start_time": "2021-09-05T15:01:59.923Z"
   },
   {
    "duration": 5,
    "start_time": "2021-09-05T15:02:09.075Z"
   },
   {
    "duration": 23,
    "start_time": "2021-09-05T15:09:13.261Z"
   },
   {
    "duration": 4,
    "start_time": "2021-09-05T15:14:23.416Z"
   },
   {
    "duration": 912,
    "start_time": "2021-09-06T16:40:17.265Z"
   },
   {
    "duration": 15,
    "start_time": "2021-09-06T16:40:18.180Z"
   },
   {
    "duration": 32,
    "start_time": "2021-09-06T16:40:18.198Z"
   },
   {
    "duration": 34,
    "start_time": "2021-09-06T16:40:18.233Z"
   },
   {
    "duration": 24,
    "start_time": "2021-09-06T16:40:18.270Z"
   },
   {
    "duration": 47,
    "start_time": "2021-09-06T16:40:18.296Z"
   },
   {
    "duration": 59,
    "start_time": "2021-09-06T16:40:18.346Z"
   },
   {
    "duration": 22,
    "start_time": "2021-09-06T16:40:18.407Z"
   },
   {
    "duration": 12,
    "start_time": "2021-09-06T16:40:18.436Z"
   },
   {
    "duration": 35,
    "start_time": "2021-09-06T16:40:18.451Z"
   },
   {
    "duration": 40,
    "start_time": "2021-09-06T16:40:18.489Z"
   },
   {
    "duration": 39,
    "start_time": "2021-09-06T16:40:18.531Z"
   },
   {
    "duration": 33,
    "start_time": "2021-09-06T16:40:18.572Z"
   },
   {
    "duration": 28,
    "start_time": "2021-09-06T16:40:18.608Z"
   },
   {
    "duration": 35,
    "start_time": "2021-09-06T16:40:18.639Z"
   },
   {
    "duration": 38,
    "start_time": "2021-09-06T16:40:18.677Z"
   },
   {
    "duration": 15,
    "start_time": "2021-09-06T16:40:18.718Z"
   },
   {
    "duration": 26,
    "start_time": "2021-09-06T16:40:18.736Z"
   },
   {
    "duration": 49,
    "start_time": "2021-09-06T16:40:18.765Z"
   },
   {
    "duration": 119,
    "start_time": "2021-09-06T16:40:18.816Z"
   },
   {
    "duration": 18,
    "start_time": "2021-09-06T16:40:18.937Z"
   },
   {
    "duration": 28,
    "start_time": "2021-09-06T16:40:18.957Z"
   },
   {
    "duration": 24,
    "start_time": "2021-09-06T16:40:18.987Z"
   },
   {
    "duration": 33,
    "start_time": "2021-09-06T16:40:19.013Z"
   },
   {
    "duration": 36,
    "start_time": "2021-09-06T16:40:19.048Z"
   },
   {
    "duration": 31,
    "start_time": "2021-09-06T16:40:19.087Z"
   },
   {
    "duration": 25,
    "start_time": "2021-09-06T16:40:19.122Z"
   },
   {
    "duration": 375,
    "start_time": "2021-09-06T16:40:19.150Z"
   },
   {
    "duration": 59549,
    "start_time": "2021-09-06T16:39:19.979Z"
   },
   {
    "duration": 59548,
    "start_time": "2021-09-06T16:39:19.981Z"
   },
   {
    "duration": 18,
    "start_time": "2021-09-06T16:51:18.539Z"
   },
   {
    "duration": 28,
    "start_time": "2021-09-06T16:58:40.769Z"
   },
   {
    "duration": 8,
    "start_time": "2021-09-06T17:12:51.221Z"
   },
   {
    "duration": 38,
    "start_time": "2021-09-06T17:13:32.036Z"
   },
   {
    "duration": 153,
    "start_time": "2021-09-06T18:02:58.434Z"
   },
   {
    "duration": 518,
    "start_time": "2021-09-06T18:07:59.267Z"
   },
   {
    "duration": 605,
    "start_time": "2021-09-06T18:08:21.251Z"
   },
   {
    "duration": 532,
    "start_time": "2021-09-06T18:10:15.962Z"
   },
   {
    "duration": 641,
    "start_time": "2021-09-06T18:10:23.419Z"
   },
   {
    "duration": 574,
    "start_time": "2021-09-06T18:10:30.941Z"
   },
   {
    "duration": 391,
    "start_time": "2021-09-06T18:12:57.385Z"
   },
   {
    "duration": 524,
    "start_time": "2021-09-06T18:15:37.678Z"
   },
   {
    "duration": 648,
    "start_time": "2021-09-06T18:15:59.890Z"
   },
   {
    "duration": 271,
    "start_time": "2021-09-06T18:19:23.053Z"
   },
   {
    "duration": 394,
    "start_time": "2021-09-06T18:19:29.634Z"
   },
   {
    "duration": 12,
    "start_time": "2021-09-06T18:21:52.755Z"
   },
   {
    "duration": 508,
    "start_time": "2021-09-06T18:22:54.306Z"
   },
   {
    "duration": 200,
    "start_time": "2021-09-06T18:23:04.773Z"
   },
   {
    "duration": 275,
    "start_time": "2021-09-06T18:30:48.621Z"
   },
   {
    "duration": 15,
    "start_time": "2021-09-06T18:30:56.347Z"
   },
   {
    "duration": 531,
    "start_time": "2021-09-06T18:31:26.079Z"
   },
   {
    "duration": 12,
    "start_time": "2021-09-06T18:35:03.979Z"
   },
   {
    "duration": 204,
    "start_time": "2021-09-06T18:35:41.621Z"
   },
   {
    "duration": 15,
    "start_time": "2021-09-06T19:19:08.734Z"
   },
   {
    "duration": 680,
    "start_time": "2021-09-06T19:23:28.317Z"
   },
   {
    "duration": 657,
    "start_time": "2021-09-06T19:25:06.755Z"
   },
   {
    "duration": 7,
    "start_time": "2021-09-06T19:25:14.972Z"
   },
   {
    "duration": 444,
    "start_time": "2021-09-06T19:28:12.133Z"
   },
   {
    "duration": 265,
    "start_time": "2021-09-06T19:28:21.912Z"
   },
   {
    "duration": 450,
    "start_time": "2021-09-06T19:28:28.354Z"
   },
   {
    "duration": 438,
    "start_time": "2021-09-06T19:28:55.109Z"
   },
   {
    "duration": 683,
    "start_time": "2021-09-06T19:29:08.384Z"
   },
   {
    "duration": 719,
    "start_time": "2021-09-06T19:29:16.649Z"
   },
   {
    "duration": 309,
    "start_time": "2021-09-06T19:29:40.048Z"
   },
   {
    "duration": 444,
    "start_time": "2021-09-06T19:29:46.110Z"
   },
   {
    "duration": 8,
    "start_time": "2021-09-06T19:33:00.628Z"
   },
   {
    "duration": 205,
    "start_time": "2021-09-06T19:34:10.107Z"
   },
   {
    "duration": 861,
    "start_time": "2021-09-06T19:35:15.937Z"
   },
   {
    "duration": 16,
    "start_time": "2021-09-06T19:35:16.801Z"
   },
   {
    "duration": 7,
    "start_time": "2021-09-06T19:35:16.820Z"
   },
   {
    "duration": 36,
    "start_time": "2021-09-06T19:35:16.830Z"
   },
   {
    "duration": 6,
    "start_time": "2021-09-06T19:35:16.868Z"
   },
   {
    "duration": 23,
    "start_time": "2021-09-06T19:35:16.876Z"
   },
   {
    "duration": 74,
    "start_time": "2021-09-06T19:35:16.901Z"
   },
   {
    "duration": 24,
    "start_time": "2021-09-06T19:35:16.977Z"
   },
   {
    "duration": 5,
    "start_time": "2021-09-06T19:35:17.005Z"
   },
   {
    "duration": 45,
    "start_time": "2021-09-06T19:35:17.013Z"
   },
   {
    "duration": 6,
    "start_time": "2021-09-06T19:35:17.060Z"
   },
   {
    "duration": 18,
    "start_time": "2021-09-06T19:35:17.068Z"
   },
   {
    "duration": 18,
    "start_time": "2021-09-06T19:35:17.088Z"
   },
   {
    "duration": 45,
    "start_time": "2021-09-06T19:35:17.109Z"
   },
   {
    "duration": 18,
    "start_time": "2021-09-06T19:35:17.156Z"
   },
   {
    "duration": 16,
    "start_time": "2021-09-06T19:35:17.176Z"
   },
   {
    "duration": 15,
    "start_time": "2021-09-06T19:35:17.195Z"
   },
   {
    "duration": 47,
    "start_time": "2021-09-06T19:35:17.212Z"
   },
   {
    "duration": 32,
    "start_time": "2021-09-06T19:35:17.262Z"
   },
   {
    "duration": 151,
    "start_time": "2021-09-06T19:35:17.296Z"
   },
   {
    "duration": 11,
    "start_time": "2021-09-06T19:35:17.449Z"
   },
   {
    "duration": 17,
    "start_time": "2021-09-06T19:35:17.462Z"
   },
   {
    "duration": 14,
    "start_time": "2021-09-06T19:35:17.481Z"
   },
   {
    "duration": 11,
    "start_time": "2021-09-06T19:35:17.497Z"
   },
   {
    "duration": 57,
    "start_time": "2021-09-06T19:35:17.510Z"
   },
   {
    "duration": 20,
    "start_time": "2021-09-06T19:35:17.569Z"
   },
   {
    "duration": 5,
    "start_time": "2021-09-06T19:35:17.594Z"
   },
   {
    "duration": 25,
    "start_time": "2021-09-06T19:35:17.602Z"
   },
   {
    "duration": 52,
    "start_time": "2021-09-06T19:35:17.630Z"
   },
   {
    "duration": 9,
    "start_time": "2021-09-06T19:35:17.685Z"
   },
   {
    "duration": 63,
    "start_time": "2021-09-06T19:35:17.696Z"
   },
   {
    "duration": 121,
    "start_time": "2021-09-06T19:35:17.762Z"
   },
   {
    "duration": 427,
    "start_time": "2021-09-06T19:35:17.886Z"
   },
   {
    "duration": 611,
    "start_time": "2021-09-06T19:35:18.315Z"
   },
   {
    "duration": 564,
    "start_time": "2021-09-06T19:35:18.928Z"
   },
   {
    "duration": 393,
    "start_time": "2021-09-06T19:35:19.495Z"
   },
   {
    "duration": 12,
    "start_time": "2021-09-06T19:35:19.890Z"
   },
   {
    "duration": 222,
    "start_time": "2021-09-06T19:35:19.904Z"
   },
   {
    "duration": 25,
    "start_time": "2021-09-06T19:35:20.129Z"
   },
   {
    "duration": 534,
    "start_time": "2021-09-06T19:35:20.156Z"
   },
   {
    "duration": 12,
    "start_time": "2021-09-06T19:35:20.692Z"
   },
   {
    "duration": 227,
    "start_time": "2021-09-06T19:35:20.706Z"
   },
   {
    "duration": 23,
    "start_time": "2021-09-06T19:35:20.935Z"
   },
   {
    "duration": 699,
    "start_time": "2021-09-06T19:35:20.961Z"
   },
   {
    "duration": 9,
    "start_time": "2021-09-06T19:35:21.663Z"
   },
   {
    "duration": 501,
    "start_time": "2021-09-06T19:35:21.674Z"
   },
   {
    "duration": 7,
    "start_time": "2021-09-06T19:35:22.178Z"
   },
   {
    "duration": 212,
    "start_time": "2021-09-06T19:35:22.188Z"
   },
   {
    "duration": 40,
    "start_time": "2021-09-06T19:36:50.634Z"
   },
   {
    "duration": 102,
    "start_time": "2021-09-06T19:38:12.865Z"
   },
   {
    "duration": 42,
    "start_time": "2021-09-06T19:38:24.571Z"
   },
   {
    "duration": 950,
    "start_time": "2021-09-06T19:41:28.979Z"
   },
   {
    "duration": 24,
    "start_time": "2021-09-06T19:41:29.932Z"
   },
   {
    "duration": 6,
    "start_time": "2021-09-06T19:41:29.960Z"
   },
   {
    "duration": 30,
    "start_time": "2021-09-06T19:41:29.969Z"
   },
   {
    "duration": 6,
    "start_time": "2021-09-06T19:41:30.001Z"
   },
   {
    "duration": 28,
    "start_time": "2021-09-06T19:41:30.009Z"
   },
   {
    "duration": 60,
    "start_time": "2021-09-06T19:41:30.039Z"
   },
   {
    "duration": 26,
    "start_time": "2021-09-06T19:41:30.101Z"
   },
   {
    "duration": 27,
    "start_time": "2021-09-06T19:41:30.131Z"
   },
   {
    "duration": 18,
    "start_time": "2021-09-06T19:41:30.163Z"
   },
   {
    "duration": 18,
    "start_time": "2021-09-06T19:41:30.184Z"
   },
   {
    "duration": 49,
    "start_time": "2021-09-06T19:41:30.205Z"
   },
   {
    "duration": 22,
    "start_time": "2021-09-06T19:41:30.257Z"
   },
   {
    "duration": 25,
    "start_time": "2021-09-06T19:41:30.283Z"
   },
   {
    "duration": 53,
    "start_time": "2021-09-06T19:41:30.311Z"
   },
   {
    "duration": 20,
    "start_time": "2021-09-06T19:41:30.367Z"
   },
   {
    "duration": 24,
    "start_time": "2021-09-06T19:41:30.390Z"
   },
   {
    "duration": 48,
    "start_time": "2021-09-06T19:41:30.417Z"
   },
   {
    "duration": 32,
    "start_time": "2021-09-06T19:41:30.469Z"
   },
   {
    "duration": 154,
    "start_time": "2021-09-06T19:41:30.504Z"
   },
   {
    "duration": 11,
    "start_time": "2021-09-06T19:41:30.661Z"
   },
   {
    "duration": 36,
    "start_time": "2021-09-06T19:41:30.675Z"
   },
   {
    "duration": 33,
    "start_time": "2021-09-06T19:41:30.714Z"
   },
   {
    "duration": 10,
    "start_time": "2021-09-06T19:41:30.754Z"
   },
   {
    "duration": 50,
    "start_time": "2021-09-06T19:41:30.767Z"
   },
   {
    "duration": 39,
    "start_time": "2021-09-06T19:41:30.820Z"
   },
   {
    "duration": 13,
    "start_time": "2021-09-06T19:41:30.864Z"
   },
   {
    "duration": 29,
    "start_time": "2021-09-06T19:41:30.880Z"
   },
   {
    "duration": 30,
    "start_time": "2021-09-06T19:41:30.912Z"
   },
   {
    "duration": 17,
    "start_time": "2021-09-06T19:41:30.944Z"
   },
   {
    "duration": 49,
    "start_time": "2021-09-06T19:41:30.963Z"
   },
   {
    "duration": 119,
    "start_time": "2021-09-06T19:41:31.015Z"
   },
   {
    "duration": 453,
    "start_time": "2021-09-06T19:41:31.136Z"
   },
   {
    "duration": 625,
    "start_time": "2021-09-06T19:41:31.592Z"
   },
   {
    "duration": 555,
    "start_time": "2021-09-06T19:41:32.220Z"
   },
   {
    "duration": 337,
    "start_time": "2021-09-06T19:41:32.778Z"
   },
   {
    "duration": 14,
    "start_time": "2021-09-06T19:41:33.118Z"
   },
   {
    "duration": 240,
    "start_time": "2021-09-06T19:41:33.134Z"
   },
   {
    "duration": 14,
    "start_time": "2021-09-06T19:41:33.377Z"
   },
   {
    "duration": 553,
    "start_time": "2021-09-06T19:41:33.394Z"
   },
   {
    "duration": 11,
    "start_time": "2021-09-06T19:41:33.954Z"
   },
   {
    "duration": 231,
    "start_time": "2021-09-06T19:41:33.968Z"
   },
   {
    "duration": 13,
    "start_time": "2021-09-06T19:41:34.202Z"
   },
   {
    "duration": 719,
    "start_time": "2021-09-06T19:41:34.218Z"
   },
   {
    "duration": 16,
    "start_time": "2021-09-06T19:41:34.939Z"
   },
   {
    "duration": 536,
    "start_time": "2021-09-06T19:41:34.958Z"
   },
   {
    "duration": 8,
    "start_time": "2021-09-06T19:41:35.497Z"
   },
   {
    "duration": 353,
    "start_time": "2021-09-06T19:41:35.509Z"
   },
   {
    "duration": 65,
    "start_time": "2021-09-06T19:41:35.865Z"
   },
   {
    "duration": 8,
    "start_time": "2021-09-06T19:42:57.495Z"
   },
   {
    "duration": 517,
    "start_time": "2021-09-06T19:45:18.516Z"
   },
   {
    "duration": 8,
    "start_time": "2021-09-06T19:45:41.584Z"
   },
   {
    "duration": 373,
    "start_time": "2021-09-06T19:48:48.307Z"
   },
   {
    "duration": 260,
    "start_time": "2021-09-06T19:49:33.872Z"
   },
   {
    "duration": 296,
    "start_time": "2021-09-06T19:51:53.131Z"
   },
   {
    "duration": 260,
    "start_time": "2021-09-06T19:52:55.502Z"
   },
   {
    "duration": 88,
    "start_time": "2021-09-06T19:56:26.256Z"
   },
   {
    "duration": 33,
    "start_time": "2021-09-06T19:56:41.246Z"
   },
   {
    "duration": 31,
    "start_time": "2021-09-06T19:58:11.710Z"
   },
   {
    "duration": 5,
    "start_time": "2021-09-06T20:03:17.535Z"
   },
   {
    "duration": 6,
    "start_time": "2021-09-06T20:03:47.304Z"
   },
   {
    "duration": 45,
    "start_time": "2021-09-06T20:04:19.464Z"
   },
   {
    "duration": 6,
    "start_time": "2021-09-06T20:05:01.103Z"
   },
   {
    "duration": 41,
    "start_time": "2021-09-06T20:05:04.351Z"
   },
   {
    "duration": 397,
    "start_time": "2021-09-06T20:07:42.320Z"
   },
   {
    "duration": 9,
    "start_time": "2021-09-06T20:10:42.116Z"
   },
   {
    "duration": 11,
    "start_time": "2021-09-06T20:10:53.558Z"
   },
   {
    "duration": 41,
    "start_time": "2021-09-06T20:12:03.259Z"
   },
   {
    "duration": 44,
    "start_time": "2021-09-06T20:15:19.580Z"
   },
   {
    "duration": 8,
    "start_time": "2021-09-06T20:17:27.694Z"
   },
   {
    "duration": 46,
    "start_time": "2021-09-06T20:17:30.000Z"
   },
   {
    "duration": 44,
    "start_time": "2021-09-06T20:18:14.275Z"
   },
   {
    "duration": 51,
    "start_time": "2021-09-06T20:18:30.880Z"
   },
   {
    "duration": 12,
    "start_time": "2021-09-06T20:21:59.819Z"
   },
   {
    "duration": 46,
    "start_time": "2021-09-06T20:22:15.776Z"
   },
   {
    "duration": 364,
    "start_time": "2021-09-06T20:24:01.253Z"
   },
   {
    "duration": 374,
    "start_time": "2021-09-06T20:24:57.656Z"
   },
   {
    "duration": 370,
    "start_time": "2021-09-06T20:26:02.237Z"
   },
   {
    "duration": 336,
    "start_time": "2021-09-06T20:27:08.384Z"
   },
   {
    "duration": 480,
    "start_time": "2021-09-06T20:29:40.297Z"
   },
   {
    "duration": 306,
    "start_time": "2021-09-06T20:30:50.456Z"
   },
   {
    "duration": 333,
    "start_time": "2021-09-06T20:34:20.445Z"
   },
   {
    "duration": 274,
    "start_time": "2021-09-06T20:34:34.705Z"
   },
   {
    "duration": 698,
    "start_time": "2021-09-06T20:35:35.991Z"
   },
   {
    "duration": 303,
    "start_time": "2021-09-06T20:37:21.179Z"
   },
   {
    "duration": 92,
    "start_time": "2021-09-06T20:38:36.723Z"
   },
   {
    "duration": 278,
    "start_time": "2021-09-06T20:38:45.569Z"
   },
   {
    "duration": 310,
    "start_time": "2021-09-06T20:39:35.609Z"
   },
   {
    "duration": 859,
    "start_time": "2021-09-06T20:40:32.262Z"
   },
   {
    "duration": 15,
    "start_time": "2021-09-06T20:40:33.124Z"
   },
   {
    "duration": 14,
    "start_time": "2021-09-06T20:40:33.142Z"
   },
   {
    "duration": 16,
    "start_time": "2021-09-06T20:40:33.159Z"
   },
   {
    "duration": 11,
    "start_time": "2021-09-06T20:40:33.177Z"
   },
   {
    "duration": 31,
    "start_time": "2021-09-06T20:40:33.190Z"
   },
   {
    "duration": 63,
    "start_time": "2021-09-06T20:40:33.223Z"
   },
   {
    "duration": 22,
    "start_time": "2021-09-06T20:40:33.290Z"
   },
   {
    "duration": 9,
    "start_time": "2021-09-06T20:40:33.315Z"
   },
   {
    "duration": 39,
    "start_time": "2021-09-06T20:40:33.326Z"
   },
   {
    "duration": 6,
    "start_time": "2021-09-06T20:40:33.367Z"
   },
   {
    "duration": 19,
    "start_time": "2021-09-06T20:40:33.375Z"
   },
   {
    "duration": 30,
    "start_time": "2021-09-06T20:40:33.396Z"
   },
   {
    "duration": 27,
    "start_time": "2021-09-06T20:40:33.428Z"
   },
   {
    "duration": 22,
    "start_time": "2021-09-06T20:40:33.458Z"
   },
   {
    "duration": 20,
    "start_time": "2021-09-06T20:40:33.482Z"
   },
   {
    "duration": 16,
    "start_time": "2021-09-06T20:40:33.505Z"
   },
   {
    "duration": 43,
    "start_time": "2021-09-06T20:40:33.523Z"
   },
   {
    "duration": 28,
    "start_time": "2021-09-06T20:40:33.568Z"
   },
   {
    "duration": 148,
    "start_time": "2021-09-06T20:40:33.599Z"
   },
   {
    "duration": 11,
    "start_time": "2021-09-06T20:40:33.750Z"
   },
   {
    "duration": 16,
    "start_time": "2021-09-06T20:40:33.764Z"
   },
   {
    "duration": 14,
    "start_time": "2021-09-06T20:40:33.786Z"
   },
   {
    "duration": 8,
    "start_time": "2021-09-06T20:40:33.804Z"
   },
   {
    "duration": 53,
    "start_time": "2021-09-06T20:40:33.815Z"
   },
   {
    "duration": 14,
    "start_time": "2021-09-06T20:40:33.871Z"
   },
   {
    "duration": 5,
    "start_time": "2021-09-06T20:40:33.888Z"
   },
   {
    "duration": 59,
    "start_time": "2021-09-06T20:40:33.895Z"
   },
   {
    "duration": 27,
    "start_time": "2021-09-06T20:40:33.957Z"
   },
   {
    "duration": 8,
    "start_time": "2021-09-06T20:40:33.987Z"
   },
   {
    "duration": 71,
    "start_time": "2021-09-06T20:40:33.998Z"
   },
   {
    "duration": 116,
    "start_time": "2021-09-06T20:40:34.072Z"
   },
   {
    "duration": 418,
    "start_time": "2021-09-06T20:40:34.191Z"
   },
   {
    "duration": 595,
    "start_time": "2021-09-06T20:40:34.611Z"
   },
   {
    "duration": 538,
    "start_time": "2021-09-06T20:40:35.209Z"
   },
   {
    "duration": 340,
    "start_time": "2021-09-06T20:40:35.754Z"
   },
   {
    "duration": 11,
    "start_time": "2021-09-06T20:40:36.096Z"
   },
   {
    "duration": 217,
    "start_time": "2021-09-06T20:40:36.110Z"
   },
   {
    "duration": 12,
    "start_time": "2021-09-06T20:40:36.330Z"
   },
   {
    "duration": 520,
    "start_time": "2021-09-06T20:40:36.355Z"
   },
   {
    "duration": 11,
    "start_time": "2021-09-06T20:40:36.878Z"
   },
   {
    "duration": 226,
    "start_time": "2021-09-06T20:40:36.892Z"
   },
   {
    "duration": 14,
    "start_time": "2021-09-06T20:40:37.121Z"
   },
   {
    "duration": 695,
    "start_time": "2021-09-06T20:40:37.138Z"
   },
   {
    "duration": 19,
    "start_time": "2021-09-06T20:40:37.836Z"
   },
   {
    "duration": 458,
    "start_time": "2021-09-06T20:40:37.857Z"
   },
   {
    "duration": 7,
    "start_time": "2021-09-06T20:40:38.318Z"
   },
   {
    "duration": 235,
    "start_time": "2021-09-06T20:40:38.327Z"
   },
   {
    "duration": 7,
    "start_time": "2021-09-06T20:40:38.564Z"
   },
   {
    "duration": 516,
    "start_time": "2021-09-06T20:40:38.573Z"
   },
   {
    "duration": 6,
    "start_time": "2021-09-06T20:40:39.092Z"
   },
   {
    "duration": 327,
    "start_time": "2021-09-06T20:40:39.100Z"
   },
   {
    "duration": 276,
    "start_time": "2021-09-06T20:40:39.429Z"
   },
   {
    "duration": 255,
    "start_time": "2021-09-06T20:40:39.707Z"
   },
   {
    "duration": 31,
    "start_time": "2021-09-06T20:40:39.964Z"
   },
   {
    "duration": 8,
    "start_time": "2021-09-06T20:40:39.997Z"
   },
   {
    "duration": 81,
    "start_time": "2021-09-06T20:40:40.008Z"
   },
   {
    "duration": 397,
    "start_time": "2021-09-06T20:40:40.092Z"
   },
   {
    "duration": 11,
    "start_time": "2021-09-06T20:40:40.492Z"
   },
   {
    "duration": 64,
    "start_time": "2021-09-06T20:40:40.505Z"
   },
   {
    "duration": 43,
    "start_time": "2021-09-06T20:40:40.572Z"
   },
   {
    "duration": 363,
    "start_time": "2021-09-06T20:40:40.617Z"
   },
   {
    "duration": 348,
    "start_time": "2021-09-06T20:40:40.983Z"
   },
   {
    "duration": 375,
    "start_time": "2021-09-06T20:40:41.334Z"
   },
   {
    "duration": 361,
    "start_time": "2021-09-06T20:40:41.711Z"
   },
   {
    "duration": 507,
    "start_time": "2021-09-06T20:40:42.075Z"
   },
   {
    "duration": 299,
    "start_time": "2021-09-06T20:40:42.585Z"
   },
   {
    "duration": 803,
    "start_time": "2021-09-06T20:40:42.890Z"
   },
   {
    "duration": 311,
    "start_time": "2021-09-06T20:40:43.696Z"
   },
   {
    "duration": 297,
    "start_time": "2021-09-06T20:40:44.009Z"
   },
   {
    "duration": 334,
    "start_time": "2021-09-06T20:40:44.309Z"
   },
   {
    "duration": 677,
    "start_time": "2021-09-07T20:04:04.611Z"
   },
   {
    "duration": 10,
    "start_time": "2021-09-07T20:04:05.290Z"
   },
   {
    "duration": 9,
    "start_time": "2021-09-07T20:04:05.302Z"
   },
   {
    "duration": 24,
    "start_time": "2021-09-07T20:04:05.313Z"
   },
   {
    "duration": 12,
    "start_time": "2021-09-07T20:04:05.338Z"
   },
   {
    "duration": 28,
    "start_time": "2021-09-07T20:04:05.352Z"
   },
   {
    "duration": 29,
    "start_time": "2021-09-07T20:04:05.381Z"
   },
   {
    "duration": 16,
    "start_time": "2021-09-07T20:04:05.412Z"
   },
   {
    "duration": 4,
    "start_time": "2021-09-07T20:04:05.430Z"
   },
   {
    "duration": 10,
    "start_time": "2021-09-07T20:04:05.436Z"
   },
   {
    "duration": 7,
    "start_time": "2021-09-07T20:04:05.447Z"
   },
   {
    "duration": 13,
    "start_time": "2021-09-07T20:04:05.455Z"
   },
   {
    "duration": 12,
    "start_time": "2021-09-07T20:04:05.469Z"
   },
   {
    "duration": 10,
    "start_time": "2021-09-07T20:04:05.483Z"
   },
   {
    "duration": 14,
    "start_time": "2021-09-07T20:04:05.495Z"
   },
   {
    "duration": 46,
    "start_time": "2021-09-07T20:04:05.511Z"
   },
   {
    "duration": 19,
    "start_time": "2021-09-07T20:04:05.559Z"
   },
   {
    "duration": 33,
    "start_time": "2021-09-07T20:04:05.580Z"
   },
   {
    "duration": 31,
    "start_time": "2021-09-07T20:04:05.614Z"
   },
   {
    "duration": 93,
    "start_time": "2021-09-07T20:04:05.647Z"
   },
   {
    "duration": 7,
    "start_time": "2021-09-07T20:04:05.741Z"
   },
   {
    "duration": 26,
    "start_time": "2021-09-07T20:04:05.749Z"
   },
   {
    "duration": 22,
    "start_time": "2021-09-07T20:04:05.779Z"
   },
   {
    "duration": 44,
    "start_time": "2021-09-07T20:04:05.803Z"
   },
   {
    "duration": 41,
    "start_time": "2021-09-07T20:04:05.849Z"
   },
   {
    "duration": 40,
    "start_time": "2021-09-07T20:04:05.892Z"
   },
   {
    "duration": 9,
    "start_time": "2021-09-07T20:04:05.934Z"
   },
   {
    "duration": 40,
    "start_time": "2021-09-07T20:04:05.945Z"
   },
   {
    "duration": 46,
    "start_time": "2021-09-07T20:04:05.987Z"
   },
   {
    "duration": 13,
    "start_time": "2021-09-07T20:04:06.035Z"
   },
   {
    "duration": 44,
    "start_time": "2021-09-07T20:04:06.050Z"
   },
   {
    "duration": 92,
    "start_time": "2021-09-07T20:04:06.096Z"
   },
   {
    "duration": 244,
    "start_time": "2021-09-07T20:04:06.190Z"
   },
   {
    "duration": 372,
    "start_time": "2021-09-07T20:04:06.440Z"
   },
   {
    "duration": 322,
    "start_time": "2021-09-07T20:04:06.814Z"
   },
   {
    "duration": 215,
    "start_time": "2021-09-07T20:04:07.141Z"
   },
   {
    "duration": 9,
    "start_time": "2021-09-07T20:04:07.358Z"
   },
   {
    "duration": 148,
    "start_time": "2021-09-07T20:04:07.369Z"
   },
   {
    "duration": 10,
    "start_time": "2021-09-07T20:04:07.519Z"
   },
   {
    "duration": 350,
    "start_time": "2021-09-07T20:04:07.531Z"
   },
   {
    "duration": 10,
    "start_time": "2021-09-07T20:04:07.884Z"
   },
   {
    "duration": 169,
    "start_time": "2021-09-07T20:04:07.896Z"
   },
   {
    "duration": 9,
    "start_time": "2021-09-07T20:04:08.067Z"
   },
   {
    "duration": 524,
    "start_time": "2021-09-07T20:04:08.078Z"
   },
   {
    "duration": 6,
    "start_time": "2021-09-07T20:04:08.604Z"
   },
   {
    "duration": 291,
    "start_time": "2021-09-07T20:04:08.611Z"
   },
   {
    "duration": 5,
    "start_time": "2021-09-07T20:04:08.904Z"
   },
   {
    "duration": 161,
    "start_time": "2021-09-07T20:04:08.911Z"
   },
   {
    "duration": 5,
    "start_time": "2021-09-07T20:04:09.073Z"
   },
   {
    "duration": 353,
    "start_time": "2021-09-07T20:04:09.080Z"
   },
   {
    "duration": 11,
    "start_time": "2021-09-07T20:04:09.435Z"
   },
   {
    "duration": 179,
    "start_time": "2021-09-07T20:04:09.448Z"
   },
   {
    "duration": 197,
    "start_time": "2021-09-07T20:04:09.628Z"
   },
   {
    "duration": 170,
    "start_time": "2021-09-07T20:04:09.826Z"
   },
   {
    "duration": 21,
    "start_time": "2021-09-07T20:04:09.998Z"
   },
   {
    "duration": 27,
    "start_time": "2021-09-07T20:04:10.021Z"
   },
   {
    "duration": 53,
    "start_time": "2021-09-07T20:04:10.051Z"
   },
   {
    "duration": 239,
    "start_time": "2021-09-07T20:04:10.105Z"
   },
   {
    "duration": 10,
    "start_time": "2021-09-07T20:04:10.346Z"
   },
   {
    "duration": 40,
    "start_time": "2021-09-07T20:04:10.358Z"
   },
   {
    "duration": 27,
    "start_time": "2021-09-07T20:04:10.400Z"
   },
   {
    "duration": 216,
    "start_time": "2021-09-07T20:04:10.429Z"
   },
   {
    "duration": 202,
    "start_time": "2021-09-07T20:04:10.647Z"
   },
   {
    "duration": 213,
    "start_time": "2021-09-07T20:04:10.851Z"
   },
   {
    "duration": 215,
    "start_time": "2021-09-07T20:04:11.066Z"
   },
   {
    "duration": 308,
    "start_time": "2021-09-07T20:04:11.283Z"
   },
   {
    "duration": 180,
    "start_time": "2021-09-07T20:04:11.593Z"
   },
   {
    "duration": 528,
    "start_time": "2021-09-07T20:04:11.777Z"
   },
   {
    "duration": 199,
    "start_time": "2021-09-07T20:04:12.307Z"
   },
   {
    "duration": 188,
    "start_time": "2021-09-07T20:04:12.507Z"
   },
   {
    "duration": 214,
    "start_time": "2021-09-07T20:04:12.696Z"
   },
   {
    "duration": 172,
    "start_time": "2021-09-08T15:34:23.202Z"
   },
   {
    "duration": 88,
    "start_time": "2021-09-08T16:05:13.906Z"
   },
   {
    "duration": 88,
    "start_time": "2021-09-08T16:11:44.724Z"
   },
   {
    "duration": 708,
    "start_time": "2021-09-08T16:17:15.941Z"
   },
   {
    "duration": 13,
    "start_time": "2021-09-08T16:17:16.652Z"
   },
   {
    "duration": 6,
    "start_time": "2021-09-08T16:17:16.667Z"
   },
   {
    "duration": 13,
    "start_time": "2021-09-08T16:17:16.676Z"
   },
   {
    "duration": 7,
    "start_time": "2021-09-08T16:17:16.691Z"
   },
   {
    "duration": 51,
    "start_time": "2021-09-08T16:17:16.699Z"
   },
   {
    "duration": 27,
    "start_time": "2021-09-08T16:17:16.751Z"
   },
   {
    "duration": 19,
    "start_time": "2021-09-08T16:17:16.780Z"
   },
   {
    "duration": 4,
    "start_time": "2021-09-08T16:17:16.801Z"
   },
   {
    "duration": 35,
    "start_time": "2021-09-08T16:17:16.807Z"
   },
   {
    "duration": 10,
    "start_time": "2021-09-08T16:17:16.844Z"
   },
   {
    "duration": 4,
    "start_time": "2021-09-08T16:17:16.856Z"
   },
   {
    "duration": 8,
    "start_time": "2021-09-08T16:17:16.861Z"
   },
   {
    "duration": 14,
    "start_time": "2021-09-08T16:17:16.871Z"
   },
   {
    "duration": 12,
    "start_time": "2021-09-08T16:17:16.887Z"
   },
   {
    "duration": 50,
    "start_time": "2021-09-08T16:17:16.901Z"
   },
   {
    "duration": 12,
    "start_time": "2021-09-08T16:17:16.953Z"
   },
   {
    "duration": 11,
    "start_time": "2021-09-08T16:17:16.967Z"
   },
   {
    "duration": 10,
    "start_time": "2021-09-08T16:17:16.979Z"
   },
   {
    "duration": 51,
    "start_time": "2021-09-08T16:17:16.991Z"
   },
   {
    "duration": 77,
    "start_time": "2021-09-08T16:17:17.043Z"
   },
   {
    "duration": 21,
    "start_time": "2021-09-08T16:17:17.121Z"
   },
   {
    "duration": 11,
    "start_time": "2021-09-08T16:17:17.146Z"
   },
   {
    "duration": 11,
    "start_time": "2021-09-08T16:17:17.160Z"
   },
   {
    "duration": 7,
    "start_time": "2021-09-08T16:17:17.172Z"
   },
   {
    "duration": 16,
    "start_time": "2021-09-08T16:17:17.181Z"
   },
   {
    "duration": 16,
    "start_time": "2021-09-08T16:17:17.198Z"
   },
   {
    "duration": 4,
    "start_time": "2021-09-08T16:17:17.241Z"
   },
   {
    "duration": 18,
    "start_time": "2021-09-08T16:17:17.247Z"
   },
   {
    "duration": 21,
    "start_time": "2021-09-08T16:17:17.267Z"
   },
   {
    "duration": 5,
    "start_time": "2021-09-08T16:17:17.290Z"
   },
   {
    "duration": 45,
    "start_time": "2021-09-08T16:17:17.297Z"
   },
   {
    "duration": 77,
    "start_time": "2021-09-08T16:17:17.344Z"
   },
   {
    "duration": 279,
    "start_time": "2021-09-08T16:17:17.422Z"
   },
   {
    "duration": 378,
    "start_time": "2021-09-08T16:17:17.703Z"
   },
   {
    "duration": 331,
    "start_time": "2021-09-08T16:17:18.083Z"
   },
   {
    "duration": 213,
    "start_time": "2021-09-08T16:17:18.415Z"
   },
   {
    "duration": 13,
    "start_time": "2021-09-08T16:17:18.629Z"
   },
   {
    "duration": 138,
    "start_time": "2021-09-08T16:17:18.644Z"
   },
   {
    "duration": 9,
    "start_time": "2021-09-08T16:17:18.784Z"
   },
   {
    "duration": 335,
    "start_time": "2021-09-08T16:17:18.795Z"
   },
   {
    "duration": 16,
    "start_time": "2021-09-08T16:17:19.132Z"
   },
   {
    "duration": 146,
    "start_time": "2021-09-08T16:17:19.149Z"
   },
   {
    "duration": 9,
    "start_time": "2021-09-08T16:17:19.297Z"
   },
   {
    "duration": 455,
    "start_time": "2021-09-08T16:17:19.308Z"
   },
   {
    "duration": 5,
    "start_time": "2021-09-08T16:17:19.765Z"
   },
   {
    "duration": 300,
    "start_time": "2021-09-08T16:17:19.772Z"
   },
   {
    "duration": 5,
    "start_time": "2021-09-08T16:17:20.074Z"
   },
   {
    "duration": 166,
    "start_time": "2021-09-08T16:17:20.081Z"
   },
   {
    "duration": 6,
    "start_time": "2021-09-08T16:17:20.250Z"
   },
   {
    "duration": 367,
    "start_time": "2021-09-08T16:17:20.258Z"
   },
   {
    "duration": 5,
    "start_time": "2021-09-08T16:17:20.627Z"
   },
   {
    "duration": 170,
    "start_time": "2021-09-08T16:17:20.641Z"
   },
   {
    "duration": 181,
    "start_time": "2021-09-08T16:17:20.813Z"
   },
   {
    "duration": 166,
    "start_time": "2021-09-08T16:17:20.996Z"
   },
   {
    "duration": 21,
    "start_time": "2021-09-08T16:17:21.164Z"
   },
   {
    "duration": 6,
    "start_time": "2021-09-08T16:17:21.186Z"
   },
   {
    "duration": 55,
    "start_time": "2021-09-08T16:17:21.194Z"
   },
   {
    "duration": 253,
    "start_time": "2021-09-08T16:17:21.251Z"
   },
   {
    "duration": 8,
    "start_time": "2021-09-08T16:17:21.505Z"
   },
   {
    "duration": 41,
    "start_time": "2021-09-08T16:17:21.515Z"
   },
   {
    "duration": 30,
    "start_time": "2021-09-08T16:17:21.558Z"
   },
   {
    "duration": 229,
    "start_time": "2021-09-08T16:17:21.589Z"
   },
   {
    "duration": 255,
    "start_time": "2021-09-08T16:17:21.819Z"
   },
   {
    "duration": 425,
    "start_time": "2021-09-08T16:17:22.076Z"
   },
   {
    "duration": 228,
    "start_time": "2021-09-08T16:17:22.502Z"
   },
   {
    "duration": 316,
    "start_time": "2021-09-08T16:17:22.732Z"
   },
   {
    "duration": 187,
    "start_time": "2021-09-08T16:17:23.053Z"
   },
   {
    "duration": 527,
    "start_time": "2021-09-08T16:17:23.242Z"
   },
   {
    "duration": 199,
    "start_time": "2021-09-08T16:17:23.770Z"
   },
   {
    "duration": 195,
    "start_time": "2021-09-08T16:17:23.971Z"
   },
   {
    "duration": 210,
    "start_time": "2021-09-08T16:17:24.168Z"
   },
   {
    "duration": 10,
    "start_time": "2021-09-08T16:17:58.322Z"
   },
   {
    "duration": 87,
    "start_time": "2021-09-08T16:38:12.232Z"
   },
   {
    "duration": 9,
    "start_time": "2021-09-08T16:42:06.433Z"
   },
   {
    "duration": 9,
    "start_time": "2021-09-08T16:42:09.323Z"
   },
   {
    "duration": 8,
    "start_time": "2021-09-08T16:42:21.283Z"
   },
   {
    "duration": 8,
    "start_time": "2021-09-08T16:42:25.130Z"
   },
   {
    "duration": 8,
    "start_time": "2021-09-08T16:43:15.300Z"
   },
   {
    "duration": 9,
    "start_time": "2021-09-08T16:43:18.883Z"
   },
   {
    "duration": 8,
    "start_time": "2021-09-08T16:43:26.349Z"
   },
   {
    "duration": 87,
    "start_time": "2021-09-08T16:45:38.807Z"
   },
   {
    "duration": 7,
    "start_time": "2021-09-08T16:45:43.158Z"
   },
   {
    "duration": 801,
    "start_time": "2021-09-08T16:45:55.321Z"
   },
   {
    "duration": 16,
    "start_time": "2021-09-08T16:45:56.125Z"
   },
   {
    "duration": 9,
    "start_time": "2021-09-08T16:45:56.144Z"
   },
   {
    "duration": 18,
    "start_time": "2021-09-08T16:45:56.156Z"
   },
   {
    "duration": 8,
    "start_time": "2021-09-08T16:45:56.176Z"
   },
   {
    "duration": 15,
    "start_time": "2021-09-08T16:45:56.186Z"
   },
   {
    "duration": 62,
    "start_time": "2021-09-08T16:45:56.203Z"
   },
   {
    "duration": 18,
    "start_time": "2021-09-08T16:45:56.267Z"
   },
   {
    "duration": 4,
    "start_time": "2021-09-08T16:45:56.288Z"
   },
   {
    "duration": 16,
    "start_time": "2021-09-08T16:45:56.294Z"
   },
   {
    "duration": 4,
    "start_time": "2021-09-08T16:45:56.311Z"
   },
   {
    "duration": 12,
    "start_time": "2021-09-08T16:45:56.341Z"
   },
   {
    "duration": 15,
    "start_time": "2021-09-08T16:45:56.355Z"
   },
   {
    "duration": 11,
    "start_time": "2021-09-08T16:45:56.372Z"
   },
   {
    "duration": 12,
    "start_time": "2021-09-08T16:45:56.385Z"
   },
   {
    "duration": 50,
    "start_time": "2021-09-08T16:45:56.399Z"
   },
   {
    "duration": 17,
    "start_time": "2021-09-08T16:45:56.451Z"
   },
   {
    "duration": 14,
    "start_time": "2021-09-08T16:45:56.470Z"
   },
   {
    "duration": 22,
    "start_time": "2021-09-08T16:45:56.486Z"
   },
   {
    "duration": 109,
    "start_time": "2021-09-08T16:45:56.509Z"
   },
   {
    "duration": 6,
    "start_time": "2021-09-08T16:45:56.620Z"
   },
   {
    "duration": 16,
    "start_time": "2021-09-08T16:45:56.641Z"
   },
   {
    "duration": 11,
    "start_time": "2021-09-08T16:45:56.659Z"
   },
   {
    "duration": 7,
    "start_time": "2021-09-08T16:45:56.671Z"
   },
   {
    "duration": 15,
    "start_time": "2021-09-08T16:45:56.680Z"
   },
   {
    "duration": 44,
    "start_time": "2021-09-08T16:45:56.697Z"
   },
   {
    "duration": 6,
    "start_time": "2021-09-08T16:45:56.748Z"
   },
   {
    "duration": 21,
    "start_time": "2021-09-08T16:45:56.757Z"
   },
   {
    "duration": 23,
    "start_time": "2021-09-08T16:45:56.781Z"
   },
   {
    "duration": 7,
    "start_time": "2021-09-08T16:45:56.806Z"
   },
   {
    "duration": 51,
    "start_time": "2021-09-08T16:45:56.815Z"
   },
   {
    "duration": 106,
    "start_time": "2021-09-08T16:45:56.868Z"
   },
   {
    "duration": 281,
    "start_time": "2021-09-08T16:45:56.976Z"
   },
   {
    "duration": 938,
    "start_time": "2021-09-08T16:45:57.260Z"
   },
   {
    "duration": 357,
    "start_time": "2021-09-08T16:45:58.200Z"
   },
   {
    "duration": 240,
    "start_time": "2021-09-08T16:45:58.559Z"
   },
   {
    "duration": 8,
    "start_time": "2021-09-08T16:45:58.801Z"
   },
   {
    "duration": 152,
    "start_time": "2021-09-08T16:45:58.811Z"
   },
   {
    "duration": 10,
    "start_time": "2021-09-08T16:45:58.964Z"
   },
   {
    "duration": 360,
    "start_time": "2021-09-08T16:45:58.975Z"
   },
   {
    "duration": 10,
    "start_time": "2021-09-08T16:45:59.340Z"
   },
   {
    "duration": 160,
    "start_time": "2021-09-08T16:45:59.352Z"
   },
   {
    "duration": 11,
    "start_time": "2021-09-08T16:45:59.514Z"
   },
   {
    "duration": 491,
    "start_time": "2021-09-08T16:45:59.527Z"
   },
   {
    "duration": 6,
    "start_time": "2021-09-08T16:46:00.020Z"
   },
   {
    "duration": 323,
    "start_time": "2021-09-08T16:46:00.027Z"
   },
   {
    "duration": 5,
    "start_time": "2021-09-08T16:46:00.352Z"
   },
   {
    "duration": 168,
    "start_time": "2021-09-08T16:46:00.360Z"
   },
   {
    "duration": 11,
    "start_time": "2021-09-08T16:46:00.530Z"
   },
   {
    "duration": 383,
    "start_time": "2021-09-08T16:46:00.543Z"
   },
   {
    "duration": 17,
    "start_time": "2021-09-08T16:46:00.928Z"
   },
   {
    "duration": 172,
    "start_time": "2021-09-08T16:46:00.948Z"
   },
   {
    "duration": 186,
    "start_time": "2021-09-08T16:46:01.121Z"
   },
   {
    "duration": 180,
    "start_time": "2021-09-08T16:46:01.309Z"
   },
   {
    "duration": 21,
    "start_time": "2021-09-08T16:46:01.490Z"
   },
   {
    "duration": 14,
    "start_time": "2021-09-08T16:46:01.513Z"
   },
   {
    "duration": 48,
    "start_time": "2021-09-08T16:46:01.528Z"
   },
   {
    "duration": 276,
    "start_time": "2021-09-08T16:46:01.578Z"
   },
   {
    "duration": 10,
    "start_time": "2021-09-08T16:46:01.857Z"
   },
   {
    "duration": 45,
    "start_time": "2021-09-08T16:46:01.869Z"
   },
   {
    "duration": 42,
    "start_time": "2021-09-08T16:46:01.916Z"
   },
   {
    "duration": 237,
    "start_time": "2021-09-08T16:46:01.960Z"
   },
   {
    "duration": 233,
    "start_time": "2021-09-08T16:46:02.199Z"
   },
   {
    "duration": 244,
    "start_time": "2021-09-08T16:46:02.434Z"
   },
   {
    "duration": 242,
    "start_time": "2021-09-08T16:46:02.681Z"
   },
   {
    "duration": 376,
    "start_time": "2021-09-08T16:46:02.925Z"
   },
   {
    "duration": 199,
    "start_time": "2021-09-08T16:46:03.302Z"
   },
   {
    "duration": 581,
    "start_time": "2021-09-08T16:46:03.503Z"
   },
   {
    "duration": 219,
    "start_time": "2021-09-08T16:46:04.086Z"
   },
   {
    "duration": 215,
    "start_time": "2021-09-08T16:46:04.307Z"
   },
   {
    "duration": 259,
    "start_time": "2021-09-08T16:46:04.524Z"
   },
   {
    "duration": 9,
    "start_time": "2021-09-08T16:46:35.173Z"
   },
   {
    "duration": 757,
    "start_time": "2021-09-08T16:46:59.930Z"
   },
   {
    "duration": 14,
    "start_time": "2021-09-08T16:47:00.690Z"
   },
   {
    "duration": 23,
    "start_time": "2021-09-08T16:47:00.707Z"
   },
   {
    "duration": 23,
    "start_time": "2021-09-08T16:47:00.732Z"
   },
   {
    "duration": 27,
    "start_time": "2021-09-08T16:47:00.757Z"
   },
   {
    "duration": 25,
    "start_time": "2021-09-08T16:47:00.786Z"
   },
   {
    "duration": 42,
    "start_time": "2021-09-08T16:47:00.813Z"
   },
   {
    "duration": 19,
    "start_time": "2021-09-08T16:47:00.858Z"
   },
   {
    "duration": 5,
    "start_time": "2021-09-08T16:47:00.879Z"
   },
   {
    "duration": 26,
    "start_time": "2021-09-08T16:47:00.886Z"
   },
   {
    "duration": 27,
    "start_time": "2021-09-08T16:47:00.914Z"
   },
   {
    "duration": 7,
    "start_time": "2021-09-08T16:47:00.943Z"
   },
   {
    "duration": 46,
    "start_time": "2021-09-08T16:47:00.951Z"
   },
   {
    "duration": 29,
    "start_time": "2021-09-08T16:47:00.999Z"
   },
   {
    "duration": 28,
    "start_time": "2021-09-08T16:47:01.030Z"
   },
   {
    "duration": 32,
    "start_time": "2021-09-08T16:47:01.061Z"
   },
   {
    "duration": 24,
    "start_time": "2021-09-08T16:47:01.096Z"
   },
   {
    "duration": 24,
    "start_time": "2021-09-08T16:47:01.122Z"
   },
   {
    "duration": 39,
    "start_time": "2021-09-08T16:47:01.148Z"
   },
   {
    "duration": 138,
    "start_time": "2021-09-08T16:47:01.190Z"
   },
   {
    "duration": 13,
    "start_time": "2021-09-08T16:47:01.329Z"
   },
   {
    "duration": 30,
    "start_time": "2021-09-08T16:47:01.344Z"
   },
   {
    "duration": 15,
    "start_time": "2021-09-08T16:47:01.380Z"
   },
   {
    "duration": 19,
    "start_time": "2021-09-08T16:47:01.399Z"
   },
   {
    "duration": 26,
    "start_time": "2021-09-08T16:47:01.420Z"
   },
   {
    "duration": 14,
    "start_time": "2021-09-08T16:47:01.448Z"
   },
   {
    "duration": 5,
    "start_time": "2021-09-08T16:47:01.465Z"
   },
   {
    "duration": 19,
    "start_time": "2021-09-08T16:47:01.472Z"
   },
   {
    "duration": 51,
    "start_time": "2021-09-08T16:47:01.493Z"
   },
   {
    "duration": 8,
    "start_time": "2021-09-08T16:47:01.547Z"
   },
   {
    "duration": 32,
    "start_time": "2021-09-08T16:47:01.557Z"
   },
   {
    "duration": 92,
    "start_time": "2021-09-08T16:47:01.591Z"
   },
   {
    "duration": 270,
    "start_time": "2021-09-08T16:47:01.685Z"
   },
   {
    "duration": 728,
    "start_time": "2021-09-08T16:47:01.958Z"
   },
   {
    "duration": 424,
    "start_time": "2021-09-08T16:47:02.741Z"
   },
   {
    "duration": 223,
    "start_time": "2021-09-08T16:47:03.167Z"
   },
   {
    "duration": 9,
    "start_time": "2021-09-08T16:47:03.392Z"
   },
   {
    "duration": 148,
    "start_time": "2021-09-08T16:47:03.402Z"
   },
   {
    "duration": 10,
    "start_time": "2021-09-08T16:47:03.552Z"
   },
   {
    "duration": 347,
    "start_time": "2021-09-08T16:47:03.564Z"
   },
   {
    "duration": 10,
    "start_time": "2021-09-08T16:47:03.914Z"
   },
   {
    "duration": 220,
    "start_time": "2021-09-08T16:47:03.942Z"
   },
   {
    "duration": 13,
    "start_time": "2021-09-08T16:47:04.165Z"
   },
   {
    "duration": 687,
    "start_time": "2021-09-08T16:47:04.181Z"
   },
   {
    "duration": 7,
    "start_time": "2021-09-08T16:47:04.871Z"
   },
   {
    "duration": 464,
    "start_time": "2021-09-08T16:47:04.880Z"
   },
   {
    "duration": 7,
    "start_time": "2021-09-08T16:47:05.346Z"
   },
   {
    "duration": 234,
    "start_time": "2021-09-08T16:47:05.355Z"
   },
   {
    "duration": 5,
    "start_time": "2021-09-08T16:47:05.592Z"
   },
   {
    "duration": 394,
    "start_time": "2021-09-08T16:47:05.599Z"
   },
   {
    "duration": 6,
    "start_time": "2021-09-08T16:47:05.996Z"
   },
   {
    "duration": 176,
    "start_time": "2021-09-08T16:47:06.004Z"
   },
   {
    "duration": 180,
    "start_time": "2021-09-08T16:47:06.182Z"
   },
   {
    "duration": 168,
    "start_time": "2021-09-08T16:47:06.363Z"
   },
   {
    "duration": 22,
    "start_time": "2021-09-08T16:47:06.541Z"
   },
   {
    "duration": 6,
    "start_time": "2021-09-08T16:47:06.565Z"
   },
   {
    "duration": 34,
    "start_time": "2021-09-08T16:47:06.573Z"
   },
   {
    "duration": 273,
    "start_time": "2021-09-08T16:47:06.608Z"
   },
   {
    "duration": 9,
    "start_time": "2021-09-08T16:47:06.883Z"
   },
   {
    "duration": 40,
    "start_time": "2021-09-08T16:47:06.893Z"
   },
   {
    "duration": 31,
    "start_time": "2021-09-08T16:47:06.941Z"
   },
   {
    "duration": 235,
    "start_time": "2021-09-08T16:47:06.974Z"
   },
   {
    "duration": 231,
    "start_time": "2021-09-08T16:47:07.210Z"
   },
   {
    "duration": 231,
    "start_time": "2021-09-08T16:47:07.442Z"
   },
   {
    "duration": 227,
    "start_time": "2021-09-08T16:47:07.675Z"
   },
   {
    "duration": 326,
    "start_time": "2021-09-08T16:47:07.904Z"
   },
   {
    "duration": 194,
    "start_time": "2021-09-08T16:47:08.232Z"
   },
   {
    "duration": 556,
    "start_time": "2021-09-08T16:47:08.431Z"
   },
   {
    "duration": 203,
    "start_time": "2021-09-08T16:47:08.990Z"
   },
   {
    "duration": 197,
    "start_time": "2021-09-08T16:47:09.195Z"
   },
   {
    "duration": 217,
    "start_time": "2021-09-08T16:47:09.394Z"
   },
   {
    "duration": 99,
    "start_time": "2021-09-08T16:54:24.834Z"
   },
   {
    "duration": 84,
    "start_time": "2021-09-08T16:57:37.901Z"
   },
   {
    "duration": 91,
    "start_time": "2021-09-08T17:05:21.134Z"
   },
   {
    "duration": 380,
    "start_time": "2021-09-08T17:09:50.797Z"
   },
   {
    "duration": 12,
    "start_time": "2021-09-08T17:10:19.196Z"
   },
   {
    "duration": 6,
    "start_time": "2021-09-08T17:10:25.332Z"
   },
   {
    "duration": 91,
    "start_time": "2021-09-08T17:18:57.664Z"
   },
   {
    "duration": 312,
    "start_time": "2021-09-08T17:21:28.367Z"
   },
   {
    "duration": 315,
    "start_time": "2021-09-08T17:21:33.528Z"
   },
   {
    "duration": 722,
    "start_time": "2021-09-08T17:22:03.934Z"
   },
   {
    "duration": 11,
    "start_time": "2021-09-08T17:22:04.658Z"
   },
   {
    "duration": 6,
    "start_time": "2021-09-08T17:22:04.671Z"
   },
   {
    "duration": 26,
    "start_time": "2021-09-08T17:22:04.679Z"
   },
   {
    "duration": 9,
    "start_time": "2021-09-08T17:22:04.707Z"
   },
   {
    "duration": 26,
    "start_time": "2021-09-08T17:22:04.718Z"
   },
   {
    "duration": 29,
    "start_time": "2021-09-08T17:22:04.746Z"
   },
   {
    "duration": 18,
    "start_time": "2021-09-08T17:22:04.777Z"
   },
   {
    "duration": 4,
    "start_time": "2021-09-08T17:22:04.798Z"
   },
   {
    "duration": 38,
    "start_time": "2021-09-08T17:22:04.803Z"
   },
   {
    "duration": 5,
    "start_time": "2021-09-08T17:22:04.842Z"
   },
   {
    "duration": 13,
    "start_time": "2021-09-08T17:22:04.848Z"
   },
   {
    "duration": 28,
    "start_time": "2021-09-08T17:22:04.863Z"
   },
   {
    "duration": 24,
    "start_time": "2021-09-08T17:22:04.893Z"
   },
   {
    "duration": 14,
    "start_time": "2021-09-08T17:22:04.920Z"
   },
   {
    "duration": 19,
    "start_time": "2021-09-08T17:22:04.936Z"
   },
   {
    "duration": 13,
    "start_time": "2021-09-08T17:22:04.957Z"
   },
   {
    "duration": 14,
    "start_time": "2021-09-08T17:22:04.972Z"
   },
   {
    "duration": 20,
    "start_time": "2021-09-08T17:22:04.987Z"
   },
   {
    "duration": 96,
    "start_time": "2021-09-08T17:22:05.009Z"
   },
   {
    "duration": 7,
    "start_time": "2021-09-08T17:22:05.106Z"
   },
   {
    "duration": 12,
    "start_time": "2021-09-08T17:22:05.114Z"
   },
   {
    "duration": 11,
    "start_time": "2021-09-08T17:22:05.144Z"
   },
   {
    "duration": 10,
    "start_time": "2021-09-08T17:22:05.157Z"
   },
   {
    "duration": 38,
    "start_time": "2021-09-08T17:22:05.168Z"
   },
   {
    "duration": 10,
    "start_time": "2021-09-08T17:22:05.208Z"
   },
   {
    "duration": 6,
    "start_time": "2021-09-08T17:22:05.220Z"
   },
   {
    "duration": 36,
    "start_time": "2021-09-08T17:22:05.228Z"
   },
   {
    "duration": 23,
    "start_time": "2021-09-08T17:22:05.266Z"
   },
   {
    "duration": 6,
    "start_time": "2021-09-08T17:22:05.290Z"
   },
   {
    "duration": 35,
    "start_time": "2021-09-08T17:22:05.298Z"
   },
   {
    "duration": 74,
    "start_time": "2021-09-08T17:22:05.335Z"
   },
   {
    "duration": 259,
    "start_time": "2021-09-08T17:22:05.411Z"
   },
   {
    "duration": 399,
    "start_time": "2021-09-08T17:22:05.672Z"
   },
   {
    "duration": 328,
    "start_time": "2021-09-08T17:22:06.073Z"
   },
   {
    "duration": 214,
    "start_time": "2021-09-08T17:22:06.402Z"
   },
   {
    "duration": 8,
    "start_time": "2021-09-08T17:22:06.618Z"
   },
   {
    "duration": 144,
    "start_time": "2021-09-08T17:22:06.628Z"
   },
   {
    "duration": 10,
    "start_time": "2021-09-08T17:22:06.774Z"
   },
   {
    "duration": 333,
    "start_time": "2021-09-08T17:22:06.786Z"
   },
   {
    "duration": 21,
    "start_time": "2021-09-08T17:22:07.121Z"
   },
   {
    "duration": 149,
    "start_time": "2021-09-08T17:22:07.144Z"
   },
   {
    "duration": 10,
    "start_time": "2021-09-08T17:22:07.294Z"
   },
   {
    "duration": 457,
    "start_time": "2021-09-08T17:22:07.306Z"
   },
   {
    "duration": 5,
    "start_time": "2021-09-08T17:22:07.765Z"
   },
   {
    "duration": 298,
    "start_time": "2021-09-08T17:22:07.772Z"
   },
   {
    "duration": 6,
    "start_time": "2021-09-08T17:22:08.072Z"
   },
   {
    "duration": 162,
    "start_time": "2021-09-08T17:22:08.080Z"
   },
   {
    "duration": 5,
    "start_time": "2021-09-08T17:22:08.245Z"
   },
   {
    "duration": 358,
    "start_time": "2021-09-08T17:22:08.252Z"
   },
   {
    "duration": 6,
    "start_time": "2021-09-08T17:22:08.612Z"
   },
   {
    "duration": 192,
    "start_time": "2021-09-08T17:22:08.620Z"
   },
   {
    "duration": 184,
    "start_time": "2021-09-08T17:22:08.813Z"
   },
   {
    "duration": 168,
    "start_time": "2021-09-08T17:22:08.999Z"
   },
   {
    "duration": 22,
    "start_time": "2021-09-08T17:22:09.169Z"
   },
   {
    "duration": 6,
    "start_time": "2021-09-08T17:22:09.193Z"
   },
   {
    "duration": 53,
    "start_time": "2021-09-08T17:22:09.201Z"
   },
   {
    "duration": 252,
    "start_time": "2021-09-08T17:22:09.256Z"
   },
   {
    "duration": 8,
    "start_time": "2021-09-08T17:22:09.510Z"
   },
   {
    "duration": 39,
    "start_time": "2021-09-08T17:22:09.519Z"
   },
   {
    "duration": 28,
    "start_time": "2021-09-08T17:22:09.560Z"
   },
   {
    "duration": 227,
    "start_time": "2021-09-08T17:22:09.590Z"
   },
   {
    "duration": 234,
    "start_time": "2021-09-08T17:22:09.819Z"
   },
   {
    "duration": 218,
    "start_time": "2021-09-08T17:22:10.054Z"
   },
   {
    "duration": 210,
    "start_time": "2021-09-08T17:22:10.274Z"
   },
   {
    "duration": 324,
    "start_time": "2021-09-08T17:22:10.486Z"
   },
   {
    "duration": 186,
    "start_time": "2021-09-08T17:22:10.811Z"
   },
   {
    "duration": 544,
    "start_time": "2021-09-08T17:22:11.002Z"
   },
   {
    "duration": 196,
    "start_time": "2021-09-08T17:22:11.548Z"
   },
   {
    "duration": 194,
    "start_time": "2021-09-08T17:22:11.746Z"
   },
   {
    "duration": 201,
    "start_time": "2021-09-08T17:22:11.942Z"
   },
   {
    "duration": 844,
    "start_time": "2021-09-08T19:43:12.007Z"
   },
   {
    "duration": 12,
    "start_time": "2021-09-08T19:43:12.853Z"
   },
   {
    "duration": 5,
    "start_time": "2021-09-08T19:43:12.867Z"
   },
   {
    "duration": 26,
    "start_time": "2021-09-08T19:43:12.874Z"
   },
   {
    "duration": 6,
    "start_time": "2021-09-08T19:43:12.902Z"
   },
   {
    "duration": 17,
    "start_time": "2021-09-08T19:43:12.910Z"
   },
   {
    "duration": 25,
    "start_time": "2021-09-08T19:43:12.929Z"
   },
   {
    "duration": 44,
    "start_time": "2021-09-08T19:43:12.958Z"
   },
   {
    "duration": 5,
    "start_time": "2021-09-08T19:43:13.005Z"
   },
   {
    "duration": 12,
    "start_time": "2021-09-08T19:43:13.012Z"
   },
   {
    "duration": 6,
    "start_time": "2021-09-08T19:43:13.025Z"
   },
   {
    "duration": 7,
    "start_time": "2021-09-08T19:43:13.033Z"
   },
   {
    "duration": 13,
    "start_time": "2021-09-08T19:43:13.041Z"
   },
   {
    "duration": 13,
    "start_time": "2021-09-08T19:43:13.092Z"
   },
   {
    "duration": 15,
    "start_time": "2021-09-08T19:43:13.107Z"
   },
   {
    "duration": 17,
    "start_time": "2021-09-08T19:43:13.124Z"
   },
   {
    "duration": 11,
    "start_time": "2021-09-08T19:43:13.143Z"
   },
   {
    "duration": 39,
    "start_time": "2021-09-08T19:43:13.156Z"
   },
   {
    "duration": 22,
    "start_time": "2021-09-08T19:43:13.198Z"
   },
   {
    "duration": 126,
    "start_time": "2021-09-08T19:43:13.222Z"
   },
   {
    "duration": 9,
    "start_time": "2021-09-08T19:43:13.350Z"
   },
   {
    "duration": 13,
    "start_time": "2021-09-08T19:43:13.361Z"
   },
   {
    "duration": 14,
    "start_time": "2021-09-08T19:43:13.395Z"
   },
   {
    "duration": 9,
    "start_time": "2021-09-08T19:43:13.412Z"
   },
   {
    "duration": 16,
    "start_time": "2021-09-08T19:43:13.422Z"
   },
   {
    "duration": 9,
    "start_time": "2021-09-08T19:43:13.440Z"
   },
   {
    "duration": 4,
    "start_time": "2021-09-08T19:43:13.450Z"
   },
   {
    "duration": 13,
    "start_time": "2021-09-08T19:43:13.492Z"
   },
   {
    "duration": 19,
    "start_time": "2021-09-08T19:43:13.507Z"
   },
   {
    "duration": 4,
    "start_time": "2021-09-08T19:43:13.528Z"
   },
   {
    "duration": 25,
    "start_time": "2021-09-08T19:43:13.534Z"
   },
   {
    "duration": 97,
    "start_time": "2021-09-08T19:43:13.561Z"
   },
   {
    "duration": 252,
    "start_time": "2021-09-08T19:43:13.660Z"
   },
   {
    "duration": 384,
    "start_time": "2021-09-08T19:43:13.914Z"
   },
   {
    "duration": 323,
    "start_time": "2021-09-08T19:43:14.300Z"
   },
   {
    "duration": 213,
    "start_time": "2021-09-08T19:43:14.625Z"
   },
   {
    "duration": 7,
    "start_time": "2021-09-08T19:43:14.840Z"
   },
   {
    "duration": 137,
    "start_time": "2021-09-08T19:43:14.849Z"
   },
   {
    "duration": 9,
    "start_time": "2021-09-08T19:43:14.991Z"
   },
   {
    "duration": 315,
    "start_time": "2021-09-08T19:43:15.002Z"
   },
   {
    "duration": 8,
    "start_time": "2021-09-08T19:43:15.319Z"
   },
   {
    "duration": 135,
    "start_time": "2021-09-08T19:43:15.329Z"
   },
   {
    "duration": 10,
    "start_time": "2021-09-08T19:43:15.465Z"
   },
   {
    "duration": 445,
    "start_time": "2021-09-08T19:43:15.476Z"
   },
   {
    "duration": 5,
    "start_time": "2021-09-08T19:43:15.923Z"
   },
   {
    "duration": 297,
    "start_time": "2021-09-08T19:43:15.930Z"
   },
   {
    "duration": 5,
    "start_time": "2021-09-08T19:43:16.229Z"
   },
   {
    "duration": 145,
    "start_time": "2021-09-08T19:43:16.235Z"
   },
   {
    "duration": 10,
    "start_time": "2021-09-08T19:43:16.382Z"
   },
   {
    "duration": 352,
    "start_time": "2021-09-08T19:43:16.393Z"
   },
   {
    "duration": 6,
    "start_time": "2021-09-08T19:43:16.747Z"
   },
   {
    "duration": 165,
    "start_time": "2021-09-08T19:43:16.755Z"
   },
   {
    "duration": 176,
    "start_time": "2021-09-08T19:43:16.923Z"
   },
   {
    "duration": 158,
    "start_time": "2021-09-08T19:43:17.100Z"
   },
   {
    "duration": 35,
    "start_time": "2021-09-08T19:43:17.260Z"
   },
   {
    "duration": 6,
    "start_time": "2021-09-08T19:43:17.297Z"
   },
   {
    "duration": 31,
    "start_time": "2021-09-08T19:43:17.305Z"
   },
   {
    "duration": 256,
    "start_time": "2021-09-08T19:43:17.338Z"
   },
   {
    "duration": 8,
    "start_time": "2021-09-08T19:43:17.596Z"
   },
   {
    "duration": 30,
    "start_time": "2021-09-08T19:43:17.606Z"
   },
   {
    "duration": 27,
    "start_time": "2021-09-08T19:43:17.637Z"
   },
   {
    "duration": 230,
    "start_time": "2021-09-08T19:43:17.665Z"
   },
   {
    "duration": 202,
    "start_time": "2021-09-08T19:43:17.897Z"
   },
   {
    "duration": 206,
    "start_time": "2021-09-08T19:43:18.101Z"
   },
   {
    "duration": 201,
    "start_time": "2021-09-08T19:43:18.308Z"
   },
   {
    "duration": 299,
    "start_time": "2021-09-08T19:43:18.510Z"
   },
   {
    "duration": 175,
    "start_time": "2021-09-08T19:43:18.810Z"
   },
   {
    "duration": 516,
    "start_time": "2021-09-08T19:43:18.990Z"
   },
   {
    "duration": 186,
    "start_time": "2021-09-08T19:43:19.507Z"
   },
   {
    "duration": 179,
    "start_time": "2021-09-08T19:43:19.695Z"
   },
   {
    "duration": 197,
    "start_time": "2021-09-08T19:43:19.875Z"
   },
   {
    "duration": 172,
    "start_time": "2021-09-08T19:53:29.269Z"
   },
   {
    "duration": 174,
    "start_time": "2021-09-08T19:53:47.937Z"
   },
   {
    "duration": 167,
    "start_time": "2021-09-08T19:53:56.807Z"
   },
   {
    "duration": 273,
    "start_time": "2021-09-08T19:54:03.221Z"
   },
   {
    "duration": 168,
    "start_time": "2021-09-08T19:54:09.333Z"
   },
   {
    "duration": 154,
    "start_time": "2021-09-08T19:54:25.689Z"
   },
   {
    "duration": 156,
    "start_time": "2021-09-08T19:54:30.286Z"
   },
   {
    "duration": 164,
    "start_time": "2021-09-08T19:54:33.696Z"
   },
   {
    "duration": 165,
    "start_time": "2021-09-08T19:54:38.861Z"
   },
   {
    "duration": 302,
    "start_time": "2021-09-08T19:54:56.016Z"
   },
   {
    "duration": 182,
    "start_time": "2021-09-08T19:55:32.911Z"
   },
   {
    "duration": 188,
    "start_time": "2021-09-08T19:55:43.191Z"
   },
   {
    "duration": 325,
    "start_time": "2021-09-08T19:57:10.592Z"
   },
   {
    "duration": 297,
    "start_time": "2021-09-08T19:57:24.827Z"
   },
   {
    "duration": 306,
    "start_time": "2021-09-08T19:57:41.700Z"
   },
   {
    "duration": 300,
    "start_time": "2021-09-08T19:57:50.013Z"
   },
   {
    "duration": 442,
    "start_time": "2021-09-08T19:59:38.137Z"
   },
   {
    "duration": 328,
    "start_time": "2021-09-08T20:00:23.673Z"
   },
   {
    "duration": 335,
    "start_time": "2021-09-08T20:01:11.311Z"
   },
   {
    "duration": 303,
    "start_time": "2021-09-08T20:01:24.851Z"
   },
   {
    "duration": 202,
    "start_time": "2021-09-08T20:02:09.091Z"
   },
   {
    "duration": 401,
    "start_time": "2021-09-08T20:02:59.001Z"
   },
   {
    "duration": 481,
    "start_time": "2021-09-08T20:03:23.007Z"
   },
   {
    "duration": 266,
    "start_time": "2021-09-08T20:04:11.871Z"
   },
   {
    "duration": 275,
    "start_time": "2021-09-08T20:04:57.831Z"
   },
   {
    "duration": 301,
    "start_time": "2021-09-08T20:05:02.421Z"
   },
   {
    "duration": 128,
    "start_time": "2021-09-08T20:05:26.465Z"
   },
   {
    "duration": 265,
    "start_time": "2021-09-08T20:05:34.361Z"
   },
   {
    "duration": 145,
    "start_time": "2021-09-08T20:05:53.942Z"
   },
   {
    "duration": 159,
    "start_time": "2021-09-08T20:06:03.959Z"
   },
   {
    "duration": 230,
    "start_time": "2021-09-08T20:06:37.644Z"
   },
   {
    "duration": 579,
    "start_time": "2021-09-08T20:06:57.030Z"
   },
   {
    "duration": 341,
    "start_time": "2021-09-08T20:07:04.127Z"
   },
   {
    "duration": 208,
    "start_time": "2021-09-08T20:07:44.086Z"
   },
   {
    "duration": 219,
    "start_time": "2021-09-08T20:07:48.729Z"
   },
   {
    "duration": 205,
    "start_time": "2021-09-08T20:08:16.199Z"
   },
   {
    "duration": 215,
    "start_time": "2021-09-08T20:08:26.184Z"
   },
   {
    "duration": 179,
    "start_time": "2021-09-08T20:08:38.306Z"
   },
   {
    "duration": 349,
    "start_time": "2021-09-08T20:09:01.726Z"
   },
   {
    "duration": 380,
    "start_time": "2021-09-08T20:17:05.441Z"
   },
   {
    "duration": 695,
    "start_time": "2021-09-08T20:21:47.382Z"
   },
   {
    "duration": 13,
    "start_time": "2021-09-08T20:21:48.079Z"
   },
   {
    "duration": 7,
    "start_time": "2021-09-08T20:21:48.100Z"
   },
   {
    "duration": 19,
    "start_time": "2021-09-08T20:21:48.109Z"
   },
   {
    "duration": 5,
    "start_time": "2021-09-08T20:21:48.129Z"
   },
   {
    "duration": 15,
    "start_time": "2021-09-08T20:21:48.135Z"
   },
   {
    "duration": 23,
    "start_time": "2021-09-08T20:21:48.152Z"
   },
   {
    "duration": 32,
    "start_time": "2021-09-08T20:21:48.177Z"
   },
   {
    "duration": 4,
    "start_time": "2021-09-08T20:21:48.211Z"
   },
   {
    "duration": 11,
    "start_time": "2021-09-08T20:21:48.216Z"
   },
   {
    "duration": 4,
    "start_time": "2021-09-08T20:21:48.228Z"
   },
   {
    "duration": 10,
    "start_time": "2021-09-08T20:21:48.234Z"
   },
   {
    "duration": 14,
    "start_time": "2021-09-08T20:21:48.245Z"
   },
   {
    "duration": 46,
    "start_time": "2021-09-08T20:21:48.261Z"
   },
   {
    "duration": 15,
    "start_time": "2021-09-08T20:21:48.309Z"
   },
   {
    "duration": 13,
    "start_time": "2021-09-08T20:21:48.325Z"
   },
   {
    "duration": 12,
    "start_time": "2021-09-08T20:21:48.340Z"
   },
   {
    "duration": 51,
    "start_time": "2021-09-08T20:21:48.354Z"
   },
   {
    "duration": 80,
    "start_time": "2021-09-08T20:21:48.406Z"
   },
   {
    "duration": 61142,
    "start_time": "2021-09-08T20:20:47.347Z"
   },
   {
    "duration": 61140,
    "start_time": "2021-09-08T20:20:47.350Z"
   },
   {
    "duration": 61138,
    "start_time": "2021-09-08T20:20:47.353Z"
   },
   {
    "duration": 61135,
    "start_time": "2021-09-08T20:20:47.356Z"
   },
   {
    "duration": 61133,
    "start_time": "2021-09-08T20:20:47.359Z"
   },
   {
    "duration": 61131,
    "start_time": "2021-09-08T20:20:47.362Z"
   },
   {
    "duration": 61131,
    "start_time": "2021-09-08T20:20:47.365Z"
   },
   {
    "duration": 61098,
    "start_time": "2021-09-08T20:20:47.399Z"
   },
   {
    "duration": 61094,
    "start_time": "2021-09-08T20:20:47.403Z"
   },
   {
    "duration": 61093,
    "start_time": "2021-09-08T20:20:47.406Z"
   },
   {
    "duration": 61091,
    "start_time": "2021-09-08T20:20:47.409Z"
   },
   {
    "duration": 61089,
    "start_time": "2021-09-08T20:20:47.412Z"
   },
   {
    "duration": 61086,
    "start_time": "2021-09-08T20:20:47.416Z"
   },
   {
    "duration": 61085,
    "start_time": "2021-09-08T20:20:47.419Z"
   },
   {
    "duration": 61083,
    "start_time": "2021-09-08T20:20:47.422Z"
   },
   {
    "duration": 61081,
    "start_time": "2021-09-08T20:20:47.425Z"
   },
   {
    "duration": 61018,
    "start_time": "2021-09-08T20:20:47.489Z"
   },
   {
    "duration": 61017,
    "start_time": "2021-09-08T20:20:47.491Z"
   },
   {
    "duration": 61015,
    "start_time": "2021-09-08T20:20:47.494Z"
   },
   {
    "duration": 61014,
    "start_time": "2021-09-08T20:20:47.496Z"
   },
   {
    "duration": 61006,
    "start_time": "2021-09-08T20:20:47.505Z"
   },
   {
    "duration": 61003,
    "start_time": "2021-09-08T20:20:47.508Z"
   },
   {
    "duration": 61002,
    "start_time": "2021-09-08T20:20:47.510Z"
   },
   {
    "duration": 61000,
    "start_time": "2021-09-08T20:20:47.513Z"
   },
   {
    "duration": 60998,
    "start_time": "2021-09-08T20:20:47.515Z"
   },
   {
    "duration": 60995,
    "start_time": "2021-09-08T20:20:47.519Z"
   },
   {
    "duration": 60994,
    "start_time": "2021-09-08T20:20:47.521Z"
   },
   {
    "duration": 60983,
    "start_time": "2021-09-08T20:20:47.533Z"
   },
   {
    "duration": 60981,
    "start_time": "2021-09-08T20:20:47.536Z"
   },
   {
    "duration": 60980,
    "start_time": "2021-09-08T20:20:47.538Z"
   },
   {
    "duration": 60978,
    "start_time": "2021-09-08T20:20:47.541Z"
   },
   {
    "duration": 60977,
    "start_time": "2021-09-08T20:20:47.543Z"
   },
   {
    "duration": 60975,
    "start_time": "2021-09-08T20:20:47.546Z"
   },
   {
    "duration": 60975,
    "start_time": "2021-09-08T20:20:47.548Z"
   },
   {
    "duration": 60974,
    "start_time": "2021-09-08T20:20:47.551Z"
   },
   {
    "duration": 60973,
    "start_time": "2021-09-08T20:20:47.554Z"
   },
   {
    "duration": 60971,
    "start_time": "2021-09-08T20:20:47.557Z"
   },
   {
    "duration": 60970,
    "start_time": "2021-09-08T20:20:47.559Z"
   },
   {
    "duration": 60969,
    "start_time": "2021-09-08T20:20:47.562Z"
   },
   {
    "duration": 60968,
    "start_time": "2021-09-08T20:20:47.564Z"
   },
   {
    "duration": 60967,
    "start_time": "2021-09-08T20:20:47.567Z"
   },
   {
    "duration": 60962,
    "start_time": "2021-09-08T20:20:47.573Z"
   },
   {
    "duration": 61016,
    "start_time": "2021-09-08T20:20:47.576Z"
   },
   {
    "duration": 61019,
    "start_time": "2021-09-08T20:20:47.578Z"
   },
   {
    "duration": 61017,
    "start_time": "2021-09-08T20:20:47.581Z"
   },
   {
    "duration": 61015,
    "start_time": "2021-09-08T20:20:47.584Z"
   },
   {
    "duration": 61013,
    "start_time": "2021-09-08T20:20:47.587Z"
   },
   {
    "duration": 61012,
    "start_time": "2021-09-08T20:20:47.589Z"
   },
   {
    "duration": 61010,
    "start_time": "2021-09-08T20:20:47.591Z"
   },
   {
    "duration": 61008,
    "start_time": "2021-09-08T20:20:47.594Z"
   },
   {
    "duration": 61006,
    "start_time": "2021-09-08T20:20:47.597Z"
   },
   {
    "duration": 61005,
    "start_time": "2021-09-08T20:20:47.599Z"
   },
   {
    "duration": 289,
    "start_time": "2021-09-08T20:22:15.115Z"
   },
   {
    "duration": 707,
    "start_time": "2021-09-08T20:22:20.792Z"
   },
   {
    "duration": 14,
    "start_time": "2021-09-08T20:22:21.502Z"
   },
   {
    "duration": 5,
    "start_time": "2021-09-08T20:22:21.518Z"
   },
   {
    "duration": 14,
    "start_time": "2021-09-08T20:22:21.525Z"
   },
   {
    "duration": 4,
    "start_time": "2021-09-08T20:22:21.541Z"
   },
   {
    "duration": 17,
    "start_time": "2021-09-08T20:22:21.546Z"
   },
   {
    "duration": 57,
    "start_time": "2021-09-08T20:22:21.564Z"
   },
   {
    "duration": 18,
    "start_time": "2021-09-08T20:22:21.623Z"
   },
   {
    "duration": 4,
    "start_time": "2021-09-08T20:22:21.643Z"
   },
   {
    "duration": 19,
    "start_time": "2021-09-08T20:22:21.649Z"
   },
   {
    "duration": 26,
    "start_time": "2021-09-08T20:22:21.670Z"
   },
   {
    "duration": 16,
    "start_time": "2021-09-08T20:22:21.700Z"
   },
   {
    "duration": 29,
    "start_time": "2021-09-08T20:22:21.718Z"
   },
   {
    "duration": 24,
    "start_time": "2021-09-08T20:22:21.749Z"
   },
   {
    "duration": 14,
    "start_time": "2021-09-08T20:22:21.775Z"
   },
   {
    "duration": 27,
    "start_time": "2021-09-08T20:22:21.790Z"
   },
   {
    "duration": 20,
    "start_time": "2021-09-08T20:22:21.819Z"
   },
   {
    "duration": 28,
    "start_time": "2021-09-08T20:22:21.840Z"
   },
   {
    "duration": 97,
    "start_time": "2021-09-08T20:22:21.870Z"
   },
   {
    "duration": 61027,
    "start_time": "2021-09-08T20:21:20.944Z"
   },
   {
    "duration": 61025,
    "start_time": "2021-09-08T20:21:20.947Z"
   },
   {
    "duration": 61022,
    "start_time": "2021-09-08T20:21:20.950Z"
   },
   {
    "duration": 61020,
    "start_time": "2021-09-08T20:21:20.953Z"
   },
   {
    "duration": 61018,
    "start_time": "2021-09-08T20:21:20.956Z"
   },
   {
    "duration": 61016,
    "start_time": "2021-09-08T20:21:20.959Z"
   },
   {
    "duration": 61014,
    "start_time": "2021-09-08T20:21:20.961Z"
   },
   {
    "duration": 61012,
    "start_time": "2021-09-08T20:21:20.964Z"
   },
   {
    "duration": 61010,
    "start_time": "2021-09-08T20:21:20.967Z"
   },
   {
    "duration": 61009,
    "start_time": "2021-09-08T20:21:20.969Z"
   },
   {
    "duration": 61007,
    "start_time": "2021-09-08T20:21:20.972Z"
   },
   {
    "duration": 61006,
    "start_time": "2021-09-08T20:21:20.974Z"
   },
   {
    "duration": 61004,
    "start_time": "2021-09-08T20:21:20.977Z"
   },
   {
    "duration": 61002,
    "start_time": "2021-09-08T20:21:20.979Z"
   },
   {
    "duration": 61000,
    "start_time": "2021-09-08T20:21:20.982Z"
   },
   {
    "duration": 60999,
    "start_time": "2021-09-08T20:21:20.984Z"
   },
   {
    "duration": 60997,
    "start_time": "2021-09-08T20:21:20.987Z"
   },
   {
    "duration": 60996,
    "start_time": "2021-09-08T20:21:20.989Z"
   },
   {
    "duration": 60994,
    "start_time": "2021-09-08T20:21:20.992Z"
   },
   {
    "duration": 60992,
    "start_time": "2021-09-08T20:21:20.994Z"
   },
   {
    "duration": 60990,
    "start_time": "2021-09-08T20:21:20.997Z"
   },
   {
    "duration": 60989,
    "start_time": "2021-09-08T20:21:20.999Z"
   },
   {
    "duration": 60987,
    "start_time": "2021-09-08T20:21:21.002Z"
   },
   {
    "duration": 60986,
    "start_time": "2021-09-08T20:21:21.004Z"
   },
   {
    "duration": 60986,
    "start_time": "2021-09-08T20:21:21.006Z"
   },
   {
    "duration": 60984,
    "start_time": "2021-09-08T20:21:21.009Z"
   },
   {
    "duration": 60982,
    "start_time": "2021-09-08T20:21:21.011Z"
   },
   {
    "duration": 60980,
    "start_time": "2021-09-08T20:21:21.014Z"
   },
   {
    "duration": 60979,
    "start_time": "2021-09-08T20:21:21.016Z"
   },
   {
    "duration": 60978,
    "start_time": "2021-09-08T20:21:21.018Z"
   },
   {
    "duration": 60976,
    "start_time": "2021-09-08T20:21:21.021Z"
   },
   {
    "duration": 60975,
    "start_time": "2021-09-08T20:21:21.023Z"
   },
   {
    "duration": 60973,
    "start_time": "2021-09-08T20:21:21.026Z"
   },
   {
    "duration": 60971,
    "start_time": "2021-09-08T20:21:21.029Z"
   },
   {
    "duration": 60971,
    "start_time": "2021-09-08T20:21:21.031Z"
   },
   {
    "duration": 60970,
    "start_time": "2021-09-08T20:21:21.033Z"
   },
   {
    "duration": 60969,
    "start_time": "2021-09-08T20:21:21.036Z"
   },
   {
    "duration": 60968,
    "start_time": "2021-09-08T20:21:21.038Z"
   },
   {
    "duration": 60966,
    "start_time": "2021-09-08T20:21:21.041Z"
   },
   {
    "duration": 60958,
    "start_time": "2021-09-08T20:21:21.051Z"
   },
   {
    "duration": 60956,
    "start_time": "2021-09-08T20:21:21.054Z"
   },
   {
    "duration": 60955,
    "start_time": "2021-09-08T20:21:21.056Z"
   },
   {
    "duration": 60953,
    "start_time": "2021-09-08T20:21:21.059Z"
   },
   {
    "duration": 60952,
    "start_time": "2021-09-08T20:21:21.061Z"
   },
   {
    "duration": 60950,
    "start_time": "2021-09-08T20:21:21.064Z"
   },
   {
    "duration": 60949,
    "start_time": "2021-09-08T20:21:21.066Z"
   },
   {
    "duration": 60947,
    "start_time": "2021-09-08T20:21:21.069Z"
   },
   {
    "duration": 60946,
    "start_time": "2021-09-08T20:21:21.071Z"
   },
   {
    "duration": 60944,
    "start_time": "2021-09-08T20:21:21.074Z"
   },
   {
    "duration": 60943,
    "start_time": "2021-09-08T20:21:21.076Z"
   },
   {
    "duration": 60943,
    "start_time": "2021-09-08T20:21:21.078Z"
   },
   {
    "duration": 60942,
    "start_time": "2021-09-08T20:21:21.080Z"
   },
   {
    "duration": 729,
    "start_time": "2021-09-08T20:22:40.856Z"
   },
   {
    "duration": 11,
    "start_time": "2021-09-08T20:22:41.587Z"
   },
   {
    "duration": 15,
    "start_time": "2021-09-08T20:22:41.600Z"
   },
   {
    "duration": 23,
    "start_time": "2021-09-08T20:22:41.617Z"
   },
   {
    "duration": 10,
    "start_time": "2021-09-08T20:22:41.641Z"
   },
   {
    "duration": 14,
    "start_time": "2021-09-08T20:22:41.653Z"
   },
   {
    "duration": 39,
    "start_time": "2021-09-08T20:22:41.669Z"
   },
   {
    "duration": 18,
    "start_time": "2021-09-08T20:22:41.711Z"
   },
   {
    "duration": 4,
    "start_time": "2021-09-08T20:22:41.731Z"
   },
   {
    "duration": 11,
    "start_time": "2021-09-08T20:22:41.737Z"
   },
   {
    "duration": 5,
    "start_time": "2021-09-08T20:22:41.750Z"
   },
   {
    "duration": 19,
    "start_time": "2021-09-08T20:22:41.792Z"
   },
   {
    "duration": 15,
    "start_time": "2021-09-08T20:22:41.813Z"
   },
   {
    "duration": 11,
    "start_time": "2021-09-08T20:22:41.829Z"
   },
   {
    "duration": 13,
    "start_time": "2021-09-08T20:22:41.842Z"
   },
   {
    "duration": 40,
    "start_time": "2021-09-08T20:22:41.856Z"
   },
   {
    "duration": 13,
    "start_time": "2021-09-08T20:22:41.898Z"
   },
   {
    "duration": 10,
    "start_time": "2021-09-08T20:22:41.913Z"
   },
   {
    "duration": 87,
    "start_time": "2021-09-08T20:22:41.924Z"
   },
   {
    "duration": 61123,
    "start_time": "2021-09-08T20:21:40.891Z"
   },
   {
    "duration": 61121,
    "start_time": "2021-09-08T20:21:40.894Z"
   },
   {
    "duration": 61117,
    "start_time": "2021-09-08T20:21:40.899Z"
   },
   {
    "duration": 61116,
    "start_time": "2021-09-08T20:21:40.901Z"
   },
   {
    "duration": 61114,
    "start_time": "2021-09-08T20:21:40.904Z"
   },
   {
    "duration": 61110,
    "start_time": "2021-09-08T20:21:40.909Z"
   },
   {
    "duration": 61108,
    "start_time": "2021-09-08T20:21:40.912Z"
   },
   {
    "duration": 61105,
    "start_time": "2021-09-08T20:21:40.916Z"
   },
   {
    "duration": 61059,
    "start_time": "2021-09-08T20:21:40.963Z"
   },
   {
    "duration": 61056,
    "start_time": "2021-09-08T20:21:40.967Z"
   },
   {
    "duration": 61055,
    "start_time": "2021-09-08T20:21:40.969Z"
   },
   {
    "duration": 61053,
    "start_time": "2021-09-08T20:21:40.972Z"
   },
   {
    "duration": 61051,
    "start_time": "2021-09-08T20:21:40.975Z"
   },
   {
    "duration": 61051,
    "start_time": "2021-09-08T20:21:40.977Z"
   },
   {
    "duration": 61049,
    "start_time": "2021-09-08T20:21:40.980Z"
   },
   {
    "duration": 61047,
    "start_time": "2021-09-08T20:21:40.983Z"
   },
   {
    "duration": 61046,
    "start_time": "2021-09-08T20:21:40.985Z"
   },
   {
    "duration": 61044,
    "start_time": "2021-09-08T20:21:40.988Z"
   },
   {
    "duration": 61043,
    "start_time": "2021-09-08T20:21:40.990Z"
   },
   {
    "duration": 61041,
    "start_time": "2021-09-08T20:21:40.993Z"
   },
   {
    "duration": 61040,
    "start_time": "2021-09-08T20:21:40.995Z"
   },
   {
    "duration": 61038,
    "start_time": "2021-09-08T20:21:40.998Z"
   },
   {
    "duration": 61037,
    "start_time": "2021-09-08T20:21:41.000Z"
   },
   {
    "duration": 61036,
    "start_time": "2021-09-08T20:21:41.003Z"
   },
   {
    "duration": 61035,
    "start_time": "2021-09-08T20:21:41.005Z"
   },
   {
    "duration": 61032,
    "start_time": "2021-09-08T20:21:41.008Z"
   },
   {
    "duration": 61032,
    "start_time": "2021-09-08T20:21:41.010Z"
   },
   {
    "duration": 61030,
    "start_time": "2021-09-08T20:21:41.013Z"
   },
   {
    "duration": 61028,
    "start_time": "2021-09-08T20:21:41.015Z"
   },
   {
    "duration": 61026,
    "start_time": "2021-09-08T20:21:41.018Z"
   },
   {
    "duration": 61025,
    "start_time": "2021-09-08T20:21:41.020Z"
   },
   {
    "duration": 61023,
    "start_time": "2021-09-08T20:21:41.023Z"
   },
   {
    "duration": 61022,
    "start_time": "2021-09-08T20:21:41.025Z"
   },
   {
    "duration": 61019,
    "start_time": "2021-09-08T20:21:41.028Z"
   },
   {
    "duration": 61017,
    "start_time": "2021-09-08T20:21:41.031Z"
   },
   {
    "duration": 61016,
    "start_time": "2021-09-08T20:21:41.033Z"
   },
   {
    "duration": 61013,
    "start_time": "2021-09-08T20:21:41.036Z"
   },
   {
    "duration": 61010,
    "start_time": "2021-09-08T20:21:41.040Z"
   },
   {
    "duration": 61008,
    "start_time": "2021-09-08T20:21:41.043Z"
   },
   {
    "duration": 61004,
    "start_time": "2021-09-08T20:21:41.047Z"
   },
   {
    "duration": 61039,
    "start_time": "2021-09-08T20:21:41.054Z"
   },
   {
    "duration": 61037,
    "start_time": "2021-09-08T20:21:41.057Z"
   },
   {
    "duration": 61036,
    "start_time": "2021-09-08T20:21:41.059Z"
   },
   {
    "duration": 61034,
    "start_time": "2021-09-08T20:21:41.062Z"
   },
   {
    "duration": 61028,
    "start_time": "2021-09-08T20:21:41.069Z"
   },
   {
    "duration": 61025,
    "start_time": "2021-09-08T20:21:41.073Z"
   },
   {
    "duration": 61026,
    "start_time": "2021-09-08T20:21:41.075Z"
   },
   {
    "duration": 61021,
    "start_time": "2021-09-08T20:21:41.081Z"
   },
   {
    "duration": 61021,
    "start_time": "2021-09-08T20:21:41.083Z"
   },
   {
    "duration": 61016,
    "start_time": "2021-09-08T20:21:41.089Z"
   },
   {
    "duration": 61016,
    "start_time": "2021-09-08T20:21:41.091Z"
   },
   {
    "duration": 61015,
    "start_time": "2021-09-08T20:21:41.094Z"
   },
   {
    "duration": 684,
    "start_time": "2021-09-08T20:23:22.403Z"
   },
   {
    "duration": 13,
    "start_time": "2021-09-08T20:23:23.089Z"
   },
   {
    "duration": 6,
    "start_time": "2021-09-08T20:23:23.104Z"
   },
   {
    "duration": 14,
    "start_time": "2021-09-08T20:23:23.112Z"
   },
   {
    "duration": 4,
    "start_time": "2021-09-08T20:23:23.128Z"
   },
   {
    "duration": 15,
    "start_time": "2021-09-08T20:23:23.133Z"
   },
   {
    "duration": 53,
    "start_time": "2021-09-08T20:23:23.150Z"
   },
   {
    "duration": 23,
    "start_time": "2021-09-08T20:23:23.206Z"
   },
   {
    "duration": 5,
    "start_time": "2021-09-08T20:23:23.232Z"
   },
   {
    "duration": 15,
    "start_time": "2021-09-08T20:23:23.240Z"
   },
   {
    "duration": 5,
    "start_time": "2021-09-08T20:23:23.257Z"
   },
   {
    "duration": 33,
    "start_time": "2021-09-08T20:23:23.264Z"
   },
   {
    "duration": 18,
    "start_time": "2021-09-08T20:23:23.301Z"
   },
   {
    "duration": 15,
    "start_time": "2021-09-08T20:23:23.321Z"
   },
   {
    "duration": 16,
    "start_time": "2021-09-08T20:23:23.338Z"
   },
   {
    "duration": 48,
    "start_time": "2021-09-08T20:23:23.356Z"
   },
   {
    "duration": 15,
    "start_time": "2021-09-08T20:23:23.406Z"
   },
   {
    "duration": 13,
    "start_time": "2021-09-08T20:23:23.424Z"
   },
   {
    "duration": 19,
    "start_time": "2021-09-08T20:23:23.439Z"
   },
   {
    "duration": 108,
    "start_time": "2021-09-08T20:23:23.459Z"
   },
   {
    "duration": 7,
    "start_time": "2021-09-08T20:23:23.569Z"
   },
   {
    "duration": 21,
    "start_time": "2021-09-08T20:23:23.578Z"
   },
   {
    "duration": 12,
    "start_time": "2021-09-08T20:23:23.601Z"
   },
   {
    "duration": 6,
    "start_time": "2021-09-08T20:23:23.615Z"
   },
   {
    "duration": 11,
    "start_time": "2021-09-08T20:23:23.623Z"
   },
   {
    "duration": 10,
    "start_time": "2021-09-08T20:23:23.636Z"
   },
   {
    "duration": 4,
    "start_time": "2021-09-08T20:23:23.650Z"
   },
   {
    "duration": 49,
    "start_time": "2021-09-08T20:23:23.656Z"
   },
   {
    "duration": 26,
    "start_time": "2021-09-08T20:23:23.710Z"
   },
   {
    "duration": 7,
    "start_time": "2021-09-08T20:23:23.738Z"
   },
   {
    "duration": 59,
    "start_time": "2021-09-08T20:23:23.747Z"
   },
   {
    "duration": 72,
    "start_time": "2021-09-08T20:23:23.808Z"
   },
   {
    "duration": 257,
    "start_time": "2021-09-08T20:23:23.882Z"
   },
   {
    "duration": 556,
    "start_time": "2021-09-08T20:23:24.142Z"
   },
   {
    "duration": 377,
    "start_time": "2021-09-08T20:23:24.700Z"
   },
   {
    "duration": 420,
    "start_time": "2021-09-08T20:23:25.079Z"
   },
   {
    "duration": 10,
    "start_time": "2021-09-08T20:23:25.500Z"
   },
   {
    "duration": 135,
    "start_time": "2021-09-08T20:23:25.512Z"
   },
   {
    "duration": 8,
    "start_time": "2021-09-08T20:23:25.649Z"
   },
   {
    "duration": 330,
    "start_time": "2021-09-08T20:23:25.659Z"
   },
   {
    "duration": 10,
    "start_time": "2021-09-08T20:23:25.992Z"
   },
   {
    "duration": 145,
    "start_time": "2021-09-08T20:23:26.004Z"
   },
   {
    "duration": 10,
    "start_time": "2021-09-08T20:23:26.151Z"
   },
   {
    "duration": 571,
    "start_time": "2021-09-08T20:23:26.163Z"
   },
   {
    "duration": 5,
    "start_time": "2021-09-08T20:23:26.736Z"
   },
   {
    "duration": 288,
    "start_time": "2021-09-08T20:23:26.743Z"
   },
   {
    "duration": 4,
    "start_time": "2021-09-08T20:23:27.033Z"
   },
   {
    "duration": 140,
    "start_time": "2021-09-08T20:23:27.039Z"
   },
   {
    "duration": 4,
    "start_time": "2021-09-08T20:23:27.181Z"
   },
   {
    "duration": 273,
    "start_time": "2021-09-08T20:23:27.191Z"
   },
   {
    "duration": 4,
    "start_time": "2021-09-08T20:23:27.466Z"
   },
   {
    "duration": 242,
    "start_time": "2021-09-08T20:23:27.472Z"
   },
   {
    "duration": 174,
    "start_time": "2021-09-08T20:23:27.715Z"
   },
   {
    "duration": 158,
    "start_time": "2021-09-08T20:23:27.891Z"
   },
   {
    "duration": 110,
    "start_time": "2021-09-08T20:23:28.051Z"
   },
   {
    "duration": 61183,
    "start_time": "2021-09-08T20:22:26.979Z"
   },
   {
    "duration": 61182,
    "start_time": "2021-09-08T20:22:26.982Z"
   },
   {
    "duration": 61178,
    "start_time": "2021-09-08T20:22:26.986Z"
   },
   {
    "duration": 61176,
    "start_time": "2021-09-08T20:22:26.989Z"
   },
   {
    "duration": 61174,
    "start_time": "2021-09-08T20:22:26.992Z"
   },
   {
    "duration": 61173,
    "start_time": "2021-09-08T20:22:26.994Z"
   },
   {
    "duration": 61173,
    "start_time": "2021-09-08T20:22:26.996Z"
   },
   {
    "duration": 61171,
    "start_time": "2021-09-08T20:22:26.999Z"
   },
   {
    "duration": 61170,
    "start_time": "2021-09-08T20:22:27.001Z"
   },
   {
    "duration": 61168,
    "start_time": "2021-09-08T20:22:27.004Z"
   },
   {
    "duration": 61167,
    "start_time": "2021-09-08T20:22:27.006Z"
   },
   {
    "duration": 61165,
    "start_time": "2021-09-08T20:22:27.009Z"
   },
   {
    "duration": 61163,
    "start_time": "2021-09-08T20:22:27.011Z"
   },
   {
    "duration": 61162,
    "start_time": "2021-09-08T20:22:27.014Z"
   },
   {
    "duration": 61160,
    "start_time": "2021-09-08T20:22:27.016Z"
   },
   {
    "duration": 61160,
    "start_time": "2021-09-08T20:22:27.018Z"
   },
   {
    "duration": 25,
    "start_time": "2021-09-08T20:23:49.393Z"
   },
   {
    "duration": 7,
    "start_time": "2021-09-08T20:24:03.829Z"
   },
   {
    "duration": 718,
    "start_time": "2021-09-08T20:24:11.364Z"
   },
   {
    "duration": 20,
    "start_time": "2021-09-08T20:24:12.084Z"
   },
   {
    "duration": 8,
    "start_time": "2021-09-08T20:24:12.107Z"
   },
   {
    "duration": 19,
    "start_time": "2021-09-08T20:24:12.117Z"
   },
   {
    "duration": 26,
    "start_time": "2021-09-08T20:24:12.138Z"
   },
   {
    "duration": 20,
    "start_time": "2021-09-08T20:24:12.166Z"
   },
   {
    "duration": 28,
    "start_time": "2021-09-08T20:24:12.188Z"
   },
   {
    "duration": 17,
    "start_time": "2021-09-08T20:24:12.218Z"
   },
   {
    "duration": 4,
    "start_time": "2021-09-08T20:24:12.237Z"
   },
   {
    "duration": 12,
    "start_time": "2021-09-08T20:24:12.242Z"
   },
   {
    "duration": 4,
    "start_time": "2021-09-08T20:24:12.255Z"
   },
   {
    "duration": 39,
    "start_time": "2021-09-08T20:24:12.261Z"
   },
   {
    "duration": 14,
    "start_time": "2021-09-08T20:24:12.302Z"
   },
   {
    "duration": 12,
    "start_time": "2021-09-08T20:24:12.318Z"
   },
   {
    "duration": 12,
    "start_time": "2021-09-08T20:24:12.332Z"
   },
   {
    "duration": 11,
    "start_time": "2021-09-08T20:24:12.346Z"
   },
   {
    "duration": 37,
    "start_time": "2021-09-08T20:24:12.359Z"
   },
   {
    "duration": 12,
    "start_time": "2021-09-08T20:24:12.397Z"
   },
   {
    "duration": 19,
    "start_time": "2021-09-08T20:24:12.411Z"
   },
   {
    "duration": 100,
    "start_time": "2021-09-08T20:24:12.432Z"
   },
   {
    "duration": 7,
    "start_time": "2021-09-08T20:24:12.535Z"
   },
   {
    "duration": 12,
    "start_time": "2021-09-08T20:24:12.544Z"
   },
   {
    "duration": 41,
    "start_time": "2021-09-08T20:24:12.561Z"
   },
   {
    "duration": 7,
    "start_time": "2021-09-08T20:24:12.605Z"
   },
   {
    "duration": 12,
    "start_time": "2021-09-08T20:24:12.614Z"
   },
   {
    "duration": 10,
    "start_time": "2021-09-08T20:24:12.628Z"
   },
   {
    "duration": 4,
    "start_time": "2021-09-08T20:24:12.640Z"
   },
   {
    "duration": 14,
    "start_time": "2021-09-08T20:24:12.645Z"
   },
   {
    "duration": 62,
    "start_time": "2021-09-08T20:24:12.660Z"
   },
   {
    "duration": 6,
    "start_time": "2021-09-08T20:24:12.725Z"
   },
   {
    "duration": 37,
    "start_time": "2021-09-08T20:24:12.733Z"
   },
   {
    "duration": 87,
    "start_time": "2021-09-08T20:24:12.772Z"
   },
   {
    "duration": 196,
    "start_time": "2021-09-08T20:24:12.861Z"
   },
   {
    "duration": 338,
    "start_time": "2021-09-08T20:24:13.059Z"
   },
   {
    "duration": 369,
    "start_time": "2021-09-08T20:24:13.399Z"
   },
   {
    "duration": 204,
    "start_time": "2021-09-08T20:24:13.770Z"
   },
   {
    "duration": 25,
    "start_time": "2021-09-08T20:24:13.975Z"
   },
   {
    "duration": 134,
    "start_time": "2021-09-08T20:24:14.002Z"
   },
   {
    "duration": 11,
    "start_time": "2021-09-08T20:24:14.138Z"
   },
   {
    "duration": 331,
    "start_time": "2021-09-08T20:24:14.151Z"
   },
   {
    "duration": 15,
    "start_time": "2021-09-08T20:24:14.484Z"
   },
   {
    "duration": 149,
    "start_time": "2021-09-08T20:24:14.504Z"
   },
   {
    "duration": 9,
    "start_time": "2021-09-08T20:24:14.655Z"
   },
   {
    "duration": 429,
    "start_time": "2021-09-08T20:24:14.666Z"
   },
   {
    "duration": 11,
    "start_time": "2021-09-08T20:24:15.096Z"
   },
   {
    "duration": 296,
    "start_time": "2021-09-08T20:24:15.110Z"
   },
   {
    "duration": 5,
    "start_time": "2021-09-08T20:24:15.409Z"
   },
   {
    "duration": 139,
    "start_time": "2021-09-08T20:24:15.415Z"
   },
   {
    "duration": 5,
    "start_time": "2021-09-08T20:24:15.556Z"
   },
   {
    "duration": 279,
    "start_time": "2021-09-08T20:24:15.562Z"
   },
   {
    "duration": 4,
    "start_time": "2021-09-08T20:24:15.843Z"
   },
   {
    "duration": 234,
    "start_time": "2021-09-08T20:24:15.848Z"
   },
   {
    "duration": 170,
    "start_time": "2021-09-08T20:24:16.083Z"
   },
   {
    "duration": 157,
    "start_time": "2021-09-08T20:24:16.255Z"
   },
   {
    "duration": 20,
    "start_time": "2021-09-08T20:24:16.414Z"
   },
   {
    "duration": 5,
    "start_time": "2021-09-08T20:24:16.435Z"
   },
   {
    "duration": 30,
    "start_time": "2021-09-08T20:24:16.441Z"
   },
   {
    "duration": 252,
    "start_time": "2021-09-08T20:24:16.473Z"
   },
   {
    "duration": 8,
    "start_time": "2021-09-08T20:24:16.727Z"
   },
   {
    "duration": 30,
    "start_time": "2021-09-08T20:24:16.736Z"
   },
   {
    "duration": 47,
    "start_time": "2021-09-08T20:24:16.768Z"
   },
   {
    "duration": 207,
    "start_time": "2021-09-08T20:24:16.817Z"
   },
   {
    "duration": 212,
    "start_time": "2021-09-08T20:24:17.026Z"
   },
   {
    "duration": 199,
    "start_time": "2021-09-08T20:24:17.240Z"
   },
   {
    "duration": 223,
    "start_time": "2021-09-08T20:24:17.440Z"
   },
   {
    "duration": 313,
    "start_time": "2021-09-08T20:24:17.665Z"
   },
   {
    "duration": 183,
    "start_time": "2021-09-08T20:24:17.980Z"
   },
   {
    "duration": 470,
    "start_time": "2021-09-08T20:24:18.168Z"
   },
   {
    "duration": 281,
    "start_time": "2021-09-08T20:24:18.640Z"
   },
   {
    "duration": 187,
    "start_time": "2021-09-08T20:24:18.923Z"
   },
   {
    "duration": 207,
    "start_time": "2021-09-08T20:24:19.111Z"
   },
   {
    "duration": 682,
    "start_time": "2021-09-08T20:29:42.278Z"
   },
   {
    "duration": 10,
    "start_time": "2021-09-08T20:29:42.962Z"
   },
   {
    "duration": 4,
    "start_time": "2021-09-08T20:29:42.974Z"
   },
   {
    "duration": 20,
    "start_time": "2021-09-08T20:29:42.980Z"
   },
   {
    "duration": 4,
    "start_time": "2021-09-08T20:29:43.001Z"
   },
   {
    "duration": 15,
    "start_time": "2021-09-08T20:29:43.006Z"
   },
   {
    "duration": 24,
    "start_time": "2021-09-08T20:29:43.022Z"
   },
   {
    "duration": 43,
    "start_time": "2021-09-08T20:29:43.049Z"
   },
   {
    "duration": 4,
    "start_time": "2021-09-08T20:29:43.095Z"
   },
   {
    "duration": 12,
    "start_time": "2021-09-08T20:29:43.100Z"
   },
   {
    "duration": 3,
    "start_time": "2021-09-08T20:29:43.114Z"
   },
   {
    "duration": 13,
    "start_time": "2021-09-08T20:29:43.119Z"
   },
   {
    "duration": 22,
    "start_time": "2021-09-08T20:29:43.133Z"
   },
   {
    "duration": 10,
    "start_time": "2021-09-08T20:29:43.157Z"
   },
   {
    "duration": 33,
    "start_time": "2021-09-08T20:29:43.169Z"
   },
   {
    "duration": 11,
    "start_time": "2021-09-08T20:29:43.203Z"
   },
   {
    "duration": 14,
    "start_time": "2021-09-08T20:29:43.215Z"
   },
   {
    "duration": 14,
    "start_time": "2021-09-08T20:29:43.230Z"
   },
   {
    "duration": 17,
    "start_time": "2021-09-08T20:29:43.246Z"
   },
   {
    "duration": 100,
    "start_time": "2021-09-08T20:29:43.265Z"
   },
   {
    "duration": 6,
    "start_time": "2021-09-08T20:29:43.367Z"
   },
   {
    "duration": 23,
    "start_time": "2021-09-08T20:29:43.375Z"
   },
   {
    "duration": 13,
    "start_time": "2021-09-08T20:29:43.401Z"
   },
   {
    "duration": 8,
    "start_time": "2021-09-08T20:29:43.416Z"
   },
   {
    "duration": 18,
    "start_time": "2021-09-08T20:29:43.425Z"
   },
   {
    "duration": 10,
    "start_time": "2021-09-08T20:29:43.444Z"
   },
   {
    "duration": 4,
    "start_time": "2021-09-08T20:29:43.455Z"
   },
   {
    "duration": 12,
    "start_time": "2021-09-08T20:29:43.491Z"
   },
   {
    "duration": 19,
    "start_time": "2021-09-08T20:29:43.505Z"
   },
   {
    "duration": 5,
    "start_time": "2021-09-08T20:29:43.525Z"
   },
   {
    "duration": 25,
    "start_time": "2021-09-08T20:29:43.532Z"
   },
   {
    "duration": 93,
    "start_time": "2021-09-08T20:29:43.559Z"
   },
   {
    "duration": 178,
    "start_time": "2021-09-08T20:29:43.654Z"
   },
   {
    "duration": 328,
    "start_time": "2021-09-08T20:29:43.833Z"
   },
   {
    "duration": 368,
    "start_time": "2021-09-08T20:29:44.163Z"
   },
   {
    "duration": 190,
    "start_time": "2021-09-08T20:29:44.533Z"
   },
   {
    "duration": 8,
    "start_time": "2021-09-08T20:29:44.724Z"
   },
   {
    "duration": 133,
    "start_time": "2021-09-08T20:29:44.734Z"
   },
   {
    "duration": 9,
    "start_time": "2021-09-08T20:29:44.868Z"
   },
   {
    "duration": 316,
    "start_time": "2021-09-08T20:29:44.878Z"
   },
   {
    "duration": 9,
    "start_time": "2021-09-08T20:29:45.195Z"
   },
   {
    "duration": 139,
    "start_time": "2021-09-08T20:29:45.206Z"
   },
   {
    "duration": 10,
    "start_time": "2021-09-08T20:29:45.347Z"
   },
   {
    "duration": 394,
    "start_time": "2021-09-08T20:29:45.358Z"
   },
   {
    "duration": 5,
    "start_time": "2021-09-08T20:29:45.753Z"
   },
   {
    "duration": 264,
    "start_time": "2021-09-08T20:29:45.759Z"
   },
   {
    "duration": 5,
    "start_time": "2021-09-08T20:29:46.024Z"
   },
   {
    "duration": 134,
    "start_time": "2021-09-08T20:29:46.030Z"
   },
   {
    "duration": 5,
    "start_time": "2021-09-08T20:29:46.165Z"
   },
   {
    "duration": 268,
    "start_time": "2021-09-08T20:29:46.172Z"
   },
   {
    "duration": 4,
    "start_time": "2021-09-08T20:29:46.442Z"
   },
   {
    "duration": 219,
    "start_time": "2021-09-08T20:29:46.448Z"
   },
   {
    "duration": 159,
    "start_time": "2021-09-08T20:29:46.669Z"
   },
   {
    "duration": 155,
    "start_time": "2021-09-08T20:29:46.831Z"
   },
   {
    "duration": 21,
    "start_time": "2021-09-08T20:29:46.991Z"
   },
   {
    "duration": 6,
    "start_time": "2021-09-08T20:29:47.014Z"
   },
   {
    "duration": 30,
    "start_time": "2021-09-08T20:29:47.022Z"
   },
   {
    "duration": 239,
    "start_time": "2021-09-08T20:29:47.054Z"
   },
   {
    "duration": 8,
    "start_time": "2021-09-08T20:29:47.296Z"
   },
   {
    "duration": 34,
    "start_time": "2021-09-08T20:29:47.306Z"
   },
   {
    "duration": 28,
    "start_time": "2021-09-08T20:29:47.342Z"
   },
   {
    "duration": 282,
    "start_time": "2021-09-08T20:29:47.372Z"
   },
   {
    "duration": 194,
    "start_time": "2021-09-08T20:29:47.656Z"
   },
   {
    "duration": 164,
    "start_time": "2021-09-08T20:29:47.851Z"
   },
   {
    "duration": 203,
    "start_time": "2021-09-08T20:29:48.016Z"
   },
   {
    "duration": 290,
    "start_time": "2021-09-08T20:29:48.221Z"
   },
   {
    "duration": 166,
    "start_time": "2021-09-08T20:29:48.513Z"
   },
   {
    "duration": 581,
    "start_time": "2021-09-08T20:29:48.684Z"
   },
   {
    "duration": 259,
    "start_time": "2021-09-08T20:29:49.267Z"
   },
   {
    "duration": 171,
    "start_time": "2021-09-08T20:29:49.528Z"
   },
   {
    "duration": 191,
    "start_time": "2021-09-08T20:29:49.700Z"
   },
   {
    "duration": 679,
    "start_time": "2021-09-09T18:52:39.854Z"
   },
   {
    "duration": 12,
    "start_time": "2021-09-09T18:52:40.535Z"
   },
   {
    "duration": 5,
    "start_time": "2021-09-09T18:52:40.549Z"
   },
   {
    "duration": 30,
    "start_time": "2021-09-09T18:52:40.556Z"
   },
   {
    "duration": 5,
    "start_time": "2021-09-09T18:52:40.588Z"
   },
   {
    "duration": 19,
    "start_time": "2021-09-09T18:52:40.595Z"
   },
   {
    "duration": 33,
    "start_time": "2021-09-09T18:52:40.616Z"
   },
   {
    "duration": 50,
    "start_time": "2021-09-09T18:52:40.651Z"
   },
   {
    "duration": 4,
    "start_time": "2021-09-09T18:52:40.705Z"
   },
   {
    "duration": 15,
    "start_time": "2021-09-09T18:52:40.711Z"
   },
   {
    "duration": 4,
    "start_time": "2021-09-09T18:52:40.728Z"
   },
   {
    "duration": 11,
    "start_time": "2021-09-09T18:52:40.733Z"
   },
   {
    "duration": 17,
    "start_time": "2021-09-09T18:52:40.746Z"
   },
   {
    "duration": 12,
    "start_time": "2021-09-09T18:52:40.785Z"
   },
   {
    "duration": 13,
    "start_time": "2021-09-09T18:52:40.799Z"
   },
   {
    "duration": 13,
    "start_time": "2021-09-09T18:52:40.813Z"
   },
   {
    "duration": 13,
    "start_time": "2021-09-09T18:52:40.828Z"
   },
   {
    "duration": 43,
    "start_time": "2021-09-09T18:52:40.843Z"
   },
   {
    "duration": 22,
    "start_time": "2021-09-09T18:52:40.888Z"
   },
   {
    "duration": 99,
    "start_time": "2021-09-09T18:52:40.911Z"
   },
   {
    "duration": 6,
    "start_time": "2021-09-09T18:52:41.011Z"
   },
   {
    "duration": 14,
    "start_time": "2021-09-09T18:52:41.019Z"
   },
   {
    "duration": 10,
    "start_time": "2021-09-09T18:52:41.035Z"
   },
   {
    "duration": 9,
    "start_time": "2021-09-09T18:52:41.046Z"
   },
   {
    "duration": 38,
    "start_time": "2021-09-09T18:52:41.056Z"
   },
   {
    "duration": 19,
    "start_time": "2021-09-09T18:52:41.095Z"
   },
   {
    "duration": 4,
    "start_time": "2021-09-09T18:52:41.118Z"
   },
   {
    "duration": 16,
    "start_time": "2021-09-09T18:52:41.124Z"
   },
   {
    "duration": 43,
    "start_time": "2021-09-09T18:52:41.142Z"
   },
   {
    "duration": 5,
    "start_time": "2021-09-09T18:52:41.187Z"
   },
   {
    "duration": 26,
    "start_time": "2021-09-09T18:52:41.194Z"
   },
   {
    "duration": 91,
    "start_time": "2021-09-09T18:52:41.222Z"
   },
   {
    "duration": 215,
    "start_time": "2021-09-09T18:52:41.315Z"
   },
   {
    "duration": 375,
    "start_time": "2021-09-09T18:52:41.531Z"
   },
   {
    "duration": 413,
    "start_time": "2021-09-09T18:52:41.907Z"
   },
   {
    "duration": 225,
    "start_time": "2021-09-09T18:52:42.321Z"
   },
   {
    "duration": 8,
    "start_time": "2021-09-09T18:52:42.548Z"
   },
   {
    "duration": 148,
    "start_time": "2021-09-09T18:52:42.557Z"
   },
   {
    "duration": 10,
    "start_time": "2021-09-09T18:52:42.707Z"
   },
   {
    "duration": 380,
    "start_time": "2021-09-09T18:52:42.719Z"
   },
   {
    "duration": 9,
    "start_time": "2021-09-09T18:52:43.101Z"
   },
   {
    "duration": 165,
    "start_time": "2021-09-09T18:52:43.111Z"
   },
   {
    "duration": 13,
    "start_time": "2021-09-09T18:52:43.278Z"
   },
   {
    "duration": 428,
    "start_time": "2021-09-09T18:52:43.293Z"
   },
   {
    "duration": 5,
    "start_time": "2021-09-09T18:52:43.722Z"
   },
   {
    "duration": 296,
    "start_time": "2021-09-09T18:52:43.729Z"
   },
   {
    "duration": 5,
    "start_time": "2021-09-09T18:52:44.027Z"
   },
   {
    "duration": 153,
    "start_time": "2021-09-09T18:52:44.033Z"
   },
   {
    "duration": 4,
    "start_time": "2021-09-09T18:52:44.188Z"
   },
   {
    "duration": 521,
    "start_time": "2021-09-09T18:52:44.194Z"
   },
   {
    "duration": 6,
    "start_time": "2021-09-09T18:52:44.716Z"
   },
   {
    "duration": 289,
    "start_time": "2021-09-09T18:52:44.723Z"
   },
   {
    "duration": 198,
    "start_time": "2021-09-09T18:52:45.014Z"
   },
   {
    "duration": 173,
    "start_time": "2021-09-09T18:52:45.213Z"
   },
   {
    "duration": 20,
    "start_time": "2021-09-09T18:52:45.388Z"
   },
   {
    "duration": 6,
    "start_time": "2021-09-09T18:52:45.410Z"
   },
   {
    "duration": 37,
    "start_time": "2021-09-09T18:52:45.417Z"
   },
   {
    "duration": 263,
    "start_time": "2021-09-09T18:52:45.456Z"
   },
   {
    "duration": 9,
    "start_time": "2021-09-09T18:52:45.721Z"
   },
   {
    "duration": 27,
    "start_time": "2021-09-09T18:52:45.731Z"
   },
   {
    "duration": 49,
    "start_time": "2021-09-09T18:52:45.760Z"
   },
   {
    "duration": 235,
    "start_time": "2021-09-09T18:52:45.811Z"
   },
   {
    "duration": 235,
    "start_time": "2021-09-09T18:52:46.047Z"
   },
   {
    "duration": 200,
    "start_time": "2021-09-09T18:52:46.284Z"
   },
   {
    "duration": 228,
    "start_time": "2021-09-09T18:52:46.486Z"
   },
   {
    "duration": 328,
    "start_time": "2021-09-09T18:52:46.715Z"
   },
   {
    "duration": 214,
    "start_time": "2021-09-09T18:52:47.045Z"
   },
   {
    "duration": 493,
    "start_time": "2021-09-09T18:52:47.261Z"
   },
   {
    "duration": 290,
    "start_time": "2021-09-09T18:52:47.755Z"
   },
   {
    "duration": 203,
    "start_time": "2021-09-09T18:52:48.047Z"
   },
   {
    "duration": 236,
    "start_time": "2021-09-09T18:52:48.252Z"
   },
   {
    "duration": 70,
    "start_time": "2021-09-09T18:54:58.380Z"
   },
   {
    "duration": 83,
    "start_time": "2021-09-09T18:56:53.701Z"
   },
   {
    "duration": 61,
    "start_time": "2021-09-09T19:01:59.445Z"
   },
   {
    "duration": 67,
    "start_time": "2021-09-09T19:05:33.035Z"
   },
   {
    "duration": 65,
    "start_time": "2021-09-09T19:06:16.184Z"
   },
   {
    "duration": 6,
    "start_time": "2021-09-09T19:09:13.183Z"
   },
   {
    "duration": 648,
    "start_time": "2021-09-09T19:09:22.435Z"
   },
   {
    "duration": 10,
    "start_time": "2021-09-09T19:09:23.085Z"
   },
   {
    "duration": 4,
    "start_time": "2021-09-09T19:09:23.097Z"
   },
   {
    "duration": 11,
    "start_time": "2021-09-09T19:09:23.103Z"
   },
   {
    "duration": 3,
    "start_time": "2021-09-09T19:09:23.116Z"
   },
   {
    "duration": 13,
    "start_time": "2021-09-09T19:09:23.121Z"
   },
   {
    "duration": 56,
    "start_time": "2021-09-09T19:09:23.136Z"
   },
   {
    "duration": 16,
    "start_time": "2021-09-09T19:09:23.195Z"
   },
   {
    "duration": 3,
    "start_time": "2021-09-09T19:09:23.213Z"
   },
   {
    "duration": 11,
    "start_time": "2021-09-09T19:09:23.218Z"
   },
   {
    "duration": 4,
    "start_time": "2021-09-09T19:09:23.230Z"
   },
   {
    "duration": 7,
    "start_time": "2021-09-09T19:09:23.235Z"
   },
   {
    "duration": 42,
    "start_time": "2021-09-09T19:09:23.244Z"
   },
   {
    "duration": 12,
    "start_time": "2021-09-09T19:09:23.287Z"
   },
   {
    "duration": 11,
    "start_time": "2021-09-09T19:09:23.300Z"
   },
   {
    "duration": 11,
    "start_time": "2021-09-09T19:09:23.313Z"
   },
   {
    "duration": 10,
    "start_time": "2021-09-09T19:09:23.325Z"
   },
   {
    "duration": 9,
    "start_time": "2021-09-09T19:09:23.337Z"
   },
   {
    "duration": 53,
    "start_time": "2021-09-09T19:09:23.347Z"
   },
   {
    "duration": 90,
    "start_time": "2021-09-09T19:09:23.401Z"
   },
   {
    "duration": 6,
    "start_time": "2021-09-09T19:09:23.492Z"
   },
   {
    "duration": 10,
    "start_time": "2021-09-09T19:09:23.500Z"
   },
   {
    "duration": 10,
    "start_time": "2021-09-09T19:09:23.514Z"
   },
   {
    "duration": 9,
    "start_time": "2021-09-09T19:09:23.526Z"
   },
   {
    "duration": 15,
    "start_time": "2021-09-09T19:09:23.536Z"
   },
   {
    "duration": 39,
    "start_time": "2021-09-09T19:09:23.553Z"
   },
   {
    "duration": 4,
    "start_time": "2021-09-09T19:09:23.593Z"
   },
   {
    "duration": 13,
    "start_time": "2021-09-09T19:09:23.599Z"
   },
   {
    "duration": 19,
    "start_time": "2021-09-09T19:09:23.614Z"
   },
   {
    "duration": 5,
    "start_time": "2021-09-09T19:09:23.635Z"
   },
   {
    "duration": 49,
    "start_time": "2021-09-09T19:09:23.641Z"
   },
   {
    "duration": 71,
    "start_time": "2021-09-09T19:09:23.692Z"
   },
   {
    "duration": 221,
    "start_time": "2021-09-09T19:09:23.764Z"
   },
   {
    "duration": 358,
    "start_time": "2021-09-09T19:09:23.986Z"
   },
   {
    "duration": 391,
    "start_time": "2021-09-09T19:09:24.346Z"
   },
   {
    "duration": 217,
    "start_time": "2021-09-09T19:09:24.738Z"
   },
   {
    "duration": 8,
    "start_time": "2021-09-09T19:09:24.957Z"
   },
   {
    "duration": 148,
    "start_time": "2021-09-09T19:09:24.966Z"
   },
   {
    "duration": 9,
    "start_time": "2021-09-09T19:09:25.116Z"
   },
   {
    "duration": 471,
    "start_time": "2021-09-09T19:09:25.127Z"
   },
   {
    "duration": 8,
    "start_time": "2021-09-09T19:09:25.600Z"
   },
   {
    "duration": 245,
    "start_time": "2021-09-09T19:09:25.610Z"
   },
   {
    "duration": 34,
    "start_time": "2021-09-09T19:09:25.857Z"
   },
   {
    "duration": 445,
    "start_time": "2021-09-09T19:09:25.893Z"
   },
   {
    "duration": 6,
    "start_time": "2021-09-09T19:09:26.340Z"
   },
   {
    "duration": 309,
    "start_time": "2021-09-09T19:09:26.348Z"
   },
   {
    "duration": 5,
    "start_time": "2021-09-09T19:09:26.659Z"
   },
   {
    "duration": 153,
    "start_time": "2021-09-09T19:09:26.665Z"
   },
   {
    "duration": 5,
    "start_time": "2021-09-09T19:09:26.820Z"
   },
   {
    "duration": 290,
    "start_time": "2021-09-09T19:09:26.826Z"
   },
   {
    "duration": 7,
    "start_time": "2021-09-09T19:09:27.118Z"
   },
   {
    "duration": 9,
    "start_time": "2021-09-09T19:09:27.126Z"
   },
   {
    "duration": 236,
    "start_time": "2021-09-09T19:09:27.137Z"
   },
   {
    "duration": 168,
    "start_time": "2021-09-09T19:09:27.374Z"
   },
   {
    "duration": 161,
    "start_time": "2021-09-09T19:09:27.544Z"
   },
   {
    "duration": 19,
    "start_time": "2021-09-09T19:09:27.707Z"
   },
   {
    "duration": 5,
    "start_time": "2021-09-09T19:09:27.728Z"
   },
   {
    "duration": 51,
    "start_time": "2021-09-09T19:09:27.735Z"
   },
   {
    "duration": 237,
    "start_time": "2021-09-09T19:09:27.788Z"
   },
   {
    "duration": 7,
    "start_time": "2021-09-09T19:09:28.027Z"
   },
   {
    "duration": 27,
    "start_time": "2021-09-09T19:09:28.035Z"
   },
   {
    "duration": 47,
    "start_time": "2021-09-09T19:09:28.064Z"
   },
   {
    "duration": 218,
    "start_time": "2021-09-09T19:09:28.113Z"
   },
   {
    "duration": 218,
    "start_time": "2021-09-09T19:09:28.333Z"
   },
   {
    "duration": 189,
    "start_time": "2021-09-09T19:09:28.553Z"
   },
   {
    "duration": 215,
    "start_time": "2021-09-09T19:09:28.743Z"
   },
   {
    "duration": 307,
    "start_time": "2021-09-09T19:09:28.960Z"
   },
   {
    "duration": 191,
    "start_time": "2021-09-09T19:09:29.272Z"
   },
   {
    "duration": 487,
    "start_time": "2021-09-09T19:09:29.466Z"
   },
   {
    "duration": 286,
    "start_time": "2021-09-09T19:09:29.955Z"
   },
   {
    "duration": 201,
    "start_time": "2021-09-09T19:09:30.242Z"
   },
   {
    "duration": 227,
    "start_time": "2021-09-09T19:09:30.445Z"
   },
   {
    "duration": 11,
    "start_time": "2021-09-09T19:09:51.175Z"
   },
   {
    "duration": 57,
    "start_time": "2021-09-09T19:11:53.580Z"
   },
   {
    "duration": 215,
    "start_time": "2021-09-09T19:15:42.201Z"
   },
   {
    "duration": 209,
    "start_time": "2021-09-09T19:15:49.849Z"
   },
   {
    "duration": 626,
    "start_time": "2021-09-09T19:15:54.649Z"
   },
   {
    "duration": 9,
    "start_time": "2021-09-09T19:15:55.277Z"
   },
   {
    "duration": 10,
    "start_time": "2021-09-09T19:15:55.288Z"
   },
   {
    "duration": 22,
    "start_time": "2021-09-09T19:15:55.300Z"
   },
   {
    "duration": 12,
    "start_time": "2021-09-09T19:15:55.323Z"
   },
   {
    "duration": 19,
    "start_time": "2021-09-09T19:15:55.337Z"
   },
   {
    "duration": 27,
    "start_time": "2021-09-09T19:15:55.357Z"
   },
   {
    "duration": 16,
    "start_time": "2021-09-09T19:15:55.386Z"
   },
   {
    "duration": 4,
    "start_time": "2021-09-09T19:15:55.404Z"
   },
   {
    "duration": 13,
    "start_time": "2021-09-09T19:15:55.409Z"
   },
   {
    "duration": 4,
    "start_time": "2021-09-09T19:15:55.423Z"
   },
   {
    "duration": 12,
    "start_time": "2021-09-09T19:15:55.429Z"
   },
   {
    "duration": 17,
    "start_time": "2021-09-09T19:15:55.443Z"
   },
   {
    "duration": 30,
    "start_time": "2021-09-09T19:15:55.461Z"
   },
   {
    "duration": 12,
    "start_time": "2021-09-09T19:15:55.493Z"
   },
   {
    "duration": 11,
    "start_time": "2021-09-09T19:15:55.506Z"
   },
   {
    "duration": 10,
    "start_time": "2021-09-09T19:15:55.518Z"
   },
   {
    "duration": 9,
    "start_time": "2021-09-09T19:15:55.529Z"
   },
   {
    "duration": 55,
    "start_time": "2021-09-09T19:15:55.539Z"
   },
   {
    "duration": 75,
    "start_time": "2021-09-09T19:15:55.596Z"
   },
   {
    "duration": 16,
    "start_time": "2021-09-09T19:15:55.672Z"
   },
   {
    "duration": 14,
    "start_time": "2021-09-09T19:15:55.689Z"
   },
   {
    "duration": 10,
    "start_time": "2021-09-09T19:15:55.708Z"
   },
   {
    "duration": 13,
    "start_time": "2021-09-09T19:15:55.720Z"
   },
   {
    "duration": 20,
    "start_time": "2021-09-09T19:15:55.735Z"
   },
   {
    "duration": 29,
    "start_time": "2021-09-09T19:15:55.756Z"
   },
   {
    "duration": 4,
    "start_time": "2021-09-09T19:15:55.786Z"
   },
   {
    "duration": 26,
    "start_time": "2021-09-09T19:15:55.791Z"
   },
   {
    "duration": 20,
    "start_time": "2021-09-09T19:15:55.819Z"
   },
   {
    "duration": 4,
    "start_time": "2021-09-09T19:15:55.841Z"
   },
   {
    "duration": 38,
    "start_time": "2021-09-09T19:15:55.847Z"
   },
   {
    "duration": 68,
    "start_time": "2021-09-09T19:15:55.887Z"
   },
   {
    "duration": 203,
    "start_time": "2021-09-09T19:15:55.956Z"
   },
   {
    "duration": 360,
    "start_time": "2021-09-09T19:15:56.161Z"
   },
   {
    "duration": 389,
    "start_time": "2021-09-09T19:15:56.523Z"
   },
   {
    "duration": 219,
    "start_time": "2021-09-09T19:15:56.914Z"
   },
   {
    "duration": 8,
    "start_time": "2021-09-09T19:15:57.135Z"
   },
   {
    "duration": 148,
    "start_time": "2021-09-09T19:15:57.145Z"
   },
   {
    "duration": 8,
    "start_time": "2021-09-09T19:15:57.295Z"
   },
   {
    "duration": 353,
    "start_time": "2021-09-09T19:15:57.305Z"
   },
   {
    "duration": 8,
    "start_time": "2021-09-09T19:15:57.660Z"
   },
   {
    "duration": 151,
    "start_time": "2021-09-09T19:15:57.670Z"
   },
   {
    "duration": 10,
    "start_time": "2021-09-09T19:15:57.823Z"
   },
   {
    "duration": 445,
    "start_time": "2021-09-09T19:15:57.834Z"
   },
   {
    "duration": 6,
    "start_time": "2021-09-09T19:15:58.281Z"
   },
   {
    "duration": 289,
    "start_time": "2021-09-09T19:15:58.289Z"
   },
   {
    "duration": 7,
    "start_time": "2021-09-09T19:15:58.580Z"
   },
   {
    "duration": 142,
    "start_time": "2021-09-09T19:15:58.589Z"
   },
   {
    "duration": 5,
    "start_time": "2021-09-09T19:15:58.733Z"
   },
   {
    "duration": 291,
    "start_time": "2021-09-09T19:15:58.739Z"
   },
   {
    "duration": 5,
    "start_time": "2021-09-09T19:15:59.032Z"
   },
   {
    "duration": 220,
    "start_time": "2021-09-09T19:15:59.038Z"
   },
   {
    "duration": 174,
    "start_time": "2021-09-09T19:15:59.259Z"
   },
   {
    "duration": 165,
    "start_time": "2021-09-09T19:15:59.435Z"
   },
   {
    "duration": 19,
    "start_time": "2021-09-09T19:15:59.602Z"
   },
   {
    "duration": 5,
    "start_time": "2021-09-09T19:15:59.623Z"
   },
   {
    "duration": 33,
    "start_time": "2021-09-09T19:15:59.629Z"
   },
   {
    "duration": 235,
    "start_time": "2021-09-09T19:15:59.663Z"
   },
   {
    "duration": 7,
    "start_time": "2021-09-09T19:15:59.899Z"
   },
   {
    "duration": 27,
    "start_time": "2021-09-09T19:15:59.908Z"
   },
   {
    "duration": 49,
    "start_time": "2021-09-09T19:15:59.937Z"
   },
   {
    "duration": 220,
    "start_time": "2021-09-09T19:15:59.987Z"
   },
   {
    "duration": 218,
    "start_time": "2021-09-09T19:16:00.209Z"
   },
   {
    "duration": 186,
    "start_time": "2021-09-09T19:16:00.429Z"
   },
   {
    "duration": 228,
    "start_time": "2021-09-09T19:16:00.616Z"
   },
   {
    "duration": 312,
    "start_time": "2021-09-09T19:16:00.845Z"
   },
   {
    "duration": 190,
    "start_time": "2021-09-09T19:16:01.158Z"
   },
   {
    "duration": 470,
    "start_time": "2021-09-09T19:16:01.352Z"
   },
   {
    "duration": 273,
    "start_time": "2021-09-09T19:16:01.824Z"
   },
   {
    "duration": 189,
    "start_time": "2021-09-09T19:16:02.099Z"
   },
   {
    "duration": 202,
    "start_time": "2021-09-09T19:16:02.289Z"
   },
   {
    "duration": 682,
    "start_time": "2022-02-10T13:32:35.846Z"
   },
   {
    "duration": 11,
    "start_time": "2022-02-10T13:32:36.530Z"
   },
   {
    "duration": 17,
    "start_time": "2022-02-10T13:32:36.543Z"
   },
   {
    "duration": 23,
    "start_time": "2022-02-10T13:32:36.562Z"
   },
   {
    "duration": 15,
    "start_time": "2022-02-10T13:32:36.586Z"
   },
   {
    "duration": 37,
    "start_time": "2022-02-10T13:32:36.602Z"
   },
   {
    "duration": 32,
    "start_time": "2022-02-10T13:32:36.640Z"
   },
   {
    "duration": 16,
    "start_time": "2022-02-10T13:32:36.675Z"
   },
   {
    "duration": 3,
    "start_time": "2022-02-10T13:32:36.693Z"
   },
   {
    "duration": 38,
    "start_time": "2022-02-10T13:32:36.698Z"
   },
   {
    "duration": 16,
    "start_time": "2022-02-10T13:32:36.737Z"
   },
   {
    "duration": 9,
    "start_time": "2022-02-10T13:32:36.755Z"
   },
   {
    "duration": 29,
    "start_time": "2022-02-10T13:32:36.765Z"
   },
   {
    "duration": 12,
    "start_time": "2022-02-10T13:32:36.796Z"
   },
   {
    "duration": 13,
    "start_time": "2022-02-10T13:32:36.810Z"
   },
   {
    "duration": 12,
    "start_time": "2022-02-10T13:32:36.825Z"
   },
   {
    "duration": 27,
    "start_time": "2022-02-10T13:32:36.838Z"
   },
   {
    "duration": 10,
    "start_time": "2022-02-10T13:32:36.866Z"
   },
   {
    "duration": 25,
    "start_time": "2022-02-10T13:32:36.877Z"
   },
   {
    "duration": 98,
    "start_time": "2022-02-10T13:32:36.904Z"
   },
   {
    "duration": 6,
    "start_time": "2022-02-10T13:32:37.004Z"
   },
   {
    "duration": 13,
    "start_time": "2022-02-10T13:32:37.011Z"
   },
   {
    "duration": 32,
    "start_time": "2022-02-10T13:32:37.028Z"
   },
   {
    "duration": 7,
    "start_time": "2022-02-10T13:32:37.062Z"
   },
   {
    "duration": 17,
    "start_time": "2022-02-10T13:32:37.071Z"
   },
   {
    "duration": 9,
    "start_time": "2022-02-10T13:32:37.089Z"
   },
   {
    "duration": 4,
    "start_time": "2022-02-10T13:32:37.100Z"
   },
   {
    "duration": 16,
    "start_time": "2022-02-10T13:32:37.106Z"
   },
   {
    "duration": 46,
    "start_time": "2022-02-10T13:32:37.124Z"
   },
   {
    "duration": 7,
    "start_time": "2022-02-10T13:32:37.172Z"
   },
   {
    "duration": 29,
    "start_time": "2022-02-10T13:32:37.180Z"
   },
   {
    "duration": 104,
    "start_time": "2022-02-10T13:32:37.211Z"
   },
   {
    "duration": 207,
    "start_time": "2022-02-10T13:32:37.317Z"
   },
   {
    "duration": 355,
    "start_time": "2022-02-10T13:32:37.526Z"
   },
   {
    "duration": 380,
    "start_time": "2022-02-10T13:32:37.883Z"
   },
   {
    "duration": 209,
    "start_time": "2022-02-10T13:32:38.265Z"
   },
   {
    "duration": 7,
    "start_time": "2022-02-10T13:32:38.476Z"
   },
   {
    "duration": 136,
    "start_time": "2022-02-10T13:32:38.485Z"
   },
   {
    "duration": 9,
    "start_time": "2022-02-10T13:32:38.623Z"
   },
   {
    "duration": 347,
    "start_time": "2022-02-10T13:32:38.633Z"
   },
   {
    "duration": 8,
    "start_time": "2022-02-10T13:32:38.983Z"
   },
   {
    "duration": 156,
    "start_time": "2022-02-10T13:32:38.993Z"
   },
   {
    "duration": 14,
    "start_time": "2022-02-10T13:32:39.150Z"
   },
   {
    "duration": 404,
    "start_time": "2022-02-10T13:32:39.165Z"
   },
   {
    "duration": 6,
    "start_time": "2022-02-10T13:32:39.570Z"
   },
   {
    "duration": 290,
    "start_time": "2022-02-10T13:32:39.577Z"
   },
   {
    "duration": 5,
    "start_time": "2022-02-10T13:32:39.869Z"
   },
   {
    "duration": 145,
    "start_time": "2022-02-10T13:32:39.876Z"
   },
   {
    "duration": 5,
    "start_time": "2022-02-10T13:32:40.023Z"
   },
   {
    "duration": 288,
    "start_time": "2022-02-10T13:32:40.030Z"
   },
   {
    "duration": 5,
    "start_time": "2022-02-10T13:32:40.320Z"
   },
   {
    "duration": 237,
    "start_time": "2022-02-10T13:32:40.327Z"
   },
   {
    "duration": 168,
    "start_time": "2022-02-10T13:32:40.566Z"
   },
   {
    "duration": 175,
    "start_time": "2022-02-10T13:32:40.735Z"
   },
   {
    "duration": 22,
    "start_time": "2022-02-10T13:32:40.911Z"
   },
   {
    "duration": 5,
    "start_time": "2022-02-10T13:32:40.935Z"
   },
   {
    "duration": 45,
    "start_time": "2022-02-10T13:32:40.942Z"
   },
   {
    "duration": 248,
    "start_time": "2022-02-10T13:32:40.989Z"
   },
   {
    "duration": 9,
    "start_time": "2022-02-10T13:32:41.239Z"
   },
   {
    "duration": 34,
    "start_time": "2022-02-10T13:32:41.250Z"
   },
   {
    "duration": 59,
    "start_time": "2022-02-10T13:32:41.287Z"
   },
   {
    "duration": 205,
    "start_time": "2022-02-10T13:32:41.348Z"
   },
   {
    "duration": 212,
    "start_time": "2022-02-10T13:32:41.555Z"
   },
   {
    "duration": 193,
    "start_time": "2022-02-10T13:32:41.768Z"
   },
   {
    "duration": 221,
    "start_time": "2022-02-10T13:32:41.962Z"
   },
   {
    "duration": 323,
    "start_time": "2022-02-10T13:32:42.186Z"
   },
   {
    "duration": 192,
    "start_time": "2022-02-10T13:32:42.511Z"
   },
   {
    "duration": 476,
    "start_time": "2022-02-10T13:32:42.708Z"
   },
   {
    "duration": 283,
    "start_time": "2022-02-10T13:32:43.186Z"
   },
   {
    "duration": 190,
    "start_time": "2022-02-10T13:32:43.471Z"
   },
   {
    "duration": 220,
    "start_time": "2022-02-10T13:32:43.663Z"
   }
  ],
  "kernelspec": {
   "display_name": "Python 3",
   "language": "python",
   "name": "python3"
  },
  "language_info": {
   "codemirror_mode": {
    "name": "ipython",
    "version": 3
   },
   "file_extension": ".py",
   "mimetype": "text/x-python",
   "name": "python",
   "nbconvert_exporter": "python",
   "pygments_lexer": "ipython3",
   "version": "3.7.8"
  },
  "toc": {
   "base_numbering": 1,
   "nav_menu": {},
   "number_sections": true,
   "sideBar": true,
   "skip_h1_title": true,
   "title_cell": "Содержание",
   "title_sidebar": "Contents",
   "toc_cell": true,
   "toc_position": {
    "height": "calc(100% - 180px)",
    "left": "10px",
    "top": "150px",
    "width": "349px"
   },
   "toc_section_display": true,
   "toc_window_display": false
  }
 },
 "nbformat": 4,
 "nbformat_minor": 2
}
