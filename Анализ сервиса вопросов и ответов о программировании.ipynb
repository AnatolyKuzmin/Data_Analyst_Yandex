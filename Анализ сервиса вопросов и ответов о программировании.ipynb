{
 "cells": [
  {
   "cell_type": "markdown",
   "metadata": {},
   "source": [
    "<img src=https://kto-ozvuchival.ru/wp-content/uploads/2017/12/kto-ozvuchivaet-toni-starka-na-russkom-800x500.jpg><br>\n",
    "<hr style=\"border: 10px solid green;\" />\n",
    "\n",
    "## <span style=\"color:green\">Финальный комментарий (пожтверждено)<span>\n",
    "\n",
    "Анатолий, спасибо, что изучил материал и за классные комменты🖐\n",
    "    \n",
    "```\n",
    "А сложно это, проверять работы? Много работ приходит? И если не секрет какие плюшки приходят тебе с проверок, ну кроме опыта конечно?    \n",
    "```\n",
    "\n",
    "1. Я бы назвал - это достаточно сложным. Просто когда, работа выполнена верно, когда есть любые ошибки - это поиск, тк проект - ручная индивидуальная работа, то поиск сложен. Да есть типовые ошибки, это делает работу чуть легче 🖐\n",
    "    \n",
    "2. Кол-во работ зависит от объема проверок, а всего приходит достаточно много, студентов в разы больше)\n",
    "\n",
    "3. Как ни странно, но это оплачиваемая работа, так, что кроме опыта еще и 🤑\n",
    "    \n",
    "Желаю дальнейших успехов💪\n",
    " \n",
    "    \n",
    "Поздравляю, проект принят👍"
   ]
  },
  {
   "cell_type": "markdown",
   "metadata": {},
   "source": [
    "<hr style=\"border: 2px solid green;\" />\n",
    "\n",
    "## Комментарий ревьювера\n",
    "\n",
    "Анатолий, привет! \n",
    "\n",
    "🤚Меня зовут, Олег Юрьев, я буду проверять твой проект. Если не против, я буду обращаться к тебе на _ТЫ_ . Если это неприемлемо, обязательно напиши мне в комментариях - мы перейдем на _ВЫ_ .\n",
    "\n",
    "🤝Спасибо, что сдал проект вовремя. Тобой проделана большая работа, молодец! \n",
    "\n",
    "✏️В этой тетрадке ты найдешь мои комментарии.\n",
    "\n",
    "Комментарии будут выделены:\n",
    "\n",
    "<div style=\"border-radius: 15px; box-shadow: 4px 4px 4px; border: solid green 2px; padding: 20px\"> <b>Отличная работа ✅</b><br>\n",
    "    Безупречная работа</div>       \n",
    "<br>\n",
    "<div style=\"border-radius: 15px; box-shadow: 4px 4px 4px; border: solid orange 2px; padding: 20px\"> <b>Что можно улучшить ⚠️</b><br>\n",
    "    Ничего дорабатывать не надо, данные пункты работают нормально, но есть способы улучшить. Несколько таких комментариев допустимы, но более - придется некоторые доработать. Большое кол-во мелких замечаний и помарок сказываются на общем впечатлении от работы.</div>   \n",
    "<br>\n",
    "<div style=\"border-radius: 15px; box-shadow: 4px 4px 4px; border: solid red 2px; padding: 20px\"> <b>Что необходимо доработать ⛔️</b><br>\n",
    "    Такие пункты необходимо исправить в первую очередь, чтобы я смог принять проект.</div>\n",
    " \n",
    "Не удаляй комментарии, так будем следить за динамикой 📈\n",
    "   \n",
    "Давай будем в диалоге - основные цели в диалоге:\n",
    "- обмен опытом (да я тоже учусь у студентов👨‍🎓)\n",
    "- выполнить проект еще лучше\n",
    "- помочь тебе стать аналитиком\n",
    "\n",
    "Поэтому чтобы мне проще было проверять повторно, а тебе контролировать процесс ревью, оставляй свои комментарии и выделяй их. \n",
    "    \n",
    "<div class=\"alert alert-info\" style=\"border:solid blue 2px; padding: 20px\"> <b>Комментарий студента:</b> Например, вот так.</div>\n",
    "   \n",
    "Поехали! :)\n",
    "\n",
    "<hr style=\"border: 2px solid green;\" />"
   ]
  },
  {
   "cell_type": "markdown",
   "metadata": {},
   "source": [
    "<div class=\"alert alert-info\" style=\"border:solid blue 2px; padding: 20px\"> <b>Комментарий студента:</b> 🤝 Привет! Приятно познакомиться. Спасибо за проверку и рекомендаии по решению! А сложно это, проверять работы? Много работ приходит? И если не секрет какие плюшки приходят тебе с проверок, ну кроме опыта конечно? </div>"
   ]
  },
  {
   "cell_type": "markdown",
   "metadata": {
    "id": "sRW85nPMDWKb"
   },
   "source": [
    "В этой части проекта вам нужно написать несколько SQL-запросов в Jupyter Notebook. Эти задания проверят вручную, и вы получите комментарии к составленным запросам. \n",
    "\n",
    "Необходимые данные находятся в таблицах схемы `stackoverflow`. Не забудьте подключиться к базе с помощью SQLAlchemy. Вспомните инструкцию из [урока про представление результатов](https://practicum.yandex.ru/learn/data-analyst-plus/courses/96ccbf7a-b65d-4f51-b5f3-18360ad1e301/sprints/6116/topics/27f7c9a7-a474-4a82-8392-b3f069b26f69/lessons/e12d84bb-ffa8-490c-8bde-0935d86ceccb/). Пример кода для подключения к базе и выгрузки результатов вы найдёте и в этой тетрадке. \n",
    "\n",
    "Некоторые задания включают дополнительные вопросы — не пропустите их. На часть вопросов можно ответить текстом, а для некоторых понадобится визуализация. Помните, что результат запроса можно выгрузить в датафрейм. \n",
    "\n",
    "Чтобы ожидаемый результат было легче представить, мы добавили к каждому заданию небольшой фрагмент итоговой таблицы. В запросах вы можете использовать любые подходящие названия полей."
   ]
  },
  {
   "cell_type": "code",
   "execution_count": 1,
   "metadata": {
    "id": "nlZBlglMDWKe"
   },
   "outputs": [],
   "source": [
    "import pandas as pd\n",
    "import matplotlib.pyplot as plt\n",
    "from sqlalchemy import create_engine\n",
    "import seaborn as sns"
   ]
  },
  {
   "cell_type": "markdown",
   "metadata": {
    "id": "XnOE3n28DWKg"
   },
   "source": [
    "### Конфигурация для подключения к базе данных `data-analyst-advanced-sql`\n",
    "Эта база данных содержит схему `stackoverflow`, с которой вы будете работать в проекте"
   ]
  },
  {
   "cell_type": "code",
   "execution_count": 2,
   "metadata": {
    "id": "6p-yGp7qDWKg"
   },
   "outputs": [],
   "source": [
    "db_config = {\n",
    "    'user': 'praktikum_student', # имя пользователя\n",
    "    'pwd': 'Sdf4$2;d-d30pp', # пароль\n",
    "    'host': 'rc1b-wcoijxj3yxfsf3fs.mdb.yandexcloud.net',\n",
    "    'port': 6432, # порт подключения\n",
    "    'db': 'data-analyst-advanced-sql' # название базы данных\n",
    "}  \n",
    "\n",
    "connection_string = 'postgresql://{}:{}@{}:{}/{}'.format(\n",
    "    db_config['user'],\n",
    "    db_config['pwd'],\n",
    "    db_config['host'],\n",
    "    db_config['port'],\n",
    "    db_config['db'],\n",
    ")"
   ]
  },
  {
   "cell_type": "markdown",
   "metadata": {
    "id": "2Rg8ZpS0DWKh"
   },
   "source": [
    "Создание подключения"
   ]
  },
  {
   "cell_type": "code",
   "execution_count": 3,
   "metadata": {
    "id": "DamCUTR6DWKi"
   },
   "outputs": [],
   "source": [
    "engine = create_engine(connection_string) "
   ]
  },
  {
   "cell_type": "markdown",
   "metadata": {
    "id": "bel8XeSlDWKj"
   },
   "source": [
    "Пример запроса к базе данных\n",
    "\n",
    "`sample_df` является pandas-датафреймом."
   ]
  },
  {
   "cell_type": "code",
   "execution_count": 4,
   "metadata": {
    "id": "6Z_fw0yLDWKk"
   },
   "outputs": [],
   "source": [
    "query = '''\n",
    "SELECT *\n",
    "FROM stackoverflow.users\n",
    "LIMIT 10;\n",
    "'''\n",
    "\n",
    "sample_df = pd.read_sql_query(query, con=engine) "
   ]
  },
  {
   "cell_type": "code",
   "execution_count": 5,
   "metadata": {
    "id": "ZpuZ290oDWKk",
    "outputId": "22785a0a-e2bc-4559-ec3c-4879c4b377eb"
   },
   "outputs": [
    {
     "data": {
      "text/html": [
       "<div>\n",
       "<style scoped>\n",
       "    .dataframe tbody tr th:only-of-type {\n",
       "        vertical-align: middle;\n",
       "    }\n",
       "\n",
       "    .dataframe tbody tr th {\n",
       "        vertical-align: top;\n",
       "    }\n",
       "\n",
       "    .dataframe thead th {\n",
       "        text-align: right;\n",
       "    }\n",
       "</style>\n",
       "<table border=\"1\" class=\"dataframe\">\n",
       "  <thead>\n",
       "    <tr style=\"text-align: right;\">\n",
       "      <th></th>\n",
       "      <th>id</th>\n",
       "      <th>creation_date</th>\n",
       "      <th>display_name</th>\n",
       "      <th>last_access_date</th>\n",
       "      <th>location</th>\n",
       "      <th>reputation</th>\n",
       "      <th>views</th>\n",
       "    </tr>\n",
       "  </thead>\n",
       "  <tbody>\n",
       "    <tr>\n",
       "      <td>0</td>\n",
       "      <td>1</td>\n",
       "      <td>2008-07-31 14:22:31</td>\n",
       "      <td>Jeff Atwood</td>\n",
       "      <td>2018-08-29 02:34:23</td>\n",
       "      <td>El Cerrito, CA</td>\n",
       "      <td>44300</td>\n",
       "      <td>408587</td>\n",
       "    </tr>\n",
       "    <tr>\n",
       "      <td>1</td>\n",
       "      <td>2</td>\n",
       "      <td>2008-07-31 14:22:31</td>\n",
       "      <td>Geoff Dalgas</td>\n",
       "      <td>2018-08-23 17:31:56</td>\n",
       "      <td>Corvallis, OR</td>\n",
       "      <td>3491</td>\n",
       "      <td>23966</td>\n",
       "    </tr>\n",
       "    <tr>\n",
       "      <td>2</td>\n",
       "      <td>3</td>\n",
       "      <td>2008-07-31 14:22:31</td>\n",
       "      <td>Jarrod Dixon</td>\n",
       "      <td>2018-08-30 20:56:24</td>\n",
       "      <td>Raleigh, NC, United States</td>\n",
       "      <td>13418</td>\n",
       "      <td>24396</td>\n",
       "    </tr>\n",
       "    <tr>\n",
       "      <td>3</td>\n",
       "      <td>4</td>\n",
       "      <td>2008-07-31 14:22:31</td>\n",
       "      <td>Joel Spolsky</td>\n",
       "      <td>2018-08-14 22:18:15</td>\n",
       "      <td>New York, NY</td>\n",
       "      <td>28768</td>\n",
       "      <td>73755</td>\n",
       "    </tr>\n",
       "    <tr>\n",
       "      <td>4</td>\n",
       "      <td>5</td>\n",
       "      <td>2008-07-31 14:22:31</td>\n",
       "      <td>Jon Galloway</td>\n",
       "      <td>2018-08-29 16:48:36</td>\n",
       "      <td>San Diego, CA</td>\n",
       "      <td>39172</td>\n",
       "      <td>11700</td>\n",
       "    </tr>\n",
       "    <tr>\n",
       "      <td>5</td>\n",
       "      <td>8</td>\n",
       "      <td>2008-07-31 21:33:24</td>\n",
       "      <td>Eggs McLaren</td>\n",
       "      <td>2018-04-09 02:04:56</td>\n",
       "      <td>None</td>\n",
       "      <td>942</td>\n",
       "      <td>6372</td>\n",
       "    </tr>\n",
       "    <tr>\n",
       "      <td>6</td>\n",
       "      <td>9</td>\n",
       "      <td>2008-07-31 21:35:27</td>\n",
       "      <td>Kevin Dente</td>\n",
       "      <td>2018-08-30 18:18:03</td>\n",
       "      <td>Oakland, CA</td>\n",
       "      <td>14337</td>\n",
       "      <td>4949</td>\n",
       "    </tr>\n",
       "    <tr>\n",
       "      <td>7</td>\n",
       "      <td>11</td>\n",
       "      <td>2008-08-01 00:59:11</td>\n",
       "      <td>Anonymous User</td>\n",
       "      <td>2008-08-01 00:59:11</td>\n",
       "      <td>None</td>\n",
       "      <td>1890</td>\n",
       "      <td>2123</td>\n",
       "    </tr>\n",
       "    <tr>\n",
       "      <td>8</td>\n",
       "      <td>13</td>\n",
       "      <td>2008-08-01 04:18:05</td>\n",
       "      <td>Chris Jester-Young</td>\n",
       "      <td>2018-08-30 02:47:23</td>\n",
       "      <td>Raleigh, NC, United States</td>\n",
       "      <td>177138</td>\n",
       "      <td>35414</td>\n",
       "    </tr>\n",
       "    <tr>\n",
       "      <td>9</td>\n",
       "      <td>17</td>\n",
       "      <td>2008-08-01 12:02:22</td>\n",
       "      <td>Nick Berardi</td>\n",
       "      <td>2018-01-22 01:35:38</td>\n",
       "      <td>Issaquah, WA</td>\n",
       "      <td>44443</td>\n",
       "      <td>4786</td>\n",
       "    </tr>\n",
       "  </tbody>\n",
       "</table>\n",
       "</div>"
      ],
      "text/plain": [
       "   id       creation_date        display_name    last_access_date  \\\n",
       "0   1 2008-07-31 14:22:31         Jeff Atwood 2018-08-29 02:34:23   \n",
       "1   2 2008-07-31 14:22:31        Geoff Dalgas 2018-08-23 17:31:56   \n",
       "2   3 2008-07-31 14:22:31        Jarrod Dixon 2018-08-30 20:56:24   \n",
       "3   4 2008-07-31 14:22:31        Joel Spolsky 2018-08-14 22:18:15   \n",
       "4   5 2008-07-31 14:22:31        Jon Galloway 2018-08-29 16:48:36   \n",
       "5   8 2008-07-31 21:33:24        Eggs McLaren 2018-04-09 02:04:56   \n",
       "6   9 2008-07-31 21:35:27         Kevin Dente 2018-08-30 18:18:03   \n",
       "7  11 2008-08-01 00:59:11      Anonymous User 2008-08-01 00:59:11   \n",
       "8  13 2008-08-01 04:18:05  Chris Jester-Young 2018-08-30 02:47:23   \n",
       "9  17 2008-08-01 12:02:22        Nick Berardi 2018-01-22 01:35:38   \n",
       "\n",
       "                     location  reputation   views  \n",
       "0              El Cerrito, CA       44300  408587  \n",
       "1               Corvallis, OR        3491   23966  \n",
       "2  Raleigh, NC, United States       13418   24396  \n",
       "3                New York, NY       28768   73755  \n",
       "4               San Diego, CA       39172   11700  \n",
       "5                        None         942    6372  \n",
       "6                 Oakland, CA       14337    4949  \n",
       "7                        None        1890    2123  \n",
       "8  Raleigh, NC, United States      177138   35414  \n",
       "9                Issaquah, WA       44443    4786  "
      ]
     },
     "execution_count": 5,
     "metadata": {},
     "output_type": "execute_result"
    }
   ],
   "source": [
    "sample_df"
   ]
  },
  {
   "cell_type": "markdown",
   "metadata": {},
   "source": [
    "<div style=\"border-radius: 15px; box-shadow: 4px 4px 4px; border: solid green 2px; padding: 20px\"> <b>Отличная работа - ✅</b><br>\n",
    "Соединение с БД прошло успешно👌<br>\n",
    "<img src=https://www.audit-it.ru/upload/iblock/319/присоединение%20шнурки.jpg></div> <br>"
   ]
  },
  {
   "cell_type": "markdown",
   "metadata": {},
   "source": [
    "<div class=\"alert alert-info\" style=\"border:solid blue 2px; padding: 20px\"> <b>Комментарий студента:</b> 🔥 </div>"
   ]
  },
  {
   "cell_type": "markdown",
   "metadata": {
    "id": "gnBMXkDBDWKm"
   },
   "source": [
    "# Задание 1"
   ]
  },
  {
   "cell_type": "markdown",
   "metadata": {
    "id": "vHsfOrrNDWKn"
   },
   "source": [
    "Выведите общую сумму просмотров постов за каждый месяц 2008 года. Если данных за какой-либо месяц в базе нет, такой месяц можно пропустить. Результат отсортируйте по убыванию общего количества просмотров."
   ]
  },
  {
   "cell_type": "markdown",
   "metadata": {
    "id": "N5rTgGNmDWKn"
   },
   "source": [
    "| month_date  | total_views |\n",
    "| ------------- | ------------- |\n",
    "| 2008-09-01  | 452928568  |\n",
    "| 2008-10-01  | 365400138  |\n",
    "| ...         | ... |"
   ]
  },
  {
   "cell_type": "code",
   "execution_count": 6,
   "metadata": {
    "id": "eWvykcXTDWKo",
    "scrolled": false
   },
   "outputs": [
    {
     "data": {
      "text/html": [
       "<div>\n",
       "<style scoped>\n",
       "    .dataframe tbody tr th:only-of-type {\n",
       "        vertical-align: middle;\n",
       "    }\n",
       "\n",
       "    .dataframe tbody tr th {\n",
       "        vertical-align: top;\n",
       "    }\n",
       "\n",
       "    .dataframe thead th {\n",
       "        text-align: right;\n",
       "    }\n",
       "</style>\n",
       "<table border=\"1\" class=\"dataframe\">\n",
       "  <thead>\n",
       "    <tr style=\"text-align: right;\">\n",
       "      <th></th>\n",
       "      <th>creation_date_month</th>\n",
       "      <th>total_views</th>\n",
       "    </tr>\n",
       "  </thead>\n",
       "  <tbody>\n",
       "    <tr>\n",
       "      <td>0</td>\n",
       "      <td>2008-09-01</td>\n",
       "      <td>452928568</td>\n",
       "    </tr>\n",
       "    <tr>\n",
       "      <td>1</td>\n",
       "      <td>2008-10-01</td>\n",
       "      <td>365400138</td>\n",
       "    </tr>\n",
       "    <tr>\n",
       "      <td>2</td>\n",
       "      <td>2008-11-01</td>\n",
       "      <td>221759651</td>\n",
       "    </tr>\n",
       "    <tr>\n",
       "      <td>3</td>\n",
       "      <td>2008-12-01</td>\n",
       "      <td>197792841</td>\n",
       "    </tr>\n",
       "    <tr>\n",
       "      <td>4</td>\n",
       "      <td>2008-08-01</td>\n",
       "      <td>131367083</td>\n",
       "    </tr>\n",
       "    <tr>\n",
       "      <td>5</td>\n",
       "      <td>2008-07-01</td>\n",
       "      <td>669895</td>\n",
       "    </tr>\n",
       "  </tbody>\n",
       "</table>\n",
       "</div>"
      ],
      "text/plain": [
       "  creation_date_month  total_views\n",
       "0          2008-09-01    452928568\n",
       "1          2008-10-01    365400138\n",
       "2          2008-11-01    221759651\n",
       "3          2008-12-01    197792841\n",
       "4          2008-08-01    131367083\n",
       "5          2008-07-01       669895"
      ]
     },
     "execution_count": 6,
     "metadata": {},
     "output_type": "execute_result"
    }
   ],
   "source": [
    "# напишите запрос\n",
    "query = '''\n",
    "SELECT CAST(DATE_TRUNC('month', sp.creation_date) AS date) AS creation_date_month,\n",
    "    SUM(sp.views_count) AS total_views\n",
    "FROM stackoverflow.posts sp\n",
    "WHERE CAST(DATE_TRUNC('day', sp.creation_date) AS date) BETWEEN '2008-01-01' AND '2008-12-31'\n",
    "GROUP BY CAST(DATE_TRUNC('month', sp.creation_date) AS date)\n",
    "ORDER BY 2 DESC;\n",
    "'''\n",
    "\n",
    "# выполните запрос\n",
    "monthly_post_views = pd.read_sql_query(query, con = engine)\n",
    "monthly_post_views"
   ]
  },
  {
   "cell_type": "markdown",
   "metadata": {
    "id": "XMr_UeU6DWKo"
   },
   "source": [
    "<details>\n",
    "\n",
    "<summary>Подсказка</summary>\n",
    "Используйте функцию для усечения даты, а затем сгруппируйте и отсортируйте данные.\n",
    "</details>"
   ]
  },
  {
   "cell_type": "markdown",
   "metadata": {
    "id": "I_ZvhOxkDWKp"
   },
   "source": [
    "Проанализируйте итоговую таблицу. Отличаются ли данные за разные месяцы? С чем могут быть связаны отличия?"
   ]
  },
  {
   "cell_type": "code",
   "execution_count": 7,
   "metadata": {
    "id": "luxSj17oDWKq"
   },
   "outputs": [],
   "source": [
    "# напишите ваш ответ здесь"
   ]
  },
  {
   "cell_type": "markdown",
   "metadata": {},
   "source": [
    "По таблице можно увидить, что **сентябрь** лидирует по числу просмотров за 2008 год, всего ***452928568*** просмотров, дальше расположилилсь **октябрь** и **ноябрь** по ***365400138*** и ***221759651*** просмотров. Меньше всего было в **июле** ***669895***\n",
    "\n",
    "StackOverflow — сервиса вопросов и ответов о программировании. StackOverflow похож на социальную сеть — пользователи сервиса задают вопросы, отвечают на посты, оставляют комментарии и ставят оценки другим ответам. Наибольшее количество просмотров в конце лета и начале осени. Это может быть связано с началом учебного года."
   ]
  },
  {
   "cell_type": "markdown",
   "metadata": {},
   "source": [
    "<div style=\"border-radius: 15px; box-shadow: 4px 4px 4px; border: solid green 2px; padding: 20px\"> <b>Отличная работа - ✅</b><br>\n",
    "👍</div> <br>\n",
    "<div style=\"border-radius: 15px; box-shadow: 4px 4px 4px; border: solid orange 2px; padding: 20px\"> <b>Что можно улучшить - ⚠️</b><br>\n",
    "Конструкцию <code>CAST(DATE_TRUNC('day', sp.creation_date) AS date) BETWEEN '2008-01-01' AND '2008-12-31'</code> можно упростить до года - <code>DATE_TRUNC('year', sp.creation_date) = 2008</code> и нет необходимости в преобразовании c <code>CAST</code> - ниже пример</div> <br>"
   ]
  },
  {
   "cell_type": "code",
   "execution_count": 8,
   "metadata": {},
   "outputs": [
    {
     "data": {
      "text/html": [
       "<div>\n",
       "<style scoped>\n",
       "    .dataframe tbody tr th:only-of-type {\n",
       "        vertical-align: middle;\n",
       "    }\n",
       "\n",
       "    .dataframe tbody tr th {\n",
       "        vertical-align: top;\n",
       "    }\n",
       "\n",
       "    .dataframe thead th {\n",
       "        text-align: right;\n",
       "    }\n",
       "</style>\n",
       "<table border=\"1\" class=\"dataframe\">\n",
       "  <thead>\n",
       "    <tr style=\"text-align: right;\">\n",
       "      <th></th>\n",
       "      <th>now_date</th>\n",
       "    </tr>\n",
       "  </thead>\n",
       "  <tbody>\n",
       "    <tr>\n",
       "      <td>0</td>\n",
       "      <td>2022-01-31 21:00:00+00:00</td>\n",
       "    </tr>\n",
       "  </tbody>\n",
       "</table>\n",
       "</div>"
      ],
      "text/plain": [
       "                   now_date\n",
       "0 2022-01-31 21:00:00+00:00"
      ]
     },
     "metadata": {},
     "output_type": "display_data"
    },
    {
     "data": {
      "text/plain": [
       "now_date    datetime64[ns, UTC]\n",
       "dtype: object"
      ]
     },
     "metadata": {},
     "output_type": "display_data"
    }
   ],
   "source": [
    "# КОД РЕВЬЮВЕРА\n",
    "q = \"\"\"select date_trunc('month', now()) as now_date\"\"\"\n",
    "\n",
    "display(pd.read_sql(q, con=engine))\n",
    "display(pd.read_sql(q, con=engine).dtypes)"
   ]
  },
  {
   "cell_type": "markdown",
   "metadata": {},
   "source": [
    "<div class=\"alert alert-info\" style=\"border:solid blue 2px; padding: 20px\"> <b>Комментарий студента:</b> Спасибо. Так дейстивтельно лучше 🔥 </div>"
   ]
  },
  {
   "cell_type": "markdown",
   "metadata": {},
   "source": [
    "<hr style=\"border: 2px solid orange;\" />"
   ]
  },
  {
   "cell_type": "markdown",
   "metadata": {
    "id": "FziIXkn5DWKr"
   },
   "source": [
    "# Задание 2"
   ]
  },
  {
   "cell_type": "markdown",
   "metadata": {
    "id": "fTGESZvYDWKr"
   },
   "source": [
    "Выведите имена самых активных пользователей, которые в первый месяц после регистрации (включая день регистрации) дали больше 100 ответов. Вопросы, которые задавали пользователи, не учитывайте. Для каждого имени пользователя выведите количество уникальных значений `user_id`. Отсортируйте результат по полю с именами в лексикографическом порядке."
   ]
  },
  {
   "cell_type": "markdown",
   "metadata": {
    "id": "W5-tv6Y3DWKs"
   },
   "source": [
    "| display_name | count |\n",
    "| ------------ | ----- |\n",
    "| 1800 INFORMATION | 1 |\n",
    "| Adam Bellaire | 1 |\n",
    "| Adam Davis | 1 |\n",
    "| ... | ... |"
   ]
  },
  {
   "cell_type": "code",
   "execution_count": 9,
   "metadata": {
    "id": "fIO-y-YjDWKt",
    "scrolled": false
   },
   "outputs": [
    {
     "data": {
      "text/html": [
       "<div>\n",
       "<style scoped>\n",
       "    .dataframe tbody tr th:only-of-type {\n",
       "        vertical-align: middle;\n",
       "    }\n",
       "\n",
       "    .dataframe tbody tr th {\n",
       "        vertical-align: top;\n",
       "    }\n",
       "\n",
       "    .dataframe thead th {\n",
       "        text-align: right;\n",
       "    }\n",
       "</style>\n",
       "<table border=\"1\" class=\"dataframe\">\n",
       "  <thead>\n",
       "    <tr style=\"text-align: right;\">\n",
       "      <th></th>\n",
       "      <th>display_name</th>\n",
       "      <th>count</th>\n",
       "    </tr>\n",
       "  </thead>\n",
       "  <tbody>\n",
       "    <tr>\n",
       "      <td>0</td>\n",
       "      <td>1800 INFORMATION</td>\n",
       "      <td>1</td>\n",
       "    </tr>\n",
       "    <tr>\n",
       "      <td>1</td>\n",
       "      <td>Adam Bellaire</td>\n",
       "      <td>1</td>\n",
       "    </tr>\n",
       "    <tr>\n",
       "      <td>2</td>\n",
       "      <td>Adam Davis</td>\n",
       "      <td>1</td>\n",
       "    </tr>\n",
       "    <tr>\n",
       "      <td>3</td>\n",
       "      <td>Adam Liss</td>\n",
       "      <td>1</td>\n",
       "    </tr>\n",
       "    <tr>\n",
       "      <td>4</td>\n",
       "      <td>Alan</td>\n",
       "      <td>8</td>\n",
       "    </tr>\n",
       "    <tr>\n",
       "      <td>5</td>\n",
       "      <td>Amy B</td>\n",
       "      <td>1</td>\n",
       "    </tr>\n",
       "    <tr>\n",
       "      <td>6</td>\n",
       "      <td>Ben Hoffstein</td>\n",
       "      <td>1</td>\n",
       "    </tr>\n",
       "    <tr>\n",
       "      <td>7</td>\n",
       "      <td>Brian</td>\n",
       "      <td>15</td>\n",
       "    </tr>\n",
       "    <tr>\n",
       "      <td>8</td>\n",
       "      <td>Cade Roux</td>\n",
       "      <td>1</td>\n",
       "    </tr>\n",
       "    <tr>\n",
       "      <td>9</td>\n",
       "      <td>CesarB</td>\n",
       "      <td>1</td>\n",
       "    </tr>\n",
       "    <tr>\n",
       "      <td>10</td>\n",
       "      <td>Chris</td>\n",
       "      <td>29</td>\n",
       "    </tr>\n",
       "    <tr>\n",
       "      <td>11</td>\n",
       "      <td>ConcernedOfTunbridgeWells</td>\n",
       "      <td>1</td>\n",
       "    </tr>\n",
       "    <tr>\n",
       "      <td>12</td>\n",
       "      <td>Craig</td>\n",
       "      <td>10</td>\n",
       "    </tr>\n",
       "    <tr>\n",
       "      <td>13</td>\n",
       "      <td>Dale Ragan</td>\n",
       "      <td>1</td>\n",
       "    </tr>\n",
       "    <tr>\n",
       "      <td>14</td>\n",
       "      <td>Dan</td>\n",
       "      <td>21</td>\n",
       "    </tr>\n",
       "    <tr>\n",
       "      <td>15</td>\n",
       "      <td>Eric Z Beard</td>\n",
       "      <td>1</td>\n",
       "    </tr>\n",
       "    <tr>\n",
       "      <td>16</td>\n",
       "      <td>Espo</td>\n",
       "      <td>1</td>\n",
       "    </tr>\n",
       "    <tr>\n",
       "      <td>17</td>\n",
       "      <td>FlySwat</td>\n",
       "      <td>1</td>\n",
       "    </tr>\n",
       "    <tr>\n",
       "      <td>18</td>\n",
       "      <td>Franci Penov</td>\n",
       "      <td>1</td>\n",
       "    </tr>\n",
       "    <tr>\n",
       "      <td>19</td>\n",
       "      <td>GEOCHET</td>\n",
       "      <td>1</td>\n",
       "    </tr>\n",
       "  </tbody>\n",
       "</table>\n",
       "</div>"
      ],
      "text/plain": [
       "                 display_name  count\n",
       "0            1800 INFORMATION      1\n",
       "1               Adam Bellaire      1\n",
       "2                  Adam Davis      1\n",
       "3                   Adam Liss      1\n",
       "4                        Alan      8\n",
       "5                       Amy B      1\n",
       "6               Ben Hoffstein      1\n",
       "7                       Brian     15\n",
       "8                   Cade Roux      1\n",
       "9                      CesarB      1\n",
       "10                      Chris     29\n",
       "11  ConcernedOfTunbridgeWells      1\n",
       "12                      Craig     10\n",
       "13                 Dale Ragan      1\n",
       "14                        Dan     21\n",
       "15               Eric Z Beard      1\n",
       "16                       Espo      1\n",
       "17                    FlySwat      1\n",
       "18               Franci Penov      1\n",
       "19                    GEOCHET      1"
      ]
     },
     "metadata": {},
     "output_type": "display_data"
    },
    {
     "data": {
      "text/html": [
       "<div>\n",
       "<style scoped>\n",
       "    .dataframe tbody tr th:only-of-type {\n",
       "        vertical-align: middle;\n",
       "    }\n",
       "\n",
       "    .dataframe tbody tr th {\n",
       "        vertical-align: top;\n",
       "    }\n",
       "\n",
       "    .dataframe thead th {\n",
       "        text-align: right;\n",
       "    }\n",
       "</style>\n",
       "<table border=\"1\" class=\"dataframe\">\n",
       "  <thead>\n",
       "    <tr style=\"text-align: right;\">\n",
       "      <th></th>\n",
       "      <th>display_name</th>\n",
       "      <th>count</th>\n",
       "    </tr>\n",
       "  </thead>\n",
       "  <tbody>\n",
       "    <tr>\n",
       "      <td>4</td>\n",
       "      <td>Alan</td>\n",
       "      <td>8</td>\n",
       "    </tr>\n",
       "    <tr>\n",
       "      <td>7</td>\n",
       "      <td>Brian</td>\n",
       "      <td>15</td>\n",
       "    </tr>\n",
       "    <tr>\n",
       "      <td>10</td>\n",
       "      <td>Chris</td>\n",
       "      <td>29</td>\n",
       "    </tr>\n",
       "    <tr>\n",
       "      <td>12</td>\n",
       "      <td>Craig</td>\n",
       "      <td>10</td>\n",
       "    </tr>\n",
       "    <tr>\n",
       "      <td>14</td>\n",
       "      <td>Dan</td>\n",
       "      <td>21</td>\n",
       "    </tr>\n",
       "    <tr>\n",
       "      <td>21</td>\n",
       "      <td>Greg</td>\n",
       "      <td>12</td>\n",
       "    </tr>\n",
       "    <tr>\n",
       "      <td>25</td>\n",
       "      <td>Jim</td>\n",
       "      <td>7</td>\n",
       "    </tr>\n",
       "    <tr>\n",
       "      <td>26</td>\n",
       "      <td>Joe</td>\n",
       "      <td>9</td>\n",
       "    </tr>\n",
       "    <tr>\n",
       "      <td>33</td>\n",
       "      <td>Josh</td>\n",
       "      <td>16</td>\n",
       "    </tr>\n",
       "    <tr>\n",
       "      <td>34</td>\n",
       "      <td>Keith</td>\n",
       "      <td>5</td>\n",
       "    </tr>\n",
       "    <tr>\n",
       "      <td>35</td>\n",
       "      <td>Kevin</td>\n",
       "      <td>11</td>\n",
       "    </tr>\n",
       "    <tr>\n",
       "      <td>40</td>\n",
       "      <td>Mark</td>\n",
       "      <td>16</td>\n",
       "    </tr>\n",
       "    <tr>\n",
       "      <td>43</td>\n",
       "      <td>Matt</td>\n",
       "      <td>29</td>\n",
       "    </tr>\n",
       "    <tr>\n",
       "      <td>48</td>\n",
       "      <td>Nick</td>\n",
       "      <td>16</td>\n",
       "    </tr>\n",
       "    <tr>\n",
       "      <td>50</td>\n",
       "      <td>Oli</td>\n",
       "      <td>3</td>\n",
       "    </tr>\n",
       "    <tr>\n",
       "      <td>54</td>\n",
       "      <td>Rob</td>\n",
       "      <td>15</td>\n",
       "    </tr>\n",
       "    <tr>\n",
       "      <td>57</td>\n",
       "      <td>Ryan</td>\n",
       "      <td>10</td>\n",
       "    </tr>\n",
       "    <tr>\n",
       "      <td>62</td>\n",
       "      <td>Tom</td>\n",
       "      <td>19</td>\n",
       "    </tr>\n",
       "    <tr>\n",
       "      <td>70</td>\n",
       "      <td>jfs</td>\n",
       "      <td>3</td>\n",
       "    </tr>\n",
       "  </tbody>\n",
       "</table>\n",
       "</div>"
      ],
      "text/plain": [
       "   display_name  count\n",
       "4          Alan      8\n",
       "7         Brian     15\n",
       "10        Chris     29\n",
       "12        Craig     10\n",
       "14          Dan     21\n",
       "21         Greg     12\n",
       "25          Jim      7\n",
       "26          Joe      9\n",
       "33         Josh     16\n",
       "34        Keith      5\n",
       "35        Kevin     11\n",
       "40         Mark     16\n",
       "43         Matt     29\n",
       "48         Nick     16\n",
       "50          Oli      3\n",
       "54          Rob     15\n",
       "57         Ryan     10\n",
       "62          Tom     19\n",
       "70          jfs      3"
      ]
     },
     "metadata": {},
     "output_type": "display_data"
    }
   ],
   "source": [
    "# напишите запрос\n",
    "query = '''\n",
    "WITH sample AS (\n",
    "SELECT su.id AS user_id,\n",
    "    su.display_name,\n",
    "    COUNT(su.display_name) OVER (PARTITION BY su.display_name) AS count_posts,\n",
    "    COUNT(su.id) OVER (PARTITION BY su.id ORDER BY display_name) AS count_id\n",
    "FROM stackoverflow.posts sp\n",
    "JOIN stackoverflow.post_types spt ON sp.post_type_id=spt.id\n",
    "JOIN stackoverflow.users su ON sp.user_id=su.id\n",
    "WHERE spt.type = 'Answer'\n",
    "AND sp.creation_date BETWEEN su.creation_date AND su.creation_date + INTERVAL '1' MONTH\n",
    "ORDER BY 2 DESC\n",
    ")\n",
    "SELECT DISTINCT display_name,\n",
    "    COUNT(DISTINCT user_id)\n",
    "FROM sample\n",
    "WHERE count_posts > 100\n",
    "GROUP BY 1\n",
    "ORDER BY 1;\n",
    "'''\n",
    "\n",
    "# выполните запрос\n",
    "active_users = pd.read_sql_query(query, con = engine)\n",
    "display(active_users.head(20), active_users[active_users['count'] != 1])"
   ]
  },
  {
   "cell_type": "markdown",
   "metadata": {
    "id": "YIqqc-7HDWKt"
   },
   "source": [
    "<details>\n",
    "\n",
    "<summary>Подсказка</summary>\n",
    "Вам нужно присоединить несколько таблиц — изучите внимательнее описание базы. Чтобы добавить промежуток времени к дате, используйте ключевое слово INTERVAL, например, так: <дата> + INTERVAL '1 year 2 months 3 days'\n",
    ".</details>"
   ]
  },
  {
   "cell_type": "markdown",
   "metadata": {
    "id": "I3Wr82TplKpI"
   },
   "source": [
    "Какие аномалии наблюдаются в данных? О чём они говорят?"
   ]
  },
  {
   "cell_type": "code",
   "execution_count": 10,
   "metadata": {
    "id": "CEIGGQ6ODWKy"
   },
   "outputs": [],
   "source": [
    "# напишите ваш ответ здесь"
   ]
  },
  {
   "cell_type": "markdown",
   "metadata": {},
   "source": [
    "Под одним именем может быть много пользователей. Для анализа лучше брать Идентификатор пользователя,т.к. он является уникальным."
   ]
  },
  {
   "cell_type": "markdown",
   "metadata": {},
   "source": [
    "<div style=\"border-radius: 15px; box-shadow: 4px 4px 4px; border: solid green 2px; padding: 20px\"> <b>Отличная работа - ✅</b><br>\n",
    "👍 Всё верно, имя не уникально, хотя можно выбрать то, которое может стать уникальным =)</div> <br>"
   ]
  },
  {
   "cell_type": "markdown",
   "metadata": {},
   "source": [
    "<div class=\"alert alert-info\" style=\"border:solid blue 2px; padding: 20px\"> <b>Комментарий студента:</b> 👍 Спасибо </div>"
   ]
  },
  {
   "cell_type": "markdown",
   "metadata": {
    "id": "JhM2xXj5DWKu"
   },
   "source": [
    "# Задание 3"
   ]
  },
  {
   "cell_type": "markdown",
   "metadata": {
    "id": "IS6xPqyyDWKu"
   },
   "source": [
    "Выведите количество постов за 2008 год по месяцам. Отберите посты от пользователей, которые зарегистрировались в сентябре 2008 года и сделали хотя бы один пост в декабре того же года. Отсортируйте таблицу по значению месяца по убыванию."
   ]
  },
  {
   "cell_type": "markdown",
   "metadata": {
    "id": "WmjhjV2xDWKv"
   },
   "source": [
    "| month | count |\n",
    "| ------|------ |\n",
    "| 2008-12-01 | 17641 |\n",
    "| 2008-11-01 | 18294 |\n",
    "| ... | ... |"
   ]
  },
  {
   "cell_type": "code",
   "execution_count": 11,
   "metadata": {
    "id": "kVu0FB8WDWKv",
    "scrolled": false
   },
   "outputs": [
    {
     "data": {
      "text/html": [
       "<div>\n",
       "<style scoped>\n",
       "    .dataframe tbody tr th:only-of-type {\n",
       "        vertical-align: middle;\n",
       "    }\n",
       "\n",
       "    .dataframe tbody tr th {\n",
       "        vertical-align: top;\n",
       "    }\n",
       "\n",
       "    .dataframe thead th {\n",
       "        text-align: right;\n",
       "    }\n",
       "</style>\n",
       "<table border=\"1\" class=\"dataframe\">\n",
       "  <thead>\n",
       "    <tr style=\"text-align: right;\">\n",
       "      <th></th>\n",
       "      <th>creation_date_month</th>\n",
       "      <th>posts_count</th>\n",
       "    </tr>\n",
       "  </thead>\n",
       "  <tbody>\n",
       "    <tr>\n",
       "      <td>0</td>\n",
       "      <td>2008-12-01</td>\n",
       "      <td>17641</td>\n",
       "    </tr>\n",
       "    <tr>\n",
       "      <td>1</td>\n",
       "      <td>2008-11-01</td>\n",
       "      <td>18294</td>\n",
       "    </tr>\n",
       "    <tr>\n",
       "      <td>2</td>\n",
       "      <td>2008-10-01</td>\n",
       "      <td>27171</td>\n",
       "    </tr>\n",
       "    <tr>\n",
       "      <td>3</td>\n",
       "      <td>2008-09-01</td>\n",
       "      <td>24870</td>\n",
       "    </tr>\n",
       "    <tr>\n",
       "      <td>4</td>\n",
       "      <td>2008-08-01</td>\n",
       "      <td>32</td>\n",
       "    </tr>\n",
       "  </tbody>\n",
       "</table>\n",
       "</div>"
      ],
      "text/plain": [
       "  creation_date_month  posts_count\n",
       "0          2008-12-01        17641\n",
       "1          2008-11-01        18294\n",
       "2          2008-10-01        27171\n",
       "3          2008-09-01        24870\n",
       "4          2008-08-01           32"
      ]
     },
     "execution_count": 11,
     "metadata": {},
     "output_type": "execute_result"
    }
   ],
   "source": [
    "# напишите запрос\n",
    "query = '''\n",
    "WITH sample AS (\n",
    "    SELECT DISTINCT su.id\n",
    "    FROM stackoverflow.users su\n",
    "    JOIN stackoverflow.posts sp ON su.id=sp.user_id\n",
    "    WHERE su.creation_date::date BETWEEN '2008-09-01' AND '2008-09-30'\n",
    "    AND su.id IN (SELECT DISTINCT sp.user_id\n",
    "                FROM stackoverflow.posts sp\n",
    "                WHERE sp.creation_date::date BETWEEN '2008-12-01' AND '2008-12-31')\n",
    ")\n",
    "SELECT CAST(DATE_TRUNC('month', sp.creation_date) AS date) AS creation_date_month,\n",
    "   COUNT(sp.id) AS posts_count\n",
    "FROM stackoverflow.posts sp\n",
    "JOIN sample ON sp.user_id=sample.id\n",
    "WHERE CAST(DATE_TRUNC('month', sp.creation_date) AS date) BETWEEN '2008-01-01' AND '2008-12-31'\n",
    "GROUP BY CAST(DATE_TRUNC('month', sp.creation_date) AS date)\n",
    "ORDER BY 1 DESC;\n",
    "'''\n",
    "\n",
    "# выполните запрос\n",
    "number_of_posts = pd.read_sql_query(query, con = engine)\n",
    "number_of_posts"
   ]
  },
  {
   "cell_type": "markdown",
   "metadata": {
    "id": "nWf0JsTMDWKx"
   },
   "source": [
    "<details>\n",
    "\n",
    "<summary>Подсказка</summary>\n",
    "Сначала найдите идентификаторы пользователей, которые зарегистрировались в сентябре 2008 года и оставили хотя бы один пост в декабре. Затем используйте результат для среза и посчитайте посты по месяцам.</details>"
   ]
  },
  {
   "cell_type": "markdown",
   "metadata": {
    "id": "Vnxn9DVHDWKx"
   },
   "source": [
    "Изучите данные: есть ли в них аномалии? Предположите, почему могли появиться аномальные значения."
   ]
  },
  {
   "cell_type": "code",
   "execution_count": 12,
   "metadata": {
    "id": "MMVIz4yMlKpN"
   },
   "outputs": [],
   "source": [
    "# напишите ваш ответ здесь"
   ]
  },
  {
   "cell_type": "markdown",
   "metadata": {},
   "source": [
    "В данных есть посты на август 2008 от пользователей которые зарегистрировались в сентябре 2008 года. Возможно сначала был написан пост, только после пользователей решил зарегестрироваться. или системная ошибка."
   ]
  },
  {
   "cell_type": "markdown",
   "metadata": {},
   "source": [
    "<div style=\"border-radius: 15px; box-shadow: 4px 4px 4px; border: solid green 2px; padding: 20px\"> <b>Отличная работа - ✅</b><br>\n",
    "Да, у сервиса есть возможность оставлять сообщения без регистрации</div> <br>\n",
    "\n",
    "<div style=\"border-radius: 15px; box-shadow: 4px 4px 4px; border: solid orange 2px; padding: 20px\"> <b>Что можно улучшить - ⚠️</b><br>\n",
    "Есть небольшой нюанс в работе с датами: дело в том, что задаваемая тобой дата, преобразуется к типу данных того поля с которым сравнивается. Поле <code>creation_date</code> имеет тип <code>timestamp</code> и из <code>2008-12-31 -> получается -> 2008-12-31 00:00:00</code>, поэтому результат не будет учитывать 31 декабря<br>\n",
    "Сейчас это не приводит к ошибке, но потенциально она не исключена - пример кода ниже, поясняющий работу с датами<br><br>\n",
    "Также запрос несколько перегружен: можно обойтись без подзапроса в CTE, достаточно объединить посты с пользователями и отфильтровать результат по 2 условиям: дата регистрации сентябрь, дата поста декабрь</div> <br>\n"
   ]
  },
  {
   "cell_type": "code",
   "execution_count": 13,
   "metadata": {
    "scrolled": true
   },
   "outputs": [
    {
     "data": {
      "text/html": [
       "<div>\n",
       "<style scoped>\n",
       "    .dataframe tbody tr th:only-of-type {\n",
       "        vertical-align: middle;\n",
       "    }\n",
       "\n",
       "    .dataframe tbody tr th {\n",
       "        vertical-align: top;\n",
       "    }\n",
       "\n",
       "    .dataframe thead th {\n",
       "        text-align: right;\n",
       "    }\n",
       "</style>\n",
       "<table border=\"1\" class=\"dataframe\">\n",
       "  <thead>\n",
       "    <tr style=\"text-align: right;\">\n",
       "      <th></th>\n",
       "      <th>timestamp</th>\n",
       "      <th>timestamp</th>\n",
       "      <th>compare_1</th>\n",
       "      <th>compare_2</th>\n",
       "    </tr>\n",
       "  </thead>\n",
       "  <tbody>\n",
       "    <tr>\n",
       "      <td>0</td>\n",
       "      <td>2008-08-31</td>\n",
       "      <td>2008-08-31 23:59:59</td>\n",
       "      <td>True</td>\n",
       "      <td>False</td>\n",
       "    </tr>\n",
       "  </tbody>\n",
       "</table>\n",
       "</div>"
      ],
      "text/plain": [
       "   timestamp           timestamp  compare_1  compare_2\n",
       "0 2008-08-31 2008-08-31 23:59:59       True      False"
      ]
     },
     "execution_count": 13,
     "metadata": {},
     "output_type": "execute_result"
    }
   ],
   "source": [
    "# КОД РЕВЬЮВЕРА\n",
    "query = '''\n",
    "select '2008-08-31'::timestamp, '2008-08-31 23:59:59'::timestamp,\n",
    "'2008-08-31'::timestamp < '2008-08-31 23:59:59' as compare_1, \n",
    "'2008-08-31 23:59:59'::timestamp < '2008-08-31 23:59:59' as compare_2;    \n",
    " '''\n",
    "pd.read_sql_query(query, con=engine) "
   ]
  },
  {
   "cell_type": "markdown",
   "metadata": {},
   "source": [
    "<div class=\"alert alert-info\" style=\"border:solid blue 2px; padding: 20px\"> <b>Комментарий студента:</b> Спасибо. О таком действительно не знал. Учту </div>"
   ]
  },
  {
   "cell_type": "markdown",
   "metadata": {},
   "source": [
    "<hr style=\"border: 2px solid orange;\" />"
   ]
  },
  {
   "cell_type": "markdown",
   "metadata": {
    "id": "5Pcizm0DDWKz"
   },
   "source": [
    "# Задание 4"
   ]
  },
  {
   "cell_type": "markdown",
   "metadata": {
    "id": "KUZPF6vHDWKz"
   },
   "source": [
    "Используя данные о постах, выведите несколько полей:\n",
    "\n",
    "- идентификатор пользователя, который написал пост;\n",
    "- дата создания поста;\n",
    "- количество просмотров у текущего поста;\n",
    "- сумму просмотров постов автора с накоплением.\n",
    "\n",
    "Данные в таблице должны быть отсортированы по возрастанию идентификаторов пользователей, а данные об одном и том же пользователе — по возрастанию даты создания поста."
   ]
  },
  {
   "cell_type": "markdown",
   "metadata": {
    "id": "ZpsTUVDYDWK0"
   },
   "source": [
    "| user_id | creation_date | views_count | cumulative_count |\n",
    "| ------ | -------------- | ----------- | ---------------- |\n",
    "| 1 | 2008-07-31 23:41:00  | 480476   | 480476  |\n",
    "| 1 | 2008-07-31 23:55:38  | 136033 | 616509  | \n",
    "| 1 | 2008-07-31 23:56:41  | 0 |  616509  |\n",
    "| ... | ... | ... | ... |\n",
    "| 2 | 2008-07-31 23:56:41 | 79087  | 79087 |\n",
    "| 2 | 2008-08-01 05:09:56 | 65443 | 144530 |\n",
    "| ... | ...  | ...  | ...  |"
   ]
  },
  {
   "cell_type": "code",
   "execution_count": 14,
   "metadata": {
    "id": "hDoJhMzfDWK0"
   },
   "outputs": [
    {
     "data": {
      "text/html": [
       "<div>\n",
       "<style scoped>\n",
       "    .dataframe tbody tr th:only-of-type {\n",
       "        vertical-align: middle;\n",
       "    }\n",
       "\n",
       "    .dataframe tbody tr th {\n",
       "        vertical-align: top;\n",
       "    }\n",
       "\n",
       "    .dataframe thead th {\n",
       "        text-align: right;\n",
       "    }\n",
       "</style>\n",
       "<table border=\"1\" class=\"dataframe\">\n",
       "  <thead>\n",
       "    <tr style=\"text-align: right;\">\n",
       "      <th></th>\n",
       "      <th>user_id</th>\n",
       "      <th>creation_date</th>\n",
       "      <th>views_count</th>\n",
       "      <th>sum</th>\n",
       "    </tr>\n",
       "  </thead>\n",
       "  <tbody>\n",
       "    <tr>\n",
       "      <td>0</td>\n",
       "      <td>1</td>\n",
       "      <td>2008-07-31 23:41:00</td>\n",
       "      <td>480476</td>\n",
       "      <td>480476</td>\n",
       "    </tr>\n",
       "    <tr>\n",
       "      <td>1</td>\n",
       "      <td>1</td>\n",
       "      <td>2008-07-31 23:55:38</td>\n",
       "      <td>136033</td>\n",
       "      <td>616509</td>\n",
       "    </tr>\n",
       "    <tr>\n",
       "      <td>2</td>\n",
       "      <td>1</td>\n",
       "      <td>2008-07-31 23:56:41</td>\n",
       "      <td>0</td>\n",
       "      <td>616509</td>\n",
       "    </tr>\n",
       "    <tr>\n",
       "      <td>3</td>\n",
       "      <td>1</td>\n",
       "      <td>2008-08-04 02:45:08</td>\n",
       "      <td>0</td>\n",
       "      <td>616509</td>\n",
       "    </tr>\n",
       "    <tr>\n",
       "      <td>4</td>\n",
       "      <td>1</td>\n",
       "      <td>2008-08-04 04:31:03</td>\n",
       "      <td>0</td>\n",
       "      <td>616509</td>\n",
       "    </tr>\n",
       "    <tr>\n",
       "      <td>...</td>\n",
       "      <td>...</td>\n",
       "      <td>...</td>\n",
       "      <td>...</td>\n",
       "      <td>...</td>\n",
       "    </tr>\n",
       "    <tr>\n",
       "      <td>243791</td>\n",
       "      <td>5696608</td>\n",
       "      <td>2008-12-23 16:00:37</td>\n",
       "      <td>0</td>\n",
       "      <td>2804</td>\n",
       "    </tr>\n",
       "    <tr>\n",
       "      <td>243792</td>\n",
       "      <td>5696608</td>\n",
       "      <td>2008-12-23 17:35:09</td>\n",
       "      <td>0</td>\n",
       "      <td>2804</td>\n",
       "    </tr>\n",
       "    <tr>\n",
       "      <td>243793</td>\n",
       "      <td>5696608</td>\n",
       "      <td>2008-12-24 01:02:48</td>\n",
       "      <td>0</td>\n",
       "      <td>2804</td>\n",
       "    </tr>\n",
       "    <tr>\n",
       "      <td>243794</td>\n",
       "      <td>5696608</td>\n",
       "      <td>2008-12-30 14:34:45</td>\n",
       "      <td>0</td>\n",
       "      <td>2804</td>\n",
       "    </tr>\n",
       "    <tr>\n",
       "      <td>243795</td>\n",
       "      <td>5696608</td>\n",
       "      <td>2008-12-30 16:32:12</td>\n",
       "      <td>0</td>\n",
       "      <td>2804</td>\n",
       "    </tr>\n",
       "  </tbody>\n",
       "</table>\n",
       "<p>243796 rows × 4 columns</p>\n",
       "</div>"
      ],
      "text/plain": [
       "        user_id       creation_date  views_count     sum\n",
       "0             1 2008-07-31 23:41:00       480476  480476\n",
       "1             1 2008-07-31 23:55:38       136033  616509\n",
       "2             1 2008-07-31 23:56:41            0  616509\n",
       "3             1 2008-08-04 02:45:08            0  616509\n",
       "4             1 2008-08-04 04:31:03            0  616509\n",
       "...         ...                 ...          ...     ...\n",
       "243791  5696608 2008-12-23 16:00:37            0    2804\n",
       "243792  5696608 2008-12-23 17:35:09            0    2804\n",
       "243793  5696608 2008-12-24 01:02:48            0    2804\n",
       "243794  5696608 2008-12-30 14:34:45            0    2804\n",
       "243795  5696608 2008-12-30 16:32:12            0    2804\n",
       "\n",
       "[243796 rows x 4 columns]"
      ]
     },
     "execution_count": 14,
     "metadata": {},
     "output_type": "execute_result"
    }
   ],
   "source": [
    "# напишите запрос\n",
    "query = '''\n",
    "SELECT sp.user_id,\n",
    "    sp.creation_date,\n",
    "    sp.views_count,\n",
    "    SUM(views_count) OVER(PARTITION BY sp.user_id ORDER BY sp.creation_date)\n",
    "FROM stackoverflow.posts sp;\n",
    "'''\n",
    "\n",
    "# выполните запрос\n",
    "posts = pd.read_sql_query(query, con = engine)\n",
    "posts"
   ]
  },
  {
   "cell_type": "markdown",
   "metadata": {
    "id": "toidOivXDWK1"
   },
   "source": [
    "<details>\n",
    "\n",
    "<summary>Подсказка</summary>\n",
    "Для подсчёта суммы с накоплением используйте оконную функцию.\n",
    "</details>"
   ]
  },
  {
   "cell_type": "markdown",
   "metadata": {},
   "source": [
    "<div style=\"border-radius: 15px; box-shadow: 4px 4px 4px; border: solid green 2px; padding: 20px\"> <b>Отличная работа - ✅</b><br>\n",
    "С оконками ты разобрался отлично!</div> <br>"
   ]
  },
  {
   "cell_type": "markdown",
   "metadata": {},
   "source": [
    "<div class=\"alert alert-info\" style=\"border:solid blue 2px; padding: 20px\"> <b>Комментарий студента:</b> Спасибо. 🔥 </div>"
   ]
  },
  {
   "cell_type": "markdown",
   "metadata": {
    "id": "N0kHRHvIDWK2"
   },
   "source": [
    "# Задание 5"
   ]
  },
  {
   "cell_type": "markdown",
   "metadata": {
    "id": "gBgvmPtODWK2"
   },
   "source": [
    "Найдите среднее количество постов пользователей в день за август 2008 года. Отберите данные о пользователях, которые опубликовали больше 120 постов за август. Дни без публикаций не учитывайте. \n",
    "\n",
    "Отсортируйте результат по возрастанию среднего количества постов. Значения можно не округлять."
   ]
  },
  {
   "cell_type": "markdown",
   "metadata": {
    "id": "nfzR08BODWK3"
   },
   "source": [
    "| user_id | avg_daily |\n",
    "| ------- | --------- |\n",
    "| 116     | 4.777778  |\n",
    "| 234     | 5.208333  |\n",
    "| ...     | ... |"
   ]
  },
  {
   "cell_type": "code",
   "execution_count": 15,
   "metadata": {},
   "outputs": [
    {
     "data": {
      "text/html": [
       "<div>\n",
       "<style scoped>\n",
       "    .dataframe tbody tr th:only-of-type {\n",
       "        vertical-align: middle;\n",
       "    }\n",
       "\n",
       "    .dataframe tbody tr th {\n",
       "        vertical-align: top;\n",
       "    }\n",
       "\n",
       "    .dataframe thead th {\n",
       "        text-align: right;\n",
       "    }\n",
       "</style>\n",
       "<table border=\"1\" class=\"dataframe\">\n",
       "  <thead>\n",
       "    <tr style=\"text-align: right;\">\n",
       "      <th></th>\n",
       "      <th>user_id</th>\n",
       "      <th>avg_daily</th>\n",
       "    </tr>\n",
       "  </thead>\n",
       "  <tbody>\n",
       "    <tr>\n",
       "      <td>0</td>\n",
       "      <td>116</td>\n",
       "      <td>4.777778</td>\n",
       "    </tr>\n",
       "    <tr>\n",
       "      <td>1</td>\n",
       "      <td>234</td>\n",
       "      <td>5.208333</td>\n",
       "    </tr>\n",
       "    <tr>\n",
       "      <td>2</td>\n",
       "      <td>91</td>\n",
       "      <td>5.681818</td>\n",
       "    </tr>\n",
       "    <tr>\n",
       "      <td>3</td>\n",
       "      <td>905</td>\n",
       "      <td>7.000000</td>\n",
       "    </tr>\n",
       "    <tr>\n",
       "      <td>4</td>\n",
       "      <td>383</td>\n",
       "      <td>7.277778</td>\n",
       "    </tr>\n",
       "  </tbody>\n",
       "</table>\n",
       "</div>"
      ],
      "text/plain": [
       "   user_id  avg_daily\n",
       "0      116   4.777778\n",
       "1      234   5.208333\n",
       "2       91   5.681818\n",
       "3      905   7.000000\n",
       "4      383   7.277778"
      ]
     },
     "execution_count": 15,
     "metadata": {},
     "output_type": "execute_result"
    }
   ],
   "source": [
    "# напишите запрос\n",
    "query = '''\n",
    "SELECT DISTINCT sp.user_id,\n",
    "    AVG(sp.cnt_as_day) OVER (PARTITION BY sp.user_id) AS avg_daily\n",
    "FROM (SELECT DISTINCT sp.user_id,\n",
    "          DATE_TRUNC('day', sp.creation_date),\n",
    "          COUNT(*) OVER (PARTITION BY sp.user_id, DATE_TRUNC('day', sp.creation_date)) AS cnt_as_day,\n",
    "          COUNT(*) OVER (PARTITION BY sp.user_id) AS cnt_all\n",
    "    FROM stackoverflow.posts as sp\n",
    "    WHERE CAST(DATE_TRUNC('month', sp.creation_date) AS date) = '2008-08-01') AS sp\n",
    "WHERE sp.cnt_all > 120\n",
    "ORDER BY 2;\n",
    "'''\n",
    "\n",
    "# выполните запрос\n",
    "posts_08_2008 = pd.read_sql_query(query, con = engine)\n",
    "posts_08_2008"
   ]
  },
  {
   "cell_type": "markdown",
   "metadata": {
    "id": "5Gs8kiJvDWK4"
   },
   "source": [
    "<details>\n",
    "\n",
    "<summary>Подсказка</summary>\n",
    "Сначала найдите идентификаторы пользователей, которые написали более 120 постов за август. Используя этот запрос в качестве подзапроса для среза, найдите и сохраните во временную таблицу идентификаторы нужных пользователей, дни августа и количество постов в день. В основном запросе сгруппируйте данные по пользователям и найдите для каждого из них среднее количество постов.\n",
    "</details>"
   ]
  },
  {
   "cell_type": "markdown",
   "metadata": {},
   "source": [
    "<div style=\"border-radius: 15px; box-shadow: 4px 4px 4px; border: solid green 2px; padding: 20px\"> <b>Отличная работа - ✅</b><br>\n",
    "👍</div> <br>"
   ]
  },
  {
   "cell_type": "markdown",
   "metadata": {},
   "source": [
    "<div class=\"alert alert-info\" style=\"border:solid blue 2px; padding: 20px\"> <b>Комментарий студента:</b> Спасибо. 🔥 </div>"
   ]
  },
  {
   "cell_type": "markdown",
   "metadata": {
    "id": "EQ0dcFH4DWK5"
   },
   "source": [
    "# Задание 6"
   ]
  },
  {
   "cell_type": "markdown",
   "metadata": {
    "id": "c7flfg_hDWK5"
   },
   "source": [
    "Сколько в среднем дней в период с 1 по 7 декабря 2008 года пользователи взаимодействовали с платформой? Для каждого пользователя отберите дни, в которые он или она опубликовали хотя бы один пост. Нужно получить одно целое число — не забудьте округлить результат. "
   ]
  },
  {
   "cell_type": "markdown",
   "metadata": {
    "id": "RC1Ibzm9DWK6"
   },
   "source": [
    "| result |\n",
    "| -----  |\n",
    "| <целое число> |"
   ]
  },
  {
   "cell_type": "code",
   "execution_count": 16,
   "metadata": {
    "id": "kZ7LXTr6DWK6"
   },
   "outputs": [
    {
     "data": {
      "text/html": [
       "<div>\n",
       "<style scoped>\n",
       "    .dataframe tbody tr th:only-of-type {\n",
       "        vertical-align: middle;\n",
       "    }\n",
       "\n",
       "    .dataframe tbody tr th {\n",
       "        vertical-align: top;\n",
       "    }\n",
       "\n",
       "    .dataframe thead th {\n",
       "        text-align: right;\n",
       "    }\n",
       "</style>\n",
       "<table border=\"1\" class=\"dataframe\">\n",
       "  <thead>\n",
       "    <tr style=\"text-align: right;\">\n",
       "      <th></th>\n",
       "      <th>result</th>\n",
       "    </tr>\n",
       "  </thead>\n",
       "  <tbody>\n",
       "    <tr>\n",
       "      <td>0</td>\n",
       "      <td>2.0</td>\n",
       "    </tr>\n",
       "  </tbody>\n",
       "</table>\n",
       "</div>"
      ],
      "text/plain": [
       "   result\n",
       "0     2.0"
      ]
     },
     "execution_count": 16,
     "metadata": {},
     "output_type": "execute_result"
    }
   ],
   "source": [
    "# напишите запрос\n",
    "query = '''\n",
    "WITH sample_1 AS (\n",
    "    SELECT sp.user_id,\n",
    "        sp.creation_date::date\n",
    "    FROM stackoverflow.posts sp\n",
    "    WHERE sp.creation_date::date BETWEEN '2008-12-01' AND '2008-12-07'\n",
    "    GROUP BY 1,2\n",
    "    ORDER BY 1,2\n",
    "),\n",
    "sample_2 AS (\n",
    "    SELECT DISTINCT user_id,\n",
    "        COUNT(creation_date)\n",
    "    FROM sample_1\n",
    "    GROUP BY 1\n",
    "    ORDER BY 1\n",
    ")\n",
    "SELECT ROUND(AVG(count), 0) AS result\n",
    "FROM sample_2;\n",
    "'''\n",
    "\n",
    "# выполните запрос\n",
    "result = pd.read_sql_query(query, con = engine)\n",
    "result"
   ]
  },
  {
   "cell_type": "markdown",
   "metadata": {
    "id": "2K5G3xuBDWK7"
   },
   "source": [
    "<details>\n",
    "\n",
    "<summary>Подсказка</summary>\n",
    "Посчитайте, сколько активных дней было у каждого пользователя. Добавьте данные во временную таблицу и используйте в основном запросе.\n",
    "</details>"
   ]
  },
  {
   "cell_type": "markdown",
   "metadata": {
    "id": "UJFtNNggDWK7"
   },
   "source": [
    "Проанализируйте итоговую таблицу — какие выводы можно сделать?"
   ]
  },
  {
   "cell_type": "code",
   "execution_count": 17,
   "metadata": {
    "id": "LfUuYz-1DWK8"
   },
   "outputs": [],
   "source": [
    "# напишите ваш ответ здесь"
   ]
  },
  {
   "cell_type": "markdown",
   "metadata": {},
   "source": [
    "Исходя из полученных данных можно сказать, что пользователи в среднем взаимодействию с платформой дважды в неделю. Это говорит о том, что в среднем минимум 2 поста каждый пользователь создаёт на сайте."
   ]
  },
  {
   "cell_type": "markdown",
   "metadata": {},
   "source": [
    "<div style=\"border-radius: 15px; box-shadow: 4px 4px 4px; border: solid green 2px; padding: 20px\"> <b>Отличная работа - ✅</b><br>\n",
    "👍</div> <br>"
   ]
  },
  {
   "cell_type": "markdown",
   "metadata": {},
   "source": [
    "<div class=\"alert alert-info\" style=\"border:solid blue 2px; padding: 20px\"> <b>Комментарий студента:</b> Спасибо. 🔥 </div>"
   ]
  },
  {
   "cell_type": "markdown",
   "metadata": {
    "id": "wfOmqmfLDWK8"
   },
   "source": [
    "# Задание 7"
   ]
  },
  {
   "cell_type": "markdown",
   "metadata": {
    "id": "X4ARQimADWK9"
   },
   "source": [
    "Выведите историю активности каждого пользователя в таком виде: идентификатор пользователя, дата публикации поста. Отсортируйте вывод по возрастанию идентификаторов пользователей, а для каждого пользователя — по возрастанию даты публикации.\n",
    "\n",
    "Добавьте в таблицу новое поле: для каждого поста в нём будет указано название месяца предпоследней публикации пользователя относительно текущей. Если такой публикации нет, укажите `NULL`.  Python автоматически поменяет `NULL` на `None`, но дополнительно преобразовывать значения `None` вам не нужно.\n",
    "\n",
    "Посмотрите внимательно на образец таблицы: для первых двух постов предпоследней публикации нет, но, начиная с третьего поста, в новое поле входит нужный месяц. Для следующего пользователя в первые две записи поля `second_last_month` тоже войдёт `NULL`."
   ]
  },
  {
   "cell_type": "markdown",
   "metadata": {
    "id": "IGPjRP01DWK9"
   },
   "source": [
    "| user_id | creation_date | second_last_month |\n",
    "| ------- | ------------- | ----------------- |\n",
    "| 1       | 2008-07-31 23:41:00 | None |\n",
    "| 1       | 2008-07-31 23:55:38 | None |\n",
    "| 1       | 2008-07-31 23:56:41 | July |\n",
    "| 1       | 2008-08-04 02:45:08 | July |\n",
    "| 1       | 2008-08-04 04:31:03 | July |\n",
    "| 1       | 2008-08-04 08:04:42 | August |\n",
    "| ... | ... | ... |"
   ]
  },
  {
   "cell_type": "code",
   "execution_count": 18,
   "metadata": {
    "id": "HzI1vhaMDWK-",
    "scrolled": false
   },
   "outputs": [
    {
     "data": {
      "text/html": [
       "<div>\n",
       "<style scoped>\n",
       "    .dataframe tbody tr th:only-of-type {\n",
       "        vertical-align: middle;\n",
       "    }\n",
       "\n",
       "    .dataframe tbody tr th {\n",
       "        vertical-align: top;\n",
       "    }\n",
       "\n",
       "    .dataframe thead th {\n",
       "        text-align: right;\n",
       "    }\n",
       "</style>\n",
       "<table border=\"1\" class=\"dataframe\">\n",
       "  <thead>\n",
       "    <tr style=\"text-align: right;\">\n",
       "      <th></th>\n",
       "      <th>user_id</th>\n",
       "      <th>creation_date</th>\n",
       "      <th>case</th>\n",
       "    </tr>\n",
       "  </thead>\n",
       "  <tbody>\n",
       "    <tr>\n",
       "      <td>0</td>\n",
       "      <td>1</td>\n",
       "      <td>2008-07-31 23:41:00</td>\n",
       "      <td>None</td>\n",
       "    </tr>\n",
       "    <tr>\n",
       "      <td>1</td>\n",
       "      <td>1</td>\n",
       "      <td>2008-07-31 23:55:38</td>\n",
       "      <td>None</td>\n",
       "    </tr>\n",
       "    <tr>\n",
       "      <td>2</td>\n",
       "      <td>1</td>\n",
       "      <td>2008-07-31 23:56:41</td>\n",
       "      <td>July</td>\n",
       "    </tr>\n",
       "    <tr>\n",
       "      <td>3</td>\n",
       "      <td>1</td>\n",
       "      <td>2008-08-04 02:45:08</td>\n",
       "      <td>July</td>\n",
       "    </tr>\n",
       "    <tr>\n",
       "      <td>4</td>\n",
       "      <td>1</td>\n",
       "      <td>2008-08-04 04:31:03</td>\n",
       "      <td>July</td>\n",
       "    </tr>\n",
       "    <tr>\n",
       "      <td>...</td>\n",
       "      <td>...</td>\n",
       "      <td>...</td>\n",
       "      <td>...</td>\n",
       "    </tr>\n",
       "    <tr>\n",
       "      <td>243791</td>\n",
       "      <td>5696608</td>\n",
       "      <td>2008-12-23 16:00:37</td>\n",
       "      <td>December</td>\n",
       "    </tr>\n",
       "    <tr>\n",
       "      <td>243792</td>\n",
       "      <td>5696608</td>\n",
       "      <td>2008-12-23 17:35:09</td>\n",
       "      <td>December</td>\n",
       "    </tr>\n",
       "    <tr>\n",
       "      <td>243793</td>\n",
       "      <td>5696608</td>\n",
       "      <td>2008-12-24 01:02:48</td>\n",
       "      <td>December</td>\n",
       "    </tr>\n",
       "    <tr>\n",
       "      <td>243794</td>\n",
       "      <td>5696608</td>\n",
       "      <td>2008-12-30 14:34:45</td>\n",
       "      <td>December</td>\n",
       "    </tr>\n",
       "    <tr>\n",
       "      <td>243795</td>\n",
       "      <td>5696608</td>\n",
       "      <td>2008-12-30 16:32:12</td>\n",
       "      <td>December</td>\n",
       "    </tr>\n",
       "  </tbody>\n",
       "</table>\n",
       "<p>243796 rows × 3 columns</p>\n",
       "</div>"
      ],
      "text/plain": [
       "        user_id       creation_date      case\n",
       "0             1 2008-07-31 23:41:00      None\n",
       "1             1 2008-07-31 23:55:38      None\n",
       "2             1 2008-07-31 23:56:41      July\n",
       "3             1 2008-08-04 02:45:08      July\n",
       "4             1 2008-08-04 04:31:03      July\n",
       "...         ...                 ...       ...\n",
       "243791  5696608 2008-12-23 16:00:37  December\n",
       "243792  5696608 2008-12-23 17:35:09  December\n",
       "243793  5696608 2008-12-24 01:02:48  December\n",
       "243794  5696608 2008-12-30 14:34:45  December\n",
       "243795  5696608 2008-12-30 16:32:12  December\n",
       "\n",
       "[243796 rows x 3 columns]"
      ]
     },
     "execution_count": 18,
     "metadata": {},
     "output_type": "execute_result"
    }
   ],
   "source": [
    "# напишите запрос\n",
    "query = '''\n",
    "SELECT user_id,\n",
    "    creation_date,\n",
    "    CASE\n",
    "        WHEN EXTRACT(MONTH FROM second_last_month) = 1 THEN 'January'\n",
    "        WHEN EXTRACT(MONTH FROM second_last_month) = 2 THEN 'February'\n",
    "        WHEN EXTRACT(MONTH FROM second_last_month) = 3 THEN 'March'\n",
    "        WHEN EXTRACT(MONTH FROM second_last_month) = 4 THEN 'April'\n",
    "        WHEN EXTRACT(MONTH FROM second_last_month) = 5 THEN 'May'\n",
    "        WHEN EXTRACT(MONTH FROM second_last_month) = 6 THEN 'June'\n",
    "        WHEN EXTRACT(MONTH FROM second_last_month) = 7 THEN 'July'\n",
    "        WHEN EXTRACT(MONTH FROM second_last_month) = 8 THEN 'August'\n",
    "        WHEN EXTRACT(MONTH FROM second_last_month) = 9 THEN 'September'\n",
    "        WHEN EXTRACT(MONTH FROM second_last_month) = 10 THEN 'October'\n",
    "        WHEN EXTRACT(MONTH FROM second_last_month) = 11 THEN 'November'\n",
    "        WHEN EXTRACT(MONTH FROM second_last_month) = 12 THEN 'December'\n",
    "    END\n",
    "FROM (SELECT sp.user_id,\n",
    "    sp.creation_date,\n",
    "    LAG(sp.creation_date::date, 2, NULL) OVER (PARTITION BY sp.user_id ORDER BY sp.creation_date) AS second_last_month\n",
    "FROM stackoverflow.posts sp\n",
    "ORDER BY 1,2) AS sample;\n",
    "'''\n",
    "\n",
    "# выполните запрос\n",
    "activity_history = pd.read_sql_query(query, con = engine)\n",
    "activity_history"
   ]
  },
  {
   "cell_type": "markdown",
   "metadata": {
    "id": "7dqoKkncDWK_"
   },
   "source": [
    "<details>\n",
    "\n",
    "<summary>Подсказка</summary>\n",
    "Преобразовать результат оконной функции в нужное значение вам поможет аналог условного оператора в SQL: CASE <поле> WHEN <старое значение> THEN <новое значение> END.\n",
    "</details>"
   ]
  },
  {
   "cell_type": "markdown",
   "metadata": {},
   "source": [
    "<div style=\"border-radius: 15px; box-shadow: 4px 4px 4px; border: solid green 2px; padding: 20px\"> <b>Отличная работа - ✅</b><br>\n",
    "👍 <a href=\"https://postgrespro.ru/docs/postgresql/9.5/functions-formatting\">Функция to_char()</a> для удобного получения имени месяца</div> <br>"
   ]
  },
  {
   "cell_type": "markdown",
   "metadata": {},
   "source": [
    "<div class=\"alert alert-info\" style=\"border:solid blue 2px; padding: 20px\"> <b>Комментарий студента:</b> Спасибо. Важная штука🔥 </div>"
   ]
  },
  {
   "cell_type": "markdown",
   "metadata": {
    "id": "tf9qq2yzDWK_"
   },
   "source": [
    "# Задание 8"
   ]
  },
  {
   "cell_type": "markdown",
   "metadata": {
    "id": "gfwLVXBYDWLA"
   },
   "source": [
    "Рассчитайте аналог Retention Rate по месяцам для пользователей StackOverflow. Объедините пользователей в когорты по месяцу их первого поста. Возвращение определяйте по наличию поста в текущем месяце. "
   ]
  },
  {
   "cell_type": "markdown",
   "metadata": {
    "id": "kN2ic39WlKpl"
   },
   "source": [
    "| cohort_dt | session_date | users_cnt | cohort_users_cnt | retention_rate |\n",
    "| --- | --- | --- | --- | --- |\n",
    "| 2008-07-01 00:00:00 | 2008-07-01 00:00:00 | 3 | 3 | 100 |\n",
    "| 2008-07-01 00:00:00 | 2008-08-01 00:00:00 | 2 | 3 | 66,67 |\n",
    "| 2008-07-01 00:00:00 | 2008-09-01 00:00:00 | 1 | 3 | 33,33 |\n",
    "| 2008-07-01 00:00:00 | 2008-10-01 00:00:00 | 2 | 3 | 66,67 |\n",
    "| 2008-07-01 00:00:00 | 2008-11-01 00:00:00 | 1 | 3 | 33,33 |\n",
    "| 2008-07-01 00:00:00 | 2008-12-01 00:00:00 | 2 | 3 | 66,67 |\n",
    "| 2008-08-01 00:00:00 | 2008-08-01 00:00:00 | 2151 | 2151 | 100 |\n",
    "| ... | ... | ... | ... | ... |"
   ]
  },
  {
   "cell_type": "code",
   "execution_count": 19,
   "metadata": {
    "id": "LUgFmwmTDWLB",
    "scrolled": true
   },
   "outputs": [
    {
     "data": {
      "text/html": [
       "<div>\n",
       "<style scoped>\n",
       "    .dataframe tbody tr th:only-of-type {\n",
       "        vertical-align: middle;\n",
       "    }\n",
       "\n",
       "    .dataframe tbody tr th {\n",
       "        vertical-align: top;\n",
       "    }\n",
       "\n",
       "    .dataframe thead th {\n",
       "        text-align: right;\n",
       "    }\n",
       "</style>\n",
       "<table border=\"1\" class=\"dataframe\">\n",
       "  <thead>\n",
       "    <tr style=\"text-align: right;\">\n",
       "      <th></th>\n",
       "      <th>cohort_date</th>\n",
       "      <th>session_dt</th>\n",
       "      <th>count</th>\n",
       "      <th>user_in_cohort</th>\n",
       "      <th>round</th>\n",
       "    </tr>\n",
       "  </thead>\n",
       "  <tbody>\n",
       "    <tr>\n",
       "      <td>0</td>\n",
       "      <td>2008-07-01</td>\n",
       "      <td>2008-07-01</td>\n",
       "      <td>3</td>\n",
       "      <td>3</td>\n",
       "      <td>100.00</td>\n",
       "    </tr>\n",
       "    <tr>\n",
       "      <td>1</td>\n",
       "      <td>2008-07-01</td>\n",
       "      <td>2008-08-01</td>\n",
       "      <td>2</td>\n",
       "      <td>3</td>\n",
       "      <td>66.67</td>\n",
       "    </tr>\n",
       "    <tr>\n",
       "      <td>2</td>\n",
       "      <td>2008-07-01</td>\n",
       "      <td>2008-09-01</td>\n",
       "      <td>1</td>\n",
       "      <td>3</td>\n",
       "      <td>33.33</td>\n",
       "    </tr>\n",
       "    <tr>\n",
       "      <td>3</td>\n",
       "      <td>2008-07-01</td>\n",
       "      <td>2008-10-01</td>\n",
       "      <td>2</td>\n",
       "      <td>3</td>\n",
       "      <td>66.67</td>\n",
       "    </tr>\n",
       "    <tr>\n",
       "      <td>4</td>\n",
       "      <td>2008-07-01</td>\n",
       "      <td>2008-11-01</td>\n",
       "      <td>1</td>\n",
       "      <td>3</td>\n",
       "      <td>33.33</td>\n",
       "    </tr>\n",
       "    <tr>\n",
       "      <td>5</td>\n",
       "      <td>2008-07-01</td>\n",
       "      <td>2008-12-01</td>\n",
       "      <td>2</td>\n",
       "      <td>3</td>\n",
       "      <td>66.67</td>\n",
       "    </tr>\n",
       "    <tr>\n",
       "      <td>6</td>\n",
       "      <td>2008-08-01</td>\n",
       "      <td>2008-08-01</td>\n",
       "      <td>2151</td>\n",
       "      <td>2151</td>\n",
       "      <td>100.00</td>\n",
       "    </tr>\n",
       "  </tbody>\n",
       "</table>\n",
       "</div>"
      ],
      "text/plain": [
       "  cohort_date  session_dt  count  user_in_cohort   round\n",
       "0  2008-07-01  2008-07-01      3               3  100.00\n",
       "1  2008-07-01  2008-08-01      2               3   66.67\n",
       "2  2008-07-01  2008-09-01      1               3   33.33\n",
       "3  2008-07-01  2008-10-01      2               3   66.67\n",
       "4  2008-07-01  2008-11-01      1               3   33.33\n",
       "5  2008-07-01  2008-12-01      2               3   66.67\n",
       "6  2008-08-01  2008-08-01   2151            2151  100.00"
      ]
     },
     "execution_count": 19,
     "metadata": {},
     "output_type": "execute_result"
    }
   ],
   "source": [
    "# напишите запрос\n",
    "query = '''\n",
    "WITH profile AS (\n",
    "    SELECT id, \n",
    "        cohort_date, \n",
    "        COUNT(id) OVER (PARTITION BY cohort_date) AS user_in_cohort\n",
    "    FROM (SELECT su.id AS id,\n",
    "              MIN(DATE_TRUNC('month', sp.creation_date)) AS cohort_date \n",
    "          FROM stackoverflow.users su\n",
    "          JOIN stackoverflow.posts sp ON su.id = sp.user_id\n",
    "          GROUP BY 1) AS sample\n",
    "    GROUP BY 1,2\n",
    "),\n",
    "session AS (\n",
    "    SELECT sp.user_id AS id,\n",
    "        DATE_TRUNC('month', sp.creation_date)::DATE AS session_dt\n",
    "    FROM stackoverflow.posts sp\n",
    "    JOIN profile p ON p.id = sp.user_id\n",
    "    GROUP BY 1,2\n",
    ")\n",
    "SELECT p.cohort_date,\n",
    "    s.session_dt,\n",
    "    COUNT(DISTINCT p.id),\n",
    "    p.user_in_cohort,\n",
    "    ROUND((COUNT(DISTINCT s.id) * 100.0 / p.user_in_cohort), 2)\n",
    "FROM profile p\n",
    "LEFT JOIN session s ON p.id = s.id\n",
    "GROUP BY 1,2,4;\n",
    "'''\n",
    "\n",
    "# выполните запрос\n",
    "retention_rate = pd.read_sql_query(query, con = engine)\n",
    "retention_rate.head(7)"
   ]
  },
  {
   "cell_type": "markdown",
   "metadata": {},
   "source": [
    "<div style=\"border-radius: 15px; box-shadow: 4px 4px 4px; border: solid green 2px; padding: 20px\"> <b>Отличная работа - ✅</b><br>\n",
    "👍</div> <br>"
   ]
  },
  {
   "cell_type": "markdown",
   "metadata": {},
   "source": [
    "<div class=\"alert alert-info\" style=\"border:solid blue 2px; padding: 20px\"> <b>Комментарий студента:</b> Спасибо. 🔥 </div>"
   ]
  },
  {
   "cell_type": "code",
   "execution_count": 20,
   "metadata": {
    "id": "qAEJc8H1DWLC"
   },
   "outputs": [],
   "source": [
    "# постройте тепловую карту Retention Rate"
   ]
  },
  {
   "cell_type": "code",
   "execution_count": 21,
   "metadata": {},
   "outputs": [
    {
     "data": {
      "image/png": "[encoded data removed]",
      "text/plain": [
       "<Figure size 720x720 with 2 Axes>"
      ]
     },
     "metadata": {
      "needs_background": "light"
     },
     "output_type": "display_data"
    }
   ],
   "source": [
    "retention = retention_rate.pivot('cohort_date', 'session_dt', 'round')\n",
    "retention.index = [str(x)[0:10] for x in retention.index]\n",
    "retention.columns = [str(x)[0:10] for x in retention.columns]\n",
    "\n",
    "plt.figure(figsize=(10, 10)) # задаём размер графика\n",
    "sns.heatmap(retention, # датафрейм с данными\n",
    "            annot=True, # добавляем подписи\n",
    "            fmt='') # задаём исходный формат\n",
    "plt.title('Тепловая карта') # название графика\n",
    "plt.show()"
   ]
  },
  {
   "cell_type": "markdown",
   "metadata": {
    "id": "Yavb5o9JDWLB"
   },
   "source": [
    "<details>\n",
    "\n",
    "<summary>Подсказка</summary>\n",
    "Вспомните, как выглядел запрос для расчёта Retention Rate в теории. Создайте две временные таблицы: `profile` и `sessions` (в ней будет информация о публикациях), а затем используйте их в основном запросе.\n",
    "\n",
    "Во временной таблице `profile` вам понадобятся три поля:\n",
    "\n",
    "- идентификатор пользователя;\n",
    "- дата первого поста пользователя, усечённая до месяца (признак начала когорты);\n",
    "- количество пользователей этой когорты.\n",
    "</details>"
   ]
  },
  {
   "cell_type": "markdown",
   "metadata": {
    "id": "_msBtnb2DWLC"
   },
   "source": [
    "Постройте тепловую карту Retention Rate. Какие аномалии или другие необычные явления удалось выявить? Сформулируйте гипотезы о возможных причинах."
   ]
  },
  {
   "cell_type": "code",
   "execution_count": 22,
   "metadata": {
    "id": "EgOfIsI4DWLC"
   },
   "outputs": [],
   "source": [
    "# опишите аномалии или другие необычные явления и сформулируйте гипотезы"
   ]
  },
  {
   "cell_type": "markdown",
   "metadata": {},
   "source": [
    "Среди пользователей когорт от июля, августа, сентября коэффициент удержания первого дня больше 50%.\n",
    "В когорте пользователей, написавших пост в ноябре, самое маленькое значение Retention Rate за первый день."
   ]
  },
  {
   "cell_type": "markdown",
   "metadata": {},
   "source": [
    "<div style=\"border-radius: 15px; box-shadow: 4px 4px 4px; border: solid green 2px; padding: 20px\"> <b>Отличная работа - ✅</b><br>\n",
    "👍</div> <br>"
   ]
  },
  {
   "cell_type": "markdown",
   "metadata": {},
   "source": [
    "<div class=\"alert alert-info\" style=\"border:solid blue 2px; padding: 20px\"> <b>Комментарий студента:</b> Спасибо. 🔥 </div>"
   ]
  },
  {
   "cell_type": "markdown",
   "metadata": {
    "id": "1k7oPWt5DWLK"
   },
   "source": [
    "# Задание 9\n"
   ]
  },
  {
   "cell_type": "markdown",
   "metadata": {
    "id": "ALsYVSyRDWLM"
   },
   "source": [
    "На сколько процентов менялось количество постов ежемесячно с 1 сентября по 31 декабря 2008 года? Отобразите таблицу со следующими полями:\n",
    "\n",
    "- номер месяца;\n",
    "- количество постов за месяц;\n",
    "- процент, который показывает, насколько изменилось количество постов в текущем месяце по сравнению с предыдущим.\n",
    "\n",
    "Если постов стало меньше, значение процента должно быть отрицательным, если больше — положительным. Округлите значение процента до двух знаков после запятой.\n",
    "\n",
    "Напомним, что при делении одного целого числа на другое в PostgreSQL в результате получится целое число, округлённое до ближайшего целого вниз. Чтобы этого избежать, переведите делимое в тип `numeric`."
   ]
  },
  {
   "cell_type": "markdown",
   "metadata": {
    "id": "u4E2zF8DDWLM"
   },
   "source": [
    "| creation_month | posts_count | percentage |\n",
    "| -------------- | ----------- | ---------- |\n",
    "| 9 | 70731 | Nan |\n",
    "| 10 | 63102 | -10.33 |\n",
    "| ... | ... | ... |"
   ]
  },
  {
   "cell_type": "code",
   "execution_count": 23,
   "metadata": {
    "id": "Mb5pShStDWLN"
   },
   "outputs": [
    {
     "data": {
      "text/html": [
       "<div>\n",
       "<style scoped>\n",
       "    .dataframe tbody tr th:only-of-type {\n",
       "        vertical-align: middle;\n",
       "    }\n",
       "\n",
       "    .dataframe tbody tr th {\n",
       "        vertical-align: top;\n",
       "    }\n",
       "\n",
       "    .dataframe thead th {\n",
       "        text-align: right;\n",
       "    }\n",
       "</style>\n",
       "<table border=\"1\" class=\"dataframe\">\n",
       "  <thead>\n",
       "    <tr style=\"text-align: right;\">\n",
       "      <th></th>\n",
       "      <th>creation_month</th>\n",
       "      <th>posts_count</th>\n",
       "      <th>percentage</th>\n",
       "    </tr>\n",
       "  </thead>\n",
       "  <tbody>\n",
       "    <tr>\n",
       "      <td>0</td>\n",
       "      <td>9.0</td>\n",
       "      <td>70371</td>\n",
       "      <td>NaN</td>\n",
       "    </tr>\n",
       "    <tr>\n",
       "      <td>1</td>\n",
       "      <td>10.0</td>\n",
       "      <td>63102</td>\n",
       "      <td>-10.33</td>\n",
       "    </tr>\n",
       "    <tr>\n",
       "      <td>2</td>\n",
       "      <td>11.0</td>\n",
       "      <td>46975</td>\n",
       "      <td>-25.56</td>\n",
       "    </tr>\n",
       "    <tr>\n",
       "      <td>3</td>\n",
       "      <td>12.0</td>\n",
       "      <td>44592</td>\n",
       "      <td>-5.07</td>\n",
       "    </tr>\n",
       "  </tbody>\n",
       "</table>\n",
       "</div>"
      ],
      "text/plain": [
       "   creation_month  posts_count  percentage\n",
       "0             9.0        70371         NaN\n",
       "1            10.0        63102      -10.33\n",
       "2            11.0        46975      -25.56\n",
       "3            12.0        44592       -5.07"
      ]
     },
     "execution_count": 23,
     "metadata": {},
     "output_type": "execute_result"
    }
   ],
   "source": [
    "# напишите запрос\n",
    "query = '''\n",
    "WITH samle AS (\n",
    "    SELECT DISTINCT EXTRACT(MONTH FROM sp.creation_date::date) AS creation_month,\n",
    "        COUNT(*) OVER (PARTITION BY EXTRACT(MONTH FROM sp.creation_date::date)) AS posts_count\n",
    "    FROM stackoverflow.posts sp\n",
    "    WHERE sp.creation_date::date BETWEEN '2008-09-01' AND '2008-12-31'\n",
    ")\n",
    "SELECT *,\n",
    "    ROUND((CAST(posts_count AS numeric)/LAG(posts_count) OVER (ORDER BY creation_month) - 1) * 100, 2) AS percentage\n",
    "FROM samle\n",
    "ORDER BY creation_month;\n",
    "'''\n",
    "\n",
    "# выполните запрос CAST(<выражение> AS <тип данных>)\n",
    "percentage = pd.read_sql_query(query, con = engine)\n",
    "percentage"
   ]
  },
  {
   "cell_type": "markdown",
   "metadata": {
    "id": "G0VSDL4HDWLO"
   },
   "source": [
    "<details>\n",
    "\n",
    "<summary>Подсказка</summary>\n",
    "Эту задачу стоит декомпозировать. Сформируйте запрос, который отобразит номер месяца и количество постов. Затем можно использовать оконную функцию, которая вернёт значение за предыдущий месяц, и посчитать процент.\n",
    "</details>"
   ]
  },
  {
   "cell_type": "markdown",
   "metadata": {},
   "source": [
    "<div style=\"border-radius: 15px; box-shadow: 4px 4px 4px; border: solid green 2px; padding: 20px\"> <b>Отличная работа - ✅</b><br>\n",
    "👍</div> <br>"
   ]
  },
  {
   "cell_type": "markdown",
   "metadata": {},
   "source": [
    "<div class=\"alert alert-info\" style=\"border:solid blue 2px; padding: 20px\"> <b>Комментарий студента:</b> Спасибо. 🔥 </div>"
   ]
  },
  {
   "cell_type": "markdown",
   "metadata": {
    "id": "9NQE2y_MDWLP"
   },
   "source": [
    "Постройте круговую диаграмму с количеством постов по месяцам."
   ]
  },
  {
   "cell_type": "code",
   "execution_count": 24,
   "metadata": {
    "id": "377ABjiVDWLP"
   },
   "outputs": [],
   "source": [
    "# постройте круговую диаграмму с количеством постов по месяцам"
   ]
  },
  {
   "cell_type": "code",
   "execution_count": 25,
   "metadata": {
    "scrolled": true
   },
   "outputs": [
    {
     "data": {
      "image/png": "[encoded data removed]",
      "text/plain": [
       "<Figure size 432x288 with 1 Axes>"
      ]
     },
     "metadata": {},
     "output_type": "display_data"
    }
   ],
   "source": [
    "fig, ax = plt.subplots()\n",
    "ax.pie(percentage['posts_count'], labels=percentage['creation_month'], autopct='%1.1f%%', shadow=True, wedgeprops={'lw':1, 'ls':'--','edgecolor':\"k\"}, rotatelabels=True)\n",
    "ax.axis(\"equal\");"
   ]
  },
  {
   "cell_type": "markdown",
   "metadata": {},
   "source": [
    "<div style=\"border-radius: 15px; box-shadow: 4px 4px 4px; border: solid green 2px; padding: 20px\"> <b>Отличная работа - ✅</b><br>\n",
    "👍</div> <br>"
   ]
  },
  {
   "cell_type": "markdown",
   "metadata": {},
   "source": [
    "<div class=\"alert alert-info\" style=\"border:solid blue 2px; padding: 20px\"> <b>Комментарий студента:</b> Спасибо. 🔥 </div>"
   ]
  },
  {
   "cell_type": "markdown",
   "metadata": {
    "id": "uw7qMtafDWLP"
   },
   "source": [
    "# Задание 10"
   ]
  },
  {
   "cell_type": "markdown",
   "metadata": {
    "id": "oRBpWKx3DWLQ"
   },
   "source": [
    "Выгрузите данные активности пользователя, который опубликовал больше всего постов за всё время. Выведите данные за октябрь 2008 года в таком виде:\n",
    "\n",
    "- номер недели;\n",
    "- дата и время последнего поста, опубликованного на этой неделе."
   ]
  },
  {
   "cell_type": "markdown",
   "metadata": {
    "id": "XjAWSn_3DWLQ"
   },
   "source": [
    "| week_creation | creation_date |\n",
    "| ------------- | ------------- |\n",
    "| 40 | 2008-10-05 09:00:58 |\n",
    "| 41 | 2008-10-12 21:22:23 |\n",
    "| ... | ... |"
   ]
  },
  {
   "cell_type": "code",
   "execution_count": 26,
   "metadata": {
    "id": "r5F5fSkwDWLQ"
   },
   "outputs": [
    {
     "data": {
      "text/html": [
       "<div>\n",
       "<style scoped>\n",
       "    .dataframe tbody tr th:only-of-type {\n",
       "        vertical-align: middle;\n",
       "    }\n",
       "\n",
       "    .dataframe tbody tr th {\n",
       "        vertical-align: top;\n",
       "    }\n",
       "\n",
       "    .dataframe thead th {\n",
       "        text-align: right;\n",
       "    }\n",
       "</style>\n",
       "<table border=\"1\" class=\"dataframe\">\n",
       "  <thead>\n",
       "    <tr style=\"text-align: right;\">\n",
       "      <th></th>\n",
       "      <th>date_part</th>\n",
       "      <th>max</th>\n",
       "    </tr>\n",
       "  </thead>\n",
       "  <tbody>\n",
       "    <tr>\n",
       "      <td>0</td>\n",
       "      <td>40.0</td>\n",
       "      <td>2008-10-05 09:00:58</td>\n",
       "    </tr>\n",
       "    <tr>\n",
       "      <td>1</td>\n",
       "      <td>41.0</td>\n",
       "      <td>2008-10-12 21:22:23</td>\n",
       "    </tr>\n",
       "    <tr>\n",
       "      <td>2</td>\n",
       "      <td>42.0</td>\n",
       "      <td>2008-10-19 06:49:30</td>\n",
       "    </tr>\n",
       "    <tr>\n",
       "      <td>3</td>\n",
       "      <td>43.0</td>\n",
       "      <td>2008-10-26 21:44:36</td>\n",
       "    </tr>\n",
       "    <tr>\n",
       "      <td>4</td>\n",
       "      <td>44.0</td>\n",
       "      <td>2008-10-31 22:16:01</td>\n",
       "    </tr>\n",
       "  </tbody>\n",
       "</table>\n",
       "</div>"
      ],
      "text/plain": [
       "   date_part                 max\n",
       "0       40.0 2008-10-05 09:00:58\n",
       "1       41.0 2008-10-12 21:22:23\n",
       "2       42.0 2008-10-19 06:49:30\n",
       "3       43.0 2008-10-26 21:44:36\n",
       "4       44.0 2008-10-31 22:16:01"
      ]
     },
     "execution_count": 26,
     "metadata": {},
     "output_type": "execute_result"
    }
   ],
   "source": [
    "# напишите запрос\n",
    "query = '''\n",
    "WITH s_1 AS (\n",
    "    SELECT DISTINCT sp.user_id,\n",
    "        COUNT(sp.id)\n",
    "    FROM stackoverflow.posts sp\n",
    "    GROUP BY 1\n",
    "),\n",
    "s_2 AS (\n",
    "    SELECT user_id\n",
    "    FROM s_1\n",
    "    WHERE count IN (SELECT MAX(count) FROM s_1)\n",
    ")\n",
    "SELECT DISTINCT EXTRACT(WEEK FROM creation_date::date),\n",
    "    MAX(creation_date) OVER (PARTITION BY EXTRACT(WEEK FROM creation_date::date))\n",
    "FROM stackoverflow.posts sp\n",
    "JOIN s_2 ON sp.user_id=s_2.user_id\n",
    "WHERE creation_date::date BETWEEN '2008-10-01' AND '2008-10-31';\n",
    "'''\n",
    "\n",
    "# выполните запрос\n",
    "data_for_October = pd.read_sql_query(query, con = engine)\n",
    "data_for_October"
   ]
  },
  {
   "cell_type": "markdown",
   "metadata": {
    "id": "KAcmxvLgDWLR"
   },
   "source": [
    "<details>\n",
    "\n",
    "<summary>Подсказка</summary>\n",
    "Декомпозируйте задачу:\n",
    "1) Найдите пользователя, который опубликовал больше всего постов. 2) Найдите дату и время создания каждого поста этого пользователя и номер недели. \n",
    "3) Отобразите данные только о последних постах пользователя. Для этого можно использовать оконную функцию.\n",
    "</details>"
   ]
  },
  {
   "cell_type": "markdown",
   "metadata": {},
   "source": [
    "<div style=\"border-radius: 15px; box-shadow: 4px 4px 4px; border: solid green 2px; padding: 20px\"> <b>Отличная работа - ✅</b><br>\n",
    "В этом запросе ты корректно сравниваешь дату с датой <code>WHERE creation_date::date BETWEEN '2008-10-01' AND '2008-10-31'</code>, поле <code>creation_date::date</code> преобразовано к дате дня. И результат на выходе корректный</div> <br>"
   ]
  },
  {
   "cell_type": "markdown",
   "metadata": {},
   "source": [
    "<div class=\"alert alert-info\" style=\"border:solid blue 2px; padding: 20px\"> <b>Комментарий студента:</b> Спасибо. Да прибудет с нами сила)))) 🔥🔥🔥 </div>"
   ]
  },
  {
   "cell_type": "markdown",
   "metadata": {},
   "source": [
    "<br><img width=\"480\" src=\"https://yt3.ggpht.com/ytc/AKedOLR4nocA0gcnB83XTYz1jpnL2aHJIFj5vbCNlJ4L=s900-c-k-c0x00ffffff-no-rj\">\n",
    "<hr style=\"border: 10px solid green;\" />\n",
    "\n",
    "## <span style=\"color:green\">Финальный комментарий<span>\n",
    "Спасибо за проделанную работу🤝\n",
    "\n",
    "Анатолий, работа выполнена очень хорошо, ты отлично справился с различными конструкциями SQL👍\n",
    "    \n",
    "В работе есть желтые комментарии, хочу чтобы ты их изучил, поэтому отправляю работу обратно. Если всё понятно и у тебя не будет дополнительных вопросов, я приму работу🧐"
   ]
  }
 ],
 "metadata": {
  "ExecuteTimeLog": [
   {
    "duration": 819,
    "start_time": "2022-02-18T11:42:22.716Z"
   },
   {
    "duration": 4,
    "start_time": "2022-02-18T11:42:24.194Z"
   },
   {
    "duration": 5,
    "start_time": "2022-02-18T11:42:27.034Z"
   },
   {
    "duration": 45,
    "start_time": "2022-02-18T11:44:42.060Z"
   },
   {
    "duration": 231,
    "start_time": "2022-02-18T11:44:43.572Z"
   },
   {
    "duration": 16,
    "start_time": "2022-02-18T11:44:44.977Z"
   },
   {
    "duration": 4,
    "start_time": "2022-02-18T11:55:15.145Z"
   },
   {
    "duration": 582,
    "start_time": "2022-02-18T11:57:05.759Z"
   },
   {
    "duration": 401,
    "start_time": "2022-02-18T11:57:21.404Z"
   },
   {
    "duration": 62,
    "start_time": "2022-02-18T11:58:06.029Z"
   },
   {
    "duration": 63,
    "start_time": "2022-02-18T11:58:32.645Z"
   },
   {
    "duration": 66,
    "start_time": "2022-02-18T11:59:07.622Z"
   },
   {
    "duration": 65,
    "start_time": "2022-02-18T11:59:21.813Z"
   },
   {
    "duration": 66,
    "start_time": "2022-02-18T11:59:45.766Z"
   },
   {
    "duration": 302,
    "start_time": "2022-02-18T12:09:26.173Z"
   },
   {
    "duration": 341,
    "start_time": "2022-02-18T12:09:51.472Z"
   },
   {
    "duration": 306,
    "start_time": "2022-02-18T12:10:03.506Z"
   },
   {
    "duration": 308,
    "start_time": "2022-02-18T12:10:48.182Z"
   },
   {
    "duration": 326,
    "start_time": "2022-02-18T12:11:00.877Z"
   },
   {
    "duration": 375,
    "start_time": "2022-02-18T12:13:36.976Z"
   },
   {
    "duration": 57,
    "start_time": "2022-02-18T12:14:26.929Z"
   },
   {
    "duration": 683,
    "start_time": "2022-02-20T18:58:18.831Z"
   },
   {
    "duration": 3,
    "start_time": "2022-02-20T18:58:20.575Z"
   },
   {
    "duration": 26,
    "start_time": "2022-02-20T18:58:21.758Z"
   },
   {
    "duration": 202,
    "start_time": "2022-02-20T18:58:22.782Z"
   },
   {
    "duration": 12,
    "start_time": "2022-02-20T18:58:23.696Z"
   },
   {
    "duration": 52,
    "start_time": "2022-02-20T18:58:33.567Z"
   },
   {
    "duration": 2,
    "start_time": "2022-02-20T18:59:36.712Z"
   },
   {
    "duration": 3,
    "start_time": "2022-02-20T19:13:21.526Z"
   },
   {
    "duration": 222,
    "start_time": "2022-02-20T19:14:39.610Z"
   },
   {
    "duration": 1387,
    "start_time": "2022-02-20T19:30:46.085Z"
   },
   {
    "duration": 387,
    "start_time": "2022-02-20T19:31:22.797Z"
   },
   {
    "duration": 2873,
    "start_time": "2022-02-20T19:31:46.510Z"
   },
   {
    "duration": 50,
    "start_time": "2022-02-20T19:33:04.735Z"
   },
   {
    "duration": 281,
    "start_time": "2022-02-20T19:33:14.342Z"
   },
   {
    "duration": 51,
    "start_time": "2022-02-20T19:33:30.335Z"
   },
   {
    "duration": 1985,
    "start_time": "2022-02-20T19:36:37.064Z"
   },
   {
    "duration": 447,
    "start_time": "2022-02-20T19:41:44.610Z"
   },
   {
    "duration": 3594,
    "start_time": "2022-02-20T19:45:55.199Z"
   },
   {
    "duration": 696,
    "start_time": "2022-02-20T19:46:50.930Z"
   },
   {
    "duration": 290,
    "start_time": "2022-02-20T19:47:18.726Z"
   },
   {
    "duration": 173,
    "start_time": "2022-02-20T19:48:25.655Z"
   },
   {
    "duration": 165,
    "start_time": "2022-02-20T19:50:36.022Z"
   },
   {
    "duration": 164,
    "start_time": "2022-02-20T19:51:05.529Z"
   },
   {
    "duration": 161,
    "start_time": "2022-02-20T19:51:11.537Z"
   },
   {
    "duration": 125,
    "start_time": "2022-02-20T19:51:50.587Z"
   },
   {
    "duration": 121,
    "start_time": "2022-02-20T19:51:55.346Z"
   },
   {
    "duration": 120,
    "start_time": "2022-02-20T19:53:03.099Z"
   },
   {
    "duration": 3,
    "start_time": "2022-02-20T20:09:53.238Z"
   },
   {
    "duration": 210,
    "start_time": "2022-02-20T20:14:35.519Z"
   },
   {
    "duration": 120,
    "start_time": "2022-02-20T20:16:26.563Z"
   },
   {
    "duration": 116,
    "start_time": "2022-02-20T20:17:29.436Z"
   },
   {
    "duration": 225,
    "start_time": "2022-02-20T20:18:24.548Z"
   },
   {
    "duration": 116,
    "start_time": "2022-02-20T20:18:28.372Z"
   },
   {
    "duration": 119,
    "start_time": "2022-02-20T20:18:48.053Z"
   },
   {
    "duration": 165,
    "start_time": "2022-02-20T20:32:00.042Z"
   },
   {
    "duration": 231,
    "start_time": "2022-02-20T20:33:11.510Z"
   },
   {
    "duration": 163,
    "start_time": "2022-02-20T20:34:42.071Z"
   },
   {
    "duration": 162,
    "start_time": "2022-02-20T20:34:57.944Z"
   },
   {
    "duration": 167,
    "start_time": "2022-02-20T20:35:30.736Z"
   },
   {
    "duration": 107,
    "start_time": "2022-02-20T20:37:51.666Z"
   },
   {
    "duration": 119,
    "start_time": "2022-02-20T20:40:30.947Z"
   },
   {
    "duration": 288,
    "start_time": "2022-02-20T20:41:40.140Z"
   },
   {
    "duration": 116,
    "start_time": "2022-02-20T20:42:17.303Z"
   },
   {
    "duration": 158,
    "start_time": "2022-02-20T20:46:36.812Z"
   },
   {
    "duration": 163,
    "start_time": "2022-02-20T20:46:48.264Z"
   },
   {
    "duration": 224,
    "start_time": "2022-02-20T20:49:30.802Z"
   },
   {
    "duration": 1058,
    "start_time": "2022-02-20T20:49:36.185Z"
   },
   {
    "duration": 203,
    "start_time": "2022-02-20T20:52:07.417Z"
   },
   {
    "duration": 213,
    "start_time": "2022-02-20T20:53:18.524Z"
   },
   {
    "duration": 310,
    "start_time": "2022-02-20T20:53:25.988Z"
   },
   {
    "duration": 296,
    "start_time": "2022-02-20T20:53:47.444Z"
   },
   {
    "duration": 299,
    "start_time": "2022-02-20T20:54:35.292Z"
   },
   {
    "duration": 342,
    "start_time": "2022-02-20T20:55:11.142Z"
   },
   {
    "duration": 350,
    "start_time": "2022-02-20T20:55:50.942Z"
   },
   {
    "duration": 347,
    "start_time": "2022-02-20T20:55:59.854Z"
   },
   {
    "duration": 214,
    "start_time": "2022-02-20T20:56:55.223Z"
   },
   {
    "duration": 383,
    "start_time": "2022-02-20T20:56:59.991Z"
   },
   {
    "duration": 424,
    "start_time": "2022-02-20T20:57:18.239Z"
   },
   {
    "duration": 422,
    "start_time": "2022-02-20T20:57:41.847Z"
   },
   {
    "duration": 453,
    "start_time": "2022-02-20T20:58:08.999Z"
   },
   {
    "duration": 436,
    "start_time": "2022-02-20T20:58:22.934Z"
   },
   {
    "duration": 446,
    "start_time": "2022-02-20T20:58:42.063Z"
   },
   {
    "duration": 449,
    "start_time": "2022-02-20T20:59:16.272Z"
   },
   {
    "duration": 305,
    "start_time": "2022-02-20T21:01:06.440Z"
   },
   {
    "duration": 219,
    "start_time": "2022-02-20T21:07:01.174Z"
   },
   {
    "duration": 245,
    "start_time": "2022-02-20T21:07:38.790Z"
   },
   {
    "duration": 437,
    "start_time": "2022-02-20T21:08:04.829Z"
   },
   {
    "duration": 445,
    "start_time": "2022-02-20T21:08:17.366Z"
   },
   {
    "duration": 470,
    "start_time": "2022-02-20T21:09:13.711Z"
   },
   {
    "duration": 297,
    "start_time": "2022-02-20T21:09:43.359Z"
   },
   {
    "duration": 288,
    "start_time": "2022-02-20T21:10:15.146Z"
   },
   {
    "duration": 210,
    "start_time": "2022-02-20T21:11:22.185Z"
   },
   {
    "duration": 303,
    "start_time": "2022-02-20T21:12:02.992Z"
   },
   {
    "duration": 228,
    "start_time": "2022-02-20T21:13:37.243Z"
   },
   {
    "duration": 287,
    "start_time": "2022-02-20T21:13:54.427Z"
   },
   {
    "duration": 210,
    "start_time": "2022-02-20T21:14:17.466Z"
   },
   {
    "duration": 368,
    "start_time": "2022-02-20T21:14:21.658Z"
   },
   {
    "duration": 217,
    "start_time": "2022-02-20T21:14:44.946Z"
   },
   {
    "duration": 215,
    "start_time": "2022-02-20T21:15:03.275Z"
   },
   {
    "duration": 214,
    "start_time": "2022-02-20T21:39:11.754Z"
   },
   {
    "duration": 269,
    "start_time": "2022-02-20T21:43:04.807Z"
   },
   {
    "duration": 219,
    "start_time": "2022-02-20T21:43:52.742Z"
   },
   {
    "duration": 1424,
    "start_time": "2022-02-20T21:44:11.071Z"
   },
   {
    "duration": 415,
    "start_time": "2022-02-20T21:44:53.375Z"
   },
   {
    "duration": 254,
    "start_time": "2022-02-20T21:45:00.351Z"
   },
   {
    "duration": 226,
    "start_time": "2022-02-20T21:45:24.712Z"
   },
   {
    "duration": 387,
    "start_time": "2022-02-20T21:45:29.169Z"
   },
   {
    "duration": 357,
    "start_time": "2022-02-20T21:45:49.976Z"
   },
   {
    "duration": 358,
    "start_time": "2022-02-20T21:47:31.506Z"
   },
   {
    "duration": 343,
    "start_time": "2022-02-20T21:48:10.297Z"
   },
   {
    "duration": 231,
    "start_time": "2022-02-20T21:48:38.274Z"
   },
   {
    "duration": 323,
    "start_time": "2022-02-20T21:48:49.026Z"
   },
   {
    "duration": 326,
    "start_time": "2022-02-20T21:49:11.026Z"
   },
   {
    "duration": 327,
    "start_time": "2022-02-20T21:49:55.035Z"
   },
   {
    "duration": 4714,
    "start_time": "2022-02-20T21:53:13.693Z"
   },
   {
    "duration": 1337,
    "start_time": "2022-02-20T21:53:26.437Z"
   },
   {
    "duration": 336,
    "start_time": "2022-02-20T21:55:28.175Z"
   },
   {
    "duration": 338,
    "start_time": "2022-02-20T21:55:44.727Z"
   },
   {
    "duration": 3,
    "start_time": "2022-02-21T17:11:35.890Z"
   },
   {
    "duration": 672,
    "start_time": "2022-02-21T17:13:12.751Z"
   },
   {
    "duration": 6,
    "start_time": "2022-02-21T17:13:13.425Z"
   },
   {
    "duration": 28,
    "start_time": "2022-02-21T17:13:13.433Z"
   },
   {
    "duration": 199,
    "start_time": "2022-02-21T17:13:13.463Z"
   },
   {
    "duration": 12,
    "start_time": "2022-02-21T17:13:13.663Z"
   },
   {
    "duration": 50,
    "start_time": "2022-02-21T17:13:13.677Z"
   },
   {
    "duration": 2,
    "start_time": "2022-02-21T17:13:13.729Z"
   },
   {
    "duration": 367,
    "start_time": "2022-02-21T17:13:13.733Z"
   },
   {
    "duration": 2,
    "start_time": "2022-02-21T17:13:14.103Z"
   },
   {
    "duration": 113,
    "start_time": "2022-02-21T17:13:14.106Z"
   },
   {
    "duration": 2,
    "start_time": "2022-02-21T17:13:14.221Z"
   },
   {
    "duration": 5,
    "start_time": "2022-02-21T17:13:14.224Z"
   },
   {
    "duration": 4,
    "start_time": "2022-02-21T17:13:14.230Z"
   },
   {
    "duration": 4,
    "start_time": "2022-02-21T17:13:14.236Z"
   },
   {
    "duration": 4,
    "start_time": "2022-02-21T17:13:14.242Z"
   },
   {
    "duration": 5,
    "start_time": "2022-02-21T17:13:14.247Z"
   },
   {
    "duration": 3,
    "start_time": "2022-02-21T17:13:14.254Z"
   },
   {
    "duration": 6,
    "start_time": "2022-02-21T17:13:14.259Z"
   },
   {
    "duration": 4,
    "start_time": "2022-02-21T17:13:14.266Z"
   },
   {
    "duration": 7,
    "start_time": "2022-02-21T17:13:14.271Z"
   },
   {
    "duration": 5,
    "start_time": "2022-02-21T17:13:14.279Z"
   },
   {
    "duration": 4,
    "start_time": "2022-02-21T17:13:14.285Z"
   },
   {
    "duration": 108,
    "start_time": "2022-02-21T17:14:16.523Z"
   },
   {
    "duration": 270,
    "start_time": "2022-02-21T17:23:30.926Z"
   },
   {
    "duration": 3031,
    "start_time": "2022-02-21T17:23:49.182Z"
   },
   {
    "duration": 1306,
    "start_time": "2022-02-21T17:25:40.966Z"
   },
   {
    "duration": 276,
    "start_time": "2022-02-21T17:27:06.567Z"
   },
   {
    "duration": 116,
    "start_time": "2022-02-21T17:27:33.025Z"
   },
   {
    "duration": 107,
    "start_time": "2022-02-21T17:27:42.016Z"
   },
   {
    "duration": 113,
    "start_time": "2022-02-21T17:27:49.935Z"
   },
   {
    "duration": 217,
    "start_time": "2022-02-21T17:30:10.490Z"
   },
   {
    "duration": 212,
    "start_time": "2022-02-21T17:31:56.627Z"
   },
   {
    "duration": 105,
    "start_time": "2022-02-21T17:32:35.775Z"
   },
   {
    "duration": 1129,
    "start_time": "2022-02-21T17:34:59.996Z"
   },
   {
    "duration": 1479,
    "start_time": "2022-02-21T17:41:50.721Z"
   },
   {
    "duration": 221,
    "start_time": "2022-02-21T17:42:32.002Z"
   },
   {
    "duration": 116,
    "start_time": "2022-02-21T17:42:39.939Z"
   },
   {
    "duration": 101,
    "start_time": "2022-02-21T17:43:36.275Z"
   },
   {
    "duration": 44,
    "start_time": "2022-02-21T17:44:41.531Z"
   },
   {
    "duration": 40,
    "start_time": "2022-02-21T17:45:08.956Z"
   },
   {
    "duration": 61,
    "start_time": "2022-02-21T17:45:31.140Z"
   },
   {
    "duration": 65,
    "start_time": "2022-02-21T17:45:57.013Z"
   },
   {
    "duration": 67,
    "start_time": "2022-02-21T17:47:03.311Z"
   },
   {
    "duration": 920,
    "start_time": "2022-02-21T17:47:46.222Z"
   },
   {
    "duration": 2,
    "start_time": "2022-02-21T18:06:41.041Z"
   },
   {
    "duration": 186,
    "start_time": "2022-02-21T18:07:17.395Z"
   },
   {
    "duration": 1172,
    "start_time": "2022-02-21T18:07:25.131Z"
   },
   {
    "duration": 523,
    "start_time": "2022-02-21T18:08:41.450Z"
   },
   {
    "duration": 844,
    "start_time": "2022-02-21T18:09:40.062Z"
   },
   {
    "duration": 763,
    "start_time": "2022-02-21T18:10:48.477Z"
   },
   {
    "duration": 227,
    "start_time": "2022-02-21T18:12:30.518Z"
   },
   {
    "duration": 2644,
    "start_time": "2022-02-21T18:12:47.663Z"
   },
   {
    "duration": 846,
    "start_time": "2022-02-21T18:13:18.295Z"
   },
   {
    "duration": 2714,
    "start_time": "2022-02-21T18:13:30.567Z"
   },
   {
    "duration": 58,
    "start_time": "2022-02-21T18:14:04.648Z"
   },
   {
    "duration": 1731,
    "start_time": "2022-02-21T18:14:16.623Z"
   },
   {
    "duration": 848,
    "start_time": "2022-02-21T18:14:24.888Z"
   },
   {
    "duration": 3,
    "start_time": "2022-02-21T18:21:19.250Z"
   },
   {
    "duration": 207,
    "start_time": "2022-02-21T18:21:51.900Z"
   },
   {
    "duration": 201,
    "start_time": "2022-02-21T18:24:34.643Z"
   },
   {
    "duration": 213,
    "start_time": "2022-02-21T18:25:05.391Z"
   },
   {
    "duration": 87,
    "start_time": "2022-02-21T18:25:33.911Z"
   },
   {
    "duration": 88,
    "start_time": "2022-02-21T18:25:52.935Z"
   },
   {
    "duration": 86,
    "start_time": "2022-02-21T18:26:09.870Z"
   },
   {
    "duration": 67,
    "start_time": "2022-02-21T18:29:59.065Z"
   },
   {
    "duration": 87,
    "start_time": "2022-02-21T18:30:32.786Z"
   },
   {
    "duration": 88,
    "start_time": "2022-02-21T18:30:59.234Z"
   },
   {
    "duration": 87,
    "start_time": "2022-02-21T18:31:13.082Z"
   },
   {
    "duration": 201,
    "start_time": "2022-02-21T18:31:38.258Z"
   },
   {
    "duration": 66,
    "start_time": "2022-02-21T18:31:43.571Z"
   },
   {
    "duration": 67,
    "start_time": "2022-02-21T18:32:27.202Z"
   },
   {
    "duration": 210,
    "start_time": "2022-02-21T18:33:11.868Z"
   },
   {
    "duration": 197,
    "start_time": "2022-02-21T18:34:28.916Z"
   },
   {
    "duration": 176,
    "start_time": "2022-02-21T18:35:02.166Z"
   },
   {
    "duration": 203,
    "start_time": "2022-02-21T18:35:32.645Z"
   },
   {
    "duration": 132,
    "start_time": "2022-02-21T18:35:40.821Z"
   },
   {
    "duration": 187,
    "start_time": "2022-02-21T18:35:46.758Z"
   },
   {
    "duration": 100,
    "start_time": "2022-02-21T18:36:04.790Z"
   },
   {
    "duration": 222,
    "start_time": "2022-02-21T19:23:29.187Z"
   },
   {
    "duration": 213,
    "start_time": "2022-02-21T19:24:08.750Z"
   },
   {
    "duration": 197,
    "start_time": "2022-02-21T19:24:16.014Z"
   },
   {
    "duration": 94,
    "start_time": "2022-02-21T19:24:24.438Z"
   },
   {
    "duration": 89,
    "start_time": "2022-02-21T19:24:54.415Z"
   },
   {
    "duration": 223,
    "start_time": "2022-02-21T19:25:14.231Z"
   },
   {
    "duration": 98,
    "start_time": "2022-02-21T19:26:02.391Z"
   },
   {
    "duration": 219,
    "start_time": "2022-02-21T19:32:02.793Z"
   },
   {
    "duration": 102,
    "start_time": "2022-02-21T19:32:11.763Z"
   },
   {
    "duration": 101,
    "start_time": "2022-02-21T19:34:26.587Z"
   },
   {
    "duration": 101,
    "start_time": "2022-02-21T19:35:05.526Z"
   },
   {
    "duration": 98,
    "start_time": "2022-02-21T19:36:42.097Z"
   },
   {
    "duration": 96,
    "start_time": "2022-02-21T19:36:59.159Z"
   },
   {
    "duration": 93,
    "start_time": "2022-02-21T19:38:15.855Z"
   },
   {
    "duration": 51,
    "start_time": "2022-02-21T19:39:53.705Z"
   },
   {
    "duration": 52,
    "start_time": "2022-02-21T19:40:51.081Z"
   },
   {
    "duration": 109,
    "start_time": "2022-02-21T19:42:15.649Z"
   },
   {
    "duration": 218,
    "start_time": "2022-02-21T19:49:20.710Z"
   },
   {
    "duration": 141,
    "start_time": "2022-02-21T19:49:33.167Z"
   },
   {
    "duration": 19740,
    "start_time": "2022-02-21T19:50:07.268Z"
   },
   {
    "duration": 278,
    "start_time": "2022-02-21T19:51:25.937Z"
   },
   {
    "duration": 98,
    "start_time": "2022-02-21T19:51:32.801Z"
   },
   {
    "duration": 27955,
    "start_time": "2022-02-21T19:52:10.913Z"
   },
   {
    "duration": 23432,
    "start_time": "2022-02-21T19:54:46.154Z"
   },
   {
    "duration": 29601,
    "start_time": "2022-02-21T19:55:57.109Z"
   },
   {
    "duration": 312,
    "start_time": "2022-02-21T20:08:42.252Z"
   },
   {
    "duration": 206,
    "start_time": "2022-02-21T20:09:27.349Z"
   },
   {
    "duration": 2,
    "start_time": "2022-02-21T20:17:36.791Z"
   },
   {
    "duration": 2065,
    "start_time": "2022-02-21T20:18:48.827Z"
   },
   {
    "duration": 188,
    "start_time": "2022-02-21T20:20:02.294Z"
   },
   {
    "duration": 103,
    "start_time": "2022-02-21T20:23:50.079Z"
   },
   {
    "duration": 105,
    "start_time": "2022-02-21T20:24:12.581Z"
   },
   {
    "duration": 127,
    "start_time": "2022-02-21T20:25:40.407Z"
   },
   {
    "duration": 277,
    "start_time": "2022-02-21T20:28:01.488Z"
   },
   {
    "duration": 214,
    "start_time": "2022-02-21T20:28:35.161Z"
   },
   {
    "duration": 211,
    "start_time": "2022-02-21T20:28:59.210Z"
   },
   {
    "duration": 93,
    "start_time": "2022-02-21T20:29:17.194Z"
   },
   {
    "duration": 97,
    "start_time": "2022-02-21T20:33:08.786Z"
   },
   {
    "duration": 83,
    "start_time": "2022-02-21T20:33:18.277Z"
   },
   {
    "duration": 208,
    "start_time": "2022-02-21T20:34:55.142Z"
   },
   {
    "duration": 59,
    "start_time": "2022-02-21T20:35:03.286Z"
   },
   {
    "duration": 243,
    "start_time": "2022-02-21T20:35:48.390Z"
   },
   {
    "duration": 63,
    "start_time": "2022-02-21T20:35:59.095Z"
   },
   {
    "duration": 221,
    "start_time": "2022-02-21T20:39:48.425Z"
   },
   {
    "duration": 60,
    "start_time": "2022-02-21T20:39:59.209Z"
   },
   {
    "duration": 901,
    "start_time": "2022-02-22T17:15:38.046Z"
   },
   {
    "duration": 4,
    "start_time": "2022-02-22T17:15:38.950Z"
   },
   {
    "duration": 58,
    "start_time": "2022-02-22T17:15:38.957Z"
   },
   {
    "duration": 30,
    "start_time": "2022-02-22T17:15:39.017Z"
   },
   {
    "duration": 14,
    "start_time": "2022-02-22T17:15:39.049Z"
   },
   {
    "duration": 87,
    "start_time": "2022-02-22T17:15:39.065Z"
   },
   {
    "duration": 3,
    "start_time": "2022-02-22T17:15:39.154Z"
   },
   {
    "duration": 324,
    "start_time": "2022-02-22T17:15:39.160Z"
   },
   {
    "duration": 2,
    "start_time": "2022-02-22T17:15:39.487Z"
   },
   {
    "duration": 194,
    "start_time": "2022-02-22T17:15:39.491Z"
   },
   {
    "duration": 2,
    "start_time": "2022-02-22T17:15:39.687Z"
   },
   {
    "duration": 1163,
    "start_time": "2022-02-22T17:15:39.691Z"
   },
   {
    "duration": 64,
    "start_time": "2022-02-22T17:15:40.856Z"
   },
   {
    "duration": 34,
    "start_time": "2022-02-22T17:15:40.922Z"
   },
   {
    "duration": 2,
    "start_time": "2022-02-22T17:15:40.957Z"
   },
   {
    "duration": 17,
    "start_time": "2022-02-22T17:15:40.961Z"
   },
   {
    "duration": 20,
    "start_time": "2022-02-22T17:15:40.980Z"
   },
   {
    "duration": 10,
    "start_time": "2022-02-22T17:15:41.002Z"
   },
   {
    "duration": 10,
    "start_time": "2022-02-22T17:15:41.014Z"
   },
   {
    "duration": 10,
    "start_time": "2022-02-22T17:15:41.026Z"
   },
   {
    "duration": 5,
    "start_time": "2022-02-22T17:15:41.038Z"
   },
   {
    "duration": 4,
    "start_time": "2022-02-22T17:15:41.045Z"
   },
   {
    "duration": 71,
    "start_time": "2022-02-22T17:24:04.384Z"
   },
   {
    "duration": 361,
    "start_time": "2022-02-22T17:41:10.593Z"
   },
   {
    "duration": 278,
    "start_time": "2022-02-22T17:41:58.423Z"
   },
   {
    "duration": 43,
    "start_time": "2022-02-22T17:43:31.289Z"
   },
   {
    "duration": 78,
    "start_time": "2022-02-22T17:45:08.657Z"
   },
   {
    "duration": 55,
    "start_time": "2022-02-22T17:46:06.518Z"
   },
   {
    "duration": 56,
    "start_time": "2022-02-22T17:46:26.484Z"
   },
   {
    "duration": 258,
    "start_time": "2022-02-22T17:46:48.548Z"
   },
   {
    "duration": 291,
    "start_time": "2022-02-22T17:46:56.213Z"
   },
   {
    "duration": 285,
    "start_time": "2022-02-22T17:47:01.525Z"
   },
   {
    "duration": 50,
    "start_time": "2022-02-22T17:47:08.212Z"
   },
   {
    "duration": 52,
    "start_time": "2022-02-22T17:47:23.397Z"
   },
   {
    "duration": 55,
    "start_time": "2022-02-22T17:48:12.590Z"
   },
   {
    "duration": 58,
    "start_time": "2022-02-22T17:48:43.997Z"
   },
   {
    "duration": 71,
    "start_time": "2022-02-22T17:49:01.311Z"
   },
   {
    "duration": 58,
    "start_time": "2022-02-22T17:50:02.903Z"
   },
   {
    "duration": 85,
    "start_time": "2022-02-22T17:54:37.906Z"
   },
   {
    "duration": 78,
    "start_time": "2022-02-22T17:55:16.982Z"
   },
   {
    "duration": 101,
    "start_time": "2022-02-22T17:56:53.662Z"
   },
   {
    "duration": 101,
    "start_time": "2022-02-22T17:57:34.872Z"
   },
   {
    "duration": 95,
    "start_time": "2022-02-22T18:00:21.128Z"
   },
   {
    "duration": 279,
    "start_time": "2022-02-22T18:00:37.520Z"
   },
   {
    "duration": 97,
    "start_time": "2022-02-22T18:00:44.343Z"
   },
   {
    "duration": 287,
    "start_time": "2022-02-22T18:01:29.070Z"
   },
   {
    "duration": 140,
    "start_time": "2022-02-22T18:02:10.342Z"
   },
   {
    "duration": 80,
    "start_time": "2022-02-22T18:03:30.145Z"
   },
   {
    "duration": 251,
    "start_time": "2022-02-22T18:12:30.554Z"
   },
   {
    "duration": 57,
    "start_time": "2022-02-22T18:13:37.214Z"
   },
   {
    "duration": 55,
    "start_time": "2022-02-22T18:13:56.782Z"
   },
   {
    "duration": 3,
    "start_time": "2022-02-22T18:19:16.440Z"
   },
   {
    "duration": 501,
    "start_time": "2022-02-22T18:19:56.841Z"
   },
   {
    "duration": 585,
    "start_time": "2022-02-22T18:20:16.855Z"
   },
   {
    "duration": 667,
    "start_time": "2022-02-22T18:20:35.786Z"
   },
   {
    "duration": 588,
    "start_time": "2022-02-22T18:22:34.355Z"
   },
   {
    "duration": 969,
    "start_time": "2022-02-22T19:23:17.673Z"
   },
   {
    "duration": 865,
    "start_time": "2022-02-22T19:24:07.669Z"
   },
   {
    "duration": 895,
    "start_time": "2022-02-22T19:24:21.284Z"
   },
   {
    "duration": 1095,
    "start_time": "2022-02-22T19:24:57.037Z"
   },
   {
    "duration": 958,
    "start_time": "2022-02-22T19:25:01.916Z"
   },
   {
    "duration": 248,
    "start_time": "2022-02-22T19:25:25.813Z"
   },
   {
    "duration": 30,
    "start_time": "2022-02-22T19:25:41.216Z"
   },
   {
    "duration": 903,
    "start_time": "2022-02-22T19:26:19.518Z"
   },
   {
    "duration": 293,
    "start_time": "2022-02-22T19:28:13.143Z"
   },
   {
    "duration": 1038,
    "start_time": "2022-02-22T19:28:33.248Z"
   },
   {
    "duration": 296,
    "start_time": "2022-02-22T19:29:04.311Z"
   },
   {
    "duration": 255,
    "start_time": "2022-02-22T19:29:07.039Z"
   },
   {
    "duration": 883,
    "start_time": "2022-02-22T19:29:28.487Z"
   },
   {
    "duration": 819,
    "start_time": "2022-02-22T19:31:45.920Z"
   },
   {
    "duration": 245,
    "start_time": "2022-02-22T19:32:44.457Z"
   },
   {
    "duration": 1176,
    "start_time": "2022-02-22T19:33:59.964Z"
   },
   {
    "duration": 250,
    "start_time": "2022-02-22T19:34:33.924Z"
   },
   {
    "duration": 3169,
    "start_time": "2022-02-22T19:35:16.140Z"
   },
   {
    "duration": 301,
    "start_time": "2022-02-22T19:36:37.070Z"
   },
   {
    "duration": 243,
    "start_time": "2022-02-22T19:36:53.149Z"
   },
   {
    "duration": 274,
    "start_time": "2022-02-22T19:42:32.098Z"
   },
   {
    "duration": 1302,
    "start_time": "2022-02-22T19:46:48.971Z"
   },
   {
    "duration": 253,
    "start_time": "2022-02-22T19:47:46.074Z"
   },
   {
    "duration": 859,
    "start_time": "2022-02-22T19:48:08.334Z"
   },
   {
    "duration": 389,
    "start_time": "2022-02-22T19:48:53.527Z"
   },
   {
    "duration": 261,
    "start_time": "2022-02-22T19:49:30.246Z"
   },
   {
    "duration": 843,
    "start_time": "2022-02-22T19:49:41.464Z"
   },
   {
    "duration": 750,
    "start_time": "2022-02-22T19:51:05.551Z"
   },
   {
    "duration": 939,
    "start_time": "2022-02-22T19:53:09.999Z"
   },
   {
    "duration": 922,
    "start_time": "2022-02-22T19:53:18.337Z"
   },
   {
    "duration": 2,
    "start_time": "2022-02-22T20:01:15.675Z"
   },
   {
    "duration": 252,
    "start_time": "2022-02-22T20:01:49.374Z"
   },
   {
    "duration": 677,
    "start_time": "2022-02-22T20:02:06.330Z"
   },
   {
    "duration": 112,
    "start_time": "2022-02-22T20:02:39.191Z"
   },
   {
    "duration": 121,
    "start_time": "2022-02-22T20:02:59.453Z"
   },
   {
    "duration": 145,
    "start_time": "2022-02-22T20:04:26.113Z"
   },
   {
    "duration": 251,
    "start_time": "2022-02-22T20:04:59.072Z"
   },
   {
    "duration": 252,
    "start_time": "2022-02-22T20:05:27.033Z"
   },
   {
    "duration": 464,
    "start_time": "2022-02-22T20:06:14.067Z"
   },
   {
    "duration": 157,
    "start_time": "2022-02-22T20:06:20.107Z"
   },
   {
    "duration": 278,
    "start_time": "2022-02-22T20:06:59.512Z"
   },
   {
    "duration": 258,
    "start_time": "2022-02-22T20:07:07.082Z"
   },
   {
    "duration": 143,
    "start_time": "2022-02-22T20:07:18.667Z"
   },
   {
    "duration": 292,
    "start_time": "2022-02-22T20:07:44.619Z"
   },
   {
    "duration": 140,
    "start_time": "2022-02-22T20:10:21.069Z"
   },
   {
    "duration": 135,
    "start_time": "2022-02-22T20:10:39.406Z"
   },
   {
    "duration": 169,
    "start_time": "2022-02-22T20:10:45.725Z"
   },
   {
    "duration": 161,
    "start_time": "2022-02-22T20:10:56.565Z"
   },
   {
    "duration": 266,
    "start_time": "2022-02-22T20:29:17.384Z"
   },
   {
    "duration": 160,
    "start_time": "2022-02-22T20:30:47.281Z"
   },
   {
    "duration": 213,
    "start_time": "2022-02-22T20:31:12.225Z"
   },
   {
    "duration": 251,
    "start_time": "2022-02-22T20:34:28.539Z"
   },
   {
    "duration": 68,
    "start_time": "2022-02-22T20:34:42.604Z"
   },
   {
    "duration": 333,
    "start_time": "2022-02-22T20:36:32.937Z"
   },
   {
    "duration": 264,
    "start_time": "2022-02-22T20:36:44.989Z"
   },
   {
    "duration": 248,
    "start_time": "2022-02-22T20:36:58.949Z"
   },
   {
    "duration": 163,
    "start_time": "2022-02-22T20:38:47.086Z"
   },
   {
    "duration": 254,
    "start_time": "2022-02-22T20:39:48.846Z"
   },
   {
    "duration": 1030,
    "start_time": "2022-02-22T20:40:05.734Z"
   },
   {
    "duration": 168,
    "start_time": "2022-02-22T20:40:11.918Z"
   },
   {
    "duration": 277,
    "start_time": "2022-02-22T20:40:52.464Z"
   },
   {
    "duration": 168,
    "start_time": "2022-02-22T20:40:55.392Z"
   },
   {
    "duration": 270,
    "start_time": "2022-02-22T20:43:14.960Z"
   },
   {
    "duration": 263,
    "start_time": "2022-02-22T20:44:01.185Z"
   },
   {
    "duration": 309,
    "start_time": "2022-02-22T20:44:17.257Z"
   },
   {
    "duration": 262,
    "start_time": "2022-02-22T20:44:25.034Z"
   },
   {
    "duration": 415,
    "start_time": "2022-02-22T20:48:06.140Z"
   },
   {
    "duration": 251,
    "start_time": "2022-02-22T20:51:17.094Z"
   },
   {
    "duration": 250,
    "start_time": "2022-02-22T20:52:04.361Z"
   },
   {
    "duration": 268,
    "start_time": "2022-02-22T20:52:27.160Z"
   },
   {
    "duration": 270,
    "start_time": "2022-02-22T20:53:21.882Z"
   },
   {
    "duration": 4,
    "start_time": "2022-02-22T20:53:46.522Z"
   },
   {
    "duration": 166,
    "start_time": "2022-02-22T20:54:13.345Z"
   },
   {
    "duration": 205,
    "start_time": "2022-02-22T20:54:32.639Z"
   },
   {
    "duration": 291,
    "start_time": "2022-02-22T20:54:47.826Z"
   },
   {
    "duration": 405,
    "start_time": "2022-02-22T20:56:14.771Z"
   },
   {
    "duration": 265,
    "start_time": "2022-02-22T20:56:48.732Z"
   },
   {
    "duration": 266,
    "start_time": "2022-02-22T20:57:50.404Z"
   },
   {
    "duration": 268,
    "start_time": "2022-02-22T20:58:00.605Z"
   },
   {
    "duration": 251,
    "start_time": "2022-02-22T20:58:38.205Z"
   },
   {
    "duration": 262,
    "start_time": "2022-02-22T20:58:43.903Z"
   },
   {
    "duration": 282,
    "start_time": "2022-02-22T21:01:05.295Z"
   },
   {
    "duration": 2011,
    "start_time": "2022-02-22T21:01:10.872Z"
   },
   {
    "duration": 258,
    "start_time": "2022-02-22T21:01:42.441Z"
   },
   {
    "duration": 447,
    "start_time": "2022-02-22T21:01:48.824Z"
   },
   {
    "duration": 271,
    "start_time": "2022-02-22T21:02:57.681Z"
   },
   {
    "duration": 375,
    "start_time": "2022-02-22T21:04:12.441Z"
   },
   {
    "duration": 257,
    "start_time": "2022-02-22T21:04:32.120Z"
   },
   {
    "duration": 357,
    "start_time": "2022-02-22T21:05:23.082Z"
   },
   {
    "duration": 370,
    "start_time": "2022-02-22T21:06:29.931Z"
   },
   {
    "duration": 363,
    "start_time": "2022-02-22T21:07:01.779Z"
   },
   {
    "duration": 356,
    "start_time": "2022-02-22T21:07:48.835Z"
   },
   {
    "duration": 541,
    "start_time": "2022-02-22T21:08:18.339Z"
   },
   {
    "duration": 375,
    "start_time": "2022-02-22T21:09:19.700Z"
   },
   {
    "duration": 254,
    "start_time": "2022-02-22T21:10:06.621Z"
   },
   {
    "duration": 351,
    "start_time": "2022-02-22T21:10:19.677Z"
   },
   {
    "duration": 349,
    "start_time": "2022-02-22T21:11:06.863Z"
   },
   {
    "duration": 391,
    "start_time": "2022-02-22T21:11:39.151Z"
   },
   {
    "duration": 375,
    "start_time": "2022-02-22T21:12:12.366Z"
   },
   {
    "duration": 382,
    "start_time": "2022-02-22T21:12:47.888Z"
   },
   {
    "duration": 384,
    "start_time": "2022-02-22T21:13:31.288Z"
   },
   {
    "duration": 240,
    "start_time": "2022-02-22T21:14:07.320Z"
   },
   {
    "duration": 242,
    "start_time": "2022-02-22T21:17:14.040Z"
   },
   {
    "duration": 255,
    "start_time": "2022-02-22T21:18:09.906Z"
   },
   {
    "duration": 485,
    "start_time": "2022-02-22T21:19:02.291Z"
   },
   {
    "duration": 743,
    "start_time": "2022-02-22T21:19:09.243Z"
   },
   {
    "duration": 1285,
    "start_time": "2022-02-22T21:20:33.508Z"
   },
   {
    "duration": 3,
    "start_time": "2022-02-22T21:20:34.796Z"
   },
   {
    "duration": 31,
    "start_time": "2022-02-22T21:20:34.802Z"
   },
   {
    "duration": 34,
    "start_time": "2022-02-22T21:20:34.835Z"
   },
   {
    "duration": 13,
    "start_time": "2022-02-22T21:20:34.871Z"
   },
   {
    "duration": 80,
    "start_time": "2022-02-22T21:20:34.886Z"
   },
   {
    "duration": 2,
    "start_time": "2022-02-22T21:20:34.968Z"
   },
   {
    "duration": 315,
    "start_time": "2022-02-22T21:20:34.972Z"
   },
   {
    "duration": 2,
    "start_time": "2022-02-22T21:20:35.290Z"
   },
   {
    "duration": 186,
    "start_time": "2022-02-22T21:20:35.294Z"
   },
   {
    "duration": 2,
    "start_time": "2022-02-22T21:20:35.481Z"
   },
   {
    "duration": 984,
    "start_time": "2022-02-22T21:20:35.485Z"
   },
   {
    "duration": 54,
    "start_time": "2022-02-22T21:20:36.471Z"
   },
   {
    "duration": 32,
    "start_time": "2022-02-22T21:20:36.527Z"
   },
   {
    "duration": 3,
    "start_time": "2022-02-22T21:20:36.561Z"
   },
   {
    "duration": 1059,
    "start_time": "2022-02-22T21:20:36.566Z"
   },
   {
    "duration": 386,
    "start_time": "2022-02-22T21:20:37.627Z"
   },
   {
    "duration": 2,
    "start_time": "2022-02-22T21:20:38.015Z"
   },
   {
    "duration": 631,
    "start_time": "2022-02-22T21:20:38.019Z"
   },
   {
    "duration": 3,
    "start_time": "2022-02-22T21:20:38.651Z"
   },
   {
    "duration": 14,
    "start_time": "2022-02-22T21:20:38.655Z"
   },
   {
    "duration": 2,
    "start_time": "2022-02-22T21:20:38.671Z"
   },
   {
    "duration": 6,
    "start_time": "2022-02-22T21:20:38.675Z"
   },
   {
    "duration": 462,
    "start_time": "2022-02-22T21:24:53.473Z"
   },
   {
    "duration": 1361,
    "start_time": "2022-02-22T21:25:23.658Z"
   },
   {
    "duration": 4,
    "start_time": "2022-02-22T21:25:25.021Z"
   },
   {
    "duration": 34,
    "start_time": "2022-02-22T21:25:25.027Z"
   },
   {
    "duration": 25,
    "start_time": "2022-02-22T21:25:25.070Z"
   },
   {
    "duration": 15,
    "start_time": "2022-02-22T21:25:25.097Z"
   },
   {
    "duration": 87,
    "start_time": "2022-02-22T21:25:25.114Z"
   },
   {
    "duration": 3,
    "start_time": "2022-02-22T21:25:25.203Z"
   },
   {
    "duration": 325,
    "start_time": "2022-02-22T21:25:25.209Z"
   },
   {
    "duration": 2,
    "start_time": "2022-02-22T21:25:25.536Z"
   },
   {
    "duration": 187,
    "start_time": "2022-02-22T21:25:25.540Z"
   },
   {
    "duration": 2,
    "start_time": "2022-02-22T21:25:25.729Z"
   },
   {
    "duration": 919,
    "start_time": "2022-02-22T21:25:25.733Z"
   },
   {
    "duration": 53,
    "start_time": "2022-02-22T21:25:26.654Z"
   },
   {
    "duration": 32,
    "start_time": "2022-02-22T21:25:26.709Z"
   },
   {
    "duration": 3,
    "start_time": "2022-02-22T21:25:26.743Z"
   },
   {
    "duration": 963,
    "start_time": "2022-02-22T21:25:26.747Z"
   },
   {
    "duration": 369,
    "start_time": "2022-02-22T21:25:27.712Z"
   },
   {
    "duration": 3,
    "start_time": "2022-02-22T21:25:28.083Z"
   },
   {
    "duration": 455,
    "start_time": "2022-02-22T21:25:28.088Z"
   },
   {
    "duration": 3,
    "start_time": "2022-02-22T21:25:28.545Z"
   },
   {
    "duration": 7,
    "start_time": "2022-02-22T21:25:28.550Z"
   },
   {
    "duration": 3,
    "start_time": "2022-02-22T21:25:28.569Z"
   },
   {
    "duration": 3,
    "start_time": "2022-02-22T21:25:28.576Z"
   },
   {
    "duration": 4,
    "start_time": "2022-02-23T08:59:45.570Z"
   },
   {
    "duration": 428,
    "start_time": "2022-02-23T09:01:32.484Z"
   },
   {
    "duration": 1370,
    "start_time": "2022-02-23T09:01:46.640Z"
   },
   {
    "duration": 4,
    "start_time": "2022-02-23T09:01:48.013Z"
   },
   {
    "duration": 35,
    "start_time": "2022-02-23T09:01:48.019Z"
   },
   {
    "duration": 217,
    "start_time": "2022-02-23T09:01:48.056Z"
   },
   {
    "duration": 12,
    "start_time": "2022-02-23T09:01:48.275Z"
   },
   {
    "duration": 126,
    "start_time": "2022-02-23T09:01:48.289Z"
   },
   {
    "duration": 3,
    "start_time": "2022-02-23T09:01:48.417Z"
   },
   {
    "duration": 375,
    "start_time": "2022-02-23T09:01:48.422Z"
   },
   {
    "duration": 2,
    "start_time": "2022-02-23T09:01:48.800Z"
   },
   {
    "duration": 222,
    "start_time": "2022-02-23T09:01:48.805Z"
   },
   {
    "duration": 3,
    "start_time": "2022-02-23T09:01:49.028Z"
   },
   {
    "duration": 1264,
    "start_time": "2022-02-23T09:01:49.033Z"
   },
   {
    "duration": 951,
    "start_time": "2022-02-23T09:01:50.298Z"
   },
   {
    "duration": 65,
    "start_time": "2022-02-23T09:01:51.251Z"
   },
   {
    "duration": 2,
    "start_time": "2022-02-23T09:01:51.318Z"
   },
   {
    "duration": 2028,
    "start_time": "2022-02-23T09:01:51.322Z"
   },
   {
    "duration": 411,
    "start_time": "2022-02-23T09:01:53.352Z"
   },
   {
    "duration": 3,
    "start_time": "2022-02-23T09:01:53.765Z"
   },
   {
    "duration": 394,
    "start_time": "2022-02-23T09:01:53.770Z"
   },
   {
    "duration": 3,
    "start_time": "2022-02-23T09:01:54.166Z"
   },
   {
    "duration": 2620,
    "start_time": "2022-02-23T09:01:54.171Z"
   },
   {
    "duration": 2,
    "start_time": "2022-02-23T09:01:56.793Z"
   },
   {
    "duration": 5,
    "start_time": "2022-02-23T09:01:56.797Z"
   },
   {
    "duration": 314,
    "start_time": "2022-02-23T09:03:31.475Z"
   },
   {
    "duration": 1495,
    "start_time": "2022-02-23T09:03:37.954Z"
   },
   {
    "duration": 503,
    "start_time": "2022-02-23T09:04:59.595Z"
   },
   {
    "duration": 4934,
    "start_time": "2022-02-23T09:08:36.598Z"
   },
   {
    "duration": 467,
    "start_time": "2022-02-23T09:11:20.127Z"
   },
   {
    "duration": 230,
    "start_time": "2022-02-23T09:12:07.744Z"
   },
   {
    "duration": 206,
    "start_time": "2022-02-23T09:13:12.201Z"
   },
   {
    "duration": 300,
    "start_time": "2022-02-23T09:13:46.170Z"
   },
   {
    "duration": 212,
    "start_time": "2022-02-23T09:14:57.187Z"
   },
   {
    "duration": 213,
    "start_time": "2022-02-23T09:15:43.459Z"
   },
   {
    "duration": 209,
    "start_time": "2022-02-23T09:18:37.708Z"
   },
   {
    "duration": 211,
    "start_time": "2022-02-23T09:19:06.772Z"
   },
   {
    "duration": 696,
    "start_time": "2022-02-23T09:19:50.684Z"
   },
   {
    "duration": 773,
    "start_time": "2022-02-23T09:20:27.423Z"
   },
   {
    "duration": 210,
    "start_time": "2022-02-23T09:20:50.047Z"
   },
   {
    "duration": 210,
    "start_time": "2022-02-23T09:21:00.272Z"
   },
   {
    "duration": 204,
    "start_time": "2022-02-23T09:21:29.334Z"
   },
   {
    "duration": 213,
    "start_time": "2022-02-23T09:21:42.807Z"
   },
   {
    "duration": 212,
    "start_time": "2022-02-23T09:21:49.870Z"
   },
   {
    "duration": 208,
    "start_time": "2022-02-23T09:22:37.959Z"
   },
   {
    "duration": 219,
    "start_time": "2022-02-23T09:23:25.311Z"
   },
   {
    "duration": 222,
    "start_time": "2022-02-23T09:24:48.633Z"
   },
   {
    "duration": 2004,
    "start_time": "2022-02-23T09:25:01.817Z"
   },
   {
    "duration": 218,
    "start_time": "2022-02-23T09:31:21.125Z"
   },
   {
    "duration": 212,
    "start_time": "2022-02-23T09:32:30.605Z"
   },
   {
    "duration": 206,
    "start_time": "2022-02-23T09:47:42.208Z"
   },
   {
    "duration": 209,
    "start_time": "2022-02-23T09:47:47.392Z"
   },
   {
    "duration": 235,
    "start_time": "2022-02-23T09:47:55.736Z"
   },
   {
    "duration": 1691,
    "start_time": "2022-02-23T18:04:23.245Z"
   },
   {
    "duration": 5,
    "start_time": "2022-02-23T18:04:24.939Z"
   },
   {
    "duration": 41,
    "start_time": "2022-02-23T18:04:24.947Z"
   },
   {
    "duration": 199,
    "start_time": "2022-02-23T18:04:24.991Z"
   },
   {
    "duration": 21,
    "start_time": "2022-02-23T18:04:25.193Z"
   },
   {
    "duration": 119,
    "start_time": "2022-02-23T18:04:25.218Z"
   },
   {
    "duration": 3,
    "start_time": "2022-02-23T18:04:25.339Z"
   },
   {
    "duration": 341,
    "start_time": "2022-02-23T18:04:25.347Z"
   },
   {
    "duration": 3,
    "start_time": "2022-02-23T18:04:25.691Z"
   },
   {
    "duration": 214,
    "start_time": "2022-02-23T18:04:25.697Z"
   },
   {
    "duration": 3,
    "start_time": "2022-02-23T18:04:25.913Z"
   },
   {
    "duration": 1238,
    "start_time": "2022-02-23T18:04:25.919Z"
   },
   {
    "duration": 992,
    "start_time": "2022-02-23T18:04:27.160Z"
   },
   {
    "duration": 63,
    "start_time": "2022-02-23T18:04:28.155Z"
   },
   {
    "duration": 3,
    "start_time": "2022-02-23T18:04:28.221Z"
   },
   {
    "duration": 2937,
    "start_time": "2022-02-23T18:04:28.227Z"
   },
   {
    "duration": 392,
    "start_time": "2022-02-23T18:04:31.166Z"
   },
   {
    "duration": 3,
    "start_time": "2022-02-23T18:04:31.561Z"
   },
   {
    "duration": 637,
    "start_time": "2022-02-23T18:04:31.567Z"
   },
   {
    "duration": 4,
    "start_time": "2022-02-23T18:04:32.206Z"
   },
   {
    "duration": 501,
    "start_time": "2022-02-23T18:04:32.212Z"
   },
   {
    "duration": 4,
    "start_time": "2022-02-23T18:04:32.715Z"
   },
   {
    "duration": 11,
    "start_time": "2022-02-23T18:04:32.723Z"
   },
   {
    "duration": 209,
    "start_time": "2022-02-23T18:08:58.689Z"
   },
   {
    "duration": 206,
    "start_time": "2022-02-23T18:11:08.474Z"
   },
   {
    "duration": 205,
    "start_time": "2022-02-23T18:11:12.635Z"
   },
   {
    "duration": 206,
    "start_time": "2022-02-23T18:16:49.781Z"
   },
   {
    "duration": 213,
    "start_time": "2022-02-23T18:17:06.342Z"
   },
   {
    "duration": 207,
    "start_time": "2022-02-23T18:17:26.013Z"
   },
   {
    "duration": 222,
    "start_time": "2022-02-23T18:17:32.805Z"
   },
   {
    "duration": 224,
    "start_time": "2022-02-23T18:20:07.422Z"
   },
   {
    "duration": 223,
    "start_time": "2022-02-23T18:20:14.390Z"
   },
   {
    "duration": 225,
    "start_time": "2022-02-23T18:20:27.591Z"
   },
   {
    "duration": 206,
    "start_time": "2022-02-23T18:21:03.032Z"
   },
   {
    "duration": 224,
    "start_time": "2022-02-23T18:21:15.464Z"
   },
   {
    "duration": 213,
    "start_time": "2022-02-23T18:21:45.985Z"
   },
   {
    "duration": 132,
    "start_time": "2022-02-23T18:24:35.247Z"
   },
   {
    "duration": 109,
    "start_time": "2022-02-23T18:24:41.563Z"
   },
   {
    "duration": 134,
    "start_time": "2022-02-23T18:25:51.754Z"
   },
   {
    "duration": 138,
    "start_time": "2022-02-23T18:26:18.300Z"
   },
   {
    "duration": 567,
    "start_time": "2022-02-23T18:26:47.644Z"
   },
   {
    "duration": 138,
    "start_time": "2022-02-23T18:26:53.019Z"
   },
   {
    "duration": 618,
    "start_time": "2022-02-23T18:27:21.588Z"
   },
   {
    "duration": 138,
    "start_time": "2022-02-23T18:27:27.636Z"
   },
   {
    "duration": 114,
    "start_time": "2022-02-23T18:34:22.429Z"
   },
   {
    "duration": 741,
    "start_time": "2022-02-23T18:35:31.234Z"
   },
   {
    "duration": 140,
    "start_time": "2022-02-23T18:35:48.897Z"
   },
   {
    "duration": 4,
    "start_time": "2022-02-23T18:46:03.575Z"
   },
   {
    "duration": 2341,
    "start_time": "2022-02-23T18:47:38.674Z"
   },
   {
    "duration": 311,
    "start_time": "2022-02-23T18:49:44.203Z"
   },
   {
    "duration": 170,
    "start_time": "2022-02-23T18:49:52.035Z"
   },
   {
    "duration": 316,
    "start_time": "2022-02-23T18:50:14.938Z"
   },
   {
    "duration": 171,
    "start_time": "2022-02-23T18:50:19.115Z"
   },
   {
    "duration": 173,
    "start_time": "2022-02-23T18:50:23.931Z"
   },
   {
    "duration": 185,
    "start_time": "2022-02-23T18:53:25.070Z"
   },
   {
    "duration": 316,
    "start_time": "2022-02-23T18:53:53.215Z"
   },
   {
    "duration": 203,
    "start_time": "2022-02-23T18:53:59.992Z"
   },
   {
    "duration": 192,
    "start_time": "2022-02-23T18:58:27.873Z"
   },
   {
    "duration": 306,
    "start_time": "2022-02-23T18:58:55.683Z"
   },
   {
    "duration": 330,
    "start_time": "2022-02-23T18:59:41.147Z"
   },
   {
    "duration": 193,
    "start_time": "2022-02-23T19:00:00.867Z"
   },
   {
    "duration": 104,
    "start_time": "2022-02-23T19:07:54.744Z"
   },
   {
    "duration": 105,
    "start_time": "2022-02-23T19:08:14.055Z"
   },
   {
    "duration": 320,
    "start_time": "2022-02-23T19:14:48.509Z"
   },
   {
    "duration": 306,
    "start_time": "2022-02-23T19:14:53.030Z"
   },
   {
    "duration": 106,
    "start_time": "2022-02-23T19:15:18.052Z"
   },
   {
    "duration": 327,
    "start_time": "2022-02-23T19:15:30.405Z"
   },
   {
    "duration": 363,
    "start_time": "2022-02-23T19:15:39.182Z"
   },
   {
    "duration": 363,
    "start_time": "2022-02-23T19:16:38.853Z"
   },
   {
    "duration": 306,
    "start_time": "2022-02-23T19:16:45.518Z"
   },
   {
    "duration": 114,
    "start_time": "2022-02-23T19:16:55.742Z"
   },
   {
    "duration": 108,
    "start_time": "2022-02-23T19:17:05.518Z"
   },
   {
    "duration": 113,
    "start_time": "2022-02-23T19:17:11.318Z"
   },
   {
    "duration": 106,
    "start_time": "2022-02-23T19:17:29.678Z"
   },
   {
    "duration": 112,
    "start_time": "2022-02-23T19:17:48.815Z"
   },
   {
    "duration": 314,
    "start_time": "2022-02-23T19:19:49.976Z"
   },
   {
    "duration": 310,
    "start_time": "2022-02-23T19:20:34.513Z"
   },
   {
    "duration": 488,
    "start_time": "2022-02-23T19:21:13.738Z"
   },
   {
    "duration": 154,
    "start_time": "2022-02-23T19:22:12.585Z"
   },
   {
    "duration": 474,
    "start_time": "2022-02-23T19:22:19.833Z"
   },
   {
    "duration": 156,
    "start_time": "2022-02-23T19:22:50.466Z"
   },
   {
    "duration": 156,
    "start_time": "2022-02-23T19:24:35.611Z"
   },
   {
    "duration": 143,
    "start_time": "2022-02-23T19:34:03.394Z"
   },
   {
    "duration": 414,
    "start_time": "2022-02-23T19:36:03.301Z"
   },
   {
    "duration": 167,
    "start_time": "2022-02-23T19:37:05.439Z"
   },
   {
    "duration": 149,
    "start_time": "2022-02-23T19:37:19.677Z"
   },
   {
    "duration": 317,
    "start_time": "2022-02-23T19:37:46.774Z"
   },
   {
    "duration": 313,
    "start_time": "2022-02-23T19:38:21.525Z"
   },
   {
    "duration": 140,
    "start_time": "2022-02-23T19:38:33.886Z"
   },
   {
    "duration": 1642,
    "start_time": "2022-02-23T19:38:57.573Z"
   },
   {
    "duration": 9,
    "start_time": "2022-02-23T19:38:59.218Z"
   },
   {
    "duration": 98,
    "start_time": "2022-02-23T19:38:59.231Z"
   },
   {
    "duration": 209,
    "start_time": "2022-02-23T19:38:59.332Z"
   },
   {
    "duration": 20,
    "start_time": "2022-02-23T19:38:59.543Z"
   },
   {
    "duration": 109,
    "start_time": "2022-02-23T19:38:59.566Z"
   },
   {
    "duration": 4,
    "start_time": "2022-02-23T19:38:59.678Z"
   },
   {
    "duration": 335,
    "start_time": "2022-02-23T19:38:59.686Z"
   },
   {
    "duration": 3,
    "start_time": "2022-02-23T19:39:00.024Z"
   },
   {
    "duration": 224,
    "start_time": "2022-02-23T19:39:00.030Z"
   },
   {
    "duration": 3,
    "start_time": "2022-02-23T19:39:00.256Z"
   },
   {
    "duration": 2397,
    "start_time": "2022-02-23T19:39:00.261Z"
   },
   {
    "duration": 85,
    "start_time": "2022-02-23T19:39:02.661Z"
   },
   {
    "duration": 61,
    "start_time": "2022-02-23T19:39:02.748Z"
   },
   {
    "duration": 4,
    "start_time": "2022-02-23T19:39:02.813Z"
   },
   {
    "duration": 1331,
    "start_time": "2022-02-23T19:39:02.819Z"
   },
   {
    "duration": 2113,
    "start_time": "2022-02-23T19:39:04.153Z"
   },
   {
    "duration": 3,
    "start_time": "2022-02-23T19:39:06.269Z"
   },
   {
    "duration": 630,
    "start_time": "2022-02-23T19:39:06.274Z"
   },
   {
    "duration": 3,
    "start_time": "2022-02-23T19:39:06.907Z"
   },
   {
    "duration": 221,
    "start_time": "2022-02-23T19:39:06.913Z"
   },
   {
    "duration": 4,
    "start_time": "2022-02-23T19:39:07.138Z"
   },
   {
    "duration": 145,
    "start_time": "2022-02-23T19:39:07.149Z"
   },
   {
    "duration": 136,
    "start_time": "2022-02-23T19:39:07.298Z"
   },
   {
    "duration": 1109,
    "start_time": "2022-02-24T04:17:47.319Z"
   },
   {
    "duration": 3,
    "start_time": "2022-02-24T04:17:48.430Z"
   },
   {
    "duration": 36,
    "start_time": "2022-02-24T04:17:48.435Z"
   },
   {
    "duration": 231,
    "start_time": "2022-02-24T04:17:48.472Z"
   },
   {
    "duration": 12,
    "start_time": "2022-02-24T04:17:48.705Z"
   },
   {
    "duration": 142,
    "start_time": "2022-02-24T04:17:48.718Z"
   },
   {
    "duration": 3,
    "start_time": "2022-02-24T04:17:48.862Z"
   },
   {
    "duration": 463,
    "start_time": "2022-02-24T04:17:48.869Z"
   },
   {
    "duration": 3,
    "start_time": "2022-02-24T04:17:49.334Z"
   },
   {
    "duration": 218,
    "start_time": "2022-02-24T04:17:49.338Z"
   },
   {
    "duration": 2,
    "start_time": "2022-02-24T04:17:49.558Z"
   },
   {
    "duration": 2662,
    "start_time": "2022-02-24T04:17:49.563Z"
   },
   {
    "duration": 90,
    "start_time": "2022-02-24T04:17:52.227Z"
   },
   {
    "duration": 64,
    "start_time": "2022-02-24T04:17:52.319Z"
   },
   {
    "duration": 4,
    "start_time": "2022-02-24T04:17:52.385Z"
   },
   {
    "duration": 2708,
    "start_time": "2022-02-24T04:17:52.391Z"
   },
   {
    "duration": 378,
    "start_time": "2022-02-24T04:17:55.101Z"
   },
   {
    "duration": 2,
    "start_time": "2022-02-24T04:17:55.481Z"
   },
   {
    "duration": 416,
    "start_time": "2022-02-24T04:17:55.485Z"
   },
   {
    "duration": 2,
    "start_time": "2022-02-24T04:17:55.902Z"
   },
   {
    "duration": 262,
    "start_time": "2022-02-24T04:17:55.906Z"
   },
   {
    "duration": 2,
    "start_time": "2022-02-24T04:17:56.170Z"
   },
   {
    "duration": 90,
    "start_time": "2022-02-24T04:17:56.175Z"
   },
   {
    "duration": 145,
    "start_time": "2022-02-24T04:17:56.267Z"
   },
   {
    "duration": 268,
    "start_time": "2022-02-24T04:24:15.542Z"
   },
   {
    "duration": 250,
    "start_time": "2022-02-24T04:24:20.555Z"
   },
   {
    "duration": 77,
    "start_time": "2022-02-24T04:24:48.439Z"
   },
   {
    "duration": 250,
    "start_time": "2022-02-24T04:25:05.926Z"
   },
   {
    "duration": 150,
    "start_time": "2022-02-24T04:25:09.230Z"
   },
   {
    "duration": 41,
    "start_time": "2022-02-24T04:43:27.145Z"
   },
   {
    "duration": 43,
    "start_time": "2022-02-24T04:44:13.826Z"
   },
   {
    "duration": 42,
    "start_time": "2022-02-24T04:44:23.918Z"
   },
   {
    "duration": 43,
    "start_time": "2022-02-24T04:44:37.858Z"
   },
   {
    "duration": 42,
    "start_time": "2022-02-24T04:44:45.888Z"
   },
   {
    "duration": 1093,
    "start_time": "2022-02-24T09:29:39.283Z"
   },
   {
    "duration": 3,
    "start_time": "2022-02-24T09:29:40.378Z"
   },
   {
    "duration": 24,
    "start_time": "2022-02-24T09:29:40.383Z"
   },
   {
    "duration": 24,
    "start_time": "2022-02-24T09:29:40.409Z"
   },
   {
    "duration": 12,
    "start_time": "2022-02-24T09:29:40.435Z"
   },
   {
    "duration": 81,
    "start_time": "2022-02-24T09:29:40.449Z"
   },
   {
    "duration": 2,
    "start_time": "2022-02-24T09:29:40.531Z"
   },
   {
    "duration": 19,
    "start_time": "2022-02-24T09:29:40.536Z"
   },
   {
    "duration": 304,
    "start_time": "2022-02-24T09:29:40.556Z"
   },
   {
    "duration": 2,
    "start_time": "2022-02-24T09:29:40.861Z"
   },
   {
    "duration": 187,
    "start_time": "2022-02-24T09:29:40.864Z"
   },
   {
    "duration": 2,
    "start_time": "2022-02-24T09:29:41.052Z"
   },
   {
    "duration": 12,
    "start_time": "2022-02-24T09:29:41.056Z"
   },
   {
    "duration": 845,
    "start_time": "2022-02-24T09:29:41.070Z"
   },
   {
    "duration": 53,
    "start_time": "2022-02-24T09:29:41.916Z"
   },
   {
    "duration": 30,
    "start_time": "2022-02-24T09:29:41.971Z"
   },
   {
    "duration": 2,
    "start_time": "2022-02-24T09:29:42.003Z"
   },
   {
    "duration": 821,
    "start_time": "2022-02-24T09:29:42.006Z"
   },
   {
    "duration": 361,
    "start_time": "2022-02-24T09:29:42.828Z"
   },
   {
    "duration": 2,
    "start_time": "2022-02-24T09:29:43.190Z"
   },
   {
    "duration": 376,
    "start_time": "2022-02-24T09:29:43.194Z"
   },
   {
    "duration": 2,
    "start_time": "2022-02-24T09:29:43.572Z"
   },
   {
    "duration": 189,
    "start_time": "2022-02-24T09:29:43.578Z"
   },
   {
    "duration": 3,
    "start_time": "2022-02-24T09:29:43.769Z"
   },
   {
    "duration": 73,
    "start_time": "2022-02-24T09:29:43.773Z"
   },
   {
    "duration": 114,
    "start_time": "2022-02-24T09:29:43.848Z"
   },
   {
    "duration": 1152,
    "start_time": "2022-02-25T03:22:23.923Z"
   },
   {
    "duration": 3,
    "start_time": "2022-02-25T03:22:25.077Z"
   },
   {
    "duration": 24,
    "start_time": "2022-02-25T03:22:25.082Z"
   },
   {
    "duration": 25,
    "start_time": "2022-02-25T03:22:25.108Z"
   },
   {
    "duration": 12,
    "start_time": "2022-02-25T03:22:25.135Z"
   },
   {
    "duration": 82,
    "start_time": "2022-02-25T03:22:25.148Z"
   },
   {
    "duration": 2,
    "start_time": "2022-02-25T03:22:25.232Z"
   },
   {
    "duration": 20,
    "start_time": "2022-02-25T03:22:25.236Z"
   },
   {
    "duration": 325,
    "start_time": "2022-02-25T03:22:25.258Z"
   },
   {
    "duration": 2,
    "start_time": "2022-02-25T03:22:25.585Z"
   },
   {
    "duration": 195,
    "start_time": "2022-02-25T03:22:25.588Z"
   },
   {
    "duration": 3,
    "start_time": "2022-02-25T03:22:25.785Z"
   },
   {
    "duration": 11,
    "start_time": "2022-02-25T03:22:25.790Z"
   },
   {
    "duration": 909,
    "start_time": "2022-02-25T03:22:25.803Z"
   },
   {
    "duration": 54,
    "start_time": "2022-02-25T03:22:26.713Z"
   },
   {
    "duration": 31,
    "start_time": "2022-02-25T03:22:26.768Z"
   },
   {
    "duration": 2,
    "start_time": "2022-02-25T03:22:26.800Z"
   },
   {
    "duration": 869,
    "start_time": "2022-02-25T03:22:26.804Z"
   },
   {
    "duration": 410,
    "start_time": "2022-02-25T03:22:27.675Z"
   },
   {
    "duration": 2,
    "start_time": "2022-02-25T03:22:28.087Z"
   },
   {
    "duration": 407,
    "start_time": "2022-02-25T03:22:28.090Z"
   },
   {
    "duration": 2,
    "start_time": "2022-02-25T03:22:28.498Z"
   },
   {
    "duration": 182,
    "start_time": "2022-02-25T03:22:28.504Z"
   },
   {
    "duration": 2,
    "start_time": "2022-02-25T03:22:28.688Z"
   },
   {
    "duration": 72,
    "start_time": "2022-02-25T03:22:28.691Z"
   },
   {
    "duration": 107,
    "start_time": "2022-02-25T03:22:28.765Z"
   }
  ],
  "colab": {
   "name": "AdvansedSQLProjectTemplate.ipynb",
   "provenance": []
  },
  "kernelspec": {
   "display_name": "Python 3",
   "language": "python",
   "name": "python3"
  },
  "language_info": {
   "codemirror_mode": {
    "name": "ipython",
    "version": 3
   },
   "file_extension": ".py",
   "mimetype": "text/x-python",
   "name": "python",
   "nbconvert_exporter": "python",
   "pygments_lexer": "ipython3",
   "version": "3.7.8"
  },
  "toc": {
   "base_numbering": 1,
   "nav_menu": {},
   "number_sections": true,
   "sideBar": true,
   "skip_h1_title": true,
   "title_cell": "Table of Contents",
   "title_sidebar": "Contents",
   "toc_cell": false,
   "toc_position": {},
   "toc_section_display": true,
   "toc_window_display": false
  }
 },
 "nbformat": 4,
 "nbformat_minor": 1
}
