{
 "cells": [
  {
   "cell_type": "markdown",
   "metadata": {},
   "source": [
    "# Рынок заведений общественного питания Москвы"
   ]
  },
  {
   "cell_type": "markdown",
   "metadata": {},
   "source": [
    "Мы решили открыть небольшое кафе в Москве. Оно оригинальное — гостей должны обслуживать роботы. Проект многообещающий, но дорогой. Вместе с партнёрами мы решились обратиться к инвесторам. Их интересует текущее положение дел на рынке — сможем ли мы снискать популярность на долгое время, когда все зеваки насмотрятся на роботов-официантов?  \n",
    "Исследуем рынок. У нас есть открытые данные о заведениях общественного питания в Москве."
   ]
  },
  {
   "cell_type": "markdown",
   "metadata": {},
   "source": [
    "<a id='content'></a>\n",
    "**Оглавление**\n",
    "\n",
    "**[Загрузка данных и подготовка их к анализу](#part_1)**\n",
    "* [Импортируем библиотеки](#part_1.1)\n",
    "* [Загрузка датасета, а также проверка данных](#part_1.2)\n",
    "\n",
    "**[Анализ данных](#part_2)**\n",
    "* [Исследуем соотношение видов объектов общественного питания по количеству](#part_2.1)\n",
    "* [Исследуем соотношение сетевых и несетевых заведений по количеству](#part_2.2)\n",
    "* [Определим для какого вида объекта общественного питания характерно сетевое распространение](#part_2.3)\n",
    "* [Что характерно для сетевых заведений: много заведений с небольшим числом посадочных мест в каждом или мало заведений с большим количеством посадочных мест?](#part_2.4)\n",
    "* [Для каждого вида объекта общественного питания опишите среднее количество посадочных мест. Какой вид предоставляет в среднем самое большое количество посадочных мест?](#part_2.5)\n",
    "* [Выделим в отдельный столбец информацию об улице из столбца address](#part_2.6)\n",
    "* [Построим график топ-10 улиц по количеству объектов общественного питания. Воспользуемся внешней информацией и ответим на вопрос — в каких районах Москвы находятся эти улицы?](#part_2.7)\n",
    "* [Найдем число улиц с одним объектом общественного питания. Воспользуемся внешней информацией и ответим на вопрос — в каких районах Москвы находятся эти улицы.](#part_2.8)\n",
    "* [Посмотрим на распределение количества посадочных мест для улиц с большим количеством объектов общественного питания. Подумаем, какие закономерности можно выявить.](#part_2.9)\n",
    "\n",
    "**[Вывод](#part_3)**\n",
    "\n",
    "**[Рекомендации](#part_4)**\n",
    "\n",
    "**Презентация**\n",
    "* Презентация в pdf формате: <https://disk.yandex.ru/d/cUNN8ILLQAegmA>"
   ]
  },
  {
   "cell_type": "markdown",
   "metadata": {},
   "source": [
    "<a id='part_1'></a>\n",
    "## Загрузка данных и подготовка их к анализу"
   ]
  },
  {
   "cell_type": "markdown",
   "metadata": {},
   "source": [
    "Для начала импортируем библиотеки **pandas**, **seaborn**, **matplotlib**, **plotly** и прочитаем файлы с данными:  \n",
    "    **/datasets/rest_data.csv** — данные о заведениях общественного питания Москвы"
   ]
  },
  {
   "cell_type": "markdown",
   "metadata": {},
   "source": [
    "<a id='part_1.1'></a>\n",
    "**Импортируем библиотеки**  \n",
    "[*Назад к оглавлению*](#content)"
   ]
  },
  {
   "cell_type": "code",
   "execution_count": 1,
   "metadata": {},
   "outputs": [],
   "source": [
    "#импортируем библиотеки\n",
    "import pandas as pd\n",
    "import seaborn as sns\n",
    "import matplotlib.pyplot as plt\n",
    "import numpy as np\n",
    "from io import BytesIO\n",
    "import requests"
   ]
  },
  {
   "cell_type": "markdown",
   "metadata": {},
   "source": [
    "<a id='part_1.2'></a>\n",
    "**Загрузка датасета, а также проверка данных**  \n",
    "[*Назад к оглавлению*](#content)"
   ]
  },
  {
   "cell_type": "code",
   "execution_count": 2,
   "metadata": {
    "scrolled": true
   },
   "outputs": [
    {
     "data": {
      "text/html": [
       "<div>\n",
       "<style scoped>\n",
       "    .dataframe tbody tr th:only-of-type {\n",
       "        vertical-align: middle;\n",
       "    }\n",
       "\n",
       "    .dataframe tbody tr th {\n",
       "        vertical-align: top;\n",
       "    }\n",
       "\n",
       "    .dataframe thead th {\n",
       "        text-align: right;\n",
       "    }\n",
       "</style>\n",
       "<table border=\"1\" class=\"dataframe\">\n",
       "  <thead>\n",
       "    <tr style=\"text-align: right;\">\n",
       "      <th></th>\n",
       "      <th>id</th>\n",
       "      <th>object_name</th>\n",
       "      <th>chain</th>\n",
       "      <th>object_type</th>\n",
       "      <th>address</th>\n",
       "      <th>number</th>\n",
       "    </tr>\n",
       "  </thead>\n",
       "  <tbody>\n",
       "    <tr>\n",
       "      <td>0</td>\n",
       "      <td>151635</td>\n",
       "      <td>СМЕТАНА</td>\n",
       "      <td>нет</td>\n",
       "      <td>кафе</td>\n",
       "      <td>город Москва, улица Егора Абакумова, дом 9</td>\n",
       "      <td>48</td>\n",
       "    </tr>\n",
       "    <tr>\n",
       "      <td>1</td>\n",
       "      <td>77874</td>\n",
       "      <td>Родник</td>\n",
       "      <td>нет</td>\n",
       "      <td>кафе</td>\n",
       "      <td>город Москва, улица Талалихина, дом 2/1, корпус 1</td>\n",
       "      <td>35</td>\n",
       "    </tr>\n",
       "    <tr>\n",
       "      <td>2</td>\n",
       "      <td>24309</td>\n",
       "      <td>Кафе «Академия»</td>\n",
       "      <td>нет</td>\n",
       "      <td>кафе</td>\n",
       "      <td>город Москва, Абельмановская улица, дом 6</td>\n",
       "      <td>95</td>\n",
       "    </tr>\n",
       "    <tr>\n",
       "      <td>3</td>\n",
       "      <td>21894</td>\n",
       "      <td>ПИЦЦЕТОРИЯ</td>\n",
       "      <td>да</td>\n",
       "      <td>кафе</td>\n",
       "      <td>город Москва, Абрамцевская улица, дом 1</td>\n",
       "      <td>40</td>\n",
       "    </tr>\n",
       "    <tr>\n",
       "      <td>4</td>\n",
       "      <td>119365</td>\n",
       "      <td>Кафе «Вишневая метель»</td>\n",
       "      <td>нет</td>\n",
       "      <td>кафе</td>\n",
       "      <td>город Москва, Абрамцевская улица, дом 9, корпус 1</td>\n",
       "      <td>50</td>\n",
       "    </tr>\n",
       "  </tbody>\n",
       "</table>\n",
       "</div>"
      ],
      "text/plain": [
       "       id             object_name chain object_type  \\\n",
       "0  151635                 СМЕТАНА   нет        кафе   \n",
       "1   77874                  Родник   нет        кафе   \n",
       "2   24309         Кафе «Академия»   нет        кафе   \n",
       "3   21894              ПИЦЦЕТОРИЯ    да        кафе   \n",
       "4  119365  Кафе «Вишневая метель»   нет        кафе   \n",
       "\n",
       "                                             address  number  \n",
       "0         город Москва, улица Егора Абакумова, дом 9      48  \n",
       "1  город Москва, улица Талалихина, дом 2/1, корпус 1      35  \n",
       "2          город Москва, Абельмановская улица, дом 6      95  \n",
       "3            город Москва, Абрамцевская улица, дом 1      40  \n",
       "4  город Москва, Абрамцевская улица, дом 9, корпус 1      50  "
      ]
     },
     "execution_count": 2,
     "metadata": {},
     "output_type": "execute_result"
    }
   ],
   "source": [
    "#прочитаем данные таблиц\n",
    "#выведим таблицу\n",
    "temp = '/datasets/rest_data.csv'\n",
    "rest_data = pd.read_csv(temp)\n",
    "rest_data.head()"
   ]
  },
  {
   "cell_type": "code",
   "execution_count": 3,
   "metadata": {
    "scrolled": false
   },
   "outputs": [
    {
     "name": "stdout",
     "output_type": "stream",
     "text": [
      "<class 'pandas.core.frame.DataFrame'>\n",
      "RangeIndex: 15366 entries, 0 to 15365\n",
      "Data columns (total 6 columns):\n",
      "id             15366 non-null int64\n",
      "object_name    15366 non-null object\n",
      "chain          15366 non-null object\n",
      "object_type    15366 non-null object\n",
      "address        15366 non-null object\n",
      "number         15366 non-null int64\n",
      "dtypes: int64(2), object(4)\n",
      "memory usage: 720.4+ KB\n"
     ]
    }
   ],
   "source": [
    "#посмотрим общую информацию\n",
    "rest_data.info()"
   ]
  },
  {
   "cell_type": "code",
   "execution_count": 4,
   "metadata": {},
   "outputs": [
    {
     "data": {
      "text/plain": [
       "0"
      ]
     },
     "execution_count": 4,
     "metadata": {},
     "output_type": "execute_result"
    }
   ],
   "source": [
    "#проверим дубликаты\n",
    "rest_data.duplicated().sum()"
   ]
  },
  {
   "cell_type": "code",
   "execution_count": 5,
   "metadata": {
    "scrolled": true
   },
   "outputs": [
    {
     "data": {
      "text/plain": [
       "0"
      ]
     },
     "execution_count": 5,
     "metadata": {},
     "output_type": "execute_result"
    }
   ],
   "source": [
    "#проверим дубликаты по идентификатору объекта\n",
    "rest_data['id'].duplicated().sum()"
   ]
  },
  {
   "cell_type": "code",
   "execution_count": 6,
   "metadata": {
    "scrolled": false
   },
   "outputs": [
    {
     "data": {
      "text/plain": [
       "array(['кафе', 'столовая', 'закусочная',\n",
       "       'предприятие быстрого обслуживания', 'ресторан', 'кафетерий',\n",
       "       'буфет', 'бар', 'магазин (отдел кулинарии)'], dtype=object)"
      ]
     },
     "execution_count": 6,
     "metadata": {},
     "output_type": "execute_result"
    }
   ],
   "source": [
    "#проверим как заполнен тип объекта\n",
    "rest_data['object_type'].unique()"
   ]
  },
  {
   "cell_type": "code",
   "execution_count": 7,
   "metadata": {},
   "outputs": [],
   "source": [
    "#для удоства переименуем предприятие быстрого обслуживания в фастфуд, и магазин (отдел кулинарии) в кулинарию\n",
    "rest_data['object_type'] = rest_data['object_type'].str.replace('предприятие быстрого обслуживания', 'фаст-фуд')\n",
    "rest_data['object_type'] = rest_data['object_type'].str.replace('магазин \\(отдел кулинарии\\)', 'кулинария')"
   ]
  },
  {
   "cell_type": "markdown",
   "metadata": {},
   "source": [
    "Таблица ***rest_data*** содержит информацию о заведениях общественного питания Москвы. \n",
    "* `id` — идентификатор объекта;\n",
    "* `object_name` — название объекта общественного питания;\n",
    "* `chain` — сетевой ресторан;\n",
    "* `object_type` — тип объекта общественного питания;\n",
    "* `address` — адрес;\n",
    "* `number` — количество посадочных мест.\n",
    "  \n",
    "Файл содержит данные по 15366 заведениям из которых описывается по 6 столбцам. Переименовали длиные названия типов короткие. Дубликатов и пропущенных значений нет. Проверка показала, что данные на первый взгляд корректны. Замечаний к ним нет. Можно приступать к анализу данных."
   ]
  },
  {
   "cell_type": "markdown",
   "metadata": {},
   "source": [
    "<a id='part_2'></a>\n",
    "## Анализ данных"
   ]
  },
  {
   "cell_type": "markdown",
   "metadata": {},
   "source": [
    "<a id='part_2.1'></a>\n",
    "**Исследуем соотношение видов объектов общественного питания по количеству**  \n",
    "[*Назад к оглавлению*](#content)"
   ]
  },
  {
   "cell_type": "code",
   "execution_count": 8,
   "metadata": {},
   "outputs": [
    {
     "data": {
      "text/html": [
       "<div>\n",
       "<style scoped>\n",
       "    .dataframe tbody tr th:only-of-type {\n",
       "        vertical-align: middle;\n",
       "    }\n",
       "\n",
       "    .dataframe tbody tr th {\n",
       "        vertical-align: top;\n",
       "    }\n",
       "\n",
       "    .dataframe thead th {\n",
       "        text-align: right;\n",
       "    }\n",
       "</style>\n",
       "<table border=\"1\" class=\"dataframe\">\n",
       "  <thead>\n",
       "    <tr style=\"text-align: right;\">\n",
       "      <th></th>\n",
       "      <th>object_type</th>\n",
       "      <th>id</th>\n",
       "      <th>percent</th>\n",
       "    </tr>\n",
       "  </thead>\n",
       "  <tbody>\n",
       "    <tr>\n",
       "      <td>3</td>\n",
       "      <td>кафе</td>\n",
       "      <td>6099</td>\n",
       "      <td>39.7%</td>\n",
       "    </tr>\n",
       "    <tr>\n",
       "      <td>7</td>\n",
       "      <td>столовая</td>\n",
       "      <td>2587</td>\n",
       "      <td>16.8%</td>\n",
       "    </tr>\n",
       "    <tr>\n",
       "      <td>6</td>\n",
       "      <td>ресторан</td>\n",
       "      <td>2285</td>\n",
       "      <td>14.9%</td>\n",
       "    </tr>\n",
       "    <tr>\n",
       "      <td>8</td>\n",
       "      <td>фаст-фуд</td>\n",
       "      <td>1923</td>\n",
       "      <td>12.5%</td>\n",
       "    </tr>\n",
       "    <tr>\n",
       "      <td>0</td>\n",
       "      <td>бар</td>\n",
       "      <td>856</td>\n",
       "      <td>5.6%</td>\n",
       "    </tr>\n",
       "    <tr>\n",
       "      <td>1</td>\n",
       "      <td>буфет</td>\n",
       "      <td>585</td>\n",
       "      <td>3.8%</td>\n",
       "    </tr>\n",
       "    <tr>\n",
       "      <td>4</td>\n",
       "      <td>кафетерий</td>\n",
       "      <td>398</td>\n",
       "      <td>2.6%</td>\n",
       "    </tr>\n",
       "    <tr>\n",
       "      <td>2</td>\n",
       "      <td>закусочная</td>\n",
       "      <td>360</td>\n",
       "      <td>2.3%</td>\n",
       "    </tr>\n",
       "    <tr>\n",
       "      <td>5</td>\n",
       "      <td>кулинария</td>\n",
       "      <td>273</td>\n",
       "      <td>1.8%</td>\n",
       "    </tr>\n",
       "  </tbody>\n",
       "</table>\n",
       "</div>"
      ],
      "text/plain": [
       "  object_type    id percent\n",
       "3        кафе  6099   39.7%\n",
       "7    столовая  2587   16.8%\n",
       "6    ресторан  2285   14.9%\n",
       "8    фаст-фуд  1923   12.5%\n",
       "0         бар   856    5.6%\n",
       "1       буфет   585    3.8%\n",
       "4   кафетерий   398    2.6%\n",
       "2  закусочная   360    2.3%\n",
       "5   кулинария   273    1.8%"
      ]
     },
     "metadata": {},
     "output_type": "display_data"
    },
    {
     "data": {
      "image/png": "[encoded data removed]",
      "text/plain": [
       "<Figure size 792x360 with 1 Axes>"
      ]
     },
     "metadata": {
      "needs_background": "light"
     },
     "output_type": "display_data"
    }
   ],
   "source": [
    "#сгруппируем по типу, посчитаем количество по идентификатору объекта и сделаем сортировку\n",
    "object_types = (rest_data\n",
    "                .groupby('object_type', as_index=False)\n",
    "                .agg({'id':'count'})\n",
    "                .sort_values(by='id', ascending=False)\n",
    "               )\n",
    "#добавим столбец с процентом от общего количества по каждому типу\n",
    "object_types['percent'] = (object_types['id'] / object_types['id'].sum() * 100).round(1).astype('str') + '%'\n",
    "display(object_types)\n",
    "#построим столбчатую диаграмму\n",
    "object_types.plot(kind='bar', x='object_type', color='#4a646c', figsize=(11,5), legend=False)\n",
    "plt.xlabel('Тип объекта')\n",
    "plt.ylabel('Количество объектов')\n",
    "plt.title('Соотношение видов объектов общественного питания по количеству')\n",
    "plt.xticks(rotation=45)\n",
    "plt.show()"
   ]
  },
  {
   "cell_type": "markdown",
   "metadata": {},
   "source": [
    "На диаграмме видно что, наибольшее количество типов объектов общественного питания составляют кафе 39,7%, далее идут столовые 16,8%, рестораны 14,9%, фаст-фуд 12,5%."
   ]
  },
  {
   "cell_type": "markdown",
   "metadata": {},
   "source": [
    "<a id='part_2.2'></a>\n",
    "**Исследуем соотношение сетевых и несетевых заведений по количеству**  \n",
    "[*Назад к оглавлению*](#content)"
   ]
  },
  {
   "cell_type": "code",
   "execution_count": 9,
   "metadata": {
    "scrolled": false
   },
   "outputs": [
    {
     "data": {
      "image/png": "[encoded data removed]",
      "text/plain": [
       "<Figure size 432x288 with 1 Axes>"
      ]
     },
     "metadata": {},
     "output_type": "display_data"
    }
   ],
   "source": [
    "chain_groupby = rest_data.groupby('chain')['object_name'].count().sort_values()\n",
    "\n",
    "colors = ['#4a646c', '#8EB897']\n",
    "labels = ['cетевое', 'несетевое']\n",
    "#нарисуем круговой график\n",
    "plt.pie(chain_groupby, labels=labels, colors=colors, radius=1.5,\n",
    "        wedgeprops = { 'linewidth' : 3, 'edgecolor' : 'white' }, startangle=90, autopct='%1.1f%%')\n",
    "plt.show()"
   ]
  },
  {
   "cell_type": "markdown",
   "metadata": {},
   "source": [
    "Видим из круговой диаграммы - сетевых заведений лишь 19,3% от общего количества, остальные - несетевые"
   ]
  },
  {
   "cell_type": "markdown",
   "metadata": {},
   "source": [
    "<a id='part_2.3'></a>\n",
    "**Определим для какого вида объекта общественного питания характерно сетевое распространение**  \n",
    "[*Назад к оглавлению*](#content)"
   ]
  },
  {
   "cell_type": "code",
   "execution_count": 10,
   "metadata": {
    "scrolled": true
   },
   "outputs": [
    {
     "data": {
      "text/html": [
       "<div>\n",
       "<style scoped>\n",
       "    .dataframe tbody tr th:only-of-type {\n",
       "        vertical-align: middle;\n",
       "    }\n",
       "\n",
       "    .dataframe tbody tr th {\n",
       "        vertical-align: top;\n",
       "    }\n",
       "\n",
       "    .dataframe thead th {\n",
       "        text-align: right;\n",
       "    }\n",
       "</style>\n",
       "<table border=\"1\" class=\"dataframe\">\n",
       "  <thead>\n",
       "    <tr style=\"text-align: right;\">\n",
       "      <th></th>\n",
       "      <th>object_type</th>\n",
       "      <th>chain_objects</th>\n",
       "      <th>all_objects</th>\n",
       "      <th>percent</th>\n",
       "    </tr>\n",
       "  </thead>\n",
       "  <tbody>\n",
       "    <tr>\n",
       "      <td>0</td>\n",
       "      <td>кафе</td>\n",
       "      <td>1396</td>\n",
       "      <td>6099</td>\n",
       "      <td>22.89%</td>\n",
       "    </tr>\n",
       "    <tr>\n",
       "      <td>1</td>\n",
       "      <td>фаст-фуд</td>\n",
       "      <td>791</td>\n",
       "      <td>1923</td>\n",
       "      <td>41.13%</td>\n",
       "    </tr>\n",
       "    <tr>\n",
       "      <td>2</td>\n",
       "      <td>ресторан</td>\n",
       "      <td>544</td>\n",
       "      <td>2285</td>\n",
       "      <td>23.81%</td>\n",
       "    </tr>\n",
       "    <tr>\n",
       "      <td>3</td>\n",
       "      <td>кулинария</td>\n",
       "      <td>78</td>\n",
       "      <td>273</td>\n",
       "      <td>28.57%</td>\n",
       "    </tr>\n",
       "    <tr>\n",
       "      <td>4</td>\n",
       "      <td>закусочная</td>\n",
       "      <td>56</td>\n",
       "      <td>360</td>\n",
       "      <td>15.56%</td>\n",
       "    </tr>\n",
       "    <tr>\n",
       "      <td>5</td>\n",
       "      <td>кафетерий</td>\n",
       "      <td>52</td>\n",
       "      <td>398</td>\n",
       "      <td>13.07%</td>\n",
       "    </tr>\n",
       "    <tr>\n",
       "      <td>6</td>\n",
       "      <td>бар</td>\n",
       "      <td>37</td>\n",
       "      <td>856</td>\n",
       "      <td>4.32%</td>\n",
       "    </tr>\n",
       "    <tr>\n",
       "      <td>7</td>\n",
       "      <td>буфет</td>\n",
       "      <td>11</td>\n",
       "      <td>585</td>\n",
       "      <td>1.88%</td>\n",
       "    </tr>\n",
       "    <tr>\n",
       "      <td>8</td>\n",
       "      <td>столовая</td>\n",
       "      <td>3</td>\n",
       "      <td>2587</td>\n",
       "      <td>0.12%</td>\n",
       "    </tr>\n",
       "  </tbody>\n",
       "</table>\n",
       "</div>"
      ],
      "text/plain": [
       "  object_type  chain_objects  all_objects percent\n",
       "0        кафе           1396         6099  22.89%\n",
       "1    фаст-фуд            791         1923  41.13%\n",
       "2    ресторан            544         2285  23.81%\n",
       "3   кулинария             78          273  28.57%\n",
       "4  закусочная             56          360  15.56%\n",
       "5   кафетерий             52          398  13.07%\n",
       "6         бар             37          856   4.32%\n",
       "7       буфет             11          585   1.88%\n",
       "8    столовая              3         2587   0.12%"
      ]
     },
     "metadata": {},
     "output_type": "display_data"
    }
   ],
   "source": [
    "#сгрупируем данные по сетевым объектам \n",
    "chain_object_types = (rest_data[rest_data['chain'] == 'да']\n",
    "                      .groupby('object_type', as_index=False)\n",
    "                      .agg({'id':'count'})\n",
    "                      .sort_values(by='id', ascending=False)\n",
    "                     )\n",
    "chain_object_types = (chain_object_types\n",
    "                      .merge(object_types[['object_type', 'id']], left_on='object_type', right_on='object_type')\n",
    "                     )\n",
    "chain_object_types.columns=['object_type', 'chain_objects', 'all_objects']\n",
    "chain_object_types['percent'] = (chain_object_types['chain_objects'] / chain_object_types['all_objects']*100).round(2).astype('str')+'%'\n",
    "\n",
    "display(chain_object_types)"
   ]
  },
  {
   "cell_type": "markdown",
   "metadata": {},
   "source": [
    "Сетевое распространение характерно для предприятий быстрого обслуживания 41%.  \n",
    "В меньше мере оно характерно для магазинов 29% заведений, ресторанов 24% и кафе 23%."
   ]
  },
  {
   "cell_type": "markdown",
   "metadata": {},
   "source": [
    "<a id='part_2.4'></a>\n",
    "**Что характерно для сетевых заведений: много заведений с небольшим числом посадочных мест в каждом или мало заведений с большим количеством посадочных мест?**  \n",
    "[*Назад к оглавлению*](#content)"
   ]
  },
  {
   "cell_type": "code",
   "execution_count": 11,
   "metadata": {
    "scrolled": true
   },
   "outputs": [
    {
     "data": {
      "image/png": "[encoded data removed]",
      "text/plain": [
       "<Figure size 792x360 with 1 Axes>"
      ]
     },
     "metadata": {
      "needs_background": "light"
     },
     "output_type": "display_data"
    }
   ],
   "source": [
    "#построим столбчатую диаграмму\n",
    "rest_data[rest_data['chain'] == 'да']['number'].hist(bins=20, color='#4a646c', grid=False, figsize=(11,5))\n",
    "plt.title('Соотношение количество посадочных мест по количеству')\n",
    "plt.xlabel('Количество посадочных мест')\n",
    "plt.ylabel('Количество объектов')\n",
    "plt.show()"
   ]
  },
  {
   "cell_type": "code",
   "execution_count": 12,
   "metadata": {
    "scrolled": true
   },
   "outputs": [
    {
     "data": {
      "image/png": "[encoded data removed]",
      "text/plain": [
       "<Figure size 576x360 with 1 Axes>"
      ]
     },
     "metadata": {
      "needs_background": "light"
     },
     "output_type": "display_data"
    }
   ],
   "source": [
    "plt.figure(figsize=(8,5))\n",
    "sns.boxplot(x=rest_data[rest_data['chain'] == 'да']['number'], color='#4a646c')\n",
    "plt.xlabel('Количество посадочных мест')\n",
    "plt.show()"
   ]
  },
  {
   "cell_type": "code",
   "execution_count": 13,
   "metadata": {
    "scrolled": true
   },
   "outputs": [
    {
     "data": {
      "text/plain": [
       "count    2968.000000\n",
       "mean       52.919811\n",
       "std        57.140644\n",
       "min         0.000000\n",
       "25%        15.000000\n",
       "50%        40.000000\n",
       "75%        72.000000\n",
       "max       580.000000\n",
       "Name: number, dtype: float64"
      ]
     },
     "execution_count": 13,
     "metadata": {},
     "output_type": "execute_result"
    }
   ],
   "source": [
    "rest_data[rest_data['chain'] == 'да']['number'].describe()"
   ]
  },
  {
   "cell_type": "markdown",
   "metadata": {},
   "source": [
    "Как правило, в сетевых заведениях - мало заведений с большим количеством посадочных мест.\n",
    "В большинстве сетей до 100 посадочных мест."
   ]
  },
  {
   "cell_type": "markdown",
   "metadata": {},
   "source": [
    "<a id='part_2.5'></a>\n",
    "**Для каждого вида объекта общественного питания опишите среднее количество посадочных мест. Какой вид предоставляет в среднем самое большое количество посадочных мест?**  \n",
    "[*Назад к оглавлению*](#content)"
   ]
  },
  {
   "cell_type": "code",
   "execution_count": 14,
   "metadata": {
    "scrolled": false
   },
   "outputs": [
    {
     "data": {
      "image/png": "[encoded data removed]",
      "text/plain": [
       "<Figure size 864x576 with 1 Axes>"
      ]
     },
     "metadata": {
      "needs_background": "light"
     },
     "output_type": "display_data"
    }
   ],
   "source": [
    "plt.figure(figsize=(12,8))\n",
    "sns.boxplot(x='number', y='object_type', data=rest_data, color='#4a646c').set_xlim(-10,500)\n",
    "plt.xlabel('Количество посадочных мест')\n",
    "plt.ylabel('Тип объекта')\n",
    "plt.show()"
   ]
  },
  {
   "cell_type": "code",
   "execution_count": 15,
   "metadata": {
    "scrolled": false
   },
   "outputs": [
    {
     "data": {
      "text/html": [
       "<div>\n",
       "<style scoped>\n",
       "    .dataframe tbody tr th:only-of-type {\n",
       "        vertical-align: middle;\n",
       "    }\n",
       "\n",
       "    .dataframe tbody tr th {\n",
       "        vertical-align: top;\n",
       "    }\n",
       "\n",
       "    .dataframe thead th {\n",
       "        text-align: right;\n",
       "    }\n",
       "</style>\n",
       "<table border=\"1\" class=\"dataframe\">\n",
       "  <thead>\n",
       "    <tr style=\"text-align: right;\">\n",
       "      <th></th>\n",
       "      <th>count</th>\n",
       "      <th>mean</th>\n",
       "      <th>std</th>\n",
       "      <th>min</th>\n",
       "      <th>25%</th>\n",
       "      <th>50%</th>\n",
       "      <th>75%</th>\n",
       "      <th>max</th>\n",
       "    </tr>\n",
       "    <tr>\n",
       "      <th>object_type</th>\n",
       "      <th></th>\n",
       "      <th></th>\n",
       "      <th></th>\n",
       "      <th></th>\n",
       "      <th></th>\n",
       "      <th></th>\n",
       "      <th></th>\n",
       "      <th></th>\n",
       "    </tr>\n",
       "  </thead>\n",
       "  <tbody>\n",
       "    <tr>\n",
       "      <td>столовая</td>\n",
       "      <td>2587.0</td>\n",
       "      <td>130.246618</td>\n",
       "      <td>95.179313</td>\n",
       "      <td>0.0</td>\n",
       "      <td>50.0</td>\n",
       "      <td>103.0</td>\n",
       "      <td>200.0</td>\n",
       "      <td>1400.0</td>\n",
       "    </tr>\n",
       "    <tr>\n",
       "      <td>ресторан</td>\n",
       "      <td>2285.0</td>\n",
       "      <td>96.834136</td>\n",
       "      <td>94.756542</td>\n",
       "      <td>0.0</td>\n",
       "      <td>46.0</td>\n",
       "      <td>80.0</td>\n",
       "      <td>114.0</td>\n",
       "      <td>1500.0</td>\n",
       "    </tr>\n",
       "    <tr>\n",
       "      <td>буфет</td>\n",
       "      <td>585.0</td>\n",
       "      <td>51.129915</td>\n",
       "      <td>56.331974</td>\n",
       "      <td>0.0</td>\n",
       "      <td>14.0</td>\n",
       "      <td>32.0</td>\n",
       "      <td>80.0</td>\n",
       "      <td>320.0</td>\n",
       "    </tr>\n",
       "    <tr>\n",
       "      <td>бар</td>\n",
       "      <td>856.0</td>\n",
       "      <td>43.494159</td>\n",
       "      <td>67.082876</td>\n",
       "      <td>0.0</td>\n",
       "      <td>20.0</td>\n",
       "      <td>35.0</td>\n",
       "      <td>50.0</td>\n",
       "      <td>1700.0</td>\n",
       "    </tr>\n",
       "    <tr>\n",
       "      <td>кафе</td>\n",
       "      <td>6099.0</td>\n",
       "      <td>39.716019</td>\n",
       "      <td>37.720947</td>\n",
       "      <td>0.0</td>\n",
       "      <td>15.0</td>\n",
       "      <td>30.0</td>\n",
       "      <td>50.0</td>\n",
       "      <td>533.0</td>\n",
       "    </tr>\n",
       "    <tr>\n",
       "      <td>фаст-фуд</td>\n",
       "      <td>1923.0</td>\n",
       "      <td>20.552262</td>\n",
       "      <td>38.366974</td>\n",
       "      <td>0.0</td>\n",
       "      <td>0.0</td>\n",
       "      <td>5.0</td>\n",
       "      <td>25.0</td>\n",
       "      <td>580.0</td>\n",
       "    </tr>\n",
       "    <tr>\n",
       "      <td>кафетерий</td>\n",
       "      <td>398.0</td>\n",
       "      <td>9.123116</td>\n",
       "      <td>14.639150</td>\n",
       "      <td>0.0</td>\n",
       "      <td>0.0</td>\n",
       "      <td>6.0</td>\n",
       "      <td>12.0</td>\n",
       "      <td>200.0</td>\n",
       "    </tr>\n",
       "    <tr>\n",
       "      <td>закусочная</td>\n",
       "      <td>360.0</td>\n",
       "      <td>7.608333</td>\n",
       "      <td>16.650912</td>\n",
       "      <td>0.0</td>\n",
       "      <td>0.0</td>\n",
       "      <td>0.0</td>\n",
       "      <td>10.0</td>\n",
       "      <td>216.0</td>\n",
       "    </tr>\n",
       "    <tr>\n",
       "      <td>кулинария</td>\n",
       "      <td>273.0</td>\n",
       "      <td>5.589744</td>\n",
       "      <td>9.872729</td>\n",
       "      <td>0.0</td>\n",
       "      <td>0.0</td>\n",
       "      <td>0.0</td>\n",
       "      <td>8.0</td>\n",
       "      <td>50.0</td>\n",
       "    </tr>\n",
       "  </tbody>\n",
       "</table>\n",
       "</div>"
      ],
      "text/plain": [
       "              count        mean        std  min   25%    50%    75%     max\n",
       "object_type                                                                \n",
       "столовая     2587.0  130.246618  95.179313  0.0  50.0  103.0  200.0  1400.0\n",
       "ресторан     2285.0   96.834136  94.756542  0.0  46.0   80.0  114.0  1500.0\n",
       "буфет         585.0   51.129915  56.331974  0.0  14.0   32.0   80.0   320.0\n",
       "бар           856.0   43.494159  67.082876  0.0  20.0   35.0   50.0  1700.0\n",
       "кафе         6099.0   39.716019  37.720947  0.0  15.0   30.0   50.0   533.0\n",
       "фаст-фуд     1923.0   20.552262  38.366974  0.0   0.0    5.0   25.0   580.0\n",
       "кафетерий     398.0    9.123116  14.639150  0.0   0.0    6.0   12.0   200.0\n",
       "закусочная    360.0    7.608333  16.650912  0.0   0.0    0.0   10.0   216.0\n",
       "кулинария     273.0    5.589744   9.872729  0.0   0.0    0.0    8.0    50.0"
      ]
     },
     "execution_count": 15,
     "metadata": {},
     "output_type": "execute_result"
    }
   ],
   "source": [
    "rest_data.groupby('object_type')['number'].describe().sort_values(by='mean', ascending=False)"
   ]
  },
  {
   "cell_type": "markdown",
   "metadata": {},
   "source": [
    "В среднем у типов объекта СТОЛОВАЯ наибольшее количество посадочных мест - в среднем 130.  \n",
    "Топ-5 типов объектов по количеству посадочных мест:  \n",
    "130 места - столовая  \n",
    "96 мест - ресторан    \n",
    "51 места - буфет  \n",
    "43 мест - бар  \n",
    "39 мест - кафе  "
   ]
  },
  {
   "cell_type": "markdown",
   "metadata": {},
   "source": [
    "<a id='part_2.6'></a>\n",
    "**Выделим в отдельный столбец информацию об улице из столбца address**  \n",
    "[*Назад к оглавлению*](#content)"
   ]
  },
  {
   "cell_type": "code",
   "execution_count": 16,
   "metadata": {
    "scrolled": false
   },
   "outputs": [
    {
     "name": "stdout",
     "output_type": "stream",
     "text": [
      "196 строк у которых нет в адресе название улицы\n"
     ]
    },
    {
     "data": {
      "text/html": [
       "<div>\n",
       "<style scoped>\n",
       "    .dataframe tbody tr th:only-of-type {\n",
       "        vertical-align: middle;\n",
       "    }\n",
       "\n",
       "    .dataframe tbody tr th {\n",
       "        vertical-align: top;\n",
       "    }\n",
       "\n",
       "    .dataframe thead th {\n",
       "        text-align: right;\n",
       "    }\n",
       "</style>\n",
       "<table border=\"1\" class=\"dataframe\">\n",
       "  <thead>\n",
       "    <tr style=\"text-align: right;\">\n",
       "      <th></th>\n",
       "      <th>id</th>\n",
       "      <th>object_name</th>\n",
       "      <th>chain</th>\n",
       "      <th>object_type</th>\n",
       "      <th>address</th>\n",
       "      <th>number</th>\n",
       "      <th>street_name</th>\n",
       "    </tr>\n",
       "  </thead>\n",
       "  <tbody>\n",
       "    <tr>\n",
       "      <td>0</td>\n",
       "      <td>151635</td>\n",
       "      <td>СМЕТАНА</td>\n",
       "      <td>нет</td>\n",
       "      <td>кафе</td>\n",
       "      <td>город Москва, улица Егора Абакумова, дом 9</td>\n",
       "      <td>48</td>\n",
       "      <td>улица Егора Абакумова</td>\n",
       "    </tr>\n",
       "    <tr>\n",
       "      <td>1</td>\n",
       "      <td>77874</td>\n",
       "      <td>Родник</td>\n",
       "      <td>нет</td>\n",
       "      <td>кафе</td>\n",
       "      <td>город Москва, улица Талалихина, дом 2/1, корпус 1</td>\n",
       "      <td>35</td>\n",
       "      <td>улица Талалихина</td>\n",
       "    </tr>\n",
       "    <tr>\n",
       "      <td>2</td>\n",
       "      <td>24309</td>\n",
       "      <td>Кафе «Академия»</td>\n",
       "      <td>нет</td>\n",
       "      <td>кафе</td>\n",
       "      <td>город Москва, Абельмановская улица, дом 6</td>\n",
       "      <td>95</td>\n",
       "      <td>Абельмановская улица</td>\n",
       "    </tr>\n",
       "    <tr>\n",
       "      <td>3</td>\n",
       "      <td>21894</td>\n",
       "      <td>ПИЦЦЕТОРИЯ</td>\n",
       "      <td>да</td>\n",
       "      <td>кафе</td>\n",
       "      <td>город Москва, Абрамцевская улица, дом 1</td>\n",
       "      <td>40</td>\n",
       "      <td>Абрамцевская улица</td>\n",
       "    </tr>\n",
       "    <tr>\n",
       "      <td>4</td>\n",
       "      <td>119365</td>\n",
       "      <td>Кафе «Вишневая метель»</td>\n",
       "      <td>нет</td>\n",
       "      <td>кафе</td>\n",
       "      <td>город Москва, Абрамцевская улица, дом 9, корпус 1</td>\n",
       "      <td>50</td>\n",
       "      <td>Абрамцевская улица</td>\n",
       "    </tr>\n",
       "  </tbody>\n",
       "</table>\n",
       "</div>"
      ],
      "text/plain": [
       "       id             object_name chain object_type  \\\n",
       "0  151635                 СМЕТАНА   нет        кафе   \n",
       "1   77874                  Родник   нет        кафе   \n",
       "2   24309         Кафе «Академия»   нет        кафе   \n",
       "3   21894              ПИЦЦЕТОРИЯ    да        кафе   \n",
       "4  119365  Кафе «Вишневая метель»   нет        кафе   \n",
       "\n",
       "                                             address  number  \\\n",
       "0         город Москва, улица Егора Абакумова, дом 9      48   \n",
       "1  город Москва, улица Талалихина, дом 2/1, корпус 1      35   \n",
       "2          город Москва, Абельмановская улица, дом 6      95   \n",
       "3            город Москва, Абрамцевская улица, дом 1      40   \n",
       "4  город Москва, Абрамцевская улица, дом 9, корпус 1      50   \n",
       "\n",
       "             street_name  \n",
       "0  улица Егора Абакумова  \n",
       "1       улица Талалихина  \n",
       "2   Абельмановская улица  \n",
       "3     Абрамцевская улица  \n",
       "4     Абрамцевская улица  "
      ]
     },
     "execution_count": 16,
     "metadata": {},
     "output_type": "execute_result"
    }
   ],
   "source": [
    "#типы улиц\n",
    "street_category = ['улица',  'аллея', 'линия', 'квартал', 'мост', 'шоссе', \n",
    "'проезд', 'набережная', 'площадь', 'бульвар', 'проспект', 'переулок',\n",
    "'тупик', 'просека', 'микрорайон', 'поселение']\n",
    "\n",
    "def street_function(address):\n",
    "    \"\"\"\n",
    "    Функция вытаскивает из адреса улицу\n",
    "    \"\"\"\n",
    "    for address_part in address.split(', '):\n",
    "        for street in street_category:\n",
    "            if address_part.lower().find(street)!= -1:\n",
    "                return address_part\n",
    "\n",
    "#Добавляем столбец с данными\n",
    "rest_data['street_name'] = rest_data['address'].apply(street_function)\n",
    "print('{} строк у которых нет в адресе название улицы'.format(rest_data[rest_data['street_name'].isnull() == True]['address'].count()))\n",
    "rest_data.head(5)"
   ]
  },
  {
   "cell_type": "markdown",
   "metadata": {},
   "source": [
    "После выделения улиц из адреса, у нас осталось 196 строк, в которых не указана улица ЯВНО, это поселки и другие загородные адреса."
   ]
  },
  {
   "cell_type": "markdown",
   "metadata": {},
   "source": [
    "<a id='part_2.7'></a>\n",
    "**Построим график топ-10 улиц по количеству объектов общественного питания. Воспользуемся внешней информацией и ответим на вопрос — в каких районах Москвы находятся эти улицы?**  \n",
    "[*Назад к оглавлению*](#content)"
   ]
  },
  {
   "cell_type": "code",
   "execution_count": 17,
   "metadata": {},
   "outputs": [
    {
     "data": {
      "text/html": [
       "<div>\n",
       "<style scoped>\n",
       "    .dataframe tbody tr th:only-of-type {\n",
       "        vertical-align: middle;\n",
       "    }\n",
       "\n",
       "    .dataframe tbody tr th {\n",
       "        vertical-align: top;\n",
       "    }\n",
       "\n",
       "    .dataframe thead th {\n",
       "        text-align: right;\n",
       "    }\n",
       "</style>\n",
       "<table border=\"1\" class=\"dataframe\">\n",
       "  <thead>\n",
       "    <tr style=\"text-align: right;\">\n",
       "      <th></th>\n",
       "      <th>address</th>\n",
       "      <th>adm_district</th>\n",
       "      <th>city_district</th>\n",
       "      <th>lattitude</th>\n",
       "      <th>longitude</th>\n",
       "      <th>street_name</th>\n",
       "    </tr>\n",
       "  </thead>\n",
       "  <tbody>\n",
       "    <tr>\n",
       "      <td>0</td>\n",
       "      <td>город Москва, улица Егора Абакумова, дом 9</td>\n",
       "      <td>Северо-восточный</td>\n",
       "      <td>Ярославский</td>\n",
       "      <td>55.878996</td>\n",
       "      <td>37.714462</td>\n",
       "      <td>улица Егора Абакумова</td>\n",
       "    </tr>\n",
       "    <tr>\n",
       "      <td>1</td>\n",
       "      <td>город Москва, улица Талалихина, дом 2/1, корпус 1</td>\n",
       "      <td>Центральный</td>\n",
       "      <td>Таганский</td>\n",
       "      <td>55.738298</td>\n",
       "      <td>37.673337</td>\n",
       "      <td>улица Талалихина</td>\n",
       "    </tr>\n",
       "    <tr>\n",
       "      <td>2</td>\n",
       "      <td>город Москва, Абельмановская улица, дом 6</td>\n",
       "      <td>Центральный</td>\n",
       "      <td>Таганский</td>\n",
       "      <td>55.735528</td>\n",
       "      <td>37.669516</td>\n",
       "      <td>Абельмановская улица</td>\n",
       "    </tr>\n",
       "    <tr>\n",
       "      <td>3</td>\n",
       "      <td>город Москва, Абрамцевская улица, дом 1</td>\n",
       "      <td>Северо-восточный</td>\n",
       "      <td>Лианозово</td>\n",
       "      <td>55.892653</td>\n",
       "      <td>37.573036</td>\n",
       "      <td>Абрамцевская улица</td>\n",
       "    </tr>\n",
       "    <tr>\n",
       "      <td>4</td>\n",
       "      <td>город Москва, Абрамцевская улица, дом 9, корпус 1</td>\n",
       "      <td>Северо-восточный</td>\n",
       "      <td>Лианозово</td>\n",
       "      <td>55.904126</td>\n",
       "      <td>37.572181</td>\n",
       "      <td>Абрамцевская улица</td>\n",
       "    </tr>\n",
       "  </tbody>\n",
       "</table>\n",
       "</div>"
      ],
      "text/plain": [
       "                                             address      adm_district  \\\n",
       "0         город Москва, улица Егора Абакумова, дом 9  Северо-восточный   \n",
       "1  город Москва, улица Талалихина, дом 2/1, корпус 1       Центральный   \n",
       "2          город Москва, Абельмановская улица, дом 6       Центральный   \n",
       "3            город Москва, Абрамцевская улица, дом 1  Северо-восточный   \n",
       "4  город Москва, Абрамцевская улица, дом 9, корпус 1  Северо-восточный   \n",
       "\n",
       "  city_district  lattitude  longitude            street_name  \n",
       "0   Ярославский  55.878996  37.714462  улица Егора Абакумова  \n",
       "1     Таганский  55.738298  37.673337       улица Талалихина  \n",
       "2     Таганский  55.735528  37.669516   Абельмановская улица  \n",
       "3     Лианозово  55.892653  37.573036     Абрамцевская улица  \n",
       "4     Лианозово  55.904126  37.572181     Абрамцевская улица  "
      ]
     },
     "execution_count": 17,
     "metadata": {},
     "output_type": "execute_result"
    }
   ],
   "source": [
    "#Данные взяты из открытого источника https://hubofdata.ru/\n",
    "spreadsheet_id = '1BpK6PNPYxE6K42_0dmI1UDJLbSwFC3Ta66J_ncR-wL4'\n",
    "file_name = 'https://docs.google.com/spreadsheets/d/{}/export?format=csv'.format(spreadsheet_id)\n",
    "r = requests.get(file_name)\n",
    "district = pd.read_csv(BytesIO(r.content))\n",
    "district['street_name'] = district['address'].apply(street_function)\n",
    "district.head(5)"
   ]
  },
  {
   "cell_type": "code",
   "execution_count": 18,
   "metadata": {
    "scrolled": false
   },
   "outputs": [
    {
     "name": "stdout",
     "output_type": "stream",
     "text": [
      "\n",
      "Топ-10 улиц с наибольшим количеством заведений:\n"
     ]
    },
    {
     "data": {
      "text/html": [
       "<div>\n",
       "<style scoped>\n",
       "    .dataframe tbody tr th:only-of-type {\n",
       "        vertical-align: middle;\n",
       "    }\n",
       "\n",
       "    .dataframe tbody tr th {\n",
       "        vertical-align: top;\n",
       "    }\n",
       "\n",
       "    .dataframe thead th {\n",
       "        text-align: right;\n",
       "    }\n",
       "</style>\n",
       "<table border=\"1\" class=\"dataframe\">\n",
       "  <thead>\n",
       "    <tr style=\"text-align: right;\">\n",
       "      <th></th>\n",
       "      <th>street_name</th>\n",
       "      <th>objects</th>\n",
       "    </tr>\n",
       "  </thead>\n",
       "  <tbody>\n",
       "    <tr>\n",
       "      <td>1424</td>\n",
       "      <td>проспект Мира</td>\n",
       "      <td>204</td>\n",
       "    </tr>\n",
       "    <tr>\n",
       "      <td>1001</td>\n",
       "      <td>Профсоюзная улица</td>\n",
       "      <td>183</td>\n",
       "    </tr>\n",
       "    <tr>\n",
       "      <td>678</td>\n",
       "      <td>Ленинградский проспект</td>\n",
       "      <td>173</td>\n",
       "    </tr>\n",
       "    <tr>\n",
       "      <td>984</td>\n",
       "      <td>Пресненская набережная</td>\n",
       "      <td>167</td>\n",
       "    </tr>\n",
       "    <tr>\n",
       "      <td>395</td>\n",
       "      <td>Варшавское шоссе</td>\n",
       "      <td>164</td>\n",
       "    </tr>\n",
       "    <tr>\n",
       "      <td>681</td>\n",
       "      <td>Ленинский проспект</td>\n",
       "      <td>148</td>\n",
       "    </tr>\n",
       "    <tr>\n",
       "      <td>1390</td>\n",
       "      <td>поселение Сосенское</td>\n",
       "      <td>139</td>\n",
       "    </tr>\n",
       "    <tr>\n",
       "      <td>1420</td>\n",
       "      <td>проспект Вернадского</td>\n",
       "      <td>132</td>\n",
       "    </tr>\n",
       "    <tr>\n",
       "      <td>669</td>\n",
       "      <td>Кутузовский проспект</td>\n",
       "      <td>114</td>\n",
       "    </tr>\n",
       "    <tr>\n",
       "      <td>593</td>\n",
       "      <td>Каширское шоссе</td>\n",
       "      <td>112</td>\n",
       "    </tr>\n",
       "  </tbody>\n",
       "</table>\n",
       "</div>"
      ],
      "text/plain": [
       "                 street_name  objects\n",
       "1424           проспект Мира      204\n",
       "1001       Профсоюзная улица      183\n",
       "678   Ленинградский проспект      173\n",
       "984   Пресненская набережная      167\n",
       "395         Варшавское шоссе      164\n",
       "681       Ленинский проспект      148\n",
       "1390     поселение Сосенское      139\n",
       "1420    проспект Вернадского      132\n",
       "669     Кутузовский проспект      114\n",
       "593          Каширское шоссе      112"
      ]
     },
     "metadata": {},
     "output_type": "display_data"
    },
    {
     "data": {
      "image/png": "[encoded data removed]",
      "text/plain": [
       "<Figure size 792x360 with 1 Axes>"
      ]
     },
     "metadata": {
      "needs_background": "light"
     },
     "output_type": "display_data"
    }
   ],
   "source": [
    "rest_data_str = rest_data[rest_data['street_name'].isnull() == False]\n",
    "\n",
    "#сгруппируем по типу, посчитаем количество по идентификатору объекта и сделаем сортировку\n",
    "top_streets = (rest_data_str\n",
    "                .groupby('street_name', as_index=False)\n",
    "                .agg({'id':'count'})\n",
    "                .sort_values(by='id', ascending=False).head(10)\n",
    "               )\n",
    "top_streets.columns = ['street_name', 'objects']\n",
    "print()\n",
    "print('Топ-10 улиц с наибольшим количеством заведений:')\n",
    "display(top_streets)\n",
    "#построим столбчатую диаграмму\n",
    "top_streets.plot(kind='bar', x='street_name', color='#4a646c', figsize=(11,5), legend=False)\n",
    "plt.xlabel('Тип объекта')\n",
    "plt.ylabel('Количество объектов')\n",
    "plt.title('Соотношение видов объектов общественного питания по количеству')\n",
    "plt.xticks(rotation=45)\n",
    "plt.show()"
   ]
  },
  {
   "cell_type": "code",
   "execution_count": 19,
   "metadata": {
    "scrolled": false
   },
   "outputs": [
    {
     "name": "stdout",
     "output_type": "stream",
     "text": [
      "\n",
      "проспект Мира\n",
      "['Алексеевский' 'Мещанский' 'Останкинский' 'Ростокино' 'Свиблово'\n",
      " 'Ярославский']\n",
      "\n",
      "Профсоюзная улица\n",
      "['Академический' 'Коньково' 'Обручевский' 'Теплый Стан' 'Черемушки'\n",
      " 'Ясенево']\n",
      "\n",
      "Ленинградский проспект\n",
      "['Аэропорт' 'Беговой' 'Сокол' 'Хорошевский']\n",
      "\n",
      "Пресненская набережная\n",
      "['Пресненский']\n",
      "\n",
      "Варшавское шоссе\n",
      "['Донской' 'Нагатино-Садовники' 'Нагорный' 'Новомосковский'\n",
      " 'Чертаново Северное' 'Чертаново Центральное' 'Чертаново Южное'\n",
      " 'Южное Бутово']\n",
      "\n",
      "Ленинский проспект\n",
      "['Гагаринский' 'Донской' 'Ломоносовский' 'Обручевский'\n",
      " 'Проспект Вернадского' 'Теплый Стан' 'Тропарево-Никулино' 'Якиманка']\n",
      "\n",
      "поселение Сосенское\n",
      "['Новомосковский']\n",
      "\n",
      "проспект Вернадского\n",
      "['Гагаринский' 'Ломоносовский' 'Новомосковский' 'Проспект Вернадского'\n",
      " 'Раменки' 'Тропарево-Никулино']\n",
      "\n",
      "Кутузовский проспект\n",
      "['Дорогомилово' 'Фили-Давыдково']\n",
      "\n",
      "Каширское шоссе\n",
      "['Москворечье-Сабурово' 'Нагатино-Садовники' 'Нагатинский Затон'\n",
      " 'Орехово-Борисово Северное' 'Орехово-Борисово Южное']\n"
     ]
    }
   ],
   "source": [
    "top_streets_merged = top_streets.merge(district[['street_name', 'city_district', 'adm_district']], left_on='street_name', right_on='street_name')\n",
    "streets = pd.DataFrame(data=top_streets_merged['street_name'].unique(), columns=['street_name'])\n",
    "\n",
    "def areas(row, data):\n",
    "    result = data[data['street_name']==row['street_name']]['city_district'].to_list()\n",
    "    return result\n",
    "\n",
    "top_streets['areas'] = top_streets.apply(areas, args=[top_streets_merged], axis=1)\n",
    "\n",
    "for index in range(10):\n",
    "    print()\n",
    "    print(top_streets.iloc[index, 0])\n",
    "    print(np.unique(top_streets.iloc[index, 2]))\n"
   ]
  },
  {
   "cell_type": "markdown",
   "metadata": {},
   "source": [
    "<a id='part_2.8'></a>\n",
    "**Найдем число улиц с одним объектом общественного питания. Воспользуемся внешней информацией и ответим на вопрос — в каких районах Москвы находятся эти улицы.**  \n",
    "[*Назад к оглавлению*](#content)"
   ]
  },
  {
   "cell_type": "code",
   "execution_count": 20,
   "metadata": {
    "scrolled": true
   },
   "outputs": [
    {
     "name": "stdout",
     "output_type": "stream",
     "text": [
      "Всего улиц с 1 объектом общественного питания: 534\n",
      "Районы, в которых находятся ,больше всего улиц с 1 объектом общественного питания:\n"
     ]
    },
    {
     "data": {
      "text/plain": [
       "Таганский         28\n",
       "Хамовники         26\n",
       "Басманный         22\n",
       "Пресненский       20\n",
       "Тверской          20\n",
       "Марьина роща      17\n",
       "Лефортово         12\n",
       "Соколиная Гора    12\n",
       "Замоскворечье     12\n",
       "Мещанский         12\n",
       "Name: city_district, dtype: int64"
      ]
     },
     "execution_count": 20,
     "metadata": {},
     "output_type": "execute_result"
    }
   ],
   "source": [
    "groupby_streets = rest_data_str.groupby('street_name', as_index=False).agg({'object_name':'count'})\n",
    "streets_with_one_object = groupby_streets[groupby_streets['object_name']==1]\n",
    "print('Всего улиц с 1 объектом общественного питания:', streets_with_one_object['object_name'].sum())\n",
    "\n",
    "streets_with_one_object_merged = streets_with_one_object.merge(district[['street_name', 'city_district']], left_on='street_name', right_on='street_name')\n",
    "print('Районы, в которых находятся ,больше всего улиц с 1 объектом общественного питания:')\n",
    "streets_with_one_object_merged['city_district'].value_counts().head(10)"
   ]
  },
  {
   "cell_type": "markdown",
   "metadata": {},
   "source": [
    "<a id='part_2.9'></a>\n",
    "**Посмотрим на распределение количества посадочных мест для улиц с большим количеством объектов общественного питания. Подумаем, какие закономерности можно выявить.**  \n",
    "[*Назад к оглавлению*](#content)"
   ]
  },
  {
   "cell_type": "code",
   "execution_count": 21,
   "metadata": {
    "scrolled": false
   },
   "outputs": [
    {
     "data": {
      "image/png": "[encoded data removed]",
      "text/plain": [
       "<Figure size 864x576 with 1 Axes>"
      ]
     },
     "metadata": {
      "needs_background": "light"
     },
     "output_type": "display_data"
    },
    {
     "name": "stdout",
     "output_type": "stream",
     "text": [
      "Среднее кол-во посадочных мест в заведениях на топ-10 улицах по количеству объектов: 32.0\n",
      "Среднее кол-во посадочных мест в заведениях НЕ на топ-10 улицах по количеству объектов: 40.0\n"
     ]
    }
   ],
   "source": [
    "top_streets_list = top_streets['street_name'].to_list()\n",
    "top_streets_rest_data = rest_data.query('street_name in @top_streets_list')\n",
    "not_top_streets_rest_data = rest_data.query('street_name not in @top_streets_list')\n",
    "\n",
    "\n",
    "plt.figure(figsize=(12,8))\n",
    "sns.boxplot(x='street_name', y='number', data=top_streets_rest_data, color='#4a646c', orient='v').set_ylim(-10,300)\n",
    "plt.title('Распределение количества посадочных мест для топ-10 улиц по кол-ву объектов')\n",
    "plt.xlabel('')\n",
    "plt.ylabel('Количество посадочных мест')\n",
    "plt.xticks(rotation=45)\n",
    "plt.show()\n",
    "\n",
    "print('Среднее кол-во посадочных мест в заведениях на топ-10 улицах по количеству объектов:', top_streets_rest_data['number'].describe()[5])\n",
    "print('Среднее кол-во посадочных мест в заведениях НЕ на топ-10 улицах по количеству объектов:', not_top_streets_rest_data['number'].describe()[5])"
   ]
  },
  {
   "cell_type": "markdown",
   "metadata": {},
   "source": [
    "<a id='part_3'></a>\n",
    "## Вывод\n",
    "[*Назад к оглавлению*](#content)"
   ]
  },
  {
   "cell_type": "markdown",
   "metadata": {},
   "source": [
    "Таблица rest_data содержит информацию о заведениях общественного питания Москвы. Так же понадобились данные по улицам Москвы с указанием района, данный взяты из открытого источника https://hubofdata.ru/\n",
    "\n",
    "id — идентификатор объекта;\n",
    "object_name — название объекта общественного питания;\n",
    "chain — сетевой ресторан;\n",
    "object_type — тип объекта общественного питания;\n",
    "address — адрес;\n",
    "number — количество посадочных мест.\n",
    "Файл содержит данные по 15366 заведениям из которых описывается по 6 столбцам. Переименовали длиные названия типов короткие. Дубликатов и пропущенных значений нет. Проверка показала, что данные на первый взгляд корректны. Замечаний к ним нет. Можно приступать к анализу данных.\n",
    "\n",
    "Проанализировав данные, выяснили, что наибольшее количество типов объектов общественного питания составляют кафе 39,7%, далее идут столовые 16,8%, рестораны 14,9%, фаст-фуд 12,5%.\n",
    "\n",
    "Так же сетевых заведений 19,3% от общего количества, остальные - несетевые.\n",
    "Сетевое распространение характерно для предприятий быстрого обслуживания (41% заведений данного типа). В меньше мере оно характерно для магазинов (29% заведений), ресторанов (24% заведений) и кафе (23% заведений). Как правило для сетевых заведений характерно - мало заведений с большим количеством посадочных мест. В 90% сетей не больше 130 посадочных мест и 6 заведений в среднем.\n",
    "\n",
    "В среднем у типов объекта СТОЛОВАЯ наибольшее количество посадочных мест - в среднем 103.\n",
    "Топ-5 типов объектов по количеству посадочных мест:  \n",
    "130 места - столовая  \n",
    "96 мест - ресторан  \n",
    "51 места - буфет  \n",
    "43 мест - бар  \n",
    "39 мест - кафе  \n",
    "\n",
    "5-ка районов, в которых находятся ,больше всего улиц с 1 объектом общественного питания:\n",
    "Таганский, улиц 28  \n",
    "Хамовники, улиц 26  \n",
    "Басманный, улиц 22  \n",
    "Тверской, улиц 20  \n",
    "Пресненский, улиц 20  \n",
    "\n",
    "***Топ-10 улиц с наибольшим количеством заведений:***\n",
    "проспект Мира, Профсоюзная улица, Ленинградский проспект, Пресненская набережная, Варшавское шоссе, Ленинский проспект, поселение Сосенское, проспект Вернадского, Кутузовский проспект, Каширское шоссе\t\n",
    "\n",
    "Так же у нас есть список районов, в которых располагаются топ-10 улиц по кол-ву объектов общественного питания. Всего улиц с одним объектом общественного питания 534.\n",
    "\n",
    "Среднее кол-во посадочных мест в заведениях на топ-10 улицах по количеству объектов: 32 Среднее кол-во посадочных мест в заведениях НЕ на топ-10 улицах по количеству объектов: 40. Разницы между количествами посадочных мест НЕТ."
   ]
  },
  {
   "cell_type": "markdown",
   "metadata": {},
   "source": [
    "<a id='part_4'></a>\n",
    "## Рекомендации\n",
    "[*Назад к оглавлению*](#content)"
   ]
  },
  {
   "cell_type": "markdown",
   "metadata": {},
   "source": [
    "Сложно дать какие-то рекомендации без обратной связи и бОльшей информации от инвесторов и учредителей. Можно отталкиваться от того, что на рынке более популярны кафе (предполагаем, что раз их больше, то они более популярны, но не факт), потому именно такой тип заведения и рекомендовать со средним количеством посадочных мест на 30 персон. Касаемо района и улиц, то предполагаем что объект лучше размещать на одной из топ-10 улиц, ведь не спроста на этих улицах наибольшее количество объектов. Но эта логика тоже не совсем точна, так как все-таки самое важное - это проходимость объекта, преобладающая каста людей в радиусе в зависимости от портрета клиента. \n",
    "\n",
    "Нужно обратить внимание на перспективные районы с малым количеством заведений на текущий момент. Желательно учитывать по текущим объектам расстояния до метро, какое метро, средние чеки в заведениях. Так же желательно выделить наиболее интересные здания для размещения заведений - высотки, исторические здания, топовые отели и гостиницы. Плюс желательно подумать об иностранных туристах заранее, ведь можно примерно сказать, где они проводят большую часть времени в Москве.  \n",
    "Необходимо понимать, что с выбором места размещения объекта есть множество нюансов, например, если инвесторы всё-таки склонятся к меньшим затратам и более быстрой окупаемости, то возможно выберут тип объекта - столовую с не столь большими вложениями, оформленную необычным способом. В таком случае необходимо будет проводить анализ по расположению бизнес центров, учебных заведений и других крупных объектов с большим количеством людей, готовых заходить в наше потенциальное заведение на бизнес-ланчи. Плюс, выбирая улицы с наибольшим количеством объектов для потенциального размещения заведения, можно не учесть новые перспективные районы.\n",
    "\n",
    "Наше исследование получилось очень поверхностным. Если бы мы использовали api яндекс геокодера, то смогли бы расположить все заведения на карте и общая картина была бы видна лучше)"
   ]
  }
 ],
 "metadata": {
  "ExecuteTimeLog": [
   {
    "duration": 798,
    "start_time": "2021-10-31T17:07:42.763Z"
   },
   {
    "duration": 721,
    "start_time": "2021-10-31T17:08:13.387Z"
   },
   {
    "duration": 80,
    "start_time": "2021-10-31T17:09:48.934Z"
   },
   {
    "duration": 15,
    "start_time": "2021-10-31T17:10:39.949Z"
   },
   {
    "duration": 1719,
    "start_time": "2021-10-31T18:02:24.500Z"
   },
   {
    "duration": 81,
    "start_time": "2021-10-31T18:02:26.222Z"
   },
   {
    "duration": 14,
    "start_time": "2021-10-31T18:02:26.307Z"
   },
   {
    "duration": 101,
    "start_time": "2021-10-31T18:05:34.127Z"
   },
   {
    "duration": 1444,
    "start_time": "2021-10-31T18:38:06.335Z"
   },
   {
    "duration": 70,
    "start_time": "2021-10-31T18:38:07.783Z"
   },
   {
    "duration": 11,
    "start_time": "2021-10-31T18:38:07.856Z"
   },
   {
    "duration": 1136,
    "start_time": "2021-11-01T18:14:37.966Z"
   },
   {
    "duration": 52,
    "start_time": "2021-11-01T18:14:39.104Z"
   },
   {
    "duration": 7,
    "start_time": "2021-11-01T18:14:39.160Z"
   },
   {
    "duration": 19,
    "start_time": "2021-11-01T18:21:53.412Z"
   },
   {
    "duration": 16,
    "start_time": "2021-11-01T18:22:18.153Z"
   },
   {
    "duration": 4342,
    "start_time": "2021-11-01T18:23:31.501Z"
   },
   {
    "duration": 5,
    "start_time": "2021-11-01T18:23:42.407Z"
   },
   {
    "duration": 173,
    "start_time": "2021-11-01T18:24:36.765Z"
   },
   {
    "duration": 172,
    "start_time": "2021-11-01T18:24:42.386Z"
   },
   {
    "duration": 7,
    "start_time": "2021-11-01T18:25:26.018Z"
   },
   {
    "duration": 5,
    "start_time": "2021-11-01T18:27:41.468Z"
   },
   {
    "duration": 7,
    "start_time": "2021-11-01T18:35:18.001Z"
   },
   {
    "duration": 10,
    "start_time": "2021-11-01T18:35:57.479Z"
   },
   {
    "duration": 6,
    "start_time": "2021-11-01T18:59:37.826Z"
   },
   {
    "duration": 13,
    "start_time": "2021-11-01T18:59:55.056Z"
   },
   {
    "duration": 1108,
    "start_time": "2021-11-01T19:04:43.771Z"
   },
   {
    "duration": 53,
    "start_time": "2021-11-01T19:04:44.880Z"
   },
   {
    "duration": 8,
    "start_time": "2021-11-01T19:04:44.937Z"
   },
   {
    "duration": 21,
    "start_time": "2021-11-01T19:04:44.946Z"
   },
   {
    "duration": 4,
    "start_time": "2021-11-01T19:04:44.969Z"
   },
   {
    "duration": 4,
    "start_time": "2021-11-01T19:04:44.992Z"
   },
   {
    "duration": 3,
    "start_time": "2021-11-01T19:13:12.150Z"
   },
   {
    "duration": 294,
    "start_time": "2021-11-01T19:13:15.427Z"
   },
   {
    "duration": 1057,
    "start_time": "2021-11-01T19:13:26.454Z"
   },
   {
    "duration": 54,
    "start_time": "2021-11-01T19:13:27.513Z"
   },
   {
    "duration": 9,
    "start_time": "2021-11-01T19:13:27.569Z"
   },
   {
    "duration": 23,
    "start_time": "2021-11-01T19:13:27.579Z"
   },
   {
    "duration": 5,
    "start_time": "2021-11-01T19:13:27.603Z"
   },
   {
    "duration": 6,
    "start_time": "2021-11-01T19:13:27.609Z"
   },
   {
    "duration": 274,
    "start_time": "2021-11-01T19:13:27.616Z"
   },
   {
    "duration": 192,
    "start_time": "2021-11-01T19:16:04.349Z"
   },
   {
    "duration": 272,
    "start_time": "2021-11-01T19:16:25.556Z"
   },
   {
    "duration": 737,
    "start_time": "2021-11-01T19:16:34.131Z"
   },
   {
    "duration": 1328,
    "start_time": "2021-11-01T19:17:27.226Z"
   },
   {
    "duration": 54,
    "start_time": "2021-11-01T19:17:28.556Z"
   },
   {
    "duration": 8,
    "start_time": "2021-11-01T19:17:28.613Z"
   },
   {
    "duration": 17,
    "start_time": "2021-11-01T19:17:28.622Z"
   },
   {
    "duration": 5,
    "start_time": "2021-11-01T19:17:28.640Z"
   },
   {
    "duration": 6,
    "start_time": "2021-11-01T19:17:28.646Z"
   },
   {
    "duration": 764,
    "start_time": "2021-11-01T19:17:28.653Z"
   },
   {
    "duration": 274,
    "start_time": "2021-11-01T19:18:21.220Z"
   },
   {
    "duration": 393,
    "start_time": "2021-11-01T19:18:35.291Z"
   },
   {
    "duration": 1971,
    "start_time": "2021-11-02T17:47:55.905Z"
   },
   {
    "duration": 72,
    "start_time": "2021-11-02T17:47:57.879Z"
   },
   {
    "duration": 14,
    "start_time": "2021-11-02T17:47:57.955Z"
   },
   {
    "duration": 35,
    "start_time": "2021-11-02T17:47:57.972Z"
   },
   {
    "duration": 8,
    "start_time": "2021-11-02T17:47:58.010Z"
   },
   {
    "duration": 8,
    "start_time": "2021-11-02T17:47:58.021Z"
   },
   {
    "duration": 1220,
    "start_time": "2021-11-02T17:47:58.032Z"
   },
   {
    "duration": 812,
    "start_time": "2021-11-02T17:48:50.742Z"
   },
   {
    "duration": 728,
    "start_time": "2021-11-02T17:48:57.462Z"
   },
   {
    "duration": 487,
    "start_time": "2021-11-02T17:49:06.229Z"
   },
   {
    "duration": 638,
    "start_time": "2021-11-02T17:49:21.949Z"
   },
   {
    "duration": 620,
    "start_time": "2021-11-02T17:49:28.956Z"
   },
   {
    "duration": 471,
    "start_time": "2021-11-02T17:49:36.806Z"
   },
   {
    "duration": 666,
    "start_time": "2021-11-02T17:49:44.910Z"
   },
   {
    "duration": 476,
    "start_time": "2021-11-02T17:50:05.810Z"
   },
   {
    "duration": 641,
    "start_time": "2021-11-02T17:50:18.750Z"
   },
   {
    "duration": 471,
    "start_time": "2021-11-02T17:50:26.305Z"
   },
   {
    "duration": 533,
    "start_time": "2021-11-02T17:54:06.483Z"
   },
   {
    "duration": 642,
    "start_time": "2021-11-02T17:54:13.378Z"
   },
   {
    "duration": 471,
    "start_time": "2021-11-02T17:54:29.988Z"
   },
   {
    "duration": 646,
    "start_time": "2021-11-02T17:54:51.720Z"
   },
   {
    "duration": 640,
    "start_time": "2021-11-02T17:56:58.476Z"
   },
   {
    "duration": 943,
    "start_time": "2021-11-02T17:57:13.317Z"
   },
   {
    "duration": 1557,
    "start_time": "2021-11-06T12:04:36.081Z"
   },
   {
    "duration": 53,
    "start_time": "2021-11-06T12:04:37.640Z"
   },
   {
    "duration": 9,
    "start_time": "2021-11-06T12:04:37.695Z"
   },
   {
    "duration": 18,
    "start_time": "2021-11-06T12:04:37.706Z"
   },
   {
    "duration": 4,
    "start_time": "2021-11-06T12:04:37.726Z"
   },
   {
    "duration": 7,
    "start_time": "2021-11-06T12:04:37.732Z"
   },
   {
    "duration": 817,
    "start_time": "2021-11-06T12:04:37.741Z"
   },
   {
    "duration": 301,
    "start_time": "2021-11-06T12:05:30.378Z"
   },
   {
    "duration": 109,
    "start_time": "2021-11-06T12:09:21.501Z"
   },
   {
    "duration": 113,
    "start_time": "2021-11-06T12:10:02.723Z"
   },
   {
    "duration": 200,
    "start_time": "2021-11-06T12:10:15.064Z"
   },
   {
    "duration": 115,
    "start_time": "2021-11-06T12:10:27.121Z"
   },
   {
    "duration": 491,
    "start_time": "2021-11-06T12:10:34.075Z"
   },
   {
    "duration": 301,
    "start_time": "2021-11-06T12:11:26.388Z"
   },
   {
    "duration": 9288,
    "start_time": "2021-11-06T12:16:28.063Z"
   },
   {
    "duration": 452,
    "start_time": "2021-11-06T12:17:50.311Z"
   },
   {
    "duration": 424,
    "start_time": "2021-11-06T12:18:10.728Z"
   },
   {
    "duration": 321,
    "start_time": "2021-11-06T12:21:23.359Z"
   },
   {
    "duration": 472,
    "start_time": "2021-11-06T12:24:41.878Z"
   },
   {
    "duration": 303,
    "start_time": "2021-11-06T12:24:54.430Z"
   },
   {
    "duration": 456,
    "start_time": "2021-11-06T12:25:45.800Z"
   },
   {
    "duration": 383,
    "start_time": "2021-11-06T12:26:40.242Z"
   },
   {
    "duration": 460,
    "start_time": "2021-11-06T12:26:58.523Z"
   },
   {
    "duration": 351,
    "start_time": "2021-11-06T12:27:19.151Z"
   },
   {
    "duration": 300,
    "start_time": "2021-11-06T12:28:17.151Z"
   },
   {
    "duration": 459,
    "start_time": "2021-11-06T12:29:12.071Z"
   },
   {
    "duration": 294,
    "start_time": "2021-11-06T12:32:16.485Z"
   },
   {
    "duration": 427,
    "start_time": "2021-11-06T12:32:27.877Z"
   },
   {
    "duration": 294,
    "start_time": "2021-11-06T12:35:05.917Z"
   },
   {
    "duration": 432,
    "start_time": "2021-11-06T12:35:57.438Z"
   },
   {
    "duration": 428,
    "start_time": "2021-11-06T12:36:34.567Z"
   },
   {
    "duration": 295,
    "start_time": "2021-11-06T12:37:39.260Z"
   },
   {
    "duration": 443,
    "start_time": "2021-11-06T12:37:59.029Z"
   },
   {
    "duration": 244,
    "start_time": "2021-11-06T12:38:39.087Z"
   },
   {
    "duration": 423,
    "start_time": "2021-11-06T12:41:53.341Z"
   },
   {
    "duration": 371,
    "start_time": "2021-11-06T12:42:03.308Z"
   },
   {
    "duration": 295,
    "start_time": "2021-11-06T12:42:12.852Z"
   },
   {
    "duration": 404,
    "start_time": "2021-11-06T12:47:28.263Z"
   },
   {
    "duration": 476,
    "start_time": "2021-11-06T12:47:33.198Z"
   },
   {
    "duration": 454,
    "start_time": "2021-11-06T12:50:53.907Z"
   },
   {
    "duration": 285,
    "start_time": "2021-11-06T12:51:11.459Z"
   },
   {
    "duration": 426,
    "start_time": "2021-11-06T12:51:18.168Z"
   },
   {
    "duration": 303,
    "start_time": "2021-11-06T12:52:30.655Z"
   },
   {
    "duration": 290,
    "start_time": "2021-11-06T12:53:18.674Z"
   },
   {
    "duration": 488,
    "start_time": "2021-11-06T12:53:27.362Z"
   },
   {
    "duration": 1607,
    "start_time": "2021-11-06T12:54:25.235Z"
   },
   {
    "duration": 54,
    "start_time": "2021-11-06T12:54:26.844Z"
   },
   {
    "duration": 9,
    "start_time": "2021-11-06T12:54:26.900Z"
   },
   {
    "duration": 20,
    "start_time": "2021-11-06T12:54:26.911Z"
   },
   {
    "duration": 5,
    "start_time": "2021-11-06T12:54:26.932Z"
   },
   {
    "duration": 7,
    "start_time": "2021-11-06T12:54:26.939Z"
   },
   {
    "duration": 859,
    "start_time": "2021-11-06T12:54:26.947Z"
   },
   {
    "duration": 509,
    "start_time": "2021-11-06T12:59:55.931Z"
   },
   {
    "duration": 4,
    "start_time": "2021-11-06T13:00:22.282Z"
   },
   {
    "duration": 1537,
    "start_time": "2021-11-06T13:00:28.473Z"
   },
   {
    "duration": 57,
    "start_time": "2021-11-06T13:00:30.012Z"
   },
   {
    "duration": 9,
    "start_time": "2021-11-06T13:00:30.071Z"
   },
   {
    "duration": 30,
    "start_time": "2021-11-06T13:00:30.083Z"
   },
   {
    "duration": 13,
    "start_time": "2021-11-06T13:00:30.115Z"
   },
   {
    "duration": 27,
    "start_time": "2021-11-06T13:00:30.130Z"
   },
   {
    "duration": 847,
    "start_time": "2021-11-06T13:00:30.159Z"
   },
   {
    "duration": 513,
    "start_time": "2021-11-06T13:00:31.008Z"
   },
   {
    "duration": 491,
    "start_time": "2021-11-06T13:01:00.707Z"
   },
   {
    "duration": 479,
    "start_time": "2021-11-06T13:01:25.163Z"
   },
   {
    "duration": 722,
    "start_time": "2021-11-06T13:03:10.631Z"
   },
   {
    "duration": 247,
    "start_time": "2021-11-06T13:03:20.459Z"
   },
   {
    "duration": 178,
    "start_time": "2021-11-06T13:25:14.113Z"
   },
   {
    "duration": 555,
    "start_time": "2021-11-06T13:28:03.651Z"
   },
   {
    "duration": 177,
    "start_time": "2021-11-06T13:28:25.745Z"
   },
   {
    "duration": 213,
    "start_time": "2021-11-06T13:29:06.489Z"
   },
   {
    "duration": 559,
    "start_time": "2021-11-06T13:29:36.448Z"
   },
   {
    "duration": 494,
    "start_time": "2021-11-06T13:29:42.420Z"
   },
   {
    "duration": 221,
    "start_time": "2021-11-06T13:29:47.800Z"
   },
   {
    "duration": 513,
    "start_time": "2021-11-06T13:30:44.239Z"
   },
   {
    "duration": 204,
    "start_time": "2021-11-06T13:34:31.488Z"
   },
   {
    "duration": 352,
    "start_time": "2021-11-06T13:34:52.124Z"
   },
   {
    "duration": 202,
    "start_time": "2021-11-06T13:34:58.475Z"
   },
   {
    "duration": 294,
    "start_time": "2021-11-06T13:35:03.737Z"
   },
   {
    "duration": 219,
    "start_time": "2021-11-06T13:35:10.497Z"
   },
   {
    "duration": 214,
    "start_time": "2021-11-06T13:35:17.528Z"
   },
   {
    "duration": 216,
    "start_time": "2021-11-06T13:35:24.545Z"
   },
   {
    "duration": 227,
    "start_time": "2021-11-06T13:35:50.182Z"
   },
   {
    "duration": 1920,
    "start_time": "2021-11-06T13:38:37.854Z"
   },
   {
    "duration": 1835,
    "start_time": "2021-11-06T13:39:17.139Z"
   },
   {
    "duration": 634,
    "start_time": "2021-11-06T13:39:27.419Z"
   },
   {
    "duration": 421,
    "start_time": "2021-11-06T13:39:37.451Z"
   },
   {
    "duration": 286,
    "start_time": "2021-11-06T13:39:44.613Z"
   },
   {
    "duration": 266,
    "start_time": "2021-11-06T13:39:51.984Z"
   },
   {
    "duration": 241,
    "start_time": "2021-11-06T13:41:34.080Z"
   },
   {
    "duration": 19,
    "start_time": "2021-11-06T13:42:24.185Z"
   },
   {
    "duration": 245,
    "start_time": "2021-11-06T13:42:28.439Z"
   },
   {
    "duration": 1660,
    "start_time": "2021-11-06T13:42:36.466Z"
   },
   {
    "duration": 56,
    "start_time": "2021-11-06T13:42:38.129Z"
   },
   {
    "duration": 8,
    "start_time": "2021-11-06T13:42:38.188Z"
   },
   {
    "duration": 28,
    "start_time": "2021-11-06T13:42:38.198Z"
   },
   {
    "duration": 10,
    "start_time": "2021-11-06T13:42:38.228Z"
   },
   {
    "duration": 26,
    "start_time": "2021-11-06T13:42:38.239Z"
   },
   {
    "duration": 29,
    "start_time": "2021-11-06T13:42:38.267Z"
   },
   {
    "duration": 879,
    "start_time": "2021-11-06T13:42:38.298Z"
   },
   {
    "duration": 370,
    "start_time": "2021-11-06T13:42:39.179Z"
   },
   {
    "duration": 530,
    "start_time": "2021-11-06T13:42:39.551Z"
   },
   {
    "duration": 227,
    "start_time": "2021-11-06T13:44:23.157Z"
   },
   {
    "duration": 221,
    "start_time": "2021-11-06T13:45:37.472Z"
   },
   {
    "duration": 229,
    "start_time": "2021-11-06T13:49:06.635Z"
   },
   {
    "duration": 606,
    "start_time": "2021-11-06T13:49:34.462Z"
   },
   {
    "duration": 792,
    "start_time": "2021-11-06T13:49:41.690Z"
   },
   {
    "duration": 223,
    "start_time": "2021-11-06T13:51:07.727Z"
   },
   {
    "duration": 222,
    "start_time": "2021-11-06T13:51:43.660Z"
   },
   {
    "duration": 238,
    "start_time": "2021-11-06T13:53:21.374Z"
   },
   {
    "duration": 1605,
    "start_time": "2021-11-06T13:55:40.435Z"
   },
   {
    "duration": 70,
    "start_time": "2021-11-06T13:55:42.042Z"
   },
   {
    "duration": 10,
    "start_time": "2021-11-06T13:55:42.114Z"
   },
   {
    "duration": 29,
    "start_time": "2021-11-06T13:55:42.126Z"
   },
   {
    "duration": 5,
    "start_time": "2021-11-06T13:55:42.156Z"
   },
   {
    "duration": 4,
    "start_time": "2021-11-06T13:55:42.163Z"
   },
   {
    "duration": 25,
    "start_time": "2021-11-06T13:55:42.169Z"
   },
   {
    "duration": 2,
    "start_time": "2021-11-06T13:55:42.197Z"
   },
   {
    "duration": 261,
    "start_time": "2021-11-06T13:55:42.201Z"
   },
   {
    "duration": 504,
    "start_time": "2021-11-06T13:55:42.465Z"
   },
   {
    "duration": 1564,
    "start_time": "2021-11-06T14:00:01.538Z"
   },
   {
    "duration": 59,
    "start_time": "2021-11-06T14:00:03.104Z"
   },
   {
    "duration": 10,
    "start_time": "2021-11-06T14:00:03.166Z"
   },
   {
    "duration": 36,
    "start_time": "2021-11-06T14:00:03.178Z"
   },
   {
    "duration": 17,
    "start_time": "2021-11-06T14:00:03.216Z"
   },
   {
    "duration": 9,
    "start_time": "2021-11-06T14:00:03.235Z"
   },
   {
    "duration": 41,
    "start_time": "2021-11-06T14:00:03.246Z"
   },
   {
    "duration": 250,
    "start_time": "2021-11-06T14:00:03.289Z"
   },
   {
    "duration": 1188,
    "start_time": "2021-11-06T14:00:29.174Z"
   },
   {
    "duration": 57,
    "start_time": "2021-11-06T14:00:30.365Z"
   },
   {
    "duration": 10,
    "start_time": "2021-11-06T14:00:30.424Z"
   },
   {
    "duration": 64,
    "start_time": "2021-11-06T14:00:30.436Z"
   },
   {
    "duration": 48,
    "start_time": "2021-11-06T14:00:30.501Z"
   },
   {
    "duration": 43,
    "start_time": "2021-11-06T14:00:30.550Z"
   },
   {
    "duration": 67,
    "start_time": "2021-11-06T14:00:30.595Z"
   },
   {
    "duration": 310,
    "start_time": "2021-11-06T14:00:30.664Z"
   },
   {
    "duration": 226,
    "start_time": "2021-11-06T14:01:34.761Z"
   },
   {
    "duration": 244,
    "start_time": "2021-11-06T14:02:04.561Z"
   },
   {
    "duration": 234,
    "start_time": "2021-11-06T14:02:16.238Z"
   },
   {
    "duration": 244,
    "start_time": "2021-11-06T14:02:27.465Z"
   },
   {
    "duration": 230,
    "start_time": "2021-11-06T14:02:40.625Z"
   },
   {
    "duration": 119,
    "start_time": "2021-11-06T14:09:11.015Z"
   },
   {
    "duration": 621,
    "start_time": "2021-11-06T14:10:54.922Z"
   },
   {
    "duration": 530,
    "start_time": "2021-11-06T14:11:01.236Z"
   },
   {
    "duration": 508,
    "start_time": "2021-11-06T14:11:42.492Z"
   },
   {
    "duration": 61,
    "start_time": "2021-11-06T14:14:04.702Z"
   },
   {
    "duration": 59,
    "start_time": "2021-11-06T14:14:26.055Z"
   },
   {
    "duration": 58,
    "start_time": "2021-11-06T14:14:38.349Z"
   },
   {
    "duration": 63,
    "start_time": "2021-11-06T14:14:55.401Z"
   },
   {
    "duration": 59,
    "start_time": "2021-11-06T14:15:06.935Z"
   },
   {
    "duration": 59,
    "start_time": "2021-11-06T14:15:32.522Z"
   },
   {
    "duration": 63,
    "start_time": "2021-11-06T14:15:37.273Z"
   },
   {
    "duration": 374,
    "start_time": "2021-11-06T14:16:06.282Z"
   },
   {
    "duration": 498,
    "start_time": "2021-11-06T14:16:18.374Z"
   },
   {
    "duration": 116,
    "start_time": "2021-11-06T14:16:30.694Z"
   },
   {
    "duration": 496,
    "start_time": "2021-11-06T14:16:36.098Z"
   },
   {
    "duration": 59,
    "start_time": "2021-11-06T14:16:48.055Z"
   },
   {
    "duration": 58,
    "start_time": "2021-11-06T14:20:58.109Z"
   },
   {
    "duration": 175,
    "start_time": "2021-11-06T14:21:26.451Z"
   },
   {
    "duration": 68,
    "start_time": "2021-11-06T14:21:32.411Z"
   },
   {
    "duration": 142,
    "start_time": "2021-11-06T14:27:33.972Z"
   },
   {
    "duration": 66,
    "start_time": "2021-11-06T14:28:23.929Z"
   },
   {
    "duration": 64,
    "start_time": "2021-11-06T14:28:32.896Z"
   },
   {
    "duration": 1274,
    "start_time": "2021-11-07T11:59:55.200Z"
   },
   {
    "duration": 56,
    "start_time": "2021-11-07T11:59:56.475Z"
   },
   {
    "duration": 8,
    "start_time": "2021-11-07T11:59:56.533Z"
   },
   {
    "duration": 23,
    "start_time": "2021-11-07T11:59:56.543Z"
   },
   {
    "duration": 5,
    "start_time": "2021-11-07T11:59:56.568Z"
   },
   {
    "duration": 6,
    "start_time": "2021-11-07T11:59:56.574Z"
   },
   {
    "duration": 43,
    "start_time": "2021-11-07T11:59:56.581Z"
   },
   {
    "duration": 243,
    "start_time": "2021-11-07T11:59:56.626Z"
   },
   {
    "duration": 72,
    "start_time": "2021-11-07T11:59:56.871Z"
   },
   {
    "duration": 66,
    "start_time": "2021-11-07T12:00:02.941Z"
   },
   {
    "duration": 70,
    "start_time": "2021-11-07T12:00:08.151Z"
   },
   {
    "duration": 66,
    "start_time": "2021-11-07T12:00:50.358Z"
   },
   {
    "duration": 70,
    "start_time": "2021-11-07T12:00:56.780Z"
   },
   {
    "duration": 66,
    "start_time": "2021-11-07T12:01:05.800Z"
   },
   {
    "duration": 124,
    "start_time": "2021-11-07T12:01:09.772Z"
   },
   {
    "duration": 70,
    "start_time": "2021-11-07T12:01:35.957Z"
   },
   {
    "duration": 426,
    "start_time": "2021-11-07T12:05:47.723Z"
   },
   {
    "duration": 468,
    "start_time": "2021-11-07T12:05:58.732Z"
   },
   {
    "duration": 402,
    "start_time": "2021-11-07T12:08:30.294Z"
   },
   {
    "duration": 326,
    "start_time": "2021-11-07T12:09:21.607Z"
   },
   {
    "duration": 14,
    "start_time": "2021-11-07T12:09:30.825Z"
   },
   {
    "duration": 341,
    "start_time": "2021-11-07T12:10:43.710Z"
   },
   {
    "duration": 9,
    "start_time": "2021-11-07T12:11:32.561Z"
   },
   {
    "duration": 8,
    "start_time": "2021-11-07T12:11:45.428Z"
   },
   {
    "duration": 10,
    "start_time": "2021-11-07T12:21:18.610Z"
   },
   {
    "duration": 86,
    "start_time": "2021-11-07T12:34:30.803Z"
   },
   {
    "duration": 68,
    "start_time": "2021-11-07T12:35:10.878Z"
   },
   {
    "duration": 396,
    "start_time": "2021-11-07T12:36:45.024Z"
   },
   {
    "duration": 367,
    "start_time": "2021-11-07T12:43:32.063Z"
   },
   {
    "duration": 18,
    "start_time": "2021-11-07T12:43:50.437Z"
   },
   {
    "duration": 25,
    "start_time": "2021-11-07T12:44:08.995Z"
   },
   {
    "duration": 30,
    "start_time": "2021-11-07T12:46:04.122Z"
   },
   {
    "duration": 8790,
    "start_time": "2021-11-07T12:46:53.311Z"
   },
   {
    "duration": 25,
    "start_time": "2021-11-07T12:57:37.413Z"
   },
   {
    "duration": 26,
    "start_time": "2021-11-07T13:01:14.725Z"
   },
   {
    "duration": 26,
    "start_time": "2021-11-07T13:03:15.888Z"
   },
   {
    "duration": 21,
    "start_time": "2021-11-07T13:06:59.343Z"
   },
   {
    "duration": 23,
    "start_time": "2021-11-07T13:07:52.923Z"
   },
   {
    "duration": 403,
    "start_time": "2021-11-07T13:08:54.300Z"
   },
   {
    "duration": 21,
    "start_time": "2021-11-07T13:09:02.426Z"
   },
   {
    "duration": 253,
    "start_time": "2021-11-07T13:11:13.761Z"
   },
   {
    "duration": 407,
    "start_time": "2021-11-07T13:12:51.679Z"
   },
   {
    "duration": 279,
    "start_time": "2021-11-07T13:13:12.956Z"
   },
   {
    "duration": 20,
    "start_time": "2021-11-07T13:13:54.746Z"
   },
   {
    "duration": 8790,
    "start_time": "2021-11-07T13:32:49.485Z"
   },
   {
    "duration": 10903,
    "start_time": "2021-11-07T13:35:00.588Z"
   },
   {
    "duration": 7,
    "start_time": "2021-11-07T13:35:49.061Z"
   },
   {
    "duration": 25,
    "start_time": "2021-11-07T13:36:11.794Z"
   },
   {
    "duration": 8,
    "start_time": "2021-11-07T13:36:17.551Z"
   },
   {
    "duration": 27,
    "start_time": "2021-11-07T13:36:34.293Z"
   },
   {
    "duration": 209,
    "start_time": "2021-11-07T13:37:09.162Z"
   },
   {
    "duration": 211,
    "start_time": "2021-11-07T13:37:14.527Z"
   },
   {
    "duration": 32864,
    "start_time": "2021-11-07T13:40:26.362Z"
   },
   {
    "duration": 227,
    "start_time": "2021-11-07T13:44:37.498Z"
   },
   {
    "duration": 1166,
    "start_time": "2021-11-07T13:46:58.713Z"
   },
   {
    "duration": 235,
    "start_time": "2021-11-07T13:47:27.416Z"
   },
   {
    "duration": 209,
    "start_time": "2021-11-07T13:51:20.121Z"
   },
   {
    "duration": 589,
    "start_time": "2021-11-07T13:52:40.771Z"
   },
   {
    "duration": 125,
    "start_time": "2021-11-07T13:52:48.226Z"
   },
   {
    "duration": 214,
    "start_time": "2021-11-07T13:52:56.089Z"
   },
   {
    "duration": 240,
    "start_time": "2021-11-07T13:53:40.547Z"
   },
   {
    "duration": 197,
    "start_time": "2021-11-07T13:53:47.253Z"
   },
   {
    "duration": 215,
    "start_time": "2021-11-07T13:53:53.323Z"
   },
   {
    "duration": 209,
    "start_time": "2021-11-07T13:54:32.363Z"
   },
   {
    "duration": 211,
    "start_time": "2021-11-07T13:54:45.553Z"
   },
   {
    "duration": 204,
    "start_time": "2021-11-07T13:55:24.940Z"
   },
   {
    "duration": 326,
    "start_time": "2021-11-07T13:55:46.415Z"
   },
   {
    "duration": 597,
    "start_time": "2021-11-07T13:56:07.671Z"
   },
   {
    "duration": 628,
    "start_time": "2021-11-07T13:56:19.242Z"
   },
   {
    "duration": 234,
    "start_time": "2021-11-07T13:56:33.741Z"
   },
   {
    "duration": 256,
    "start_time": "2021-11-07T13:57:07.275Z"
   },
   {
    "duration": 261,
    "start_time": "2021-11-07T13:57:19.183Z"
   },
   {
    "duration": 335,
    "start_time": "2021-11-07T14:00:27.523Z"
   },
   {
    "duration": 268,
    "start_time": "2021-11-07T14:00:54.096Z"
   },
   {
    "duration": 280,
    "start_time": "2021-11-07T14:01:08.698Z"
   },
   {
    "duration": 274,
    "start_time": "2021-11-07T14:01:32.183Z"
   },
   {
    "duration": 238,
    "start_time": "2021-11-07T14:07:45.772Z"
   },
   {
    "duration": 313,
    "start_time": "2021-11-07T14:08:25.685Z"
   },
   {
    "duration": 125,
    "start_time": "2021-11-07T14:12:51.825Z"
   },
   {
    "duration": 126,
    "start_time": "2021-11-07T14:13:10.660Z"
   },
   {
    "duration": 591,
    "start_time": "2021-11-07T14:13:19.574Z"
   },
   {
    "duration": 131,
    "start_time": "2021-11-07T14:13:26.489Z"
   },
   {
    "duration": 126,
    "start_time": "2021-11-07T14:13:37.288Z"
   },
   {
    "duration": 11,
    "start_time": "2021-11-07T14:14:12.701Z"
   },
   {
    "duration": 466,
    "start_time": "2021-11-07T14:14:44.567Z"
   },
   {
    "duration": 456,
    "start_time": "2021-11-07T14:15:12.876Z"
   },
   {
    "duration": 125,
    "start_time": "2021-11-07T14:16:19.060Z"
   },
   {
    "duration": 129,
    "start_time": "2021-11-07T14:16:23.622Z"
   },
   {
    "duration": 137,
    "start_time": "2021-11-07T14:16:29.634Z"
   },
   {
    "duration": 135,
    "start_time": "2021-11-07T14:16:51.027Z"
   },
   {
    "duration": 126,
    "start_time": "2021-11-07T14:16:55.865Z"
   },
   {
    "duration": 209,
    "start_time": "2021-11-07T14:17:10.050Z"
   },
   {
    "duration": 128,
    "start_time": "2021-11-07T14:17:14.936Z"
   },
   {
    "duration": 129,
    "start_time": "2021-11-07T14:17:26.830Z"
   },
   {
    "duration": 133,
    "start_time": "2021-11-07T14:18:29.993Z"
   },
   {
    "duration": 379,
    "start_time": "2021-11-07T16:06:07.618Z"
   },
   {
    "duration": 287,
    "start_time": "2021-11-07T16:07:12.715Z"
   },
   {
    "duration": 285,
    "start_time": "2021-11-07T16:07:49.092Z"
   },
   {
    "duration": 280,
    "start_time": "2021-11-07T16:07:57.629Z"
   },
   {
    "duration": 276,
    "start_time": "2021-11-07T16:08:08.266Z"
   },
   {
    "duration": 354,
    "start_time": "2021-11-07T16:08:17.352Z"
   },
   {
    "duration": 403,
    "start_time": "2021-11-07T16:11:24.506Z"
   },
   {
    "duration": 468,
    "start_time": "2021-11-07T16:11:31.080Z"
   },
   {
    "duration": 346,
    "start_time": "2021-11-07T16:11:51.551Z"
   },
   {
    "duration": 296,
    "start_time": "2021-11-07T16:11:58.703Z"
   },
   {
    "duration": 275,
    "start_time": "2021-11-07T16:12:40.108Z"
   },
   {
    "duration": 273,
    "start_time": "2021-11-07T16:12:51.883Z"
   },
   {
    "duration": 684,
    "start_time": "2021-11-07T16:14:21.227Z"
   },
   {
    "duration": 713,
    "start_time": "2021-11-07T16:14:59.402Z"
   },
   {
    "duration": 282,
    "start_time": "2021-11-07T16:15:29.090Z"
   },
   {
    "duration": 646,
    "start_time": "2021-11-07T16:16:33.185Z"
   },
   {
    "duration": 291,
    "start_time": "2021-11-07T16:17:04.024Z"
   },
   {
    "duration": 289,
    "start_time": "2021-11-07T16:17:11.793Z"
   },
   {
    "duration": 1206,
    "start_time": "2021-11-07T16:18:10.053Z"
   },
   {
    "duration": 58,
    "start_time": "2021-11-07T16:18:11.261Z"
   },
   {
    "duration": 9,
    "start_time": "2021-11-07T16:18:11.321Z"
   },
   {
    "duration": 20,
    "start_time": "2021-11-07T16:18:11.332Z"
   },
   {
    "duration": 5,
    "start_time": "2021-11-07T16:18:11.354Z"
   },
   {
    "duration": 14,
    "start_time": "2021-11-07T16:18:11.360Z"
   },
   {
    "duration": 42,
    "start_time": "2021-11-07T16:18:11.376Z"
   },
   {
    "duration": 252,
    "start_time": "2021-11-07T16:18:11.421Z"
   },
   {
    "duration": 78,
    "start_time": "2021-11-07T16:18:11.675Z"
   },
   {
    "duration": 21,
    "start_time": "2021-11-07T16:18:11.754Z"
   },
   {
    "duration": 251,
    "start_time": "2021-11-07T16:18:11.776Z"
   },
   {
    "duration": 149,
    "start_time": "2021-11-07T16:18:12.029Z"
   },
   {
    "duration": 13,
    "start_time": "2021-11-07T16:18:12.180Z"
   },
   {
    "duration": 1419,
    "start_time": "2021-11-07T16:18:12.195Z"
   },
   {
    "duration": 1231,
    "start_time": "2021-11-07T16:18:25.233Z"
   },
   {
    "duration": 874,
    "start_time": "2021-11-07T16:18:31.338Z"
   },
   {
    "duration": 702,
    "start_time": "2021-11-07T16:18:36.523Z"
   },
   {
    "duration": 475,
    "start_time": "2021-11-07T16:18:43.290Z"
   },
   {
    "duration": 421,
    "start_time": "2021-11-07T16:18:50.971Z"
   },
   {
    "duration": 378,
    "start_time": "2021-11-07T16:19:02.814Z"
   },
   {
    "duration": 440,
    "start_time": "2021-11-07T16:19:08.228Z"
   },
   {
    "duration": 205,
    "start_time": "2021-11-07T16:19:33.112Z"
   },
   {
    "duration": 194,
    "start_time": "2021-11-07T16:19:38.428Z"
   },
   {
    "duration": 144,
    "start_time": "2021-11-07T16:19:44.804Z"
   },
   {
    "duration": 148,
    "start_time": "2021-11-07T16:19:58.374Z"
   },
   {
    "duration": 345,
    "start_time": "2021-11-07T16:20:58.409Z"
   },
   {
    "duration": 31,
    "start_time": "2021-11-07T16:22:23.588Z"
   },
   {
    "duration": 649,
    "start_time": "2021-11-07T16:29:58.138Z"
   },
   {
    "duration": 726,
    "start_time": "2021-11-07T16:30:27.121Z"
   },
   {
    "duration": 454,
    "start_time": "2021-11-07T16:31:48.627Z"
   },
   {
    "duration": 882,
    "start_time": "2021-11-07T16:31:55.724Z"
   },
   {
    "duration": 32,
    "start_time": "2021-11-07T16:35:34.086Z"
   },
   {
    "duration": 4,
    "start_time": "2021-11-07T16:45:09.917Z"
   },
   {
    "duration": 412,
    "start_time": "2021-11-07T16:49:09.289Z"
   },
   {
    "duration": 699,
    "start_time": "2021-11-07T16:49:17.619Z"
   },
   {
    "duration": 335,
    "start_time": "2021-11-07T16:49:31.967Z"
   },
   {
    "duration": 340,
    "start_time": "2021-11-07T16:49:58.317Z"
   },
   {
    "duration": 328,
    "start_time": "2021-11-07T16:50:06.632Z"
   },
   {
    "duration": 354,
    "start_time": "2021-11-07T16:50:24.000Z"
   },
   {
    "duration": 223,
    "start_time": "2021-11-07T16:51:02.849Z"
   },
   {
    "duration": 358,
    "start_time": "2021-11-07T16:51:12.596Z"
   },
   {
    "duration": 354,
    "start_time": "2021-11-07T16:51:38.049Z"
   },
   {
    "duration": 1696,
    "start_time": "2021-11-07T17:04:54.548Z"
   },
   {
    "duration": 1598,
    "start_time": "2021-11-07T17:07:06.339Z"
   },
   {
    "duration": 34,
    "start_time": "2021-11-07T17:14:31.946Z"
   },
   {
    "duration": 39,
    "start_time": "2021-11-07T17:14:54.687Z"
   },
   {
    "duration": 40,
    "start_time": "2021-11-07T17:15:12.667Z"
   },
   {
    "duration": 41,
    "start_time": "2021-11-07T17:15:17.115Z"
   },
   {
    "duration": 41,
    "start_time": "2021-11-07T17:15:31.478Z"
   },
   {
    "duration": 39,
    "start_time": "2021-11-07T17:15:37.379Z"
   },
   {
    "duration": 43,
    "start_time": "2021-11-07T17:15:45.464Z"
   },
   {
    "duration": 36,
    "start_time": "2021-11-07T17:16:29.225Z"
   },
   {
    "duration": 32,
    "start_time": "2021-11-07T17:16:50.948Z"
   },
   {
    "duration": 34,
    "start_time": "2021-11-07T17:23:28.405Z"
   },
   {
    "duration": 1170,
    "start_time": "2021-11-07T17:27:02.695Z"
   },
   {
    "duration": 57,
    "start_time": "2021-11-07T17:27:03.867Z"
   },
   {
    "duration": 10,
    "start_time": "2021-11-07T17:27:03.928Z"
   },
   {
    "duration": 33,
    "start_time": "2021-11-07T17:27:03.940Z"
   },
   {
    "duration": 5,
    "start_time": "2021-11-07T17:27:03.974Z"
   },
   {
    "duration": 12,
    "start_time": "2021-11-07T17:27:03.981Z"
   },
   {
    "duration": 28,
    "start_time": "2021-11-07T17:27:03.995Z"
   },
   {
    "duration": 260,
    "start_time": "2021-11-07T17:27:04.025Z"
   },
   {
    "duration": 73,
    "start_time": "2021-11-07T17:27:04.287Z"
   },
   {
    "duration": 20,
    "start_time": "2021-11-07T17:27:04.361Z"
   },
   {
    "duration": 256,
    "start_time": "2021-11-07T17:27:04.383Z"
   },
   {
    "duration": 155,
    "start_time": "2021-11-07T17:27:04.641Z"
   },
   {
    "duration": 15,
    "start_time": "2021-11-07T17:27:04.798Z"
   },
   {
    "duration": 371,
    "start_time": "2021-11-07T17:27:04.815Z"
   },
   {
    "duration": 40,
    "start_time": "2021-11-07T17:27:05.188Z"
   },
   {
    "duration": 3,
    "start_time": "2021-11-07T17:27:05.230Z"
   },
   {
    "duration": 530,
    "start_time": "2021-11-07T17:27:05.235Z"
   },
   {
    "duration": 107,
    "start_time": "2021-11-07T17:27:24.174Z"
   },
   {
    "duration": 9021,
    "start_time": "2021-11-07T17:27:52.581Z"
   },
   {
    "duration": 119,
    "start_time": "2021-11-07T17:28:16.011Z"
   },
   {
    "duration": 124,
    "start_time": "2021-11-07T17:28:46.095Z"
   },
   {
    "duration": 127,
    "start_time": "2021-11-07T17:29:50.972Z"
   },
   {
    "duration": 106,
    "start_time": "2021-11-07T17:30:07.884Z"
   },
   {
    "duration": 114,
    "start_time": "2021-11-07T17:30:19.017Z"
   },
   {
    "duration": 110,
    "start_time": "2021-11-07T17:31:05.799Z"
   },
   {
    "duration": 132,
    "start_time": "2021-11-07T17:31:21.381Z"
   },
   {
    "duration": 109,
    "start_time": "2021-11-07T17:31:28.374Z"
   },
   {
    "duration": 123,
    "start_time": "2021-11-07T17:31:44.984Z"
   },
   {
    "duration": 119,
    "start_time": "2021-11-07T17:32:21.321Z"
   },
   {
    "duration": 139,
    "start_time": "2021-11-07T17:32:48.683Z"
   },
   {
    "duration": 119,
    "start_time": "2021-11-07T17:34:02.805Z"
   },
   {
    "duration": 109,
    "start_time": "2021-11-07T17:34:21.380Z"
   },
   {
    "duration": 123,
    "start_time": "2021-11-07T17:34:44.096Z"
   },
   {
    "duration": 108,
    "start_time": "2021-11-07T17:36:45.765Z"
   },
   {
    "duration": 114,
    "start_time": "2021-11-07T17:36:55.381Z"
   },
   {
    "duration": 123,
    "start_time": "2021-11-07T17:40:12.091Z"
   },
   {
    "duration": 120,
    "start_time": "2021-11-07T17:40:29.405Z"
   },
   {
    "duration": 113,
    "start_time": "2021-11-07T17:41:43.436Z"
   },
   {
    "duration": 117,
    "start_time": "2021-11-07T17:42:01.156Z"
   },
   {
    "duration": 120,
    "start_time": "2021-11-07T17:43:20.432Z"
   },
   {
    "duration": 116,
    "start_time": "2021-11-07T17:44:41.515Z"
   },
   {
    "duration": 124,
    "start_time": "2021-11-07T17:45:05.868Z"
   },
   {
    "duration": 1171,
    "start_time": "2021-11-07T17:45:17.080Z"
   },
   {
    "duration": 56,
    "start_time": "2021-11-07T17:45:18.253Z"
   },
   {
    "duration": 9,
    "start_time": "2021-11-07T17:45:18.311Z"
   },
   {
    "duration": 24,
    "start_time": "2021-11-07T17:45:18.322Z"
   },
   {
    "duration": 4,
    "start_time": "2021-11-07T17:45:18.347Z"
   },
   {
    "duration": 20,
    "start_time": "2021-11-07T17:45:18.353Z"
   },
   {
    "duration": 26,
    "start_time": "2021-11-07T17:45:18.375Z"
   },
   {
    "duration": 245,
    "start_time": "2021-11-07T17:45:18.403Z"
   },
   {
    "duration": 77,
    "start_time": "2021-11-07T17:45:18.650Z"
   },
   {
    "duration": 19,
    "start_time": "2021-11-07T17:45:18.729Z"
   },
   {
    "duration": 251,
    "start_time": "2021-11-07T17:45:18.750Z"
   },
   {
    "duration": 162,
    "start_time": "2021-11-07T17:45:19.002Z"
   },
   {
    "duration": 11,
    "start_time": "2021-11-07T17:45:19.166Z"
   },
   {
    "duration": 371,
    "start_time": "2021-11-07T17:45:19.178Z"
   },
   {
    "duration": 33,
    "start_time": "2021-11-07T17:45:19.551Z"
   },
   {
    "duration": 2,
    "start_time": "2021-11-07T17:45:19.586Z"
   },
   {
    "duration": 187,
    "start_time": "2021-11-07T17:45:19.590Z"
   },
   {
    "duration": 123,
    "start_time": "2021-11-07T17:45:29.608Z"
   },
   {
    "duration": 118,
    "start_time": "2021-11-07T17:47:16.573Z"
   },
   {
    "duration": 120,
    "start_time": "2021-11-07T17:49:16.296Z"
   },
   {
    "duration": 121,
    "start_time": "2021-11-07T17:49:45.792Z"
   },
   {
    "duration": 113,
    "start_time": "2021-11-07T17:52:16.688Z"
   },
   {
    "duration": 118,
    "start_time": "2021-11-07T18:20:28.647Z"
   },
   {
    "duration": 1272,
    "start_time": "2021-11-07T18:20:35.677Z"
   },
   {
    "duration": 9,
    "start_time": "2021-11-07T18:30:18.041Z"
   },
   {
    "duration": 16,
    "start_time": "2021-11-07T18:30:44.872Z"
   },
   {
    "duration": 18,
    "start_time": "2021-11-07T18:31:04.288Z"
   },
   {
    "duration": 18,
    "start_time": "2021-11-07T18:32:01.860Z"
   },
   {
    "duration": 32592,
    "start_time": "2021-11-07T18:44:59.707Z"
   },
   {
    "duration": 261,
    "start_time": "2021-11-07T18:46:02.851Z"
   },
   {
    "duration": 270,
    "start_time": "2021-11-07T19:21:45.236Z"
   },
   {
    "duration": 263,
    "start_time": "2021-11-07T19:23:29.455Z"
   },
   {
    "duration": 270,
    "start_time": "2021-11-07T19:24:11.029Z"
   },
   {
    "duration": 272,
    "start_time": "2021-11-07T19:24:22.666Z"
   },
   {
    "duration": 275,
    "start_time": "2021-11-07T19:24:41.134Z"
   },
   {
    "duration": 6406,
    "start_time": "2021-11-07T19:29:04.342Z"
   },
   {
    "duration": 6173,
    "start_time": "2021-11-07T19:29:47.946Z"
   },
   {
    "duration": 1934,
    "start_time": "2021-11-07T19:32:02.621Z"
   },
   {
    "duration": 1656,
    "start_time": "2021-11-07T19:33:08.472Z"
   },
   {
    "duration": 1634,
    "start_time": "2021-11-07T19:33:57.806Z"
   },
   {
    "duration": 361,
    "start_time": "2021-11-07T19:38:15.164Z"
   },
   {
    "duration": 350,
    "start_time": "2021-11-07T19:38:50.316Z"
   },
   {
    "duration": 8661,
    "start_time": "2021-11-07T19:39:45.208Z"
   },
   {
    "duration": 279,
    "start_time": "2021-11-07T19:40:21.222Z"
   },
   {
    "duration": 363,
    "start_time": "2021-11-07T19:41:26.395Z"
   },
   {
    "duration": 383,
    "start_time": "2021-11-07T19:43:23.280Z"
   },
   {
    "duration": 346,
    "start_time": "2021-11-07T19:44:16.836Z"
   },
   {
    "duration": 2067,
    "start_time": "2021-11-07T19:47:47.704Z"
   },
   {
    "duration": 13,
    "start_time": "2021-11-07T19:48:12.923Z"
   },
   {
    "duration": 21,
    "start_time": "2021-11-07T19:48:21.649Z"
   },
   {
    "duration": 17,
    "start_time": "2021-11-07T19:50:34.811Z"
   },
   {
    "duration": 354,
    "start_time": "2021-11-07T19:50:58.675Z"
   },
   {
    "duration": 8821,
    "start_time": "2021-11-07T19:51:39.852Z"
   },
   {
    "duration": 444,
    "start_time": "2021-11-07T19:53:23.580Z"
   },
   {
    "duration": 433,
    "start_time": "2021-11-07T19:55:10.295Z"
   },
   {
    "duration": 438,
    "start_time": "2021-11-07T19:58:17.244Z"
   },
   {
    "duration": 380,
    "start_time": "2021-11-07T19:58:35.166Z"
   },
   {
    "duration": 20,
    "start_time": "2021-11-07T19:59:45.511Z"
   },
   {
    "duration": 410,
    "start_time": "2021-11-07T20:01:58.543Z"
   },
   {
    "duration": 15,
    "start_time": "2021-11-07T20:02:09.109Z"
   },
   {
    "duration": 391,
    "start_time": "2021-11-07T20:02:18.552Z"
   },
   {
    "duration": 1149,
    "start_time": "2021-11-07T20:03:19.611Z"
   },
   {
    "duration": 58,
    "start_time": "2021-11-07T20:03:20.762Z"
   },
   {
    "duration": 9,
    "start_time": "2021-11-07T20:03:20.822Z"
   },
   {
    "duration": 35,
    "start_time": "2021-11-07T20:03:20.833Z"
   },
   {
    "duration": 5,
    "start_time": "2021-11-07T20:03:20.869Z"
   },
   {
    "duration": 21,
    "start_time": "2021-11-07T20:03:20.875Z"
   },
   {
    "duration": 36,
    "start_time": "2021-11-07T20:03:20.897Z"
   },
   {
    "duration": 237,
    "start_time": "2021-11-07T20:03:20.936Z"
   },
   {
    "duration": 85,
    "start_time": "2021-11-07T20:03:21.177Z"
   },
   {
    "duration": 22,
    "start_time": "2021-11-07T20:03:21.265Z"
   },
   {
    "duration": 257,
    "start_time": "2021-11-07T20:03:21.306Z"
   },
   {
    "duration": 156,
    "start_time": "2021-11-07T20:03:21.565Z"
   },
   {
    "duration": 11,
    "start_time": "2021-11-07T20:03:21.723Z"
   },
   {
    "duration": 376,
    "start_time": "2021-11-07T20:03:21.736Z"
   },
   {
    "duration": 32,
    "start_time": "2021-11-07T20:03:22.115Z"
   },
   {
    "duration": 209,
    "start_time": "2021-11-07T20:03:22.149Z"
   },
   {
    "duration": 1905,
    "start_time": "2021-11-07T20:03:22.360Z"
   },
   {
    "duration": 293,
    "start_time": "2021-11-07T20:03:24.267Z"
   },
   {
    "duration": 3,
    "start_time": "2021-11-07T20:03:24.561Z"
   },
   {
    "duration": 447,
    "start_time": "2021-11-07T20:03:24.566Z"
   },
   {
    "duration": 8778,
    "start_time": "2021-11-07T20:03:25.015Z"
   },
   {
    "duration": 20,
    "start_time": "2021-11-07T20:03:45.325Z"
   },
   {
    "duration": 7,
    "start_time": "2021-11-07T20:05:59.389Z"
   },
   {
    "duration": 15,
    "start_time": "2021-11-07T20:07:07.679Z"
   },
   {
    "duration": 11,
    "start_time": "2021-11-07T20:07:18.902Z"
   },
   {
    "duration": 8565,
    "start_time": "2021-11-07T20:08:55.931Z"
   },
   {
    "duration": 389,
    "start_time": "2021-11-07T20:09:13.466Z"
   },
   {
    "duration": 12,
    "start_time": "2021-11-07T20:09:40.119Z"
   },
   {
    "duration": 6,
    "start_time": "2021-11-07T20:10:08.544Z"
   },
   {
    "duration": 403,
    "start_time": "2021-11-07T20:11:16.470Z"
   },
   {
    "duration": 15,
    "start_time": "2021-11-07T20:11:48.587Z"
   },
   {
    "duration": 4,
    "start_time": "2021-11-07T20:13:14.905Z"
   },
   {
    "duration": 14,
    "start_time": "2021-11-07T20:13:23.413Z"
   },
   {
    "duration": 780,
    "start_time": "2021-11-07T20:15:10.422Z"
   },
   {
    "duration": 383,
    "start_time": "2021-11-07T20:15:27.781Z"
   },
   {
    "duration": 352,
    "start_time": "2021-11-07T20:16:11.352Z"
   },
   {
    "duration": 113,
    "start_time": "2021-11-07T20:16:32.641Z"
   },
   {
    "duration": 6,
    "start_time": "2021-11-07T20:16:51.277Z"
   },
   {
    "duration": 5475,
    "start_time": "2021-11-07T20:17:07.299Z"
   },
   {
    "duration": 6,
    "start_time": "2021-11-07T20:17:15.356Z"
   },
   {
    "duration": 15,
    "start_time": "2021-11-07T20:18:43.520Z"
   },
   {
    "duration": 9309,
    "start_time": "2021-11-07T20:20:44.072Z"
   },
   {
    "duration": 131,
    "start_time": "2021-11-07T20:21:18.022Z"
   },
   {
    "duration": 6,
    "start_time": "2021-11-07T20:21:50.059Z"
   },
   {
    "duration": 4630,
    "start_time": "2021-11-07T20:21:55.672Z"
   },
   {
    "duration": 5,
    "start_time": "2021-11-07T20:22:04.722Z"
   },
   {
    "duration": 5,
    "start_time": "2021-11-07T20:22:39.463Z"
   },
   {
    "duration": 16,
    "start_time": "2021-11-07T20:24:04.749Z"
   },
   {
    "duration": 15,
    "start_time": "2021-11-07T20:24:33.794Z"
   },
   {
    "duration": 16,
    "start_time": "2021-11-07T20:25:38.115Z"
   },
   {
    "duration": 15,
    "start_time": "2021-11-07T20:26:16.536Z"
   },
   {
    "duration": 349,
    "start_time": "2021-11-07T20:27:12.992Z"
   },
   {
    "duration": 351,
    "start_time": "2021-11-07T20:27:30.753Z"
   },
   {
    "duration": 353,
    "start_time": "2021-11-07T20:28:16.429Z"
   },
   {
    "duration": 5,
    "start_time": "2021-11-07T20:28:39.405Z"
   },
   {
    "duration": 7,
    "start_time": "2021-11-07T20:30:44.351Z"
   },
   {
    "duration": 5,
    "start_time": "2021-11-07T20:30:51.190Z"
   },
   {
    "duration": 4,
    "start_time": "2021-11-07T20:30:57.832Z"
   },
   {
    "duration": 7,
    "start_time": "2021-11-07T20:31:17.597Z"
   },
   {
    "duration": 355,
    "start_time": "2021-11-07T20:31:52.914Z"
   },
   {
    "duration": 1184,
    "start_time": "2021-11-07T20:34:14.176Z"
   },
   {
    "duration": 57,
    "start_time": "2021-11-07T20:34:15.362Z"
   },
   {
    "duration": 9,
    "start_time": "2021-11-07T20:34:15.424Z"
   },
   {
    "duration": 21,
    "start_time": "2021-11-07T20:34:15.435Z"
   },
   {
    "duration": 4,
    "start_time": "2021-11-07T20:34:15.458Z"
   },
   {
    "duration": 5,
    "start_time": "2021-11-07T20:34:15.464Z"
   },
   {
    "duration": 48,
    "start_time": "2021-11-07T20:34:15.471Z"
   },
   {
    "duration": 248,
    "start_time": "2021-11-07T20:34:15.522Z"
   },
   {
    "duration": 81,
    "start_time": "2021-11-07T20:34:15.773Z"
   },
   {
    "duration": 21,
    "start_time": "2021-11-07T20:34:15.855Z"
   },
   {
    "duration": 249,
    "start_time": "2021-11-07T20:34:15.878Z"
   },
   {
    "duration": 160,
    "start_time": "2021-11-07T20:34:16.130Z"
   },
   {
    "duration": 18,
    "start_time": "2021-11-07T20:34:16.292Z"
   },
   {
    "duration": 363,
    "start_time": "2021-11-07T20:34:16.312Z"
   },
   {
    "duration": 40,
    "start_time": "2021-11-07T20:34:16.676Z"
   },
   {
    "duration": 193,
    "start_time": "2021-11-07T20:34:16.717Z"
   },
   {
    "duration": 1859,
    "start_time": "2021-11-07T20:34:16.912Z"
   },
   {
    "duration": 270,
    "start_time": "2021-11-07T20:34:18.772Z"
   },
   {
    "duration": 435,
    "start_time": "2021-11-07T20:34:19.044Z"
   },
   {
    "duration": 573,
    "start_time": "2021-11-07T20:34:18.908Z"
   },
   {
    "duration": 574,
    "start_time": "2021-11-07T20:34:18.909Z"
   },
   {
    "duration": 574,
    "start_time": "2021-11-07T20:34:18.910Z"
   },
   {
    "duration": 5,
    "start_time": "2021-11-07T20:34:32.242Z"
   },
   {
    "duration": 374,
    "start_time": "2021-11-07T20:34:35.237Z"
   },
   {
    "duration": 350,
    "start_time": "2021-11-07T20:34:47.558Z"
   },
   {
    "duration": 11264,
    "start_time": "2021-11-07T20:35:07.605Z"
   },
   {
    "duration": 368,
    "start_time": "2021-11-07T20:35:52.470Z"
   },
   {
    "duration": 7,
    "start_time": "2021-11-07T20:36:13.893Z"
   },
   {
    "duration": 9859,
    "start_time": "2021-11-07T20:36:46.499Z"
   },
   {
    "duration": 432,
    "start_time": "2021-11-07T20:37:06.914Z"
   },
   {
    "duration": 6,
    "start_time": "2021-11-07T20:40:10.842Z"
   },
   {
    "duration": 344,
    "start_time": "2021-11-07T20:40:38.242Z"
   },
   {
    "duration": 3,
    "start_time": "2021-11-07T20:40:45.892Z"
   },
   {
    "duration": 5,
    "start_time": "2021-11-07T20:40:54.346Z"
   },
   {
    "duration": 1239,
    "start_time": "2021-11-07T20:41:57.621Z"
   },
   {
    "duration": 58,
    "start_time": "2021-11-07T20:41:58.862Z"
   },
   {
    "duration": 9,
    "start_time": "2021-11-07T20:41:58.924Z"
   },
   {
    "duration": 22,
    "start_time": "2021-11-07T20:41:58.935Z"
   },
   {
    "duration": 4,
    "start_time": "2021-11-07T20:41:58.959Z"
   },
   {
    "duration": 7,
    "start_time": "2021-11-07T20:41:58.965Z"
   },
   {
    "duration": 47,
    "start_time": "2021-11-07T20:41:58.975Z"
   },
   {
    "duration": 246,
    "start_time": "2021-11-07T20:41:59.024Z"
   },
   {
    "duration": 82,
    "start_time": "2021-11-07T20:41:59.272Z"
   },
   {
    "duration": 19,
    "start_time": "2021-11-07T20:41:59.356Z"
   },
   {
    "duration": 255,
    "start_time": "2021-11-07T20:41:59.377Z"
   },
   {
    "duration": 162,
    "start_time": "2021-11-07T20:41:59.634Z"
   },
   {
    "duration": 15,
    "start_time": "2021-11-07T20:41:59.798Z"
   },
   {
    "duration": 368,
    "start_time": "2021-11-07T20:41:59.814Z"
   },
   {
    "duration": 42,
    "start_time": "2021-11-07T20:42:00.184Z"
   },
   {
    "duration": 204,
    "start_time": "2021-11-07T20:42:00.228Z"
   },
   {
    "duration": 1863,
    "start_time": "2021-11-07T20:42:00.434Z"
   },
   {
    "duration": 276,
    "start_time": "2021-11-07T20:42:02.299Z"
   },
   {
    "duration": 4,
    "start_time": "2021-11-07T20:42:02.577Z"
   },
   {
    "duration": 457,
    "start_time": "2021-11-07T20:42:02.583Z"
   },
   {
    "duration": 565,
    "start_time": "2021-11-07T20:42:02.477Z"
   },
   {
    "duration": 560,
    "start_time": "2021-11-07T20:42:02.483Z"
   },
   {
    "duration": 24,
    "start_time": "2021-11-07T20:42:13.834Z"
   },
   {
    "duration": 5,
    "start_time": "2021-11-07T20:42:22.729Z"
   },
   {
    "duration": 452,
    "start_time": "2021-11-07T20:43:44.913Z"
   },
   {
    "duration": 170,
    "start_time": "2021-11-07T20:44:02.474Z"
   },
   {
    "duration": 120,
    "start_time": "2021-11-07T20:44:10.511Z"
   },
   {
    "duration": 116,
    "start_time": "2021-11-07T20:44:21.616Z"
   },
   {
    "duration": 113,
    "start_time": "2021-11-07T20:44:51.619Z"
   },
   {
    "duration": 108,
    "start_time": "2021-11-07T20:45:18.200Z"
   },
   {
    "duration": 23,
    "start_time": "2021-11-07T20:45:36.947Z"
   },
   {
    "duration": 25,
    "start_time": "2021-11-07T20:45:56.219Z"
   },
   {
    "duration": 41,
    "start_time": "2021-11-07T20:46:36.943Z"
   },
   {
    "duration": 1242,
    "start_time": "2021-11-07T20:48:02.411Z"
   },
   {
    "duration": 58,
    "start_time": "2021-11-07T20:48:03.655Z"
   },
   {
    "duration": 10,
    "start_time": "2021-11-07T20:48:03.715Z"
   },
   {
    "duration": 33,
    "start_time": "2021-11-07T20:48:03.726Z"
   },
   {
    "duration": 5,
    "start_time": "2021-11-07T20:48:03.760Z"
   },
   {
    "duration": 15,
    "start_time": "2021-11-07T20:48:03.766Z"
   },
   {
    "duration": 30,
    "start_time": "2021-11-07T20:48:03.783Z"
   },
   {
    "duration": 244,
    "start_time": "2021-11-07T20:48:03.815Z"
   },
   {
    "duration": 80,
    "start_time": "2021-11-07T20:48:04.061Z"
   },
   {
    "duration": 19,
    "start_time": "2021-11-07T20:48:04.143Z"
   },
   {
    "duration": 249,
    "start_time": "2021-11-07T20:48:04.164Z"
   },
   {
    "duration": 163,
    "start_time": "2021-11-07T20:48:04.416Z"
   },
   {
    "duration": 11,
    "start_time": "2021-11-07T20:48:04.581Z"
   },
   {
    "duration": 374,
    "start_time": "2021-11-07T20:48:04.607Z"
   },
   {
    "duration": 42,
    "start_time": "2021-11-07T20:48:04.983Z"
   },
   {
    "duration": 200,
    "start_time": "2021-11-07T20:48:05.028Z"
   },
   {
    "duration": 1922,
    "start_time": "2021-11-07T20:48:05.230Z"
   },
   {
    "duration": 283,
    "start_time": "2021-11-07T20:48:07.154Z"
   },
   {
    "duration": 29,
    "start_time": "2021-11-07T20:48:07.439Z"
   },
   {
    "duration": 489,
    "start_time": "2021-11-07T21:02:42.512Z"
   },
   {
    "duration": 9771,
    "start_time": "2021-11-07T21:02:53.419Z"
   },
   {
    "duration": 16,
    "start_time": "2021-11-07T21:04:21.341Z"
   },
   {
    "duration": 13,
    "start_time": "2021-11-07T21:04:50.836Z"
   },
   {
    "duration": 15,
    "start_time": "2021-11-07T21:05:08.085Z"
   },
   {
    "duration": 20,
    "start_time": "2021-11-07T21:07:54.487Z"
   },
   {
    "duration": 356,
    "start_time": "2021-11-07T21:09:04.309Z"
   },
   {
    "duration": 13,
    "start_time": "2021-11-07T21:09:38.716Z"
   },
   {
    "duration": 13,
    "start_time": "2021-11-07T21:10:01.430Z"
   },
   {
    "duration": 12,
    "start_time": "2021-11-07T21:10:24.008Z"
   },
   {
    "duration": 339,
    "start_time": "2021-11-07T21:16:10.453Z"
   },
   {
    "duration": 20,
    "start_time": "2021-11-07T21:16:18.885Z"
   },
   {
    "duration": 7,
    "start_time": "2021-11-07T21:16:22.931Z"
   },
   {
    "duration": 19,
    "start_time": "2021-11-07T21:17:35.395Z"
   },
   {
    "duration": 8,
    "start_time": "2021-11-07T21:17:44.833Z"
   },
   {
    "duration": 491,
    "start_time": "2021-11-07T21:18:33.836Z"
   },
   {
    "duration": 20,
    "start_time": "2021-11-07T21:18:46.991Z"
   },
   {
    "duration": 22,
    "start_time": "2021-11-07T21:19:32.596Z"
   },
   {
    "duration": 22,
    "start_time": "2021-11-07T21:19:55.173Z"
   },
   {
    "duration": 1268,
    "start_time": "2021-11-07T21:21:09.176Z"
   },
   {
    "duration": 56,
    "start_time": "2021-11-07T21:21:10.446Z"
   },
   {
    "duration": 9,
    "start_time": "2021-11-07T21:21:10.504Z"
   },
   {
    "duration": 19,
    "start_time": "2021-11-07T21:21:10.515Z"
   },
   {
    "duration": 5,
    "start_time": "2021-11-07T21:21:10.535Z"
   },
   {
    "duration": 5,
    "start_time": "2021-11-07T21:21:10.542Z"
   },
   {
    "duration": 19,
    "start_time": "2021-11-07T21:21:10.548Z"
   },
   {
    "duration": 268,
    "start_time": "2021-11-07T21:21:10.570Z"
   },
   {
    "duration": 77,
    "start_time": "2021-11-07T21:21:10.840Z"
   },
   {
    "duration": 21,
    "start_time": "2021-11-07T21:21:10.918Z"
   },
   {
    "duration": 258,
    "start_time": "2021-11-07T21:21:10.940Z"
   },
   {
    "duration": 156,
    "start_time": "2021-11-07T21:21:11.200Z"
   },
   {
    "duration": 10,
    "start_time": "2021-11-07T21:21:11.359Z"
   },
   {
    "duration": 464,
    "start_time": "2021-11-07T21:21:11.370Z"
   },
   {
    "duration": 31,
    "start_time": "2021-11-07T21:21:11.836Z"
   },
   {
    "duration": 199,
    "start_time": "2021-11-07T21:21:11.869Z"
   },
   {
    "duration": 1933,
    "start_time": "2021-11-07T21:21:12.070Z"
   },
   {
    "duration": 291,
    "start_time": "2021-11-07T21:21:14.005Z"
   },
   {
    "duration": 29,
    "start_time": "2021-11-07T21:21:14.307Z"
   },
   {
    "duration": 446,
    "start_time": "2021-11-07T21:21:14.338Z"
   },
   {
    "duration": 22,
    "start_time": "2021-11-07T21:22:41.753Z"
   },
   {
    "duration": 356,
    "start_time": "2021-11-07T21:27:41.448Z"
   },
   {
    "duration": 395,
    "start_time": "2021-11-07T21:28:58.678Z"
   },
   {
    "duration": 373,
    "start_time": "2021-11-07T21:29:09.219Z"
   },
   {
    "duration": 376,
    "start_time": "2021-11-07T21:29:34.844Z"
   },
   {
    "duration": 607,
    "start_time": "2021-11-07T21:32:24.378Z"
   },
   {
    "duration": 15,
    "start_time": "2021-11-07T21:32:43.351Z"
   },
   {
    "duration": 392,
    "start_time": "2021-11-07T21:33:05.159Z"
   },
   {
    "duration": 384,
    "start_time": "2021-11-07T21:36:04.649Z"
   },
   {
    "duration": 402,
    "start_time": "2021-11-07T21:36:29.104Z"
   },
   {
    "duration": 400,
    "start_time": "2021-11-07T21:38:32.447Z"
   },
   {
    "duration": 409,
    "start_time": "2021-11-07T21:40:50.834Z"
   },
   {
    "duration": 398,
    "start_time": "2021-11-07T21:41:52.067Z"
   },
   {
    "duration": 412,
    "start_time": "2021-11-07T21:42:00.210Z"
   },
   {
    "duration": 408,
    "start_time": "2021-11-07T21:43:07.689Z"
   },
   {
    "duration": 399,
    "start_time": "2021-11-07T21:46:16.671Z"
   },
   {
    "duration": 406,
    "start_time": "2021-11-07T21:46:32.230Z"
   },
   {
    "duration": 409,
    "start_time": "2021-11-07T21:46:53.324Z"
   },
   {
    "duration": 417,
    "start_time": "2021-11-07T21:47:01.549Z"
   },
   {
    "duration": 1042,
    "start_time": "2021-11-07T21:47:30.336Z"
   },
   {
    "duration": 405,
    "start_time": "2021-11-07T21:47:38.347Z"
   },
   {
    "duration": 403,
    "start_time": "2021-11-07T21:47:54.125Z"
   },
   {
    "duration": 433,
    "start_time": "2021-11-07T21:49:01.512Z"
   },
   {
    "duration": 8,
    "start_time": "2021-11-07T21:50:02.308Z"
   },
   {
    "duration": 9,
    "start_time": "2021-11-07T21:50:04.093Z"
   },
   {
    "duration": 1666,
    "start_time": "2021-11-08T16:06:25.996Z"
   },
   {
    "duration": 69,
    "start_time": "2021-11-08T16:06:27.665Z"
   },
   {
    "duration": 12,
    "start_time": "2021-11-08T16:06:27.737Z"
   },
   {
    "duration": 44,
    "start_time": "2021-11-08T16:06:27.751Z"
   },
   {
    "duration": 5,
    "start_time": "2021-11-08T16:06:27.798Z"
   },
   {
    "duration": 6,
    "start_time": "2021-11-08T16:06:27.806Z"
   },
   {
    "duration": 29,
    "start_time": "2021-11-08T16:06:27.814Z"
   },
   {
    "duration": 395,
    "start_time": "2021-11-08T16:06:27.882Z"
   },
   {
    "duration": 119,
    "start_time": "2021-11-08T16:06:28.283Z"
   },
   {
    "duration": 30,
    "start_time": "2021-11-08T16:06:28.405Z"
   },
   {
    "duration": 424,
    "start_time": "2021-11-08T16:06:28.437Z"
   },
   {
    "duration": 254,
    "start_time": "2021-11-08T16:06:28.863Z"
   },
   {
    "duration": 14,
    "start_time": "2021-11-08T16:06:29.119Z"
   },
   {
    "duration": 601,
    "start_time": "2021-11-08T16:06:29.136Z"
   },
   {
    "duration": 61,
    "start_time": "2021-11-08T16:06:29.740Z"
   },
   {
    "duration": 270,
    "start_time": "2021-11-08T16:06:29.803Z"
   },
   {
    "duration": 2100,
    "start_time": "2021-11-08T16:06:30.083Z"
   },
   {
    "duration": 537,
    "start_time": "2021-11-08T16:06:32.186Z"
   },
   {
    "duration": 60,
    "start_time": "2021-11-08T16:06:32.725Z"
   },
   {
    "duration": 27,
    "start_time": "2021-11-08T16:06:32.787Z"
   },
   {
    "duration": 456,
    "start_time": "2021-11-08T16:06:32.816Z"
   },
   {
    "duration": 328,
    "start_time": "2021-11-08T16:06:32.947Z"
   },
   {
    "duration": 326,
    "start_time": "2021-11-08T16:06:51.206Z"
   },
   {
    "duration": 674,
    "start_time": "2021-11-08T16:06:56.408Z"
   },
   {
    "duration": 23,
    "start_time": "2021-11-08T16:06:59.063Z"
   },
   {
    "duration": 1483,
    "start_time": "2021-11-08T16:07:35.484Z"
   },
   {
    "duration": 70,
    "start_time": "2021-11-08T16:07:36.970Z"
   },
   {
    "duration": 12,
    "start_time": "2021-11-08T16:07:37.043Z"
   },
   {
    "duration": 47,
    "start_time": "2021-11-08T16:07:37.058Z"
   },
   {
    "duration": 6,
    "start_time": "2021-11-08T16:07:37.107Z"
   },
   {
    "duration": 12,
    "start_time": "2021-11-08T16:07:37.116Z"
   },
   {
    "duration": 30,
    "start_time": "2021-11-08T16:07:37.130Z"
   },
   {
    "duration": 389,
    "start_time": "2021-11-08T16:07:37.184Z"
   },
   {
    "duration": 120,
    "start_time": "2021-11-08T16:07:37.575Z"
   },
   {
    "duration": 27,
    "start_time": "2021-11-08T16:07:37.698Z"
   },
   {
    "duration": 404,
    "start_time": "2021-11-08T16:07:37.727Z"
   },
   {
    "duration": 251,
    "start_time": "2021-11-08T16:07:38.133Z"
   },
   {
    "duration": 15,
    "start_time": "2021-11-08T16:07:38.387Z"
   },
   {
    "duration": 607,
    "start_time": "2021-11-08T16:07:38.404Z"
   },
   {
    "duration": 51,
    "start_time": "2021-11-08T16:07:39.013Z"
   },
   {
    "duration": 282,
    "start_time": "2021-11-08T16:07:39.066Z"
   },
   {
    "duration": 1487,
    "start_time": "2021-11-08T16:07:39.350Z"
   },
   {
    "duration": 449,
    "start_time": "2021-11-08T16:07:40.839Z"
   },
   {
    "duration": 47,
    "start_time": "2021-11-08T16:07:41.291Z"
   },
   {
    "duration": 54,
    "start_time": "2021-11-08T16:07:41.340Z"
   },
   {
    "duration": 811,
    "start_time": "2021-11-08T16:07:41.397Z"
   },
   {
    "duration": 1471,
    "start_time": "2021-11-08T17:02:50.397Z"
   },
   {
    "duration": 84,
    "start_time": "2021-11-08T17:02:51.872Z"
   },
   {
    "duration": 12,
    "start_time": "2021-11-08T17:02:51.959Z"
   },
   {
    "duration": 31,
    "start_time": "2021-11-08T17:02:51.974Z"
   },
   {
    "duration": 7,
    "start_time": "2021-11-08T17:02:52.007Z"
   },
   {
    "duration": 7,
    "start_time": "2021-11-08T17:02:52.017Z"
   },
   {
    "duration": 77,
    "start_time": "2021-11-08T17:02:52.027Z"
   },
   {
    "duration": 378,
    "start_time": "2021-11-08T17:02:52.110Z"
   },
   {
    "duration": 118,
    "start_time": "2021-11-08T17:02:52.491Z"
   },
   {
    "duration": 28,
    "start_time": "2021-11-08T17:02:52.612Z"
   },
   {
    "duration": 415,
    "start_time": "2021-11-08T17:02:52.643Z"
   },
   {
    "duration": 246,
    "start_time": "2021-11-08T17:02:53.060Z"
   },
   {
    "duration": 14,
    "start_time": "2021-11-08T17:02:53.309Z"
   },
   {
    "duration": 598,
    "start_time": "2021-11-08T17:02:53.325Z"
   },
   {
    "duration": 61,
    "start_time": "2021-11-08T17:02:53.926Z"
   },
   {
    "duration": 274,
    "start_time": "2021-11-08T17:02:53.990Z"
   },
   {
    "duration": 2054,
    "start_time": "2021-11-08T17:02:54.268Z"
   },
   {
    "duration": 458,
    "start_time": "2021-11-08T17:02:56.324Z"
   },
   {
    "duration": 47,
    "start_time": "2021-11-08T17:02:56.785Z"
   },
   {
    "duration": 55,
    "start_time": "2021-11-08T17:02:56.835Z"
   },
   {
    "duration": 807,
    "start_time": "2021-11-08T17:02:56.894Z"
   },
   {
    "duration": 1463,
    "start_time": "2021-11-08T17:26:48.385Z"
   },
   {
    "duration": 69,
    "start_time": "2021-11-08T17:26:49.851Z"
   },
   {
    "duration": 11,
    "start_time": "2021-11-08T17:26:49.923Z"
   },
   {
    "duration": 29,
    "start_time": "2021-11-08T17:26:49.936Z"
   },
   {
    "duration": 6,
    "start_time": "2021-11-08T17:26:49.982Z"
   },
   {
    "duration": 6,
    "start_time": "2021-11-08T17:26:49.990Z"
   },
   {
    "duration": 28,
    "start_time": "2021-11-08T17:26:49.998Z"
   },
   {
    "duration": 394,
    "start_time": "2021-11-08T17:26:50.029Z"
   },
   {
    "duration": 113,
    "start_time": "2021-11-08T17:26:50.427Z"
   },
   {
    "duration": 41,
    "start_time": "2021-11-08T17:26:50.542Z"
   },
   {
    "duration": 399,
    "start_time": "2021-11-08T17:26:50.586Z"
   },
   {
    "duration": 239,
    "start_time": "2021-11-08T17:26:50.987Z"
   },
   {
    "duration": 14,
    "start_time": "2021-11-08T17:26:51.228Z"
   },
   {
    "duration": 574,
    "start_time": "2021-11-08T17:26:51.244Z"
   },
   {
    "duration": 62,
    "start_time": "2021-11-08T17:26:51.821Z"
   },
   {
    "duration": 268,
    "start_time": "2021-11-08T17:26:51.886Z"
   },
   {
    "duration": 1992,
    "start_time": "2021-11-08T17:26:52.156Z"
   },
   {
    "duration": 432,
    "start_time": "2021-11-08T17:26:54.150Z"
   },
   {
    "duration": 42,
    "start_time": "2021-11-08T17:26:54.584Z"
   },
   {
    "duration": 53,
    "start_time": "2021-11-08T17:26:54.628Z"
   },
   {
    "duration": 682,
    "start_time": "2021-11-08T17:26:54.683Z"
   },
   {
    "duration": 1428,
    "start_time": "2021-11-08T17:31:24.009Z"
   },
   {
    "duration": 67,
    "start_time": "2021-11-08T17:31:25.440Z"
   },
   {
    "duration": 12,
    "start_time": "2021-11-08T17:31:25.510Z"
   },
   {
    "duration": 24,
    "start_time": "2021-11-08T17:31:25.524Z"
   },
   {
    "duration": 6,
    "start_time": "2021-11-08T17:31:25.550Z"
   },
   {
    "duration": 31,
    "start_time": "2021-11-08T17:31:25.558Z"
   },
   {
    "duration": 34,
    "start_time": "2021-11-08T17:31:25.592Z"
   },
   {
    "duration": 393,
    "start_time": "2021-11-08T17:31:25.629Z"
   },
   {
    "duration": 114,
    "start_time": "2021-11-08T17:31:26.026Z"
   },
   {
    "duration": 40,
    "start_time": "2021-11-08T17:31:26.143Z"
   },
   {
    "duration": 386,
    "start_time": "2021-11-08T17:31:26.185Z"
   },
   {
    "duration": 243,
    "start_time": "2021-11-08T17:31:26.573Z"
   },
   {
    "duration": 19,
    "start_time": "2021-11-08T17:31:26.819Z"
   },
   {
    "duration": 610,
    "start_time": "2021-11-08T17:31:26.841Z"
   },
   {
    "duration": 60,
    "start_time": "2021-11-08T17:31:27.453Z"
   },
   {
    "duration": 268,
    "start_time": "2021-11-08T17:31:27.515Z"
   },
   {
    "duration": 1398,
    "start_time": "2021-11-08T17:31:27.785Z"
   },
   {
    "duration": 440,
    "start_time": "2021-11-08T17:31:29.186Z"
   },
   {
    "duration": 58,
    "start_time": "2021-11-08T17:31:29.629Z"
   },
   {
    "duration": 27,
    "start_time": "2021-11-08T17:31:29.689Z"
   },
   {
    "duration": 690,
    "start_time": "2021-11-08T17:31:29.719Z"
   },
   {
    "duration": 1457,
    "start_time": "2021-11-08T20:44:43.648Z"
   },
   {
    "duration": 70,
    "start_time": "2021-11-08T20:44:45.107Z"
   },
   {
    "duration": 10,
    "start_time": "2021-11-08T20:44:45.180Z"
   },
   {
    "duration": 41,
    "start_time": "2021-11-08T20:44:45.193Z"
   },
   {
    "duration": 6,
    "start_time": "2021-11-08T20:44:45.236Z"
   },
   {
    "duration": 129,
    "start_time": "2021-11-08T20:44:45.244Z"
   },
   {
    "duration": 62,
    "start_time": "2021-11-08T20:44:45.314Z"
   },
   {
    "duration": 46,
    "start_time": "2021-11-08T20:44:45.331Z"
   },
   {
    "duration": 38,
    "start_time": "2021-11-08T20:44:45.340Z"
   },
   {
    "duration": 22,
    "start_time": "2021-11-08T20:44:45.357Z"
   },
   {
    "duration": 22,
    "start_time": "2021-11-08T20:44:45.359Z"
   },
   {
    "duration": 20,
    "start_time": "2021-11-08T20:44:45.362Z"
   },
   {
    "duration": 18,
    "start_time": "2021-11-08T20:44:45.365Z"
   },
   {
    "duration": 10,
    "start_time": "2021-11-08T20:44:45.374Z"
   },
   {
    "duration": 10,
    "start_time": "2021-11-08T20:44:45.376Z"
   },
   {
    "duration": 9,
    "start_time": "2021-11-08T20:44:45.378Z"
   },
   {
    "duration": 8,
    "start_time": "2021-11-08T20:44:45.380Z"
   },
   {
    "duration": 7,
    "start_time": "2021-11-08T20:44:45.382Z"
   },
   {
    "duration": -1,
    "start_time": "2021-11-08T20:44:45.392Z"
   },
   {
    "duration": -1,
    "start_time": "2021-11-08T20:44:45.394Z"
   },
   {
    "duration": -2,
    "start_time": "2021-11-08T20:44:45.396Z"
   },
   {
    "duration": -11,
    "start_time": "2021-11-08T20:44:45.406Z"
   },
   {
    "duration": 1498,
    "start_time": "2021-11-08T20:45:30.006Z"
   },
   {
    "duration": 70,
    "start_time": "2021-11-08T20:45:31.506Z"
   },
   {
    "duration": 11,
    "start_time": "2021-11-08T20:45:31.579Z"
   },
   {
    "duration": 45,
    "start_time": "2021-11-08T20:45:31.592Z"
   },
   {
    "duration": 5,
    "start_time": "2021-11-08T20:45:31.640Z"
   },
   {
    "duration": 12,
    "start_time": "2021-11-08T20:45:31.647Z"
   },
   {
    "duration": 31,
    "start_time": "2021-11-08T20:45:31.662Z"
   },
   {
    "duration": 396,
    "start_time": "2021-11-08T20:45:31.697Z"
   },
   {
    "duration": 119,
    "start_time": "2021-11-08T20:45:32.096Z"
   },
   {
    "duration": 34,
    "start_time": "2021-11-08T20:45:32.217Z"
   },
   {
    "duration": 394,
    "start_time": "2021-11-08T20:45:32.253Z"
   },
   {
    "duration": 242,
    "start_time": "2021-11-08T20:45:32.649Z"
   },
   {
    "duration": 14,
    "start_time": "2021-11-08T20:45:32.893Z"
   },
   {
    "duration": 593,
    "start_time": "2021-11-08T20:45:32.909Z"
   },
   {
    "duration": 60,
    "start_time": "2021-11-08T20:45:33.504Z"
   },
   {
    "duration": 277,
    "start_time": "2021-11-08T20:45:33.567Z"
   },
   {
    "duration": 2030,
    "start_time": "2021-11-08T20:45:33.847Z"
   },
   {
    "duration": 454,
    "start_time": "2021-11-08T20:45:35.880Z"
   },
   {
    "duration": 45,
    "start_time": "2021-11-08T20:45:36.337Z"
   },
   {
    "duration": 59,
    "start_time": "2021-11-08T20:45:36.384Z"
   },
   {
    "duration": 690,
    "start_time": "2021-11-08T20:45:36.446Z"
   },
   {
    "duration": 1350,
    "start_time": "2021-11-09T19:33:01.171Z"
   },
   {
    "duration": 58,
    "start_time": "2021-11-09T19:33:02.523Z"
   },
   {
    "duration": 9,
    "start_time": "2021-11-09T19:33:02.586Z"
   },
   {
    "duration": 47,
    "start_time": "2021-11-09T19:33:02.597Z"
   },
   {
    "duration": 23,
    "start_time": "2021-11-09T19:33:02.646Z"
   },
   {
    "duration": 38,
    "start_time": "2021-11-09T19:33:02.671Z"
   },
   {
    "duration": 41,
    "start_time": "2021-11-09T19:33:02.713Z"
   },
   {
    "duration": 277,
    "start_time": "2021-11-09T19:33:02.757Z"
   },
   {
    "duration": 83,
    "start_time": "2021-11-09T19:33:03.035Z"
   },
   {
    "duration": 20,
    "start_time": "2021-11-09T19:33:03.120Z"
   },
   {
    "duration": 270,
    "start_time": "2021-11-09T19:33:03.141Z"
   },
   {
    "duration": 164,
    "start_time": "2021-11-09T19:33:03.413Z"
   },
   {
    "duration": 11,
    "start_time": "2021-11-09T19:33:03.579Z"
   },
   {
    "duration": 425,
    "start_time": "2021-11-09T19:33:03.607Z"
   },
   {
    "duration": 51,
    "start_time": "2021-11-09T19:33:04.034Z"
   },
   {
    "duration": 231,
    "start_time": "2021-11-09T19:33:04.087Z"
   },
   {
    "duration": 1679,
    "start_time": "2021-11-09T19:33:04.320Z"
   },
   {
    "duration": 298,
    "start_time": "2021-11-09T19:33:06.006Z"
   },
   {
    "duration": 29,
    "start_time": "2021-11-09T19:33:06.306Z"
   },
   {
    "duration": 20,
    "start_time": "2021-11-09T19:33:06.336Z"
   },
   {
    "duration": 460,
    "start_time": "2021-11-09T19:33:06.358Z"
   },
   {
    "duration": 125,
    "start_time": "2021-11-09T19:55:43.500Z"
   },
   {
    "duration": 121,
    "start_time": "2021-11-09T19:56:24.015Z"
   },
   {
    "duration": 38,
    "start_time": "2021-11-09T20:10:47.624Z"
   },
   {
    "duration": 8,
    "start_time": "2021-11-09T20:21:31.956Z"
   },
   {
    "duration": 10,
    "start_time": "2021-11-09T20:21:46.133Z"
   },
   {
    "duration": 11,
    "start_time": "2021-11-09T20:22:06.711Z"
   },
   {
    "duration": 6,
    "start_time": "2021-11-09T20:24:13.132Z"
   },
   {
    "duration": 6,
    "start_time": "2021-11-09T20:24:29.244Z"
   },
   {
    "duration": 6,
    "start_time": "2021-11-09T20:24:44.160Z"
   },
   {
    "duration": 24,
    "start_time": "2021-11-09T20:25:12.553Z"
   },
   {
    "duration": 132,
    "start_time": "2021-11-09T20:32:48.720Z"
   },
   {
    "duration": 1528,
    "start_time": "2021-11-09T20:35:48.597Z"
   },
   {
    "duration": 58,
    "start_time": "2021-11-09T20:35:50.127Z"
   },
   {
    "duration": 9,
    "start_time": "2021-11-09T20:35:50.187Z"
   },
   {
    "duration": 20,
    "start_time": "2021-11-09T20:35:50.198Z"
   },
   {
    "duration": 4,
    "start_time": "2021-11-09T20:35:50.220Z"
   },
   {
    "duration": 6,
    "start_time": "2021-11-09T20:35:50.226Z"
   },
   {
    "duration": 23,
    "start_time": "2021-11-09T20:35:50.234Z"
   },
   {
    "duration": 261,
    "start_time": "2021-11-09T20:35:50.259Z"
   },
   {
    "duration": 69,
    "start_time": "2021-11-09T20:35:50.523Z"
   },
   {
    "duration": 29,
    "start_time": "2021-11-09T20:35:50.594Z"
   },
   {
    "duration": 266,
    "start_time": "2021-11-09T20:35:50.625Z"
   },
   {
    "duration": 158,
    "start_time": "2021-11-09T20:35:50.893Z"
   },
   {
    "duration": 11,
    "start_time": "2021-11-09T20:35:51.053Z"
   },
   {
    "duration": 443,
    "start_time": "2021-11-09T20:35:51.065Z"
   },
   {
    "duration": 32,
    "start_time": "2021-11-09T20:35:51.510Z"
   },
   {
    "duration": 135,
    "start_time": "2021-11-09T20:35:51.544Z"
   },
   {
    "duration": 1988,
    "start_time": "2021-11-09T20:35:51.681Z"
   },
   {
    "duration": 285,
    "start_time": "2021-11-09T20:35:53.671Z"
   },
   {
    "duration": 30,
    "start_time": "2021-11-09T20:35:53.958Z"
   },
   {
    "duration": 35,
    "start_time": "2021-11-09T20:35:53.990Z"
   },
   {
    "duration": 458,
    "start_time": "2021-11-09T20:35:54.026Z"
   },
   {
    "duration": 75,
    "start_time": "2021-11-10T19:59:35.114Z"
   }
  ],
  "kernelspec": {
   "display_name": "Python 3",
   "language": "python",
   "name": "python3"
  },
  "language_info": {
   "codemirror_mode": {
    "name": "ipython",
    "version": 3
   },
   "file_extension": ".py",
   "mimetype": "text/x-python",
   "name": "python",
   "nbconvert_exporter": "python",
   "pygments_lexer": "ipython3",
   "version": "3.7.8"
  },
  "toc": {
   "base_numbering": 1,
   "nav_menu": {},
   "number_sections": true,
   "sideBar": true,
   "skip_h1_title": true,
   "title_cell": "Table of Contents",
   "title_sidebar": "Contents",
   "toc_cell": false,
   "toc_position": {},
   "toc_section_display": true,
   "toc_window_display": false
  }
 },
 "nbformat": 4,
 "nbformat_minor": 2
}
